{
 "cells": [
  {
   "cell_type": "markdown",
   "metadata": {},
   "source": [
    "## Classroom exercise: energy calculation\n",
    "\n",
    "### Diffusion model in 1D\n",
    "\n",
    "Description: A one-dimensional diffusion model. (Could be a gas of particles, or a bunch of crowded people in a corridor, or animals in a valley habitat...)\n",
    "\n",
    "- Agents are on a 1d axis\n",
    "- Agents do not want to be where there are other agents\n",
    "\n",
    "Implementation:\n",
    "\n",
    "- Given a vector $n$ of positive integers, and of arbitrary length\n",
    "- Compute the energy, $E(n) = \\sum_i n_i(n_i - 1)$\n",
    "- Later, we will have the likelyhood of an agent moving depend on the change in energy."
   ]
  },
  {
   "cell_type": "code",
   "execution_count": 9,
   "metadata": {
    "collapsed": false
   },
   "outputs": [
    {
     "data": {
      "text/plain": [
       "<matplotlib.text.Text at 0x10f5cce50>"
      ]
     },
     "execution_count": 9,
     "metadata": {},
     "output_type": "execute_result"
    },
    {
     "data": {
      "image/png": "[encoded data removed]",
      "text/plain": [
       "<matplotlib.figure.Figure at 0x10a1bb0d0>"
      ]
     },
     "metadata": {},
     "output_type": "display_data"
    }
   ],
   "source": [
    "import numpy as np\n",
    "from matplotlib import pyplot as plt\n",
    "%matplotlib inline\n",
    "\n",
    "density =  np.array([0, 0, 3, 5, 8, 4, 2, 1])\n",
    "fig, ax = plt.subplots()\n",
    "ax.bar(np.arange(len(density))-0.5, density)\n",
    "ax.xrange=[-0.5, len(density)-0.5]\n",
    "ax.set_ylabel(\"Particle count $n_i$\")\n",
    "ax.set_xlabel(\"Position $i$\")"
   ]
  },
  {
   "cell_type": "markdown",
   "metadata": {},
   "source": [
    "Here, the total energy due to position 2 is $3 (3-1)=6$, and due to column 7 is $1 (1-1)=0$. We need to sum these to get the\n",
    "total energy."
   ]
  },
  {
   "cell_type": "markdown",
   "metadata": {},
   "source": [
    "### Starting point\n",
    "\n",
    "Create a Python module:"
   ]
  },
  {
   "cell_type": "code",
   "execution_count": 10,
   "metadata": {
    "collapsed": true
   },
   "outputs": [],
   "source": [
    "%%bash\n",
    "mkdir -p diffusion\n",
    "touch diffusion/__init__.py"
   ]
  },
  {
   "cell_type": "markdown",
   "metadata": {},
   "source": [
    "* Implementation file: diffusion_model.py"
   ]
  },
  {
   "cell_type": "code",
   "execution_count": 11,
   "metadata": {
    "attributes": {
     "classes": [
      " python"
     ],
     "id": ""
    },
    "collapsed": false
   },
   "outputs": [
    {
     "name": "stdout",
     "output_type": "stream",
     "text": [
      "Overwriting diffusion/model.py\n"
     ]
    }
   ],
   "source": [
    "%%writefile diffusion/model.py\n",
    "def energy(density, coeff=1.0):\n",
    "  \"\"\" Energy associated with the diffusion model\n",
    "\n",
    "      Parameters\n",
    "      ----------\n",
    "\n",
    "      density: array of positive integers\n",
    "          Number of particles at each position i in the array\n",
    "      coeff: float\n",
    "          Diffusion coefficient.\n",
    "  \"\"\"\n",
    "  # implementation goes here"
   ]
  },
  {
   "cell_type": "markdown",
   "metadata": {},
   "source": [
    "* Testing file: test_diffusion_model.py"
   ]
  },
  {
   "cell_type": "code",
   "execution_count": 12,
   "metadata": {
    "attributes": {
     "classes": [
      " python"
     ],
     "id": ""
    },
    "collapsed": false
   },
   "outputs": [
    {
     "name": "stdout",
     "output_type": "stream",
     "text": [
      "Overwriting diffusion/test_model.py\n"
     ]
    }
   ],
   "source": [
    "%%writefile diffusion/test_model.py\n",
    "from model import energy\n",
    "def test_energy():\n",
    "  \"\"\" Optional description for nose reporting \"\"\"\n",
    "  # Test something"
   ]
  },
  {
   "cell_type": "markdown",
   "metadata": {},
   "source": [
    "Invoke the tests:"
   ]
  },
  {
   "cell_type": "code",
   "execution_count": 13,
   "metadata": {
    "collapsed": false
   },
   "outputs": [
    {
     "name": "stderr",
     "output_type": "stream",
     "text": [
      ".\n",
      "----------------------------------------------------------------------\n",
      "Ran 1 test in 0.000s\n",
      "\n",
      "OK\n"
     ]
    }
   ],
   "source": [
    "%%bash\n",
    "cd diffusion\n",
    "nosetests"
   ]
  },
  {
   "cell_type": "markdown",
   "metadata": {},
   "source": [
    "Now, write your code (in `model.py`), and tests (in `test_model.py`), testing as you do."
   ]
  },
  {
   "cell_type": "markdown",
   "metadata": {},
   "source": [
    "### Solution\n",
    "\n",
    "Don't look until after class!"
   ]
  },
  {
   "cell_type": "code",
   "execution_count": 14,
   "metadata": {
    "collapsed": false
   },
   "outputs": [
    {
     "name": "stdout",
     "output_type": "stream",
     "text": [
      "Overwriting diffusion/model.py\n"
     ]
    }
   ],
   "source": [
    "%%writefile diffusion/model.py\n",
    "\"\"\"  Simplistic 1-dimensional diffusion model \"\"\"\n",
    "\n",
    "def energy(density):\n",
    "  \"\"\" Energy associated with the diffusion model\n",
    "      :Parameters:\n",
    "        density: array of positive integers\n",
    "           Number of particles at each position i in the array/geometry\n",
    "  \"\"\"\n",
    "  from numpy import array, any, sum\n",
    "\n",
    "  # Make sure input is an numpy array\n",
    "  density = array(density)\n",
    "\n",
    "  # ...of the right kind (integer). Unless it is zero length, \n",
    "  #    in which case type does not matter.\n",
    "    \n",
    "  if density.dtype.kind != 'i' and len(density) > 0:\n",
    "    raise TypeError(\"Density should be a array of *integers*.\")\n",
    "  # and the right values (positive or null)\n",
    "  if any(density < 0):\n",
    "    raise ValueError(\"Density should be an array of *positive* integers.\")\n",
    "  if density.ndim != 1:\n",
    "    raise ValueError(\"Density should be an a *1-dimensional*\"+\n",
    "                     \"array of positive integers.\")\n",
    "  \n",
    "  return sum(density * (density - 1))"
   ]
  },
  {
   "cell_type": "code",
   "execution_count": 15,
   "metadata": {
    "collapsed": false
   },
   "outputs": [
    {
     "name": "stdout",
     "output_type": "stream",
     "text": [
      "Overwriting diffusion/test_model.py\n"
     ]
    }
   ],
   "source": [
    "%%writefile diffusion/test_model.py\n",
    "\"\"\" Unit tests for a diffusion model \"\"\"\n",
    "\n",
    "from nose.tools import assert_raises, assert_almost_equal\n",
    "from model import energy\n",
    "\n",
    "def test_energy_fails_on_non_integer_density():\n",
    "    with assert_raises(TypeError) as exception: \n",
    "       energy([1.0, 2, 3])\n",
    "    \n",
    "def test_energy_fails_on_negative_density():\n",
    "    with assert_raises(ValueError) as exception: energy(\n",
    "            [-1, 2, 3])\n",
    "        \n",
    "def test_energy_fails_ndimensional_density():\n",
    "    with assert_raises(ValueError) as exception: energy(\n",
    "            [[1, 2, 3], [3, 4, 5]])\n",
    "\n",
    "def test_zero_energy_cases():\n",
    "  # Zero energy at zero density\n",
    "  densities = [ [], [0], [0, 0, 0] ]\n",
    "  for density in densities: \n",
    "    assert_almost_equal(energy(density), 0)\n",
    "\n",
    "def test_derivative():\n",
    "  from numpy.random import randint\n",
    "\n",
    "  # Loop over vectors of different sizes (but not empty)\n",
    "  for vector_size in randint(1, 1000, size=30): \n",
    "\n",
    "    # Create random density of size N\n",
    "    density = randint(50, size=vector_size)\n",
    "\n",
    "    # will do derivative at this index\n",
    "    element_index = randint(vector_size)\n",
    "\n",
    "    # modified densities\n",
    "    density_plus_one = density.copy()\n",
    "    density_plus_one[element_index] += 1\n",
    "\n",
    "    # Compute and check result\n",
    "    # d(n^2-1)/dn = 2n\n",
    "    expected = (2.0*density[element_index] \n",
    "                if density[element_index] > 0 \n",
    "                else 0 )\n",
    "    actual = energy(density_plus_one) - energy(density) \n",
    "    assert_almost_equal(expected, actual)\n",
    "\n",
    "def test_derivative_no_self_energy():\n",
    "  \"\"\" If particle is alone, then its participation to energy is zero \"\"\"\n",
    "  from numpy import array\n",
    "\n",
    "  density = array([1, 0, 1, 10, 15, 0])\n",
    "  density_plus_one = density.copy()\n",
    "  density[1] += 1 \n",
    "\n",
    "  expected = 0\n",
    "  actual = energy(density_plus_one) - energy(density) \n",
    "  assert_almost_equal(expected, actual)"
   ]
  },
  {
   "cell_type": "code",
   "execution_count": 16,
   "metadata": {
    "collapsed": false
   },
   "outputs": [
    {
     "name": "stderr",
     "output_type": "stream",
     "text": [
      "......\n",
      "----------------------------------------------------------------------\n",
      "Ran 6 tests in 0.060s\n",
      "\n",
      "OK\n"
     ]
    }
   ],
   "source": [
    "%%bash\n",
    "cd diffusion\n",
    "nosetests"
   ]
  },
  {
   "cell_type": "markdown",
   "metadata": {},
   "source": [
    "### Coverage\n",
    "\n",
    "1. Comment out from exception tests in solution\n",
    "1. in solution directory, run"
   ]
  },
  {
   "cell_type": "code",
   "execution_count": 17,
   "metadata": {
    "collapsed": false
   },
   "outputs": [
    {
     "name": "stderr",
     "output_type": "stream",
     "text": [
      "diffusion.test_model.test_energy_fails_on_non_integer_density ... ok\n",
      "diffusion.test_model.test_energy_fails_on_negative_density ... ok\n",
      "diffusion.test_model.test_energy_fails_ndimensional_density ... ok\n",
      "diffusion.test_model.test_zero_energy_cases ... ok\n",
      "diffusion.test_model.test_derivative ... ok\n",
      "If particle is alone, then its participation to energy is zero ... ok\n",
      "\n",
      "Name              Stmts   Miss  Cover   Missing\n",
      "-----------------------------------------------\n",
      "diffusion.model      10      0   100%   \n",
      "----------------------------------------------------------------------\n",
      "Ran 6 tests in 0.058s\n",
      "\n",
      "OK\n"
     ]
    }
   ],
   "source": [
    "%%bash\n",
    "cd diffusion\n",
    "nosetests --with-coverage --cover-package=diffusion.model -v --cover-html"
   ]
  },
  {
   "cell_type": "markdown",
   "metadata": {},
   "source": [
    "Look at the [coverage results](diffusion/cover/index.html)"
   ]
  },
  {
   "cell_type": "code",
   "execution_count": null,
   "metadata": {
    "collapsed": true
   },
   "outputs": [],
   "source": []
  }
 ],
 "metadata": {
  "jekyll": {
   "display_name": "Energy Example"
  },
  "kernelspec": {
   "display_name": "Python 2",
   "language": "python",
   "name": "python2"
  },
  "language_info": {
   "codemirror_mode": {
    "name": "ipython",
    "version": 2
   },
   "file_extension": ".py",
   "mimetype": "text/x-python",
   "name": "python",
   "nbconvert_exporter": "python",
   "pygments_lexer": "ipython2",
   "version": "2.7.10"
  }
 },
 "nbformat": 4,
 "nbformat_minor": 0
}
