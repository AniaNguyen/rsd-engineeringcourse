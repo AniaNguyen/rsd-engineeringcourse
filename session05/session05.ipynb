{
    "metadata": {
        "name": null
    }, 
    "nbformat": 3, 
    "nbformat_minor": 0, 
    "worksheets": [
        {
            "cells": [
                {
                    "cell_type": "markdown", 
                    "metadata": {}, 
                    "source": [
                        "\n\n---\ntitle: Research Software Engineering with Python\nauthor: James Hetherington and Matt Clarkson\n---\n\n\n\n"
                    ]
                }, 
                {
                    "cell_type": "heading", 
                    "level": 2, 
                    "metadata": {}, 
                    "source": [
                        "Construction"
                    ]
                }, 
                {
                    "cell_type": "markdown", 
                    "metadata": {}, 
                    "source": [
                        ""
                    ]
                }, 
                {
                    "cell_type": "heading", 
                    "level": 3, 
                    "metadata": {}, 
                    "source": [
                        "Construction"
                    ]
                }, 
                {
                    "cell_type": "markdown", 
                    "metadata": {}, 
                    "source": [
                        "\nSoftware *design* gets a lot of press (Object orientation, UML, design patterns)\n\nIn this session we're going to look at advice on software *construction*\n\nThis lecture is available as an [IPython Notebook](http://nbviewer.ipython.org/url/development.rc.ucl.ac.uk/training/engineering/session05/../python/session05.ipynb)\n"
                    ]
                }, 
                {
                    "cell_type": "heading", 
                    "level": 3, 
                    "metadata": {}, 
                    "source": [
                        "Construction vs Design"
                    ]
                }, 
                {
                    "cell_type": "markdown", 
                    "metadata": {}, 
                    "source": [
                        "\nFor a given piece of code, there exist several different ways one could write it:\n\n* Choice of variable names\n* Choice of comments\n* Choice of layout\n\nThe consideration of these questions is the area of Software Construction.\n"
                    ]
                }, 
                {
                    "cell_type": "heading", 
                    "level": 3, 
                    "metadata": {}, 
                    "source": [
                        "Low-level design decisions"
                    ]
                }, 
                {
                    "cell_type": "markdown", 
                    "metadata": {}, 
                    "source": [
                        "\nWe will also look at some of the lower-level software design decisions in the context of this section:\n\n* Division of code into subroutines\n* Subroutine access signatures\n* Choice of data structures for readability\n"
                    ]
                }, 
                {
                    "cell_type": "heading", 
                    "level": 3, 
                    "metadata": {}, 
                    "source": [
                        "Algorithms and structures"
                    ]
                }, 
                {
                    "cell_type": "markdown", 
                    "metadata": {}, 
                    "source": [
                        "\nWe will not, in this session, be looking at decisions as to how design questions impact performance:\n\n* Choice of algorithms\n* Choice of data structures for performance\n* Choice of memory layout\n\nWe will consider these in a future session.\n"
                    ]
                }, 
                {
                    "cell_type": "heading", 
                    "level": 3, 
                    "metadata": {}, 
                    "source": [
                        "Architectural design"
                    ]
                }, 
                {
                    "cell_type": "markdown", 
                    "metadata": {}, 
                    "source": [
                        "\nWe will not, in this session, be looking at the large-scale questions of how program components interact,\nthe stategic choices that govern how software behaves at the large scale:\n\n* Where do objects get made?\n* Which objects own or access other objects?\n* How can I hide complexity in one part of the code from other parts of the code?\n\nWe will consider these in a future session.\n"
                    ]
                }, 
                {
                    "cell_type": "heading", 
                    "level": 3, 
                    "metadata": {}, 
                    "source": [
                        "Construction"
                    ]
                }, 
                {
                    "cell_type": "markdown", 
                    "metadata": {}, 
                    "source": [
                        "\nSo, we've excluded most of the exciting topics. What's left is the bricks and mortar of software:\nhow letters and symbols are used to build code which is readable.\n"
                    ]
                }, 
                {
                    "cell_type": "heading", 
                    "level": 3, 
                    "metadata": {}, 
                    "source": [
                        "Literate programming"
                    ]
                }, 
                {
                    "cell_type": "markdown", 
                    "metadata": {}, 
                    "source": [
                        "\nIn literature, books are enjoyable for different reasons:\n\n* The beauty of stories\n* The beauty of plots\n* The beauty of characters\n\n* The beauty of paragraphs\n* The beauty of sentences\n* The beauty of words\n\nSoftware has beauty at these levels too: stories and characters correspond to architecture and object design,\nplots corresponds to algorithms, but the rhythm of sentences and the choice of words corresponds\nto software construction.\n"
                    ]
                }, 
                {
                    "cell_type": "heading", 
                    "level": 3, 
                    "metadata": {}, 
                    "source": [
                        "Programming for humans"
                    ]
                }, 
                {
                    "cell_type": "markdown", 
                    "metadata": {}, 
                    "source": [
                        "\n* Remember you're programming for humans as well as computers\n* A program is the best, most rigourous way to describe an algorithm\n* Code should be pleasant to read, a form of scholarly communication\n\nRead [CodeComplete](http://www.amazon.co.uk/Code-Complete-Practical-Handbook-Construction/dp/0735619670)\n\n\n\n\n"
                    ]
                }, 
                {
                    "cell_type": "heading", 
                    "level": 2, 
                    "metadata": {}, 
                    "source": [
                        "Setup"
                    ]
                }, 
                {
                    "cell_type": "markdown", 
                    "metadata": {}, 
                    "source": [
                        "\n\n"
                    ]
                }, 
                {
                    "cell_type": "code", 
                    "collapsed": false, 
                    "input": [
                        "", 
                        "from mock import Mock", 
                        "array=[]", 
                        "agt=[]", 
                        "ws=[]", 
                        "agents=[]", 
                        "counter=0", 
                        "x=Mock()", 
                        "agent=Mock()", 
                        ""
                    ], 
                    "language": "python", 
                    "metadata": {}, 
                    "outputs": [], 
                    "prompt_number": null
                }, 
                {
                    "cell_type": "markdown", 
                    "metadata": {}, 
                    "source": [
                        "\n\n\n"
                    ]
                }, 
                {
                    "cell_type": "code", 
                    "collapsed": false, 
                    "input": [
                        "", 
                        "value=0", 
                        "bird_types=[\"Starling\", \"Hawk\"]", 
                        "import numpy as np", 
                        "from mock import Mock", 
                        "average=np.mean", 
                        "hawk=Mock()", 
                        "starling=Mock()", 
                        "Mock.__sub__=Mock()", 
                        ""
                    ], 
                    "language": "python", 
                    "metadata": {}, 
                    "outputs": [], 
                    "prompt_number": null
                }, 
                {
                    "cell_type": "markdown", 
                    "metadata": {}, 
                    "source": [
                        "\n\n\n"
                    ]
                }, 
                {
                    "cell_type": "code", 
                    "collapsed": false, 
                    "input": [
                        "", 
                        "# Define some variables to make following fragments work", 
                        "sInput=\"2.0\"", 
                        "input =\"2.0\"", 
                        "iOffset=1", 
                        "offset =1", 
                        "anothervariable=1", 
                        "flag1=True", 
                        "variable=1", 
                        "flag2=False", 
                        "def do_something(): pass", 
                        ""
                    ], 
                    "language": "python", 
                    "metadata": {}, 
                    "outputs": [], 
                    "prompt_number": null
                }, 
                {
                    "cell_type": "markdown", 
                    "metadata": {}, 
                    "source": [
                        "\n\n\n"
                    ]
                }, 
                {
                    "cell_type": "code", 
                    "collapsed": false, 
                    "input": [
                        "", 
                        "from mock import Mock", 
                        "Mock.__sub__=Mock()", 
                        "Mock.__abs__=Mock()", 
                        "chromosome=None", 
                        "start_codon=None", 
                        "x=None", 
                        "y=None", 
                        "subsequence=Mock()", 
                        "transcribe=Mock()", 
                        "ribe=Mock()", 
                        "find=Mock()", 
                        "hawk=Mock()", 
                        "starling=Mock()", 
                        "can_see=Mock()", 
                        "my_name=\"\"", 
                        "your_name=\"\"", 
                        "flag1=False", 
                        "flag2=False", 
                        "start=0.0", 
                        "end=1.0", 
                        "step=0.1", 
                        "birds=[Mock()]*2", 
                        "import numpy as np", 
                        "import math", 
                        "import yaml", 
                        "import os", 
                        ""
                    ], 
                    "language": "python", 
                    "metadata": {}, 
                    "outputs": [], 
                    "prompt_number": null
                }, 
                {
                    "cell_type": "markdown", 
                    "metadata": {}, 
                    "source": [
                        "\n\nDefine some mocks so that the notebook will work\n\n"
                    ]
                }, 
                {
                    "cell_type": "heading", 
                    "level": 2, 
                    "metadata": {}, 
                    "source": [
                        "Coding Conventions"
                    ]
                }, 
                {
                    "cell_type": "markdown", 
                    "metadata": {}, 
                    "source": [
                        ""
                    ]
                }, 
                {
                    "cell_type": "heading", 
                    "level": 3, 
                    "metadata": {}, 
                    "source": [
                        "One code, many layouts:"
                    ]
                }, 
                {
                    "cell_type": "markdown", 
                    "metadata": {}, 
                    "source": [
                        "\nConsider the following fragment of python:\n\n\n"
                    ]
                }, 
                {
                    "cell_type": "code", 
                    "collapsed": false, 
                    "input": [
                        "", 
                        "import species", 
                        "def AddToReaction(name, reaction):", 
                        "    reaction.append(species.Species(name))", 
                        ""
                    ], 
                    "language": "python", 
                    "metadata": {}, 
                    "outputs": [], 
                    "prompt_number": null
                }, 
                {
                    "cell_type": "markdown", 
                    "metadata": {}, 
                    "source": [
                        "\n\n\nthis could also have been written:\n\n\n"
                    ]
                }, 
                {
                    "cell_type": "code", 
                    "collapsed": false, 
                    "input": [
                        "", 
                        "from species import Species", 
                        "", 
                        "def add_to_reaction(a_name,", 
                        "                    a_reaction):", 
                        "  l_species = Species(a_name)", 
                        "  a_reaction.append( l_species )", 
                        ""
                    ], 
                    "language": "python", 
                    "metadata": {}, 
                    "outputs": [], 
                    "prompt_number": null
                }, 
                {
                    "cell_type": "markdown", 
                    "metadata": {}, 
                    "source": [
                        "\n\n"
                    ]
                }, 
                {
                    "cell_type": "heading", 
                    "level": 3, 
                    "metadata": {}, 
                    "source": [
                        "So many choices"
                    ]
                }, 
                {
                    "cell_type": "markdown", 
                    "metadata": {}, 
                    "source": [
                        "\n* Layout\n* Naming\n* Syntax choices\n"
                    ]
                }, 
                {
                    "cell_type": "heading", 
                    "level": 3, 
                    "metadata": {}, 
                    "source": [
                        "Layout"
                    ]
                }, 
                {
                    "cell_type": "markdown", 
                    "metadata": {}, 
                    "source": [
                        "\n\n"
                    ]
                }, 
                {
                    "cell_type": "code", 
                    "collapsed": false, 
                    "input": [
                        "", 
                        "reaction= {", 
                        "    \"reactants\": [\"H\",\"H\",\"O\"],", 
                        "    \"products\": [\"H2O\"]", 
                        "}", 
                        ""
                    ], 
                    "language": "python", 
                    "metadata": {}, 
                    "outputs": [], 
                    "prompt_number": null
                }, 
                {
                    "cell_type": "markdown", 
                    "metadata": {}, 
                    "source": [
                        "\n\n\n"
                    ]
                }, 
                {
                    "cell_type": "code", 
                    "collapsed": false, 
                    "input": [
                        "", 
                        "reaction2=(", 
                        "{", 
                        "  \"reactants\":", 
                        "  [", 
                        "    \"H\",", 
                        "    \"H\",", 
                        "    \"O\"", 
                        "  ],", 
                        "  \"products\":", 
                        "  [", 
                        "    \"H2O\"", 
                        "  ]", 
                        "}", 
                        ")", 
                        ""
                    ], 
                    "language": "python", 
                    "metadata": {}, 
                    "outputs": [], 
                    "prompt_number": null
                }, 
                {
                    "cell_type": "markdown", 
                    "metadata": {}, 
                    "source": [
                        "\n\n"
                    ]
                }, 
                {
                    "cell_type": "heading", 
                    "level": 3, 
                    "metadata": {}, 
                    "source": [
                        "Layout choices"
                    ]
                }, 
                {
                    "cell_type": "markdown", 
                    "metadata": {}, 
                    "source": [
                        "\n* Brace style\n* Line length\n* Indentation\n* Whitespace/Tabs\n"
                    ]
                }, 
                {
                    "cell_type": "heading", 
                    "level": 3, 
                    "metadata": {}, 
                    "source": [
                        "Naming Conventions"
                    ]
                }, 
                {
                    "cell_type": "markdown", 
                    "metadata": {}, 
                    "source": [
                        "\n\n"
                    ]
                }, 
                {
                    "cell_type": "code", 
                    "collapsed": false, 
                    "input": [
                        "", 
                        "class ClassName(object):", 
                        "    def methodName(variable_name):", 
                        "        instance_variable=variable_name", 
                        ""
                    ], 
                    "language": "python", 
                    "metadata": {}, 
                    "outputs": [], 
                    "prompt_number": null
                }, 
                {
                    "cell_type": "markdown", 
                    "metadata": {}, 
                    "source": [
                        "\n\n\n"
                    ]
                }, 
                {
                    "cell_type": "code", 
                    "collapsed": false, 
                    "input": [
                        "", 
                        "class class_name(object):", 
                        "    def method_name(a_variable):", 
                        "        m_instance_variable=a_variable", 
                        ""
                    ], 
                    "language": "python", 
                    "metadata": {}, 
                    "outputs": [], 
                    "prompt_number": null
                }, 
                {
                    "cell_type": "markdown", 
                    "metadata": {}, 
                    "source": [
                        "\n\n"
                    ]
                }, 
                {
                    "cell_type": "heading", 
                    "level": 3, 
                    "metadata": {}, 
                    "source": [
                        "Hungarian Notation"
                    ]
                }, 
                {
                    "cell_type": "markdown", 
                    "metadata": {}, 
                    "source": [
                        "\nPrefix denotes *type*:\n\n\n"
                    ]
                }, 
                {
                    "cell_type": "code", 
                    "collapsed": false, 
                    "input": [
                        "", 
                        "fNumber= float(sInput) + iOffset", 
                        "number = float(input)  + offset", 
                        ""
                    ], 
                    "language": "python", 
                    "metadata": {}, 
                    "outputs": [], 
                    "prompt_number": null
                }, 
                {
                    "cell_type": "markdown", 
                    "metadata": {}, 
                    "source": [
                        "\n\n"
                    ]
                }, 
                {
                    "cell_type": "heading", 
                    "level": 3, 
                    "metadata": {}, 
                    "source": [
                        "Newlines"
                    ]
                }, 
                {
                    "cell_type": "markdown", 
                    "metadata": {}, 
                    "source": [
                        "\n* Newlines make code easier to read\n* Newlines make less code fit on a screen\n\nUse newlines to describe your code's *rhythm*\n"
                    ]
                }, 
                {
                    "cell_type": "heading", 
                    "level": 3, 
                    "metadata": {}, 
                    "source": [
                        "Syntax Choices"
                    ]
                }, 
                {
                    "cell_type": "markdown", 
                    "metadata": {}, 
                    "source": [
                        "\n\n"
                    ]
                }, 
                {
                    "cell_type": "code", 
                    "collapsed": false, 
                    "input": [
                        "", 
                        "anothervariable+=1", 
                        "if ((variable==anothervariable) and flag1 or flag2): do_something()", 
                        ""
                    ], 
                    "language": "python", 
                    "metadata": {}, 
                    "outputs": [], 
                    "prompt_number": null
                }, 
                {
                    "cell_type": "markdown", 
                    "metadata": {}, 
                    "source": [
                        "\n\n\n"
                    ]
                }, 
                {
                    "cell_type": "code", 
                    "collapsed": false, 
                    "input": [
                        "", 
                        "anothervariable = anothervariable + 1", 
                        "variable_equality = (variable == anothervariable);", 
                        "if ((variable_equality and flag1) or flag2):", 
                        "   do_something()", 
                        ""
                    ], 
                    "language": "python", 
                    "metadata": {}, 
                    "outputs": [], 
                    "prompt_number": null
                }, 
                {
                    "cell_type": "markdown", 
                    "metadata": {}, 
                    "source": [
                        "\n\n"
                    ]
                }, 
                {
                    "cell_type": "heading", 
                    "level": 3, 
                    "metadata": {}, 
                    "source": [
                        "Syntax choices"
                    ]
                }, 
                {
                    "cell_type": "markdown", 
                    "metadata": {}, 
                    "source": [
                        "\n* Explicit operator precedence\n* Compound expressions\n* Package import choices\n"
                    ]
                }, 
                {
                    "cell_type": "heading", 
                    "level": 3, 
                    "metadata": {}, 
                    "source": [
                        "Coding Conventions"
                    ]
                }, 
                {
                    "cell_type": "markdown", 
                    "metadata": {}, 
                    "source": [
                        "\nYou should try to have an agreed policy for your team for these matters.\n\nIf your language sponsor has a standard policy, use that.\n\nE.g. [Python PEP8](http://legacy.python.org/dev/peps/pep-0008/)\n\nE.g. [Google's guide for R](https://google-styleguide.googlecode.com/svn/trunk/Rguide.xml)\n\nE.g. [Google's style guide for C++](http://google-styleguide.googlecode.com/svn/trunk/cppguide.xml)\n"
                    ]
                }, 
                {
                    "cell_type": "heading", 
                    "level": 3, 
                    "metadata": {}, 
                    "source": [
                        "Lint"
                    ]
                }, 
                {
                    "cell_type": "markdown", 
                    "metadata": {}, 
                    "source": [
                        "\nThere are automated tools which enforce coding conventions and check for common mistakes.\n\nThese are called *linters*\n\nE.g. `pip install` [pep8](https://pypi.python.org/pypi/pep8)\n\n\n"
                    ]
                }, 
                {
                    "cell_type": "code", 
                    "collapsed": false, 
                    "input": [
                        "%%bash", 
                        "pep8 conventions.py | head -n 10", 
                        ""
                    ], 
                    "language": "python", 
                    "metadata": {}, 
                    "outputs": [], 
                    "prompt_number": null
                }, 
                {
                    "cell_type": "markdown", 
                    "metadata": {}, 
                    "source": [
                        "\n\n\nIt is a good idea to run a linter before every commit, or include it in your CI tests.\n\n"
                    ]
                }, 
                {
                    "cell_type": "heading", 
                    "level": 2, 
                    "metadata": {}, 
                    "source": [
                        "Comments"
                    ]
                }, 
                {
                    "cell_type": "markdown", 
                    "metadata": {}, 
                    "source": [
                        ""
                    ]
                }, 
                {
                    "cell_type": "heading", 
                    "level": 3, 
                    "metadata": {}, 
                    "source": [
                        "Why comment?"
                    ]
                }, 
                {
                    "cell_type": "markdown", 
                    "metadata": {}, 
                    "source": [
                        "\n* You're writing code for people, as well as computers.\n* Comments can help you build code, by representing your design\n* Comments explain subtleties in the code which are not obvious from the syntax\n* Comments explain *why* you wrote the code the way you did\n"
                    ]
                }, 
                {
                    "cell_type": "heading", 
                    "level": 3, 
                    "metadata": {}, 
                    "source": [
                        "Bad Comments"
                    ]
                }, 
                {
                    "cell_type": "markdown", 
                    "metadata": {}, 
                    "source": [
                        "\n\"I write good code, you can tell by the number of comments.\"\n\nThis is wrong.\n"
                    ]
                }, 
                {
                    "cell_type": "heading", 
                    "level": 3, 
                    "metadata": {}, 
                    "source": [
                        "Comments which are obvious"
                    ]
                }, 
                {
                    "cell_type": "markdown", 
                    "metadata": {}, 
                    "source": [
                        "\n\n"
                    ]
                }, 
                {
                    "cell_type": "code", 
                    "collapsed": false, 
                    "input": [
                        "", 
                        "counter=counter+1 # Increment the counter", 
                        "for element in array: # Loop over elements", 
                        "    pass", 
                        ""
                    ], 
                    "language": "python", 
                    "metadata": {}, 
                    "outputs": [], 
                    "prompt_number": null
                }, 
                {
                    "cell_type": "markdown", 
                    "metadata": {}, 
                    "source": [
                        "\n\n"
                    ]
                }, 
                {
                    "cell_type": "heading", 
                    "level": 3, 
                    "metadata": {}, 
                    "source": [
                        "Comments which could be replaced by better style"
                    ]
                }, 
                {
                    "cell_type": "markdown", 
                    "metadata": {}, 
                    "source": [
                        "\n\n"
                    ]
                }, 
                {
                    "cell_type": "code", 
                    "collapsed": false, 
                    "input": [
                        "", 
                        "for i in range(len(agt)): #for each agent", 
                        "  agt[i].theta+=ws[i]     # Increment the angle of each agent", 
                        "                          #by its angular velocity", 
                        "  agt[i].x+=r*sin(agt[i].theta) #Move the agent by the step-size", 
                        "  agt[i].y+=r*cos(agt[i].theta) #r in the direction indicated", 
                        ""
                    ], 
                    "language": "python", 
                    "metadata": {}, 
                    "outputs": [], 
                    "prompt_number": null
                }, 
                {
                    "cell_type": "markdown", 
                    "metadata": {}, 
                    "source": [
                        "\n\n\nIs good. But:\n\n\n"
                    ]
                }, 
                {
                    "cell_type": "code", 
                    "collapsed": false, 
                    "input": [
                        "", 
                        "for agent in agents:", 
                        "  agent.turn()", 
                        "  agent.move()", 
                        "", 
                        "class Agent(object):", 
                        "   def turn(self):", 
                        "        self.direction+=self.angular_velocity;", 
                        "   def move(self):", 
                        "       self.x+=Agent.step_length*sin(self.direction)", 
                        "       self.y+=Agent.step_length*cos(self.direction)", 
                        ""
                    ], 
                    "language": "python", 
                    "metadata": {}, 
                    "outputs": [], 
                    "prompt_number": null
                }, 
                {
                    "cell_type": "markdown", 
                    "metadata": {}, 
                    "source": [
                        "\n\n\nis probably better.\n"
                    ]
                }, 
                {
                    "cell_type": "heading", 
                    "level": 3, 
                    "metadata": {}, 
                    "source": [
                        "Comments vs expressive code "
                    ]
                }, 
                {
                    "cell_type": "markdown", 
                    "metadata": {}, 
                    "source": [
                        "\n> The proper use of comments is to compensate for our failure to express yourself in code. \nNote that I used the word failure. I meant it. Comments are always failures.\n\n-- Robert Martin, [Clean Code](http://www.amazon.co.uk/Clean-Code-Handbook-Software-Craftsmanship/dp/0132350882).\n\nI wouldn't disagree, but still, writing \"self-documenting\" code is very hard, so do comment if you're unsure!\n"
                    ]
                }, 
                {
                    "cell_type": "heading", 
                    "level": 3, 
                    "metadata": {}, 
                    "source": [
                        "Comments which belong in an issue tracker"
                    ]
                }, 
                {
                    "cell_type": "markdown", 
                    "metadata": {}, 
                    "source": [
                        "\n\n"
                    ]
                }, 
                {
                    "cell_type": "code", 
                    "collapsed": false, 
                    "input": [
                        "", 
                        "x.clear()# Code crashes here sometimes", 
                        "class Agent(object):", 
                        "    pass", 
                        "    # TODO: Implement pretty-printer method", 
                        ""
                    ], 
                    "language": "python", 
                    "metadata": {}, 
                    "outputs": [], 
                    "prompt_number": null
                }, 
                {
                    "cell_type": "markdown", 
                    "metadata": {}, 
                    "source": [
                        "\n\n\nBUT comments that reference issues in the tracker can be good.\n\nE.g.\n\n\n"
                    ]
                }, 
                {
                    "cell_type": "code", 
                    "collapsed": false, 
                    "input": [
                        "", 
                        "if x.safe_to_clear(): # Guard added as temporary workaround for #32", 
                        "   x.clear()", 
                        ""
                    ], 
                    "language": "python", 
                    "metadata": {}, 
                    "outputs": [], 
                    "prompt_number": null
                }, 
                {
                    "cell_type": "markdown", 
                    "metadata": {}, 
                    "source": [
                        "\n\n\nis OK.\n"
                    ]
                }, 
                {
                    "cell_type": "heading", 
                    "level": 3, 
                    "metadata": {}, 
                    "source": [
                        "Comments which only make sense to the author today"
                    ]
                }, 
                {
                    "cell_type": "markdown", 
                    "metadata": {}, 
                    "source": [
                        "\n\n"
                    ]
                }, 
                {
                    "cell_type": "code", 
                    "collapsed": false, 
                    "input": [
                        "", 
                        "agent.turn() # Turtle Power!", 
                        "agent.move()", 
                        "agents[:]=[]# Shredder!", 
                        ""
                    ], 
                    "language": "python", 
                    "metadata": {}, 
                    "outputs": [], 
                    "prompt_number": null
                }, 
                {
                    "cell_type": "markdown", 
                    "metadata": {}, 
                    "source": [
                        "\n\n"
                    ]
                }, 
                {
                    "cell_type": "heading", 
                    "level": 3, 
                    "metadata": {}, 
                    "source": [
                        "Comments which are unpublishable"
                    ]
                }, 
                {
                    "cell_type": "markdown", 
                    "metadata": {}, 
                    "source": [
                        "\n\n"
                    ]
                }, 
                {
                    "cell_type": "code", 
                    "collapsed": false, 
                    "input": [
                        "", 
                        "# Stupid supervisor made me write this code", 
                        "# So I did it while very very drunk.", 
                        ""
                    ], 
                    "language": "python", 
                    "metadata": {}, 
                    "outputs": [], 
                    "prompt_number": null
                }, 
                {
                    "cell_type": "markdown", 
                    "metadata": {}, 
                    "source": [
                        "\n\n"
                    ]
                }, 
                {
                    "cell_type": "heading", 
                    "level": 2, 
                    "metadata": {}, 
                    "source": [
                        "Good comments"
                    ]
                }, 
                {
                    "cell_type": "markdown", 
                    "metadata": {}, 
                    "source": [
                        ""
                    ]
                }, 
                {
                    "cell_type": "heading", 
                    "level": 3, 
                    "metadata": {}, 
                    "source": [
                        "Pedagogical comments"
                    ]
                }, 
                {
                    "cell_type": "markdown", 
                    "metadata": {}, 
                    "source": [
                        "\nCode that *is* good style, but you're not familiar with, or \nthat colleagues might not be familiar with\n\n\n"
                    ]
                }, 
                {
                    "cell_type": "code", 
                    "collapsed": false, 
                    "input": [
                        "", 
                        "# This is how you define a decorator in python", 
                        "def double(decorated_function):", 
                        "   # Here, the result function forms a closure over ", 
                        "   # the decorated function", 
                        "   def result_function(input):", 
                        "       return decorated_function(decorated_function(input))", 
                        "   # The returned result is a function", 
                        "   return result_function", 
                        "", 
                        "@double", 
                        "def try_me_twice():", 
                        "    pass", 
                        ""
                    ], 
                    "language": "python", 
                    "metadata": {}, 
                    "outputs": [], 
                    "prompt_number": null
                }, 
                {
                    "cell_type": "markdown", 
                    "metadata": {}, 
                    "source": [
                        "\n\n"
                    ]
                }, 
                {
                    "cell_type": "heading", 
                    "level": 3, 
                    "metadata": {}, 
                    "source": [
                        "Other good comments"
                    ]
                }, 
                {
                    "cell_type": "markdown", 
                    "metadata": {}, 
                    "source": [
                        "\nComments which explain coding definitions or reasons for programming choices.\n\n"
                    ]
                }, 
                {
                    "cell_type": "code", 
                    "collapsed": false, 
                    "input": [
                        "", 
                        "def __init__(self):", 
                        "    self.angle=0 # clockwise from +ve y-axis", 
                        "    nonzero_indices = [] # Use sparse model as memory constrained", 
                        ""
                    ], 
                    "language": "python", 
                    "metadata": {}, 
                    "outputs": [], 
                    "prompt_number": null
                }, 
                {
                    "cell_type": "markdown", 
                    "metadata": {}, 
                    "source": [
                        "\n\n\n\n"
                    ]
                }, 
                {
                    "cell_type": "heading", 
                    "level": 2, 
                    "metadata": {}, 
                    "source": [
                        "Documentation"
                    ]
                }, 
                {
                    "cell_type": "markdown", 
                    "metadata": {}, 
                    "source": [
                        ""
                    ]
                }, 
                {
                    "cell_type": "heading", 
                    "level": 3, 
                    "metadata": {}, 
                    "source": [
                        "Documentation is hard"
                    ]
                }, 
                {
                    "cell_type": "markdown", 
                    "metadata": {}, 
                    "source": [
                        "\n* Good documentation is hard, and very expensive.\n* Bad documentation is detrimental.\n* Good documentation quickly becomes bad if not kept up-to-date with code changes.\n* Professional companies pay large teams of documentation writers.\n"
                    ]
                }, 
                {
                    "cell_type": "heading", 
                    "level": 3, 
                    "metadata": {}, 
                    "source": [
                        "Prefer readable code with tests and vignettes"
                    ]
                }, 
                {
                    "cell_type": "markdown", 
                    "metadata": {}, 
                    "source": [
                        "\nIf you don't have the capacity to maintain great documentation,\nfocus on:\n\n* Readable code\n* Automated tests\n* Small code samples demonstrating how to use the api\n"
                    ]
                }, 
                {
                    "cell_type": "heading", 
                    "level": 3, 
                    "metadata": {}, 
                    "source": [
                        "Comment-based Documentation tools"
                    ]
                }, 
                {
                    "cell_type": "markdown", 
                    "metadata": {}, 
                    "source": [
                        "\nDocumentation tools can produce extensive documentation about your code by pulling out comments near the beginning of functions,\ntogether with the signature, into a web page.\n\nThe most popular is [Doxygen](http://www.stack.nl/~dimitri/doxygen/)\n\n[Have a look at an example of some Doxygen output](\nhttp://www.bempp.org/cppref/2.0/group__abstract__boundary__operators.html)\n\n[Sphinx](http://sphinx-doc.org/) is nice for Python, and works with C++ as well.\nHere's some [Sphinx-generated output](http://www.bempp.org/pythonref/2.0/bempp_visualization2.html)\nand the [corresponding source code](https://github.com/bempp/bempp/blob/master/python/bempp/visualization2.py)\n[Breathe](http://michaeljones.github.io/breathe/ ) can be used to make Sphinx and Doxygen work together.\n\n[Roxygen](http://www.rstudio.com/ide/docs/packages/documentation) is good for R.\n"
                    ]
                }, 
                {
                    "cell_type": "heading", 
                    "level": 2, 
                    "metadata": {}, 
                    "source": [
                        "Example of using Sphinx"
                    ]
                }, 
                {
                    "cell_type": "markdown", 
                    "metadata": {}, 
                    "source": [
                        ""
                    ]
                }, 
                {
                    "cell_type": "heading", 
                    "level": 3, 
                    "metadata": {}, 
                    "source": [
                        "Write some docstrings"
                    ]
                }, 
                {
                    "cell_type": "markdown", 
                    "metadata": {}, 
                    "source": [
                        "\nWe're going to document our \"greeter\" example using docstrings with Sphinx.\n\nThere are various conventions for how to write docstrings, but the native sphinx one doesn't look nice when used with\nthe built in `help` system.\n\nSo we'll use the [numpydoc](https://github.com/numpy/numpy/blob/master/doc/HOWTO_DOCUMENT.rst.txt) sphinx extension to\nallow us to use the docstring conventions from NumPy.\n\n\n"
                    ]
                }, 
                {
                    "cell_type": "code", 
                    "collapsed": false, 
                    "input": [
                        "", 
                        "    \"\"\" Generate a greeting string for a person.", 
                        "", 
                        "    Parameters", 
                        "    ----------", 
                        "    personal: str", 
                        "        A given name, such as Will or Jean-Luc", 
                        "    family: str", 
                        "        A family name, such as Riker or Picard", 
                        "    title: str", 
                        "        An optional title, such as Captain or Reverend", 
                        "    polite: bool", 
                        "        True for a formal greeting, False for informal.", 
                        "", 
                        "    Returns", 
                        "    -------", 
                        "    string", 
                        "        An appropriate greeting", 
                        "    \"\"\"", 
                        ""
                    ], 
                    "language": "python", 
                    "metadata": {}, 
                    "outputs": [], 
                    "prompt_number": null
                }, 
                {
                    "cell_type": "markdown", 
                    "metadata": {}, 
                    "source": [
                        "\n\n"
                    ]
                }, 
                {
                    "cell_type": "heading", 
                    "level": 3, 
                    "metadata": {}, 
                    "source": [
                        "Set up sphinx"
                    ]
                }, 
                {
                    "cell_type": "markdown", 
                    "metadata": {}, 
                    "source": [
                        "\nInvoke the [sphinx-quickstart](http://sphinx-doc.org/tutorial.html) command to build Sphinx's\nconfiguration file automatically based on questions\nat the command line:\n"
                    ]
                }, 
                {
                    "cell_type": "raw", 
                    "metadata": {}, 
                    "source": [
                        "Welcome to the Sphinx 1.2.3 quickstart utility.\n\nPlease enter values for the following settings (just press Enter to\naccept a default value, if one is given in brackets).\n\nEnter the root path for documentation.\n> Root path for the documentation [.]:"
                    ]
                }, 
                {
                    "cell_type": "markdown", 
                    "metadata": {}, 
                    "source": [
                        "\nand then look at and adapt the generated config, a file called\n[conf.py](Add link) in the root of the project.\n\n\n"
                    ]
                }, 
                {
                    "cell_type": "code", 
                    "collapsed": false, 
                    "input": [
                        "", 
                        "# Add any Sphinx extension module names here, as strings. They can be", 
                        "# extensions coming with Sphinx (named 'sphinx.ext.*') or your custom", 
                        "# ones.", 
                        "extensions = [", 
                        "    'sphinx.ext.autodoc',  # Support automatic documentation", 
                        "    'sphinx.ext.coverage', # Automatically check if functions are documented", 
                        "    'sphinx.ext.mathjax',  # Allow support for algebra", 
                        "    'sphinx.ext.viewcode', # Include the source code in documentation", 
                        "    'numpydoc'             # Support NumPy style docstrings", 
                        "]", 
                        ""
                    ], 
                    "language": "python", 
                    "metadata": {}, 
                    "outputs": [], 
                    "prompt_number": null
                }, 
                {
                    "cell_type": "markdown", 
                    "metadata": {}, 
                    "source": [
                        "\n\n"
                    ]
                }, 
                {
                    "cell_type": "heading", 
                    "level": 3, 
                    "metadata": {}, 
                    "source": [
                        "Define the root documentation page"
                    ]
                }, 
                {
                    "cell_type": "markdown", 
                    "metadata": {}, 
                    "source": [
                        "\nSphinx uses [RestructuredText](http://docutils.sourceforge.net/rst.html) another wiki markup format similar to Markdown.\n\nYou define an \"index.rst\" file to contain any preamble text you want. The rest is autogenerated by `sphinx-quickstart`\n\n\n\n\n\n"
                    ]
                }, 
                {
                    "cell_type": "code", 
                    "collapsed": false, 
                    "input": [
                        "%%writefile greetings/index.rst", 
                        "Welcome to Greetings's documentation!", 
                        "=====================================", 
                        "", 
                        "Simple \"Hello, James\" module developed to teach research software engineering.", 
                        "", 
                        ".. autofunction:: greetings.greeter.greet", 
                        ""
                    ], 
                    "language": "python", 
                    "metadata": {}, 
                    "outputs": [], 
                    "prompt_number": null
                }, 
                {
                    "cell_type": "markdown", 
                    "metadata": {}, 
                    "source": [
                        "\n\n"
                    ]
                }, 
                {
                    "cell_type": "heading", 
                    "level": 3, 
                    "metadata": {}, 
                    "source": [
                        "\u00a0Run sphinx"
                    ]
                }, 
                {
                    "cell_type": "markdown", 
                    "metadata": {}, 
                    "source": [
                        "\nWe can run Sphinx using:\n"
                    ]
                }, 
                {
                    "cell_type": "raw", 
                    "metadata": {}, 
                    "source": [
                        "sphinx-build . doc"
                    ]
                }, 
                {
                    "cell_type": "markdown", 
                    "metadata": {}, 
                    "source": [
                        ""
                    ]
                }, 
                {
                    "cell_type": "heading", 
                    "level": 3, 
                    "metadata": {}, 
                    "source": [
                        "Sphinx output"
                    ]
                }, 
                {
                    "cell_type": "markdown", 
                    "metadata": {}, 
                    "source": [
                        "\nSphinx's output is [html](../python/GreetingsDoc/). \nWe've just created a simple single function's documentation, but Sphinx will create\nmultiple nested pages of documentation automatically for many functions.\n\n\n\n"
                    ]
                }, 
                {
                    "cell_type": "heading", 
                    "level": 2, 
                    "metadata": {}, 
                    "source": [
                        "Refactoring"
                    ]
                }, 
                {
                    "cell_type": "markdown", 
                    "metadata": {}, 
                    "source": [
                        ""
                    ]
                }, 
                {
                    "cell_type": "heading", 
                    "level": 3, 
                    "metadata": {}, 
                    "source": [
                        "Refactoring"
                    ]
                }, 
                {
                    "cell_type": "markdown", 
                    "metadata": {}, 
                    "source": [
                        "\nTo refactor is to:\n\n* Make a change to the design of some software\n* Which improves the structure or readability\n* But which leaves the actual behaviour of the program completely unchanged.\n\n"
                    ]
                }, 
                {
                    "cell_type": "heading", 
                    "level": 3, 
                    "metadata": {}, 
                    "source": [
                        "A word from the Master"
                    ]
                }, 
                {
                    "cell_type": "markdown", 
                    "metadata": {}, 
                    "source": [
                        "\n> Refactoring is a controlled technique for improving the design of an existing code base. \nIts essence is applying a series of small behavior-preserving transformations, each of which \"too small to be worth doing\". \nHowever the cumulative effect of each of these transformations is quite significant. \nBy doing them in small steps you reduce the risk of introducing errors. \nYou also avoid having the system broken while you are carrying out the restructuring - \nwhich allows you to gradually refactor a system over an extended period of time.\n\n-- Martin Fowler\n"
                    ]
                }, 
                {
                    "cell_type": "heading", 
                    "level": 3, 
                    "metadata": {}, 
                    "source": [
                        "List of known refactorings"
                    ]
                }, 
                {
                    "cell_type": "markdown", 
                    "metadata": {}, 
                    "source": [
                        "\nThe next few sections will present some known refactorings\n\nWe'll show before and after code, present any new coding techniques needed to do the refactoring,\nand describe *code smells*: how you know you need to refactor.\n"
                    ]
                }, 
                {
                    "cell_type": "heading", 
                    "level": 3, 
                    "metadata": {}, 
                    "source": [
                        "Replace magic numbers with constants"
                    ]
                }, 
                {
                    "cell_type": "markdown", 
                    "metadata": {}, 
                    "source": [
                        "\nSmell: Raw numbers appear in your code\n\nBefore: \n\n\n"
                    ]
                }, 
                {
                    "cell_type": "code", 
                    "collapsed": false, 
                    "input": [
                        "", 
                        "data= [math.sin(x) for x in np.arange(0,3.141,3.141/100)]", 
                        "result= [0]*100", 
                        "for i in range(100):", 
                        "    for j in range(i+1, 100):", 
                        "        result[j] += data[i] * data[i-j] / 100", 
                        ""
                    ], 
                    "language": "python", 
                    "metadata": {}, 
                    "outputs": [], 
                    "prompt_number": null
                }, 
                {
                    "cell_type": "markdown", 
                    "metadata": {}, 
                    "source": [
                        "\n\n\nafter:\n\n\n"
                    ]
                }, 
                {
                    "cell_type": "code", 
                    "collapsed": false, 
                    "input": [
                        "", 
                        "resolution=100", 
                        "pi=3.141", 
                        "data= [math.sin(x) for x in np.arange(0,pi,pi/resolution)]", 
                        "result= [0]*resolution", 
                        "for i in range(resolution):", 
                        "    for j in range(i + 1, resolution):", 
                        "        result[j] += data[i] * data[i-j] / resolution", 
                        ""
                    ], 
                    "language": "python", 
                    "metadata": {}, 
                    "outputs": [], 
                    "prompt_number": null
                }, 
                {
                    "cell_type": "markdown", 
                    "metadata": {}, 
                    "source": [
                        "\n\n"
                    ]
                }, 
                {
                    "cell_type": "heading", 
                    "level": 3, 
                    "metadata": {}, 
                    "source": [
                        "Replace repeated code with a function"
                    ]
                }, 
                {
                    "cell_type": "markdown", 
                    "metadata": {}, 
                    "source": [
                        "\nSmell: Fragments of repeated code appear\n\nBefore:\n\n\n"
                    ]
                }, 
                {
                    "cell_type": "code", 
                    "collapsed": false, 
                    "input": [
                        "", 
                        "if abs(hawk.facing-starling.facing)<hawk.viewport:", 
                        "    hawk.hunting()", 
                        "", 
                        "if abs(starling.facing-hawk.facing)<starling.viewport:", 
                        "    starling.flee()", 
                        ""
                    ], 
                    "language": "python", 
                    "metadata": {}, 
                    "outputs": [], 
                    "prompt_number": null
                }, 
                {
                    "cell_type": "markdown", 
                    "metadata": {}, 
                    "source": [
                        "\n\n\nAfter:\n\n\n"
                    ]
                }, 
                {
                    "cell_type": "code", 
                    "collapsed": false, 
                    "input": [
                        "", 
                        "def can_see(source,target):", 
                        "    return (source.facing-target.facing)<source.viewport", 
                        "", 
                        "if can_see(hawk,starling):", 
                        "    hawk.hunting()", 
                        "", 
                        "if can_see(starling,hawk):", 
                        "    starling.flee()", 
                        ""
                    ], 
                    "language": "python", 
                    "metadata": {}, 
                    "outputs": [], 
                    "prompt_number": null
                }, 
                {
                    "cell_type": "markdown", 
                    "metadata": {}, 
                    "source": [
                        "\n\n"
                    ]
                }, 
                {
                    "cell_type": "heading", 
                    "level": 3, 
                    "metadata": {}, 
                    "source": [
                        "Change of variable name"
                    ]
                }, 
                {
                    "cell_type": "markdown", 
                    "metadata": {}, 
                    "source": [
                        "\nSmell: Code needs a comment to explain what it is for\n\nBefore:\n\n\n"
                    ]
                }, 
                {
                    "cell_type": "code", 
                    "collapsed": false, 
                    "input": [
                        "", 
                        "z=find(x,y)", 
                        "if z:", 
                        "    ribe(x)", 
                        ""
                    ], 
                    "language": "python", 
                    "metadata": {}, 
                    "outputs": [], 
                    "prompt_number": null
                }, 
                {
                    "cell_type": "markdown", 
                    "metadata": {}, 
                    "source": [
                        "\n\n\nAfter:\n\n\n"
                    ]
                }, 
                {
                    "cell_type": "code", 
                    "collapsed": false, 
                    "input": [
                        "", 
                        "gene = subsequence(chromosome, start_codon)", 
                        "if gene:", 
                        "    transcribe(gene)", 
                        ""
                    ], 
                    "language": "python", 
                    "metadata": {}, 
                    "outputs": [], 
                    "prompt_number": null
                }, 
                {
                    "cell_type": "markdown", 
                    "metadata": {}, 
                    "source": [
                        "\n\n\n"
                    ]
                }, 
                {
                    "cell_type": "heading", 
                    "level": 3, 
                    "metadata": {}, 
                    "source": [
                        "Separate a complex expression into a local variable"
                    ]
                }, 
                {
                    "cell_type": "markdown", 
                    "metadata": {}, 
                    "source": [
                        "\nSmell: An expression becomes long\n\n\n"
                    ]
                }, 
                {
                    "cell_type": "code", 
                    "collapsed": false, 
                    "input": [
                        "", 
                        "if ((my_name==your_name) and flag1 or flag2): do_something()", 
                        ""
                    ], 
                    "language": "python", 
                    "metadata": {}, 
                    "outputs": [], 
                    "prompt_number": null
                }, 
                {
                    "cell_type": "markdown", 
                    "metadata": {}, 
                    "source": [
                        "\n\n\nvs\n\n\n"
                    ]
                }, 
                {
                    "cell_type": "code", 
                    "collapsed": false, 
                    "input": [
                        "", 
                        "same_names= (my_name==your_name)", 
                        "flags_OK=flag1 or flag2", 
                        "if same_names and flags_OK: do_something()", 
                        ""
                    ], 
                    "language": "python", 
                    "metadata": {}, 
                    "outputs": [], 
                    "prompt_number": null
                }, 
                {
                    "cell_type": "markdown", 
                    "metadata": {}, 
                    "source": [
                        "\n\n"
                    ]
                }, 
                {
                    "cell_type": "heading", 
                    "level": 3, 
                    "metadata": {}, 
                    "source": [
                        "Replace loop with iterator"
                    ]
                }, 
                {
                    "cell_type": "markdown", 
                    "metadata": {}, 
                    "source": [
                        "\nSmell: Loop variable is an integer from 1 to something\n\nBefore:\n\n\n"
                    ]
                }, 
                {
                    "cell_type": "code", 
                    "collapsed": false, 
                    "input": [
                        "", 
                        "sum=0", 
                        "for i in range(resolution):", 
                        "    sum+=data[i]\t", 
                        ""
                    ], 
                    "language": "python", 
                    "metadata": {}, 
                    "outputs": [], 
                    "prompt_number": null
                }, 
                {
                    "cell_type": "markdown", 
                    "metadata": {}, 
                    "source": [
                        "\n\n\nAfter:\n\n\n"
                    ]
                }, 
                {
                    "cell_type": "code", 
                    "collapsed": false, 
                    "input": [
                        "", 
                        "sum=0", 
                        "for value in data:", 
                        "    sum+=value", 
                        ""
                    ], 
                    "language": "python", 
                    "metadata": {}, 
                    "outputs": [], 
                    "prompt_number": null
                }, 
                {
                    "cell_type": "markdown", 
                    "metadata": {}, 
                    "source": [
                        "\n\n"
                    ]
                }, 
                {
                    "cell_type": "heading", 
                    "level": 3, 
                    "metadata": {}, 
                    "source": [
                        "Replace hand-written code with library code"
                    ]
                }, 
                {
                    "cell_type": "markdown", 
                    "metadata": {}, 
                    "source": [
                        "\nSmell: It feels like surely someone else must have done this at some point\n\nBefore:\n\n\n"
                    ]
                }, 
                {
                    "cell_type": "code", 
                    "collapsed": false, 
                    "input": [
                        "", 
                        "xcoords=[start+i*step for i in range(int((end-start)/step))]", 
                        ""
                    ], 
                    "language": "python", 
                    "metadata": {}, 
                    "outputs": [], 
                    "prompt_number": null
                }, 
                {
                    "cell_type": "markdown", 
                    "metadata": {}, 
                    "source": [
                        "\n\n\nAfter:\n\n\n"
                    ]
                }, 
                {
                    "cell_type": "code", 
                    "collapsed": false, 
                    "input": [
                        "", 
                        "import numpy as np", 
                        "xcoords=np.arange(start,end,step)", 
                        ""
                    ], 
                    "language": "python", 
                    "metadata": {}, 
                    "outputs": [], 
                    "prompt_number": null
                }, 
                {
                    "cell_type": "markdown", 
                    "metadata": {}, 
                    "source": [
                        "\n\n\nSee [Numpy](http://docs.scipy.org/doc/numpy/reference/generated/numpy.arange.html),\n    [Pandas](http://pandas.pydata.org/)\n"
                    ]
                }, 
                {
                    "cell_type": "heading", 
                    "level": 3, 
                    "metadata": {}, 
                    "source": [
                        "Replace set of arrays with array of structures"
                    ]
                }, 
                {
                    "cell_type": "markdown", 
                    "metadata": {}, 
                    "source": [
                        "\nSmell: A function needs to work corresponding indices of several arrays:\n\nBefore:\n\n\n"
                    ]
                }, 
                {
                    "cell_type": "code", 
                    "collapsed": false, 
                    "input": [
                        "", 
                        "def can_see(index,source_angles,target_angles,source_viewports):", 
                        "    return abs(source_angles[i]-target_angles[i])<source_viewports[i]", 
                        ""
                    ], 
                    "language": "python", 
                    "metadata": {}, 
                    "outputs": [], 
                    "prompt_number": null
                }, 
                {
                    "cell_type": "markdown", 
                    "metadata": {}, 
                    "source": [
                        "\n\n\nAfter:\n\n\n"
                    ]
                }, 
                {
                    "cell_type": "code", 
                    "collapsed": false, 
                    "input": [
                        "", 
                        "def can_see(source,target):", 
                        "    return (source[\"facing\"]-target[\"facing\"])<source[\"viewport\"]", 
                        ""
                    ], 
                    "language": "python", 
                    "metadata": {}, 
                    "outputs": [], 
                    "prompt_number": null
                }, 
                {
                    "cell_type": "markdown", 
                    "metadata": {}, 
                    "source": [
                        "\n\n\nWarning: this refactoring greatly improves readability but can make code slower,\ndepending on memory layout. Be careful.\n"
                    ]
                }, 
                {
                    "cell_type": "heading", 
                    "level": 3, 
                    "metadata": {}, 
                    "source": [
                        "Replace constants with a configuration file"
                    ]
                }, 
                {
                    "cell_type": "markdown", 
                    "metadata": {}, 
                    "source": [
                        "\nSmell: You need to change your code file to explore different research scenarios\n\nBefore:\n\n\n"
                    ]
                }, 
                {
                    "cell_type": "code", 
                    "collapsed": false, 
                    "input": [
                        "", 
                        "flight_speed=2.0 # mph", 
                        "bounds=[0,0,100,100]", 
                        "turning_circle=3.0 # m", 
                        "bird_counts= {\"hawk\": 5, \"starling\": 500}", 
                        ""
                    ], 
                    "language": "python", 
                    "metadata": {}, 
                    "outputs": [], 
                    "prompt_number": null
                }, 
                {
                    "cell_type": "markdown", 
                    "metadata": {}, 
                    "source": [
                        "\n\n\nAfter:\n\n\n\n\n\n"
                    ]
                }, 
                {
                    "cell_type": "code", 
                    "collapsed": false, 
                    "input": [
                        "%%writefile config.yaml", 
                        "bounds: [0,0,100,100]", 
                        "counts:", 
                        "    hawk: 5", 
                        "    starling: 500", 
                        "speed: 2.0", 
                        "turning_circle: 3.0", 
                        ""
                    ], 
                    "language": "python", 
                    "metadata": {}, 
                    "outputs": [], 
                    "prompt_number": null
                }, 
                {
                    "cell_type": "markdown", 
                    "metadata": {}, 
                    "source": [
                        "\n\n\n\n"
                    ]
                }, 
                {
                    "cell_type": "code", 
                    "collapsed": false, 
                    "input": [
                        "", 
                        "config=yaml.load(open(\"config.yaml\"))", 
                        ""
                    ], 
                    "language": "python", 
                    "metadata": {}, 
                    "outputs": [], 
                    "prompt_number": null
                }, 
                {
                    "cell_type": "markdown", 
                    "metadata": {}, 
                    "source": [
                        "\n\n\nSee [YAML](http://www.yaml.org/) and [PyYaml](http://pyyaml.org/)\nand [Python OS](http://docs.python.org/2/library/os.html)\n"
                    ]
                }, 
                {
                    "cell_type": "heading", 
                    "level": 3, 
                    "metadata": {}, 
                    "source": [
                        "Replace global variables with function arguments"
                    ]
                }, 
                {
                    "cell_type": "markdown", 
                    "metadata": {}, 
                    "source": [
                        "\nSmell: A global variable is assigned and then used inside a called function:\n\n\n"
                    ]
                }, 
                {
                    "cell_type": "code", 
                    "collapsed": false, 
                    "input": [
                        "", 
                        "viewport=pi/4", 
                        "if hawk.can_see(starling):", 
                        "    hawk.hunt(starling)", 
                        "", 
                        "class Hawk(object):", 
                        "    def can_see(self,target):", 
                        "        return (self.facing-target.facing)<viewport", 
                        ""
                    ], 
                    "language": "python", 
                    "metadata": {}, 
                    "outputs": [], 
                    "prompt_number": null
                }, 
                {
                    "cell_type": "markdown", 
                    "metadata": {}, 
                    "source": [
                        "\n\n\nBecomes:\n\n\n"
                    ]
                }, 
                {
                    "cell_type": "code", 
                    "collapsed": false, 
                    "input": [
                        "", 
                        "viewport=pi/4", 
                        "if hawk.can_see(starling,viewport):", 
                        "    hawk.hunt(starling)", 
                        "", 
                        "class Hawk(object):", 
                        "    def can_see(self,target,viewport):", 
                        "        return (self.facing-target.facing)<viewport", 
                        ""
                    ], 
                    "language": "python", 
                    "metadata": {}, 
                    "outputs": [], 
                    "prompt_number": null
                }, 
                {
                    "cell_type": "markdown", 
                    "metadata": {}, 
                    "source": [
                        "\n\n"
                    ]
                }, 
                {
                    "cell_type": "heading", 
                    "level": 3, 
                    "metadata": {}, 
                    "source": [
                        "Merge neighbouring loops"
                    ]
                }, 
                {
                    "cell_type": "markdown", 
                    "metadata": {}, 
                    "source": [
                        "\nSmell: Two neighbouring loops have the same for statement\n\n\n"
                    ]
                }, 
                {
                    "cell_type": "code", 
                    "collapsed": false, 
                    "input": [
                        "", 
                        "for bird in birds:", 
                        "    bird.build_nest()", 
                        "", 
                        "for bird in birds:", 
                        "    bird.lay_eggs()", 
                        ""
                    ], 
                    "language": "python", 
                    "metadata": {}, 
                    "outputs": [], 
                    "prompt_number": null
                }, 
                {
                    "cell_type": "markdown", 
                    "metadata": {}, 
                    "source": [
                        "\n\n\nBecomes:\n\n\n"
                    ]
                }, 
                {
                    "cell_type": "code", 
                    "collapsed": false, 
                    "input": [
                        "", 
                        "for bird in birds:", 
                        "    bird.build_nest()", 
                        "    bird.lay_eggs()", 
                        ""
                    ], 
                    "language": "python", 
                    "metadata": {}, 
                    "outputs": [], 
                    "prompt_number": null
                }, 
                {
                    "cell_type": "markdown", 
                    "metadata": {}, 
                    "source": [
                        "\n\n\n"
                    ]
                }, 
                {
                    "cell_type": "heading", 
                    "level": 3, 
                    "metadata": {}, 
                    "source": [
                        "Break a large function into smaller units"
                    ]
                }, 
                {
                    "cell_type": "markdown", 
                    "metadata": {}, 
                    "source": [
                        "\nSmell: A function or subroutine no longer fits on a page in your editor\nSmell: A line of code is indented more than three levels\nSmell: A piece of code interacts with the surrounding code through just a few variables\n\nBefore:\n\n\n"
                    ]
                }, 
                {
                    "cell_type": "code", 
                    "collapsed": false, 
                    "input": [
                        "", 
                        "def do_calculation():", 
                        "    for predator in predators:", 
                        "        for prey in preys:", 
                        "            if predator.can_see(prey):", 
                        "                predator.hunt(prey)", 
                        "            if predator.can_reach(prey):", 
                        "                predator.eat(prey)", 
                        ""
                    ], 
                    "language": "python", 
                    "metadata": {}, 
                    "outputs": [], 
                    "prompt_number": null
                }, 
                {
                    "cell_type": "markdown", 
                    "metadata": {}, 
                    "source": [
                        "\n\n\nAfter:\n\n\n"
                    ]
                }, 
                {
                    "cell_type": "code", 
                    "collapsed": false, 
                    "input": [
                        "", 
                        "def do_calculation():", 
                        "    for predator in predators:", 
                        "        for prey in preys:", 
                        "            predate(predator, prey)", 
                        "", 
                        "def predate(predator,prey):", 
                        "    if predator.can_see(prey):", 
                        "        predator.hunt(prey)", 
                        "    if predator.can_reach(prey):", 
                        "        predator.eat(prey)", 
                        ""
                    ], 
                    "language": "python", 
                    "metadata": {}, 
                    "outputs": [], 
                    "prompt_number": null
                }, 
                {
                    "cell_type": "markdown", 
                    "metadata": {}, 
                    "source": [
                        "\n\n"
                    ]
                }, 
                {
                    "cell_type": "heading", 
                    "level": 3, 
                    "metadata": {}, 
                    "source": [
                        "Separate code concepts into files or modules"
                    ]
                }, 
                {
                    "cell_type": "markdown", 
                    "metadata": {}, 
                    "source": [
                        "\nSmell: You find it hard to locate a piece of code\n\nSmell: You get a lot of version control conflicts\n\nBefore:\n\n\n"
                    ]
                }, 
                {
                    "cell_type": "code", 
                    "collapsed": false, 
                    "input": [
                        "", 
                        "class One(object):", 
                        "    pass", 
                        "", 
                        "", 
                        "class Two(object):", 
                        "    def __init__():", 
                        "        self.child=One()", 
                        ""
                    ], 
                    "language": "python", 
                    "metadata": {}, 
                    "outputs": [], 
                    "prompt_number": null
                }, 
                {
                    "cell_type": "markdown", 
                    "metadata": {}, 
                    "source": [
                        "\n\n\nAfter:\n\n\n"
                    ]
                }, 
                {
                    "cell_type": "code", 
                    "collapsed": false, 
                    "input": [
                        "", 
                        "from anotherfile import One", 
                        "", 
                        "class Two(object):", 
                        "    def __init__():", 
                        "        self.child=One()", 
                        ""
                    ], 
                    "language": "python", 
                    "metadata": {}, 
                    "outputs": [], 
                    "prompt_number": null
                }, 
                {
                    "cell_type": "markdown", 
                    "metadata": {}, 
                    "source": [
                        "\n\n"
                    ]
                }, 
                {
                    "cell_type": "heading", 
                    "level": 3, 
                    "metadata": {}, 
                    "source": [
                        "Refactoring is a safe way to improve code"
                    ]
                }, 
                {
                    "cell_type": "markdown", 
                    "metadata": {}, 
                    "source": [
                        "\nYou may think you can see how to rewrite a whole codebase to be better\n\nHowever, you may well get lost halfway through the exercise.\n\nBy making the changes as small, reversible, incremental steps,\nyou can reach your target design more reliably.\n"
                    ]
                }, 
                {
                    "cell_type": "heading", 
                    "level": 3, 
                    "metadata": {}, 
                    "source": [
                        "Tests and Refactoring"
                    ]
                }, 
                {
                    "cell_type": "markdown", 
                    "metadata": {}, 
                    "source": [
                        "\nBadly structured code cannot be unit tested. There are no \"units\".\n\nBefore refactoring, ensure you have a robust regression test.\n\nThis will allow you to *Refactor with confidence*\n\nAs you refactor, if you create any new units (functions, modules, classes),\nadd new tests for them.\n"
                    ]
                }, 
                {
                    "cell_type": "heading", 
                    "level": 3, 
                    "metadata": {}, 
                    "source": [
                        "Refactoring Summary"
                    ]
                }, 
                {
                    "cell_type": "markdown", 
                    "metadata": {}, 
                    "source": [
                        "\n* Replace magic numbers with constants\n* Replace repeated code with a function\n* Change of variable/function/class name\n* Replace loop with iterator\n* Replace hand-written code with library code\n* Replace set of arrays with array of structures\n* Replace constants with a configuration file\n* Replace global variables with function arguments\n* Break a large function into smaller units\n* Separate code concepts into files or modules\n\nAnd many more\n\nRead [The Refactoring Book](http://www.amazon.co.uk/Refactoring-Improving-Design-Existing-Technology/dp/0201485672)\n\n\n"
                    ]
                }, 
                {
                    "cell_type": "heading", 
                    "level": 2, 
                    "metadata": {}, 
                    "source": [
                        "Introduction to Objects"
                    ]
                }, 
                {
                    "cell_type": "markdown", 
                    "metadata": {}, 
                    "source": [
                        "\n"
                    ]
                }, 
                {
                    "cell_type": "heading", 
                    "level": 3, 
                    "metadata": {}, 
                    "source": [
                        "Classes: User defined types"
                    ]
                }, 
                {
                    "cell_type": "markdown", 
                    "metadata": {}, 
                    "source": [
                        "\n\n"
                    ]
                }, 
                {
                    "cell_type": "code", 
                    "collapsed": false, 
                    "input": [
                        "", 
                        "class Person(object):", 
                        "    def __init__(self,name,age):", 
                        "        self.name=name", 
                        "        self.age=age", 
                        "    def grow_up(self):", 
                        "        self.age+=1", 
                        "", 
                        "james=Person(\"James\",37)", 
                        "james.home=\"London\"", 
                        ""
                    ], 
                    "language": "python", 
                    "metadata": {}, 
                    "outputs": [], 
                    "prompt_number": null
                }, 
                {
                    "cell_type": "markdown", 
                    "metadata": {}, 
                    "source": [
                        "\n\n\n"
                    ]
                }, 
                {
                    "cell_type": "heading", 
                    "level": 3, 
                    "metadata": {}, 
                    "source": [
                        "Declaring a class "
                    ]
                }, 
                {
                    "cell_type": "markdown", 
                    "metadata": {}, 
                    "source": [
                        "\nClass: A user-defined type\n\n\n"
                    ]
                }, 
                {
                    "cell_type": "code", 
                    "collapsed": false, 
                    "input": [
                        "", 
                        "class MyClass(object):", 
                        "    pass", 
                        ""
                    ], 
                    "language": "python", 
                    "metadata": {}, 
                    "outputs": [], 
                    "prompt_number": null
                }, 
                {
                    "cell_type": "markdown", 
                    "metadata": {}, 
                    "source": [
                        "\n\n"
                    ]
                }, 
                {
                    "cell_type": "heading", 
                    "level": 3, 
                    "metadata": {}, 
                    "source": [
                        "Object instances"
                    ]
                }, 
                {
                    "cell_type": "markdown", 
                    "metadata": {}, 
                    "source": [
                        "\nInstance: A particular object *instantiated* from a class.\n\n\n"
                    ]
                }, 
                {
                    "cell_type": "code", 
                    "collapsed": false, 
                    "input": [
                        "", 
                        "my_object = MyClass()", 
                        ""
                    ], 
                    "language": "python", 
                    "metadata": {}, 
                    "outputs": [], 
                    "prompt_number": null
                }, 
                {
                    "cell_type": "markdown", 
                    "metadata": {}, 
                    "source": [
                        "\n\n"
                    ]
                }, 
                {
                    "cell_type": "heading", 
                    "level": 3, 
                    "metadata": {}, 
                    "source": [
                        "Method"
                    ]
                }, 
                {
                    "cell_type": "markdown", 
                    "metadata": {}, 
                    "source": [
                        "\nMethod: A function which is \"built in\" to a class\n\n\n"
                    ]
                }, 
                {
                    "cell_type": "code", 
                    "collapsed": false, 
                    "input": [
                        "", 
                        "class MyClass(object):", 
                        "    def someMethod(self, argument):", 
                        "        pass", 
                        "", 
                        "my_object=MyClass()", 
                        "my_object.someMethod(value)", 
                        ""
                    ], 
                    "language": "python", 
                    "metadata": {}, 
                    "outputs": [], 
                    "prompt_number": null
                }, 
                {
                    "cell_type": "markdown", 
                    "metadata": {}, 
                    "source": [
                        "\n\n"
                    ]
                }, 
                {
                    "cell_type": "heading", 
                    "level": 3, 
                    "metadata": {}, 
                    "source": [
                        "Constructor"
                    ]
                }, 
                {
                    "cell_type": "markdown", 
                    "metadata": {}, 
                    "source": [
                        "\nConstructor: A special method called when instantiating a new object\n\n\n"
                    ]
                }, 
                {
                    "cell_type": "code", 
                    "collapsed": false, 
                    "input": [
                        "", 
                        "class MyClass(object):", 
                        "    def __init__(self, argument):", 
                        "        pass", 
                        "", 
                        "my_object = MyClass(value)", 
                        ""
                    ], 
                    "language": "python", 
                    "metadata": {}, 
                    "outputs": [], 
                    "prompt_number": null
                }, 
                {
                    "cell_type": "markdown", 
                    "metadata": {}, 
                    "source": [
                        "\n\n"
                    ]
                }, 
                {
                    "cell_type": "heading", 
                    "level": 3, 
                    "metadata": {}, 
                    "source": [
                        "Member Variable"
                    ]
                }, 
                {
                    "cell_type": "markdown", 
                    "metadata": {}, 
                    "source": [
                        "\nMember variable: a value stored inside an instance of a class.\n\n\n"
                    ]
                }, 
                {
                    "cell_type": "code", 
                    "collapsed": false, 
                    "input": [
                        "", 
                        "class MyClass(object):", 
                        "    def __init__(self):", 
                        "        self.member = \"Value\"", 
                        "", 
                        "my_object = MyClass()", 
                        "assert(my_object.member == \"Value\")", 
                        ""
                    ], 
                    "language": "python", 
                    "metadata": {}, 
                    "outputs": [], 
                    "prompt_number": null
                }, 
                {
                    "cell_type": "markdown", 
                    "metadata": {}, 
                    "source": [
                        "\n\n\n"
                    ]
                }, 
                {
                    "cell_type": "heading", 
                    "level": 2, 
                    "metadata": {}, 
                    "source": [
                        "Object refactorings"
                    ]
                }, 
                {
                    "cell_type": "markdown", 
                    "metadata": {}, 
                    "source": [
                        ""
                    ]
                }, 
                {
                    "cell_type": "heading", 
                    "level": 3, 
                    "metadata": {}, 
                    "source": [
                        "Replace add-hoc structure with user defined classes"
                    ]
                }, 
                {
                    "cell_type": "markdown", 
                    "metadata": {}, 
                    "source": [
                        "\nSmell: A data structure made of nested arrays and dictionaries becomes unwieldy\n\nBefore:\n\n\n"
                    ]
                }, 
                {
                    "cell_type": "code", 
                    "collapsed": false, 
                    "input": [
                        "", 
                        "from random import random", 
                        "birds = [{\"position\": random(),", 
                        "          \"velocity\": random(),", 
                        "          \"type\": kind} for kind in bird_types]", 
                        "", 
                        "average_position = average([bird[\"position\"] for bird in birds])", 
                        ""
                    ], 
                    "language": "python", 
                    "metadata": {}, 
                    "outputs": [], 
                    "prompt_number": null
                }, 
                {
                    "cell_type": "markdown", 
                    "metadata": {}, 
                    "source": [
                        "\n\n\nAfter:\n\n\n"
                    ]
                }, 
                {
                    "cell_type": "code", 
                    "collapsed": false, 
                    "input": [
                        "", 
                        "class Bird(object):", 
                        "    def __init__(self,type):", 
                        "        from random import random", 
                        "        self.type = type", 
                        "        self.position = random()", 
                        "        self.velocity = random()", 
                        "", 
                        "birds = [Bird(type) for type in bird_types]", 
                        "average_position = average([bird.position for bird in birds])", 
                        ""
                    ], 
                    "language": "python", 
                    "metadata": {}, 
                    "outputs": [], 
                    "prompt_number": null
                }, 
                {
                    "cell_type": "markdown", 
                    "metadata": {}, 
                    "source": [
                        "\n\n"
                    ]
                }, 
                {
                    "cell_type": "heading", 
                    "level": 3, 
                    "metadata": {}, 
                    "source": [
                        "Replace function with a method"
                    ]
                }, 
                {
                    "cell_type": "markdown", 
                    "metadata": {}, 
                    "source": [
                        "\nSmell: A function is always called with the same kind of thing\n\nBefore:\n\n\n"
                    ]
                }, 
                {
                    "cell_type": "code", 
                    "collapsed": false, 
                    "input": [
                        "", 
                        "def can_see(source,target):", 
                        "    return (source.facing-target.facing)<source.viewport", 
                        "", 
                        "if can_see(hawk,starling):", 
                        "    hawk.hunt()", 
                        ""
                    ], 
                    "language": "python", 
                    "metadata": {}, 
                    "outputs": [], 
                    "prompt_number": null
                }, 
                {
                    "cell_type": "markdown", 
                    "metadata": {}, 
                    "source": [
                        "\n\n\nAfter:\n\n\n"
                    ]
                }, 
                {
                    "cell_type": "code", 
                    "collapsed": false, 
                    "input": [
                        "", 
                        "class Bird(object):", 
                        "    def can_see(self,target):", 
                        "        return (self.facing-target.facing)<self.viewport", 
                        "", 
                        "if hawk.can_see(starling):", 
                        "    hawk.hunt()", 
                        ""
                    ], 
                    "language": "python", 
                    "metadata": {}, 
                    "outputs": [], 
                    "prompt_number": null
                }, 
                {
                    "cell_type": "markdown", 
                    "metadata": {}, 
                    "source": [
                        "\n\n\n"
                    ]
                }, 
                {
                    "cell_type": "heading", 
                    "level": 3, 
                    "metadata": {}, 
                    "source": [
                        "Replace method arguments with class members"
                    ]
                }, 
                {
                    "cell_type": "markdown", 
                    "metadata": {}, 
                    "source": [
                        "\nSmell: A variable is nearly always used in arguments to \na class.\n\n\n"
                    ]
                }, 
                {
                    "cell_type": "code", 
                    "collapsed": false, 
                    "input": [
                        "", 
                        "class Person(object):", 
                        "    def __init__(self, genes):", 
                        "        self.genes=genes", 
                        "    def reproduce_probability(self,age): pass", 
                        "    def death_probability(self,age): pass", 
                        "    def emigrate_probability(self,age): pass", 
                        ""
                    ], 
                    "language": "python", 
                    "metadata": {}, 
                    "outputs": [], 
                    "prompt_number": null
                }, 
                {
                    "cell_type": "markdown", 
                    "metadata": {}, 
                    "source": [
                        "\n\n\nAfter:\n\n\n"
                    ]
                }, 
                {
                    "cell_type": "code", 
                    "collapsed": false, 
                    "input": [
                        "", 
                        "class Person(object):", 
                        "    def __init__(self, genes, age):", 
                        "        self.age=age", 
                        "        self.genes=genes", 
                        "    def reproduce_probability(self): pass", 
                        "    def death_probability(self): pass", 
                        "    def emigrate_probability(self): pass", 
                        ""
                    ], 
                    "language": "python", 
                    "metadata": {}, 
                    "outputs": [], 
                    "prompt_number": null
                }, 
                {
                    "cell_type": "markdown", 
                    "metadata": {}, 
                    "source": [
                        "\n\n"
                    ]
                }, 
                {
                    "cell_type": "heading", 
                    "level": 3, 
                    "metadata": {}, 
                    "source": [
                        "Replace global variable with class and member"
                    ]
                }, 
                {
                    "cell_type": "markdown", 
                    "metadata": {}, 
                    "source": [
                        "\nSmell: A global variable is referenced by a few functions\n\n\n"
                    ]
                }, 
                {
                    "cell_type": "code", 
                    "collapsed": false, 
                    "input": [
                        "", 
                        "name=\"James\"", 
                        "birthday=[19,10,76]", 
                        "today=[29,10]", 
                        "if today==birthday[0:2]:", 
                        "    print \"Happy Birthday, \", name", 
                        "else:", 
                        "    print \"No birthday for you today.\"", 
                        ""
                    ], 
                    "language": "python", 
                    "metadata": {}, 
                    "outputs": [], 
                    "prompt_number": null
                }, 
                {
                    "cell_type": "markdown", 
                    "metadata": {}, 
                    "source": [
                        "\n\n\n\n"
                    ]
                }, 
                {
                    "cell_type": "code", 
                    "collapsed": false, 
                    "input": [
                        "", 
                        "class Person(object):", 
                        "    def __init__(self, birthday, name):", 
                        "        self.birth_day=birthday[0]", 
                        "        self.birth_month=birthday[1]", 
                        "        self.birth_year=birthday[2]", 
                        "        self.name=name", 
                        "    def check_birthday(self, today_day, today_month):", 
                        "        if not self.birth_day == today_day:", 
                        "            return False", 
                        "        if not self.birth_month == today_month:", 
                        "            return False", 
                        "        return True", 
                        "    def greet_appropriately(self, today):", 
                        "        if self.check_birthday(*today):", 
                        "            print \"Happy Birthday\", self.name", 
                        "        else:", 
                        "            print \"No birthday for you.\"", 
                        "", 
                        "james=Person([19,10,76],\"James\")", 
                        "james.greet_appropriately([29,10])", 
                        ""
                    ], 
                    "language": "python", 
                    "metadata": {}, 
                    "outputs": [], 
                    "prompt_number": null
                }, 
                {
                    "cell_type": "markdown", 
                    "metadata": {}, 
                    "source": [
                        "\n\n"
                    ]
                }, 
                {
                    "cell_type": "heading", 
                    "level": 3, 
                    "metadata": {}, 
                    "source": [
                        "Object Oriented Refactoring Summary"
                    ]
                }, 
                {
                    "cell_type": "markdown", 
                    "metadata": {}, 
                    "source": [
                        "\n* Replace ad-hoc structure with a class\n* Replace function with a method\n* Replace method argument with class member\n* Replace global variable with class data\n\n\n"
                    ]
                }, 
                {
                    "cell_type": "heading", 
                    "level": 2, 
                    "metadata": {}, 
                    "source": [
                        "Exercise: The Boids"
                    ]
                }, 
                {
                    "cell_type": "markdown", 
                    "metadata": {}, 
                    "source": [
                        ""
                    ]
                }, 
                {
                    "cell_type": "heading", 
                    "level": 3, 
                    "metadata": {}, 
                    "source": [
                        "Flocking"
                    ]
                }, 
                {
                    "cell_type": "markdown", 
                    "metadata": {}, 
                    "source": [
                        "\n> The aggregate motion of a flock of birds, a herd of land animals, or a school of fish is a beautiful and familiar\npart of the natural world... The aggregate motion of the simulated flock is created by a distributed behavioral model much\nlike that at work in a natural flock; the birds choose their own course. Each simulated bird is implemented as an independent\nactor that navigates according to its local perception of the dynamic environment, the laws of simulated physics that rule its\nmotion, and a set of behaviors programmed into it... The aggregate motion of the simulated flock is the result of the\ndense interaction of the relatively simple behaviors of the individual simulated birds. \n\n-- Craig W. Reynolds, \"Flocks, Herds, and Schools: A Distributed Behavioral Model\", *Computer Graphics* **21** _4_ 1987, pp 25-34\nSee the [original paper](http://www.cs.toronto.edu/~dt/siggraph97-course/cwr87/)\n"
                    ]
                }, 
                {
                    "cell_type": "heading", 
                    "level": 3, 
                    "metadata": {}, 
                    "source": [
                        "Boids"
                    ]
                }, 
                {
                    "cell_type": "markdown", 
                    "metadata": {}, 
                    "source": [
                        "\n* Collision Avoidance: avoid collisions with nearby flockmates\n* Velocity Matching: attempt to match velocity with nearby flockmates\n* Flock Centering: attempt to stay close to nearby flockmates\n"
                    ]
                }, 
                {
                    "cell_type": "heading", 
                    "level": 3, 
                    "metadata": {}, 
                    "source": [
                        "Bad_Boids"
                    ]
                }, 
                {
                    "cell_type": "markdown", 
                    "metadata": {}, 
                    "source": [
                        "\nI have written some _very bad_ code implementing Boids, based on [Konrad Parker's](http://www.kfish.org/) pseudocode.\n\nHere's the [Github link](https://github.com/jamespjh/bad-boids).\n\nPlease fork it on GitHub, and clone your fork.\n"
                    ]
                }, 
                {
                    "cell_type": "raw", 
                    "metadata": {}, 
                    "source": [
                        "git clone     git@github.com:yourname/bad-boids.git # OR\ngit clone https://github.com/yourname/bad-boids.git"
                    ]
                }, 
                {
                    "cell_type": "markdown", 
                    "metadata": {}, 
                    "source": [
                        ""
                    ]
                }, 
                {
                    "cell_type": "heading", 
                    "level": 3, 
                    "metadata": {}, 
                    "source": [
                        "Look at the birdies!"
                    ]
                }, 
                {
                    "cell_type": "markdown", 
                    "metadata": {}, 
                    "source": [
                        "\nRun bad_boids:\n"
                    ]
                }, 
                {
                    "cell_type": "raw", 
                    "metadata": {}, 
                    "source": [
                        "cd bad_boids\npython bad_boids.py"
                    ]
                }, 
                {
                    "cell_type": "markdown", 
                    "metadata": {}, 
                    "source": [
                        "\nYou should be able to see some birds flying around, and then disappearing as they leave the window.\n"
                    ]
                }, 
                {
                    "cell_type": "heading", 
                    "level": 3, 
                    "metadata": {}, 
                    "source": [
                        "Your Task"
                    ]
                }, 
                {
                    "cell_type": "markdown", 
                    "metadata": {}, 
                    "source": [
                        "\nTransform bad_boids into better code, while making sure it still works.\n"
                    ]
                }, 
                {
                    "cell_type": "heading", 
                    "level": 3, 
                    "metadata": {}, 
                    "source": [
                        "A regression test"
                    ]
                }, 
                {
                    "cell_type": "markdown", 
                    "metadata": {}, 
                    "source": [
                        "\nFirst, have a look at the regression test I made.\n\nTo create it, I saved out the before and after state\nfor one iteration of some boids, using ipython:\n"
                    ]
                }, 
                {
                    "cell_type": "code", 
                    "collapsed": false, 
                    "input": [
                        "import yaml", 
                        "import boids", 
                        "from copy import deepcopy", 
                        "before=deepcopy(boids.boids)", 
                        "boids.update_boids(boids.boids)", 
                        "after=boids.boids", 
                        "fixture={\"before\":before,\"after\":after}", 
                        "fixture_file=open(\"fixture.yml\",'w')", 
                        "fixture_file.write(yaml.dump(fixture))", 
                        "fixture_file.close()"
                    ], 
                    "language": "python", 
                    "metadata": {}, 
                    "outputs": [], 
                    "prompt_number": null
                }, 
                {
                    "cell_type": "markdown", 
                    "metadata": {}, 
                    "source": [
                        ""
                    ]
                }, 
                {
                    "cell_type": "heading", 
                    "level": 3, 
                    "metadata": {}, 
                    "source": [
                        "A regression test"
                    ]
                }, 
                {
                    "cell_type": "markdown", 
                    "metadata": {}, 
                    "source": [
                        "\nThen, I used the fixture file to define the test:\n"
                    ]
                }, 
                {
                    "cell_type": "code", 
                    "collapsed": false, 
                    "input": [
                        "from boids import update_boids", 
                        "from nose.tools import assert_equal", 
                        "import os", 
                        "import yaml", 
                        "", 
                        "def test_bad_boids_regression():", 
                        "    regression_data=yaml.load(open(os.path.join(os.path.dirname(__file__),'fixture.yml')))", 
                        "    boid_data=regression_data[\"before\"]", 
                        "    update_boids(boid_data)", 
                        "    assert_equal(regression_data[\"after\"],boid_data)"
                    ], 
                    "language": "python", 
                    "metadata": {}, 
                    "outputs": [], 
                    "prompt_number": null
                }, 
                {
                    "cell_type": "markdown", 
                    "metadata": {}, 
                    "source": [
                        ""
                    ]
                }, 
                {
                    "cell_type": "heading", 
                    "level": 3, 
                    "metadata": {}, 
                    "source": [
                        "Make the regression test fail"
                    ]
                }, 
                {
                    "cell_type": "markdown", 
                    "metadata": {}, 
                    "source": [
                        "\nCheck the tests pass:\n"
                    ]
                }, 
                {
                    "cell_type": "raw", 
                    "metadata": {}, 
                    "source": [
                        "nosetests"
                    ]
                }, 
                {
                    "cell_type": "markdown", 
                    "metadata": {}, 
                    "source": [
                        "\nEdit the file to make the test fail, see the fail, then reset it:\n"
                    ]
                }, 
                {
                    "cell_type": "raw", 
                    "metadata": {}, 
                    "source": [
                        "git checkout boids.py"
                    ]
                }, 
                {
                    "cell_type": "markdown", 
                    "metadata": {}, 
                    "source": [
                        ""
                    ]
                }, 
                {
                    "cell_type": "heading", 
                    "level": 3, 
                    "metadata": {}, 
                    "source": [
                        "Start Refactoring"
                    ]
                }, 
                {
                    "cell_type": "markdown", 
                    "metadata": {}, 
                    "source": [
                        "\nLook at the code, consider the [list of refactorings](#refactoring-summary), and make changes\n\nEach time, do a git commit on your fork, and write a commit message explaining the \nrefactoring you did.\n\nTry to keep the changes as small as possible.\n\nIf your refactoring creates any units, (functions, modules, or classes)\nwrite a unit test for the unit."
                    ]
                }
            ]
        }
    ]
}