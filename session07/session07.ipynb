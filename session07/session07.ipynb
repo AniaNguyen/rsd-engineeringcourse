{
 "cells": [
  {
   "cell_type": "markdown",
   "metadata": {},
   "source": [
    "# Tricks to avoid Repeating Yourself."
   ]
  },
  {
   "cell_type": "markdown",
   "metadata": {},
   "source": [
    "## Avoid Boiler-Plate"
   ]
  },
  {
   "cell_type": "markdown",
   "metadata": {},
   "source": [
    "\n",
    "Code can often be annoyingly full of \"boiler-plate\" code: characters you don't really want to have to type.\n",
    "\n",
    "Not only is this tedious, it's also time-consuming and dangerous: unnecessary code is an unnecessary potential place for mistakes.\n",
    "\n",
    "There are two important phrases in software design that we've spoken of before in this context:\n",
    "\n",
    "> Once And Only Once\n",
    "\n",
    "> Don't Repeat Yourself (DRY)\n",
    "\n",
    "All concepts, ideas, or instructions should be in the program in just one place.\n",
    "Every line in the program should say something useful and important.\n",
    "\n",
    "We refer to code that respects this principle as DRY code.\n",
    "\n",
    "In this lecture, we'll look at some techniques that can enable us to refactor away repetitive code.\n",
    "\n",
    "Since in many of these places, the techniques will involve working with\n",
    "functions as if they were variables, we'll learn some **functional**\n",
    "programming. We'll also learn more about the innards of how Python implements\n",
    "classes.\n",
    "\n",
    "We'll also think about how to write programs that *generate* the more verbose, repetitive program we could otherwise write.\n",
    "We call this **metaprogramming**.\n"
   ]
  },
  {
   "cell_type": "markdown",
   "metadata": {},
   "source": [
    "### Metaprogramming Example"
   ]
  },
  {
   "cell_type": "markdown",
   "metadata": {},
   "source": [
    "\n",
    "Consider a bunch of variables, each of which need initialising and incrementing:\n",
    "\n",
    "\n"
   ]
  },
  {
   "cell_type": "code",
   "execution_count": 1,
   "metadata": {
    "collapsed": false
   },
   "outputs": [],
   "source": [
    "bananas=0\n",
    "apples=0\n",
    "oranges=0\n",
    "bananas+=1\n",
    "apples+=1\n",
    "oranges+=1"
   ]
  },
  {
   "cell_type": "markdown",
   "metadata": {},
   "source": [
    "\n",
    "\n",
    "The right hand side of these assignments doesn't respect the DRY principle. We\n",
    "could of course define a variable for our initial value:\n",
    "\n",
    "\n"
   ]
  },
  {
   "cell_type": "code",
   "execution_count": 2,
   "metadata": {
    "collapsed": false
   },
   "outputs": [],
   "source": [
    "initial_fruit_count=0\n",
    "bananas=initial_fruit_count\n",
    "apples=initial_fruit_count\n",
    "oranges=initial_fruit_count"
   ]
  },
  {
   "cell_type": "markdown",
   "metadata": {},
   "source": [
    "\n",
    "\n",
    "However, this is still not as DRY as it could be: what if we wanted to replace\n",
    "the assignment with, say, a class constructor and a buy operation:\n",
    "\n",
    "\n"
   ]
  },
  {
   "cell_type": "code",
   "execution_count": 3,
   "metadata": {
    "collapsed": false
   },
   "outputs": [],
   "source": [
    "class Basket:\n",
    "    def __init__(self):\n",
    "        self.count=0\n",
    "    def buy(self):\n",
    "        self.count+=1\n",
    "\n",
    "bananas=Basket()\n",
    "apples=Basket()\n",
    "oranges=Basket()\n",
    "bananas.buy()\n",
    "apples.buy()\n",
    "oranges.buy()"
   ]
  },
  {
   "cell_type": "markdown",
   "metadata": {},
   "source": [
    "\n",
    "\n",
    "We had to make the change in three places. Whenever you see a situation where a\n",
    "refactoring or change of design might require you to change the code in\n",
    "multiple places, you have an opportunity to make the code DRYer.\n",
    "\n",
    "In this case, metaprogramming for incrementing these variables would involve\n",
    "just a loop over all the variables we want to initialise:\n",
    "\n",
    "\n"
   ]
  },
  {
   "cell_type": "code",
   "execution_count": 4,
   "metadata": {
    "collapsed": false
   },
   "outputs": [],
   "source": [
    "baskets=[bananas, apples, oranges]\n",
    "for basket in baskets: basket.buy()"
   ]
  },
  {
   "cell_type": "markdown",
   "metadata": {},
   "source": [
    "\n",
    "\n",
    "However, this trick **doesn't** work for initialising a new variable:\n",
    "\n",
    "\n"
   ]
  },
  {
   "cell_type": "code",
   "execution_count": 5,
   "metadata": {
    "collapsed": false
   },
   "outputs": [],
   "source": [
    "from nose.tools import assert_raises\n",
    "with assert_raises(NameError):\n",
    "    baskets=[bananas, apples, oranges, kiwis]"
   ]
  },
  {
   "cell_type": "markdown",
   "metadata": {},
   "source": [
    "\n",
    "\n",
    "So can we declare a new variable programmatically? Given a list of the\n",
    "**names** of fruit baskets we want, initialise a variable with that name?\n",
    "\n",
    "\n"
   ]
  },
  {
   "cell_type": "code",
   "execution_count": 6,
   "metadata": {
    "collapsed": false
   },
   "outputs": [
    {
     "data": {
      "text/plain": [
       "<__main__.Basket instance at 0x10c505170>"
      ]
     },
     "execution_count": 6,
     "metadata": {},
     "output_type": "execute_result"
    }
   ],
   "source": [
    "basket_names=['bananas', 'apples', 'oranges', 'kiwis']\n",
    "\n",
    "globals()['apples']"
   ]
  },
  {
   "cell_type": "markdown",
   "metadata": {},
   "source": [
    "\n",
    "\n",
    "\n",
    "Wow, we can! Every module or class in Python, is, under the hood, a special\n",
    "dictionary, storing the values in its **namespace**. So we can create new\n",
    "variables by assigning to this dictionary. globals() gives a reference to the\n",
    "attribute dictionary for the current module\n",
    "\n",
    "\n"
   ]
  },
  {
   "cell_type": "code",
   "execution_count": 7,
   "metadata": {
    "collapsed": false
   },
   "outputs": [
    {
     "name": "stdout",
     "output_type": "stream",
     "text": [
      "0\n"
     ]
    }
   ],
   "source": [
    "for name in basket_names:\n",
    "    globals()[name]=Basket()\n",
    "\n",
    "\n",
    "print kiwis.count"
   ]
  },
  {
   "cell_type": "markdown",
   "metadata": {},
   "source": [
    "\n",
    "\n",
    "This is **metaprogramming**.\n",
    "\n",
    "I would NOT recommend using it for an example as trivial as the one above. \n",
    "A better, more Pythonic choice here would be to use a data structure to manage your set of fruit baskets:\n",
    "\n",
    "\n"
   ]
  },
  {
   "cell_type": "code",
   "execution_count": 8,
   "metadata": {
    "collapsed": false
   },
   "outputs": [
    {
     "name": "stdout",
     "output_type": "stream",
     "text": [
      "0\n"
     ]
    }
   ],
   "source": [
    "baskets={}\n",
    "for name in basket_names:\n",
    "    baskets[name]=Basket()\n",
    "\n",
    "print baskets['kiwis'].count"
   ]
  },
  {
   "cell_type": "markdown",
   "metadata": {},
   "source": [
    "\n",
    "\n",
    "Or even, using a dictionary comprehension:\n",
    "\n",
    "\n"
   ]
  },
  {
   "cell_type": "code",
   "execution_count": 9,
   "metadata": {
    "collapsed": false
   },
   "outputs": [
    {
     "name": "stdout",
     "output_type": "stream",
     "text": [
      "0\n"
     ]
    }
   ],
   "source": [
    "baskets={name : Basket() for name in baskets}\n",
    "print baskets['kiwis'].count"
   ]
  },
  {
   "cell_type": "markdown",
   "metadata": {},
   "source": [
    "\n",
    "\n",
    "Which is the nicest way to do this, I think. Code which feels like\n",
    "metaprogramming is needed to make it less repetitive can often instead be DRYed\n",
    "up using a refactored data structure, in a way which is cleaner and more easy\n",
    "to understand. Nevertheless, metaprogramming is worth knowing. \n"
   ]
  },
  {
   "cell_type": "markdown",
   "metadata": {},
   "source": [
    "## Functional programming"
   ]
  },
  {
   "cell_type": "markdown",
   "metadata": {},
   "source": [
    "### Functional Programming"
   ]
  },
  {
   "cell_type": "markdown",
   "metadata": {},
   "source": [
    "\n",
    "Understanding to think in a *functional programming* style is almost as\n",
    "important as object orientation for building DRY, clear scientific software,\n",
    "and is just as conceptually difficult.\n",
    "\n",
    "Programs are composed of functions: they take data in (which we call\n",
    "*parameters* or *arguments*) and send data out (through `return` statements.)\n",
    "\n",
    "A conceptual trick which is often used by computer scientists to teach the core\n",
    "idea of functional programming is this: to write a program,\n",
    "in theory, you only ever need functions with **one** argument, even when you think you need two or more. Why?\n",
    "\n",
    "Let's define a program to add two numbers:\n",
    "\n",
    "\n"
   ]
  },
  {
   "cell_type": "code",
   "execution_count": 10,
   "metadata": {
    "collapsed": false
   },
   "outputs": [
    {
     "data": {
      "text/plain": [
       "11"
      ]
     },
     "execution_count": 10,
     "metadata": {},
     "output_type": "execute_result"
    }
   ],
   "source": [
    "def add(a,b):\n",
    "    return a+b\n",
    "\n",
    "add(5,6)"
   ]
  },
  {
   "cell_type": "markdown",
   "metadata": {},
   "source": [
    "\n",
    "\n",
    "How could we do this, in a fictional version of Python which only defined functions of one argument?\n",
    "In order to understand this, we'll have to understand several of the concepts\n",
    "of functional programming. Let's start with a program which just adds five to\n",
    "something:\n",
    "\n",
    "\n"
   ]
  },
  {
   "cell_type": "code",
   "execution_count": 11,
   "metadata": {
    "collapsed": false
   },
   "outputs": [
    {
     "data": {
      "text/plain": [
       "11"
      ]
     },
     "execution_count": 11,
     "metadata": {},
     "output_type": "execute_result"
    }
   ],
   "source": [
    "def add_five(a):\n",
    "    return a+5\n",
    "\n",
    "add_five(6)"
   ]
  },
  {
   "cell_type": "markdown",
   "metadata": {},
   "source": [
    "\n",
    "\n",
    "OK, we could define lots of these, one for each number we want to add. But that\n",
    "would be infinitely repetitive. So, let's try to metaprogram that: we want a\n",
    "function which returns these add_N() functions.\n",
    "\n",
    "Let's start with the easy case: a function which returns a function which adds 5 to something:\n",
    "\n",
    "\n"
   ]
  },
  {
   "cell_type": "code",
   "execution_count": null,
   "metadata": {
    "collapsed": false
   },
   "outputs": [],
   "source": [
    "\n",
    "def generate_five_adder():\n",
    "    def _add_five(a):\n",
    "        return a+5\n",
    "    return _add_five\n",
    "\n",
    "coolfunction = generate_five_adder()\n",
    "coolfunction(7)\n"
   ]
  },
  {
   "cell_type": "markdown",
   "metadata": {},
   "source": [
    "\n",
    "\n",
    "OK, so what happened there? Well, we defined a function **inside** the other function. We can always do that:\n",
    "\n",
    "\n"
   ]
  },
  {
   "cell_type": "code",
   "execution_count": 12,
   "metadata": {
    "collapsed": false
   },
   "outputs": [
    {
     "data": {
      "text/plain": [
       "30"
      ]
     },
     "execution_count": 12,
     "metadata": {},
     "output_type": "execute_result"
    }
   ],
   "source": [
    "def thirty_function():\n",
    "    def times_three(a):\n",
    "        return a*3\n",
    "    def add_seven(a):\n",
    "        return a+7\n",
    "    return times_three(add_seven(3))\n",
    "\n",
    "thirty_function()"
   ]
  },
  {
   "cell_type": "markdown",
   "metadata": {},
   "source": [
    "\n",
    "\n",
    "When we do this, the functions enclosed inside the outer function are **local** functions, and can't be seen outside:\n",
    "\n",
    "\n"
   ]
  },
  {
   "cell_type": "code",
   "execution_count": 13,
   "metadata": {
    "collapsed": false
   },
   "outputs": [],
   "source": [
    "with assert_raises(NameError):\n",
    "    add_seven"
   ]
  },
  {
   "cell_type": "markdown",
   "metadata": {},
   "source": [
    "\n",
    "\n",
    "There's not really much of a difference between functions and other variables\n",
    "in python. A function is just a variable which can have () put after it to call\n",
    "the code!\n",
    "\n",
    "\n"
   ]
  },
  {
   "cell_type": "code",
   "execution_count": 14,
   "metadata": {
    "collapsed": false
   },
   "outputs": [
    {
     "name": "stdout",
     "output_type": "stream",
     "text": [
      "<function thirty_function at 0x10cc61e60>\n",
      "<function thirty_function at 0x10cc61e60>\n",
      "<function add_five at 0x10cc61d70>\n",
      "<function add at 0x10cc61c80>\n"
     ]
    }
   ],
   "source": [
    "print thirty_function\n",
    "x=[thirty_function, add_five, add]\n",
    "\n",
    "for fun in x:\n",
    "    print fun"
   ]
  },
  {
   "cell_type": "markdown",
   "metadata": {},
   "source": [
    "\n",
    "\n",
    "And we know that one of the things we can do with a variable is `return` it. So we can return a function, and then call it outside:\n",
    "\n",
    "\n"
   ]
  },
  {
   "cell_type": "code",
   "execution_count": 15,
   "metadata": {
    "collapsed": false
   },
   "outputs": [
    {
     "name": "stdout",
     "output_type": "stream",
     "text": [
      "Just passing the time...\n",
      "Hello\n"
     ]
    }
   ],
   "source": [
    "def deferred_greeting():\n",
    "    def greet():\n",
    "        print \"Hello\"\n",
    "    return greet\n",
    "\n",
    "friendlyfunction=deferred_greeting()\n",
    "\n",
    "# Do something else\n",
    "print \"Just passing the time...\"\n",
    "\n",
    "# OK, Go!\n",
    "friendlyfunction()"
   ]
  },
  {
   "cell_type": "markdown",
   "metadata": {},
   "source": [
    "\n",
    "\n",
    "\n",
    "So now, to finish this, we just need to return a function to add an arbitrary amount:\n",
    "\n",
    "\n"
   ]
  },
  {
   "cell_type": "code",
   "execution_count": 16,
   "metadata": {
    "collapsed": false
   },
   "outputs": [
    {
     "data": {
      "text/plain": [
       "12"
      ]
     },
     "execution_count": 16,
     "metadata": {},
     "output_type": "execute_result"
    }
   ],
   "source": [
    "def define_adder(increment):\n",
    "    def adder(a):\n",
    "        return a+increment\n",
    "    return adder\n",
    "\n",
    "add_3=define_adder(3)\n",
    "\n",
    "add_3(9)"
   ]
  },
  {
   "cell_type": "markdown",
   "metadata": {},
   "source": [
    "\n",
    "\n",
    "We can make this even prettier: let's make another variable pointing to our define_adder() function:\n",
    "\n",
    "\n"
   ]
  },
  {
   "cell_type": "code",
   "execution_count": 17,
   "metadata": {
    "collapsed": false
   },
   "outputs": [],
   "source": [
    "add = define_adder"
   ]
  },
  {
   "cell_type": "markdown",
   "metadata": {},
   "source": [
    "\n",
    "\n",
    "And now we can do the real magic:\n",
    "\n",
    "\n"
   ]
  },
  {
   "cell_type": "code",
   "execution_count": 18,
   "metadata": {
    "collapsed": false
   },
   "outputs": [
    {
     "data": {
      "text/plain": [
       "13"
      ]
     },
     "execution_count": 18,
     "metadata": {},
     "output_type": "execute_result"
    }
   ],
   "source": [
    "add(8)(5)"
   ]
  },
  {
   "cell_type": "markdown",
   "metadata": {},
   "source": [
    "### Closures"
   ]
  },
  {
   "cell_type": "markdown",
   "metadata": {},
   "source": [
    "You may have noticed something a bit weird:\n",
    "\n",
    "In the definition of `define_adder`, `increment` is a local variable. It should have gone out of scope and died at the end of the definition. How can the amount the returned adder function is adding still be kept?\n",
    "\n",
    "This is called a **closure**. In Python, whenever a function definition references a variable in the surrounding scope, it is preserved within the function definition.\n",
    "\n",
    "You can close over global module variables as well:\n",
    "\n",
    "\n"
   ]
  },
  {
   "cell_type": "code",
   "execution_count": 19,
   "metadata": {
    "collapsed": false
   },
   "outputs": [
    {
     "name": "stdout",
     "output_type": "stream",
     "text": [
      "Hello,  James\n"
     ]
    }
   ],
   "source": [
    "name = \"James\"\n",
    "def greet():\n",
    "    print \"Hello, \", name\n",
    "\n",
    "greet()"
   ]
  },
  {
   "cell_type": "markdown",
   "metadata": {},
   "source": [
    "\n",
    "\n",
    "And note that the closure stores a reference to the variable in the surrounding scope: (\"Late Binding\")\n",
    "\n",
    "\n"
   ]
  },
  {
   "cell_type": "code",
   "execution_count": 20,
   "metadata": {
    "collapsed": false
   },
   "outputs": [
    {
     "name": "stdout",
     "output_type": "stream",
     "text": [
      "Hello,  Matt\n"
     ]
    }
   ],
   "source": [
    "name=\"Matt\"\n",
    "\n",
    "greet()"
   ]
  },
  {
   "cell_type": "markdown",
   "metadata": {},
   "source": [
    "### Map and Reduce"
   ]
  },
  {
   "cell_type": "markdown",
   "metadata": {},
   "source": [
    "We often want to apply a function to each variable in an array, to return a new array. We can do this with a list comprehension:\n",
    "\n",
    "\n"
   ]
  },
  {
   "cell_type": "code",
   "execution_count": 21,
   "metadata": {
    "collapsed": false
   },
   "outputs": [
    {
     "data": {
      "text/plain": [
       "[5, 6, 7, 8, 9, 10, 11, 12, 13, 14]"
      ]
     },
     "execution_count": 21,
     "metadata": {},
     "output_type": "execute_result"
    }
   ],
   "source": [
    "numbers=range(10)\n",
    "\n",
    "[add_five(i) for i in numbers]"
   ]
  },
  {
   "cell_type": "markdown",
   "metadata": {},
   "source": [
    "\n",
    "\n",
    "But this is sufficiently common that there's a quick built-in:\n",
    "\n",
    "\n"
   ]
  },
  {
   "cell_type": "code",
   "execution_count": 22,
   "metadata": {
    "collapsed": false
   },
   "outputs": [
    {
     "data": {
      "text/plain": [
       "[5, 6, 7, 8, 9, 10, 11, 12, 13, 14]"
      ]
     },
     "execution_count": 22,
     "metadata": {},
     "output_type": "execute_result"
    }
   ],
   "source": [
    "map(add_five, numbers)"
   ]
  },
  {
   "cell_type": "markdown",
   "metadata": {},
   "source": [
    "\n",
    "\n",
    "This **map** operation is really important conceptually when understanding\n",
    "efficient parallel programming: different computers can apply the *mapped*\n",
    "function to their input at the same time. We call this Single Program, Multiple\n",
    "Data. (SPMD) **map** is half of the **map-reduce** functional programming\n",
    "paradigm which is key to the efficient operation of much of today's \"data\n",
    "science\" explosion. \n",
    "\n",
    "Let's continue our functional programming mind-stretch by looking at **reduce** operations.\n",
    "\n",
    "We very often want to loop with some kind of accumulator, such as when finding a mean, or finding a maximum:\n",
    "\n",
    "\n"
   ]
  },
  {
   "cell_type": "code",
   "execution_count": 23,
   "metadata": {
    "collapsed": false
   },
   "outputs": [
    {
     "data": {
      "text/plain": [
       "10"
      ]
     },
     "execution_count": 23,
     "metadata": {},
     "output_type": "execute_result"
    }
   ],
   "source": [
    "def mean(data):\n",
    "    sum=0.0\n",
    "    for x in data:\n",
    "        sum+=x\n",
    "    return sum/len(data)\n",
    "\n",
    "mean(range(10))\n",
    "\n",
    "import sys\n",
    "def my_max(data):\n",
    "    # Start with the smallest possible number\n",
    "    highest=sys.float_info.min\n",
    "    for x in data:\n",
    "        if x>highest:\n",
    "            highest=x\n",
    "    return highest\n",
    "\n",
    "my_max([2,5,10,-11,-5])"
   ]
  },
  {
   "cell_type": "markdown",
   "metadata": {},
   "source": [
    "These operations, where we have some variable which is building up a result,\n",
    "and the result is updated with some operation, can be gathered together as a\n",
    "functional program, taking in the operation to be used to combine results as an\n",
    "argument:"
   ]
  },
  {
   "cell_type": "code",
   "execution_count": 24,
   "metadata": {
    "collapsed": false
   },
   "outputs": [
    {
     "name": "stdout",
     "output_type": "stream",
     "text": [
      "10\n",
      "10\n"
     ]
    }
   ],
   "source": [
    "def accumulate(initial, operation, data):\n",
    "    accumulator=initial\n",
    "    for x in data:\n",
    "        accumulator=operation(accumulator, x)\n",
    "    return accumulator\n",
    "\n",
    "def my_sum(data):\n",
    "    def _add(a,b):\n",
    "        return a+b\n",
    "    return accumulate(0, _add, data)\n",
    "\n",
    "print my_sum(range(5))\n",
    "\n",
    "def bigger(a,b):\n",
    "    if b>a:\n",
    "        return b\n",
    "    return a\n",
    "\n",
    "def my_max(data):\n",
    "    return accumulate(sys.float_info.min, bigger, data)\n",
    "\n",
    "print my_max([2,5,10,-11,-5])"
   ]
  },
  {
   "cell_type": "markdown",
   "metadata": {},
   "source": [
    "\n",
    "\n",
    "Now, because these operations, _bigger, and _add, are such that e.g. (a+b)+c = a+(b+c) , i.e. they are **associative**, we could apply our accumulation\n",
    "to the left half and the right half of the array, each on a different computer, and then combine the two halves:\n",
    "\n",
    "1+2+3+4=(1+2)+(3+4)\n",
    "\n",
    "Indeed, with a bigger array, we can divide-and-conquer more times:\n",
    "\n",
    "1+2+3+4+5+6+7+8=((1+2)+(3+4))+((5+6)+(7+8))\n",
    "\n",
    "So with enough parallel computers, we could do this operation on eight numbers\n",
    "in three steps: first, we use four computers to do one  each of the pairwise\n",
    "adds.\n",
    "\n",
    "Then, we use two computers to add the four totals.\n",
    "\n",
    "Then, we use one of the computers to do the final add of the two last numbers.\n",
    "\n",
    "You might be able to do the maths to see that with an N element list, the\n",
    "number of such steps is proportional to the logarithm of N.\n",
    "\n",
    "We say that with enough computers, reduction operations are O(ln N)\n",
    "\n",
    "This course isn't an introduction to algorithms, but we'll talk more about this\n",
    "O() notation when we think about programming for performance.\n",
    "\n",
    "Anyway, this accumulate-under-an-operation process, is so fundamental to\n",
    "computing that it's usually in standard libraries for languages which allow\n",
    "functional programming:\n",
    "\n",
    "\n"
   ]
  },
  {
   "cell_type": "code",
   "execution_count": 26,
   "metadata": {
    "collapsed": false
   },
   "outputs": [
    {
     "data": {
      "text/plain": [
       "10"
      ]
     },
     "execution_count": 26,
     "metadata": {},
     "output_type": "execute_result"
    }
   ],
   "source": [
    "from functools import reduce\n",
    "\n",
    "def my_max(data):\n",
    "    return reduce(bigger,data,sys.float_info.min)\n",
    "\n",
    "my_max([2,5,10,-11,-5])"
   ]
  },
  {
   "cell_type": "markdown",
   "metadata": {},
   "source": [
    "\n",
    "\n",
    "When doing functional programming, we often want to be able to define a function on the fly:\n",
    "\n",
    "\n"
   ]
  },
  {
   "cell_type": "code",
   "execution_count": 27,
   "metadata": {
    "collapsed": false
   },
   "outputs": [
    {
     "data": {
      "text/plain": [
       "4"
      ]
     },
     "execution_count": 27,
     "metadata": {},
     "output_type": "execute_result"
    }
   ],
   "source": [
    "def most_Cs_in_any_sequence(sequences):\n",
    "    def count_Cs(sequence):\n",
    "        return sequence.count('C')\n",
    "    counts=map(count_Cs, sequences)\n",
    "    return max(counts)\n",
    "\n",
    "def most_Gs_in_any_sequence(sequences):\n",
    "    return max(map(lambda sequence: sequence.count('G'),sequences))\n",
    "\n",
    "data=[\n",
    "    \"CGTA\",\n",
    "    \"CGGGTAAACG\",\n",
    "    \"GATTACA\"\n",
    "]\n",
    "\n",
    "most_Gs_in_any_sequence(data)"
   ]
  },
  {
   "cell_type": "markdown",
   "metadata": {},
   "source": [
    "\n",
    "\n",
    "The syntax here is that these two definitions are identical:\n",
    "\n",
    "\n"
   ]
  },
  {
   "cell_type": "code",
   "execution_count": 28,
   "metadata": {
    "collapsed": false
   },
   "outputs": [],
   "source": [
    "func_name=lambda a,b,c : a+b+c\n",
    "\n",
    "def func_name(a,b,c):\n",
    "    a+b+c"
   ]
  },
  {
   "cell_type": "markdown",
   "metadata": {},
   "source": [
    "\n",
    "\n",
    "\n",
    "lambda defines an \"anonymous\" function.\n",
    "\n",
    "\n"
   ]
  },
  {
   "cell_type": "code",
   "execution_count": 29,
   "metadata": {
    "collapsed": false
   },
   "outputs": [
    {
     "data": {
      "text/plain": [
       "3"
      ]
     },
     "execution_count": 29,
     "metadata": {},
     "output_type": "execute_result"
    }
   ],
   "source": [
    "def most_of_given_base_in_any_sequence(sequences, base):\n",
    "    return max(map(lambda sequence: sequence.count(base), sequences))\n",
    "\n",
    "most_of_given_base_in_any_sequence(data,'A')"
   ]
  },
  {
   "cell_type": "markdown",
   "metadata": {},
   "source": [
    "\n",
    "\n",
    "The above fragment defined a lambda function as a **closure** over `base`. If you understood that, you've got it! \n",
    "\n",
    "\n"
   ]
  },
  {
   "cell_type": "code",
   "execution_count": 30,
   "metadata": {
    "collapsed": false
   },
   "outputs": [
    {
     "data": {
      "text/plain": [
       "10"
      ]
     },
     "execution_count": 30,
     "metadata": {},
     "output_type": "execute_result"
    }
   ],
   "source": [
    "def my_max(data): return reduce(lambda a,b: a if a>b else b, data,\n",
    "        sys.float_info.min)\n",
    "\n",
    "my_max([2,5,10,-11,-5])"
   ]
  },
  {
   "cell_type": "markdown",
   "metadata": {},
   "source": [
    "### Using functional programming"
   ]
  },
  {
   "cell_type": "markdown",
   "metadata": {},
   "source": [
    "\n",
    "Probably the most common use in research computing for functional programming\n",
    "is the application of a numerical method to a function. For example:\n"
   ]
  },
  {
   "cell_type": "code",
   "execution_count": null,
   "metadata": {
    "collapsed": false
   },
   "outputs": [],
   "source": [
    "% matplotlib inline"
   ]
  },
  {
   "cell_type": "markdown",
   "metadata": {},
   "source": [
    "\n",
    "\n",
    "\n"
   ]
  },
  {
   "cell_type": "code",
   "execution_count": 31,
   "metadata": {
    "collapsed": false
   },
   "outputs": [
    {
     "name": "stdout",
     "output_type": "stream",
     "text": [
      "1.0 -3.44190514264e-21\n"
     ]
    },
    {
     "data": {
      "text/plain": [
       "[<matplotlib.lines.Line2D at 0x113ba6e50>,\n",
       " <matplotlib.lines.Line2D at 0x113bb7110>]"
      ]
     },
     "execution_count": 31,
     "metadata": {},
     "output_type": "execute_result"
    }
   ],
   "source": [
    "from scipy.optimize import newton\n",
    "from numpy import linspace, zeros\n",
    "from matplotlib import pyplot as plt\n",
    "solve_me=lambda x: x**2-x\n",
    "\n",
    "print newton(solve_me, 2), newton(solve_me,0.2)\n",
    "\n",
    "xs=linspace(-1,2,50)\n",
    "solved=[xs,map(solve_me,xs),xs,zeros(50)]\n",
    "plt.plot(*solved)"
   ]
  },
  {
   "cell_type": "markdown",
   "metadata": {},
   "source": [
    "\n",
    "\n",
    "\n",
    "Sometimes such tools return another function:\n",
    "\n",
    "\n"
   ]
  },
  {
   "cell_type": "code",
   "execution_count": 32,
   "metadata": {
    "collapsed": false
   },
   "outputs": [
    {
     "name": "stdout",
     "output_type": "stream",
     "text": [
      "0.495\n"
     ]
    }
   ],
   "source": [
    "def derivative(func, eps):\n",
    "    def _func_derived(x):\n",
    "        return (func(x+eps)-func(x))/eps\n",
    "    return _func_derived\n",
    "\n",
    "derived=(xs,map(solve_me,xs),xs,map(derivative(solve_me,0.01),xs))\n",
    "plt.plot(*derived)\n",
    "print newton(derivative(solve_me,0.01),0)"
   ]
  },
  {
   "cell_type": "markdown",
   "metadata": {},
   "source": [
    "Of course, coding your own numerical methods is bad:"
   ]
  },
  {
   "cell_type": "code",
   "execution_count": 33,
   "metadata": {
    "collapsed": false
   },
   "outputs": [
    {
     "data": {
      "text/plain": [
       "0.5"
      ]
     },
     "execution_count": 33,
     "metadata": {},
     "output_type": "execute_result"
    }
   ],
   "source": [
    "import scipy.misc\n",
    "\n",
    "def derivative(func):\n",
    "    def _func_derived(x):\n",
    "        return scipy.misc.derivative(solve_me,x)\n",
    "    return _func_derived\n",
    "\n",
    "newton(derivative(solve_me),0)"
   ]
  },
  {
   "cell_type": "markdown",
   "metadata": {},
   "source": [
    "\n",
    "\n",
    "If you've done a moderate amount of calculus, then you'll find similarities\n",
    "between functional programming in computer science and Functionals in the\n",
    "calculus of variations.\n",
    "\n"
   ]
  },
  {
   "cell_type": "markdown",
   "metadata": {},
   "source": [
    "## Iterators and Generators"
   ]
  },
  {
   "cell_type": "markdown",
   "metadata": {},
   "source": [
    "### Iterators"
   ]
  },
  {
   "cell_type": "markdown",
   "metadata": {},
   "source": [
    "\n",
    "We've seen that in Python, anything which can be iterated over is called an iterable:\n",
    "\n",
    "\n"
   ]
  },
  {
   "cell_type": "code",
   "execution_count": 34,
   "metadata": {
    "collapsed": false
   },
   "outputs": [
    {
     "name": "stdout",
     "output_type": "stream",
     "text": [
      "KIWIS\n",
      "BANANAS\n",
      "ORANGES\n",
      "APPLES\n"
     ]
    }
   ],
   "source": [
    "for key in baskets:\n",
    "    print key.upper()"
   ]
  },
  {
   "cell_type": "markdown",
   "metadata": {},
   "source": [
    "\n",
    "\n",
    "Surprisingly often, we want to iterate over something that takes a moderately\n",
    "large amount of storage to store. For example, our map images in the\n",
    "green-graph example.\n",
    "\n",
    "Our solution last time involved making an array of all the maps between London\n",
    "and Birmingham. This kept them all in memory *at the same time*: first we\n",
    "downloaded all the maps, then we counted the green pixels in each of them. This\n",
    "would NOT work if we used more points. We could do this with a for loop and an\n",
    "append(), but that's not as elegant as using a **generator**\n",
    "\n",
    "Consider the basic python `range` function:\n",
    "\n",
    "\n"
   ]
  },
  {
   "cell_type": "code",
   "execution_count": 38,
   "metadata": {
    "collapsed": false
   },
   "outputs": [
    {
     "name": "stdout",
     "output_type": "stream",
     "text": [
      "[0, 1, 2, 3, 4, 5, 6, 7, 8, 9]\n"
     ]
    }
   ],
   "source": [
    "print range(10)"
   ]
  },
  {
   "cell_type": "code",
   "execution_count": 39,
   "metadata": {
    "collapsed": false
   },
   "outputs": [
    {
     "data": {
      "text/plain": [
       "499999500000"
      ]
     },
     "execution_count": 39,
     "metadata": {},
     "output_type": "execute_result"
    }
   ],
   "source": [
    "total=0\n",
    "for x in range(int(1e6)): total+= x\n",
    "\n",
    "total"
   ]
  },
  {
   "cell_type": "markdown",
   "metadata": {},
   "source": [
    "\n",
    "\n",
    "While this was executing, the range() statement allocated a million integers.\n",
    "This is very inefficient. We don't actually need a million integers, just each\n",
    "integer in turn up to a million.\n",
    "\n",
    "\n"
   ]
  },
  {
   "cell_type": "code",
   "execution_count": 40,
   "metadata": {
    "collapsed": false
   },
   "outputs": [
    {
     "name": "stdout",
     "output_type": "stream",
     "text": [
      "xrange(3)\n"
     ]
    }
   ],
   "source": [
    "print xrange(3)\n",
    "\n",
    "a=iter(xrange(3))"
   ]
  },
  {
   "cell_type": "code",
   "execution_count": 41,
   "metadata": {
    "collapsed": false
   },
   "outputs": [
    {
     "data": {
      "text/plain": [
       "0"
      ]
     },
     "execution_count": 41,
     "metadata": {},
     "output_type": "execute_result"
    }
   ],
   "source": [
    "a.next()"
   ]
  },
  {
   "cell_type": "code",
   "execution_count": 42,
   "metadata": {
    "collapsed": false
   },
   "outputs": [
    {
     "data": {
      "text/plain": [
       "1"
      ]
     },
     "execution_count": 42,
     "metadata": {},
     "output_type": "execute_result"
    }
   ],
   "source": [
    "a.next()"
   ]
  },
  {
   "cell_type": "code",
   "execution_count": 43,
   "metadata": {
    "collapsed": false
   },
   "outputs": [
    {
     "data": {
      "text/plain": [
       "2"
      ]
     },
     "execution_count": 43,
     "metadata": {},
     "output_type": "execute_result"
    }
   ],
   "source": [
    "a.next()"
   ]
  },
  {
   "cell_type": "code",
   "execution_count": 44,
   "metadata": {
    "collapsed": true
   },
   "outputs": [],
   "source": [
    "with assert_raises(StopIteration):\n",
    "    print a.next()"
   ]
  },
  {
   "cell_type": "code",
   "execution_count": 64,
   "metadata": {
    "collapsed": false
   },
   "outputs": [
    {
     "name": "stdout",
     "output_type": "stream",
     "text": [
      "499999500000\n"
     ]
    }
   ],
   "source": [
    "with assert_raises(StopIteration):\n",
    "    print a.next()\n",
    "\n",
    "total=0\n",
    "for x in xrange(int(1e6)): total+= x\n",
    "\n",
    "print total"
   ]
  },
  {
   "cell_type": "markdown",
   "metadata": {},
   "source": [
    "Similarly:"
   ]
  },
  {
   "cell_type": "code",
   "execution_count": 65,
   "metadata": {
    "collapsed": false
   },
   "outputs": [
    {
     "data": {
      "text/plain": [
       "[('kiwis', <__main__.Basket instance at 0x10cc750e0>),\n",
       " ('bananas', <__main__.Basket instance at 0x10cc75128>),\n",
       " ('oranges', <__main__.Basket instance at 0x10cc75170>),\n",
       " ('apples', <__main__.Basket instance at 0x10cc751b8>)]"
      ]
     },
     "execution_count": 65,
     "metadata": {},
     "output_type": "execute_result"
    }
   ],
   "source": [
    "baskets.items()"
   ]
  },
  {
   "cell_type": "code",
   "execution_count": 66,
   "metadata": {
    "collapsed": false
   },
   "outputs": [
    {
     "data": {
      "text/plain": [
       "<dictionary-itemiterator at 0x113bd6a48>"
      ]
     },
     "execution_count": 66,
     "metadata": {},
     "output_type": "execute_result"
    }
   ],
   "source": [
    "baskets.iteritems()"
   ]
  },
  {
   "cell_type": "markdown",
   "metadata": {},
   "source": [
    "\n",
    "\n",
    "\n",
    "We can make our own iterators by defining classes that implement next() and __iter__() methods: this is the iterator protocol.\n",
    "\n",
    "For each of the concepts we've talked about, python defines a protocol, a set of methods a class must implement, in order to be treated as a member of that concept.\n",
    "\n",
    "For the iterator protocol, the protocol that defines things that support `for x in y:`, the methods that must be supported are `next()` and `__iter__()`.\n",
    "\n",
    "\n"
   ]
  },
  {
   "cell_type": "code",
   "execution_count": 67,
   "metadata": {
    "collapsed": true
   },
   "outputs": [],
   "source": [
    "class fib_iterator(object):\n",
    "    def __init__(self, limit, seed1=1, seed2=1):\n",
    "        self.limit=limit\n",
    "        self.previous=seed1\n",
    "        self.current=seed2\n",
    "    def __iter__(self):\n",
    "        return self\n",
    "    def next(self):\n",
    "        (self.previous, self.current)=(\n",
    "                self.current, self.previous+self.current)\n",
    "        self.limit -=1\n",
    "        if self.limit<0: raise StopIteration() # This will be \n",
    "                                 # explained in a few slides!\n",
    "        return self.current"
   ]
  },
  {
   "cell_type": "code",
   "execution_count": 68,
   "metadata": {
    "collapsed": true
   },
   "outputs": [],
   "source": [
    "x=fib_iterator(5)"
   ]
  },
  {
   "cell_type": "code",
   "execution_count": 69,
   "metadata": {
    "collapsed": false
   },
   "outputs": [
    {
     "data": {
      "text/plain": [
       "2"
      ]
     },
     "execution_count": 69,
     "metadata": {},
     "output_type": "execute_result"
    }
   ],
   "source": [
    "x.next()"
   ]
  },
  {
   "cell_type": "code",
   "execution_count": 70,
   "metadata": {
    "collapsed": false
   },
   "outputs": [
    {
     "data": {
      "text/plain": [
       "3"
      ]
     },
     "execution_count": 70,
     "metadata": {},
     "output_type": "execute_result"
    }
   ],
   "source": [
    "x.next()"
   ]
  },
  {
   "cell_type": "code",
   "execution_count": 71,
   "metadata": {
    "collapsed": false
   },
   "outputs": [
    {
     "data": {
      "text/plain": [
       "5"
      ]
     },
     "execution_count": 71,
     "metadata": {},
     "output_type": "execute_result"
    }
   ],
   "source": [
    "x.next()"
   ]
  },
  {
   "cell_type": "code",
   "execution_count": 72,
   "metadata": {
    "collapsed": false
   },
   "outputs": [
    {
     "data": {
      "text/plain": [
       "8"
      ]
     },
     "execution_count": 72,
     "metadata": {},
     "output_type": "execute_result"
    }
   ],
   "source": [
    "x.next()"
   ]
  },
  {
   "cell_type": "code",
   "execution_count": 73,
   "metadata": {
    "collapsed": false
   },
   "outputs": [
    {
     "name": "stdout",
     "output_type": "stream",
     "text": [
      "2\n",
      "3\n",
      "5\n",
      "8\n",
      "13\n"
     ]
    }
   ],
   "source": [
    "for x in fib_iterator(5):\n",
    "    print x"
   ]
  },
  {
   "cell_type": "code",
   "execution_count": 74,
   "metadata": {
    "collapsed": false
   },
   "outputs": [
    {
     "data": {
      "text/plain": [
       "31"
      ]
     },
     "execution_count": 74,
     "metadata": {},
     "output_type": "execute_result"
    }
   ],
   "source": [
    "sum(fib_iterator(5))"
   ]
  },
  {
   "cell_type": "markdown",
   "metadata": {},
   "source": [
    "\n",
    "\n",
    "\n",
    "In fact, if, to be iterated over, a class just wants to behave as if it were some other iterable, you can just implement `__iter__` and return `iter(some_other_iterable)`, without implementing `next`.  For example, an image class might want to implement some metadata, but behave just as if it were just a 1-d pixel array when being iterated:\n",
    "\n",
    "\n"
   ]
  },
  {
   "cell_type": "code",
   "execution_count": 75,
   "metadata": {
    "collapsed": true
   },
   "outputs": [],
   "source": [
    "from numpy import array\n",
    "class MyImage(object):\n",
    "    def __init__(self, pixels):\n",
    "        self.pixels=array(pixels,dtype='uint8')\n",
    "        self.channels=self.pixels.shape[2]\n",
    "    def __iter__(self):\n",
    "        # return an iterator over the pixels\n",
    "        # See future NumPy lecture for using reshape\n",
    "        return iter(self.pixels.reshape(-1,self.channels))\n",
    "    def show(self):\n",
    "        plt.imshow(self.pixels, interpolation=\"None\")\n",
    "\n",
    "x=[[[255,255,0],[0,255,0]],[[0,0,255],[255,255,255]]]\n",
    "image=MyImage(x)"
   ]
  },
  {
   "cell_type": "code",
   "execution_count": 80,
   "metadata": {
    "collapsed": false
   },
   "outputs": [
    {
     "data": {
      "image/png": "[encoded data removed]",
      "text/plain": [
       "<matplotlib.figure.Figure at 0x111828890>"
      ]
     },
     "metadata": {},
     "output_type": "display_data"
    }
   ],
   "source": [
    "%matplotlib inline\n",
    "image.show()"
   ]
  },
  {
   "cell_type": "code",
   "execution_count": 81,
   "metadata": {
    "collapsed": false
   },
   "outputs": [
    {
     "data": {
      "text/plain": [
       "3"
      ]
     },
     "execution_count": 81,
     "metadata": {},
     "output_type": "execute_result"
    }
   ],
   "source": [
    "image.channels"
   ]
  },
  {
   "cell_type": "code",
   "execution_count": 83,
   "metadata": {
    "collapsed": false
   },
   "outputs": [
    {
     "name": "stdout",
     "output_type": "stream",
     "text": [
      "yellow\n",
      "lime\n",
      "blue\n",
      "white\n"
     ]
    }
   ],
   "source": [
    "from webcolors import rgb_to_name\n",
    "for pixel in image:\n",
    "    print rgb_to_name(pixel)"
   ]
  },
  {
   "cell_type": "markdown",
   "metadata": {},
   "source": [
    "\n",
    "\n",
    "\n",
    "Technically, the **iterator** protocol is to implement both `__iter__` and\n",
    "`next`, while the **iterable** protocol is to implement `__iter__` and return\n",
    "an **iterator**.\n"
   ]
  },
  {
   "cell_type": "markdown",
   "metadata": {},
   "source": [
    "### Generators"
   ]
  },
  {
   "cell_type": "markdown",
   "metadata": {},
   "source": [
    "\n",
    "There's a fair amount of \"boiler-plate\" in the above class-based definition of\n",
    "an iterable. Python provides another way to specify something\n",
    "which meets the iterator protocol: generators.\n",
    "\n",
    "\n"
   ]
  },
  {
   "cell_type": "code",
   "execution_count": 84,
   "metadata": {
    "collapsed": false
   },
   "outputs": [
    {
     "name": "stdout",
     "output_type": "stream",
     "text": [
      "5\n",
      "10\n"
     ]
    }
   ],
   "source": [
    "def my_generator():\n",
    "    yield 5\n",
    "    yield 10\n",
    "\n",
    "x=my_generator()\n",
    "print x.next()\n",
    "print x.next()\n",
    "\n",
    "with assert_raises(StopIteration):\n",
    "    print x.next()"
   ]
  },
  {
   "cell_type": "markdown",
   "metadata": {},
   "source": [
    "\n",
    "\n",
    "\n",
    "A function which has `yield` statements instead of a `return` statement returns\n",
    "**temporarily**. Each call of next() returns control to the function. Where it\n",
    "left off. Control passes back-and-forth between the generator and the caller.\n",
    "Our fibonacci example therefore becomes:\n",
    "\n",
    "\n"
   ]
  },
  {
   "cell_type": "code",
   "execution_count": 87,
   "metadata": {
    "collapsed": true
   },
   "outputs": [],
   "source": [
    "def yield_fibs(limit, seed1=1,seed2=1):\n",
    "    current=seed1\n",
    "    previous=seed2\n",
    "    while limit>0:\n",
    "        limit-=1\n",
    "        current, previous = current+previous, current\n",
    "        yield current"
   ]
  },
  {
   "cell_type": "code",
   "execution_count": 88,
   "metadata": {
    "collapsed": false
   },
   "outputs": [
    {
     "name": "stdout",
     "output_type": "stream",
     "text": [
      "31\n"
     ]
    }
   ],
   "source": [
    "print sum(yield_fibs(5))"
   ]
  },
  {
   "cell_type": "code",
   "execution_count": 89,
   "metadata": {
    "collapsed": false
   },
   "outputs": [
    {
     "data": {
      "text/plain": [
       "[<matplotlib.lines.Line2D at 0x114dab0d0>]"
      ]
     },
     "execution_count": 89,
     "metadata": {},
     "output_type": "execute_result"
    },
    {
     "data": {
      "image/png": "[encoded data removed]",
      "text/plain": [
       "<matplotlib.figure.Figure at 0x114bcf250>"
      ]
     },
     "metadata": {},
     "output_type": "display_data"
    }
   ],
   "source": [
    "plt.plot(list(yield_fibs(20)))"
   ]
  },
  {
   "cell_type": "markdown",
   "metadata": {},
   "source": [
    "## Exceptions"
   ]
  },
  {
   "cell_type": "markdown",
   "metadata": {},
   "source": [
    "### Exceptions"
   ]
  },
  {
   "cell_type": "markdown",
   "metadata": {},
   "source": [
    "\n",
    "When we learned about testing, we saw that Python complains when things go wrong by raising an \"Exception\" naming a type of error:\n",
    "\n",
    "\n"
   ]
  },
  {
   "cell_type": "code",
   "execution_count": 90,
   "metadata": {
    "collapsed": false
   },
   "outputs": [],
   "source": [
    "with assert_raises(ZeroDivisionError):\n",
    "    1/0"
   ]
  },
  {
   "cell_type": "markdown",
   "metadata": {},
   "source": [
    "\n",
    "\n",
    "Exceptions are objects, forming a class hierarchy. We just raised an instance\n",
    "of the ZeroDivisionError class, making the program crash.\n",
    "\n",
    "\n"
   ]
  },
  {
   "cell_type": "code",
   "execution_count": 91,
   "metadata": {
    "collapsed": false
   },
   "outputs": [
    {
     "data": {
      "text/plain": [
       "(ZeroDivisionError,\n",
       " ArithmeticError,\n",
       " StandardError,\n",
       " Exception,\n",
       " BaseException,\n",
       " object)"
      ]
     },
     "execution_count": 91,
     "metadata": {},
     "output_type": "execute_result"
    }
   ],
   "source": [
    "import inspect\n",
    "inspect.getmro(ZeroDivisionError)"
   ]
  },
  {
   "cell_type": "markdown",
   "metadata": {},
   "source": [
    "\n",
    "\n",
    "So we can see that a zero division error is a particular kind of Arithmetic Error.\n",
    "\n",
    "\n"
   ]
  },
  {
   "cell_type": "code",
   "execution_count": 92,
   "metadata": {
    "collapsed": false
   },
   "outputs": [
    {
     "data": {
      "text/plain": [
       "(TypeError, StandardError, Exception, BaseException, object)"
      ]
     },
     "execution_count": 92,
     "metadata": {},
     "output_type": "execute_result"
    }
   ],
   "source": [
    "x=1\n",
    "with assert_raises(TypeError):\n",
    "    for y in x: print y\n",
    "\n",
    "inspect.getmro(TypeError)"
   ]
  },
  {
   "cell_type": "markdown",
   "metadata": {},
   "source": [
    "\n",
    "\n",
    "\n",
    "When we were looking at testing, we saw that it is important for code to crash with a meaningful exception type when something is wrong.\n",
    "We raise an Exception with `raise`. Often, we can look for an appropriate exception from the standard set to raise. \n",
    "\n",
    "However, we may want to define our own exceptions. Doing this is as simple as inheriting from Exception:\n",
    "\n",
    "\n"
   ]
  },
  {
   "cell_type": "code",
   "execution_count": 93,
   "metadata": {
    "collapsed": false
   },
   "outputs": [],
   "source": [
    "class MyCustomErrorType(Exception):\n",
    "    pass\n",
    "\n",
    "with assert_raises(MyCustomErrorType):\n",
    "    raise(MyCustomErrorType(\"Problem\"))"
   ]
  },
  {
   "cell_type": "markdown",
   "metadata": {},
   "source": [
    "\n",
    "\n",
    "You can add custom data to your exception:\n",
    "\n",
    "\n"
   ]
  },
  {
   "cell_type": "code",
   "execution_count": 94,
   "metadata": {
    "collapsed": false
   },
   "outputs": [],
   "source": [
    "class MyCustomErrorType(Exception):\n",
    "    def __init__(self, category=None):\n",
    "        self.category=category\n",
    "    def __str__(self):\n",
    "        return \"Error, cateory \" + str(self. category)\n",
    "\n",
    "with assert_raises(MyCustomErrorType):\n",
    "    raise(MyCustomErrorType(404))"
   ]
  },
  {
   "cell_type": "markdown",
   "metadata": {},
   "source": [
    "\n",
    "\n",
    "The real power of exceptions comes, however, not in letting them crash the program, but in letting your program handle them. We say that an exception has been \"thrown\" and then \"caught\".\n",
    "\n",
    "\n"
   ]
  },
  {
   "cell_type": "code",
   "execution_count": 95,
   "metadata": {
    "collapsed": false
   },
   "outputs": [
    {
     "name": "stdout",
     "output_type": "stream",
     "text": [
      "anonymous\n"
     ]
    }
   ],
   "source": [
    "import yaml\n",
    "try:\n",
    "    config=yaml.load(open(\"datasource.yaml\"))\n",
    "    user=config[\"userid\"]\n",
    "    password=config[\"password\"]\n",
    "except IOError:\n",
    "    user=\"anonymous\"\n",
    "    password=None\n",
    "\n",
    "print user"
   ]
  },
  {
   "cell_type": "markdown",
   "metadata": {},
   "source": [
    "\n",
    "\n",
    "Note that we specify only the error we expect to happen and want to handle. Sometimes you see code that catches everything:\n",
    "\n",
    "\n"
   ]
  },
  {
   "cell_type": "code",
   "execution_count": 96,
   "metadata": {
    "collapsed": false
   },
   "outputs": [
    {
     "name": "stdout",
     "output_type": "stream",
     "text": [
      "anonymous\n"
     ]
    }
   ],
   "source": [
    "try:\n",
    "    config=yaml.lod(open(\"datasource.yaml\"))\n",
    "    user=config[\"userid\"]\n",
    "    password=config[\"password\"]\n",
    "except:\n",
    "    user=\"anonymous\"\n",
    "    password=None\n",
    "\n",
    "print user"
   ]
  },
  {
   "cell_type": "markdown",
   "metadata": {},
   "source": [
    "\n",
    "\n",
    "There was a mistyped function name there, but we did not notice the error, as the generic except caught it. \n",
    "Therefore, we should catch only the error we want.\n",
    "\n",
    "\n"
   ]
  },
  {
   "cell_type": "code",
   "execution_count": 97,
   "metadata": {
    "collapsed": false
   },
   "outputs": [
    {
     "name": "stdout",
     "output_type": "stream",
     "text": [
      "('jamespjh', 'secret')\n",
      "('anonymous', None)\n"
     ]
    }
   ],
   "source": [
    "with open('datasource2.yaml','w') as outfile:\n",
    "    outfile.write('userid: jamespjh\\n')\n",
    "    outfile.write('password: secret\\n')\n",
    "\n",
    "with open('datasource3.yaml','w') as outfile:\n",
    "    outfile.write('user: jamespjh\\n')\n",
    "    outfile.write('password: secret\\n')\n",
    "\n",
    "def read_credentials(source):\n",
    "    try:\n",
    "       datasource=open(source)\n",
    "       config=yaml.load(datasource)\n",
    "       user=config[\"userid\"]\n",
    "       password=config[\"password\"]\n",
    "       datasource.close()\n",
    "    except IOError:\n",
    "       user=\"anonymous\"\n",
    "       password=None\n",
    "    return user, password\n",
    "\n",
    "print read_credentials('datasource2.yaml')\n",
    "\n",
    "print read_credentials('datasource.yaml')\n",
    "\n",
    "with assert_raises(KeyError):\n",
    "    print read_credentials('datasource3.yaml')\n"
   ]
  },
  {
   "cell_type": "markdown",
   "metadata": {},
   "source": [
    "\n",
    "\n",
    "\n",
    "This last code has a flaw: the file was successfully opened, the missing key was noticed, but not explicitly closed. It's normally OK, as python will close the file as soon as it notices there are no longer any references to datasource in memory, after the function exits. But this is not good practice, you should keep a file handle for as short a time as possible.\n",
    "\n",
    "\n"
   ]
  },
  {
   "cell_type": "code",
   "execution_count": 98,
   "metadata": {
    "collapsed": false
   },
   "outputs": [],
   "source": [
    "def read_credentials(source):\n",
    "    try:\n",
    "       datasource=open(source)\n",
    "       config=yaml.load(datasource)\n",
    "       user=config[\"userid\"]\n",
    "       password=config[\"password\"]\n",
    "    except IOError:\n",
    "       user=\"anonymous\"\n",
    "       password=None\n",
    "    finally:\n",
    "        datasource.close()\n",
    "    return user, password"
   ]
  },
  {
   "cell_type": "markdown",
   "metadata": {},
   "source": [
    "\n",
    "\n",
    "\n",
    "The `finally` clause is executed whether or not an exception occurs.\n",
    "\n",
    "The last optional clause of a `try` statement, an `else` clause is called only if an exception is NOT raised. It can be a better place than the `try` clause to put code other than that which you expect to raise the error, and which you do not want to be executed if the error is raised. It is executed in the same circumstances as code put in the end of the `try` block, the only difference is that errors raised during the `else` clause are not caught. Don't worry if this seems useless to you; most languages implementations of try/except don't support such a clause.\n",
    "\n",
    "\n"
   ]
  },
  {
   "cell_type": "code",
   "execution_count": 99,
   "metadata": {
    "collapsed": false
   },
   "outputs": [],
   "source": [
    "def read_credentials(source):\n",
    "    try:\n",
    "       datasource=open(source)\n",
    "    except IOError:\n",
    "       user=\"anonymous\"\n",
    "       password=None\n",
    "    else:\n",
    "       config=yaml.load(datasource)\n",
    "       user=config[\"userid\"]\n",
    "       password=config[\"password\"]\n",
    "    finally:\n",
    "        datasource.close()\n",
    "    return user, password"
   ]
  },
  {
   "cell_type": "markdown",
   "metadata": {},
   "source": [
    "\n",
    "\n",
    "Exceptions do not have to be caught close to the part of the program calling\n",
    "them. They can be caught anywhere \"above\" the calling point in\n",
    "the call stack: control can jump arbitrarily far in the program: up to the `except` clause of the \"highest\" containing try statement.\n",
    "\n",
    "\n"
   ]
  },
  {
   "cell_type": "code",
   "execution_count": 104,
   "metadata": {
    "collapsed": true
   },
   "outputs": [],
   "source": [
    "def f4(x):\n",
    "    if x==0:\n",
    "        return\n",
    "    if x==1:\n",
    "        raise ArithmeticError()\n",
    "    if x==2:\n",
    "        raise SyntaxError()\n",
    "    if x==3:\n",
    "        raise TypeError()"
   ]
  },
  {
   "cell_type": "code",
   "execution_count": 105,
   "metadata": {
    "collapsed": true
   },
   "outputs": [],
   "source": [
    "def f3(x):\n",
    "    try:\n",
    "        print \"F3Before\"\n",
    "        f4(x)\n",
    "        print \"F3After\"\n",
    "    except ArithmeticError:\n",
    "        print \"F3Except\""
   ]
  },
  {
   "cell_type": "code",
   "execution_count": 106,
   "metadata": {
    "collapsed": true
   },
   "outputs": [],
   "source": [
    "def f2(x):\n",
    "    try:\n",
    "        print \"F2Before\"\n",
    "        f3(x)\n",
    "        print \"F2After\"\n",
    "    except SyntaxError:\n",
    "        print \"F2Except\""
   ]
  },
  {
   "cell_type": "code",
   "execution_count": 107,
   "metadata": {
    "collapsed": true
   },
   "outputs": [],
   "source": [
    "def f1(x):\n",
    "    try:\n",
    "        print \"F1Before\"\n",
    "        f2(x)\n",
    "        print \"F1After\"\n",
    "    except TypeError:\n",
    "        print \"F1Except\""
   ]
  },
  {
   "cell_type": "code",
   "execution_count": 108,
   "metadata": {
    "collapsed": false
   },
   "outputs": [
    {
     "name": "stdout",
     "output_type": "stream",
     "text": [
      "F1Before\n",
      "F2Before\n",
      "F3Before\n",
      "F3After\n",
      "F2After\n",
      "F1After\n"
     ]
    }
   ],
   "source": [
    "f1(0)"
   ]
  },
  {
   "cell_type": "code",
   "execution_count": 109,
   "metadata": {
    "collapsed": false
   },
   "outputs": [
    {
     "name": "stdout",
     "output_type": "stream",
     "text": [
      "F1Before\n",
      "F2Before\n",
      "F3Before\n",
      "F3Except\n",
      "F2After\n",
      "F1After\n"
     ]
    }
   ],
   "source": [
    "f1(1)"
   ]
  },
  {
   "cell_type": "code",
   "execution_count": 110,
   "metadata": {
    "collapsed": false
   },
   "outputs": [
    {
     "name": "stdout",
     "output_type": "stream",
     "text": [
      "F1Before\n",
      "F2Before\n",
      "F3Before\n",
      "F2Except\n",
      "F1After\n"
     ]
    }
   ],
   "source": [
    "f1(2)"
   ]
  },
  {
   "cell_type": "code",
   "execution_count": 111,
   "metadata": {
    "collapsed": false
   },
   "outputs": [
    {
     "name": "stdout",
     "output_type": "stream",
     "text": [
      "F1Before\n",
      "F2Before\n",
      "F3Before\n",
      "F1Except\n"
     ]
    }
   ],
   "source": [
    "f1(3)"
   ]
  },
  {
   "cell_type": "markdown",
   "metadata": {},
   "source": [
    "### Design with Exceptions"
   ]
  },
  {
   "cell_type": "markdown",
   "metadata": {},
   "source": [
    "\n",
    "Now we know how exceptions work, we need to think about the design implications... How best to use them.\n",
    "\n",
    "Traditional software design theory will tell you that they should only be used\n",
    "to describe and recover from **exceptional** conditions: things going wrong.\n",
    "Normal program flow shouldn't use them.\n",
    "\n",
    "Python's designers take a different view: use of exceptions in normal flow is\n",
    "considered OK. For example, all iterators raise a `StopIteration` exception to\n",
    "indicate the iteration is complete.\n",
    "\n",
    "A commonly recommended python design pattern is to use exceptions to determine\n",
    "whether an object implments a protocol (concept/interface), rather than testing\n",
    "on type.\n",
    "\n",
    "For example, we might want a function which can be supplied *either* a data\n",
    "series *or* a path to a location on disk where data can be found. We can\n",
    "examine the type of the supplied content:\n",
    "\n",
    "\n"
   ]
  },
  {
   "cell_type": "code",
   "execution_count": 113,
   "metadata": {
    "collapsed": true
   },
   "outputs": [],
   "source": [
    "import yaml\n",
    "def analysis(source):\n",
    "    if type(source)==dict:\n",
    "        name=source['modelname']\n",
    "    else:\n",
    "        content=open(source)\n",
    "        source=yaml.load(content)\n",
    "        name=source['modelname']\n",
    "    print name"
   ]
  },
  {
   "cell_type": "code",
   "execution_count": 114,
   "metadata": {
    "collapsed": false
   },
   "outputs": [
    {
     "name": "stdout",
     "output_type": "stream",
     "text": [
      "Super\n"
     ]
    }
   ],
   "source": [
    "analysis({'modelname':'Super'})"
   ]
  },
  {
   "cell_type": "code",
   "execution_count": 115,
   "metadata": {
    "collapsed": true
   },
   "outputs": [],
   "source": [
    "with open('example.yaml','w') as outfile:\n",
    "    outfile.write('modelname: brilliant\\n')"
   ]
  },
  {
   "cell_type": "code",
   "execution_count": 116,
   "metadata": {
    "collapsed": false
   },
   "outputs": [
    {
     "name": "stdout",
     "output_type": "stream",
     "text": [
      "brilliant\n"
     ]
    }
   ],
   "source": [
    "analysis('example.yaml')"
   ]
  },
  {
   "cell_type": "markdown",
   "metadata": {},
   "source": [
    "\n",
    "\n",
    "\n",
    "However, we can also use the try-it-and-handle-exceptions approach to this. \n",
    "\n",
    "\n"
   ]
  },
  {
   "cell_type": "code",
   "execution_count": 117,
   "metadata": {
    "collapsed": false
   },
   "outputs": [
    {
     "name": "stdout",
     "output_type": "stream",
     "text": [
      "brilliant\n"
     ]
    }
   ],
   "source": [
    "def analysis(source):\n",
    "    try:\n",
    "      name=source['modelname']\n",
    "    except TypeError:\n",
    "      content=open(source)\n",
    "      source=yaml.load(content)\n",
    "      name=source['modelname']\n",
    "    print name\n",
    "\n",
    "analysis('example.yaml')"
   ]
  },
  {
   "cell_type": "markdown",
   "metadata": {},
   "source": [
    "This approach is more extensible, and **behaves properly if we give it some\n",
    "other data-source which responds like a dictionary or string.**"
   ]
  },
  {
   "cell_type": "code",
   "execution_count": 118,
   "metadata": {
    "collapsed": false
   },
   "outputs": [
    {
     "name": "stdout",
     "output_type": "stream",
     "text": [
      "Amazing\n"
     ]
    }
   ],
   "source": [
    "def analysis(source):\n",
    "    try:\n",
    "      name=source['modelname']\n",
    "    except TypeError:\n",
    "      # Source was not a dictionary-like object\n",
    "      # Maybe it is a file path\n",
    "      try:\n",
    "        content=open(source)\n",
    "        source=yaml.load(content)\n",
    "        name=source['modelname']\n",
    "      except IOError:\n",
    "        # Maybe it was already raw YAML content\n",
    "        source=yaml.load(source)\n",
    "        name=source['modelname']\n",
    "    print name\n",
    "\n",
    "analysis(\"modelname: Amazing\")"
   ]
  },
  {
   "cell_type": "markdown",
   "metadata": {},
   "source": [
    "\n",
    "\n",
    "\n",
    "Sometimes we want to catch an error, partially handle it, perhaps add some\n",
    "extra data to the exception, and then re-raise to be caught again further up\n",
    "the call stack. \n",
    "\n",
    "The keyword \"`raise`\" with no argument in an `except:` clause will cause the\n",
    "caught error to be re-thrown. Doing this is the only circumstance where it is\n",
    "safe to do except: without catching a specfic type of error.\n",
    "\n",
    "\n"
   ]
  },
  {
   "cell_type": "code",
   "execution_count": 119,
   "metadata": {
    "collapsed": false
   },
   "outputs": [],
   "source": [
    "try:\n",
    "    # Something\n",
    "    pass\n",
    "except:\n",
    "    # Do this code here if anything goes wrong\n",
    "    raise"
   ]
  },
  {
   "cell_type": "markdown",
   "metadata": {},
   "source": [
    "\n",
    "\n",
    "It can be useful to catch and re-throw an error as you go up the chain, doing any clean-up needed for each layer of a program.\n",
    "\n",
    "The error will finally be caught and not re-thrown only at a higher program\n",
    "layer that knows how to recover. This is known as the \"throw low catch high\"\n",
    "principle.\n",
    "\n",
    "\n"
   ]
  },
  {
   "cell_type": "markdown",
   "metadata": {},
   "source": [
    "## Context managers and decorators"
   ]
  },
  {
   "cell_type": "markdown",
   "metadata": {},
   "source": [
    "### Context managers"
   ]
  },
  {
   "cell_type": "markdown",
   "metadata": {},
   "source": [
    "\n",
    "We saw that instead of separately `open`ing and `close`ing a file, we can have\n",
    "the file be automatically closed using a context manager:\n",
    "\n",
    "\n"
   ]
  },
  {
   "cell_type": "code",
   "execution_count": 121,
   "metadata": {
    "collapsed": false
   },
   "outputs": [
    {
     "name": "stdout",
     "output_type": "stream",
     "text": [
      "{'modelname': 'brilliant'}\n"
     ]
    }
   ],
   "source": [
    "with open('example.yaml') as foo:\n",
    "    print yaml.load(foo)"
   ]
  },
  {
   "cell_type": "markdown",
   "metadata": {},
   "source": [
    "\n",
    "\n",
    "\n",
    "How could we define our own one of these, if we too have clean-up code we\n",
    "always want to run after a calling function has done its work, or set-up code\n",
    "we want to do first?\n",
    "\n",
    "We can define a class that meets an appropriate protocol:\n",
    "\n",
    "\n"
   ]
  },
  {
   "cell_type": "code",
   "execution_count": 122,
   "metadata": {
    "collapsed": false
   },
   "outputs": [
    {
     "name": "stdout",
     "output_type": "stream",
     "text": [
      "Get ready,  James\n",
      "Doing it!\n",
      "OK, done\n"
     ]
    }
   ],
   "source": [
    "class verbose_context():\n",
    "    def __init__(self, name):\n",
    "        self.name=name\n",
    "    def __enter__(self):\n",
    "        print \"Get ready, \", self.name\n",
    "    def __exit__(self, exc_type, exc_value, traceback):\n",
    "        print \"OK, done\"\n",
    "\n",
    "with verbose_context(\"James\"):\n",
    "    print \"Doing it!\""
   ]
  },
  {
   "cell_type": "markdown",
   "metadata": {},
   "source": [
    "\n",
    "\n",
    "However, this is pretty verbose! Again, a generator with `yield` makes for an easier syntax:\n",
    "\n",
    "\n"
   ]
  },
  {
   "cell_type": "code",
   "execution_count": 123,
   "metadata": {
    "collapsed": false
   },
   "outputs": [
    {
     "name": "stdout",
     "output_type": "stream",
     "text": [
      "Get ready for action,  James\n",
      "Doing it,  JAMES\n",
      "You did it\n"
     ]
    }
   ],
   "source": [
    "from contextlib import contextmanager\n",
    "\n",
    "@contextmanager\n",
    "def verbose_context(name):\n",
    "    print \"Get ready for action, \", name\n",
    "    yield name.upper()\n",
    "    print \"You did it\"\n",
    "\n",
    "with verbose_context(\"James\") as shouty:\n",
    "    print \"Doing it, \",  shouty"
   ]
  },
  {
   "cell_type": "markdown",
   "metadata": {},
   "source": [
    "\n",
    "\n",
    "Again, we use `yield` to temporarily return from a function.\n"
   ]
  },
  {
   "cell_type": "markdown",
   "metadata": {},
   "source": [
    "### Decorators"
   ]
  },
  {
   "cell_type": "markdown",
   "metadata": {},
   "source": [
    "\n",
    "When doing functional programming, we may often want to define mutator\n",
    "functions which take in one function and return a new function, such as our\n",
    "derivative example earlier.\n",
    "\n",
    "\n"
   ]
  },
  {
   "cell_type": "code",
   "execution_count": 124,
   "metadata": {
    "collapsed": false
   },
   "outputs": [
    {
     "name": "stdout",
     "output_type": "stream",
     "text": [
      "1.0\n"
     ]
    }
   ],
   "source": [
    "def repeater(func, count):\n",
    "    def _repeated(x):\n",
    "        counter=count\n",
    "        while counter>0:\n",
    "            counter-=1\n",
    "            x=func(x)\n",
    "        return x\n",
    "    return _repeated\n",
    "\n",
    "from math import sqrt\n",
    "\n",
    "fiftyroots=repeater(sqrt,50)\n",
    "\n",
    "print fiftyroots(100)"
   ]
  },
  {
   "cell_type": "markdown",
   "metadata": {},
   "source": [
    "\n",
    "\n",
    "\n",
    "It turns out that, quite often, we want to apply one of these to a function as we're defining a class.\n",
    "For example, we may want to specify that after certain methods are called, data should always be stored:\n",
    "\n",
    "\n"
   ]
  },
  {
   "cell_type": "code",
   "execution_count": 125,
   "metadata": {
    "collapsed": true
   },
   "outputs": [],
   "source": [
    "def reset_required(func):\n",
    "    def _with_data_save(self, *args):\n",
    "        func(self,*args)\n",
    "        self.stored_data.append(self.data)\n",
    "    return _with_data_save\n",
    "\n",
    "class SomeClass(object):\n",
    "    def __init__(self):\n",
    "        self.data=[]\n",
    "        self.stored_data=[]\n",
    "    def _step1(self, ins):\n",
    "        self.data=[x*2 for x in ins]\n",
    "    step1=reset_required(_step1)"
   ]
  },
  {
   "cell_type": "code",
   "execution_count": 126,
   "metadata": {
    "collapsed": true
   },
   "outputs": [],
   "source": [
    "x=SomeClass()"
   ]
  },
  {
   "cell_type": "code",
   "execution_count": 127,
   "metadata": {
    "collapsed": false
   },
   "outputs": [
    {
     "name": "stdout",
     "output_type": "stream",
     "text": [
      "['HH', 'ee', 'll', 'll', 'oo']\n"
     ]
    }
   ],
   "source": [
    "x.step1(\"Hello\")\n",
    "print x.data"
   ]
  },
  {
   "cell_type": "code",
   "execution_count": 128,
   "metadata": {
    "collapsed": false
   },
   "outputs": [
    {
     "name": "stdout",
     "output_type": "stream",
     "text": [
      "['WW', 'oo', 'rr', 'll', 'dd']\n"
     ]
    }
   ],
   "source": [
    "x.step1(\"World\")\n",
    "print x.data"
   ]
  },
  {
   "cell_type": "code",
   "execution_count": 129,
   "metadata": {
    "collapsed": false
   },
   "outputs": [
    {
     "name": "stdout",
     "output_type": "stream",
     "text": [
      "[['HH', 'ee', 'll', 'll', 'oo'], ['WW', 'oo', 'rr', 'll', 'dd']]\n"
     ]
    }
   ],
   "source": [
    "print x.stored_data"
   ]
  },
  {
   "cell_type": "markdown",
   "metadata": {},
   "source": [
    "\n",
    "\n",
    "\n",
    "Python provides some \"syntactic sugar\" to make this kind of coding prettier:\n",
    "\n",
    "\n"
   ]
  },
  {
   "cell_type": "code",
   "execution_count": null,
   "metadata": {
    "collapsed": false
   },
   "outputs": [],
   "source": [
    "def reset_required(func):\n",
    "    def _with_data_save(self, *args):\n",
    "        func(self,*args)\n",
    "        self.stored_data.append(self.data)\n",
    "    return _with_data_save\n",
    "\n",
    "class SomeClass(object):\n",
    "    def __init__(self):\n",
    "        self.data=[]\n",
    "        self.stored_data=[]\n",
    "    @reset_required\n",
    "    def step1(self, ins):\n",
    "        self.data=[x*2 for x in ins]\n",
    "\n",
    "x=SomeClass()\n",
    "x.step1(\"Hello\")\n",
    "x.step1(\"World\")\n",
    "print x.stored_data\n"
   ]
  },
  {
   "cell_type": "markdown",
   "metadata": {},
   "source": [
    "Any function which accepts a function as its first argument and returns a function can be used as a **decorator** like this.\n",
    "\n",
    "Much of Python's standard functionality is implemented as decorators: we've\n",
    "seen @contextmanager, @classmethod and @attribute. The @contextmanager\n",
    "metafunction, for example, takes in an iterator, and yields a class conforming\n",
    "to the context manager protocol.\n"
   ]
  },
  {
   "cell_type": "markdown",
   "metadata": {},
   "source": [
    "### Testing and functional programming."
   ]
  },
  {
   "cell_type": "markdown",
   "metadata": {},
   "source": [
    "\n",
    "A few weeks ago we saw a test which loaded its test cases from a YAML file and\n",
    "asserted each input with each output. This was nice and concise, but had one\n",
    "flaw: we had just one test, covering all the fixtures, so we got just one . in\n",
    "the test output when we ran the tests, and if any test failed, the rest were\n",
    "not run. We can do a nicer job with a test **generator**:\n",
    "\n",
    "\n"
   ]
  },
  {
   "cell_type": "code",
   "execution_count": 130,
   "metadata": {
    "collapsed": false
   },
   "outputs": [],
   "source": [
    "def assert_examplar(**fixture):\n",
    "    answer=fixture.pop('answer')\n",
    "    assert_equal(greet(**fixture), answer)\n",
    "\n",
    "def test_greeter():\n",
    "    with open(os.path.join(os.path.dirname(\n",
    "        __file__),'fixtures','samples.yaml')\n",
    "        ) as fixtures_file:\n",
    "        fixtures=yaml.load(fixtures_file)\n",
    "        for fixture in fixtures:\n",
    "            yield assert_exemplar(**fixture)"
   ]
  },
  {
   "cell_type": "markdown",
   "metadata": {},
   "source": [
    "We also remember seeing `with assert_raises()` used to do negative testing.\n",
    "\n",
    "We can now imagine how this context manager might be implemented:"
   ]
  },
  {
   "cell_type": "code",
   "execution_count": 132,
   "metadata": {
    "collapsed": false
   },
   "outputs": [],
   "source": [
    "@contextmanager\n",
    "def my_assert_raises(exception):\n",
    "    try:\n",
    "        yield\n",
    "    except exception:\n",
    "        pass\n",
    "    else:\n",
    "        raise Exception(\"Expected,\", exception, \n",
    "                \" to be raised, nothing was.\")"
   ]
  },
  {
   "cell_type": "markdown",
   "metadata": {},
   "source": [
    "\n",
    "\n",
    "In fact, we can now use an even easier way to define negative tests: by using `@raises` as a **decorator**:\n",
    "\n",
    "\n"
   ]
  },
  {
   "cell_type": "code",
   "execution_count": 133,
   "metadata": {
    "collapsed": false
   },
   "outputs": [],
   "source": [
    "from nose.tools import raises\n",
    "\n",
    "@raises(TypeError, ValueError)\n",
    "def test_raises_type_error():\n",
    "    raise TypeError(\"This test passes\")\n",
    "\n",
    "@raises(Exception)\n",
    "def test_that_fails_by_passing():\n",
    "    pass\n",
    "\n",
    "test_raises_type_error()\n",
    "\n",
    "with assert_raises(AssertionError):\n",
    "    test_that_fails_by_passing()"
   ]
  },
  {
   "cell_type": "markdown",
   "metadata": {},
   "source": [
    "\n",
    "\n",
    "\n",
    "Again, we can imagine how nose might implement this:\n",
    "\n",
    "\n"
   ]
  },
  {
   "cell_type": "code",
   "execution_count": 134,
   "metadata": {
    "collapsed": false
   },
   "outputs": [],
   "source": [
    "def my_raises(func, exception):\n",
    "    def _output(*args):\n",
    "        with assert_raises(exception):\n",
    "            func(*args)\n",
    "    return _output"
   ]
  },
  {
   "cell_type": "markdown",
   "metadata": {},
   "source": [
    "\n",
    "\n"
   ]
  },
  {
   "cell_type": "markdown",
   "metadata": {},
   "source": [
    "## Metaprogramming"
   ]
  },
  {
   "cell_type": "markdown",
   "metadata": {},
   "source": [
    "### Metaprogramming class attributes"
   ]
  },
  {
   "cell_type": "markdown",
   "metadata": {},
   "source": [
    "\n",
    "In our introductory metaprogramming example, we were working in the root namespace of a module, using the globals() function.\n",
    "\n",
    "We want to be able to access the attribute dictionary for other objects to do\n",
    "metaprogramming to, for example, programmatically create class member data or\n",
    "variables.\n",
    "\n",
    "\n"
   ]
  },
  {
   "cell_type": "code",
   "execution_count": null,
   "metadata": {
    "collapsed": true
   },
   "outputs": [],
   "source": [
    "class Boring(object): \n",
    "    pass"
   ]
  },
  {
   "cell_type": "code",
   "execution_count": 141,
   "metadata": {
    "collapsed": true
   },
   "outputs": [],
   "source": [
    "x=Boring()\n",
    "\n",
    "x.name=\"James\""
   ]
  },
  {
   "cell_type": "code",
   "execution_count": 142,
   "metadata": {
    "collapsed": false
   },
   "outputs": [
    {
     "data": {
      "text/plain": [
       "'James'"
      ]
     },
     "execution_count": 142,
     "metadata": {},
     "output_type": "execute_result"
    }
   ],
   "source": [
    "x.name"
   ]
  },
  {
   "cell_type": "code",
   "execution_count": 143,
   "metadata": {
    "collapsed": false
   },
   "outputs": [
    {
     "data": {
      "text/plain": [
       "{'name': 'James'}"
      ]
     },
     "execution_count": 143,
     "metadata": {},
     "output_type": "execute_result"
    }
   ],
   "source": [
    "x.__dict__"
   ]
  },
  {
   "cell_type": "code",
   "execution_count": 144,
   "metadata": {
    "collapsed": false
   },
   "outputs": [
    {
     "data": {
      "text/plain": [
       "'James'"
      ]
     },
     "execution_count": 144,
     "metadata": {},
     "output_type": "execute_result"
    }
   ],
   "source": [
    "getattr(x,'name')"
   ]
  },
  {
   "cell_type": "code",
   "execution_count": 145,
   "metadata": {
    "collapsed": false
   },
   "outputs": [
    {
     "data": {
      "text/plain": [
       "38"
      ]
     },
     "execution_count": 145,
     "metadata": {},
     "output_type": "execute_result"
    }
   ],
   "source": [
    "setattr(x,'age',38)\n",
    "\n",
    "x.age"
   ]
  },
  {
   "cell_type": "markdown",
   "metadata": {},
   "source": [
    "\n",
    "\n",
    "\n",
    "The real power of accessing the attribute dictionary comes when we realise that\n",
    "there is *very little difference* between member data and member functions.\n",
    "Now that we know, from our functional programming, that a function is just a\n",
    "variable that can be *called* with `()`, we can set an attribute to a function,\n",
    "and\n",
    "it becomes a member function!\n",
    "\n",
    "\n"
   ]
  },
  {
   "cell_type": "code",
   "execution_count": 147,
   "metadata": {
    "collapsed": true
   },
   "outputs": [],
   "source": [
    "setattr(Boring, 'describe', lambda self: self.name+ \" is \"+str(self.age))"
   ]
  },
  {
   "cell_type": "code",
   "execution_count": 148,
   "metadata": {
    "collapsed": false
   },
   "outputs": [
    {
     "data": {
      "text/plain": [
       "'James is 38'"
      ]
     },
     "execution_count": 148,
     "metadata": {},
     "output_type": "execute_result"
    }
   ],
   "source": [
    "x.describe()"
   ]
  },
  {
   "cell_type": "code",
   "execution_count": 149,
   "metadata": {
    "collapsed": false
   },
   "outputs": [
    {
     "data": {
      "text/plain": [
       "<bound method Boring.<lambda> of <__main__.Boring object at 0x114f99710>>"
      ]
     },
     "execution_count": 149,
     "metadata": {},
     "output_type": "execute_result"
    }
   ],
   "source": [
    "x.describe"
   ]
  },
  {
   "cell_type": "code",
   "execution_count": 150,
   "metadata": {
    "collapsed": false
   },
   "outputs": [
    {
     "data": {
      "text/plain": [
       "<unbound method Boring.<lambda>>"
      ]
     },
     "execution_count": 150,
     "metadata": {},
     "output_type": "execute_result"
    }
   ],
   "source": [
    "Boring.describe"
   ]
  },
  {
   "cell_type": "markdown",
   "metadata": {},
   "source": [
    "\n",
    "\n",
    "\n",
    "Note that we set this as an attribute of the class, so it is available to other instances of `Boring`:\n",
    "\n",
    "\n"
   ]
  },
  {
   "cell_type": "code",
   "execution_count": 152,
   "metadata": {
    "collapsed": false
   },
   "outputs": [
    {
     "ename": "AttributeError",
     "evalue": "'Boring' object has no attribute 'name'",
     "output_type": "error",
     "traceback": [
      "\u001b[0;31m---------------------------------------------------------------------------\u001b[0m",
      "\u001b[0;31mAttributeError\u001b[0m                            Traceback (most recent call last)",
      "\u001b[0;32m<ipython-input-152-e3d56e9fe3b1>\u001b[0m in \u001b[0;36m<module>\u001b[0;34m()\u001b[0m\n\u001b[1;32m      1\u001b[0m \u001b[0my\u001b[0m\u001b[0;34m=\u001b[0m\u001b[0mBoring\u001b[0m\u001b[0;34m(\u001b[0m\u001b[0;34m)\u001b[0m\u001b[0;34m\u001b[0m\u001b[0m\n\u001b[1;32m      2\u001b[0m \u001b[0;34m\u001b[0m\u001b[0m\n\u001b[0;32m----> 3\u001b[0;31m \u001b[0my\u001b[0m\u001b[0;34m.\u001b[0m\u001b[0mdescribe\u001b[0m\u001b[0;34m(\u001b[0m\u001b[0;34m)\u001b[0m\u001b[0;34m\u001b[0m\u001b[0m\n\u001b[0m",
      "\u001b[0;32m<ipython-input-147-441fbe507567>\u001b[0m in \u001b[0;36m<lambda>\u001b[0;34m(self)\u001b[0m\n\u001b[0;32m----> 1\u001b[0;31m \u001b[0msetattr\u001b[0m\u001b[0;34m(\u001b[0m\u001b[0mBoring\u001b[0m\u001b[0;34m,\u001b[0m \u001b[0;34m'describe'\u001b[0m\u001b[0;34m,\u001b[0m \u001b[0;32mlambda\u001b[0m \u001b[0mself\u001b[0m\u001b[0;34m:\u001b[0m \u001b[0mself\u001b[0m\u001b[0;34m.\u001b[0m\u001b[0mname\u001b[0m\u001b[0;34m+\u001b[0m \u001b[0;34m\" is \"\u001b[0m\u001b[0;34m+\u001b[0m\u001b[0mstr\u001b[0m\u001b[0;34m(\u001b[0m\u001b[0mself\u001b[0m\u001b[0;34m.\u001b[0m\u001b[0mage\u001b[0m\u001b[0;34m)\u001b[0m\u001b[0;34m)\u001b[0m\u001b[0;34m\u001b[0m\u001b[0m\n\u001b[0m",
      "\u001b[0;31mAttributeError\u001b[0m: 'Boring' object has no attribute 'name'"
     ]
    }
   ],
   "source": [
    "y=Boring()\n",
    "\n",
    "y.describe()"
   ]
  },
  {
   "cell_type": "code",
   "execution_count": 153,
   "metadata": {
    "collapsed": true
   },
   "outputs": [],
   "source": [
    "def broken_birth_year(self):\n",
    "    import datetime\n",
    "    current=datetime.datetime.now().year\n",
    "    return current-self.age"
   ]
  },
  {
   "cell_type": "code",
   "execution_count": 154,
   "metadata": {
    "collapsed": true
   },
   "outputs": [],
   "source": [
    "Boring.birth_year=broken_birth_year"
   ]
  },
  {
   "cell_type": "code",
   "execution_count": 155,
   "metadata": {
    "collapsed": false
   },
   "outputs": [
    {
     "data": {
      "text/plain": [
       "1977"
      ]
     },
     "execution_count": 155,
     "metadata": {},
     "output_type": "execute_result"
    }
   ],
   "source": [
    "x.birth_year()"
   ]
  },
  {
   "cell_type": "code",
   "execution_count": 156,
   "metadata": {
    "collapsed": false
   },
   "outputs": [
    {
     "data": {
      "text/plain": [
       "<bound method Boring.broken_birth_year of <__main__.Boring object at 0x114f99710>>"
      ]
     },
     "execution_count": 156,
     "metadata": {},
     "output_type": "execute_result"
    }
   ],
   "source": [
    "x.birth_year"
   ]
  },
  {
   "cell_type": "code",
   "execution_count": 157,
   "metadata": {
    "collapsed": false
   },
   "outputs": [
    {
     "data": {
      "text/plain": [
       "'broken_birth_year'"
      ]
     },
     "execution_count": 157,
     "metadata": {},
     "output_type": "execute_result"
    }
   ],
   "source": [
    "broken_birth_year.__name__"
   ]
  },
  {
   "cell_type": "markdown",
   "metadata": {},
   "source": [
    "\n",
    "\n",
    "\n",
    "We can access the attribute dictionary for the local namespace inside a\n",
    "function with locals() but this *cannot safely be written to*. Lack of safe\n",
    "programmatic creation of local variables is a flaw in Python.\n",
    "\n",
    "\n"
   ]
  },
  {
   "cell_type": "code",
   "execution_count": 161,
   "metadata": {
    "collapsed": true
   },
   "outputs": [],
   "source": [
    "class Person(object):\n",
    "    def __init__(self, name, age, job, children_count):\n",
    "        for name,value in locals().iteritems():\n",
    "            if name=='self': continue\n",
    "            print \"Setting self.\", name, \" to \", value \n",
    "            setattr(self, name, value)"
   ]
  },
  {
   "cell_type": "code",
   "execution_count": 162,
   "metadata": {
    "collapsed": false
   },
   "outputs": [
    {
     "name": "stdout",
     "output_type": "stream",
     "text": [
      "Setting self. job  to  Scientific Programmer\n",
      "Setting self. children_count  to  0\n",
      "Setting self. age  to  38\n",
      "Setting self. name  to  James\n"
     ]
    }
   ],
   "source": [
    "me=Person(\"James\", 38, \"Scientific Programmer\", 0)"
   ]
  },
  {
   "cell_type": "code",
   "execution_count": 163,
   "metadata": {
    "collapsed": false
   },
   "outputs": [
    {
     "data": {
      "text/plain": [
       "'James'"
      ]
     },
     "execution_count": 163,
     "metadata": {},
     "output_type": "execute_result"
    }
   ],
   "source": [
    "me.name"
   ]
  },
  {
   "cell_type": "markdown",
   "metadata": {},
   "source": [
    "### Metaprogramming warning!"
   ]
  },
  {
   "cell_type": "markdown",
   "metadata": {},
   "source": [
    "\n",
    "Use this stuff **sparingly**!\n",
    "\n",
    "The above example worked, but it produced Python code which is not particularly understandable.\n",
    "Remember, your objective when programming is to produce code which is **descriptive of what it does**.\n",
    "\n",
    "The above code is **definitely** less readable, less maintainable and more error prone than:\n",
    "\n",
    "\n"
   ]
  },
  {
   "cell_type": "code",
   "execution_count": 165,
   "metadata": {
    "collapsed": false
   },
   "outputs": [],
   "source": [
    "class Person(object):\n",
    "    def __init__(self, name, age, job, children_count):\n",
    "       self.name=name\n",
    "       self.age=age\n",
    "       self.job=job\n",
    "       self.children_count=children_count"
   ]
  },
  {
   "cell_type": "markdown",
   "metadata": {},
   "source": [
    "\n",
    "\n",
    "\n",
    "Sometimes, metaprogramming will be **really** helpful in making non-repetitive\n",
    "code, and you should have it in your toolbox, which is why I'm teaching you it.\n",
    "But doing it all the time overcomplicated matters. We've talked a lot about the\n",
    "DRY principle, but there is another equally important principle:\n",
    "\n",
    "> **KISS**: *Keep it simple, Stupid!*\n",
    "\n",
    "Whenever you write code and you think, \"Gosh, I'm really clever\",you're\n",
    "probably *doing it wrong*. Code should be about clarity, not showing off.\n"
   ]
  },
  {
   "cell_type": "markdown",
   "metadata": {},
   "source": [
    "## Operator overloading"
   ]
  },
  {
   "cell_type": "markdown",
   "metadata": {},
   "source": [
    "### Operator overloading"
   ]
  },
  {
   "cell_type": "markdown",
   "metadata": {},
   "source": [
    "\n",
    "\n",
    "\n",
    "We need to use a metaprogramming trick to make this notebook work.\n",
    "I want to be able to put explanatory text in between parts of a class definition,\n",
    "so I'll define a decorator to help me build up a class definition gradually.\n",
    "\n",
    "\n"
   ]
  },
  {
   "cell_type": "code",
   "execution_count": 166,
   "metadata": {
    "collapsed": false
   },
   "outputs": [],
   "source": [
    "def extend(class_to_extend):\n",
    "    \"\"\" Metaprogramming to allow gradual implementation\n",
    "    of class during notebook. Thanks to\n",
    "    http://www.ianbicking.org/blog/2007/08/opening-python-classes.html \"\"\"\n",
    "    def decorator(extending_class):\n",
    "        for name, value in extending_class.__dict__.iteritems():\n",
    "            if name in ['__dict__','__module__', '__weakref__', '__doc__']:\n",
    "                continue\n",
    "            setattr(class_to_extend,name,value)\n",
    "        return class_to_extend\n",
    "    return decorator"
   ]
  },
  {
   "cell_type": "markdown",
   "metadata": {},
   "source": [
    "\n",
    "\n",
    "\n",
    "\n",
    "Imagine we wanted to make a library to describe some kind of symbolic algebra system:\n",
    "\n",
    "\n"
   ]
  },
  {
   "cell_type": "code",
   "execution_count": 168,
   "metadata": {
    "collapsed": false
   },
   "outputs": [],
   "source": [
    "class Term(object):\n",
    "    def __init__(self, symbols=[], powers=[], coefficient=1):\n",
    "        self.coefficient=coefficient\n",
    "        self.data={symbol: exponent for symbol,exponent\n",
    "                in zip(symbols, powers)}\n",
    "\n",
    "class Expression(object):\n",
    "    def __init__(self, terms):        self.terms=terms\n"
   ]
  },
  {
   "cell_type": "markdown",
   "metadata": {},
   "source": [
    "\n",
    "\n",
    "\n",
    "So that $5x^2y+7x+2$ might be constructed as:\n",
    "\n",
    "\n"
   ]
  },
  {
   "cell_type": "code",
   "execution_count": 170,
   "metadata": {
    "collapsed": false
   },
   "outputs": [],
   "source": [
    "first=Term(['x','y'],[2,1],5)\n",
    "second=Term(['x'],[1],7)\n",
    "third=Term([],[],2)\n",
    "result=Expression([first, second, third])"
   ]
  },
  {
   "cell_type": "markdown",
   "metadata": {},
   "source": [
    "\n",
    "\n",
    "\n",
    "This is pretty cumbersome.\n",
    "\n",
    "What we'd really like is to have `2x+y` give an appropriate expression.\n",
    "\n",
    "First, we'll define things so that we can construct our terms and expressions in different ways.\n",
    "\n",
    "\n"
   ]
  },
  {
   "cell_type": "code",
   "execution_count": 173,
   "metadata": {
    "collapsed": false
   },
   "outputs": [],
   "source": [
    "\n",
    "class Term(object):\n",
    "    def __init__(self, *args):\n",
    "        lead=args[0]\n",
    "        if type(lead)==type(self):\n",
    "            # Copy constructor\n",
    "            self.data=dict(lead.data)\n",
    "            self.coefficient=lead.coefficient\n",
    "        elif type(lead)==int:\n",
    "            self.from_constant(lead)\n",
    "        elif type(lead)==str:\n",
    "            self.from_symbol(*args)\n",
    "        elif type(lead)==dict:\n",
    "            self.from_dictionary(*args)\n",
    "        else:\n",
    "            self.from_lists(*args)\n",
    "            \n",
    "    def from_constant(self, constant):\n",
    "        self.coefficient=constant\n",
    "        self.data={}\n",
    "        \n",
    "    def from_symbol(self, symbol, coefficient=1, power=1):\n",
    "        self.coefficient=coefficient\n",
    "        self.data={symbol:power}\n",
    "        \n",
    "    def from_dictionary(self, data, coefficient=1):\n",
    "        self.data=data\n",
    "        self.coefficient=coefficient\n",
    "        \n",
    "    def from_lists(self, symbols=[], powers=[], coefficient=1):\n",
    "        self.coefficient=coefficient\n",
    "        self.data={symbol: exponent for symbol,exponent\n",
    "                in zip(symbols, powers)}"
   ]
  },
  {
   "cell_type": "code",
   "execution_count": 174,
   "metadata": {
    "collapsed": false
   },
   "outputs": [],
   "source": [
    "class Expression(object):\n",
    "    def __init__(self, terms=[]):\n",
    "        self.terms=list(terms)"
   ]
  },
  {
   "cell_type": "markdown",
   "metadata": {},
   "source": [
    "\n",
    "\n",
    "\n",
    "We could define add() and multiply() operations on expressions and terms:\n",
    "\n",
    "\n"
   ]
  },
  {
   "cell_type": "code",
   "execution_count": 178,
   "metadata": {
    "collapsed": true
   },
   "outputs": [],
   "source": [
    "@extend(Term)\n",
    "class Term(object):\n",
    "    def add(self, *others):\n",
    "        return Expression((self,)+others)\n",
    "    "
   ]
  },
  {
   "cell_type": "code",
   "execution_count": 179,
   "metadata": {
    "collapsed": false
   },
   "outputs": [],
   "source": [
    "@extend(Term)\n",
    "class Term(object):\n",
    "    def multiply(self, *others):\n",
    "        result_data=dict(self.data)\n",
    "        result_coeff=self.coefficient\n",
    "        # Convert arguments to Terms first if they are\n",
    "        # constants or integers\n",
    "        others=map(Term,others)\n",
    "        for another in others:\n",
    "            for symbol, exponent in another.data.iteritems():\n",
    "                if symbol in result_data:\n",
    "                    result_data[symbol]+=another.data[symbol]\n",
    "                else:\n",
    "                    result_data[symbol]=another.data[symbol]\n",
    "            result_coeff*=another.coefficient\n",
    "        return Term(result_data,result_coeff)"
   ]
  },
  {
   "cell_type": "code",
   "execution_count": 180,
   "metadata": {
    "collapsed": false
   },
   "outputs": [],
   "source": [
    "@extend(Expression)\n",
    "class Expression(object):\n",
    "    def add(self, *others):\n",
    "        result=Expression(self.terms)\n",
    "        for another in others:\n",
    "            if type(another)==Term:\n",
    "                result.terms.append(another)\n",
    "            else:\n",
    "                result.terms+=another.terms\n",
    "        return result"
   ]
  },
  {
   "cell_type": "markdown",
   "metadata": {},
   "source": [
    "\n",
    "\n",
    "\n",
    "We can now construct the above expression as:\n",
    "\n",
    "\n"
   ]
  },
  {
   "cell_type": "code",
   "execution_count": 181,
   "metadata": {
    "collapsed": false
   },
   "outputs": [],
   "source": [
    "x=Term('x')\n",
    "y=Term('y')\n",
    "\n",
    "first=Term(5).multiply(Term('x'),Term('x'),Term('y'))\n",
    "second=Term(7).multiply(Term('x'))\n",
    "third=Term(2)\n",
    "expr=first.add(second,third)"
   ]
  },
  {
   "cell_type": "markdown",
   "metadata": {},
   "source": [
    "\n",
    "\n",
    "\n",
    "This is better, but we still can't write the expression in a 'natural' way.\n",
    "\n",
    "However, we can define what `*` and `+` do when applied to Terms!:\n",
    "\n",
    "\n"
   ]
  },
  {
   "cell_type": "code",
   "execution_count": 182,
   "metadata": {
    "collapsed": false
   },
   "outputs": [],
   "source": [
    "@extend(Term)\n",
    "class Term(object):\n",
    "    def __add__(self, other):\n",
    "        return self.add(other)\n",
    "    def __mul__(self, other):\n",
    "        return self.multiply(other)"
   ]
  },
  {
   "cell_type": "code",
   "execution_count": 183,
   "metadata": {
    "collapsed": false
   },
   "outputs": [],
   "source": [
    "@extend(Expression)\n",
    "class Expression(object):\n",
    "    def multiply(self, another):\n",
    "        # Distributive law left as exercise\n",
    "        pass\n",
    "    \n",
    "    def __add__(self, other):\n",
    "        return self.add(other)"
   ]
  },
  {
   "cell_type": "code",
   "execution_count": 185,
   "metadata": {
    "collapsed": false
   },
   "outputs": [
    {
     "data": {
      "text/plain": [
       "{'x': 1}"
      ]
     },
     "execution_count": 185,
     "metadata": {},
     "output_type": "execute_result"
    }
   ],
   "source": [
    "x_plus_y=Term('x')+'y'\n",
    "x_plus_y.terms[0].data"
   ]
  },
  {
   "cell_type": "code",
   "execution_count": 186,
   "metadata": {
    "collapsed": false
   },
   "outputs": [
    {
     "name": "stdout",
     "output_type": "stream",
     "text": [
      "{'y': 2, 'x': 1} 5\n"
     ]
    }
   ],
   "source": [
    "five_x_ysq=Term('x')*5*'y'*'y'\n",
    "print five_x_ysq.data, five_x_ysq.coefficient"
   ]
  },
  {
   "cell_type": "markdown",
   "metadata": {},
   "source": [
    "\n",
    "\n",
    "\n",
    "This is called operator overloading. We can define what add and multiply mean when applied to our class.\n",
    "\n",
    "Note that this only works so far if we multiply on the right-hand-side!\n",
    "However, we can define a multiplication that works backwards, which is used as a fallback if the left multiply raises an error:\n",
    "\n",
    "\n"
   ]
  },
  {
   "cell_type": "code",
   "execution_count": 187,
   "metadata": {
    "collapsed": false
   },
   "outputs": [],
   "source": [
    "@extend(Expression)\n",
    "class Expression(object):\n",
    "    def __radd__(self, other):\n",
    "        return self.__add__(other)"
   ]
  },
  {
   "cell_type": "markdown",
   "metadata": {},
   "source": [
    "\n",
    "\n",
    "\n"
   ]
  },
  {
   "cell_type": "code",
   "execution_count": 188,
   "metadata": {
    "collapsed": false
   },
   "outputs": [],
   "source": [
    "@extend(Term)\n",
    "class Term(object):\n",
    "    def __rmul__(self, other):\n",
    "        return self.__mul__(other)\n",
    "    def __radd__(self, other):\n",
    "        return self.__add__(other)"
   ]
  },
  {
   "cell_type": "markdown",
   "metadata": {},
   "source": [
    "\n",
    "\n",
    "\n",
    "\n",
    "\n"
   ]
  },
  {
   "cell_type": "code",
   "execution_count": 189,
   "metadata": {
    "collapsed": false
   },
   "outputs": [
    {
     "name": "stdout",
     "output_type": "stream",
     "text": [
      "<__main__.Term object at 0x114f804d0>\n"
     ]
    }
   ],
   "source": [
    "print 5*Term('x')"
   ]
  },
  {
   "cell_type": "markdown",
   "metadata": {},
   "source": [
    "\n",
    "\n",
    "\n",
    "It's not easy at the moment to see if these things are working!\n",
    "\n",
    "\n"
   ]
  },
  {
   "cell_type": "code",
   "execution_count": 190,
   "metadata": {
    "collapsed": false
   },
   "outputs": [
    {
     "name": "stdout",
     "output_type": "stream",
     "text": [
      "{'x': 1} 5\n"
     ]
    }
   ],
   "source": [
    "fivex=5*Term('x')\n",
    "print fivex.data, fivex.coefficient"
   ]
  },
  {
   "cell_type": "markdown",
   "metadata": {},
   "source": [
    "\n",
    "\n",
    "\n",
    "We can add another operator method `__str__`, which defines what happens if we try to print our class:\n",
    "\n",
    "\n"
   ]
  },
  {
   "cell_type": "code",
   "execution_count": 192,
   "metadata": {
    "collapsed": false
   },
   "outputs": [],
   "source": [
    "@extend(Term)\n",
    "class Term(object):\n",
    "    def __str__(self):\n",
    "        def symbol_string(symbol, power):\n",
    "            if power==1:\n",
    "                return symbol\n",
    "            else:\n",
    "                return symbol+'^'+str(power)\n",
    "            \n",
    "        symbol_strings=[symbol_string(symbol, power)\n",
    "                for symbol, power in self.data.iteritems()]\n",
    "        \n",
    "        prod='*'.join(symbol_strings)\n",
    "        \n",
    "        if not prod:\n",
    "            return str(self.coefficient)\n",
    "        if self.coefficient==1:\n",
    "            return prod\n",
    "        else:\n",
    "            return str(self.coefficient)+'*'+prod"
   ]
  },
  {
   "cell_type": "code",
   "execution_count": 193,
   "metadata": {
    "collapsed": false
   },
   "outputs": [],
   "source": [
    "@extend(Expression)\n",
    "class Expression(object):\n",
    "    def __str__(self):\n",
    "        return '+'.join(map(str,self.terms))"
   ]
  },
  {
   "cell_type": "markdown",
   "metadata": {},
   "source": [
    "\n",
    "\n",
    "\n"
   ]
  },
  {
   "cell_type": "code",
   "execution_count": 194,
   "metadata": {
    "collapsed": true
   },
   "outputs": [],
   "source": [
    "first=Term(5)*'x'*'x'*'y'\n",
    "second=Term(7)*'x'\n",
    "third=Term(2)\n",
    "expr=first+second+third"
   ]
  },
  {
   "cell_type": "code",
   "execution_count": 195,
   "metadata": {
    "collapsed": false
   },
   "outputs": [
    {
     "name": "stdout",
     "output_type": "stream",
     "text": [
      "5*y*x^2+7*x+2\n"
     ]
    }
   ],
   "source": [
    "print expr"
   ]
  },
  {
   "cell_type": "markdown",
   "metadata": {},
   "source": [
    "\n",
    "\n",
    "\n",
    "We can add lots more operators to classes. `__eq__` to determine if objects are\n",
    "equal. `__getitem__` to apply [1] to your object. Probably the most exciting\n",
    "one is `__call__`, which allows us to define other classes that *behave like\n",
    "functions*! We call these callables.\n",
    "\n",
    "\n"
   ]
  },
  {
   "cell_type": "code",
   "execution_count": 196,
   "metadata": {
    "collapsed": false
   },
   "outputs": [
    {
     "name": "stdout",
     "output_type": "stream",
     "text": [
      "Hello,  James\n"
     ]
    }
   ],
   "source": [
    "class MyCallable(object):\n",
    "    def __call__(self, name):\n",
    "        print \"Hello, \", name\n",
    "\n",
    "x=MyCallable()\n",
    "\n",
    "x(\"James\")"
   ]
  },
  {
   "cell_type": "markdown",
   "metadata": {},
   "source": [
    "\n",
    "\n",
    "\n",
    "We've now come full circle in the blurring of the distinction between functions and objects! The full power of functional programming is really remarkable.\n",
    "\n",
    "If you want to know more about the topics in this lecture, using a different\n",
    "language syntax, I recommend you watch the [Abelson and Sussman](https://www.youtube.com/watch?v=2Op3QLzMgSY)\n",
    "\"Structure and Interpretation of Computer Programs\" lectures. These are the Computer Science\n",
    "equivalent of the Feynman Lectures!\n"
   ]
  },
  {
   "cell_type": "markdown",
   "metadata": {},
   "source": [
    "## Exercise"
   ]
  },
  {
   "cell_type": "markdown",
   "metadata": {},
   "source": [
    "### Exercise"
   ]
  },
  {
   "cell_type": "markdown",
   "metadata": {},
   "source": [
    "Numbers have units. $5\\mathrm{m}^2$ is not $5\\mathrm{J}$. \n",
    "\n",
    "$6\\mathrm{J}$ is the\n",
    "same as $6\\mathrm{kg}\\mathrm{m}^2\\mathrm{s}^{-2}$ which is the same as\n",
    "$2\\mathrm{N} \\cdot 3\\mathrm{m}$\n",
    "\n",
    "Write a python library to implement handling quantities with units, and\n",
    "converting between units, with a github repostiory and a setup.py file, and\n",
    "some unit tests.\n",
    "\n",
    "You should define operators for multiply, equality, and add for your class.\n",
    "\n",
    "Your unit tests should include things like:"
   ]
  },
  {
   "cell_type": "markdown",
   "metadata": {},
   "source": [
    "``` python\n",
    "assert(5*meters == 0.005*kilometers)\n",
    "assert((60*seconds).to(minutes).value==1)\n",
    "assert((60*seconds).to(minutes).unit==minutes)\n",
    "with assert_raises(IncompatibleUnitsError):\n",
    "    5*meters+2*seconds\n",
    "```"
   ]
  },
  {
   "cell_type": "markdown",
   "metadata": {},
   "source": [
    "You don't have to implement every unit! You might want to load your unit definitions from a yaml config file."
   ]
  }
 ],
 "metadata": {
  "jekyll": {
   "display_name": "Session 7"
  },
  "kernelspec": {
   "display_name": "Python 2",
   "language": "python",
   "name": "python2"
  },
  "language_info": {
   "codemirror_mode": {
    "name": "ipython",
    "version": 2
   },
   "file_extension": ".py",
   "mimetype": "text/x-python",
   "name": "python",
   "nbconvert_exporter": "python",
   "pygments_lexer": "ipython2",
   "version": "2.7.9"
  }
 },
 "nbformat": 4,
 "nbformat_minor": 0
}
