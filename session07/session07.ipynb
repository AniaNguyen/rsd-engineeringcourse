{
    "metadata": {
        "name": null
    }, 
    "nbformat": 3, 
    "nbformat_minor": 0, 
    "worksheets": [
        {
            "cells": [
                {
                    "cell_type": "markdown", 
                    "metadata": {}, 
                    "source": [
                        "\n"
                    ]
                }, 
                {
                    "cell_type": "heading", 
                    "level": 2, 
                    "metadata": {}, 
                    "source": [
                        "Introduction"
                    ]
                }, 
                {
                    "cell_type": "markdown", 
                    "metadata": {}, 
                    "source": [
                        ""
                    ]
                }, 
                {
                    "cell_type": "heading", 
                    "level": 3, 
                    "metadata": {}, 
                    "source": [
                        "Avoid Boiler-Plate"
                    ]
                }, 
                {
                    "cell_type": "markdown", 
                    "metadata": {}, 
                    "source": [
                        "\nCode can often be annoyingly full of \"boiler-plate\" code: characters you don't really want to have to type.\n\nNot only is this tedious, it's also time-consuming and dangerous: unnecessary code is an unnecessary potential place for mistakes.\n\nThere are two important phrases in software design that we've spoken of before in this context:\n\n> Once And Only Once\n\n> Don't Repeat Yourself (DRY)\n\nAll concepts, ideas, or instructions should be in the program in just one place.\nEvery line in the program should say something useful and important.\n\nWe refer to code that respects this principle as DRY code.\n\nIn this lecture, we'll look at some techniques that can enable us to refactor away repetitive code.\n\nSince in many of these places, the techniques will involve working with\nfunctions as if they were variables, we'll learn some **functional**\nprogramming. We'll also learn more about the innards of how Python implements\nclasses.\n\nWe'll also think about how to write programs that *generate* the more verbose, repetitive program we could otherwise write.\nWe call this **metaprogramming**.\n"
                    ]
                }, 
                {
                    "cell_type": "heading", 
                    "level": 3, 
                    "metadata": {}, 
                    "source": [
                        "Metaprogramming Example"
                    ]
                }, 
                {
                    "cell_type": "markdown", 
                    "metadata": {}, 
                    "source": [
                        "\nConsider a bunch of variables, each of which need initialising and incrementing:\n\n\n"
                    ]
                }, 
                {
                    "cell_type": "code", 
                    "collapsed": false, 
                    "input": [
                        "", 
                        "bananas=0", 
                        "apples=0", 
                        "oranges=0", 
                        "bananas+=1", 
                        "apples+=1", 
                        "oranges+=1", 
                        ""
                    ], 
                    "language": "python", 
                    "metadata": {}, 
                    "outputs": [], 
                    "prompt_number": null
                }, 
                {
                    "cell_type": "markdown", 
                    "metadata": {}, 
                    "source": [
                        "\n\nThe right hand side of these assignments doesn't respect the DRY principle. We\ncould of course define a variable for our initial value:\n\n\n"
                    ]
                }, 
                {
                    "cell_type": "code", 
                    "collapsed": false, 
                    "input": [
                        "", 
                        "initial_fruit_count=0", 
                        "bananas=initial_fruit_count", 
                        "apples=initial_fruit_count", 
                        "oranges=initial_fruit_count", 
                        ""
                    ], 
                    "language": "python", 
                    "metadata": {}, 
                    "outputs": [], 
                    "prompt_number": null
                }, 
                {
                    "cell_type": "markdown", 
                    "metadata": {}, 
                    "source": [
                        "\n\nHowever, this is still not as DRY as it could be: what if we wanted to replace\nthe assignment with, say, a class constructor and a buy operation:\n\n\n"
                    ]
                }, 
                {
                    "cell_type": "code", 
                    "collapsed": false, 
                    "input": [
                        "", 
                        "class Basket:", 
                        "    def __init__(self):", 
                        "        self.count=0", 
                        "    def buy(self):", 
                        "        self.count+=1", 
                        "", 
                        "bananas=Basket()", 
                        "apples=Basket()", 
                        "oranges=Basket()", 
                        "bananas.buy()", 
                        "apples.buy()", 
                        "oranges.buy()", 
                        ""
                    ], 
                    "language": "python", 
                    "metadata": {}, 
                    "outputs": [], 
                    "prompt_number": null
                }, 
                {
                    "cell_type": "markdown", 
                    "metadata": {}, 
                    "source": [
                        "\n\nWe had to make the change in three places. Whenever you see a situation where a\nrefactoring or change of design might require you to change the code in\nmultiple places, you have an opportunity to make the code DRYer.\n\nIn this case, metaprogramming for incrementing these variables would involve\njust a loop over all the variables we want to initialise:\n\n\n"
                    ]
                }, 
                {
                    "cell_type": "code", 
                    "collapsed": false, 
                    "input": [
                        "", 
                        "baskets=[bananas, apples, oranges]", 
                        "for basket in baskets: basket.buy()", 
                        ""
                    ], 
                    "language": "python", 
                    "metadata": {}, 
                    "outputs": [], 
                    "prompt_number": null
                }, 
                {
                    "cell_type": "markdown", 
                    "metadata": {}, 
                    "source": [
                        "\n\nHowever, this trick **doesn't** work for initialising a new variable:\n\n\n"
                    ]
                }, 
                {
                    "cell_type": "code", 
                    "collapsed": false, 
                    "input": [
                        "", 
                        "from nose.tools import assert_raises", 
                        "with assert_raises(NameError):", 
                        "    baskets=[bananas, apples, oranges, kiwis]", 
                        ""
                    ], 
                    "language": "python", 
                    "metadata": {}, 
                    "outputs": [], 
                    "prompt_number": null
                }, 
                {
                    "cell_type": "markdown", 
                    "metadata": {}, 
                    "source": [
                        "\n\nSo can we declare a new variable programmatically? Given a list of the\n**names** of fruit baskets we want, initialise a variable with that name?\n\n\n"
                    ]
                }, 
                {
                    "cell_type": "code", 
                    "collapsed": false, 
                    "input": [
                        "", 
                        "basket_names=['bananas', 'apples', 'oranges', 'kiwis']", 
                        "", 
                        "globals()['apples']", 
                        ""
                    ], 
                    "language": "python", 
                    "metadata": {}, 
                    "outputs": [], 
                    "prompt_number": null
                }, 
                {
                    "cell_type": "markdown", 
                    "metadata": {}, 
                    "source": [
                        "\n\n\nWow, we can! Every module or class in Python, is, under the hood, a special\ndictionary, storing the values in its **namespace**. So we can create new\nvariables by assigning to this dictionary. globals() gives a reference to the\nattribute dictionary for the current module\n\n\n"
                    ]
                }, 
                {
                    "cell_type": "code", 
                    "collapsed": false, 
                    "input": [
                        "", 
                        "for name in basket_names:", 
                        "    globals()[name]=Basket()", 
                        "", 
                        "", 
                        "print kiwis.count", 
                        ""
                    ], 
                    "language": "python", 
                    "metadata": {}, 
                    "outputs": [], 
                    "prompt_number": null
                }, 
                {
                    "cell_type": "markdown", 
                    "metadata": {}, 
                    "source": [
                        "\n\nThis is **metaprogramming**.\n\nI would NOT recommend using it for an example as trivial as the one above. \nA better, more Pythonic choice here would be to use a data structure to manage your set of fruit baskets:\n\n\n"
                    ]
                }, 
                {
                    "cell_type": "code", 
                    "collapsed": false, 
                    "input": [
                        "", 
                        "baskets={}", 
                        "for name in basket_names:", 
                        "    baskets[name]=Basket()", 
                        "", 
                        "print baskets['kiwis'].count", 
                        ""
                    ], 
                    "language": "python", 
                    "metadata": {}, 
                    "outputs": [], 
                    "prompt_number": null
                }, 
                {
                    "cell_type": "markdown", 
                    "metadata": {}, 
                    "source": [
                        "\n\nOr even, using a dictionary comprehension:\n\n\n"
                    ]
                }, 
                {
                    "cell_type": "code", 
                    "collapsed": false, 
                    "input": [
                        "", 
                        "baskets={name:Basket() for name in baskets}", 
                        "print baskets['kiwis'].count", 
                        ""
                    ], 
                    "language": "python", 
                    "metadata": {}, 
                    "outputs": [], 
                    "prompt_number": null
                }, 
                {
                    "cell_type": "markdown", 
                    "metadata": {}, 
                    "source": [
                        "\n\nWhich is the nicest way to do this, I think. Code which feels like\nmetaprogramming is needed to make it less repetitive can often instead be DRYed\nup using a refactored data structure, in a way which is cleaner and more easy\nto understand. Nevertheless, metaprogramming is worth knowing. \n"
                    ]
                }, 
                {
                    "cell_type": "heading", 
                    "level": 3, 
                    "metadata": {}, 
                    "source": [
                        "Notebook"
                    ]
                }, 
                {
                    "cell_type": "markdown", 
                    "metadata": {}, 
                    "source": [
                        "\nThis lecture is available as an [IPython Notebook](http://nbviewer.ipython.org/url/development.rc.ucl.ac.uk/training/engineering/session07/../python/session07.ipynb)\n"
                    ]
                }, 
                {
                    "cell_type": "heading", 
                    "level": 2, 
                    "metadata": {}, 
                    "source": [
                        "Functional programming"
                    ]
                }, 
                {
                    "cell_type": "heading", 
                    "level": 3, 
                    "metadata": {}, 
                    "source": [
                        "Functional Programming"
                    ]
                }, 
                {
                    "cell_type": "markdown", 
                    "metadata": {}, 
                    "source": [
                        "\nUnderstanding to think in a *functional programming* style is almost as\nimportant as object orientation for building DRY, clear scientific software,\nand is just as conceptually difficult.\n\nPrograms are composed of functions: they take data in (which we call\n*parameters* or *arguments*) and send data out (through `return` statements.)\n\nA conceptual trick which is often used by computer scientists to teach the core\nidea of functional programming is this: to write a program,\nin theory, you only ever need functions with **one** argument, even when you think you need two or more. Why?\n\nLet's define a program to add two numbers:\n\n\n"
                    ]
                }, 
                {
                    "cell_type": "code", 
                    "collapsed": false, 
                    "input": [
                        "", 
                        "def add(a,b):", 
                        "    return a+b", 
                        "", 
                        "add(5,6)", 
                        ""
                    ], 
                    "language": "python", 
                    "metadata": {}, 
                    "outputs": [], 
                    "prompt_number": null
                }, 
                {
                    "cell_type": "markdown", 
                    "metadata": {}, 
                    "source": [
                        "\n\nHow could we do this, in a fictional version of Python which only defined functions of one argument?\nIn order to understand this, we'll have to understand several of the concepts\nof functional programming. Let's start with a program which just adds five to\nsomething:\n\n\n"
                    ]
                }, 
                {
                    "cell_type": "code", 
                    "collapsed": false, 
                    "input": [
                        "", 
                        "def add_five(a):", 
                        "    return a+5", 
                        "", 
                        "add_five(6)", 
                        ""
                    ], 
                    "language": "python", 
                    "metadata": {}, 
                    "outputs": [], 
                    "prompt_number": null
                }, 
                {
                    "cell_type": "markdown", 
                    "metadata": {}, 
                    "source": [
                        "\n\nOK, we could define lots of these, one for each number we want to add. But that\nwould be infinitely repetitive. So, let's try to metaprogram that: we want a\nfunction which returns these add_N() functions.\n\nLet's start with the easy case: a function which returns a function which adds 5 to something:\n\n\n"
                    ]
                }, 
                {
                    "cell_type": "code", 
                    "collapsed": false, 
                    "input": [
                        "", 
                        "def generate_five_adder():", 
                        "    def _add_five(a):", 
                        "        return a+5", 
                        "    return _add_five", 
                        "", 
                        "coolfunction = generate_five_adder()", 
                        "coolfunction(7)", 
                        ""
                    ], 
                    "language": "python", 
                    "metadata": {}, 
                    "outputs": [], 
                    "prompt_number": null
                }, 
                {
                    "cell_type": "markdown", 
                    "metadata": {}, 
                    "source": [
                        "\n\nOK, so what happened there? Well, we defined a function **inside** the other function. We can always do that:\n\n\n"
                    ]
                }, 
                {
                    "cell_type": "code", 
                    "collapsed": false, 
                    "input": [
                        "", 
                        "def thirty_function():", 
                        "    def times_three(a):", 
                        "        return a*3", 
                        "    def add_seven(a):", 
                        "        return a+7", 
                        "    return times_three(add_seven(3))", 
                        "", 
                        "thirty_function()", 
                        ""
                    ], 
                    "language": "python", 
                    "metadata": {}, 
                    "outputs": [], 
                    "prompt_number": null
                }, 
                {
                    "cell_type": "markdown", 
                    "metadata": {}, 
                    "source": [
                        "\n\nWhen we do this, the functions enclosed inside the outer function are **local** functions, and can't be seen outside:\n\n\n"
                    ]
                }, 
                {
                    "cell_type": "code", 
                    "collapsed": false, 
                    "input": [
                        "", 
                        "with assert_raises(NameError):", 
                        "    add_seven", 
                        ""
                    ], 
                    "language": "python", 
                    "metadata": {}, 
                    "outputs": [], 
                    "prompt_number": null
                }, 
                {
                    "cell_type": "markdown", 
                    "metadata": {}, 
                    "source": [
                        "\n\nThere's not really much of a difference between functions and other variables\nin python. A function is just a variable which can have () put after it to call\nthe code!\n\n\n"
                    ]
                }, 
                {
                    "cell_type": "code", 
                    "collapsed": false, 
                    "input": [
                        "", 
                        "print thirty_function", 
                        "x=[thirty_function, add_five, add]", 
                        "", 
                        "for fun in x:", 
                        "    print fun", 
                        ""
                    ], 
                    "language": "python", 
                    "metadata": {}, 
                    "outputs": [], 
                    "prompt_number": null
                }, 
                {
                    "cell_type": "markdown", 
                    "metadata": {}, 
                    "source": [
                        "\n\nAnd we know that one of the things we can do with a variable is `return` it. So we can return a function, and then call it outside:\n\n\n"
                    ]
                }, 
                {
                    "cell_type": "code", 
                    "collapsed": false, 
                    "input": [
                        "", 
                        "def deferred_greeting():", 
                        "    def greet():", 
                        "        print \"Hello\"", 
                        "    return greet", 
                        "", 
                        "friendlyfunction=deferred_greeting()", 
                        "", 
                        "# Do something else", 
                        "print \"Just passing the time...\"", 
                        "", 
                        "# OK, Go!", 
                        "friendlyfunction()", 
                        ""
                    ], 
                    "language": "python", 
                    "metadata": {}, 
                    "outputs": [], 
                    "prompt_number": null
                }, 
                {
                    "cell_type": "markdown", 
                    "metadata": {}, 
                    "source": [
                        "\n\n\nSo now, to finish this, we just need to return a function to add an arbitrary amount:\n\n\n"
                    ]
                }, 
                {
                    "cell_type": "code", 
                    "collapsed": false, 
                    "input": [
                        "", 
                        "def define_adder(increment):", 
                        "    def adder(a):", 
                        "        return a+increment", 
                        "    return adder", 
                        "", 
                        "add_3=define_adder(3)", 
                        "", 
                        "add_3(9)", 
                        ""
                    ], 
                    "language": "python", 
                    "metadata": {}, 
                    "outputs": [], 
                    "prompt_number": null
                }, 
                {
                    "cell_type": "markdown", 
                    "metadata": {}, 
                    "source": [
                        "\n\nWe can make this even prettier: let's make another variable pointing to our define_adder() function:\n\n\n"
                    ]
                }, 
                {
                    "cell_type": "code", 
                    "collapsed": false, 
                    "input": [
                        "", 
                        "add = define_adder", 
                        ""
                    ], 
                    "language": "python", 
                    "metadata": {}, 
                    "outputs": [], 
                    "prompt_number": null
                }, 
                {
                    "cell_type": "markdown", 
                    "metadata": {}, 
                    "source": [
                        "\n\nAnd now we can do the real magic:\n\n\n"
                    ]
                }, 
                {
                    "cell_type": "code", 
                    "collapsed": false, 
                    "input": [
                        "", 
                        "add(8)(5)", 
                        ""
                    ], 
                    "language": "python", 
                    "metadata": {}, 
                    "outputs": [], 
                    "prompt_number": null
                }, 
                {
                    "cell_type": "markdown", 
                    "metadata": {}, 
                    "source": [
                        "\n"
                    ]
                }, 
                {
                    "cell_type": "heading", 
                    "level": 3, 
                    "metadata": {}, 
                    "source": [
                        "Closures"
                    ]
                }, 
                {
                    "cell_type": "markdown", 
                    "metadata": {}, 
                    "source": [
                        "You may have noticed something a bit weird:\n\nIn the definition of `define_adder`, `increment` is a local variable. It should have gone out of scope and died at the end of the definition. How can the amount the returned adder function is adding still be kept?\n\nThis is called a **closure**. In Python, whenever a function definition references a variable in the surrounding scope, it is preserved within the function definition.\n\nYou can close over global module variables as well:\n\n\n"
                    ]
                }, 
                {
                    "cell_type": "code", 
                    "collapsed": false, 
                    "input": [
                        "", 
                        "name = \"James\"", 
                        "def greet():", 
                        "    print \"Hello, \", name", 
                        "", 
                        "greet()", 
                        ""
                    ], 
                    "language": "python", 
                    "metadata": {}, 
                    "outputs": [], 
                    "prompt_number": null
                }, 
                {
                    "cell_type": "markdown", 
                    "metadata": {}, 
                    "source": [
                        "\n\nAnd note that the closure stores a reference to the variable in the surrounding scope: (\"Late Binding\")\n\n\n"
                    ]
                }, 
                {
                    "cell_type": "code", 
                    "collapsed": false, 
                    "input": [
                        "", 
                        "name=\"Matt\"", 
                        "", 
                        "greet()", 
                        ""
                    ], 
                    "language": "python", 
                    "metadata": {}, 
                    "outputs": [], 
                    "prompt_number": null
                }, 
                {
                    "cell_type": "markdown", 
                    "metadata": {}, 
                    "source": [
                        "\n\n"
                    ]
                }, 
                {
                    "cell_type": "heading", 
                    "level": 3, 
                    "metadata": {}, 
                    "source": [
                        "Map and Reduce"
                    ]
                }, 
                {
                    "cell_type": "markdown", 
                    "metadata": {}, 
                    "source": [
                        "We often want to apply a function to each variable in an array, to return a new array. We can do this with a list comprehension:\n\n\n"
                    ]
                }, 
                {
                    "cell_type": "code", 
                    "collapsed": false, 
                    "input": [
                        "", 
                        "numbers=range(10)", 
                        "", 
                        "[add_five(i) for i in numbers]", 
                        ""
                    ], 
                    "language": "python", 
                    "metadata": {}, 
                    "outputs": [], 
                    "prompt_number": null
                }, 
                {
                    "cell_type": "markdown", 
                    "metadata": {}, 
                    "source": [
                        "\n\nBut this is sufficiently common that there's a quick built-in:\n\n\n"
                    ]
                }, 
                {
                    "cell_type": "code", 
                    "collapsed": false, 
                    "input": [
                        "", 
                        "map(add_five, numbers)", 
                        ""
                    ], 
                    "language": "python", 
                    "metadata": {}, 
                    "outputs": [], 
                    "prompt_number": null
                }, 
                {
                    "cell_type": "markdown", 
                    "metadata": {}, 
                    "source": [
                        "\n\nThis **map** operation is really important conceptually when understanding\nefficient parallel programming: different computers can apply the *mapped*\nfunction to their input at the same time. We call this Single Program, Multiple\nData. (SPMD) **map** is half of the **map-reduce** functional programming\nparadigm which is key to the efficient operation of much of today's \"data\nscience\" explosion. \n\nLet's continue our functional programming mind-stretch by looking at **reduce** operations.\n\nWe very often want to loop with some kind of accumulator, such as when finding a mean, or finding a maximum:\n\n\n"
                    ]
                }, 
                {
                    "cell_type": "code", 
                    "collapsed": false, 
                    "input": [
                        "", 
                        "def mean(data):", 
                        "    sum=0.0", 
                        "    for x in data:", 
                        "        sum+=x", 
                        "    return sum/len(data)", 
                        "", 
                        "mean(range(10))", 
                        "", 
                        "import sys", 
                        "def my_max(data):", 
                        "    # Start with the smallest possible number", 
                        "    highest=sys.float_info.min", 
                        "    for x in data:", 
                        "        if x>highest:", 
                        "            highest=x", 
                        "    return highest", 
                        "", 
                        "my_max([2,5,10,-11,-5])", 
                        ""
                    ], 
                    "language": "python", 
                    "metadata": {}, 
                    "outputs": [], 
                    "prompt_number": null
                }, 
                {
                    "cell_type": "markdown", 
                    "metadata": {}, 
                    "source": [
                        "\n\nThese operations, where we have some variable which is building up a result,\nand the result is updated with some operation, can be gathered together as a\nfunctional program, taking in the operation to be used to combine results as an\nargument:\n\n\n"
                    ]
                }, 
                {
                    "cell_type": "code", 
                    "collapsed": false, 
                    "input": [
                        "", 
                        "def accumulate(initial, operation, data):", 
                        "    accumulator=initial", 
                        "    for x in data:", 
                        "        accumulator=operation(accumulator, x)", 
                        "    return accumulator", 
                        "", 
                        "def my_sum(data):", 
                        "    def _add(a,b):", 
                        "        return a+b", 
                        "    return accumulate(0, _add, data)", 
                        "", 
                        "print my_sum(range(5))", 
                        "", 
                        "def bigger(a,b):", 
                        "    if b>a:", 
                        "        return b", 
                        "    return a", 
                        "", 
                        "def my_max(data):", 
                        "    return accumulate(sys.float_info.min, bigger, data)", 
                        "", 
                        "print my_max([2,5,10,-11,-5])", 
                        ""
                    ], 
                    "language": "python", 
                    "metadata": {}, 
                    "outputs": [], 
                    "prompt_number": null
                }, 
                {
                    "cell_type": "markdown", 
                    "metadata": {}, 
                    "source": [
                        "\n\nNow, because these operations, _bigger, and _add, are such that e.g. (a+b)+c = a+(b+c) , i.e. they are **associative**, we could apply our accumulation\nto the left half and the right half of the array, each on a different computer, and then combine the two halves:\n\n1+2+3+4=(1+2)+(3+4)\n\nIndeed, with a bigger array, we can divide-and-conquer more times:\n\n1+2+3+4+5+6+7+8=((1+2)+(3+4))+((5+6)+(7+8))\n\nSo with enough parallel computers, we could do this operation on eight numbers\nin three steps: first, we use four computers to do one  each of the pairwise\nadds.\n\nThen, we use two computers to add the four totals.\n\nThen, we use one of the computers to do the final add of the two last numbers.\n\nYou might be able to do the maths to see that with an N element list, the\nnumber of such steps is proportional to the logarithm of N.\n\nWe say that with enough computers, reduction operations are O(ln N)\n\nThis course isn't an introduction to algorithms, but we'll talk more about this\nO() notation when we think about programming for performance.\n\nAnyway, this accumulate-under-an-operation process, is so fundamental to\ncomputing that it's usually in standard libraries for languages which allow\nfunctional programming:\n\n\n"
                    ]
                }, 
                {
                    "cell_type": "code", 
                    "collapsed": false, 
                    "input": [
                        "", 
                        "from functools import reduce", 
                        "", 
                        "def my_max(data):", 
                        "    return reduce(bigger,data,sys.float_info.min)", 
                        "", 
                        "my_max([2,5,10,-11,-5])", 
                        ""
                    ], 
                    "language": "python", 
                    "metadata": {}, 
                    "outputs": [], 
                    "prompt_number": null
                }, 
                {
                    "cell_type": "markdown", 
                    "metadata": {}, 
                    "source": [
                        "\n\nWhen doing functional programming, we often want to be able to define a function on the fly:\n\n\n"
                    ]
                }, 
                {
                    "cell_type": "code", 
                    "collapsed": false, 
                    "input": [
                        "", 
                        "def most_Cs_in_any_sequence(sequences):", 
                        "    def count_Cs(sequence):", 
                        "        return sequence.count('C')", 
                        "    counts=map(count_Cs, sequences)", 
                        "    return max(counts)", 
                        "", 
                        "def most_Gs_in_any_sequence(sequences):", 
                        "    return max(map(lambda sequence: sequence.count('G'),sequences))", 
                        "", 
                        "data=[", 
                        "    \"CGTA\",", 
                        "    \"CGGGTAAACG\",", 
                        "    \"GATTACA\"", 
                        "]", 
                        "", 
                        "most_Gs_in_any_sequence(data)", 
                        ""
                    ], 
                    "language": "python", 
                    "metadata": {}, 
                    "outputs": [], 
                    "prompt_number": null
                }, 
                {
                    "cell_type": "markdown", 
                    "metadata": {}, 
                    "source": [
                        "\n\nThe syntax here is that these two definitions are identical:\n\n\n"
                    ]
                }, 
                {
                    "cell_type": "code", 
                    "collapsed": false, 
                    "input": [
                        "", 
                        "func_name=lambda a,b,c : a+b+c", 
                        "", 
                        "def func_name(a,b,c):", 
                        "    a+b+c", 
                        ""
                    ], 
                    "language": "python", 
                    "metadata": {}, 
                    "outputs": [], 
                    "prompt_number": null
                }, 
                {
                    "cell_type": "markdown", 
                    "metadata": {}, 
                    "source": [
                        "\n\n\nlambda defines an \"anonymous\" function.\n\n\n"
                    ]
                }, 
                {
                    "cell_type": "code", 
                    "collapsed": false, 
                    "input": [
                        "", 
                        "def most_of_given_base_in_any_sequence(sequences, base):", 
                        "    return max(map(lambda sequence: sequence.count(base), sequences))", 
                        "", 
                        "most_of_given_base_in_any_sequence(data,'A')", 
                        ""
                    ], 
                    "language": "python", 
                    "metadata": {}, 
                    "outputs": [], 
                    "prompt_number": null
                }, 
                {
                    "cell_type": "markdown", 
                    "metadata": {}, 
                    "source": [
                        "\n\nThe above fragment defined a lambda function as a **closure** over `base`. If you understood that, you've got it! \n\n\n"
                    ]
                }, 
                {
                    "cell_type": "code", 
                    "collapsed": false, 
                    "input": [
                        "", 
                        "def my_max(data): return reduce(lambda a,b: a if a>b else b, data,", 
                        "        sys.float_info.min)", 
                        "", 
                        "my_max([2,5,10,-11,-5])", 
                        ""
                    ], 
                    "language": "python", 
                    "metadata": {}, 
                    "outputs": [], 
                    "prompt_number": null
                }, 
                {
                    "cell_type": "markdown", 
                    "metadata": {}, 
                    "source": [
                        "\n\n"
                    ]
                }, 
                {
                    "cell_type": "heading", 
                    "level": 3, 
                    "metadata": {}, 
                    "source": [
                        "Using functional programming"
                    ]
                }, 
                {
                    "cell_type": "markdown", 
                    "metadata": {}, 
                    "source": [
                        "\nProbably the most common use in research computing for functional programming\nis the application of a numerical method to a function. For example:\n"
                    ]
                }, 
                {
                    "cell_type": "code", 
                    "collapsed": false, 
                    "input": [
                        "% matplotlib inline"
                    ], 
                    "language": "python", 
                    "metadata": {}, 
                    "outputs": [], 
                    "prompt_number": null
                }, 
                {
                    "cell_type": "markdown", 
                    "metadata": {}, 
                    "source": [
                        "\n\n\n"
                    ]
                }, 
                {
                    "cell_type": "code", 
                    "collapsed": false, 
                    "input": [
                        "", 
                        "from scipy.optimize import newton", 
                        "from numpy import linspace, zeros", 
                        "from matplotlib import pyplot as plt", 
                        "solve_me=lambda x: x**2-x", 
                        "", 
                        "print newton(solve_me, 2), newton(solve_me,0.2)", 
                        "", 
                        "xs=linspace(-1,2,50)", 
                        "solved=[xs,map(solve_me,xs),xs,zeros(50)]", 
                        "plt.plot(*solved)", 
                        ""
                    ], 
                    "language": "python", 
                    "metadata": {}, 
                    "outputs": [], 
                    "prompt_number": null
                }, 
                {
                    "cell_type": "markdown", 
                    "metadata": {}, 
                    "source": [
                        "\n\n\nSometimes such tools return another function:\n\n\n"
                    ]
                }, 
                {
                    "cell_type": "code", 
                    "collapsed": false, 
                    "input": [
                        "", 
                        "def derivative(func, eps):", 
                        "    def _func_derived(x):", 
                        "        return (func(x+eps)-func(x))/eps", 
                        "    return _func_derived", 
                        "", 
                        "derived=(xs,map(solve_me,xs),xs,map(derivative(solve_me,0.01),xs))", 
                        "plt.plot(*derived)", 
                        "print newton(derivative(solve_me,0.01),0)", 
                        ""
                    ], 
                    "language": "python", 
                    "metadata": {}, 
                    "outputs": [], 
                    "prompt_number": null
                }, 
                {
                    "cell_type": "markdown", 
                    "metadata": {}, 
                    "source": [
                        "\n\n\n\nOf course, coding your own numerical methods is bad:\n\n\n"
                    ]
                }, 
                {
                    "cell_type": "code", 
                    "collapsed": false, 
                    "input": [
                        "", 
                        "import scipy.misc", 
                        "", 
                        "def derivative(func):", 
                        "    def _func_derived(x):", 
                        "        return scipy.misc.derivative(solve_me,x)", 
                        "    return _func_derived", 
                        "", 
                        "newton(derivative(solve_me),0)", 
                        ""
                    ], 
                    "language": "python", 
                    "metadata": {}, 
                    "outputs": [], 
                    "prompt_number": null
                }, 
                {
                    "cell_type": "markdown", 
                    "metadata": {}, 
                    "source": [
                        "\n\nIf you've done a moderate amount of calculus, then you'll find similarities\nbetween functional programming in computer science and Functionals in the\ncalculus of variations.\n\n"
                    ]
                }, 
                {
                    "cell_type": "heading", 
                    "level": 2, 
                    "metadata": {}, 
                    "source": [
                        "Iterators and Generators"
                    ]
                }, 
                {
                    "cell_type": "markdown", 
                    "metadata": {}, 
                    "source": [
                        ""
                    ]
                }, 
                {
                    "cell_type": "heading", 
                    "level": 3, 
                    "metadata": {}, 
                    "source": [
                        "Iterators"
                    ]
                }, 
                {
                    "cell_type": "markdown", 
                    "metadata": {}, 
                    "source": [
                        "\nWe've seen that in Python, anything which can be iterated over is called an iterable:\n\n\n"
                    ]
                }, 
                {
                    "cell_type": "code", 
                    "collapsed": false, 
                    "input": [
                        "", 
                        "for key in baskets:", 
                        "    print key.upper()", 
                        ""
                    ], 
                    "language": "python", 
                    "metadata": {}, 
                    "outputs": [], 
                    "prompt_number": null
                }, 
                {
                    "cell_type": "markdown", 
                    "metadata": {}, 
                    "source": [
                        "\n\nSurprisingly often, we want to iterate over something that takes a moderately\nlarge amount of storage to store. For example, our map images in the\ngreen-graph example.\n\nOur solution last time involved making an array of all the maps between London\nand Birmingham. This kept them all in memory *at the same time*: first we\ndownloaded all the maps, then we counted the green pixels in each of them. This\nwould NOT work if we used more points. We could do this with a for loop and an\nappend(), but that's not as elegant as using a **generator**\n\nConsider the basic python `range` function:\n\n\n"
                    ]
                }, 
                {
                    "cell_type": "code", 
                    "collapsed": false, 
                    "input": [
                        "", 
                        "print range(10)", 
                        "", 
                        "total=0", 
                        "for x in range(int(1e6)): total+= x", 
                        "", 
                        "print total", 
                        ""
                    ], 
                    "language": "python", 
                    "metadata": {}, 
                    "outputs": [], 
                    "prompt_number": null
                }, 
                {
                    "cell_type": "markdown", 
                    "metadata": {}, 
                    "source": [
                        "\n\nWhile this was executing, the range() statement allocated a million integers.\nThis is very inefficient. We don't actually need a million integers, just each\ninteger in turn up to a million.\n\n\n"
                    ]
                }, 
                {
                    "cell_type": "code", 
                    "collapsed": false, 
                    "input": [
                        "", 
                        "print xrange(3)", 
                        "", 
                        "a=iter(xrange(3))", 
                        "", 
                        "print a", 
                        "", 
                        "print a.next()", 
                        "", 
                        "print a.next()", 
                        "", 
                        "print a.next()", 
                        "", 
                        "with assert_raises(StopIteration):", 
                        "    print a.next()", 
                        "", 
                        "total=0", 
                        "for x in xrange(int(1e6)): total+= x", 
                        "", 
                        "print total", 
                        ""
                    ], 
                    "language": "python", 
                    "metadata": {}, 
                    "outputs": [], 
                    "prompt_number": null
                }, 
                {
                    "cell_type": "markdown", 
                    "metadata": {}, 
                    "source": [
                        "\n\n\nSimilarly:\n\n\n"
                    ]
                }, 
                {
                    "cell_type": "code", 
                    "collapsed": false, 
                    "input": [
                        "", 
                        "print baskets.items()", 
                        "", 
                        "print baskets.iteritems()", 
                        ""
                    ], 
                    "language": "python", 
                    "metadata": {}, 
                    "outputs": [], 
                    "prompt_number": null
                }, 
                {
                    "cell_type": "markdown", 
                    "metadata": {}, 
                    "source": [
                        "\n\n\nWe can make our own iterators by defining classes that implement next() and __iter__() methods: this is the iterator protocol.\n\nFor each of the concepts we've talked about, python defines a protocol, a set of methods a class must implement, in order to be treated as a member of that concept.\n\nFor the iterator protocol, the protocol that defines things that support `for x in y:`, the methods that must be supported are `next()` and `__iter__()`.\n\n\n"
                    ]
                }, 
                {
                    "cell_type": "code", 
                    "collapsed": false, 
                    "input": [
                        "", 
                        "class fib_iterator(object):", 
                        "    def __init__(self, limit, seed1=1, seed2=1):", 
                        "        self.limit=limit", 
                        "        self.previous=seed1", 
                        "        self.current=seed2", 
                        "    def __iter__(self):", 
                        "        return self", 
                        "    def next(self):", 
                        "        (self.previous, self.current)=(", 
                        "                self.current, self.previous+self.current)", 
                        "        self.limit -=1", 
                        "        if self.limit<0: raise StopIteration() # This will be ", 
                        "                                 # explained in a few slides!", 
                        "        return self.current", 
                        "", 
                        "x=fib_iterator(5)", 
                        "", 
                        "x.next()", 
                        "", 
                        "x.next()", 
                        "", 
                        "x.next()", 
                        "", 
                        "x.next()", 
                        "", 
                        "for x in fib_iterator(5):", 
                        "    print x", 
                        "", 
                        "sum(fib_iterator(5))", 
                        ""
                    ], 
                    "language": "python", 
                    "metadata": {}, 
                    "outputs": [], 
                    "prompt_number": null
                }, 
                {
                    "cell_type": "markdown", 
                    "metadata": {}, 
                    "source": [
                        "\n\n\nIn fact, if, to be iterated over, a class just wants to behave as if it were some other iterable, you can just implement `__iter__` and return `iter(some_other_iterable)`, without implementing `next`.  For example, an image class might want to implement some metadata, but behave just as if it were just a 1-d pixel array when being iterated:\n\n\n"
                    ]
                }, 
                {
                    "cell_type": "code", 
                    "collapsed": false, 
                    "input": [
                        "", 
                        "from numpy import array", 
                        "class MyImage(object):", 
                        "    def __init__(self, pixels):", 
                        "        self.pixels=array(pixels,dtype='uint8')", 
                        "        self.channels=self.pixels.shape[2]", 
                        "    def __iter__(self):", 
                        "        # return an iterator over the pixels", 
                        "        # See future NumPy lecture for using reshape", 
                        "        return iter(self.pixels.reshape(-1,self.channels))", 
                        "    def show(self):", 
                        "        plt.imshow(self.pixels, interpolation=\"None\")", 
                        "", 
                        "x=[[[255,255,0],[0,255,0]],[[0,0,255],[255,255,255]]]", 
                        "image=MyImage(x)", 
                        "", 
                        "image.show()", 
                        "", 
                        "print image.channels", 
                        "", 
                        "from webcolors import rgb_to_name", 
                        "for pixel in image:", 
                        "    print rgb_to_name(pixel)", 
                        "### iterable_savefig", 
                        "", 
                        "plt.savefig('colors.png')", 
                        "plt.figure()", 
                        ""
                    ], 
                    "language": "python", 
                    "metadata": {}, 
                    "outputs": [], 
                    "prompt_number": null
                }, 
                {
                    "cell_type": "markdown", 
                    "metadata": {}, 
                    "source": [
                        "\n\n\nTechnically, the **iterator** protocol is to implement both `__iter__` and\n`next`, while the **iterable** protocol is to implement `__iter__` and return\nan **iterator**.\n"
                    ]
                }, 
                {
                    "cell_type": "heading", 
                    "level": 3, 
                    "metadata": {}, 
                    "source": [
                        "Generators"
                    ]
                }, 
                {
                    "cell_type": "markdown", 
                    "metadata": {}, 
                    "source": [
                        "\nThere's a fair amount of \"boiler-plate\" in the above class-based definition of\nan iterable. Python provides another way to specify something\nwhich meets the iterator protocol: generators.\n\n\n"
                    ]
                }, 
                {
                    "cell_type": "code", 
                    "collapsed": false, 
                    "input": [
                        "", 
                        "def my_generator():", 
                        "    yield 5", 
                        "    yield 10", 
                        "", 
                        "x=my_generator()", 
                        "print x.next()", 
                        "print x.next()", 
                        "", 
                        "with assert_raises(StopIteration):", 
                        "    print x.next()", 
                        ""
                    ], 
                    "language": "python", 
                    "metadata": {}, 
                    "outputs": [], 
                    "prompt_number": null
                }, 
                {
                    "cell_type": "markdown", 
                    "metadata": {}, 
                    "source": [
                        "\n\n\nA function which has `yield` statements instead of a `return` statement returns\n**temporarily**. Each call of next() returns control to the function. Where it\nleft off. Control passes back-and-forth between the generator and the caller.\nOur fibonacci example therefore becomes:\n\n\n"
                    ]
                }, 
                {
                    "cell_type": "code", 
                    "collapsed": false, 
                    "input": [
                        "", 
                        "def yield_fibs(limit, seed1=1,seed2=1):", 
                        "    current=seed1", 
                        "    previous=seed2", 
                        "    while limit>0:", 
                        "        limit-=1", 
                        "        current, previous = current+previous, current", 
                        "        yield current", 
                        "", 
                        "print sum(yield_fibs(5))", 
                        "", 
                        "plt.plot(list(yield_fibs(20)))", 
                        ""
                    ], 
                    "language": "python", 
                    "metadata": {}, 
                    "outputs": [], 
                    "prompt_number": null
                }, 
                {
                    "cell_type": "markdown", 
                    "metadata": {}, 
                    "source": [
                        "\n\n\n\n\n"
                    ]
                }, 
                {
                    "cell_type": "heading", 
                    "level": 2, 
                    "metadata": {}, 
                    "source": [
                        "Exceptions"
                    ]
                }, 
                {
                    "cell_type": "heading", 
                    "level": 3, 
                    "metadata": {}, 
                    "source": [
                        "Exceptions"
                    ]
                }, 
                {
                    "cell_type": "markdown", 
                    "metadata": {}, 
                    "source": [
                        "\nWhen we learned about testing, we saw that Python complains when things go wrong by raising an \"Exception\" naming a type of error:\n\n\n"
                    ]
                }, 
                {
                    "cell_type": "code", 
                    "collapsed": false, 
                    "input": [
                        "", 
                        "with assert_raises(ZeroDivisionError):", 
                        "    1/0", 
                        ""
                    ], 
                    "language": "python", 
                    "metadata": {}, 
                    "outputs": [], 
                    "prompt_number": null
                }, 
                {
                    "cell_type": "markdown", 
                    "metadata": {}, 
                    "source": [
                        "\n\nExceptions are objects, forming a class hierarchy. We just raised an instance\nof the ZeroDivisionError class, making the program crash.\n\n\n"
                    ]
                }, 
                {
                    "cell_type": "code", 
                    "collapsed": false, 
                    "input": [
                        "", 
                        "import inspect", 
                        "inspect.getmro(ZeroDivisionError)", 
                        ""
                    ], 
                    "language": "python", 
                    "metadata": {}, 
                    "outputs": [], 
                    "prompt_number": null
                }, 
                {
                    "cell_type": "markdown", 
                    "metadata": {}, 
                    "source": [
                        "\n\nSo we can see that a zero division error is a particular kind of Arithmetic Error.\n\n\n"
                    ]
                }, 
                {
                    "cell_type": "code", 
                    "collapsed": false, 
                    "input": [
                        "", 
                        "x=1", 
                        "with assert_raises(TypeError):", 
                        "    for y in x: print y", 
                        "", 
                        "inspect.getmro(TypeError)", 
                        ""
                    ], 
                    "language": "python", 
                    "metadata": {}, 
                    "outputs": [], 
                    "prompt_number": null
                }, 
                {
                    "cell_type": "markdown", 
                    "metadata": {}, 
                    "source": [
                        "\n\n\nWhen we were looking at testing, we saw that it is important for code to crash with a meaningful exception type when something is wrong.\nWe raise an Exception with `raise`. Often, we can look for an appropriate exception from the standard set to raise. \n\nHowever, we may want to define our own exceptions. Doing this is as simple as inheriting from Exception:\n\n\n"
                    ]
                }, 
                {
                    "cell_type": "code", 
                    "collapsed": false, 
                    "input": [
                        "", 
                        "class MyCustomErrorType(Exception):", 
                        "    pass", 
                        "", 
                        "with assert_raises(MyCustomErrorType):", 
                        "    raise(MyCustomErrorType(\"Problem\"))", 
                        ""
                    ], 
                    "language": "python", 
                    "metadata": {}, 
                    "outputs": [], 
                    "prompt_number": null
                }, 
                {
                    "cell_type": "markdown", 
                    "metadata": {}, 
                    "source": [
                        "\n\nYou can add custom data to your exception:\n\n\n"
                    ]
                }, 
                {
                    "cell_type": "code", 
                    "collapsed": false, 
                    "input": [
                        "", 
                        "class MyCustomErrorType(Exception):", 
                        "    def __init__(self, category=None):", 
                        "        self.category=category", 
                        "    def __str__(self):", 
                        "        return \"Error, cateory \" + str(self. category)", 
                        "", 
                        "with assert_raises(MyCustomErrorType):", 
                        "    raise(MyCustomErrorType(404))", 
                        ""
                    ], 
                    "language": "python", 
                    "metadata": {}, 
                    "outputs": [], 
                    "prompt_number": null
                }, 
                {
                    "cell_type": "markdown", 
                    "metadata": {}, 
                    "source": [
                        "\n\nThe real power of exceptions comes, however, not in letting them crash the program, but in letting your program handle them. We say that an exception has been \"thrown\" and then \"caught\".\n\n\n"
                    ]
                }, 
                {
                    "cell_type": "code", 
                    "collapsed": false, 
                    "input": [
                        "", 
                        "import yaml", 
                        "try:", 
                        "    config=yaml.load(open(\"datasource.yaml\"))", 
                        "    user=config[\"userid\"]", 
                        "    password=config[\"password\"]", 
                        "except IOError:", 
                        "    user=\"anonymous\"", 
                        "    password=None", 
                        "", 
                        "print user", 
                        ""
                    ], 
                    "language": "python", 
                    "metadata": {}, 
                    "outputs": [], 
                    "prompt_number": null
                }, 
                {
                    "cell_type": "markdown", 
                    "metadata": {}, 
                    "source": [
                        "\n\nNote that we specify only the error we expect to happen and want to handle. Sometimes you see code that catches everything:\n\n\n"
                    ]
                }, 
                {
                    "cell_type": "code", 
                    "collapsed": false, 
                    "input": [
                        "", 
                        "try:", 
                        "    config=yaml.lod(open(\"datasource.yaml\"))", 
                        "    user=config[\"userid\"]", 
                        "    password=config[\"password\"]", 
                        "except:", 
                        "    user=\"anonymous\"", 
                        "    password=None", 
                        "", 
                        "print user", 
                        ""
                    ], 
                    "language": "python", 
                    "metadata": {}, 
                    "outputs": [], 
                    "prompt_number": null
                }, 
                {
                    "cell_type": "markdown", 
                    "metadata": {}, 
                    "source": [
                        "\n\nThere was a mistyped function name there, but we did not notice the error, as the generic except caught it. \nTherefore, we should catch only the error we want.\n\n\n"
                    ]
                }, 
                {
                    "cell_type": "code", 
                    "collapsed": false, 
                    "input": [
                        "", 
                        "with open('datasource2.yaml','w') as outfile:", 
                        "    outfile.write('userid: jamespjh\\n')", 
                        "    outfile.write('password: secret\\n')", 
                        "", 
                        "with open('datasource3.yaml','w') as outfile:", 
                        "    outfile.write('user: jamespjh\\n')", 
                        "    outfile.write('password: secret\\n')", 
                        "", 
                        "def read_credentials(source):", 
                        "    try:", 
                        "       datasource=open(source)", 
                        "       config=yaml.load(datasource)", 
                        "       user=config[\"userid\"]", 
                        "       password=config[\"password\"]", 
                        "       datasource.close()", 
                        "    except IOError:", 
                        "       user=\"anonymous\"", 
                        "       password=None", 
                        "    return user, password", 
                        "", 
                        "print read_credentials('datasource2.yaml')", 
                        "", 
                        "print read_credentials('datasource.yaml')", 
                        "", 
                        "with assert_raises(KeyError):", 
                        "    print read_credentials('datasource3.yaml')", 
                        ""
                    ], 
                    "language": "python", 
                    "metadata": {}, 
                    "outputs": [], 
                    "prompt_number": null
                }, 
                {
                    "cell_type": "markdown", 
                    "metadata": {}, 
                    "source": [
                        "\n\n\nThis last code has a flaw: the file was successfully opened, the missing key was noticed, but not explicitly closed. It's normally OK, as python will close the file as soon as it notices there are no longer any references to datasource in memory, after the function exits. But this is not good practice, you should keep a file handle for as short a time as possible.\n\n\n"
                    ]
                }, 
                {
                    "cell_type": "code", 
                    "collapsed": false, 
                    "input": [
                        "", 
                        "def read_credentials(source):", 
                        "    try:", 
                        "       datasource=open(source)", 
                        "       config=yaml.load(datasource)", 
                        "       user=config[\"userid\"]", 
                        "       password=config[\"password\"]", 
                        "    except IOError:", 
                        "       user=\"anonymous\"", 
                        "       password=None", 
                        "    finally:", 
                        "        datasource.close()", 
                        "    return user, password", 
                        ""
                    ], 
                    "language": "python", 
                    "metadata": {}, 
                    "outputs": [], 
                    "prompt_number": null
                }, 
                {
                    "cell_type": "markdown", 
                    "metadata": {}, 
                    "source": [
                        "\n\n\nThe `finally` clause is executed whether or not an exception occurs.\n\nThe last optional clause of a `try` statement, an `else` clause is called only if an exception is NOT raised. It can be a better place than the `try` clause to put code other than that which you expect to raise the error, and which you do not want to be executed if the error is raised. It is executed in the same circumstances as code put in the end of the `try` block, the only difference is that errors raised during the `else` clause are not caught. Don't worry if this seems useless to you; most languages implementations of try/except don't support such a clause.\n\n\n"
                    ]
                }, 
                {
                    "cell_type": "code", 
                    "collapsed": false, 
                    "input": [
                        "", 
                        "def read_credentials(source):", 
                        "    try:", 
                        "       datasource=open(source)", 
                        "    except IOError:", 
                        "       user=\"anonymous\"", 
                        "       password=None", 
                        "    else:", 
                        "       config=yaml.load(datasource)", 
                        "       user=config[\"userid\"]", 
                        "       password=config[\"password\"]", 
                        "    finally:", 
                        "        datasource.close()", 
                        "    return user, password", 
                        ""
                    ], 
                    "language": "python", 
                    "metadata": {}, 
                    "outputs": [], 
                    "prompt_number": null
                }, 
                {
                    "cell_type": "markdown", 
                    "metadata": {}, 
                    "source": [
                        "\n\nExceptions do not have to be caught close to the part of the program calling\nthem. They can be caught anywhere \"above\" the calling point in\nthe call stack: control can jump arbitrarily far in the program: up to the `except` clause of the \"highest\" containing try statement.\n\n\n"
                    ]
                }, 
                {
                    "cell_type": "code", 
                    "collapsed": false, 
                    "input": [
                        "", 
                        "def f4(x):", 
                        "    if x==0:", 
                        "        return", 
                        "    if x==1:", 
                        "        raise ArithmeticError()", 
                        "    if x==2:", 
                        "        raise SyntaxError()", 
                        "    if x==3:", 
                        "        raise TypeError()", 
                        "", 
                        "def f3(x):", 
                        "    try:", 
                        "        print \"F3Before\"", 
                        "        f4(x)", 
                        "        print \"F3After\"", 
                        "    except ArithmeticError:", 
                        "        print \"F3Except\"", 
                        "", 
                        "def f2(x):", 
                        "    try:", 
                        "        print \"F2Before\"", 
                        "        f3(x)", 
                        "        print \"F2After\"", 
                        "    except SyntaxError:", 
                        "        print \"F2Except\"", 
                        "", 
                        "def f1(x):", 
                        "    try:", 
                        "        print \"F1Before\"", 
                        "        f2(x)", 
                        "        print \"F1After\"", 
                        "    except TypeError:", 
                        "        print \"F1Except\"", 
                        "", 
                        "print \"Example 0\"", 
                        "f1(0)", 
                        "", 
                        "print \"Example 1\"", 
                        "f1(1)", 
                        "", 
                        "print \"Example 2\"", 
                        "f1(2)", 
                        "", 
                        "print \"Example 3\"", 
                        "f1(3)", 
                        ""
                    ], 
                    "language": "python", 
                    "metadata": {}, 
                    "outputs": [], 
                    "prompt_number": null
                }, 
                {
                    "cell_type": "markdown", 
                    "metadata": {}, 
                    "source": [
                        "\n\n"
                    ]
                }, 
                {
                    "cell_type": "heading", 
                    "level": 3, 
                    "metadata": {}, 
                    "source": [
                        "Design with Exceptions"
                    ]
                }, 
                {
                    "cell_type": "markdown", 
                    "metadata": {}, 
                    "source": [
                        "\nNow we know how exceptions work, we need to think about the design implications... How best to use them.\n\nTraditional software design theory will tell you that they should only be used\nto describe and recover from **exceptional** conditions: things going wrong.\nNormal program flow shouldn't use them.\n\nPython's designers take a different view: use of exceptions in normal flow is\nconsidered OK. For example, all iterators raise a `StopIteration` exception to\nindicate the iteration is complete.\n\nA commonly recommended python design pattern is to use exceptions to determine\nwhether an object implments a protocol (concept/interface), rather than testing\non type.\n\nFor example, we might want a function which can be supplied *either* a data\nseries *or* a path to a location on disk where data can be found. We can\nexamine the type of the supplied content:\n\n\n"
                    ]
                }, 
                {
                    "cell_type": "code", 
                    "collapsed": false, 
                    "input": [
                        "", 
                        "import yaml", 
                        "def analysis(source):", 
                        "    if type(source)==dict:", 
                        "        name=source['modelname']", 
                        "    else:", 
                        "        content=open(source)", 
                        "        source=yaml.load(content)", 
                        "        name=source['modelname']", 
                        "    print name", 
                        "", 
                        "analysis({'modelname':'Super'})", 
                        "", 
                        "with open('example.yaml','w') as outfile:", 
                        "    outfile.write('modelname: brilliant\\n')", 
                        "", 
                        "analysis('example.yaml')", 
                        ""
                    ], 
                    "language": "python", 
                    "metadata": {}, 
                    "outputs": [], 
                    "prompt_number": null
                }, 
                {
                    "cell_type": "markdown", 
                    "metadata": {}, 
                    "source": [
                        "\n\n\nHowever, we can also use the try-it-and-handle-exceptions approach to this. \n\n\n"
                    ]
                }, 
                {
                    "cell_type": "code", 
                    "collapsed": false, 
                    "input": [
                        "", 
                        "def analysis(source):", 
                        "    try:", 
                        "      name=source['modelname']", 
                        "    except TypeError:", 
                        "      content=open(source)", 
                        "      source=yaml.load(content)", 
                        "      name=source['modelname']", 
                        "    print name", 
                        "", 
                        "analysis('example.yaml')", 
                        ""
                    ], 
                    "language": "python", 
                    "metadata": {}, 
                    "outputs": [], 
                    "prompt_number": null
                }, 
                {
                    "cell_type": "markdown", 
                    "metadata": {}, 
                    "source": [
                        "\n\n\nThis approach is more extensible, and **behaves properly if we give it some\nother data-source which responds like a dictionary or string.**\n\n\n"
                    ]
                }, 
                {
                    "cell_type": "code", 
                    "collapsed": false, 
                    "input": [
                        "", 
                        "def analysis(source):", 
                        "    try:", 
                        "      name=source['modelname']", 
                        "    except TypeError:", 
                        "      # Source was not a dictionary-like object", 
                        "      # Maybe it is a file path", 
                        "      try:", 
                        "        content=open(source)", 
                        "        source=yaml.load(content)", 
                        "        name=source['modelname']", 
                        "      except IOError:", 
                        "        # Maybe it was already raw YAML content", 
                        "        source=yaml.load(source)", 
                        "        name=source['modelname']", 
                        "    print name", 
                        "", 
                        "analysis(\"modelname: Amazing\")", 
                        ""
                    ], 
                    "language": "python", 
                    "metadata": {}, 
                    "outputs": [], 
                    "prompt_number": null
                }, 
                {
                    "cell_type": "markdown", 
                    "metadata": {}, 
                    "source": [
                        "\n\n\nSometimes we want to catch an error, partially handle it, perhaps add some\nextra data to the exception, and then re-raise to be caught again further up\nthe call stack. \n\nThe keyword \"`raise`\" with no argument in an `except:` clause will cause the\ncaught error to be re-thrown. Doing this is the only circumstance where it is\nsafe to do except: without catching a specfic type of error.\n\n\n"
                    ]
                }, 
                {
                    "cell_type": "code", 
                    "collapsed": false, 
                    "input": [
                        "", 
                        "try:", 
                        "    # Something", 
                        "    pass", 
                        "except:", 
                        "    # Do this code here if anything goes wrong", 
                        "    raise", 
                        ""
                    ], 
                    "language": "python", 
                    "metadata": {}, 
                    "outputs": [], 
                    "prompt_number": null
                }, 
                {
                    "cell_type": "markdown", 
                    "metadata": {}, 
                    "source": [
                        "\n\nIt can be useful to catch and re-throw an error as you go up the chain, doing any clean-up needed for each layer of a program.\n\nThe error will finally be caught and not re-thrown only at a higher program\nlayer that knows how to recover. This is known as the \"throw low catch high\"\nprinciple.\n\n\n"
                    ]
                }, 
                {
                    "cell_type": "heading", 
                    "level": 2, 
                    "metadata": {}, 
                    "source": [
                        "Context managers and decorators"
                    ]
                }, 
                {
                    "cell_type": "heading", 
                    "level": 3, 
                    "metadata": {}, 
                    "source": [
                        "Context managers"
                    ]
                }, 
                {
                    "cell_type": "markdown", 
                    "metadata": {}, 
                    "source": [
                        "\nWe saw that instead of separately `open`ing and `close`ing a file, we can have\nthe file be automatically closed using a context manager:\n\n\n"
                    ]
                }, 
                {
                    "cell_type": "code", 
                    "collapsed": false, 
                    "input": [
                        "", 
                        "with open('example.yaml') as foo:", 
                        "    print yaml.load(foo)", 
                        ""
                    ], 
                    "language": "python", 
                    "metadata": {}, 
                    "outputs": [], 
                    "prompt_number": null
                }, 
                {
                    "cell_type": "markdown", 
                    "metadata": {}, 
                    "source": [
                        "\n\n\nHow could we define our own one of these, if we too have clean-up code we\nalways want to run after a calling function has done its work, or set-up code\nwe want to do first?\n\nWe can define a class that meets an appropriate protocol:\n\n\n"
                    ]
                }, 
                {
                    "cell_type": "code", 
                    "collapsed": false, 
                    "input": [
                        "", 
                        "class verbose_context():", 
                        "    def __init__(self, name):", 
                        "        self.name=name", 
                        "    def __enter__(self):", 
                        "        print \"Get ready, \", self.name", 
                        "    def __exit__(self, exc_type, exc_value, traceback):", 
                        "        print \"OK, done\"", 
                        "", 
                        "with verbose_context(\"James\"):", 
                        "    print \"Doing it!\"", 
                        ""
                    ], 
                    "language": "python", 
                    "metadata": {}, 
                    "outputs": [], 
                    "prompt_number": null
                }, 
                {
                    "cell_type": "markdown", 
                    "metadata": {}, 
                    "source": [
                        "\n\nHowever, this is pretty verbose! Again, a generator with `yield` makes for an easier syntax:\n\n\n"
                    ]
                }, 
                {
                    "cell_type": "code", 
                    "collapsed": false, 
                    "input": [
                        "", 
                        "from contextlib import contextmanager", 
                        "", 
                        "@contextmanager", 
                        "def verbose_context(name):", 
                        "    print \"Get ready for action, \", name", 
                        "    yield name.upper()", 
                        "    print \"You did it\"", 
                        "", 
                        "with verbose_context(\"James\") as shouty:", 
                        "    print \"Doing it, \",  shouty", 
                        ""
                    ], 
                    "language": "python", 
                    "metadata": {}, 
                    "outputs": [], 
                    "prompt_number": null
                }, 
                {
                    "cell_type": "markdown", 
                    "metadata": {}, 
                    "source": [
                        "\n\nAgain, we use `yield` to temporarily return from a function.\n"
                    ]
                }, 
                {
                    "cell_type": "heading", 
                    "level": 3, 
                    "metadata": {}, 
                    "source": [
                        "Decorators"
                    ]
                }, 
                {
                    "cell_type": "markdown", 
                    "metadata": {}, 
                    "source": [
                        "\nWhen doing functional programming, we may often want to define mutator\nfunctions which take in one function and return a new function, such as our\nderivative example earlier.\n\n\n"
                    ]
                }, 
                {
                    "cell_type": "code", 
                    "collapsed": false, 
                    "input": [
                        "", 
                        "def repeater(func, count):", 
                        "    def _repeated(x):", 
                        "        counter=count", 
                        "        while counter>0:", 
                        "            counter-=1", 
                        "            x=func(x)", 
                        "        return x", 
                        "    return _repeated", 
                        "", 
                        "from math import sqrt", 
                        "", 
                        "fiftyroots=repeater(sqrt,50)", 
                        "", 
                        "print fiftyroots(100)", 
                        ""
                    ], 
                    "language": "python", 
                    "metadata": {}, 
                    "outputs": [], 
                    "prompt_number": null
                }, 
                {
                    "cell_type": "markdown", 
                    "metadata": {}, 
                    "source": [
                        "\n\n\nIt turns out that, quite often, we want to apply one of these to a function as we're defining a class.\nFor example, we may want to specify that after certain methods are called, data should always be stored:\n\n\n"
                    ]
                }, 
                {
                    "cell_type": "code", 
                    "collapsed": false, 
                    "input": [
                        "", 
                        "def reset_required(func):", 
                        "    def _with_data_save(self, *args):", 
                        "        func(self,*args)", 
                        "        self.stored_data.append(self.data)", 
                        "    return _with_data_save", 
                        "", 
                        "class SomeClass(object):", 
                        "    def __init__(self):", 
                        "        self.data=[]", 
                        "        self.stored_data=[]", 
                        "    def _step1(self, ins):", 
                        "        self.data=[x*2 for x in ins]", 
                        "    step1=reset_required(_step1)", 
                        "", 
                        "x=SomeClass()", 
                        "", 
                        "x.step1(\"Hello\")", 
                        "print x.data", 
                        "", 
                        "x.step1(\"World\")", 
                        "print x.data", 
                        "", 
                        "print x.stored_data", 
                        ""
                    ], 
                    "language": "python", 
                    "metadata": {}, 
                    "outputs": [], 
                    "prompt_number": null
                }, 
                {
                    "cell_type": "markdown", 
                    "metadata": {}, 
                    "source": [
                        "\n\n\nPython provides some \"syntactic sugar\" to make this kind of coding prettier:\n\n\n"
                    ]
                }, 
                {
                    "cell_type": "code", 
                    "collapsed": false, 
                    "input": [
                        "", 
                        "def reset_required(func):", 
                        "    def _with_data_save(self, *args):", 
                        "        func(self,*args)", 
                        "        self.stored_data.append(self.data)", 
                        "    return _with_data_save", 
                        "", 
                        "class SomeClass(object):", 
                        "    def __init__(self):", 
                        "        self.data=[]", 
                        "        self.stored_data=[]", 
                        "    @reset_required", 
                        "    def step1(self, ins):", 
                        "        self.data=[x*2 for x in ins]", 
                        "", 
                        "x=SomeClass()", 
                        "x.step1(\"Hello\")", 
                        "x.step1(\"World\")", 
                        "print x.stored_data", 
                        ""
                    ], 
                    "language": "python", 
                    "metadata": {}, 
                    "outputs": [], 
                    "prompt_number": null
                }, 
                {
                    "cell_type": "markdown", 
                    "metadata": {}, 
                    "source": [
                        "\n\n\nAny function which accepts a function as its first argument and returns a function can be used as a **decorator** like this.\n\nMuch of Python's standard functionality is implemented as decorators: we've\nseen @contextmanager, @classmethod and @attribute. The @contextmanager\nmetafunction, for example, takes in an iterator, and yields a class conforming\nto the context manager protocol.\n"
                    ]
                }, 
                {
                    "cell_type": "heading", 
                    "level": 3, 
                    "metadata": {}, 
                    "source": [
                        "Testing and functional programming."
                    ]
                }, 
                {
                    "cell_type": "markdown", 
                    "metadata": {}, 
                    "source": [
                        "\nA few weeks ago we saw a test which loaded its test cases from a YAML file and\nasserted each input with each output. This was nice and concise, but had one\nflaw: we had just one test, covering all the fixtures, so we got just one . in\nthe test output when we ran the tests, and if any test failed, the rest were\nnot run. We can do a nicer job with a test **generator**:\n\n\n"
                    ]
                }, 
                {
                    "cell_type": "code", 
                    "collapsed": false, 
                    "input": [
                        "", 
                        "def assert_examplar(**fixture):", 
                        "    answer=fixture.pop('answer')", 
                        "    assert_equal(greet(**fixture), answer)", 
                        "", 
                        "def test_greeter():", 
                        "    with open(os.path.join(os.path.dirname(", 
                        "        __file__),'fixtures','samples.yaml')", 
                        "        ) as fixtures_file:", 
                        "        fixtures=yaml.load(fixtures_file)", 
                        "        for fixture in fixtures:", 
                        "            yield assert_exemplar(**fixture)", 
                        ""
                    ], 
                    "language": "python", 
                    "metadata": {}, 
                    "outputs": [], 
                    "prompt_number": null
                }, 
                {
                    "cell_type": "markdown", 
                    "metadata": {}, 
                    "source": [
                        "\n\n\nWe also remember seeing `with assert_raises()` used to do negative testing.\n\nWe can now imagine how this context manager might be implemented:\n\n\n"
                    ]
                }, 
                {
                    "cell_type": "code", 
                    "collapsed": false, 
                    "input": [
                        "", 
                        "@contextmanager", 
                        "def my_assert_raises(exception):", 
                        "    try:", 
                        "        yield", 
                        "    except exception:", 
                        "        pass", 
                        "    else:", 
                        "        raise Exception(\"Expected,\", exception, ", 
                        "                \" to be raised, nothing was.\")", 
                        ""
                    ], 
                    "language": "python", 
                    "metadata": {}, 
                    "outputs": [], 
                    "prompt_number": null
                }, 
                {
                    "cell_type": "markdown", 
                    "metadata": {}, 
                    "source": [
                        "\n\nIn fact, we can now use an even easier way to define negative tests: by using `@raises` as a **decorator**:\n\n\n"
                    ]
                }, 
                {
                    "cell_type": "code", 
                    "collapsed": false, 
                    "input": [
                        "", 
                        "from nose.tools import raises", 
                        "", 
                        "@raises(TypeError, ValueError)", 
                        "def test_raises_type_error():", 
                        "    raise TypeError(\"This test passes\")", 
                        "", 
                        "@raises(Exception)", 
                        "def test_that_fails_by_passing():", 
                        "    pass", 
                        "", 
                        "test_raises_type_error()", 
                        "", 
                        "with assert_raises(AssertionError):", 
                        "    test_that_fails_by_passing()", 
                        ""
                    ], 
                    "language": "python", 
                    "metadata": {}, 
                    "outputs": [], 
                    "prompt_number": null
                }, 
                {
                    "cell_type": "markdown", 
                    "metadata": {}, 
                    "source": [
                        "\n\n\nAgain, we can imagine how nose might implement this:\n\n\n"
                    ]
                }, 
                {
                    "cell_type": "code", 
                    "collapsed": false, 
                    "input": [
                        "", 
                        "def my_raises(func, exception):", 
                        "    def _output(*args):", 
                        "        with assert_raises(exception):", 
                        "            func(*args)", 
                        "    return _output", 
                        ""
                    ], 
                    "language": "python", 
                    "metadata": {}, 
                    "outputs": [], 
                    "prompt_number": null
                }, 
                {
                    "cell_type": "markdown", 
                    "metadata": {}, 
                    "source": [
                        "\n\n"
                    ]
                }, 
                {
                    "cell_type": "heading", 
                    "level": 2, 
                    "metadata": {}, 
                    "source": [
                        "Metaprogramming"
                    ]
                }, 
                {
                    "cell_type": "heading", 
                    "level": 3, 
                    "metadata": {}, 
                    "source": [
                        "Metaprogramming class attributes"
                    ]
                }, 
                {
                    "cell_type": "markdown", 
                    "metadata": {}, 
                    "source": [
                        "\nIn our introductory metaprogramming example, we were working in the root namespace of a module, using the globals() function.\n\nWe want to be able to access the attribute dictionary for other objects to do\nmetaprogramming to, for example, programmatically create class member data or\nvariables.\n\n\n"
                    ]
                }, 
                {
                    "cell_type": "code", 
                    "collapsed": false, 
                    "input": [
                        "", 
                        "class Boring(object): pass", 
                        "", 
                        "x=Boring()", 
                        "", 
                        "x.name=\"James\"", 
                        "", 
                        "print x.name", 
                        "", 
                        "print x.__dict__", 
                        "", 
                        "print getattr(x,'name')", 
                        "", 
                        "setattr(x,'age',38)", 
                        "", 
                        "print x.age", 
                        ""
                    ], 
                    "language": "python", 
                    "metadata": {}, 
                    "outputs": [], 
                    "prompt_number": null
                }, 
                {
                    "cell_type": "markdown", 
                    "metadata": {}, 
                    "source": [
                        "\n\n\nThe real power of accessing the attribute dictionary comes when we realise that\nthere is *very little difference* between member data and member functions.\nNow that we know, from our functional programming, that a function is just a\nvariable that can be *called* with `()`, we can set an attribute to a function,\nand\nit becomes a member function!\n\n\n"
                    ]
                }, 
                {
                    "cell_type": "code", 
                    "collapsed": false, 
                    "input": [
                        "", 
                        "setattr(Boring, 'describe', lambda self: self.name+ \" is \"+str(self.age))", 
                        "", 
                        "", 
                        "print x.describe(), x.describe, Boring.describe", 
                        ""
                    ], 
                    "language": "python", 
                    "metadata": {}, 
                    "outputs": [], 
                    "prompt_number": null
                }, 
                {
                    "cell_type": "markdown", 
                    "metadata": {}, 
                    "source": [
                        "\n\n\nNote that we set this as an attribute of the class, so it is available to other instances of `Boring`:\n\n\n"
                    ]
                }, 
                {
                    "cell_type": "code", 
                    "collapsed": false, 
                    "input": [
                        "", 
                        "y=Boring()", 
                        "with assert_raises(AttributeError):", 
                        "    y.describe()", 
                        ""
                    ], 
                    "language": "python", 
                    "metadata": {}, 
                    "outputs": [], 
                    "prompt_number": null
                }, 
                {
                    "cell_type": "markdown", 
                    "metadata": {}, 
                    "source": [
                        "\n\n\n"
                    ]
                }, 
                {
                    "cell_type": "code", 
                    "collapsed": false, 
                    "input": [
                        "", 
                        "def broken_birth_year(self):", 
                        "    import datetime", 
                        "    current=datetime.datetime.now().year", 
                        "    return current-self.age", 
                        "", 
                        "Boring.birth_year=broken_birth_year", 
                        "", 
                        "print x.birth_year()", 
                        "", 
                        "print x.birth_year", 
                        "", 
                        "print broken_birth_year.__name__", 
                        ""
                    ], 
                    "language": "python", 
                    "metadata": {}, 
                    "outputs": [], 
                    "prompt_number": null
                }, 
                {
                    "cell_type": "markdown", 
                    "metadata": {}, 
                    "source": [
                        "\n\n\nWe can access the attribute dictionary for the local namespace inside a\nfunction with locals() but this *cannot safely be written to*. Lack of safe\nprogrammatic creation of local variables is a flaw in Python.\n\n\n"
                    ]
                }, 
                {
                    "cell_type": "code", 
                    "collapsed": false, 
                    "input": [
                        "", 
                        "class Person(object):", 
                        "    def __init__(self, name, age, job, children_count):", 
                        "        for name,value in locals().iteritems():", 
                        "            if name=='self': continue", 
                        "            print \"Setting self.\", name, \" to \", value ", 
                        "            setattr(self, name, value)", 
                        "", 
                        "me=Person(\"James\", 38, \"Scientific Programmer\", 0)", 
                        "", 
                        "print me.name", 
                        ""
                    ], 
                    "language": "python", 
                    "metadata": {}, 
                    "outputs": [], 
                    "prompt_number": null
                }, 
                {
                    "cell_type": "markdown", 
                    "metadata": {}, 
                    "source": [
                        "\n\n"
                    ]
                }, 
                {
                    "cell_type": "heading", 
                    "level": 3, 
                    "metadata": {}, 
                    "source": [
                        "Metaprogramming warning!"
                    ]
                }, 
                {
                    "cell_type": "markdown", 
                    "metadata": {}, 
                    "source": [
                        "\nUse this stuff **sparingly**!\n\nThe above example worked, but it produced Python code which is not particularly understandable.\nRemember, your objective when programming is to produce code which is **descriptive of what it does**.\n\nThe above code is **definitely** less readable, less maintainable and more error prone than:\n\n\n"
                    ]
                }, 
                {
                    "cell_type": "code", 
                    "collapsed": false, 
                    "input": [
                        "", 
                        "class Person(object):", 
                        "    def __init__(self, name, age, job, children_count):", 
                        "       self.name=name", 
                        "       self.age=age", 
                        "       self.job=job", 
                        "       self.children_count=children_count", 
                        ""
                    ], 
                    "language": "python", 
                    "metadata": {}, 
                    "outputs": [], 
                    "prompt_number": null
                }, 
                {
                    "cell_type": "markdown", 
                    "metadata": {}, 
                    "source": [
                        "\n\n\nSometimes, metaprogramming will be **really** helpful in making non-repetitive\ncode, and you should have it in your toolbox, which is why I'm teaching you it.\nBut doing it all the time overcomplicated matters. We've talked a lot about the\nDRY principle, but there is another equally important principle:\n\n> **KISS**: *Keep it simple, Stupid!*\n\nWhenever you write code and you think, \"Gosh, I'm really clever\",you're\nprobably *doing it wrong*. Code should be about clarity, not showing off.\n"
                    ]
                }, 
                {
                    "cell_type": "heading", 
                    "level": 2, 
                    "metadata": {}, 
                    "source": [
                        "Operator overloading"
                    ]
                }, 
                {
                    "cell_type": "heading", 
                    "level": 3, 
                    "metadata": {}, 
                    "source": [
                        "Operator overloading"
                    ]
                }, 
                {
                    "cell_type": "markdown", 
                    "metadata": {}, 
                    "source": [
                        "\n\n\nWe need to use a metaprogramming trick to make this notebook work.\nI want to be able to put explanatory text in between parts of a class definition,\nso I'll define a decorator to help me build up a class definition gradually.\n\n\n"
                    ]
                }, 
                {
                    "cell_type": "code", 
                    "collapsed": false, 
                    "input": [
                        "", 
                        "def extend(class_to_extend):", 
                        "    \"\"\" Metaprogramming to allow gradual implementation", 
                        "    of class during notebook. Thanks to", 
                        "    http://www.ianbicking.org/blog/2007/08/opening-python-classes.html \"\"\"", 
                        "    def decorator(extending_class):", 
                        "        for name, value in extending_class.__dict__.iteritems():", 
                        "            if name in ['__dict__','__module__', '__weakref__', '__doc__']:", 
                        "                continue", 
                        "            setattr(class_to_extend,name,value)", 
                        "        return class_to_extend", 
                        "    return decorator", 
                        ""
                    ], 
                    "language": "python", 
                    "metadata": {}, 
                    "outputs": [], 
                    "prompt_number": null
                }, 
                {
                    "cell_type": "markdown", 
                    "metadata": {}, 
                    "source": [
                        "\n\n\n\nImagine we wanted to make a library to describe some kind of symbolic algebra system:\n\n\n"
                    ]
                }, 
                {
                    "cell_type": "code", 
                    "collapsed": false, 
                    "input": [
                        "", 
                        "class Term(object):", 
                        "    def __init__(self, symbols=[], powers=[], coefficient=1):", 
                        "        self.coefficient=coefficient", 
                        "        self.data={symbol: exponent for symbol,exponent", 
                        "                in zip(symbols, powers)}", 
                        "", 
                        "class Expression(object):", 
                        "    def __init__(self, terms):", 
                        "        self.terms=terms", 
                        ""
                    ], 
                    "language": "python", 
                    "metadata": {}, 
                    "outputs": [], 
                    "prompt_number": null
                }, 
                {
                    "cell_type": "markdown", 
                    "metadata": {}, 
                    "source": [
                        "\n\n\nSo that $5x^2y+7x+2$ might be constructed as:\n\n\n"
                    ]
                }, 
                {
                    "cell_type": "code", 
                    "collapsed": false, 
                    "input": [
                        "", 
                        "first=Term(['x','y'],[2,1],5)", 
                        "second=Term(['x'],[1],7)", 
                        "third=Term([],[],2)", 
                        "result=Expression([first, second, third])", 
                        ""
                    ], 
                    "language": "python", 
                    "metadata": {}, 
                    "outputs": [], 
                    "prompt_number": null
                }, 
                {
                    "cell_type": "markdown", 
                    "metadata": {}, 
                    "source": [
                        "\n\n\nThis is pretty cumbersome.\n\nWhat we'd really like is to have `2x+y` give an appropriate expression.\n\nFirst, we'll define things so that we can construct our terms and expressions in different ways.\n\n\n"
                    ]
                }, 
                {
                    "cell_type": "code", 
                    "collapsed": false, 
                    "input": [
                        "", 
                        "class Term(object):", 
                        "    def __init__(self, *args):", 
                        "        lead=args[0]", 
                        "        if type(lead)==type(self):", 
                        "            # Copy constructor", 
                        "            self.data=dict(lead.data)", 
                        "            self.coefficient=lead.coefficient", 
                        "        elif type(lead)==int:", 
                        "            self.from_constant(lead)", 
                        "        elif type(lead)==str:", 
                        "            self.from_symbol(*args)", 
                        "        elif type(lead)==dict:", 
                        "            self.from_dictionary(*args)", 
                        "        else:", 
                        "            self.from_lists(*args)", 
                        "    def from_constant(self, constant):", 
                        "        self.coefficient=constant", 
                        "        self.data={}", 
                        "    def from_symbol(self, symbol, coefficient=1, power=1):", 
                        "        self.coefficient=coefficient", 
                        "        self.data={symbol:power}", 
                        "    def from_dictionary(self, data, coefficient=1):", 
                        "        self.data=data", 
                        "        self.coefficient=coefficient", 
                        "    def from_lists(self, symbols=[], powers=[], coefficient=1):", 
                        "        self.coefficient=coefficient", 
                        "        self.data={symbol: exponent for symbol,exponent", 
                        "                in zip(symbols, powers)}", 
                        ""
                    ], 
                    "language": "python", 
                    "metadata": {}, 
                    "outputs": [], 
                    "prompt_number": null
                }, 
                {
                    "cell_type": "markdown", 
                    "metadata": {}, 
                    "source": [
                        "\n\n\n"
                    ]
                }, 
                {
                    "cell_type": "code", 
                    "collapsed": false, 
                    "input": [
                        "", 
                        "class Expression(object):", 
                        "    def __init__(self, terms=[]):", 
                        "        self.terms=list(terms)", 
                        ""
                    ], 
                    "language": "python", 
                    "metadata": {}, 
                    "outputs": [], 
                    "prompt_number": null
                }, 
                {
                    "cell_type": "markdown", 
                    "metadata": {}, 
                    "source": [
                        "\n\n\nWe could define add() and multiply() operations on expressions and terms:\n\n\n"
                    ]
                }, 
                {
                    "cell_type": "code", 
                    "collapsed": false, 
                    "input": [
                        "", 
                        "@extend(Term)", 
                        "class Term(object):", 
                        "    def add(self, *others):", 
                        "        return Expression((self,)+others)", 
                        "    def multiply(self, *others):", 
                        "        result_data=dict(self.data)", 
                        "        result_coeff=self.coefficient", 
                        "        # Convert arguments to Terms first if they are", 
                        "        # constants or integers", 
                        "        others=map(Term,others)", 
                        "        for another in others:", 
                        "            for symbol, exponent in another.data.iteritems():", 
                        "                if symbol in result_data:", 
                        "                    result_data[symbol]+=another.data[symbol]", 
                        "                else:", 
                        "                    result_data[symbol]=another.data[symbol]", 
                        "            result_coeff*=another.coefficient", 
                        "        return Term(result_data,result_coeff)", 
                        ""
                    ], 
                    "language": "python", 
                    "metadata": {}, 
                    "outputs": [], 
                    "prompt_number": null
                }, 
                {
                    "cell_type": "markdown", 
                    "metadata": {}, 
                    "source": [
                        "\n\n\n"
                    ]
                }, 
                {
                    "cell_type": "code", 
                    "collapsed": false, 
                    "input": [
                        "", 
                        "@extend(Expression)", 
                        "class Expression(object):", 
                        "    def add(self, *others):", 
                        "        result=Expression(self.terms)", 
                        "        for another in others:", 
                        "            if type(another)==Term:", 
                        "                result.terms.append(another)", 
                        "            else:", 
                        "                result.terms+=another.terms", 
                        "        return result", 
                        ""
                    ], 
                    "language": "python", 
                    "metadata": {}, 
                    "outputs": [], 
                    "prompt_number": null
                }, 
                {
                    "cell_type": "markdown", 
                    "metadata": {}, 
                    "source": [
                        "\n\n\nWe can now construct the above expression as:\n\n\n"
                    ]
                }, 
                {
                    "cell_type": "code", 
                    "collapsed": false, 
                    "input": [
                        "", 
                        "x=Term('x')", 
                        "y=Term('y')", 
                        "", 
                        "first=Term(5).multiply(Term('x'),Term('x'),Term('y'))", 
                        "second=Term(7).multiply(Term('x'))", 
                        "third=Term(2)", 
                        "expr=first.add(second,third)", 
                        ""
                    ], 
                    "language": "python", 
                    "metadata": {}, 
                    "outputs": [], 
                    "prompt_number": null
                }, 
                {
                    "cell_type": "markdown", 
                    "metadata": {}, 
                    "source": [
                        "\n\n\nThis is better, but we still can't write the expression in a 'natural' way.\n\nHowever, we can define what `*` and `+` do when applied to Terms!:\n\n\n"
                    ]
                }, 
                {
                    "cell_type": "code", 
                    "collapsed": false, 
                    "input": [
                        "", 
                        "@extend(Term)", 
                        "class Term(object):", 
                        "    def __add__(self, other):", 
                        "        return self.add(other)", 
                        "    def __mul__(self, other):", 
                        "        return self.multiply(other)", 
                        ""
                    ], 
                    "language": "python", 
                    "metadata": {}, 
                    "outputs": [], 
                    "prompt_number": null
                }, 
                {
                    "cell_type": "markdown", 
                    "metadata": {}, 
                    "source": [
                        "\n\n\n"
                    ]
                }, 
                {
                    "cell_type": "code", 
                    "collapsed": false, 
                    "input": [
                        "", 
                        "@extend(Expression)", 
                        "class Expression(object):", 
                        "    def multiply(self, another):", 
                        "        # Distributive law left as exercise", 
                        "        pass", 
                        "    def __add__(self, other):", 
                        "        return self.add(other)", 
                        ""
                    ], 
                    "language": "python", 
                    "metadata": {}, 
                    "outputs": [], 
                    "prompt_number": null
                }, 
                {
                    "cell_type": "markdown", 
                    "metadata": {}, 
                    "source": [
                        "\n\n\n"
                    ]
                }, 
                {
                    "cell_type": "code", 
                    "collapsed": false, 
                    "input": [
                        "", 
                        "x_plus_y=Term('x')+'y'", 
                        "print x_plus_y.terms[0].data", 
                        "", 
                        "five_x_ysq=Term('x')*5*'y'*'y'", 
                        "print five_x_ysq.data, five_x_ysq.coefficient", 
                        ""
                    ], 
                    "language": "python", 
                    "metadata": {}, 
                    "outputs": [], 
                    "prompt_number": null
                }, 
                {
                    "cell_type": "markdown", 
                    "metadata": {}, 
                    "source": [
                        "\n\n\nThis is called operator overloading. We can define what add and multiply mean when applied to our class.\n\nNote that this only works so far if we multiply on the right-hand-side!\nHowever, we can define a multiplication that works backwards, which is used as a fallback if the left multiply raises an error:\n\n\n"
                    ]
                }, 
                {
                    "cell_type": "code", 
                    "collapsed": false, 
                    "input": [
                        "", 
                        "@extend(Expression)", 
                        "class Expression(object):", 
                        "    def __radd__(self, other):", 
                        "        return self.__add__(other)", 
                        ""
                    ], 
                    "language": "python", 
                    "metadata": {}, 
                    "outputs": [], 
                    "prompt_number": null
                }, 
                {
                    "cell_type": "markdown", 
                    "metadata": {}, 
                    "source": [
                        "\n\n\n"
                    ]
                }, 
                {
                    "cell_type": "code", 
                    "collapsed": false, 
                    "input": [
                        "", 
                        "@extend(Term)", 
                        "class Term(object):", 
                        "    def __rmul__(self, other):", 
                        "        return self.__mul__(other)", 
                        "    def __radd__(self, other):", 
                        "        return self.__add__(other)", 
                        ""
                    ], 
                    "language": "python", 
                    "metadata": {}, 
                    "outputs": [], 
                    "prompt_number": null
                }, 
                {
                    "cell_type": "markdown", 
                    "metadata": {}, 
                    "source": [
                        "\n\n\n\n\n"
                    ]
                }, 
                {
                    "cell_type": "code", 
                    "collapsed": false, 
                    "input": [
                        "", 
                        "print 5*Term('x')", 
                        ""
                    ], 
                    "language": "python", 
                    "metadata": {}, 
                    "outputs": [], 
                    "prompt_number": null
                }, 
                {
                    "cell_type": "markdown", 
                    "metadata": {}, 
                    "source": [
                        "\n\n\nIt's not easy at the moment to see if these things are working!\n\n\n"
                    ]
                }, 
                {
                    "cell_type": "code", 
                    "collapsed": false, 
                    "input": [
                        "", 
                        "fivex=5*Term('x')", 
                        "print fivex.data, fivex.coefficient", 
                        ""
                    ], 
                    "language": "python", 
                    "metadata": {}, 
                    "outputs": [], 
                    "prompt_number": null
                }, 
                {
                    "cell_type": "markdown", 
                    "metadata": {}, 
                    "source": [
                        "\n\n\nWe can add another operator method `__str__`, which defines what happens if we try to print our class:\n\n\n"
                    ]
                }, 
                {
                    "cell_type": "code", 
                    "collapsed": false, 
                    "input": [
                        "", 
                        "@extend(Term)", 
                        "class Term(object):", 
                        "    def __str__(self):", 
                        "        def symbol_string(symbol, power):", 
                        "            if power==1:", 
                        "                return symbol", 
                        "            else:", 
                        "                return symbol+'^'+str(power)", 
                        "        symbol_strings=[symbol_string(symbol, power)", 
                        "                for symbol, power in self.data.iteritems()]", 
                        "        prod='*'.join(symbol_strings)", 
                        "        if not prod:", 
                        "            return str(self.coefficient)", 
                        "        if self.coefficient==1:", 
                        "            return prod", 
                        "        else:", 
                        "            return str(self.coefficient)+'*'+prod", 
                        ""
                    ], 
                    "language": "python", 
                    "metadata": {}, 
                    "outputs": [], 
                    "prompt_number": null
                }, 
                {
                    "cell_type": "markdown", 
                    "metadata": {}, 
                    "source": [
                        "\n\n\n"
                    ]
                }, 
                {
                    "cell_type": "code", 
                    "collapsed": false, 
                    "input": [
                        "", 
                        "@extend(Expression)", 
                        "class Expression(object):", 
                        "    def __str__(self):", 
                        "        return '+'.join(map(str,self.terms))", 
                        ""
                    ], 
                    "language": "python", 
                    "metadata": {}, 
                    "outputs": [], 
                    "prompt_number": null
                }, 
                {
                    "cell_type": "markdown", 
                    "metadata": {}, 
                    "source": [
                        "\n\n\n"
                    ]
                }, 
                {
                    "cell_type": "code", 
                    "collapsed": false, 
                    "input": [
                        "", 
                        "first=Term(5)*'x'*'x'*'y'", 
                        "second=Term(7)*'x'", 
                        "third=Term(2)", 
                        "expr=first+second+third", 
                        "print expr", 
                        ""
                    ], 
                    "language": "python", 
                    "metadata": {}, 
                    "outputs": [], 
                    "prompt_number": null
                }, 
                {
                    "cell_type": "markdown", 
                    "metadata": {}, 
                    "source": [
                        "\n\n\nWe can add lots more operators to classes. `__eq__` to determine if objects are\nequal. `__getitem__` to apply [1] to your object. Probably the most exciting\none is `__call__`, which allows us to define other classes that *behave like\nfunctions*! We call these callables.\n\n\n"
                    ]
                }, 
                {
                    "cell_type": "code", 
                    "collapsed": false, 
                    "input": [
                        "", 
                        "class MyCallable(object):", 
                        "    def __call__(self, name):", 
                        "        print \"Hello, \", name", 
                        "", 
                        "x=MyCallable()", 
                        "", 
                        "x(\"James\")", 
                        ""
                    ], 
                    "language": "python", 
                    "metadata": {}, 
                    "outputs": [], 
                    "prompt_number": null
                }, 
                {
                    "cell_type": "markdown", 
                    "metadata": {}, 
                    "source": [
                        "\n\n\nWe've now come full circle in the blurring of the distinction between functions and objects! The full power of functional programming is really remarkable.\n\nIf you want to know more about the topics in this lecture, using a different\nlanguage syntax, I recommend you watch the [Abelson and Sussman](https://www.youtube.com/watch?v=2Op3QLzMgSY)\n\"Structure and Interpretation of Computer Programs\" lectures. These are the Computer Science\nequivalent of the Feynman Lectures!\n"
                    ]
                }, 
                {
                    "cell_type": "heading", 
                    "level": 2, 
                    "metadata": {}, 
                    "source": [
                        "Exercise"
                    ]
                }, 
                {
                    "cell_type": "heading", 
                    "level": 3, 
                    "metadata": {}, 
                    "source": [
                        "Exercise"
                    ]
                }, 
                {
                    "cell_type": "markdown", 
                    "metadata": {}, 
                    "source": [
                        "Numbers have units. $5\\mathrm{m}^2$ is not $5\\mathrm{J}$. $6\\mathrm{J}$ is the\nsame as $6\\mathrm{kg}\\mathrm{m}^2\\mathrm{s}^{2}$ which is the same as\n$2\\mathrm{N} \\cdot 3\\mathrm{m}$\n\nWrite a python library to implement handling quantities with units, and\nconverting between units, with a github repostiory and a setup.py file, and\nsome unit tests.\n\nYou should define operators for multiply, equality, and add for your class.\n\nYour unit tests should include things like:"
                    ]
                }, 
                {
                    "cell_type": "raw", 
                    "metadata": {}, 
                    "source": [
                        "assert(5*meters == 0.005*kilometers)\nassert((60*seconds).to(minutes).value==1)\nassert((60*seconds).to(minutes).unit==minutes)\nwith assert_raises(IncompatibleUnitsError):\n    5*meters+2*seconds"
                    ]
                }, 
                {
                    "cell_type": "markdown", 
                    "metadata": {}, 
                    "source": [
                        "You don't have to implement every unit! You might want to load your unit definitions from a yaml config file."
                    ]
                }
            ]
        }
    ]
}