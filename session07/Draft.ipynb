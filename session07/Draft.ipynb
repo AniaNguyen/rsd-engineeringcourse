{
 "metadata": {
  "name": "",
  "signature": "sha256:fe7d42fe869e40d01b947a84a9844ea19f170b5d4db5ec26ee291c09e1764cbf"
 },
 "nbformat": 3,
 "nbformat_minor": 0,
 "worksheets": [
  {
   "cells": [
    {
     "cell_type": "heading",
     "level": 1,
     "metadata": {},
     "source": [
      "Introduction"
     ]
    },
    {
     "cell_type": "markdown",
     "metadata": {},
     "source": [
      "Code can often be annoyingly full of \"boiler-plate\" code: characters you don't really want to have to type.\n",
      "\n",
      "Not only is this tedious, it's also time-consuming and dangerous: unnecessary code is an unnecessary potential place for mistakes.\n",
      "\n",
      "There are two important phrases in software design that we've spoken of before in this context:\n",
      "\n",
      "> Once And Only Once\n",
      "\n",
      "> Don't Repeat Yourself (DRY)\n",
      "\n",
      "All concepts, ideas, or instructions should be in the program in just one place.\n",
      "Every line in the program should say something useful and important.\n",
      "\n",
      "We refer to code that respects this principle as DRY code."
     ]
    },
    {
     "cell_type": "markdown",
     "metadata": {},
     "source": [
      "In this lecture, we'll look at some techniques that can enable us to refactor away repetitive code.\n",
      "\n",
      "Since in many of these places, the techniques will involve working with functions as if they were variables, we'll learn some **functional** programming. We'll also learn more about the innards of how Python implements classes.\n",
      "\n",
      "We'll also think about how to write programs that *generate* the more verbose, repetitive program we could otherwise write.\n",
      "We call this **metaprogramming**."
     ]
    },
    {
     "cell_type": "markdown",
     "metadata": {},
     "source": [
      "Before we start on the details, we'll introduce a few examples."
     ]
    },
    {
     "cell_type": "markdown",
     "metadata": {},
     "source": [
      "Consider a bunch of variables, each of which need initialising and incrementing:"
     ]
    },
    {
     "cell_type": "code",
     "collapsed": false,
     "input": [
      "bananas=0\n",
      "apples=0\n",
      "oranges=0\n",
      "bananas+=1\n",
      "apples+=1\n",
      "oranges+=1"
     ],
     "language": "python",
     "metadata": {},
     "outputs": [],
     "prompt_number": ""
    },
    {
     "cell_type": "markdown",
     "metadata": {},
     "source": [
      "The right hand side of these assignments doesn't respect the DRY principle. We could of course define a variable for our initial value:"
     ]
    },
    {
     "cell_type": "code",
     "collapsed": false,
     "input": [
      "initial_fruit_count=0\n",
      "bananas=initial_fruit_count\n",
      "apples=initial_fruit_count\n",
      "oranges=initial_fruit_count"
     ],
     "language": "python",
     "metadata": {},
     "outputs": [],
     "prompt_number": ""
    },
    {
     "cell_type": "markdown",
     "metadata": {},
     "source": [
      "However, this is still not as DRY as it could be: what if we wanted to replace the assignment with, say, a class constructor and a buy operation:"
     ]
    },
    {
     "cell_type": "code",
     "collapsed": false,
     "input": [
      "class Basket:\n",
      "    def __init__(self):\n",
      "        self.count=0\n",
      "    def buy(self):\n",
      "        self.count+=1"
     ],
     "language": "python",
     "metadata": {},
     "outputs": [],
     "prompt_number": ""
    },
    {
     "cell_type": "code",
     "collapsed": false,
     "input": [
      "bananas=Basket()\n",
      "apples=Basket()\n",
      "oranges=Basket()\n",
      "bananas.buy()\n",
      "apples.buy()\n",
      "oranges.buy()"
     ],
     "language": "python",
     "metadata": {},
     "outputs": [],
     "prompt_number": ""
    },
    {
     "cell_type": "markdown",
     "metadata": {},
     "source": [
      "We had to make the change in three places. Whenever you see a situation where a refactoring or change of design might require you to change the code in multiple places, you have an opportunity to make the code DRYer."
     ]
    },
    {
     "cell_type": "markdown",
     "metadata": {},
     "source": [
      "In this case, metaprogramming for incrementing these variables would involve just a loop over all the variables we want to initialise:"
     ]
    },
    {
     "cell_type": "code",
     "collapsed": false,
     "input": [
      "baskets=[bananas, apples, oranges]\n",
      "for basket in baskets: basket.buy()"
     ],
     "language": "python",
     "metadata": {},
     "outputs": [],
     "prompt_number": ""
    },
    {
     "cell_type": "markdown",
     "metadata": {},
     "source": [
      "However, this trick **doesn't** work for initialising a new variable:"
     ]
    },
    {
     "cell_type": "code",
     "collapsed": false,
     "input": [
      "baskets=[bananas, apples, oranges, kiwis]"
     ],
     "language": "python",
     "metadata": {},
     "outputs": [],
     "prompt_number": ""
    },
    {
     "cell_type": "markdown",
     "metadata": {},
     "source": [
      "So can we declare a new variable programmatically? Given a list of the **names** of fruit baskets we want, initialise a variable with that name?"
     ]
    },
    {
     "cell_type": "code",
     "collapsed": false,
     "input": [
      "basket_names=['bananas', 'apples', 'oranges', 'kiwis']"
     ],
     "language": "python",
     "metadata": {},
     "outputs": [],
     "prompt_number": ""
    },
    {
     "cell_type": "code",
     "collapsed": false,
     "input": [
      "globals()['apples']"
     ],
     "language": "python",
     "metadata": {},
     "outputs": [],
     "prompt_number": ""
    },
    {
     "cell_type": "markdown",
     "metadata": {},
     "source": [
      "Wow, we can! Every module or class in Python, is, under the hood, a special dictionary, storing the values in its **namespace**. So we can create new variables by assigning to this dictionary. globals() gives a reference to the attribute dictionary for the current module"
     ]
    },
    {
     "cell_type": "code",
     "collapsed": false,
     "input": [
      "for name in basket_names:\n",
      "    globals()[name]=Basket()"
     ],
     "language": "python",
     "metadata": {},
     "outputs": [],
     "prompt_number": ""
    },
    {
     "cell_type": "code",
     "collapsed": false,
     "input": [
      "print kiwis.count"
     ],
     "language": "python",
     "metadata": {},
     "outputs": [],
     "prompt_number": ""
    },
    {
     "cell_type": "markdown",
     "metadata": {},
     "source": [
      "This is **metaprogramming**."
     ]
    },
    {
     "cell_type": "markdown",
     "metadata": {},
     "source": [
      "I would NOT recommend using it for an example as trivial as the one above. \n",
      "A better, more Pythonic choice here would be to use a data structure to manage your set of fruit baskets:"
     ]
    },
    {
     "cell_type": "code",
     "collapsed": false,
     "input": [
      "baskets={}\n",
      "for name in basket_names:\n",
      "    baskets[name]=Basket()\n",
      "print baskets['kiwis'].count\n"
     ],
     "language": "python",
     "metadata": {},
     "outputs": [],
     "prompt_number": ""
    },
    {
     "cell_type": "markdown",
     "metadata": {},
     "source": [
      "Or even, using a dictionary comprehension:"
     ]
    },
    {
     "cell_type": "code",
     "collapsed": false,
     "input": [
      "baskets={name:Basket() for name in baskets}\n",
      "print baskets['kiwis'].count"
     ],
     "language": "python",
     "metadata": {},
     "outputs": [],
     "prompt_number": ""
    },
    {
     "cell_type": "markdown",
     "metadata": {},
     "source": [
      "Which is the nicest way to do this, I think. Code which feels like metaprogramming is needed to make it less repetitive can often instead be DRYed up using a refactored data structure, in a way which is cleaner and more easy to understand. Nevertheless, metaprogramming is worth knowing. "
     ]
    },
    {
     "cell_type": "heading",
     "level": 1,
     "metadata": {},
     "source": [
      "Functional Programming"
     ]
    },
    {
     "cell_type": "markdown",
     "metadata": {},
     "source": [
      "Understanding to think in a *functional programming* style is almost as important as object orientation for building DRY, clear scientific software, and is just as conceptually difficult."
     ]
    },
    {
     "cell_type": "markdown",
     "metadata": {},
     "source": [
      "Programs are composed of functions: they take data in (which we call *parameters* or *arguments*) and send data out (through `return` statements.)"
     ]
    },
    {
     "cell_type": "markdown",
     "metadata": {},
     "source": [
      "A conceptual trick which is often used by computer scientists to teach the core idea of functional programming is this: to write a program,\n",
      "    in theory, you only ever need functions with **one** argument, even when you think you need two or more. Why?"
     ]
    },
    {
     "cell_type": "markdown",
     "metadata": {},
     "source": [
      "Let's define a program to add two numbers:"
     ]
    },
    {
     "cell_type": "code",
     "collapsed": false,
     "input": [
      "def add(a,b):\n",
      "    return a+b"
     ],
     "language": "python",
     "metadata": {},
     "outputs": [],
     "prompt_number": ""
    },
    {
     "cell_type": "code",
     "collapsed": false,
     "input": [
      "add(5,6)"
     ],
     "language": "python",
     "metadata": {},
     "outputs": [],
     "prompt_number": ""
    },
    {
     "cell_type": "markdown",
     "metadata": {},
     "source": [
      "How can we do this, in a version which only defined functions of one argument? In order to understand this, we'll have to understand \n",
      "several of the concepts of functional programming. Let's start with a program which just adds five to something:"
     ]
    },
    {
     "cell_type": "code",
     "collapsed": false,
     "input": [
      "def add_five(a):\n",
      "    return a+5\n",
      "add_five(6)"
     ],
     "language": "python",
     "metadata": {},
     "outputs": [],
     "prompt_number": ""
    },
    {
     "cell_type": "markdown",
     "metadata": {},
     "source": [
      "OK, we could define lots of these, one for each number we want to add. But that would be infinitely repetitive. So, let's try to metaprogram that: we want a function which returns these add_N() functions."
     ]
    },
    {
     "cell_type": "markdown",
     "metadata": {},
     "source": [
      "Let's start with the easy case: a function which returns a function which adds 5 to something:"
     ]
    },
    {
     "cell_type": "code",
     "collapsed": false,
     "input": [
      "def generate_five_adder():\n",
      "    def _add_five(a):\n",
      "        return a+5\n",
      "    return _add_five"
     ],
     "language": "python",
     "metadata": {},
     "outputs": [],
     "prompt_number": ""
    },
    {
     "cell_type": "code",
     "collapsed": false,
     "input": [
      "coolfunction = generate_five_adder()"
     ],
     "language": "python",
     "metadata": {},
     "outputs": [],
     "prompt_number": ""
    },
    {
     "cell_type": "code",
     "collapsed": false,
     "input": [
      "coolfunction(7)"
     ],
     "language": "python",
     "metadata": {},
     "outputs": [],
     "prompt_number": ""
    },
    {
     "cell_type": "markdown",
     "metadata": {},
     "source": [
      "OK, so what happened there? Well, we defined a function **inside** the other function. We can always do that:"
     ]
    },
    {
     "cell_type": "code",
     "collapsed": false,
     "input": [
      "def thirty_function():\n",
      "    def times_three(a):\n",
      "        return a*3\n",
      "    def add_seven(a):\n",
      "        return a+7\n",
      "    return times_three(add_seven(3))"
     ],
     "language": "python",
     "metadata": {},
     "outputs": [],
     "prompt_number": ""
    },
    {
     "cell_type": "code",
     "collapsed": false,
     "input": [
      "thirty_function()"
     ],
     "language": "python",
     "metadata": {},
     "outputs": [],
     "prompt_number": ""
    },
    {
     "cell_type": "markdown",
     "metadata": {},
     "source": [
      "When we do this, the functions enclosed inside the outer function are **local** functions, and can't be seen outside:"
     ]
    },
    {
     "cell_type": "code",
     "collapsed": false,
     "input": [
      "add_seven"
     ],
     "language": "python",
     "metadata": {},
     "outputs": [],
     "prompt_number": ""
    },
    {
     "cell_type": "markdown",
     "metadata": {},
     "source": [
      "There's not really much of a difference between functions and other variables in python. A function is just a variable which can have () put after it to call the code!"
     ]
    },
    {
     "cell_type": "code",
     "collapsed": false,
     "input": [
      "print thirty_function"
     ],
     "language": "python",
     "metadata": {},
     "outputs": [],
     "prompt_number": ""
    },
    {
     "cell_type": "code",
     "collapsed": false,
     "input": [
      "x=[thirty_function, add_five, add]"
     ],
     "language": "python",
     "metadata": {},
     "outputs": [],
     "prompt_number": ""
    },
    {
     "cell_type": "code",
     "collapsed": false,
     "input": [
      "for fun in x:\n",
      "    print fun"
     ],
     "language": "python",
     "metadata": {},
     "outputs": [],
     "prompt_number": ""
    },
    {
     "cell_type": "markdown",
     "metadata": {},
     "source": [
      "And we know that one of the things we can do with a variable is `return` it. So we can return a function, and then call it outside:"
     ]
    },
    {
     "cell_type": "code",
     "collapsed": false,
     "input": [
      "def deferred_greeting():\n",
      "    def greet():\n",
      "        print \"Hello\"\n",
      "    return greet\n",
      "friendlyfunction=deferred_greeting()"
     ],
     "language": "python",
     "metadata": {},
     "outputs": [],
     "prompt_number": ""
    },
    {
     "cell_type": "code",
     "collapsed": false,
     "input": [
      "# Do something else\n",
      "print \"Just passing the time...\""
     ],
     "language": "python",
     "metadata": {},
     "outputs": [],
     "prompt_number": ""
    },
    {
     "cell_type": "code",
     "collapsed": false,
     "input": [
      "# OK, Go!\n",
      "friendlyfunction()"
     ],
     "language": "python",
     "metadata": {},
     "outputs": [],
     "prompt_number": ""
    },
    {
     "cell_type": "markdown",
     "metadata": {},
     "source": [
      "So now, to finish this, we just need to return a function to add an arbitrary amount:"
     ]
    },
    {
     "cell_type": "code",
     "collapsed": false,
     "input": [
      "def define_adder(increment):\n",
      "    def adder(a):\n",
      "        return a+increment\n",
      "    return adder"
     ],
     "language": "python",
     "metadata": {},
     "outputs": [],
     "prompt_number": ""
    },
    {
     "cell_type": "code",
     "collapsed": false,
     "input": [
      "add_3=define_adder(3)"
     ],
     "language": "python",
     "metadata": {},
     "outputs": [],
     "prompt_number": ""
    },
    {
     "cell_type": "code",
     "collapsed": false,
     "input": [
      "add_3(9)"
     ],
     "language": "python",
     "metadata": {},
     "outputs": [],
     "prompt_number": ""
    },
    {
     "cell_type": "markdown",
     "metadata": {},
     "source": [
      "We can make this even prettier: let's make another variable pointing to our define_adder() function:"
     ]
    },
    {
     "cell_type": "code",
     "collapsed": false,
     "input": [
      "add = define_adder"
     ],
     "language": "python",
     "metadata": {},
     "outputs": [],
     "prompt_number": ""
    },
    {
     "cell_type": "markdown",
     "metadata": {},
     "source": [
      "And now we can do the real magic:"
     ]
    },
    {
     "cell_type": "code",
     "collapsed": false,
     "input": [
      "add(8)(5)"
     ],
     "language": "python",
     "metadata": {},
     "outputs": [],
     "prompt_number": ""
    },
    {
     "cell_type": "markdown",
     "metadata": {},
     "source": [
      "You may have noticed something a bit weird:"
     ]
    },
    {
     "cell_type": "markdown",
     "metadata": {},
     "source": [
      "In the definition of `define_adder`, `increment` is a local variable. It should have gone out of scope and died at the end of the definition. How can the amount the returned adder function is adding still be kept?"
     ]
    },
    {
     "cell_type": "markdown",
     "metadata": {},
     "source": [
      "This is called a **closure**. In Python, whenever a function definition references a variable in the surrounding scope, it is preserved within the function definition."
     ]
    },
    {
     "cell_type": "markdown",
     "metadata": {},
     "source": [
      "You can close over global module variables as well:"
     ]
    },
    {
     "cell_type": "code",
     "collapsed": false,
     "input": [
      "name = \"James\"\n",
      "def greet():\n",
      "    print \"Hello, \", name"
     ],
     "language": "python",
     "metadata": {},
     "outputs": [],
     "prompt_number": ""
    },
    {
     "cell_type": "code",
     "collapsed": false,
     "input": [
      "greet()"
     ],
     "language": "python",
     "metadata": {},
     "outputs": [],
     "prompt_number": ""
    },
    {
     "cell_type": "markdown",
     "metadata": {},
     "source": [
      "And note that the closure stores a reference to the variable in the surrounding scope: (\"Late Binding\")"
     ]
    },
    {
     "cell_type": "code",
     "collapsed": false,
     "input": [
      "name=\"Matt\""
     ],
     "language": "python",
     "metadata": {},
     "outputs": [],
     "prompt_number": ""
    },
    {
     "cell_type": "code",
     "collapsed": false,
     "input": [
      "greet()"
     ],
     "language": "python",
     "metadata": {},
     "outputs": [],
     "prompt_number": ""
    },
    {
     "cell_type": "markdown",
     "metadata": {},
     "source": [
      "We often want to apply a function to each variable in an array, to return a new array. We can do this with a list comprehension:"
     ]
    },
    {
     "cell_type": "code",
     "collapsed": false,
     "input": [
      "numbers=range(10)"
     ],
     "language": "python",
     "metadata": {},
     "outputs": [],
     "prompt_number": ""
    },
    {
     "cell_type": "code",
     "collapsed": false,
     "input": [
      "[add_five(i) for i in numbers]"
     ],
     "language": "python",
     "metadata": {},
     "outputs": [],
     "prompt_number": ""
    },
    {
     "cell_type": "markdown",
     "metadata": {},
     "source": [
      "But this is sufficiently common that there's a quick built-in:"
     ]
    },
    {
     "cell_type": "code",
     "collapsed": false,
     "input": [
      "map(add_five, numbers)"
     ],
     "language": "python",
     "metadata": {},
     "outputs": [],
     "prompt_number": ""
    },
    {
     "cell_type": "markdown",
     "metadata": {},
     "source": [
      "This **map** operation is really important conceptually when understanding efficient parallel programming: different computers can apply the *mapped* function to their input at the same time. We call this Single Program, Multiple Data. (SPMD) **map** is half of the **map-reduce** functional programming paradigm which is key to the efficient operation of much of today's \"data science\" explosion. "
     ]
    },
    {
     "cell_type": "markdown",
     "metadata": {},
     "source": [
      "Let's continue our functional programming mind-stretch by looking at **reduce** operations."
     ]
    },
    {
     "cell_type": "markdown",
     "metadata": {},
     "source": [
      "We very often want to loop with some kind of accumulator, such as when finding a mean, or finding a maximum:"
     ]
    },
    {
     "cell_type": "code",
     "collapsed": false,
     "input": [
      "def mean(data):\n",
      "    sum=0.0\n",
      "    for x in data:\n",
      "        sum+=x\n",
      "    return sum/len(data)"
     ],
     "language": "python",
     "metadata": {},
     "outputs": [],
     "prompt_number": ""
    },
    {
     "cell_type": "code",
     "collapsed": false,
     "input": [
      "mean(range(10))"
     ],
     "language": "python",
     "metadata": {},
     "outputs": [],
     "prompt_number": ""
    },
    {
     "cell_type": "code",
     "collapsed": false,
     "input": [
      "import sys\n",
      "def my_max(data):\n",
      "    # Start with the smallest possible number\n",
      "    highest=sys.float_info.min\n",
      "    for x in data:\n",
      "        if x>highest:\n",
      "            highest=x\n",
      "    return highest\n",
      "        "
     ],
     "language": "python",
     "metadata": {},
     "outputs": [],
     "prompt_number": ""
    },
    {
     "cell_type": "code",
     "collapsed": false,
     "input": [
      "my_max([2,5,10,-11,-5])"
     ],
     "language": "python",
     "metadata": {},
     "outputs": [],
     "prompt_number": ""
    },
    {
     "cell_type": "markdown",
     "metadata": {},
     "source": [
      "These operations, where we have some variable which is building up a result, and the result is updated with some operation, can be gathered together as a functional program, taking in the operation to be used to combine results as an argument:"
     ]
    },
    {
     "cell_type": "code",
     "collapsed": false,
     "input": [
      "def accumulate(initial, operation, data):\n",
      "    accumulator=initial\n",
      "    for x in data:\n",
      "        accumulator=operation(accumulator, x)\n",
      "    return accumulator"
     ],
     "language": "python",
     "metadata": {},
     "outputs": [],
     "prompt_number": ""
    },
    {
     "cell_type": "code",
     "collapsed": false,
     "input": [
      "def my_sum(data):\n",
      "    def _add(a,b):\n",
      "        return a+b\n",
      "    return accumulate(0, _add, data)"
     ],
     "language": "python",
     "metadata": {},
     "outputs": [],
     "prompt_number": ""
    },
    {
     "cell_type": "code",
     "collapsed": false,
     "input": [
      "my_sum(range(5))"
     ],
     "language": "python",
     "metadata": {},
     "outputs": [],
     "prompt_number": ""
    },
    {
     "cell_type": "code",
     "collapsed": false,
     "input": [
      "def bigger(a,b):\n",
      "    if b>a:\n",
      "        return b\n",
      "    return a\n",
      "    \n",
      "def my_max(data):\n",
      "    return accumulate(sys.float_info.min, _bigger, data)"
     ],
     "language": "python",
     "metadata": {},
     "outputs": [],
     "prompt_number": ""
    },
    {
     "cell_type": "code",
     "collapsed": false,
     "input": [
      "my_max([2,5,10,-11,-5])"
     ],
     "language": "python",
     "metadata": {},
     "outputs": [],
     "prompt_number": ""
    },
    {
     "cell_type": "markdown",
     "metadata": {},
     "source": [
      "Now, because these operations, _bigger, and _add, are such that e.g. (a+b)+c = a+(b+c) , i.e. they are **associative**, we could apply our accumulation\n",
      "to the left half and the right half of the array, each on a different computer, and then combine the two halves:"
     ]
    },
    {
     "cell_type": "markdown",
     "metadata": {},
     "source": [
      "1+2+3+4=(1+2)+(3+4)"
     ]
    },
    {
     "cell_type": "markdown",
     "metadata": {},
     "source": [
      "Indeed, with a bigger array, we can divide-and-conquer more times:"
     ]
    },
    {
     "cell_type": "markdown",
     "metadata": {},
     "source": [
      "1+2+3+4+5+6+7+8=((1+2)+(3+4))+((5+6)+(7+8))"
     ]
    },
    {
     "cell_type": "markdown",
     "metadata": {},
     "source": [
      "So with enough parallel computers, we could do this operation on eight numbers in three steps: first, we use four computers to do one  each of the pairwise adds."
     ]
    },
    {
     "cell_type": "markdown",
     "metadata": {},
     "source": [
      "Then, we use two computers to add the four totals."
     ]
    },
    {
     "cell_type": "markdown",
     "metadata": {},
     "source": [
      "Then, we use one of the computers to do the final add of the two last numbers."
     ]
    },
    {
     "cell_type": "markdown",
     "metadata": {},
     "source": [
      "You might be able to do the maths to see that with an N element list, the number of such steps is proportional to the logarithm of N."
     ]
    },
    {
     "cell_type": "markdown",
     "metadata": {},
     "source": [
      "We say that with enough computers, reduction operations are O(ln N)"
     ]
    },
    {
     "cell_type": "markdown",
     "metadata": {},
     "source": [
      "This course isn't an introduction to algorithms, but we'll talk more about this O() notation when we think about programming for performance."
     ]
    },
    {
     "cell_type": "markdown",
     "metadata": {},
     "source": [
      "Anyway, this accumulate-under-an-operation process, is so fundamental to computing that it's usually in standard libraries for languages which allow functional programming:"
     ]
    },
    {
     "cell_type": "code",
     "collapsed": false,
     "input": [
      "from functools import reduce"
     ],
     "language": "python",
     "metadata": {},
     "outputs": [],
     "prompt_number": ""
    },
    {
     "cell_type": "code",
     "collapsed": false,
     "input": [
      "def my_max(data):\n",
      "    return reduce(bigger,data,sys.float_info.min)"
     ],
     "language": "python",
     "metadata": {},
     "outputs": [],
     "prompt_number": ""
    },
    {
     "cell_type": "code",
     "collapsed": false,
     "input": [
      "my_max([2,5,10,-11,-5])"
     ],
     "language": "python",
     "metadata": {},
     "outputs": [],
     "prompt_number": ""
    },
    {
     "cell_type": "markdown",
     "metadata": {},
     "source": [
      "When doing functional programming, we often want to be able to define a function on the fly:"
     ]
    },
    {
     "cell_type": "code",
     "collapsed": false,
     "input": [
      "def most_Cs_in_any_sequence(sequences):\n",
      "    def count_Cs(sequence):\n",
      "        return sequence.count('C')\n",
      "    counts=map(count_Cs, sequences)\n",
      "    return max(counts)"
     ],
     "language": "python",
     "metadata": {},
     "outputs": [],
     "prompt_number": ""
    },
    {
     "cell_type": "code",
     "collapsed": false,
     "input": [
      "def most_Gs_in_any_sequence(sequences):\n",
      "    return max(map(lambda sequence: sequence.count('G'),sequences))"
     ],
     "language": "python",
     "metadata": {},
     "outputs": [],
     "prompt_number": ""
    },
    {
     "cell_type": "code",
     "collapsed": false,
     "input": [
      "data=[\n",
      "    \"CGTA\",\n",
      "    \"CGGGTAAACG\",\n",
      "    \"GATTACA\"\n",
      "]\n",
      "most_Gs_in_any_sequence(data)"
     ],
     "language": "python",
     "metadata": {},
     "outputs": [],
     "prompt_number": ""
    },
    {
     "cell_type": "markdown",
     "metadata": {},
     "source": [
      "The syntax here is that:"
     ]
    },
    {
     "cell_type": "code",
     "collapsed": false,
     "input": [
      "func_name=lambda a,b,c : a+b+c"
     ],
     "language": "python",
     "metadata": {},
     "outputs": [],
     "prompt_number": ""
    },
    {
     "cell_type": "markdown",
     "metadata": {},
     "source": [
      "is identical in every way to:"
     ]
    },
    {
     "cell_type": "code",
     "collapsed": false,
     "input": [
      "def func_name(a,b,c):\n",
      "    a+b+c"
     ],
     "language": "python",
     "metadata": {},
     "outputs": [],
     "prompt_number": ""
    },
    {
     "cell_type": "markdown",
     "metadata": {},
     "source": [
      "lambda defines an \"anonymous\" function."
     ]
    },
    {
     "cell_type": "code",
     "collapsed": false,
     "input": [
      "def most_of_given_base_in_any_sequence(sequences, base):\n",
      "    return max(map(lambda sequence: sequence.count(base), sequences))"
     ],
     "language": "python",
     "metadata": {},
     "outputs": [],
     "prompt_number": ""
    },
    {
     "cell_type": "code",
     "collapsed": false,
     "input": [
      "most_of_given_base_in_any_sequence(data,'A')"
     ],
     "language": "python",
     "metadata": {},
     "outputs": [],
     "prompt_number": ""
    },
    {
     "cell_type": "markdown",
     "metadata": {},
     "source": [
      "The above fragment defined a lambda function as a **closure** over `base`. If you understood that, you've got it! "
     ]
    },
    {
     "cell_type": "code",
     "collapsed": false,
     "input": [
      "def my_max(data): return reduce(lambda a,b: a if a>b else b, data, sys.float_info.min)"
     ],
     "language": "python",
     "metadata": {},
     "outputs": [],
     "prompt_number": ""
    },
    {
     "cell_type": "code",
     "collapsed": false,
     "input": [
      "my_max([2,5,10,-11,-5])"
     ],
     "language": "python",
     "metadata": {},
     "outputs": [],
     "prompt_number": ""
    },
    {
     "cell_type": "heading",
     "level": 1,
     "metadata": {},
     "source": [
      "Using functional programming"
     ]
    },
    {
     "cell_type": "markdown",
     "metadata": {},
     "source": [
      "Probably the most common use in research computing for functional programming is the application of a numerical method to a function. For example:"
     ]
    },
    {
     "cell_type": "code",
     "collapsed": false,
     "input": [
      "from scipy.optimize import newton\n",
      "from numpy import linspace, zeros\n",
      "%matplotlib inline\n",
      "from matplotlib import pyplot as plt\n",
      "solve_me=lambda x: x**2-x"
     ],
     "language": "python",
     "metadata": {},
     "outputs": [],
     "prompt_number": ""
    },
    {
     "cell_type": "code",
     "collapsed": false,
     "input": [
      "newton(solve_me, 2), newton(solve_me,0.2)"
     ],
     "language": "python",
     "metadata": {},
     "outputs": [],
     "prompt_number": ""
    },
    {
     "cell_type": "code",
     "collapsed": true,
     "input": [
      "xs=linspace(-1,2,50)\n",
      "plt.plot(xs,map(solve_me,xs),xs,zeros(50))"
     ],
     "language": "python",
     "metadata": {},
     "outputs": [],
     "prompt_number": ""
    },
    {
     "cell_type": "markdown",
     "metadata": {},
     "source": [
      "Sometimes such tools return another function:"
     ]
    },
    {
     "cell_type": "code",
     "collapsed": false,
     "input": [
      "def derivative(func, eps):\n",
      "    def _func_derived(x):\n",
      "        return (func(x+eps)-func(x))/eps\n",
      "    return _func_derived"
     ],
     "language": "python",
     "metadata": {},
     "outputs": [],
     "prompt_number": ""
    },
    {
     "cell_type": "code",
     "collapsed": false,
     "input": [
      "plt.plot(xs,map(solve_me,xs),xs,map(derivative(solve_me,0.01),xs))"
     ],
     "language": "python",
     "metadata": {},
     "outputs": [],
     "prompt_number": ""
    },
    {
     "cell_type": "code",
     "collapsed": false,
     "input": [
      "newton(derivative(solve_me,0.01),0)"
     ],
     "language": "python",
     "metadata": {},
     "outputs": [],
     "prompt_number": ""
    },
    {
     "cell_type": "markdown",
     "metadata": {},
     "source": [
      "Of course, coding your own numerical methods is bad:"
     ]
    },
    {
     "cell_type": "code",
     "collapsed": false,
     "input": [
      "import scipy.misc\n",
      "\n",
      "def derivative(func):\n",
      "    def _func_derived(x):\n",
      "        return scipy.misc.derivative(solve_me,x)\n",
      "    return _func_derived\n",
      "\n",
      "newton(derivative(solve_me),0)"
     ],
     "language": "python",
     "metadata": {},
     "outputs": [],
     "prompt_number": ""
    },
    {
     "cell_type": "markdown",
     "metadata": {},
     "source": [
      "If you've done a moderate amount of calculus, then you'll find similarities between functional programming in computer science and Functionals in the calculus of variations."
     ]
    },
    {
     "cell_type": "heading",
     "level": 1,
     "metadata": {},
     "source": [
      "Iterators"
     ]
    },
    {
     "cell_type": "markdown",
     "metadata": {},
     "source": [
      "We've seen that in Python, anything which can be iterated over is called an iterable:"
     ]
    },
    {
     "cell_type": "code",
     "collapsed": false,
     "input": [
      "for key in baskets:\n",
      "    print key.upper()"
     ],
     "language": "python",
     "metadata": {},
     "outputs": [],
     "prompt_number": ""
    },
    {
     "cell_type": "markdown",
     "metadata": {},
     "source": [
      "Surprisingly often, we want to iterate over something that takes a moderately large amount of storage to store. For example, our map images in the green-graph example."
     ]
    },
    {
     "cell_type": "markdown",
     "metadata": {},
     "source": [
      "Our solution last time involved making an array of all the maps between London and Birmingham. This kept them all in memory *at the same time*: first we downloaded all the maps, then we counted the green pixels in each of them. This would NOT work if we used more points. We could do this with a for loop and an append(), but that's not as elegant as using a **generator**"
     ]
    },
    {
     "cell_type": "markdown",
     "metadata": {},
     "source": [
      "Consider the basic python `range` function:"
     ]
    },
    {
     "cell_type": "code",
     "collapsed": false,
     "input": [
      "range(10)"
     ],
     "language": "python",
     "metadata": {},
     "outputs": [],
     "prompt_number": ""
    },
    {
     "cell_type": "code",
     "collapsed": false,
     "input": [
      "total=0\n",
      "for x in range(int(1e6)): total+= x\n",
      "print total"
     ],
     "language": "python",
     "metadata": {},
     "outputs": [],
     "prompt_number": ""
    },
    {
     "cell_type": "markdown",
     "metadata": {},
     "source": [
      "While this was executing, the range() statement allocated a million integers. This is very inefficient. We don't actually need a million integers, just each integer in turn up to a million."
     ]
    },
    {
     "cell_type": "code",
     "collapsed": false,
     "input": [
      "xrange(3)"
     ],
     "language": "python",
     "metadata": {},
     "outputs": [],
     "prompt_number": ""
    },
    {
     "cell_type": "code",
     "collapsed": false,
     "input": [
      "a=iter(xrange(3))"
     ],
     "language": "python",
     "metadata": {},
     "outputs": [],
     "prompt_number": ""
    },
    {
     "cell_type": "code",
     "collapsed": false,
     "input": [
      "a"
     ],
     "language": "python",
     "metadata": {},
     "outputs": [],
     "prompt_number": ""
    },
    {
     "cell_type": "code",
     "collapsed": false,
     "input": [
      "a.next()"
     ],
     "language": "python",
     "metadata": {},
     "outputs": [],
     "prompt_number": ""
    },
    {
     "cell_type": "code",
     "collapsed": false,
     "input": [
      "a.next()"
     ],
     "language": "python",
     "metadata": {},
     "outputs": [],
     "prompt_number": ""
    },
    {
     "cell_type": "code",
     "collapsed": false,
     "input": [
      "a.next()"
     ],
     "language": "python",
     "metadata": {},
     "outputs": [],
     "prompt_number": ""
    },
    {
     "cell_type": "code",
     "collapsed": false,
     "input": [
      "a.next()"
     ],
     "language": "python",
     "metadata": {},
     "outputs": [],
     "prompt_number": ""
    },
    {
     "cell_type": "code",
     "collapsed": false,
     "input": [
      "total=0\n",
      "for x in xrange(int(1e6)): total+= x\n",
      "print total"
     ],
     "language": "python",
     "metadata": {},
     "outputs": []
    },
    {
     "cell_type": "markdown",
     "metadata": {},
     "source": [
      "Similarly:"
     ]
    },
    {
     "cell_type": "code",
     "collapsed": false,
     "input": [
      "baskets.items()"
     ],
     "language": "python",
     "metadata": {},
     "outputs": []
    },
    {
     "cell_type": "code",
     "collapsed": false,
     "input": [
      "baskets.iteritems()"
     ],
     "language": "python",
     "metadata": {},
     "outputs": []
    },
    {
     "cell_type": "markdown",
     "metadata": {},
     "source": [
      "We can make our own iterators by defining classes that implement next() and __iter__() methods: this is the iterator protocol."
     ]
    },
    {
     "cell_type": "markdown",
     "metadata": {},
     "source": [
      "For each of the concepts we've talked about, python defines a protocol, a set of methods a class must implement, in order to be treated as a member of that concept."
     ]
    },
    {
     "cell_type": "markdown",
     "metadata": {},
     "source": [
      "For the iterator protocol, the protocol that defines things that support `for x in y:`, the methods that must be supported are `next()` and `__iter__()`."
     ]
    },
    {
     "cell_type": "code",
     "collapsed": false,
     "input": [
      "class fib_iterator(object):\n",
      "    def __init__(self, limit, seed1=1, seed2=1):\n",
      "        self.limit=limit\n",
      "        self.previous=seed1\n",
      "        self.current=seed2\n",
      "    def __iter__(self):\n",
      "        return self\n",
      "    def next(self):\n",
      "        self.previous, self.current=self.current, self.previous+self.current\n",
      "        self.limit -=1\n",
      "        if self.limit<0: raise StopIteration() # This will be explained in a few slides!\n",
      "        return self.current"
     ],
     "language": "python",
     "metadata": {},
     "outputs": []
    },
    {
     "cell_type": "code",
     "collapsed": false,
     "input": [
      "x=fib_iterator(5)"
     ],
     "language": "python",
     "metadata": {},
     "outputs": []
    },
    {
     "cell_type": "code",
     "collapsed": false,
     "input": [
      "x.next()"
     ],
     "language": "python",
     "metadata": {},
     "outputs": []
    },
    {
     "cell_type": "code",
     "collapsed": false,
     "input": [
      "x.next()"
     ],
     "language": "python",
     "metadata": {},
     "outputs": []
    },
    {
     "cell_type": "code",
     "collapsed": false,
     "input": [
      "x.next()"
     ],
     "language": "python",
     "metadata": {},
     "outputs": []
    },
    {
     "cell_type": "code",
     "collapsed": false,
     "input": [
      "x.next()"
     ],
     "language": "python",
     "metadata": {},
     "outputs": []
    },
    {
     "cell_type": "code",
     "collapsed": false,
     "input": [
      "x.next()"
     ],
     "language": "python",
     "metadata": {},
     "outputs": []
    },
    {
     "cell_type": "code",
     "collapsed": false,
     "input": [
      "x.next()"
     ],
     "language": "python",
     "metadata": {},
     "outputs": []
    },
    {
     "cell_type": "code",
     "collapsed": false,
     "input": [
      "for x in fib_iterator(5):\n",
      "    print x"
     ],
     "language": "python",
     "metadata": {},
     "outputs": []
    },
    {
     "cell_type": "code",
     "collapsed": false,
     "input": [
      "sum(fib_iterator(5))"
     ],
     "language": "python",
     "metadata": {},
     "outputs": []
    },
    {
     "cell_type": "markdown",
     "metadata": {},
     "source": [
      "In fact, if, to be iterated over, a class just wants to behave as if it were some other iterable, you can just implement `__iter__` and return `iter(some_other_iterable)`, without implementing `next`.  For example, an image class might want to implement some metadata, but behave just as if it were just a 1-d pixel array when being iterated:"
     ]
    },
    {
     "cell_type": "code",
     "collapsed": false,
     "input": [
      "from numpy import array\n",
      "class MyImage(object):\n",
      "    def __init__(self, pixels):\n",
      "        self.pixels=array(pixels,dtype='uint8')\n",
      "        self.channels=self.pixels.shape[2]\n",
      "    def __iter__(self):\n",
      "        # return an iterator over the pixels\n",
      "        # See future NumPy lecture for using reshape\n",
      "        return iter(self.pixels.reshape(-1,self.channels))\n",
      "    def show(self):\n",
      "        plt.imshow(self.pixels, interpolation=\"None\")"
     ],
     "language": "python",
     "metadata": {},
     "outputs": []
    },
    {
     "cell_type": "code",
     "collapsed": false,
     "input": [
      "x=[[[255,255,0],[0,255,0]],[[0,0,255],[255,255,255]]]\n",
      "image=MyImage(x)"
     ],
     "language": "python",
     "metadata": {},
     "outputs": []
    },
    {
     "cell_type": "code",
     "collapsed": false,
     "input": [
      "image.show()"
     ],
     "language": "python",
     "metadata": {},
     "outputs": []
    },
    {
     "cell_type": "code",
     "collapsed": false,
     "input": [
      "image.channels"
     ],
     "language": "python",
     "metadata": {},
     "outputs": []
    },
    {
     "cell_type": "code",
     "collapsed": false,
     "input": [
      "from webcolors import rgb_to_name\n",
      "for pixel in image:\n",
      "    print rgb_to_name(pixel)"
     ],
     "language": "python",
     "metadata": {},
     "outputs": []
    },
    {
     "cell_type": "markdown",
     "metadata": {},
     "source": [
      "Technically, the **iterator** protocol is to implement both `__iter__` and `next`, while the **iterable** protocol is to implement `__iter__` and return an **iterator**."
     ]
    },
    {
     "cell_type": "heading",
     "level": 1,
     "metadata": {},
     "source": [
      "Generators"
     ]
    },
    {
     "cell_type": "markdown",
     "metadata": {},
     "source": [
      "There's a fair amount of \"boiler-plate\" in the above class-based definition of an iterable. Python provides another way to specify something\n",
      "which meets the iterator protocol: generators."
     ]
    },
    {
     "cell_type": "code",
     "collapsed": false,
     "input": [
      "def my_generator():\n",
      "    yield 5\n",
      "    yield 10\n",
      "x=my_generator()\n",
      "print x.next()\n",
      "print x.next()\n",
      "print x.next()"
     ],
     "language": "python",
     "metadata": {},
     "outputs": []
    },
    {
     "cell_type": "markdown",
     "metadata": {},
     "source": [
      "A function which has `yield` statements instead of a `return` statement returns **temporarily**. Each call of next() returns control to the function. Where it left off. Control passes back-and-forth between the generator and the caller. Our fibonnaci example therefore becomes:"
     ]
    },
    {
     "cell_type": "code",
     "collapsed": false,
     "input": [
      "def yield_fibs(limit, seed1=1,seed2=1):\n",
      "    current=seed1\n",
      "    previous=seed2\n",
      "    while limit>0:\n",
      "        limit-=1\n",
      "        current, previous = current+previous, current\n",
      "        yield current\n",
      "sum(yield_fibs(5))"
     ],
     "language": "python",
     "metadata": {},
     "outputs": []
    },
    {
     "cell_type": "code",
     "collapsed": false,
     "input": [
      "plt.plot(list(yield_fibs(20)))"
     ],
     "language": "python",
     "metadata": {},
     "outputs": []
    },
    {
     "cell_type": "heading",
     "level": 1,
     "metadata": {},
     "source": [
      "Exceptions"
     ]
    },
    {
     "cell_type": "markdown",
     "metadata": {},
     "source": [
      "When we learned about testing, we saw that Python complains when things go wrong by raising an \"Exception\" naming a type of error:"
     ]
    },
    {
     "cell_type": "code",
     "collapsed": false,
     "input": [
      "1/0"
     ],
     "language": "python",
     "metadata": {},
     "outputs": []
    },
    {
     "cell_type": "markdown",
     "metadata": {},
     "source": [
      "Exceptions are objects, forming a class hierarchy. We just raised an instance of the ZeroDivisionError class, making the program crash."
     ]
    },
    {
     "cell_type": "code",
     "collapsed": false,
     "input": [
      "import inspect\n",
      "inspect.getmro(ZeroDivisionError)"
     ],
     "language": "python",
     "metadata": {},
     "outputs": []
    },
    {
     "cell_type": "markdown",
     "metadata": {},
     "source": [
      "So we can see that a zero division error is a particular kind of Arithmetic Error."
     ]
    },
    {
     "cell_type": "code",
     "collapsed": false,
     "input": [
      "x=1\n",
      "for y in x: print y"
     ],
     "language": "python",
     "metadata": {},
     "outputs": []
    },
    {
     "cell_type": "code",
     "collapsed": false,
     "input": [
      "inspect.getmro(TypeError)"
     ],
     "language": "python",
     "metadata": {},
     "outputs": []
    },
    {
     "cell_type": "markdown",
     "metadata": {},
     "source": [
      "When we were looking at testing, we saw that it is important for code to crash with a meaningful exception type when something is wrong.\n",
      "We raise an Exception with `raise`. Often, we can look for an appropriate exception from the standard set to raise. "
     ]
    },
    {
     "cell_type": "markdown",
     "metadata": {},
     "source": [
      "However, we may want to define our own exceptions. Doing this is as simple as inheriting from Exception:"
     ]
    },
    {
     "cell_type": "code",
     "collapsed": false,
     "input": [
      "class MyCustomErrorType(Exception):\n",
      "    pass"
     ],
     "language": "python",
     "metadata": {},
     "outputs": []
    },
    {
     "cell_type": "code",
     "collapsed": false,
     "input": [
      "raise(MyCustomErrorType(\"Problem\"))"
     ],
     "language": "python",
     "metadata": {},
     "outputs": []
    },
    {
     "cell_type": "markdown",
     "metadata": {},
     "source": [
      "You can add custom data to your exception:"
     ]
    },
    {
     "cell_type": "code",
     "collapsed": false,
     "input": [
      "class MyCustomErrorType(Exception):\n",
      "    def __init__(self, category=None):\n",
      "        self.category=category\n",
      "    def __str__(self):\n",
      "        return \"Error, cateory \" + str(self. category)"
     ],
     "language": "python",
     "metadata": {},
     "outputs": []
    },
    {
     "cell_type": "code",
     "collapsed": false,
     "input": [
      "raise(MyCustomErrorType(404))"
     ],
     "language": "python",
     "metadata": {},
     "outputs": []
    },
    {
     "cell_type": "markdown",
     "metadata": {},
     "source": [
      "The real power of exceptions comes, however, not in letting them crash the program, but in letting your program handle them. We say that an exception has been \"thrown\" and then \"caught\"."
     ]
    },
    {
     "cell_type": "code",
     "collapsed": false,
     "input": [
      "import yaml\n",
      "try:\n",
      "    config=yaml.load(open(\"datasource.yaml\"))\n",
      "    user=config[\"userid\"]\n",
      "    password=config[\"password\"]\n",
      "except IOError:\n",
      "    user=\"anonymous\"\n",
      "    password=None\n",
      "print user"
     ],
     "language": "python",
     "metadata": {},
     "outputs": []
    },
    {
     "cell_type": "markdown",
     "metadata": {},
     "source": [
      "Note that we specify only the error we expect to happen and want to handle. Sometimes you see code that catches everything:"
     ]
    },
    {
     "cell_type": "code",
     "collapsed": false,
     "input": [
      "try:\n",
      "    config=yaml.lod(open(\"datasource.yaml\"))\n",
      "    user=config[\"userid\"]\n",
      "    password=config[\"password\"]\n",
      "except:\n",
      "    user=\"anonymous\"\n",
      "    password=None\n",
      "print user"
     ],
     "language": "python",
     "metadata": {},
     "outputs": []
    },
    {
     "cell_type": "markdown",
     "metadata": {},
     "source": [
      "There was a mistyped function name there, but we did not notice the error, as the generic except caught it. \n",
      "Therefore, we should catch only the error we want."
     ]
    },
    {
     "cell_type": "code",
     "collapsed": false,
     "input": [
      "%%writefile datasource2.yaml\n",
      "userid: jamespjh\n",
      "password: secret"
     ],
     "language": "python",
     "metadata": {},
     "outputs": []
    },
    {
     "cell_type": "code",
     "collapsed": false,
     "input": [
      "%%writefile datasource3.yaml\n",
      "user: jamespjh\n",
      "password: secret"
     ],
     "language": "python",
     "metadata": {},
     "outputs": []
    },
    {
     "cell_type": "code",
     "collapsed": false,
     "input": [
      "def read_credentials(source):\n",
      "    try:\n",
      "       datasource=open(source)\n",
      "       config=yaml.load(datasource)\n",
      "       user=config[\"userid\"]\n",
      "       password=config[\"password\"]\n",
      "       datasource.close()\n",
      "    except IOError:\n",
      "       user=\"anonymous\"\n",
      "       password=None\n",
      "    return user, password\n",
      "print read_credentials('datasource2.yaml')"
     ],
     "language": "python",
     "metadata": {},
     "outputs": []
    },
    {
     "cell_type": "code",
     "collapsed": false,
     "input": [
      "print read_credentials('datasource.yaml')"
     ],
     "language": "python",
     "metadata": {},
     "outputs": []
    },
    {
     "cell_type": "code",
     "collapsed": false,
     "input": [
      "print read_credentials('datasource3.yaml')"
     ],
     "language": "python",
     "metadata": {},
     "outputs": []
    },
    {
     "cell_type": "markdown",
     "metadata": {},
     "source": [
      "This last code has a flaw: the file was successfully opened, the missing key was noticed, but not explicitly closed. It's normally OK, as python will close the file as soon as it notices there are no longer any references to datasource in memory, after the function exits. But this is not good practice, you should keep a file handle for as short a time as possible."
     ]
    },
    {
     "cell_type": "code",
     "collapsed": false,
     "input": [
      "def read_credentials(source):\n",
      "    try:\n",
      "       datasource=open(source)\n",
      "       config=yaml.load(datasource)\n",
      "       user=config[\"userid\"]\n",
      "       password=config[\"password\"]\n",
      "    except IOError:\n",
      "       user=\"anonymous\"\n",
      "       password=None\n",
      "    finally:\n",
      "        datasource.close()\n",
      "    return user, password"
     ],
     "language": "python",
     "metadata": {},
     "outputs": []
    },
    {
     "cell_type": "markdown",
     "metadata": {},
     "source": [
      "The `finally` clause is executed whether or not an exception occurs."
     ]
    },
    {
     "cell_type": "markdown",
     "metadata": {},
     "source": [
      "The last optional clause of a `try` statement, an `else` clause is called only if an exception is NOT raised. It can be a better place than the `try` clause to put code other than that which you expect to raise the error, and which you do not want to be executed if the error is raised. It is executed in the same circumstances as code put in the end of the `try` block, the only difference is that errors raised during the `else` clause are not caught. Don't worry if this seems useless to you; most languages implementations of try/except don't support such a clause."
     ]
    },
    {
     "cell_type": "code",
     "collapsed": false,
     "input": [
      "def read_credentials(source):\n",
      "    try:\n",
      "       datasource=open(source)\n",
      "    except IOError:\n",
      "       user=\"anonymous\"\n",
      "       password=None\n",
      "    else:\n",
      "       config=yaml.load(datasource)\n",
      "       user=config[\"userid\"]\n",
      "       password=config[\"password\"]\n",
      "    finally:\n",
      "        datasource.close()\n",
      "    return user, password"
     ],
     "language": "python",
     "metadata": {},
     "outputs": []
    },
    {
     "cell_type": "markdown",
     "metadata": {},
     "source": [
      "Exceptions do not have to be caught close to the part of the program calling them. They can be caught anywhere \"above\" the calling point in\n",
      "the call stack: control can jump arbitrarily far in the program: up to the `except` clause of the \"highest\" containing try statement."
     ]
    },
    {
     "cell_type": "code",
     "collapsed": false,
     "input": [
      "def f4(x):\n",
      "    if x==0:\n",
      "        return\n",
      "    if x==1:\n",
      "        raise ArithmeticError()\n",
      "    if x==2:\n",
      "        raise SyntaxError()\n",
      "    if x==3:\n",
      "        raise TypeError()\n",
      "\n",
      "def f3(x):\n",
      "    try:\n",
      "        print \"F3Before\"\n",
      "        f4(x)\n",
      "        print \"F3After\"\n",
      "    except ArithmeticError:\n",
      "        print \"F3Except\"\n",
      "\n",
      "def f2(x):\n",
      "    try:\n",
      "        print \"F2Before\"\n",
      "        f3(x)\n",
      "        print \"F2After\"\n",
      "    except SyntaxError:\n",
      "        print \"F2Except\"\n",
      "    \n",
      "\n",
      "def f1(x):\n",
      "    try:\n",
      "        print \"F1Before\"\n",
      "        f2(x)\n",
      "        print \"F1After\"\n",
      "    except TypeError:\n",
      "        print \"F1Except\"\n",
      "    \n",
      "\n",
      "        "
     ],
     "language": "python",
     "metadata": {},
     "outputs": []
    },
    {
     "cell_type": "code",
     "collapsed": false,
     "input": [
      "f1(0)"
     ],
     "language": "python",
     "metadata": {},
     "outputs": []
    },
    {
     "cell_type": "code",
     "collapsed": false,
     "input": [
      "f1(1)"
     ],
     "language": "python",
     "metadata": {},
     "outputs": []
    },
    {
     "cell_type": "code",
     "collapsed": false,
     "input": [
      "f1(2)"
     ],
     "language": "python",
     "metadata": {},
     "outputs": []
    },
    {
     "cell_type": "code",
     "collapsed": false,
     "input": [
      "f1(3)"
     ],
     "language": "python",
     "metadata": {},
     "outputs": []
    },
    {
     "cell_type": "heading",
     "level": 1,
     "metadata": {},
     "source": [
      "Design with Exceptions"
     ]
    },
    {
     "cell_type": "markdown",
     "metadata": {},
     "source": [
      "Now we know how exceptions work, we need to think about the design implications... How best to use them."
     ]
    },
    {
     "cell_type": "markdown",
     "metadata": {},
     "source": [
      "Traditional software design theory will tell you that they should only be used to describe and recover from **exceptional** conditions: things going wrong. Normal program flow shouldn't use them."
     ]
    },
    {
     "cell_type": "markdown",
     "metadata": {},
     "source": [
      "Python's designers take a different view: use of exceptions in normal flow is considered OK. For example, all iterators raise a `StopIteration` exception to\n",
      "indicate the iteration is complete."
     ]
    },
    {
     "cell_type": "markdown",
     "metadata": {},
     "source": [
      "A commonly recommended python design pattern is to use exceptions to determine whether an object implments a protocol (concept/interface), rather than testing on type."
     ]
    },
    {
     "cell_type": "markdown",
     "metadata": {},
     "source": [
      "For example, we might want a function which can be supplied *either* a data series *or* a path to a location on disk where data can be found. We can examine the type of the supplied content:"
     ]
    },
    {
     "cell_type": "code",
     "collapsed": false,
     "input": [
      "import yaml\n",
      "def analysis(source):\n",
      "    if type(source)==dict:\n",
      "        name=source['modelname']\n",
      "    else:\n",
      "        content=open(source)\n",
      "        source=yaml.load(content)\n",
      "        name=source['modelname']\n",
      "    print name"
     ],
     "language": "python",
     "metadata": {},
     "outputs": []
    },
    {
     "cell_type": "code",
     "collapsed": false,
     "input": [
      "analysis({'modelname':'Super'})"
     ],
     "language": "python",
     "metadata": {},
     "outputs": []
    },
    {
     "cell_type": "code",
     "collapsed": false,
     "input": [
      "%%writefile example.yaml\n",
      "modelname: Brilliant"
     ],
     "language": "python",
     "metadata": {},
     "outputs": []
    },
    {
     "cell_type": "code",
     "collapsed": false,
     "input": [
      "analysis('example.yaml')"
     ],
     "language": "python",
     "metadata": {},
     "outputs": []
    },
    {
     "cell_type": "markdown",
     "metadata": {},
     "source": [
      "However, we can also use the try-it-and-handle-exceptions approach to this. "
     ]
    },
    {
     "cell_type": "code",
     "collapsed": false,
     "input": [
      "def analysis(source):\n",
      "    try:\n",
      "      name=source['modelname']\n",
      "    except TypeError:\n",
      "      content=open(source)\n",
      "      source=yaml.load(content)\n",
      "      name=source['modelname']\n",
      "    print name"
     ],
     "language": "python",
     "metadata": {},
     "outputs": []
    },
    {
     "cell_type": "code",
     "collapsed": false,
     "input": [
      "analysis('example.yaml')"
     ],
     "language": "python",
     "metadata": {},
     "outputs": []
    },
    {
     "cell_type": "markdown",
     "metadata": {},
     "source": [
      "This approach is more extensible, and **behaves properly if we give it some other data-source which responds like a dictionary or string.**"
     ]
    },
    {
     "cell_type": "code",
     "collapsed": false,
     "input": [
      "def analysis(source):\n",
      "    try:\n",
      "      name=source['modelname']\n",
      "    except TypeError:\n",
      "      # Source was not a dictionary-like object\n",
      "      # Maybe it is a file path\n",
      "      try:\n",
      "        content=open(source)\n",
      "        source=yaml.load(content)\n",
      "        name=source['modelname']\n",
      "      except IOError:\n",
      "        # Maybe it was already raw YAML content\n",
      "        source=yaml.load(source)\n",
      "        name=source['modelname']\n",
      "    print name"
     ],
     "language": "python",
     "metadata": {},
     "outputs": []
    },
    {
     "cell_type": "code",
     "collapsed": false,
     "input": [
      "analysis(\"modelname: Amazing\")"
     ],
     "language": "python",
     "metadata": {},
     "outputs": []
    },
    {
     "cell_type": "markdown",
     "metadata": {},
     "source": [
      "Sometimes we want to catch an error, partially handle it, perhaps add some extra data to the exception, and then re-raise to be caught again further up the call stack. "
     ]
    },
    {
     "cell_type": "markdown",
     "metadata": {},
     "source": [
      "The keyword \"`raise`\" with no argument in an `except:` clause will cause the caught error to be re-thrown. Doing this is the only circumstance where it is safe to do except: without catching a specfic type of error."
     ]
    },
    {
     "cell_type": "code",
     "collapsed": false,
     "input": [
      "try:\n",
      "    # Something\n",
      "    pass\n",
      "except:\n",
      "    # Do this code here if anything goes wrong\n",
      "    raise"
     ],
     "language": "python",
     "metadata": {},
     "outputs": []
    },
    {
     "cell_type": "markdown",
     "metadata": {},
     "source": [
      "It can be useful to catch and re-throw an error as you go up the chain, doing any clean-up needed for each layer of a program."
     ]
    },
    {
     "cell_type": "markdown",
     "metadata": {},
     "source": [
      "The error will finally be caught and not re-thrown only at a higher program layer that knows how to recover. This is known as the \"throw low catch high\" principle.\n"
     ]
    },
    {
     "cell_type": "heading",
     "level": 1,
     "metadata": {},
     "source": [
      "Context managers"
     ]
    },
    {
     "cell_type": "markdown",
     "metadata": {},
     "source": [
      "We saw that instead of separately `open`ing and `close`ing a file, we can have the file be automatically closed using a context manager:"
     ]
    },
    {
     "cell_type": "code",
     "collapsed": false,
     "input": [
      "with open('example.yaml') as foo:\n",
      "    print yaml.load(foo)"
     ],
     "language": "python",
     "metadata": {},
     "outputs": []
    },
    {
     "cell_type": "markdown",
     "metadata": {},
     "source": [
      "How could we define our own one of these, if we too have clean-up code we always want to run after a calling function has done its work, or set-up code we want to do first?"
     ]
    },
    {
     "cell_type": "markdown",
     "metadata": {},
     "source": [
      "We can define a class that meets an appropriate protocol:"
     ]
    },
    {
     "cell_type": "code",
     "collapsed": false,
     "input": [
      "class verbose_context():\n",
      "    def __init__(self, name):\n",
      "        self.name=name\n",
      "    def __enter__(self):\n",
      "        print \"Get ready, \", self.name\n",
      "    def __exit__(self, exc_type, exc_value, traceback):\n",
      "        print \"OK, done\""
     ],
     "language": "python",
     "metadata": {},
     "outputs": []
    },
    {
     "cell_type": "code",
     "collapsed": false,
     "input": [
      "with verbose_context(\"James\"):\n",
      "    print \"Doing it!\""
     ],
     "language": "python",
     "metadata": {},
     "outputs": []
    },
    {
     "cell_type": "markdown",
     "metadata": {},
     "source": [
      "However, this is pretty verbose! Again, a generator with `yield` makes for an easier syntax:"
     ]
    },
    {
     "cell_type": "code",
     "collapsed": false,
     "input": [
      "from contextlib import contextmanager\n",
      "\n",
      "@contextmanager\n",
      "def verbose_context(name):\n",
      "    print \"Get ready for action, \", name\n",
      "    yield name.upper()\n",
      "    print \"You did it\""
     ],
     "language": "python",
     "metadata": {},
     "outputs": []
    },
    {
     "cell_type": "code",
     "collapsed": false,
     "input": [
      "with verbose_context(\"James\") as shouty:\n",
      "    print \"Doing it, \",  shouty"
     ],
     "language": "python",
     "metadata": {},
     "outputs": []
    },
    {
     "cell_type": "markdown",
     "metadata": {},
     "source": [
      "Again, we use `yield` to temporarily return from a function."
     ]
    },
    {
     "cell_type": "heading",
     "level": 1,
     "metadata": {},
     "source": [
      "Decorators"
     ]
    },
    {
     "cell_type": "markdown",
     "metadata": {},
     "source": [
      "When doing functional programming, we may often want to define mutator functions which take in one function and return a new function, such as our derivative example earlier."
     ]
    },
    {
     "cell_type": "code",
     "collapsed": false,
     "input": [
      "def repeater(func, count):\n",
      "    def _repeated(x):\n",
      "        counter=count\n",
      "        while counter>0:\n",
      "            counter-=1\n",
      "            x=func(x)\n",
      "        return x\n",
      "    return _repeated"
     ],
     "language": "python",
     "metadata": {},
     "outputs": []
    },
    {
     "cell_type": "code",
     "collapsed": false,
     "input": [
      "from math import sqrt"
     ],
     "language": "python",
     "metadata": {},
     "outputs": []
    },
    {
     "cell_type": "code",
     "collapsed": false,
     "input": [
      "fiftyroots=repeater(sqrt,50)"
     ],
     "language": "python",
     "metadata": {},
     "outputs": []
    },
    {
     "cell_type": "code",
     "collapsed": false,
     "input": [
      "fiftyroots(100)"
     ],
     "language": "python",
     "metadata": {},
     "outputs": []
    },
    {
     "cell_type": "markdown",
     "metadata": {},
     "source": [
      "It turns out that, quite often, we want to apply one of these to a function as we're defining a class.\n",
      "For example, we may want to specify that after certain methods are called, data should always be stored:"
     ]
    },
    {
     "cell_type": "code",
     "collapsed": false,
     "input": [
      "def reset_required(func):\n",
      "    def _with_data_save(self, *args):\n",
      "        func(self,*args)\n",
      "        self.stored_data.append(self.data)\n",
      "    return _with_data_save\n",
      "\n",
      "class SomeClass(object):\n",
      "    def __init__(self):\n",
      "        self.data=[]\n",
      "        self.stored_data=[]\n",
      "        \n",
      "    def _step1(self, ins):\n",
      "        self.data=[x*2 for x in ins]\n",
      "        \n",
      "    step1=reset_required(_step1)"
     ],
     "language": "python",
     "metadata": {},
     "outputs": []
    },
    {
     "cell_type": "code",
     "collapsed": false,
     "input": [
      "x=SomeClass()"
     ],
     "language": "python",
     "metadata": {},
     "outputs": []
    },
    {
     "cell_type": "code",
     "collapsed": false,
     "input": [
      "x.step1(\"Hello\")\n",
      "x.data"
     ],
     "language": "python",
     "metadata": {},
     "outputs": []
    },
    {
     "cell_type": "code",
     "collapsed": false,
     "input": [
      "x.step1(\"World\")\n",
      "x.data"
     ],
     "language": "python",
     "metadata": {},
     "outputs": []
    },
    {
     "cell_type": "code",
     "collapsed": false,
     "input": [
      "x.stored_data"
     ],
     "language": "python",
     "metadata": {},
     "outputs": []
    },
    {
     "cell_type": "markdown",
     "metadata": {},
     "source": [
      "Python provides some \"syntactic sugar\" to make this kind of coding prettier:"
     ]
    },
    {
     "cell_type": "code",
     "collapsed": false,
     "input": [
      "def reset_required(func):\n",
      "    def _with_data_save(self, *args):\n",
      "        func(self,*args)\n",
      "        self.stored_data.append(self.data)\n",
      "    return _with_data_save\n",
      "\n",
      "class SomeClass(object):\n",
      "    def __init__(self):\n",
      "        self.data=[]\n",
      "        self.stored_data=[]\n",
      "        \n",
      "    @reset_required\n",
      "    def step1(self, ins):\n",
      "        self.data=[x*2 for x in ins]"
     ],
     "language": "python",
     "metadata": {},
     "outputs": []
    },
    {
     "cell_type": "code",
     "collapsed": false,
     "input": [
      "x=SomeClass()\n",
      "x.step1(\"Hello\")\n",
      "x.step1(\"World\")\n",
      "x.stored_data"
     ],
     "language": "python",
     "metadata": {},
     "outputs": []
    },
    {
     "cell_type": "markdown",
     "metadata": {},
     "source": [
      "Any function which accepts a function as its first argument and returns a function can be used as a **decorator** like this."
     ]
    },
    {
     "cell_type": "markdown",
     "metadata": {},
     "source": [
      "Much of Python's standard functionality is implemented as decorators: we've seen @contextmanager, @classmethod and @attribute. The @contextmanager metafunction, for example, takes in an iterator, and yields a class conforming to the context manager protocol."
     ]
    },
    {
     "cell_type": "heading",
     "level": 1,
     "metadata": {},
     "source": [
      "Testing and functional programming."
     ]
    },
    {
     "cell_type": "markdown",
     "metadata": {},
     "source": [
      "A few weeks ago we saw a test which loaded its test cases from a YAML file and asserted each input with each output. This was nice and concise, but had one flaw: we had just one test, covering all the fixtures, so we got just one . in the test output when we ran the tests, and if any test failed, the rest were not run. We can do a nicer job with a test **generator**:"
     ]
    },
    {
     "cell_type": "code",
     "collapsed": false,
     "input": [
      "def assert_examplar(**fixture):\n",
      "    answer=fixture.pop('answer')\n",
      "    assert_equal(greet(**fixture), answer)\n",
      "\n",
      "def test_greeter():\n",
      "    with open(os.path.join(os.path.dirname(__file__),'fixtures','samples.yaml')) as fixtures_file:\n",
      "        fixtures=yaml.load(fixtures_file)\n",
      "        for fixture in fixtures:\n",
      "            yield assert_exemplar(**fixture)"
     ],
     "language": "python",
     "metadata": {},
     "outputs": []
    },
    {
     "cell_type": "markdown",
     "metadata": {},
     "source": [
      "We also remember seeing `with assert_raises()` used to do negative testing."
     ]
    },
    {
     "cell_type": "markdown",
     "metadata": {},
     "source": [
      "We can now imagine how this context manager might be implemented:"
     ]
    },
    {
     "cell_type": "code",
     "collapsed": false,
     "input": [
      "@contextmanager\n",
      "def my_assert_raises(exception):\n",
      "    try:\n",
      "        yield\n",
      "    except exception:\n",
      "        pass\n",
      "    else:\n",
      "        raise Exception(\"Expected,\", exception, \" to be raised, nothing was.\")"
     ],
     "language": "python",
     "metadata": {},
     "outputs": []
    },
    {
     "cell_type": "markdown",
     "metadata": {},
     "source": [
      "In fact, we can now use an even easier way to define negative tests: by using `@raises` as a **decorator**:"
     ]
    },
    {
     "cell_type": "code",
     "collapsed": false,
     "input": [
      "from nose.tools import raises\n",
      "\n",
      "@raises(TypeError, ValueError)\n",
      "def test_raises_type_error():\n",
      "    raise TypeError(\"This test passes\")\n",
      "\n",
      "@raises(Exception)\n",
      "def test_that_fails_by_passing():\n",
      "    pass"
     ],
     "language": "python",
     "metadata": {},
     "outputs": []
    },
    {
     "cell_type": "code",
     "collapsed": false,
     "input": [
      "test_raises_type_error()"
     ],
     "language": "python",
     "metadata": {},
     "outputs": []
    },
    {
     "cell_type": "code",
     "collapsed": false,
     "input": [
      "test_that_fails_by_passing()"
     ],
     "language": "python",
     "metadata": {},
     "outputs": [],
     "prompt_number": ""
    },
    {
     "cell_type": "markdown",
     "metadata": {},
     "source": [
      "Again, we can imagine how nose might implement this:"
     ]
    },
    {
     "cell_type": "code",
     "collapsed": false,
     "input": [
      "def my_raises(func, exception):\n",
      "    def _output(*args):\n",
      "        with assert_raises(exception):\n",
      "            func(*args)\n",
      "    return _output"
     ],
     "language": "python",
     "metadata": {},
     "outputs": [],
     "prompt_number": ""
    },
    {
     "cell_type": "heading",
     "level": 1,
     "metadata": {},
     "source": [
      "Metaprogramming class attributes"
     ]
    },
    {
     "cell_type": "markdown",
     "metadata": {},
     "source": [
      "In our introductory metaprogramming example, we were working in the root namespace of a module, using the globals() function."
     ]
    },
    {
     "cell_type": "markdown",
     "metadata": {},
     "source": [
      "We want to be able to access the attribute dictionary for other objects to do metaprogramming to, for example, programmatically create class member data or variables."
     ]
    },
    {
     "cell_type": "code",
     "collapsed": false,
     "input": [
      "class Boring(object): pass"
     ],
     "language": "python",
     "metadata": {},
     "outputs": [],
     "prompt_number": ""
    },
    {
     "cell_type": "code",
     "collapsed": false,
     "input": [
      "x=Boring()"
     ],
     "language": "python",
     "metadata": {},
     "outputs": [],
     "prompt_number": ""
    },
    {
     "cell_type": "code",
     "collapsed": false,
     "input": [
      "x.name=\"James\""
     ],
     "language": "python",
     "metadata": {},
     "outputs": [],
     "prompt_number": ""
    },
    {
     "cell_type": "code",
     "collapsed": false,
     "input": [
      "x.name"
     ],
     "language": "python",
     "metadata": {},
     "outputs": [],
     "prompt_number": ""
    },
    {
     "cell_type": "code",
     "collapsed": false,
     "input": [
      "x.__dict__"
     ],
     "language": "python",
     "metadata": {},
     "outputs": [],
     "prompt_number": ""
    },
    {
     "cell_type": "code",
     "collapsed": false,
     "input": [
      "getattr(x,'name')"
     ],
     "language": "python",
     "metadata": {},
     "outputs": [],
     "prompt_number": ""
    },
    {
     "cell_type": "code",
     "collapsed": false,
     "input": [
      "setattr(x,'age',38)"
     ],
     "language": "python",
     "metadata": {},
     "outputs": [],
     "prompt_number": ""
    },
    {
     "cell_type": "code",
     "collapsed": false,
     "input": [
      "x.age"
     ],
     "language": "python",
     "metadata": {},
     "outputs": [],
     "prompt_number": ""
    },
    {
     "cell_type": "markdown",
     "metadata": {},
     "source": [
      "The real power of accessing the attribute dictionary comes when we realise that there is *very little difference* between member data and member functions.\n",
      "Now that we know, from our functional programming, that a function is just a variable that can be *called* with `()`, we can set an attribute to a function, and\n",
      "it becomes a member function!"
     ]
    },
    {
     "cell_type": "code",
     "collapsed": false,
     "input": [
      "setattr(Boring, 'describe', lambda self: self.name+ \" is \"+str(self.age))"
     ],
     "language": "python",
     "metadata": {},
     "outputs": [],
     "prompt_number": ""
    },
    {
     "cell_type": "code",
     "collapsed": false,
     "input": [
      "x.describe()"
     ],
     "language": "python",
     "metadata": {},
     "outputs": [],
     "prompt_number": ""
    },
    {
     "cell_type": "code",
     "collapsed": false,
     "input": [
      "x.describe"
     ],
     "language": "python",
     "metadata": {},
     "outputs": [],
     "prompt_number": ""
    },
    {
     "cell_type": "code",
     "collapsed": false,
     "input": [
      "Boring.describe"
     ],
     "language": "python",
     "metadata": {},
     "outputs": [],
     "prompt_number": ""
    },
    {
     "cell_type": "markdown",
     "metadata": {},
     "source": [
      "Note that we set this as an attribute of the class, so it is available to other instances of `Boring`:"
     ]
    },
    {
     "cell_type": "code",
     "collapsed": false,
     "input": [
      "y=Boring()\n",
      "y.describe()"
     ],
     "language": "python",
     "metadata": {},
     "outputs": [],
     "prompt_number": ""
    },
    {
     "cell_type": "code",
     "collapsed": false,
     "input": [
      "def broken_birth_year(self):\n",
      "    import datetime\n",
      "    current=datetime.datetime.now().year\n",
      "    return current-self.age"
     ],
     "language": "python",
     "metadata": {},
     "outputs": [],
     "prompt_number": ""
    },
    {
     "cell_type": "code",
     "collapsed": false,
     "input": [
      "Boring.birth_year=broken_birth_year"
     ],
     "language": "python",
     "metadata": {},
     "outputs": [],
     "prompt_number": ""
    },
    {
     "cell_type": "code",
     "collapsed": false,
     "input": [
      "x.birth_year()"
     ],
     "language": "python",
     "metadata": {},
     "outputs": [],
     "prompt_number": ""
    },
    {
     "cell_type": "code",
     "collapsed": false,
     "input": [
      "x.birth_year"
     ],
     "language": "python",
     "metadata": {},
     "outputs": [],
     "prompt_number": ""
    },
    {
     "cell_type": "code",
     "collapsed": false,
     "input": [
      "broken_birth_year.__name__"
     ],
     "language": "python",
     "metadata": {},
     "outputs": [],
     "prompt_number": ""
    },
    {
     "cell_type": "markdown",
     "metadata": {},
     "source": [
      "We can access the attribute dictionary for the local namespace inside a function with locals() but this *cannot safely be written to*. Lack of safe programmatic creation of local variables is a flaw in Python."
     ]
    },
    {
     "cell_type": "code",
     "collapsed": false,
     "input": [
      "class Person(object):\n",
      "    def __init__(self, name, age, job, children_count):\n",
      "        for name,value in locals().iteritems():\n",
      "            if name=='self': continue\n",
      "            print \"Setting self.\", name, \" to \", value \n",
      "            setattr(self, name, value)"
     ],
     "language": "python",
     "metadata": {},
     "outputs": [],
     "prompt_number": ""
    },
    {
     "cell_type": "code",
     "collapsed": false,
     "input": [
      "me=Person(\"James\", 38, \"Scientific Programmer\", 0)"
     ],
     "language": "python",
     "metadata": {},
     "outputs": [],
     "prompt_number": ""
    },
    {
     "cell_type": "code",
     "collapsed": false,
     "input": [
      "me.name"
     ],
     "language": "python",
     "metadata": {},
     "outputs": [],
     "prompt_number": ""
    },
    {
     "cell_type": "heading",
     "level": 1,
     "metadata": {},
     "source": [
      "Metaprogramming warning!"
     ]
    },
    {
     "cell_type": "markdown",
     "metadata": {},
     "source": [
      "Use this stuff **sparingly**!"
     ]
    },
    {
     "cell_type": "markdown",
     "metadata": {},
     "source": [
      "The above example worked, but it produced Python code which is not particularly understandable.\n",
      "Remember, your objective when programming is to produce code which is **descriptive of what it does**."
     ]
    },
    {
     "cell_type": "markdown",
     "metadata": {},
     "source": [
      "The above code is **definitely** less readable, less maintainable and more error prone than:"
     ]
    },
    {
     "cell_type": "code",
     "collapsed": false,
     "input": [
      "class Person(object):\n",
      "    def __init__(self, name, age, job, children_count):\n",
      "       self.name=name\n",
      "       self.age=age\n",
      "       self.job=job\n",
      "       self.children_count=children_count"
     ],
     "language": "python",
     "metadata": {},
     "outputs": [],
     "prompt_number": ""
    },
    {
     "cell_type": "markdown",
     "metadata": {},
     "source": [
      "Sometimes, metaprogramming will be **really** helpful in making non-repetitive code, and you should have it in your toolbox, which is why I'm teaching you it.\n",
      "But doing it all the time overcomplicated matters. We've talked a lot about the DRY principle, but there is another equally important principle:"
     ]
    },
    {
     "cell_type": "markdown",
     "metadata": {},
     "source": [
      "\n",
      "**KISS**: *Keep it simple, Stupid!*"
     ]
    },
    {
     "cell_type": "markdown",
     "metadata": {},
     "source": [
      "Whenever you write code and you think, \"Gosh, I'm really clever\",you're probably *doing it wrong*. Code should be about clarity, not showing off."
     ]
    },
    {
     "cell_type": "heading",
     "level": 1,
     "metadata": {},
     "source": [
      "Operator overloading"
     ]
    },
    {
     "cell_type": "markdown",
     "metadata": {},
     "source": [
      "Imagine we wanted to make a library to describe some kind of symbolic algebra system:"
     ]
    },
    {
     "cell_type": "code",
     "collapsed": false,
     "input": [
      "class Term(object):\n",
      "    def __init__(self, symbols=[], powers=[], coefficient=1):\n",
      "        self.coefficient=coefficient\n",
      "        self.data={symbol: exponent for symbol,exponent in zip(symbols, powers)}\n",
      "\n",
      "class Expression(object):\n",
      "    def __init__(self, terms):\n",
      "        self.terms=terms"
     ],
     "language": "python",
     "metadata": {},
     "outputs": [],
     "prompt_number": ""
    },
    {
     "cell_type": "markdown",
     "metadata": {},
     "source": [
      "So that $5x^2y+7x+2$ might be constructed as:"
     ]
    },
    {
     "cell_type": "code",
     "collapsed": false,
     "input": [
      "first=Term(['x','y'],[2,1],5)\n",
      "second=Term(['x'],[1],7)\n",
      "third=Term([],[],2)\n",
      "result=Expression([first, second, third])"
     ],
     "language": "python",
     "metadata": {},
     "outputs": [],
     "prompt_number": ""
    },
    {
     "cell_type": "markdown",
     "metadata": {},
     "source": [
      "This is pretty cumbersome."
     ]
    },
    {
     "cell_type": "markdown",
     "metadata": {},
     "source": [
      "What we'd really like is to have `2x+y` give an appropriate expression."
     ]
    },
    {
     "cell_type": "markdown",
     "metadata": {},
     "source": [
      "We could define add() and multiply() operations on expressions and terms:"
     ]
    },
    {
     "cell_type": "code",
     "collapsed": false,
     "input": [
      "class Term(object):\n",
      "    def __init__(self, *args):\n",
      "        lead=args[0]\n",
      "        if type(lead)==type(self):\n",
      "            # Copy constructor\n",
      "            self.data=dict(lead.data)\n",
      "            self.coefficient=lead.coefficient\n",
      "            \n",
      "        elif type(lead)==int:\n",
      "            self.from_constant(lead)\n",
      "            \n",
      "        elif type(lead)==str:\n",
      "            self.from_symbol(*args)\n",
      "        \n",
      "        elif type(lead)==dict:\n",
      "            self.from_dictionary(*args)\n",
      "\n",
      "        else:\n",
      "            self.from_lists(*args)\n",
      "          \n",
      "            \n",
      "    def from_constant(self, constant):\n",
      "        self.coefficient=constant\n",
      "        self.data={}\n",
      "    \n",
      "    def from_symbol(self, symbol, coefficient=1, power=1):\n",
      "        self.coefficient=coefficient\n",
      "        self.data={symbol:power}\n",
      "        \n",
      "    def from_dictionary(self, data, coefficient=1):\n",
      "        self.data=data\n",
      "        self.coefficient=coefficient\n",
      "        \n",
      "    def from_lists(self, symbols=[], powers=[], coefficient=1):\n",
      "        self.coefficient=coefficient\n",
      "        self.data={symbol: exponent for symbol,exponent in zip(symbols, powers)}\n",
      "        \n",
      "    def add(self, *others):\n",
      "        return Expression((self,)+others)\n",
      "    \n",
      "    def __add__(self, other):\n",
      "        return self.add(other)\n",
      "    \n",
      "    def __mul__(self, other):\n",
      "        return self.multiply(other)\n",
      "    \n",
      "    def __rmul__(self, other):\n",
      "        return self.__mul__(other)\n",
      "    \n",
      "    def __radd__(self, other):\n",
      "        return self.__add__(other)\n",
      "    \n",
      "    def multiply(self, *others):\n",
      "        result_data=dict(self.data)\n",
      "        result_coeff=self.coefficient\n",
      "        # Convert arguments to Terms first if they are constants or integers\n",
      "        others=map(Term,others)\n",
      "        for another in others:\n",
      "            for symbol, exponent in another.data.iteritems():\n",
      "                if symbol in result_data:\n",
      "                    result_data[symbol]+=another.data[symbol]\n",
      "                else:\n",
      "                    result_data[symbol]=another.data[symbol]\n",
      "            result_coeff*=another.coefficient\n",
      "        return Term(result_data,result_coeff)\n",
      "    \n",
      "    def __str__(self):\n",
      "        def symbol_string(symbol, power):\n",
      "            if power==1:\n",
      "                return symbol\n",
      "            else:\n",
      "                return symbol+'^'+str(power)\n",
      "        symbol_strings=[symbol_string(symbol, power) for symbol, power in self.data.iteritems()]\n",
      "        prod='*'.join(symbol_strings)\n",
      "        if not prod:\n",
      "            return str(self.coefficient)\n",
      "        if self.coefficient==1:\n",
      "            return prod\n",
      "        else:\n",
      "            return str(self.coefficient)+'*'+prod\n",
      "            \n",
      "class Expression(object):\n",
      "    def __init__(self, terms=[]):\n",
      "        self.terms=list(terms)\n",
      "    def add(self, *others):\n",
      "        result=Expression(self.terms)\n",
      "        for another in others:\n",
      "            if type(another)==Term:\n",
      "                result.terms.append(another)\n",
      "            else:\n",
      "                result.terms+=another.terms\n",
      "        return result\n",
      "    def multiply(self, another):\n",
      "        # Distributive law left as exercise\n",
      "        pass\n",
      "    def __add__(self, other):\n",
      "        return self.add(other)\n",
      "    def __radd__(self, other):\n",
      "        return self.__add__(other)\n",
      "    def __str__(self):\n",
      "        return '+'.join(map(str,self.terms))"
     ],
     "language": "python",
     "metadata": {},
     "outputs": [],
     "prompt_number": ""
    },
    {
     "cell_type": "markdown",
     "metadata": {},
     "source": [
      "We can now construct the above expression as:"
     ]
    },
    {
     "cell_type": "code",
     "collapsed": false,
     "input": [
      "x=Term('x')"
     ],
     "language": "python",
     "metadata": {},
     "outputs": [],
     "prompt_number": ""
    },
    {
     "cell_type": "code",
     "collapsed": false,
     "input": [
      "y=Term('y')"
     ],
     "language": "python",
     "metadata": {},
     "outputs": [],
     "prompt_number": ""
    },
    {
     "cell_type": "code",
     "collapsed": false,
     "input": [
      "first=Term(5).multiply(Term('x'),Term('x'),Term('y'))\n",
      "second=Term(7).multiply(Term('x'))\n",
      "third=Term(2)\n",
      "expr=first.add(second,third)"
     ],
     "language": "python",
     "metadata": {},
     "outputs": [],
     "prompt_number": ""
    },
    {
     "cell_type": "markdown",
     "metadata": {},
     "source": [
      "This is better, but we still can't write the expression in a 'natural' way."
     ]
    },
    {
     "cell_type": "markdown",
     "metadata": {},
     "source": [
      "However, we can define what `*` and `+` do when applied to Terms!:"
     ]
    },
    {
     "cell_type": "code",
     "collapsed": false,
     "input": [
      "x_plus_y=Term('x')+'y'\n",
      "print x_plus_y.terms[0].data"
     ],
     "language": "python",
     "metadata": {},
     "outputs": [],
     "prompt_number": ""
    },
    {
     "cell_type": "code",
     "collapsed": false,
     "input": [
      "five_x_ysq=Term('x')*5*'y'*'y'\n",
      "print five_x_ysq.data, five_x_ysq.coefficient"
     ],
     "language": "python",
     "metadata": {},
     "outputs": [],
     "prompt_number": ""
    },
    {
     "cell_type": "markdown",
     "metadata": {},
     "source": [
      "This is called operator overloading. We can define what add and multiply mean when applied to our class."
     ]
    },
    {
     "cell_type": "markdown",
     "metadata": {},
     "source": [
      "Note that this only works so far if we multiply on the right-hand-side!"
     ]
    },
    {
     "cell_type": "code",
     "collapsed": false,
     "input": [
      "print 5*Term('x')"
     ],
     "language": "python",
     "metadata": {},
     "outputs": [],
     "prompt_number": ""
    },
    {
     "cell_type": "markdown",
     "metadata": {},
     "source": [
      "However, we can define a multiplication that works backwards, which is used as a fallback if the left multiply raises an error:"
     ]
    },
    {
     "cell_type": "code",
     "collapsed": false,
     "input": [
      "fivex=5*Term('x')\n",
      "print fivex.data, fivex.coefficient"
     ],
     "language": "python",
     "metadata": {},
     "outputs": [],
     "prompt_number": ""
    },
    {
     "cell_type": "markdown",
     "metadata": {},
     "source": [
      "It's not easy at the moment to see if these things are working!"
     ]
    },
    {
     "cell_type": "markdown",
     "metadata": {},
     "source": [
      "We can add another operator method `__str__`, which defines what happens if we try to print our class:"
     ]
    },
    {
     "cell_type": "code",
     "collapsed": false,
     "input": [
      "first=Term(5)*'x'*'x'*'y'\n",
      "second=Term(7)*'x'\n",
      "third=Term(2)\n",
      "expr=first+second+third\n",
      "print expr"
     ],
     "language": "python",
     "metadata": {},
     "outputs": [],
     "prompt_number": ""
    },
    {
     "cell_type": "markdown",
     "metadata": {},
     "source": [
      "We can add lots more operators to classes. `__eq__` to determine if objects are equal. `__getitem__` to apply [1] to your object. Probably the most exciting one is `__call__`, which allows us to define other classes that *behave like functions*! We call these callables."
     ]
    },
    {
     "cell_type": "code",
     "collapsed": false,
     "input": [
      "class MyCallable(object):\n",
      "    def __call__(self, name):\n",
      "        print \"Hello, \", name"
     ],
     "language": "python",
     "metadata": {},
     "outputs": [],
     "prompt_number": ""
    },
    {
     "cell_type": "code",
     "collapsed": false,
     "input": [
      "x=MyCallable()"
     ],
     "language": "python",
     "metadata": {},
     "outputs": [],
     "prompt_number": ""
    },
    {
     "cell_type": "code",
     "collapsed": false,
     "input": [
      "x(\"James\")"
     ],
     "language": "python",
     "metadata": {},
     "outputs": [],
     "prompt_number": ""
    },
    {
     "cell_type": "markdown",
     "metadata": {},
     "source": [
      "We've now come full circle in the blurring of the distinction between functions and objects! The full power of functional programming is really remarkable."
     ]
    },
    {
     "cell_type": "markdown",
     "metadata": {},
     "source": [
      "If you want to know more about the topics in this lecture, using a different language syntax, I recommend you watch the Abelson and Sussman \"Structure and Interpretation of Computer Programs\" lectures. These are the Computer Science equivalent of the Feynman Lectures!"
     ]
    },
    {
     "cell_type": "code",
     "collapsed": false,
     "input": [
      "from IPython.display import YouTubeVideo\n",
      "YouTubeVideo('2Op3QLzMgSY')"
     ],
     "language": "python",
     "metadata": {},
     "outputs": [],
     "prompt_number": ""
    },
    {
     "cell_type": "heading",
     "level": 1,
     "metadata": {},
     "source": [
      "Exercise"
     ]
    },
    {
     "cell_type": "markdown",
     "metadata": {},
     "source": [
      "Numbers have units. $5\\mathrm{m}^2$ is not $5\\mathrm{J}$. $6\\mathrm{J}$ is the same as $6\\mathrm{kg}\\mathrm{m}^2\\mathrm{s}^{2}$ which is the same as $2\\mathrm{N} \\cdot 3\\mathrm{m}$"
     ]
    },
    {
     "cell_type": "markdown",
     "metadata": {},
     "source": [
      "Write a python library to implement handling quantities with units, and converting between units, with a github repostiory and a setup.py file, and some unit tests."
     ]
    },
    {
     "cell_type": "markdown",
     "metadata": {},
     "source": [
      "You should define operators for multiply, equality, and add for your class."
     ]
    },
    {
     "cell_type": "markdown",
     "metadata": {},
     "source": [
      "Your unit tests should include things like:"
     ]
    },
    {
     "cell_type": "raw",
     "metadata": {},
     "source": [
      "assert(5*meters == 0.005*kilometers)"
     ]
    },
    {
     "cell_type": "raw",
     "metadata": {},
     "source": [
      "assert((60.seconds).to(minutes).value==1)\n",
      "assert((60.seconds).to(minutes).unit==minutes)"
     ]
    },
    {
     "cell_type": "raw",
     "metadata": {},
     "source": [
      "with assert_raises(IncompatibleUnitsError):\n",
      "    5*meters+2*seconds"
     ]
    },
    {
     "cell_type": "markdown",
     "metadata": {},
     "source": [
      "You don't have to implement every unit! You might want to load your unit definitions from a yaml config file."
     ]
    },
    {
     "cell_type": "code",
     "collapsed": false,
     "input": [],
     "language": "python",
     "metadata": {},
     "outputs": [],
     "prompt_number": ""
    },
    {
     "cell_type": "code",
     "collapsed": false,
     "input": [],
     "language": "python",
     "metadata": {},
     "outputs": []
    }
   ],
   "metadata": {}
  }
 ]
}