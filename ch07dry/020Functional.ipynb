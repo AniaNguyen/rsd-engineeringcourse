{
 "cells": [
  {
   "cell_type": "markdown",
   "metadata": {},
   "source": [
    "## Functional programming"
   ]
  },
  {
   "cell_type": "markdown",
   "metadata": {},
   "source": [
    "### Functional Programming"
   ]
  },
  {
   "cell_type": "markdown",
   "metadata": {},
   "source": [
    "\n",
    "Understanding to think in a *functional programming* style is almost as\n",
    "important as object orientation for building DRY, clear scientific software,\n",
    "and is just as conceptually difficult.\n",
    "\n",
    "Programs are composed of functions: they take data in (which we call\n",
    "*parameters* or *arguments*) and send data out (through `return` statements.)\n",
    "\n",
    "A conceptual trick which is often used by computer scientists to teach the core\n",
    "idea of functional programming is this: to write a program,\n",
    "in theory, you only ever need functions with **one** argument, even when you think you need two or more. Why?\n",
    "\n",
    "Let's define a program to add two numbers:\n",
    "\n",
    "\n"
   ]
  },
  {
   "cell_type": "code",
   "execution_count": 10,
   "metadata": {
    "collapsed": false
   },
   "outputs": [
    {
     "data": {
      "text/plain": [
       "11"
      ]
     },
     "execution_count": 10,
     "metadata": {},
     "output_type": "execute_result"
    }
   ],
   "source": [
    "def add(a,b):\n",
    "    return a+b\n",
    "\n",
    "add(5,6)"
   ]
  },
  {
   "cell_type": "markdown",
   "metadata": {},
   "source": [
    "\n",
    "\n",
    "How could we do this, in a fictional version of Python which only defined functions of one argument?\n",
    "In order to understand this, we'll have to understand several of the concepts\n",
    "of functional programming. Let's start with a program which just adds five to\n",
    "something:\n",
    "\n",
    "\n"
   ]
  },
  {
   "cell_type": "code",
   "execution_count": 11,
   "metadata": {
    "collapsed": false
   },
   "outputs": [
    {
     "data": {
      "text/plain": [
       "11"
      ]
     },
     "execution_count": 11,
     "metadata": {},
     "output_type": "execute_result"
    }
   ],
   "source": [
    "def add_five(a):\n",
    "    return a+5\n",
    "\n",
    "add_five(6)"
   ]
  },
  {
   "cell_type": "markdown",
   "metadata": {},
   "source": [
    "\n",
    "\n",
    "OK, we could define lots of these, one for each number we want to add. But that\n",
    "would be infinitely repetitive. So, let's try to metaprogram that: we want a\n",
    "function which returns these add_N() functions.\n",
    "\n",
    "Let's start with the easy case: a function which returns a function which adds 5 to something:\n",
    "\n",
    "\n"
   ]
  },
  {
   "cell_type": "code",
   "execution_count": null,
   "metadata": {
    "collapsed": false
   },
   "outputs": [],
   "source": [
    "\n",
    "def generate_five_adder():\n",
    "    def _add_five(a):\n",
    "        return a+5\n",
    "    return _add_five\n",
    "\n",
    "coolfunction = generate_five_adder()\n",
    "coolfunction(7)\n"
   ]
  },
  {
   "cell_type": "markdown",
   "metadata": {},
   "source": [
    "\n",
    "\n",
    "OK, so what happened there? Well, we defined a function **inside** the other function. We can always do that:\n",
    "\n",
    "\n"
   ]
  },
  {
   "cell_type": "code",
   "execution_count": 12,
   "metadata": {
    "collapsed": false
   },
   "outputs": [
    {
     "data": {
      "text/plain": [
       "30"
      ]
     },
     "execution_count": 12,
     "metadata": {},
     "output_type": "execute_result"
    }
   ],
   "source": [
    "def thirty_function():\n",
    "    def times_three(a):\n",
    "        return a*3\n",
    "    def add_seven(a):\n",
    "        return a+7\n",
    "    return times_three(add_seven(3))\n",
    "\n",
    "thirty_function()"
   ]
  },
  {
   "cell_type": "markdown",
   "metadata": {},
   "source": [
    "\n",
    "\n",
    "When we do this, the functions enclosed inside the outer function are **local** functions, and can't be seen outside:\n",
    "\n",
    "\n"
   ]
  },
  {
   "cell_type": "code",
   "execution_count": 13,
   "metadata": {
    "collapsed": false
   },
   "outputs": [],
   "source": [
    "with assert_raises(NameError):\n",
    "    add_seven"
   ]
  },
  {
   "cell_type": "markdown",
   "metadata": {},
   "source": [
    "\n",
    "\n",
    "There's not really much of a difference between functions and other variables\n",
    "in python. A function is just a variable which can have () put after it to call\n",
    "the code!\n",
    "\n",
    "\n"
   ]
  },
  {
   "cell_type": "code",
   "execution_count": 14,
   "metadata": {
    "collapsed": false
   },
   "outputs": [
    {
     "name": "stdout",
     "output_type": "stream",
     "text": [
      "<function thirty_function at 0x10cc61e60>\n",
      "<function thirty_function at 0x10cc61e60>\n",
      "<function add_five at 0x10cc61d70>\n",
      "<function add at 0x10cc61c80>\n"
     ]
    }
   ],
   "source": [
    "print thirty_function\n",
    "x=[thirty_function, add_five, add]\n",
    "\n",
    "for fun in x:\n",
    "    print fun"
   ]
  },
  {
   "cell_type": "markdown",
   "metadata": {},
   "source": [
    "\n",
    "\n",
    "And we know that one of the things we can do with a variable is `return` it. So we can return a function, and then call it outside:\n",
    "\n",
    "\n"
   ]
  },
  {
   "cell_type": "code",
   "execution_count": 15,
   "metadata": {
    "collapsed": false
   },
   "outputs": [
    {
     "name": "stdout",
     "output_type": "stream",
     "text": [
      "Just passing the time...\n",
      "Hello\n"
     ]
    }
   ],
   "source": [
    "def deferred_greeting():\n",
    "    def greet():\n",
    "        print \"Hello\"\n",
    "    return greet\n",
    "\n",
    "friendlyfunction=deferred_greeting()\n",
    "\n",
    "# Do something else\n",
    "print \"Just passing the time...\"\n",
    "\n",
    "# OK, Go!\n",
    "friendlyfunction()"
   ]
  },
  {
   "cell_type": "markdown",
   "metadata": {},
   "source": [
    "\n",
    "\n",
    "\n",
    "So now, to finish this, we just need to return a function to add an arbitrary amount:\n",
    "\n",
    "\n"
   ]
  },
  {
   "cell_type": "code",
   "execution_count": 16,
   "metadata": {
    "collapsed": false
   },
   "outputs": [
    {
     "data": {
      "text/plain": [
       "12"
      ]
     },
     "execution_count": 16,
     "metadata": {},
     "output_type": "execute_result"
    }
   ],
   "source": [
    "def define_adder(increment):\n",
    "    def adder(a):\n",
    "        return a+increment\n",
    "    return adder\n",
    "\n",
    "add_3=define_adder(3)\n",
    "\n",
    "add_3(9)"
   ]
  },
  {
   "cell_type": "markdown",
   "metadata": {},
   "source": [
    "\n",
    "\n",
    "We can make this even prettier: let's make another variable pointing to our define_adder() function:\n",
    "\n",
    "\n"
   ]
  },
  {
   "cell_type": "code",
   "execution_count": 17,
   "metadata": {
    "collapsed": false
   },
   "outputs": [],
   "source": [
    "add = define_adder"
   ]
  },
  {
   "cell_type": "markdown",
   "metadata": {},
   "source": [
    "\n",
    "\n",
    "And now we can do the real magic:\n",
    "\n",
    "\n"
   ]
  },
  {
   "cell_type": "code",
   "execution_count": 18,
   "metadata": {
    "collapsed": false
   },
   "outputs": [
    {
     "data": {
      "text/plain": [
       "13"
      ]
     },
     "execution_count": 18,
     "metadata": {},
     "output_type": "execute_result"
    }
   ],
   "source": [
    "add(8)(5)"
   ]
  },
  {
   "cell_type": "markdown",
   "metadata": {},
   "source": [
    "### Closures"
   ]
  },
  {
   "cell_type": "markdown",
   "metadata": {},
   "source": [
    "You may have noticed something a bit weird:\n",
    "\n",
    "In the definition of `define_adder`, `increment` is a local variable. It should have gone out of scope and died at the end of the definition. How can the amount the returned adder function is adding still be kept?\n",
    "\n",
    "This is called a **closure**. In Python, whenever a function definition references a variable in the surrounding scope, it is preserved within the function definition.\n",
    "\n",
    "You can close over global module variables as well:\n",
    "\n",
    "\n"
   ]
  },
  {
   "cell_type": "code",
   "execution_count": 19,
   "metadata": {
    "collapsed": false
   },
   "outputs": [
    {
     "name": "stdout",
     "output_type": "stream",
     "text": [
      "Hello,  James\n"
     ]
    }
   ],
   "source": [
    "name = \"James\"\n",
    "def greet():\n",
    "    print \"Hello, \", name\n",
    "\n",
    "greet()"
   ]
  },
  {
   "cell_type": "markdown",
   "metadata": {},
   "source": [
    "\n",
    "\n",
    "And note that the closure stores a reference to the variable in the surrounding scope: (\"Late Binding\")\n",
    "\n",
    "\n"
   ]
  },
  {
   "cell_type": "code",
   "execution_count": 20,
   "metadata": {
    "collapsed": false
   },
   "outputs": [
    {
     "name": "stdout",
     "output_type": "stream",
     "text": [
      "Hello,  Matt\n"
     ]
    }
   ],
   "source": [
    "name=\"Matt\"\n",
    "\n",
    "greet()"
   ]
  },
  {
   "cell_type": "markdown",
   "metadata": {},
   "source": [
    "### Map and Reduce"
   ]
  },
  {
   "cell_type": "markdown",
   "metadata": {},
   "source": [
    "We often want to apply a function to each variable in an array, to return a new array. We can do this with a list comprehension:\n",
    "\n",
    "\n"
   ]
  },
  {
   "cell_type": "code",
   "execution_count": 21,
   "metadata": {
    "collapsed": false
   },
   "outputs": [
    {
     "data": {
      "text/plain": [
       "[5, 6, 7, 8, 9, 10, 11, 12, 13, 14]"
      ]
     },
     "execution_count": 21,
     "metadata": {},
     "output_type": "execute_result"
    }
   ],
   "source": [
    "numbers=range(10)\n",
    "\n",
    "[add_five(i) for i in numbers]"
   ]
  },
  {
   "cell_type": "markdown",
   "metadata": {},
   "source": [
    "\n",
    "\n",
    "But this is sufficiently common that there's a quick built-in:\n",
    "\n",
    "\n"
   ]
  },
  {
   "cell_type": "code",
   "execution_count": 22,
   "metadata": {
    "collapsed": false
   },
   "outputs": [
    {
     "data": {
      "text/plain": [
       "[5, 6, 7, 8, 9, 10, 11, 12, 13, 14]"
      ]
     },
     "execution_count": 22,
     "metadata": {},
     "output_type": "execute_result"
    }
   ],
   "source": [
    "map(add_five, numbers)"
   ]
  },
  {
   "cell_type": "markdown",
   "metadata": {},
   "source": [
    "\n",
    "\n",
    "This **map** operation is really important conceptually when understanding\n",
    "efficient parallel programming: different computers can apply the *mapped*\n",
    "function to their input at the same time. We call this Single Program, Multiple\n",
    "Data. (SPMD) **map** is half of the **map-reduce** functional programming\n",
    "paradigm which is key to the efficient operation of much of today's \"data\n",
    "science\" explosion. \n",
    "\n",
    "Let's continue our functional programming mind-stretch by looking at **reduce** operations.\n",
    "\n",
    "We very often want to loop with some kind of accumulator, such as when finding a mean, or finding a maximum:\n",
    "\n",
    "\n"
   ]
  },
  {
   "cell_type": "code",
   "execution_count": 23,
   "metadata": {
    "collapsed": false
   },
   "outputs": [
    {
     "data": {
      "text/plain": [
       "10"
      ]
     },
     "execution_count": 23,
     "metadata": {},
     "output_type": "execute_result"
    }
   ],
   "source": [
    "def mean(data):\n",
    "    sum=0.0\n",
    "    for x in data:\n",
    "        sum+=x\n",
    "    return sum/len(data)\n",
    "\n",
    "mean(range(10))\n",
    "\n",
    "import sys\n",
    "def my_max(data):\n",
    "    # Start with the smallest possible number\n",
    "    highest=sys.float_info.min\n",
    "    for x in data:\n",
    "        if x>highest:\n",
    "            highest=x\n",
    "    return highest\n",
    "\n",
    "my_max([2,5,10,-11,-5])"
   ]
  },
  {
   "cell_type": "markdown",
   "metadata": {},
   "source": [
    "These operations, where we have some variable which is building up a result,\n",
    "and the result is updated with some operation, can be gathered together as a\n",
    "functional program, taking in the operation to be used to combine results as an\n",
    "argument:"
   ]
  },
  {
   "cell_type": "code",
   "execution_count": 24,
   "metadata": {
    "collapsed": false
   },
   "outputs": [
    {
     "name": "stdout",
     "output_type": "stream",
     "text": [
      "10\n",
      "10\n"
     ]
    }
   ],
   "source": [
    "def accumulate(initial, operation, data):\n",
    "    accumulator=initial\n",
    "    for x in data:\n",
    "        accumulator=operation(accumulator, x)\n",
    "    return accumulator\n",
    "\n",
    "def my_sum(data):\n",
    "    def _add(a,b):\n",
    "        return a+b\n",
    "    return accumulate(0, _add, data)\n",
    "\n",
    "print my_sum(range(5))\n",
    "\n",
    "def bigger(a,b):\n",
    "    if b>a:\n",
    "        return b\n",
    "    return a\n",
    "\n",
    "def my_max(data):\n",
    "    return accumulate(sys.float_info.min, bigger, data)\n",
    "\n",
    "print my_max([2,5,10,-11,-5])"
   ]
  },
  {
   "cell_type": "markdown",
   "metadata": {},
   "source": [
    "\n",
    "\n",
    "Now, because these operations, _bigger, and _add, are such that e.g. (a+b)+c = a+(b+c) , i.e. they are **associative**, we could apply our accumulation\n",
    "to the left half and the right half of the array, each on a different computer, and then combine the two halves:\n",
    "\n",
    "1+2+3+4=(1+2)+(3+4)\n",
    "\n",
    "Indeed, with a bigger array, we can divide-and-conquer more times:\n",
    "\n",
    "1+2+3+4+5+6+7+8=((1+2)+(3+4))+((5+6)+(7+8))\n",
    "\n",
    "So with enough parallel computers, we could do this operation on eight numbers\n",
    "in three steps: first, we use four computers to do one  each of the pairwise\n",
    "adds.\n",
    "\n",
    "Then, we use two computers to add the four totals.\n",
    "\n",
    "Then, we use one of the computers to do the final add of the two last numbers.\n",
    "\n",
    "You might be able to do the maths to see that with an N element list, the\n",
    "number of such steps is proportional to the logarithm of N.\n",
    "\n",
    "We say that with enough computers, reduction operations are O(ln N)\n",
    "\n",
    "This course isn't an introduction to algorithms, but we'll talk more about this\n",
    "O() notation when we think about programming for performance.\n",
    "\n",
    "Anyway, this accumulate-under-an-operation process, is so fundamental to\n",
    "computing that it's usually in standard libraries for languages which allow\n",
    "functional programming:\n",
    "\n",
    "\n"
   ]
  },
  {
   "cell_type": "code",
   "execution_count": 26,
   "metadata": {
    "collapsed": false
   },
   "outputs": [
    {
     "data": {
      "text/plain": [
       "10"
      ]
     },
     "execution_count": 26,
     "metadata": {},
     "output_type": "execute_result"
    }
   ],
   "source": [
    "from functools import reduce\n",
    "\n",
    "def my_max(data):\n",
    "    return reduce(bigger,data,sys.float_info.min)\n",
    "\n",
    "my_max([2,5,10,-11,-5])"
   ]
  },
  {
   "cell_type": "markdown",
   "metadata": {},
   "source": [
    "## Lambda Functions"
   ]
  },
  {
   "cell_type": "markdown",
   "metadata": {},
   "source": [
    "\n",
    "\n",
    "When doing functional programming, we often want to be able to define a function on the fly:\n",
    "\n",
    "\n"
   ]
  },
  {
   "cell_type": "code",
   "execution_count": 27,
   "metadata": {
    "collapsed": false
   },
   "outputs": [
    {
     "data": {
      "text/plain": [
       "4"
      ]
     },
     "execution_count": 27,
     "metadata": {},
     "output_type": "execute_result"
    }
   ],
   "source": [
    "def most_Cs_in_any_sequence(sequences):\n",
    "    def count_Cs(sequence):\n",
    "        return sequence.count('C')\n",
    "    counts=map(count_Cs, sequences)\n",
    "    return max(counts)\n",
    "\n",
    "def most_Gs_in_any_sequence(sequences):\n",
    "    return max(map(lambda sequence: sequence.count('G'),sequences))\n",
    "\n",
    "data=[\n",
    "    \"CGTA\",\n",
    "    \"CGGGTAAACG\",\n",
    "    \"GATTACA\"\n",
    "]\n",
    "\n",
    "most_Gs_in_any_sequence(data)"
   ]
  },
  {
   "cell_type": "markdown",
   "metadata": {},
   "source": [
    "\n",
    "\n",
    "The syntax here is that these two definitions are identical:\n",
    "\n",
    "\n"
   ]
  },
  {
   "cell_type": "code",
   "execution_count": 28,
   "metadata": {
    "collapsed": false
   },
   "outputs": [],
   "source": [
    "func_name=lambda a,b,c : a+b+c\n",
    "\n",
    "def func_name(a,b,c):\n",
    "    a+b+c"
   ]
  },
  {
   "cell_type": "markdown",
   "metadata": {},
   "source": [
    "\n",
    "\n",
    "\n",
    "lambda defines an \"anonymous\" function.\n",
    "\n",
    "\n"
   ]
  },
  {
   "cell_type": "code",
   "execution_count": 29,
   "metadata": {
    "collapsed": false
   },
   "outputs": [
    {
     "data": {
      "text/plain": [
       "3"
      ]
     },
     "execution_count": 29,
     "metadata": {},
     "output_type": "execute_result"
    }
   ],
   "source": [
    "def most_of_given_base_in_any_sequence(sequences, base):\n",
    "    return max(map(lambda sequence: sequence.count(base), sequences))\n",
    "\n",
    "most_of_given_base_in_any_sequence(data,'A')"
   ]
  },
  {
   "cell_type": "markdown",
   "metadata": {},
   "source": [
    "\n",
    "\n",
    "The above fragment defined a lambda function as a **closure** over `base`. If you understood that, you've got it! \n",
    "\n",
    "\n"
   ]
  },
  {
   "cell_type": "code",
   "execution_count": 30,
   "metadata": {
    "collapsed": false
   },
   "outputs": [
    {
     "data": {
      "text/plain": [
       "10"
      ]
     },
     "execution_count": 30,
     "metadata": {},
     "output_type": "execute_result"
    }
   ],
   "source": [
    "def my_max(data): return reduce(lambda a,b: a if a>b else b, data,\n",
    "        sys.float_info.min)\n",
    "\n",
    "my_max([2,5,10,-11,-5])"
   ]
  },
  {
   "cell_type": "markdown",
   "metadata": {},
   "source": [
    "## Using functional programming for numerical methods"
   ]
  },
  {
   "cell_type": "markdown",
   "metadata": {},
   "source": [
    "\n",
    "Probably the most common use in research computing for functional programming\n",
    "is the application of a numerical method to a function. For example:\n"
   ]
  },
  {
   "cell_type": "code",
   "execution_count": null,
   "metadata": {
    "collapsed": false
   },
   "outputs": [],
   "source": [
    "% matplotlib inline"
   ]
  },
  {
   "cell_type": "markdown",
   "metadata": {},
   "source": [
    "\n",
    "\n",
    "\n"
   ]
  },
  {
   "cell_type": "code",
   "execution_count": 31,
   "metadata": {
    "collapsed": false
   },
   "outputs": [
    {
     "name": "stdout",
     "output_type": "stream",
     "text": [
      "1.0 -3.44190514264e-21\n"
     ]
    },
    {
     "data": {
      "text/plain": [
       "[<matplotlib.lines.Line2D at 0x113ba6e50>,\n",
       " <matplotlib.lines.Line2D at 0x113bb7110>]"
      ]
     },
     "execution_count": 31,
     "metadata": {},
     "output_type": "execute_result"
    }
   ],
   "source": [
    "from scipy.optimize import newton\n",
    "from numpy import linspace, zeros\n",
    "from matplotlib import pyplot as plt\n",
    "solve_me=lambda x: x**2-x\n",
    "\n",
    "print newton(solve_me, 2), newton(solve_me,0.2)\n",
    "\n",
    "xs=linspace(-1,2,50)\n",
    "solved=[xs,map(solve_me,xs),xs,zeros(50)]\n",
    "plt.plot(*solved)"
   ]
  },
  {
   "cell_type": "markdown",
   "metadata": {},
   "source": [
    "\n",
    "\n",
    "\n",
    "Sometimes such tools return another function:\n",
    "\n",
    "\n"
   ]
  },
  {
   "cell_type": "code",
   "execution_count": 32,
   "metadata": {
    "collapsed": false
   },
   "outputs": [
    {
     "name": "stdout",
     "output_type": "stream",
     "text": [
      "0.495\n"
     ]
    }
   ],
   "source": [
    "def derivative(func, eps):\n",
    "    def _func_derived(x):\n",
    "        return (func(x+eps)-func(x))/eps\n",
    "    return _func_derived\n",
    "\n",
    "derived=(xs,map(solve_me,xs),xs,map(derivative(solve_me,0.01),xs))\n",
    "plt.plot(*derived)\n",
    "print newton(derivative(solve_me,0.01),0)"
   ]
  },
  {
   "cell_type": "markdown",
   "metadata": {},
   "source": [
    "Of course, coding your own numerical methods is bad:"
   ]
  },
  {
   "cell_type": "code",
   "execution_count": 33,
   "metadata": {
    "collapsed": false
   },
   "outputs": [
    {
     "data": {
      "text/plain": [
       "0.5"
      ]
     },
     "execution_count": 33,
     "metadata": {},
     "output_type": "execute_result"
    }
   ],
   "source": [
    "import scipy.misc\n",
    "\n",
    "def derivative(func):\n",
    "    def _func_derived(x):\n",
    "        return scipy.misc.derivative(solve_me,x)\n",
    "    return _func_derived\n",
    "\n",
    "newton(derivative(solve_me),0)"
   ]
  },
  {
   "cell_type": "markdown",
   "metadata": {},
   "source": [
    "\n",
    "\n",
    "If you've done a moderate amount of calculus, then you'll find similarities\n",
    "between functional programming in computer science and Functionals in the\n",
    "calculus of variations.\n",
    "\n"
   ]
  }
 ],
 "metadata": {
  "jekyll": {
   "display_name": "Functional Programming"
  },
  "kernelspec": {
   "display_name": "Python 2",
   "language": "python",
   "name": "python2"
  },
  "language_info": {
   "codemirror_mode": {
    "name": "ipython",
    "version": 2
   },
   "file_extension": ".py",
   "mimetype": "text/x-python",
   "name": "python",
   "nbconvert_exporter": "python",
   "pygments_lexer": "ipython2",
   "version": "2.7.10"
  }
 },
 "nbformat": 4,
 "nbformat_minor": 0
}
