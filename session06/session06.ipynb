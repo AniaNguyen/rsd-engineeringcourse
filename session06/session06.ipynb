{
    "metadata": {
        "name": null
    }, 
    "nbformat": 3, 
    "nbformat_minor": 0, 
    "worksheets": [
        {
            "cells": [
                {
                    "cell_type": "markdown", 
                    "metadata": {}, 
                    "source": [
                        "\n\n---\ntitle: Research Software Engineering with Python\nauthor: James Hetherington and Matt Clarkson\n---\n"
                    ]
                }, 
                {
                    "cell_type": "heading", 
                    "level": 2, 
                    "metadata": {}, 
                    "source": [
                        "Design"
                    ]
                }, 
                {
                    "cell_type": "markdown", 
                    "metadata": {}, 
                    "source": [
                        ""
                    ]
                }, 
                {
                    "cell_type": "heading", 
                    "level": 3, 
                    "metadata": {}, 
                    "source": [
                        "Design"
                    ]
                }, 
                {
                    "cell_type": "markdown", 
                    "metadata": {}, 
                    "source": [
                        "\nIn this session, we will finally discuss the thing most people think of when they refer to \"Software Engineering\": the deliberate *design* of software.\nWe will discuss processes and methodologies for planned development of large-scale software projects: *Software Architecture*.\n\nThis lecture is available as an [IPython Notebook](http://nbviewer.ipython.org/url/development.rc.ucl.ac.uk/training/engineering/session06/../python/session06.ipynb)\n"
                    ]
                }, 
                {
                    "cell_type": "heading", 
                    "level": 3, 
                    "metadata": {}, 
                    "source": [
                        "Object-Oriented Design"
                    ]
                }, 
                {
                    "cell_type": "markdown", 
                    "metadata": {}, 
                    "source": [
                        "\nThe software engineering community has, in large part, focused on an object-oriented approach to the design and development of large scale software systems.\nThe basic concepts of object orientation are necessary to follow much of the software engineering conversation.\n"
                    ]
                }, 
                {
                    "cell_type": "heading", 
                    "level": 3, 
                    "metadata": {}, 
                    "source": [
                        "Design processes"
                    ]
                }, 
                {
                    "cell_type": "markdown", 
                    "metadata": {}, 
                    "source": [
                        "\nIn addition to object-oriented architecture, software engineers have focused on the development of processes for robust, reliable software development. \nThese codified ways of working hope to enable organisations to repeatably and reliably complete complex software projects in a way that minimises both development \nand maintainance costs, and meets user requirements.\n"
                    ]
                }, 
                {
                    "cell_type": "heading", 
                    "level": 3, 
                    "metadata": {}, 
                    "source": [
                        "Design and research"
                    ]
                }, 
                {
                    "cell_type": "markdown", 
                    "metadata": {}, 
                    "source": [
                        "\nSoftware engineering theory has largely been developed in the context of commercial software companies.\n\nThe extent to which the practices and processes developed for commercial software are applicable in a research context is itself an active area of research.\n\n"
                    ]
                }, 
                {
                    "cell_type": "heading", 
                    "level": 2, 
                    "metadata": {}, 
                    "source": [
                        "More on Objects"
                    ]
                }, 
                {
                    "cell_type": "markdown", 
                    "metadata": {}, 
                    "source": [
                        ""
                    ]
                }, 
                {
                    "cell_type": "heading", 
                    "level": 3, 
                    "metadata": {}, 
                    "source": [
                        "Object Based Programming Recap"
                    ]
                }, 
                {
                    "cell_type": "markdown", 
                    "metadata": {}, 
                    "source": [
                        "\nWe saw last lesson how to \n\n* create our own classes\n* store data with member variables\n* add functionality with member functions\n* initialise objects with constructors\n"
                    ]
                }, 
                {
                    "cell_type": "heading", 
                    "level": 3, 
                    "metadata": {}, 
                    "source": [
                        "Class design"
                    ]
                }, 
                {
                    "cell_type": "markdown", 
                    "metadata": {}, 
                    "source": [
                        "\nThe concepts we have introduced are common between different object oriented languages.\nThus, when we design our program using these concepts, we can think at an architectural level,\nindependent of language syntax.\n\n\n"
                    ]
                }, 
                {
                    "cell_type": "code", 
                    "collapsed": false, 
                    "input": [
                        "", 
                        "class Particle(object):", 
                        "    def __init__(self, position, velocity):", 
                        "       self.position=position", 
                        "       self.velocity=velocity", 
                        "    def move(self, delta_t):", 
                        "       self.position+= self.velocity*delta_t", 
                        ""
                    ], 
                    "language": "python", 
                    "metadata": {}, 
                    "outputs": [], 
                    "prompt_number": null
                }, 
                {
                    "cell_type": "markdown", 
                    "metadata": {}, 
                    "source": [
                        "\n\n"
                    ]
                }, 
                {
                    "cell_type": "raw", 
                    "metadata": {}, 
                    "source": [
                        "class Particle {\n    std::vector<double> position;\n    std::vector<double> velocity;\n    Particle(std::vector<double> position, std::vector<double> velocity);\n    void move(double delta_t);\n}"
                    ]
                }, 
                {
                    "cell_type": "markdown", 
                    "metadata": {}, 
                    "source": [
                        ""
                    ]
                }, 
                {
                    "cell_type": "raw", 
                    "metadata": {}, 
                    "source": [
                        "type particle\n    real :: position\n    real :: velocity\n  contains\n    procedure :: init\n    procedure :: move\nend type particle"
                    ]
                }, 
                {
                    "cell_type": "markdown", 
                    "metadata": {}, 
                    "source": [
                        ""
                    ]
                }, 
                {
                    "cell_type": "heading", 
                    "level": 3, 
                    "metadata": {}, 
                    "source": [
                        "UML"
                    ]
                }, 
                {
                    "cell_type": "markdown", 
                    "metadata": {}, 
                    "source": [
                        "\nUML is a conventional diagrammatic notation used to describe \"class structures\" and other higher level\naspects of software design.\n\nComputer scientists get worked up about formal correctness of UML diagrams and learning the conventions precisely.\nWorking programmers can still benefit from using UML to describe their designs.\n"
                    ]
                }, 
                {
                    "cell_type": "heading", 
                    "level": 3, 
                    "metadata": {}, 
                    "source": [
                        "UML for objects"
                    ]
                }, 
                {
                    "cell_type": "markdown", 
                    "metadata": {}, 
                    "source": [
                        "\nUML represents class members and methods like this:\n\n![Basic class UML](../figures/basic.png)\n\n(The above diagram is generated by the following:\n"
                    ]
                }, 
                {
                    "cell_type": "raw", 
                    "metadata": {}, 
                    "source": [
                        "http://yuml.me/diagram/boring/class/[Particle|position;velocity|move()]"
                    ]
                }, 
                {
                    "cell_type": "markdown", 
                    "metadata": {}, 
                    "source": [
                        "\nusing the [YUML](http://yuml.me/) online UML drawing tool.\n"
                    ]
                }, 
                {
                    "cell_type": "heading", 
                    "level": 2, 
                    "metadata": {}, 
                    "source": [
                        "Information Hiding"
                    ]
                }, 
                {
                    "cell_type": "markdown", 
                    "metadata": {}, 
                    "source": [
                        "\nSometimes, our design for a program would be broken if users start messing around with variables we don't want them to change.\n\nRobust class design requires consideration of which subroutines are intended for users to use, and which are internal.\nLanguages provide features to implement this: access control. \n\nIn python, we use leading underscores to control whether member variables and methods can be accessed from outside the class.\n\n\n"
                    ]
                }, 
                {
                    "cell_type": "code", 
                    "collapsed": false, 
                    "input": [
                        "", 
                        "class MyClass(object):", 
                        "    def __private_method(self): pass", 
                        "    def _private_method(self): pass", 
                        "    def public_method(self): pass", 
                        "", 
                        "#MyClass().__private_method() # Generates error", 
                        "MyClass()._private_method() # Works, but forbidden by convention", 
                        "MyClass().public_method() # OK", 
                        ""
                    ], 
                    "language": "python", 
                    "metadata": {}, 
                    "outputs": [], 
                    "prompt_number": null
                }, 
                {
                    "cell_type": "markdown", 
                    "metadata": {}, 
                    "source": [
                        "\n\n"
                    ]
                }, 
                {
                    "cell_type": "heading", 
                    "level": 3, 
                    "metadata": {}, 
                    "source": [
                        "Property accessors"
                    ]
                }, 
                {
                    "cell_type": "markdown", 
                    "metadata": {}, 
                    "source": [
                        "\nPython provides a mechanism to make functions appear to be variables. This can be used if you want to\nchange the way a class is implemented without changing the interface:\n\n\n"
                    ]
                }, 
                {
                    "cell_type": "code", 
                    "collapsed": false, 
                    "input": [
                        "", 
                        "class Person(object):", 
                        "    def __init__(self):", 
                        "        self.name = \"James Hetherington\"", 
                        "", 
                        "assert(Person().name == \"James Hetherington\")", 
                        ""
                    ], 
                    "language": "python", 
                    "metadata": {}, 
                    "outputs": [], 
                    "prompt_number": null
                }, 
                {
                    "cell_type": "markdown", 
                    "metadata": {}, 
                    "source": [
                        "\n\n\nbecomes:\n\n\n"
                    ]
                }, 
                {
                    "cell_type": "code", 
                    "collapsed": false, 
                    "input": [
                        "", 
                        "class Person(object):", 
                        "    def __init__(self):", 
                        "        self._first = \"James\"", 
                        "        self._second = \"Hetherington\"", 
                        "    @property", 
                        "    def name(self):", 
                        "        return self._first + \" \" + self._second", 
                        "", 
                        "assert(Person().name == \"James Hetherington\")", 
                        ""
                    ], 
                    "language": "python", 
                    "metadata": {}, 
                    "outputs": [], 
                    "prompt_number": null
                }, 
                {
                    "cell_type": "markdown", 
                    "metadata": {}, 
                    "source": [
                        "\n\n\nNote that the code behaves the same way to the outside user.\nThe implementation detail is hidden by private variables.\nIn languages without this feature, such as C++, it is best to always\nmake data private, and always\naccess data through functions:\n\n\n"
                    ]
                }, 
                {
                    "cell_type": "code", 
                    "collapsed": false, 
                    "input": [
                        "", 
                        "class Person(object):", 
                        "    def __init__(self):", 
                        "        self._name = \"James Hetherington\"", 
                        "    def name(self):", 
                        "        return self._name", 
                        "", 
                        "assert(Person().name() == \"James Hetherington\")", 
                        ""
                    ], 
                    "language": "python", 
                    "metadata": {}, 
                    "outputs": [], 
                    "prompt_number": null
                }, 
                {
                    "cell_type": "markdown", 
                    "metadata": {}, 
                    "source": [
                        "\n\n\nBut in Python this is unnecessary.\n"
                    ]
                }, 
                {
                    "cell_type": "heading", 
                    "level": 3, 
                    "metadata": {}, 
                    "source": [
                        "Class Members"
                    ]
                }, 
                {
                    "cell_type": "markdown", 
                    "metadata": {}, 
                    "source": [
                        "\n*Class*, or *static* members, belong to the class as a whole, and are shared between instances.\n\n\n"
                    ]
                }, 
                {
                    "cell_type": "code", 
                    "collapsed": false, 
                    "input": [
                        "", 
                        "class Counted(object):", 
                        "    number_created=0", 
                        "    def __init__(self):", 
                        "        Counted.number_created+=1", 
                        "    @classmethod", 
                        "    def howMany(cls):", 
                        "        return cls.number_created", 
                        "", 
                        "Counted.howMany() # 0", 
                        "x=Counted()", 
                        "Counted.howMany() # 1", 
                        "z=[Counted() for x in range(5)]", 
                        "Counted.howMany() # 6 ", 
                        ""
                    ], 
                    "language": "python", 
                    "metadata": {}, 
                    "outputs": [], 
                    "prompt_number": null
                }, 
                {
                    "cell_type": "markdown", 
                    "metadata": {}, 
                    "source": [
                        "\n\n"
                    ]
                }, 
                {
                    "cell_type": "heading", 
                    "level": 3, 
                    "metadata": {}, 
                    "source": [
                        "Object-based vs Object-Oriented"
                    ]
                }, 
                {
                    "cell_type": "markdown", 
                    "metadata": {}, 
                    "source": [
                        "\nSo far we have seen only object-based programming, not object-oriented programming.\n\nUsing Objects doesn't mean your code is object-oriented.\n\nTo understand object-oriented programming, we need to introduce **polymorphism** and **inheritance**.\n"
                    ]
                }, 
                {
                    "cell_type": "heading", 
                    "level": 2, 
                    "metadata": {}, 
                    "source": [
                        "Inheritance"
                    ]
                }, 
                {
                    "cell_type": "markdown", 
                    "metadata": {}, 
                    "source": [
                        "\n* Inheritance allows related classes to share code\n* Inheritance allows a program to reflect the *ontology* of kinds of thing in a program.\n"
                    ]
                }, 
                {
                    "cell_type": "heading", 
                    "level": 3, 
                    "metadata": {}, 
                    "source": [
                        "Ontology and inheritance"
                    ]
                }, 
                {
                    "cell_type": "markdown", 
                    "metadata": {}, 
                    "source": [
                        "\n* A bird is a kind of animal\n* An eagle is a kind of bird\n* A starling is also a kind of bird\n\n* All animals can be born and die\n* Only birds can fly (Ish.)\n* Only eagles hunt\n* Only starlings flock\n"
                    ]
                }, 
                {
                    "cell_type": "heading", 
                    "level": 3, 
                    "metadata": {}, 
                    "source": [
                        "Inheritance in python"
                    ]
                }, 
                {
                    "cell_type": "markdown", 
                    "metadata": {}, 
                    "source": [
                        "\n\n"
                    ]
                }, 
                {
                    "cell_type": "code", 
                    "collapsed": false, 
                    "input": [
                        "", 
                        "class Animal(object):", 
                        "    def beBorn(self): print \"I exist\"", 
                        "    def die(self): print \"Argh!\"", 
                        "", 
                        "class Bird(Animal):", 
                        "    def fly(self): print \"Whee!\"", 
                        "", 
                        "class Eagle(Bird):", 
                        "    def hunt(self): print \"I'm gonna eatcha!\"", 
                        "", 
                        "Eagle().beBorn()", 
                        "Eagle().hunt()", 
                        ""
                    ], 
                    "language": "python", 
                    "metadata": {}, 
                    "outputs": [], 
                    "prompt_number": null
                }, 
                {
                    "cell_type": "markdown", 
                    "metadata": {}, 
                    "source": [
                        "\n\n"
                    ]
                }, 
                {
                    "cell_type": "heading", 
                    "level": 3, 
                    "metadata": {}, 
                    "source": [
                        "Inheritance terminology"
                    ]
                }, 
                {
                    "cell_type": "markdown", 
                    "metadata": {}, 
                    "source": [
                        "\n* A *derived class* _derives_ from a *base class*\n* A *subclass* _inherits_ from a *superclass*\n\n(These are different terms for the same thing.)\n\n* Eagle is a subclass of the Animal superclass.\n* Animal is the base class of the Eagle derived class\n"
                    ]
                }, 
                {
                    "cell_type": "heading", 
                    "level": 3, 
                    "metadata": {}, 
                    "source": [
                        "Inheritance and constructors"
                    ]
                }, 
                {
                    "cell_type": "markdown", 
                    "metadata": {}, 
                    "source": [
                        "\n\n"
                    ]
                }, 
                {
                    "cell_type": "code", 
                    "collapsed": false, 
                    "input": [
                        "", 
                        "class Animal(object):", 
                        "    def __init__(self, age):", 
                        "        self.age=age", 
                        "", 
                        "class Person(Animal):", 
                        "    def __init__(self, age, name):", 
                        "        super(Person, self).__init__(age)", 
                        "        self.name=name", 
                        ""
                    ], 
                    "language": "python", 
                    "metadata": {}, 
                    "outputs": [], 
                    "prompt_number": null
                }, 
                {
                    "cell_type": "markdown", 
                    "metadata": {}, 
                    "source": [
                        "\n\n"
                    ]
                }, 
                {
                    "cell_type": "heading", 
                    "level": 3, 
                    "metadata": {}, 
                    "source": [
                        "Inheritance UML diagrams"
                    ]
                }, 
                {
                    "cell_type": "markdown", 
                    "metadata": {}, 
                    "source": [
                        "\nUML shows inheritance with an open triangular arrow pointing from subclass to superclass.\n\n![Bird inheritance diagram](../figures/inheritance.png)\n"
                    ]
                }, 
                {
                    "cell_type": "heading", 
                    "level": 3, 
                    "metadata": {}, 
                    "source": [
                        "Aggregation vs Inheritance"
                    ]
                }, 
                {
                    "cell_type": "markdown", 
                    "metadata": {}, 
                    "source": [
                        "\nIf one object *has* or *owns* one or more objects, this is *not* inheritance.\n\nFor example, in my solution to the Boids task from last week, the overal Model owned several Boids,\nand each Boid owned two 2-vectors, one for position and one for velocity.\n"
                    ]
                }, 
                {
                    "cell_type": "heading", 
                    "level": 3, 
                    "metadata": {}, 
                    "source": [
                        "Aggregation in UML"
                    ]
                }, 
                {
                    "cell_type": "markdown", 
                    "metadata": {}, 
                    "source": [
                        "\nThe Boids situation can be represented thus:\n\n![Boid aggregation diagram](../figures/aggregation.png)\n\nThe open diamond indicates **Aggregation**, the closed diamond **composition**.\n(A given boid might belong to multiple models, a given position vector is forever part of the corresponding Boid.)\n\nThe asterisk represents cardinality, a model may contain multiple Boids.\n"
                    ]
                }, 
                {
                    "cell_type": "heading", 
                    "level": 3, 
                    "metadata": {}, 
                    "source": [
                        "Refactoring to inheritance"
                    ]
                }, 
                {
                    "cell_type": "markdown", 
                    "metadata": {}, 
                    "source": [
                        "\nSmell: Repeated code between two classes which are both ontologically subtypes of something\n\nBefore:\n\n\n"
                    ]
                }, 
                {
                    "cell_type": "code", 
                    "collapsed": false, 
                    "input": [
                        "", 
                        "class Person(object):", 
                        "    def __init__(self, age, job): ", 
                        "        self.age = age", 
                        "        self.job = job", 
                        "    def birthday(self): ", 
                        "        self.age += 1", 
                        "", 
                        "class Pet(object):", 
                        "    def __init__(self, age, owner): ", 
                        "        self.age = age", 
                        "        self.owner = owner", 
                        "    def birthday(self): ", 
                        "        self.age += 1", 
                        ""
                    ], 
                    "language": "python", 
                    "metadata": {}, 
                    "outputs": [], 
                    "prompt_number": null
                }, 
                {
                    "cell_type": "markdown", 
                    "metadata": {}, 
                    "source": [
                        "\n\n\nAfter:\n\n\n"
                    ]
                }, 
                {
                    "cell_type": "code", 
                    "collapsed": false, 
                    "input": [
                        "", 
                        "class Animal(object):", 
                        "    def __init__(self, age): ", 
                        "        self.age = age", 
                        "    def birthday(self): ", 
                        "        self.age += 1", 
                        "", 
                        "class Person(Animal):", 
                        "    def __init__(self, age, job):", 
                        "        self.job = job", 
                        "        super(Person, self).__init__(age)", 
                        ""
                    ], 
                    "language": "python", 
                    "metadata": {}, 
                    "outputs": [], 
                    "prompt_number": null
                }, 
                {
                    "cell_type": "markdown", 
                    "metadata": {}, 
                    "source": [
                        "\n\n"
                    ]
                }, 
                {
                    "cell_type": "heading", 
                    "level": 2, 
                    "metadata": {}, 
                    "source": [
                        "Polymorphism"
                    ]
                }, 
                {
                    "cell_type": "markdown", 
                    "metadata": {}, 
                    "source": [
                        ""
                    ]
                }, 
                {
                    "cell_type": "heading", 
                    "level": 3, 
                    "metadata": {}, 
                    "source": [
                        "Polymorphism"
                    ]
                }, 
                {
                    "cell_type": "markdown", 
                    "metadata": {}, 
                    "source": [
                        "\n\n"
                    ]
                }, 
                {
                    "cell_type": "code", 
                    "collapsed": false, 
                    "input": [
                        "", 
                        "class Dog(object):", 
                        "    def noise(self):", 
                        "        return \"Bark\"", 
                        "", 
                        "class Cat(object):", 
                        "    def noise(self):", 
                        "        return \"Miaow\"", 
                        "", 
                        "class Pig(object):", 
                        "    def noise(self): return \"Oink\"", 
                        "", 
                        "class Cow(object):", 
                        "    def noise(self): return \"Moo\"", 
                        "", 
                        "animals=[Dog(), Dog(), Cat(), Pig(), Cow(), Cat()]", 
                        "for animal in animals:", 
                        "    print animal.noise()", 
                        ""
                    ], 
                    "language": "python", 
                    "metadata": {}, 
                    "outputs": [], 
                    "prompt_number": null
                }, 
                {
                    "cell_type": "markdown", 
                    "metadata": {}, 
                    "source": [
                        "\n\n\nThis will print \"Bark Bark Miaow Oink Moo Miaow\"\n\nIf two classes support the same method, but it does different things for the two classes, \nthen if an object is of an unknown class, calling the method will invoke the version for\nwhatever class the instance is an instance of.\n"
                    ]
                }, 
                {
                    "cell_type": "heading", 
                    "level": 3, 
                    "metadata": {}, 
                    "source": [
                        "Polymorphism and Inheritance"
                    ]
                }, 
                {
                    "cell_type": "markdown", 
                    "metadata": {}, 
                    "source": [
                        "\nOften, polymorphism uses multiple derived classes with a common base class.\nHowever, duck typing in Python means that all that is required is that the \ntypes support a common **Concept** (Such as iterable, or container, or, in this case, the\nNoisy concept.)\n\nA common base class is used where there is a likely **default** that you want several\nof the derived classes to have.\n\n\n"
                    ]
                }, 
                {
                    "cell_type": "code", 
                    "collapsed": false, 
                    "input": [
                        "", 
                        "class Animal(object):", 
                        "    def noise(self): return \"I don't make a noise.\"", 
                        "", 
                        "class Dog(Animal):", 
                        "    def noise(self): return \"Bark\"", 
                        "", 
                        "class Worm(Animal):", 
                        "    pass", 
                        "", 
                        "class Poodle(Animal):", 
                        "    pass", 
                        "", 
                        "animals=[Dog(), Worm(), Pig(), Cow(), Poodle()]", 
                        "for animal in animals:", 
                        "    print animal.noise()", 
                        ""
                    ], 
                    "language": "python", 
                    "metadata": {}, 
                    "outputs": [], 
                    "prompt_number": null
                }, 
                {
                    "cell_type": "markdown", 
                    "metadata": {}, 
                    "source": [
                        "\n\n"
                    ]
                }, 
                {
                    "cell_type": "heading", 
                    "level": 3, 
                    "metadata": {}, 
                    "source": [
                        "Undefined Functions and Polymorphism"
                    ]
                }, 
                {
                    "cell_type": "markdown", 
                    "metadata": {}, 
                    "source": [
                        "\nIn the above example, we put in a dummy noise for Animals that don't know what type they are.\n\nInstead, we can explicitly deliberately leave this undefined, and we get a crash if we access an undefined method.\n\n\n"
                    ]
                }, 
                {
                    "cell_type": "code", 
                    "collapsed": false, 
                    "input": [
                        "", 
                        "class Animal(object): pass", 
                        "", 
                        "class Worm(Animal): pass", 
                        "", 
                        "# Worm().noise() # Generates error", 
                        ""
                    ], 
                    "language": "python", 
                    "metadata": {}, 
                    "outputs": [], 
                    "prompt_number": null
                }, 
                {
                    "cell_type": "markdown", 
                    "metadata": {}, 
                    "source": [
                        "\n\n"
                    ]
                }, 
                {
                    "cell_type": "heading", 
                    "level": 3, 
                    "metadata": {}, 
                    "source": [
                        "Refactoring to Polymorphism"
                    ]
                }, 
                {
                    "cell_type": "markdown", 
                    "metadata": {}, 
                    "source": [
                        "\nSmell: a function uses a big set of `if` statements or a `case` statement to decide what to do:\n\nBefore:\n\n\n"
                    ]
                }, 
                {
                    "cell_type": "code", 
                    "collapsed": false, 
                    "input": [
                        "", 
                        "class Animal(object):", 
                        "    def __init__(self,type): self.type=type", 
                        "    def noise(self): ", 
                        "        if self.type==\"Dog\":", 
                        "            return \"Bark\"", 
                        "        elif self.type==\"Cat\":", 
                        "            return \"Miaow\"", 
                        "        elif self.type==\"Cow\":", 
                        "            return \"Moo\"", 
                        ""
                    ], 
                    "language": "python", 
                    "metadata": {}, 
                    "outputs": [], 
                    "prompt_number": null
                }, 
                {
                    "cell_type": "markdown", 
                    "metadata": {}, 
                    "source": [
                        "\n\n\nwhich is better replaced by the code above.\n"
                    ]
                }, 
                {
                    "cell_type": "heading", 
                    "level": 3, 
                    "metadata": {}, 
                    "source": [
                        "Interfaces and concepts"
                    ]
                }, 
                {
                    "cell_type": "markdown", 
                    "metadata": {}, 
                    "source": [
                        "\nIn C++, it is common to define classes which declare dummy methods, called \"virtual\" methods, which specify\nthe methods which derived classes must implement. Classes which define these methods, which cannot be instantiated\ninto actual objects, are called \"abstract base\" classes or \"interfaces\".\n\nPython's Duck Typing approach means explicitly declaring these is unnesssary: any class concept which implements\nappropriately named methods will do. These as user-defined **concepts**, just as \"iterable\" or \"container\" are \nbuilt-in Python concepts. A class is said to \"implement and interface\" or \"satisfy a concept\".\n"
                    ]
                }, 
                {
                    "cell_type": "heading", 
                    "level": 3, 
                    "metadata": {}, 
                    "source": [
                        "Interfaces in UML"
                    ]
                }, 
                {
                    "cell_type": "markdown", 
                    "metadata": {}, 
                    "source": [
                        "\nInterfaces implementation in UML is indicated thus:\n\n![Interfaces in UML](../figures/interface.png)\n"
                    ]
                }, 
                {
                    "cell_type": "heading", 
                    "level": 3, 
                    "metadata": {}, 
                    "source": [
                        "Further UML"
                    ]
                }, 
                {
                    "cell_type": "markdown", 
                    "metadata": {}, 
                    "source": [
                        "\nUML is a much larger diagram language than the aspects we've shown here.\n\n* Message sequence charts show signals passing back and forth between objects ([Web Sequence Diagrams](https://www.websequencediagrams.com/))\n\n* Entity Relationship Diagrams can be used to show more general relationships between things in a system\n\n\n\n\n"
                    ]
                }, 
                {
                    "cell_type": "heading", 
                    "level": 2, 
                    "metadata": {}, 
                    "source": [
                        "Patterns"
                    ]
                }, 
                {
                    "cell_type": "markdown", 
                    "metadata": {}, 
                    "source": [
                        ""
                    ]
                }, 
                {
                    "cell_type": "heading", 
                    "level": 3, 
                    "metadata": {}, 
                    "source": [
                        "Class Complexity"
                    ]
                }, 
                {
                    "cell_type": "markdown", 
                    "metadata": {}, 
                    "source": [
                        "\nWe've seen that using object orientation can produce quite complex class structures, with classes owning each other, instantiating each other,\nand inheriting from each other.\n\nThere are lots of different ways to design things, and decisions to make.\n\n> Should I inherit from this class, or own it as a member variable? (\"is a\" vs \"has a\")\n"
                    ]
                }, 
                {
                    "cell_type": "heading", 
                    "level": 3, 
                    "metadata": {}, 
                    "source": [
                        "Design Patterns"
                    ]
                }, 
                {
                    "cell_type": "markdown", 
                    "metadata": {}, 
                    "source": [
                        "\nProgrammers have noticed that there are certain ways of arranging classes that work better than others.\n\nThese are called \"design patterns\".\n\nThey were first collected on one of the [world's first Wikis](http://c2.com/cgi/wiki?WelcomeVisitors), \nas the [Portland Pattern Repository](http://c2.com/cgi-bin/wiki?PatternIndex)\n"
                    ]
                }, 
                {
                    "cell_type": "heading", 
                    "level": 3, 
                    "metadata": {}, 
                    "source": [
                        "Reading a pattern"
                    ]
                }, 
                {
                    "cell_type": "markdown", 
                    "metadata": {}, 
                    "source": [
                        "\nA description of a pattern in a book such as the [Gang Of Four](http://www.amazon.co.uk/Design-patterns-elements-reusable-object-oriented/dp/0201633612)\nbook usually includes:\n\n* Intent\n* Motivation\n* Applicability\n* Structure\n* Participants\n* Collaborations\n* Consequences\n* Implementation\n* Sample Code\n"
                    ]
                }, 
                {
                    "cell_type": "heading", 
                    "level": 3, 
                    "metadata": {}, 
                    "source": [
                        "Introducing Some Patterns"
                    ]
                }, 
                {
                    "cell_type": "markdown", 
                    "metadata": {}, 
                    "source": [
                        "\nThere are lots and lots of design patterns, and it's a great literature to get into to\nread about design questions in programming and learn from other people's experience.\n\nWe'll just show a few in this session:\n\n* Factory Method\n* Builder\n* Handle-Body\n* Strategy\n"
                    ]
                }, 
                {
                    "cell_type": "heading", 
                    "level": 2, 
                    "metadata": {}, 
                    "source": [
                        "Factory Pattern"
                    ]
                }, 
                {
                    "cell_type": "markdown", 
                    "metadata": {}, 
                    "source": [
                        ""
                    ]
                }, 
                {
                    "cell_type": "heading", 
                    "level": 3, 
                    "metadata": {}, 
                    "source": [
                        "Factory Pattern"
                    ]
                }, 
                {
                    "cell_type": "markdown", 
                    "metadata": {}, 
                    "source": [
                        "\nHere's what the Gang of Four Book says about Factory Method:\n\nIntent:  Define an interface for creating an object, but let subclasses decide which class to instantiate.\nFactory Method lets a class defer instantiation to subclasses.\n\nApplicability: Use the Factory method pattern when:\n\n* A class can't anticipate the class of objects it must create\n* A class wants its subclasses to specify the objects it creates\n\nThis is pretty hard to understand, so let's look at an example.\n"
                    ]
                }, 
                {
                    "cell_type": "heading", 
                    "level": 3, 
                    "metadata": {}, 
                    "source": [
                        "Factory UML"
                    ]
                }, 
                {
                    "cell_type": "markdown", 
                    "metadata": {}, 
                    "source": [
                        "\n![Structure](../figures/factory.png)\n"
                    ]
                }, 
                {
                    "cell_type": "heading", 
                    "level": 3, 
                    "metadata": {}, 
                    "source": [
                        "Factory Example"
                    ]
                }, 
                {
                    "cell_type": "markdown", 
                    "metadata": {}, 
                    "source": [
                        "\nAn \"agent based model\" is one like the Boids model from last week:\nagents act and interact under certain rules. Complex phenomena can be described by simple\nagent behaviours.\n\n\n"
                    ]
                }, 
                {
                    "cell_type": "code", 
                    "collapsed": false, 
                    "input": [
                        "", 
                        "class AgentModel(object):", 
                        "  def simulate(self):", 
                        "    for agent in agents:", 
                        "      for target in agents:", 
                        "        agent.interact(target)", 
                        "      agent.simulate()", 
                        ""
                    ], 
                    "language": "python", 
                    "metadata": {}, 
                    "outputs": [], 
                    "prompt_number": null
                }, 
                {
                    "cell_type": "markdown", 
                    "metadata": {}, 
                    "source": [
                        "\n\n"
                    ]
                }, 
                {
                    "cell_type": "heading", 
                    "level": 3, 
                    "metadata": {}, 
                    "source": [
                        "Agent model constructor"
                    ]
                }, 
                {
                    "cell_type": "markdown", 
                    "metadata": {}, 
                    "source": [
                        "\nThis logic is common to many kinds of Agent based model, so we can imagine a common class\nfor agent based models: the constructor could parse a configuration specifying how many agents of each type to create,\ntheir initial conditions and so on.\n\nHowever, this common constructor doesn't know what kind of agent to create; as a common base, it could be a model of boids,\nor the agents could be remote agents on foreign servers, or they could even be physical hardware robots connected to the driving model\nover Wifi!\n\nWe need to defer the construction of the agents. We can do this with polymorphism: each derived class of the ABM can have an appropriate\nmethod to create its agents:\n\n\n"
                    ]
                }, 
                {
                    "cell_type": "code", 
                    "collapsed": false, 
                    "input": [
                        "", 
                        "class AgentModel(object):", 
                        "  def __init__(self, config):", 
                        "    self.agents=[]", 
                        "    for agent_config in config:", 
                        "      self.agents.append(self.create(**agent_config))", 
                        ""
                    ], 
                    "language": "python", 
                    "metadata": {}, 
                    "outputs": [], 
                    "prompt_number": null
                }, 
                {
                    "cell_type": "markdown", 
                    "metadata": {}, 
                    "source": [
                        "\n\n\nThis is the *factory method* pattern: a common design solution to the need to defer the construction of daughter objects to a derived class.\n"
                    ]
                }, 
                {
                    "cell_type": "heading", 
                    "level": 3, 
                    "metadata": {}, 
                    "source": [
                        "Agent derived classes"
                    ]
                }, 
                {
                    "cell_type": "markdown", 
                    "metadata": {}, 
                    "source": [
                        "\n\n"
                    ]
                }, 
                {
                    "cell_type": "code", 
                    "collapsed": false, 
                    "input": [
                        "", 
                        "class BirdModel(AgentModel):", 
                        "  def create(self, species):", 
                        "    return Boid(species)", 
                        ""
                    ], 
                    "language": "python", 
                    "metadata": {}, 
                    "outputs": [], 
                    "prompt_number": null
                }, 
                {
                    "cell_type": "markdown", 
                    "metadata": {}, 
                    "source": [
                        "\n\n\nAgents are the base product, boids or robots are a ConcreteProduct.\n\n\n"
                    ]
                }, 
                {
                    "cell_type": "code", 
                    "collapsed": false, 
                    "input": [
                        "", 
                        "class WebAgentFactory(AgentModel):", 
                        "  def __init__(self, url):", 
                        "    self.url=url", 
                        "    connection=AmazonCompute.connect(url)", 
                        "    AgentModel.__init__(self)", 
                        "  def create(self, species):", 
                        "    return OnlineAnimal(species, connection)", 
                        ""
                    ], 
                    "language": "python", 
                    "metadata": {}, 
                    "outputs": [], 
                    "prompt_number": null
                }, 
                {
                    "cell_type": "markdown", 
                    "metadata": {}, 
                    "source": [
                        "\n\n\nThere is no need to define an explicit base interface for the \"Agent\" concept in Python: anything that responds to \"simulate\" and \"interact\" \nmethods will do: this is our Agent concept.\n"
                    ]
                }, 
                {
                    "cell_type": "heading", 
                    "level": 3, 
                    "metadata": {}, 
                    "source": [
                        "Refactoring to Patterns"
                    ]
                }, 
                {
                    "cell_type": "markdown", 
                    "metadata": {}, 
                    "source": [
                        "\nI personally have got into a terrible tangle trying to make base classes which somehow\n\"promote\" themselves into a derived class based on some code in the base class.\n\nThis is an example of an \"Antipattern\": like a Smell, this is a recognised Wrong Way\nof doing things.\n\nWhat I should have written was a Creator with a FactoryMethod.\n"
                    ]
                }, 
                {
                    "cell_type": "heading", 
                    "level": 2, 
                    "metadata": {}, 
                    "source": [
                        "Builder"
                    ]
                }, 
                {
                    "cell_type": "markdown", 
                    "metadata": {}, 
                    "source": [
                        "\n\n\n"
                    ]
                }, 
                {
                    "cell_type": "code", 
                    "collapsed": false, 
                    "input": [
                        "", 
                        "from mock import Mock", 
                        ""
                    ], 
                    "language": "python", 
                    "metadata": {}, 
                    "outputs": [], 
                    "prompt_number": null
                }, 
                {
                    "cell_type": "markdown", 
                    "metadata": {}, 
                    "source": [
                        "\n\n\n"
                    ]
                }, 
                {
                    "cell_type": "heading", 
                    "level": 3, 
                    "metadata": {}, 
                    "source": [
                        "Builder Pattern"
                    ]
                }, 
                {
                    "cell_type": "markdown", 
                    "metadata": {}, 
                    "source": [
                        "\nIntent: Separate the steps for constructing a complex object from its final representation.\n\n![UML](../figures/builder.png)\n"
                    ]
                }, 
                {
                    "cell_type": "heading", 
                    "level": 3, 
                    "metadata": {}, 
                    "source": [
                        "Builder example"
                    ]
                }, 
                {
                    "cell_type": "markdown", 
                    "metadata": {}, 
                    "source": [
                        "\nLet's continue our Agent Based modelling example.\n\nThere's a lot more to defining a model than just adding agents of different kinds: we need to define boundary conditions,\nspecify wind speed or light conditions.\n\nWe could define all of this for an imagined advanced Model with a very very long constructor, with lots of optional arguments:\n\n\n"
                    ]
                }, 
                {
                    "cell_type": "code", 
                    "collapsed": false, 
                    "input": [
                        "", 
                        "class Model(object):", 
                        "    def __init__(self, xsize, ysize,", 
                        "                 agent_count, wind_speed,", 
                        "                 agent_sight_range, eagle_start_location):", 
                        "        pass", 
                        ""
                    ], 
                    "language": "python", 
                    "metadata": {}, 
                    "outputs": [], 
                    "prompt_number": null
                }, 
                {
                    "cell_type": "markdown", 
                    "metadata": {}, 
                    "source": [
                        "\n\n"
                    ]
                }, 
                {
                    "cell_type": "heading", 
                    "level": 3, 
                    "metadata": {}, 
                    "source": [
                        "Builder preferred to complex constructor"
                    ]
                }, 
                {
                    "cell_type": "markdown", 
                    "metadata": {}, 
                    "source": [
                        "\nHowever, long constructors easily become very complicated. Instead, it can be cleaner to define a Builder for models. A builder is like a \ndeferred factory: each step of the construction process is implemented as an individual method call, and the completed object\nis returned when the model is ready.\n\n\n\n"
                    ]
                }, 
                {
                    "cell_type": "code", 
                    "collapsed": false, 
                    "input": [
                        "", 
                        "Model=Mock()", 
                        ""
                    ], 
                    "language": "python", 
                    "metadata": {}, 
                    "outputs": [], 
                    "prompt_number": null
                }, 
                {
                    "cell_type": "markdown", 
                    "metadata": {}, 
                    "source": [
                        "\n\n\n\n"
                    ]
                }, 
                {
                    "cell_type": "code", 
                    "collapsed": false, 
                    "input": [
                        "", 
                        "class ModelBuilder(object):", 
                        "    def start_model(self):", 
                        "        self.model=Model()", 
                        "    def set_bounds(self, xlim, ylim):", 
                        "        self.model.xlim=xlim", 
                        "        self.model.ylim=ylim", 
                        "    def add_agent(self, xpos, ypos):", 
                        "        pass # Implementation here", 
                        "    def finish(self):", 
                        "        return self.model", 
                        ""
                    ], 
                    "language": "python", 
                    "metadata": {}, 
                    "outputs": [], 
                    "prompt_number": null
                }, 
                {
                    "cell_type": "markdown", 
                    "metadata": {}, 
                    "source": [
                        "\n\n\nInheritance of an Abstract Builder for multiple concrete builders could be used where there might be multiple ways to build models\nwith the same set of calls to the builder: for example a version of the model builder yielding models which can be executed\nin parallel on a remote cluster.\n"
                    ]
                }, 
                {
                    "cell_type": "heading", 
                    "level": 3, 
                    "metadata": {}, 
                    "source": [
                        "Using a builder"
                    ]
                }, 
                {
                    "cell_type": "markdown", 
                    "metadata": {}, 
                    "source": [
                        "\n\n"
                    ]
                }, 
                {
                    "cell_type": "code", 
                    "collapsed": false, 
                    "input": [
                        "", 
                        "builder=ModelBuilder()", 
                        "builder.start_model()", 
                        "builder.set_bounds(500,500)", 
                        "builder.add_agent(40,40)", 
                        "builder.add_agent(400,100)", 
                        "model=builder.finish()", 
                        "model.simulate()", 
                        ""
                    ], 
                    "language": "python", 
                    "metadata": {}, 
                    "outputs": [], 
                    "prompt_number": null
                }, 
                {
                    "cell_type": "markdown", 
                    "metadata": {}, 
                    "source": [
                        "\n\n"
                    ]
                }, 
                {
                    "cell_type": "heading", 
                    "level": 3, 
                    "metadata": {}, 
                    "source": [
                        "Avoid staged construction without a builder."
                    ]
                }, 
                {
                    "cell_type": "markdown", 
                    "metadata": {}, 
                    "source": [
                        "\nWe could, of course, just add all the building methods to the model itself, rather than having the model be yielded from a separate builder.\n\nThis is an antipattern that is often seen: a class whose `__init__` constructor alone is insufficient for it to be ready to use. A series of\nmethods must be called, in the right order, in order for it to be ready to use.\n\nThis results in very fragile code: its hard to keep track of whether an object instance is \"ready\" or not. Use of the builder pattern to\nkeep deferred construction in \n"
                    ]
                }, 
                {
                    "cell_type": "heading", 
                    "level": 3, 
                    "metadata": {}, 
                    "source": [
                        "Builder Message Sequence"
                    ]
                }, 
                {
                    "cell_type": "markdown", 
                    "metadata": {}, 
                    "source": [
                        "\n![MessageSequence](../figures/builder_seq.png)\n"
                    ]
                }, 
                {
                    "cell_type": "heading", 
                    "level": 2, 
                    "metadata": {}, 
                    "source": [
                        "Strategy"
                    ]
                }, 
                {
                    "cell_type": "markdown", 
                    "metadata": {}, 
                    "source": [
                        "\n\n\n\n\n"
                    ]
                }, 
                {
                    "cell_type": "code", 
                    "collapsed": false, 
                    "input": [
                        "", 
                        "from numpy import linspace,exp,log,sqrt, array", 
                        "import math", 
                        "from scipy.interpolate import UnivariateSpline", 
                        "from scipy.signal import lombscargle", 
                        "from scipy.integrate import cumtrapz", 
                        "from numpy.fft import rfft,fft,fftfreq", 
                        "import csv", 
                        "from StringIO import StringIO", 
                        "from datetime import datetime", 
                        "import requests", 
                        "import matplotlib.pyplot as plt", 
                        ""
                    ], 
                    "language": "python", 
                    "metadata": {}, 
                    "outputs": [], 
                    "prompt_number": null
                }, 
                {
                    "cell_type": "markdown", 
                    "metadata": {}, 
                    "source": [
                        "\n\n%matplotlib inline\n\n"
                    ]
                }, 
                {
                    "cell_type": "heading", 
                    "level": 2, 
                    "metadata": {}, 
                    "source": [
                        "Strategy Pattern"
                    ]
                }, 
                {
                    "cell_type": "markdown", 
                    "metadata": {}, 
                    "source": [
                        "\nDefine a family of algorithms, encapsulate each one, and make them interchangeable. \nStrategy lets the algorithm vary independently from clients that use it.\n"
                    ]
                }, 
                {
                    "cell_type": "heading", 
                    "level": 3, 
                    "metadata": {}, 
                    "source": [
                        "Strategy pattern example: sunspots"
                    ]
                }, 
                {
                    "cell_type": "markdown", 
                    "metadata": {}, 
                    "source": [
                        "\nConsider the sequence of sunspot observations:\n\n\n"
                    ]
                }, 
                {
                    "cell_type": "code", 
                    "collapsed": false, 
                    "input": [
                        "", 
                        "def load_sunspots():", 
                        "     url_base=\"http://www.quandl.com/api/v1/datasets/SIDC/SUNSPOTS_A.csv\"", 
                        "     x=requests.get(url_base,params={'trim_start':'1700-12-31',", 
                        "                                        'trim_end':'2014-01-01',", 
                        "                                        'sort_order':'asc'})", 
                        "     data=csv.reader(StringIO(x.text)) #Convert requests result to look ", 
                        "                                       #like a file buffer before ", 
                        "                                       # reading with CSV", 
                        "     data.next() # Skip header row", 
                        "     return [float(row[1]) for row in data]", 
                        ""
                    ], 
                    "language": "python", 
                    "metadata": {}, 
                    "outputs": [], 
                    "prompt_number": null
                }, 
                {
                    "cell_type": "markdown", 
                    "metadata": {}, 
                    "source": [
                        "\n\n\n"
                    ]
                }, 
                {
                    "cell_type": "code", 
                    "collapsed": false, 
                    "input": [
                        "spots=load_sunspots()", 
                        "plt.plot(spots)"
                    ], 
                    "language": "python", 
                    "metadata": {}, 
                    "outputs": [], 
                    "prompt_number": null
                }, 
                {
                    "cell_type": "markdown", 
                    "metadata": {}, 
                    "source": [
                        "\n"
                    ]
                }, 
                {
                    "cell_type": "heading", 
                    "level": 3, 
                    "metadata": {}, 
                    "source": [
                        "Sunspot cycle has periodicity"
                    ]
                }, 
                {
                    "cell_type": "markdown", 
                    "metadata": {}, 
                    "source": [
                        "\n\n"
                    ]
                }, 
                {
                    "cell_type": "code", 
                    "collapsed": false, 
                    "input": [
                        "", 
                        "spectrum=rfft(spots)", 
                        "", 
                        "### \"FFT figure\"", 
                        "plt.figure()", 
                        "plt.plot(abs(spectrum))", 
                        "plt.savefig('fixed.png')", 
                        ""
                    ], 
                    "language": "python", 
                    "metadata": {}, 
                    "outputs": [], 
                    "prompt_number": null
                }, 
                {
                    "cell_type": "markdown", 
                    "metadata": {}, 
                    "source": [
                        "\n\n\n"
                    ]
                }, 
                {
                    "cell_type": "code", 
                    "collapsed": false, 
                    "input": [
                        "plt.plot(spectrum)"
                    ], 
                    "language": "python", 
                    "metadata": {}, 
                    "outputs": [], 
                    "prompt_number": null
                }, 
                {
                    "cell_type": "markdown", 
                    "metadata": {}, 
                    "source": [
                        "\n"
                    ]
                }, 
                {
                    "cell_type": "heading", 
                    "level": 3, 
                    "metadata": {}, 
                    "source": [
                        "Years are not constant length"
                    ]
                }, 
                {
                    "cell_type": "markdown", 
                    "metadata": {}, 
                    "source": [
                        "\nThere's a potential problem with this analysis however:\n\n* Years are not constant length\n* Leap years exist\n* But, the Fast Fourier Transform assumes evenly spaced intervals\n"
                    ]
                }, 
                {
                    "cell_type": "heading", 
                    "level": 3, 
                    "metadata": {}, 
                    "source": [
                        "Uneven time series"
                    ]
                }, 
                {
                    "cell_type": "markdown", 
                    "metadata": {}, 
                    "source": [
                        "\nThe Fast Fourier Transform cannot be applied to uneven time series.\n\nWe could:\n\n* Ignore this problem, and assume the effect is small\n* Interpolate and resample to even times\n* Use a method which is robust to unevenly sampled series, such as LSSA\n\nWe also want to find the period of the strongest periodic signal in the data, there are\nvarious different methods we could use for this also, such as integrating the fourier series\nby quadrature to find the mean frequency, or choosing the largest single value. \n"
                    ]
                }, 
                {
                    "cell_type": "heading", 
                    "level": 3, 
                    "metadata": {}, 
                    "source": [
                        "Uneven time series design"
                    ]
                }, 
                {
                    "cell_type": "markdown", 
                    "metadata": {}, 
                    "source": [
                        "\nWe could implement a base class for our common code between the different approaches,\nand define derived classes for each different algorithmic approach. However, this has drawbacks:\n\n* The constructors for each derived class will need arguments for all the numerical method's control parameters,\nsuch as the degree of spline for the interpolation method, the order of quadrature for integrators, and so on.\n* Where we have multiple algorithmic choices to make (interpolator, periodogram, peak finder...) the number\nof derived classes would explode: `class SunspotAnalyzerSplineFFTTrapeziumNearMode` is a bit unweildy.\n* The algorithmic choices are not then available for other projects\n* This design doesn't fit with a clean Ontology of \"kinds of things\": there's no Abstract Base for spectrogram generators...\n"
                    ]
                }, 
                {
                    "cell_type": "heading", 
                    "level": 3, 
                    "metadata": {}, 
                    "source": [
                        "Strategy Pattern for Algorithms"
                    ]
                }, 
                {
                    "cell_type": "markdown", 
                    "metadata": {}, 
                    "source": [
                        "\n* We implement each algorithm for generating a spectrum as its own Strategy class.\n* They all implement a common interface\n* Arguments to strategy constructor specify parameters of algorithms, such as spline degree\n* One strategy instance for each algorithm is passed to the constructor for the overall analysis\n"
                    ]
                }, 
                {
                    "cell_type": "heading", 
                    "level": 3, 
                    "metadata": {}, 
                    "source": [
                        "Strategy Pattern for Algorithms"
                    ]
                }, 
                {
                    "cell_type": "markdown", 
                    "metadata": {}, 
                    "source": [
                        "\nFirst, we'll define a helper class for our time series.\n\n"
                    ]
                }, 
                {
                    "cell_type": "code", 
                    "collapsed": false, 
                    "input": [
                        "", 
                        "class Series(object):", 
                        "    \"\"\"Enhance NumPy N-d array with some helper functions for clarity\"\"\"", 
                        "    def __init__(self, data):", 
                        "        self.data=array(data)", 
                        "        self.count=self.data.shape[0]", 
                        "        self.start=self.data[0,0]", 
                        "        self.end=self.data[-1,0]", 
                        "        self.range=self.end-self.start", 
                        "        self.step=self.range/self.count", 
                        "        self.times=self.data[:,0]", 
                        "        self.values=self.data[:,1]", 
                        "        self.plot_data=[self.times,self.values]", 
                        "        self.inverse_plot_data=[1.0/self.times[20:], self.values[20:]]", 
                        ""
                    ], 
                    "language": "python", 
                    "metadata": {}, 
                    "outputs": [], 
                    "prompt_number": null
                }, 
                {
                    "cell_type": "markdown", 
                    "metadata": {}, 
                    "source": [
                        "\n\n"
                    ]
                }, 
                {
                    "cell_type": "heading", 
                    "level": 3, 
                    "metadata": {}, 
                    "source": [
                        "Strategy Pattern for Algorithms"
                    ]
                }, 
                {
                    "cell_type": "markdown", 
                    "metadata": {}, 
                    "source": [
                        "\nThen, our class which contains the analysis code, *except* the numerical methods\n\n\n"
                    ]
                }, 
                {
                    "cell_type": "code", 
                    "collapsed": false, 
                    "input": [
                        "", 
                        "class AnalyseSunspotData(object):", 
                        "    def format_date(self, date):", 
                        "        date_format=\"%Y-%m-%d\"", 
                        "        return datetime.strptime(date,date_format)", 
                        "    def load_data(self):", 
                        "        start_date_str='1700-12-31'", 
                        "        end_date_str='2014-01-01'", 
                        "        self.start_date=self.format_date(start_date_str)", 
                        "        end_date=self.format_date(end_date_str)", 
                        "        url_base=(\"http://www.quandl.com/api/v1/datasets/\"+", 
                        "                  \"SIDC/SUNSPOTS_A.csv\")", 
                        "        x=requests.get(url_base,params={'trim_start':start_date_str,", 
                        "                                        'trim_end':end_date_str,", 
                        "                                        'sort_order':'asc'})", 
                        "        secs_per_year=(datetime(2014,1,1)-datetime(2013,1,1)", 
                        "                ).total_seconds()", 
                        "        data=csv.reader(StringIO(x.text)) #Convert requests", 
                        "                                          #result to look", 
                        "                                          #like a file buffer before", 
                        "                                          #reading with CSV", 
                        "        data.next() # Skip header row", 
                        "        self.series=Series([[", 
                        "                (self.format_date(row[0])-self.start_date", 
                        "                    ).total_seconds()/secs_per_year", 
                        "                 ,float(row[1])] for row in data])", 
                        "    def __init__(self, frequency_strategy):", 
                        "        self.load_data()", 
                        "        self.frequency_strategy=frequency_strategy", 
                        "    def frequency_data(self):", 
                        "        return self.frequency_strategy.transform(self.series)", 
                        ""
                    ], 
                    "language": "python", 
                    "metadata": {}, 
                    "outputs": [], 
                    "prompt_number": null
                }, 
                {
                    "cell_type": "markdown", 
                    "metadata": {}, 
                    "source": [
                        "\n"
                    ]
                }, 
                {
                    "cell_type": "heading", 
                    "level": 3, 
                    "metadata": {}, 
                    "source": [
                        "Strategy Pattern for Algorithms"
                    ]
                }, 
                {
                    "cell_type": "markdown", 
                    "metadata": {}, 
                    "source": [
                        "\nOur existing simple fourier strategy\n\n\n"
                    ]
                }, 
                {
                    "cell_type": "code", 
                    "collapsed": false, 
                    "input": [
                        "", 
                        "class FourierNearestFrequencyStrategy(object):", 
                        "    def transform(self, series):", 
                        "        transformed=fft(series.values)[0:series.count/2]", 
                        "        frequencies=fftfreq(series.count, series.step)[0:series.count/2]", 
                        "        return Series(zip(frequencies, abs(transformed)/series.count))", 
                        ""
                    ], 
                    "language": "python", 
                    "metadata": {}, 
                    "outputs": [], 
                    "prompt_number": null
                }, 
                {
                    "cell_type": "markdown", 
                    "metadata": {}, 
                    "source": [
                        "\n"
                    ]
                }, 
                {
                    "cell_type": "heading", 
                    "level": 3, 
                    "metadata": {}, 
                    "source": [
                        "Strategy Pattern for Algorithms"
                    ]
                }, 
                {
                    "cell_type": "markdown", 
                    "metadata": {}, 
                    "source": [
                        "\nA strategy based on interpolation to a spline\n\n\n"
                    ]
                }, 
                {
                    "cell_type": "code", 
                    "collapsed": false, 
                    "input": [
                        "", 
                        "class FourierSplineFrequencyStrategy(object):", 
                        "    def next_power_of_two(self, value):", 
                        "        \"Return the next power of 2 above value\"", 
                        "        return 2**(1+int(log(value)/log(2)))", 
                        "    def transform(self, series):", 
                        "        spline=UnivariateSpline(series.times, series.values)", 
                        "        # Linspace will give us *evenly* spaced points in the series", 
                        "        fft_count= self.next_power_of_two(series.count)", 
                        "        points=linspace(series.start,series.end,fft_count)", 
                        "        regular_xs=[spline(point) for point in points]", 
                        "        transformed=fft(regular_xs)[0:fft_count/2]", 
                        "        frequencies=fftfreq(fft_count,", 
                        "                series.range/fft_count)[0:fft_count/2]", 
                        "        return Series(zip(frequencies, abs(transformed)/fft_count))", 
                        ""
                    ], 
                    "language": "python", 
                    "metadata": {}, 
                    "outputs": [], 
                    "prompt_number": null
                }, 
                {
                    "cell_type": "markdown", 
                    "metadata": {}, 
                    "source": [
                        "\n\n"
                    ]
                }, 
                {
                    "cell_type": "heading", 
                    "level": 3, 
                    "metadata": {}, 
                    "source": [
                        "Strategy Pattern for Algorithms"
                    ]
                }, 
                {
                    "cell_type": "markdown", 
                    "metadata": {}, 
                    "source": [
                        "\nA strategy using the Lomb-Scargle Periodogram\n\n\n"
                    ]
                }, 
                {
                    "cell_type": "code", 
                    "collapsed": false, 
                    "input": [
                        "", 
                        "class LombFrequencyStrategy(object):", 
                        "    def transform(self,series):", 
                        "        frequencies=array(linspace(1.0/series.range,", 
                        "            0.5/series.step,series.count))", 
                        "        result= lombscargle(series.times,", 
                        "                series.values,2.0*math.pi*frequencies)", 
                        "        return Series(zip(frequencies, sqrt(result/series.count)))", 
                        ""
                    ], 
                    "language": "python", 
                    "metadata": {}, 
                    "outputs": [], 
                    "prompt_number": null
                }, 
                {
                    "cell_type": "markdown", 
                    "metadata": {}, 
                    "source": [
                        "\n\n"
                    ]
                }, 
                {
                    "cell_type": "heading", 
                    "level": 3, 
                    "metadata": {}, 
                    "source": [
                        "Strategy Pattern for Algorithms"
                    ]
                }, 
                {
                    "cell_type": "markdown", 
                    "metadata": {}, 
                    "source": [
                        "\nDefine our concrete solutions with particular strategies\n\n\n"
                    ]
                }, 
                {
                    "cell_type": "code", 
                    "collapsed": false, 
                    "input": [
                        "", 
                        "fourier_model=AnalyseSunspotData(FourierSplineFrequencyStrategy())", 
                        "lomb_model=AnalyseSunspotData(LombFrequencyStrategy())", 
                        "nearest_model=AnalyseSunspotData(FourierNearestFrequencyStrategy())", 
                        ""
                    ], 
                    "language": "python", 
                    "metadata": {}, 
                    "outputs": [], 
                    "prompt_number": null
                }, 
                {
                    "cell_type": "markdown", 
                    "metadata": {}, 
                    "source": [
                        "\n\n"
                    ]
                }, 
                {
                    "cell_type": "heading", 
                    "level": 3, 
                    "metadata": {}, 
                    "source": [
                        "Strategy Pattern for Algorithms"
                    ]
                }, 
                {
                    "cell_type": "markdown", 
                    "metadata": {}, 
                    "source": [
                        "\nUse these new tools to compare solutions\n\n\n"
                    ]
                }, 
                {
                    "cell_type": "code", 
                    "collapsed": false, 
                    "input": [
                        "", 
                        "comparison=fourier_model.frequency_data().inverse_plot_data+['r']", 
                        "comparison+=lomb_model.frequency_data().inverse_plot_data+['g']", 
                        "comparison+=nearest_model.frequency_data().inverse_plot_data+['b']", 
                        "deviation=365*(fourier_model.series.times-linspace(", 
                        "    fourier_model.series.start,", 
                        "    fourier_model.series.end,", 
                        "    fourier_model.series.count))", 
                        ""
                    ], 
                    "language": "python", 
                    "metadata": {}, 
                    "outputs": [], 
                    "prompt_number": null
                }, 
                {
                    "cell_type": "markdown", 
                    "metadata": {}, 
                    "source": [
                        "\n\n"
                    ]
                }, 
                {
                    "cell_type": "heading", 
                    "level": 3, 
                    "metadata": {}, 
                    "source": [
                        "Comparison of different algorithms for frequency spectrum of sunspots."
                    ]
                }, 
                {
                    "cell_type": "markdown", 
                    "metadata": {}, 
                    "source": [
                        "\n"
                    ]
                }, 
                {
                    "cell_type": "code", 
                    "collapsed": false, 
                    "input": [
                        "plt.plot(*comparison)", 
                        "plt.xlim(0,16)"
                    ], 
                    "language": "python", 
                    "metadata": {}, 
                    "outputs": [], 
                    "prompt_number": null
                }, 
                {
                    "cell_type": "markdown", 
                    "metadata": {}, 
                    "source": [
                        "\n"
                    ]
                }, 
                {
                    "cell_type": "heading", 
                    "level": 3, 
                    "metadata": {}, 
                    "source": [
                        "Deviation of year length from average"
                    ]
                }, 
                {
                    "cell_type": "markdown", 
                    "metadata": {}, 
                    "source": [
                        "\n\nplt.plot(deviation)\n\n"
                    ]
                }, 
                {
                    "cell_type": "heading", 
                    "level": 2, 
                    "metadata": {}, 
                    "source": [
                        "Model-View-Controller"
                    ]
                }, 
                {
                    "cell_type": "markdown", 
                    "metadata": {}, 
                    "source": [
                        ""
                    ]
                }, 
                {
                    "cell_type": "heading", 
                    "level": 3, 
                    "metadata": {}, 
                    "source": [
                        "Separate graphics from science!"
                    ]
                }, 
                {
                    "cell_type": "markdown", 
                    "metadata": {}, 
                    "source": [
                        "\nWhenever we are coding a simulation or model we want to:\n\n* Implement the maths of the model\n* Visualise, plot, or print out what is going on.\n\nWe often see scientific programs where the code which is used to display what is happening is mixed up with the\nmathematics of the analysis. This is hard to understand.\n\nWe can do better by separating the `Model` from the `View`, and using a \"`Controller`\" to manage them.\n"
                    ]
                }, 
                {
                    "cell_type": "heading", 
                    "level": 3, 
                    "metadata": {}, 
                    "source": [
                        "Model"
                    ]
                }, 
                {
                    "cell_type": "markdown", 
                    "metadata": {}, 
                    "source": [
                        "\n\n"
                    ]
                }, 
                {
                    "cell_type": "code", 
                    "collapsed": false, 
                    "input": [
                        "", 
                        "class Model(object):", 
                        "    def simulation_step():", 
                        "        # Maths Here", 
                        "        pass", 
                        ""
                    ], 
                    "language": "python", 
                    "metadata": {}, 
                    "outputs": [], 
                    "prompt_number": null
                }, 
                {
                    "cell_type": "markdown", 
                    "metadata": {}, 
                    "source": [
                        "\n\n"
                    ]
                }, 
                {
                    "cell_type": "heading", 
                    "level": 3, 
                    "metadata": {}, 
                    "source": [
                        "View"
                    ]
                }, 
                {
                    "cell_type": "markdown", 
                    "metadata": {}, 
                    "source": [
                        "\n\n"
                    ]
                }, 
                {
                    "cell_type": "code", 
                    "collapsed": false, 
                    "input": [
                        "", 
                        "class View(object):", 
                        "    def __init__(self, model):", 
                        "        from matplotlib import pyplot as plt", 
                        "        self.figure=plt.figure()", 
                        "        axes=plt.axes()", 
                        "        self.model=model", 
                        "        self.scatter=axes.scatter(model.agent_locations()[:,1],", 
                        "                model.agent_locations()[:,2])", 
                        "    def update(self):", 
                        "        self.scatter.set_offsets(model.agent_locations())", 
                        ""
                    ], 
                    "language": "python", 
                    "metadata": {}, 
                    "outputs": [], 
                    "prompt_number": null
                }, 
                {
                    "cell_type": "markdown", 
                    "metadata": {}, 
                    "source": [
                        "\n\n\n"
                    ]
                }, 
                {
                    "cell_type": "heading", 
                    "level": 3, 
                    "metadata": {}, 
                    "source": [
                        "Controller"
                    ]
                }, 
                {
                    "cell_type": "markdown", 
                    "metadata": {}, 
                    "source": [
                        "\n\n"
                    ]
                }, 
                {
                    "cell_type": "code", 
                    "collapsed": false, 
                    "input": [
                        "", 
                        "def Controller(object):", 
                        "    def __init__(self):", 
                        "        self.model=Model() # Or use Builder", 
                        "        self.view=View(self.model)", 
                        "        def animate():", 
                        "            self.model.simulation_step()", 
                        "            self.view.update()", 
                        "        self.animator=animate", 
                        "    def go(self):", 
                        "        from matplotlib import animation", 
                        "        animation.FuncAnimation(self.view.figure, self.animator)", 
                        ""
                    ], 
                    "language": "python", 
                    "metadata": {}, 
                    "outputs": [], 
                    "prompt_number": null
                }, 
                {
                    "cell_type": "markdown", 
                    "metadata": {}, 
                    "source": [
                        "\n\n\n"
                    ]
                }, 
                {
                    "cell_type": "heading", 
                    "level": 2, 
                    "metadata": {}, 
                    "source": [
                        "Engineering"
                    ]
                }, 
                {
                    "cell_type": "markdown", 
                    "metadata": {}, 
                    "source": [
                        ""
                    ]
                }, 
                {
                    "cell_type": "heading", 
                    "level": 3, 
                    "metadata": {}, 
                    "source": [
                        "Software Engineering Stages"
                    ]
                }, 
                {
                    "cell_type": "markdown", 
                    "metadata": {}, 
                    "source": [
                        "\n* Requirements\n* Functional Design\n* Architectural Design\n* Implementation\n* Integration\n"
                    ]
                }, 
                {
                    "cell_type": "heading", 
                    "level": 3, 
                    "metadata": {}, 
                    "source": [
                        "Requirements Engineering"
                    ]
                }, 
                {
                    "cell_type": "markdown", 
                    "metadata": {}, 
                    "source": [
                        "\nRequirements capture obviously means describing the things the software needs to be able to do.\n\nA common approach is to write down lots of \"user stories\", describing how the software helps the user achieve something:\n\n> As a clinician, when I finish an analysis, I want a report to be created on the test results, so that I can\n> send it to the patient.\n\nAs a *role*, when *condition or circumstance applies* I want *a goal or desire* so that *benefits occur*.\n\nThese are easy to map into the Gherkin behaviour driven design test language.\n"
                    ]
                }, 
                {
                    "cell_type": "heading", 
                    "level": 3, 
                    "metadata": {}, 
                    "source": [
                        "Functional and architectural design"
                    ]
                }, 
                {
                    "cell_type": "markdown", 
                    "metadata": {}, 
                    "source": [
                        "\nEngineers try to separate the functional design, how the software appears to and is used by the user, from the\narchitectural design, how the software achieves that functionality.\n\nChanges to functional design require users to adapt, and are thus often more costly than changes to architectural design.\n"
                    ]
                }, 
                {
                    "cell_type": "heading", 
                    "level": 3, 
                    "metadata": {}, 
                    "source": [
                        "Waterfall"
                    ]
                }, 
                {
                    "cell_type": "markdown", 
                    "metadata": {}, 
                    "source": [
                        "\nThe _Waterfall_ design philosophy argues that the elements of design should occur in order: first requirements capture, then functional design,\nthen architectural design. This approach is based on the idea that if a mistake is made in the design, then programming effort is wasted,\nso significant effort is spent in trying to ensure that requirements are well understood and that the design is correct before programming starts.\n"
                    ]
                }, 
                {
                    "cell_type": "heading", 
                    "level": 3, 
                    "metadata": {}, 
                    "source": [
                        "Why Waterfall?"
                    ]
                }, 
                {
                    "cell_type": "markdown", 
                    "metadata": {}, 
                    "source": [
                        "\nWithout a design approach, programmers resort to designing as we go, typing in code, trying what works, and making it up as we go along.\nWhen trying to collaborate to make software with others this can result in lots of wasted time, software that only the author understands,\ncomponents built by colleagues that don't work together, or code that the programmer thinks is nice but that doesn't meet the user's requirements.\n"
                    ]
                }, 
                {
                    "cell_type": "heading", 
                    "level": 3, 
                    "metadata": {}, 
                    "source": [
                        "Problems with Waterfall"
                    ]
                }, 
                {
                    "cell_type": "markdown", 
                    "metadata": {}, 
                    "source": [
                        "\nWaterfall results in a contractual approach to development, building an us-and-them relationship between users, business types, designers, and programmers.\n\n> I built what the design said, so I did my job.\n\nWaterfall results in a paperwork culture, where people spend a long time designing standard forms to document each stage of the design,\nwith less time actually spent *making things*.\n\nWaterfall results in excessive adherence to a plan, even when mistakes in the design are obvious to people doing the work.\n"
                    ]
                }, 
                {
                    "cell_type": "heading", 
                    "level": 3, 
                    "metadata": {}, 
                    "source": [
                        "Software is not made of bricks"
                    ]
                }, 
                {
                    "cell_type": "markdown", 
                    "metadata": {}, 
                    "source": [
                        "\nThe waterfall approach to software engineering comes from the engineering tradition applied to building physical objects,\nwhere Architects and Engineers design buildings, and builders build them according to the design.\n\nSoftware is intrinsically different:\n"
                    ]
                }, 
                {
                    "cell_type": "heading", 
                    "level": 3, 
                    "metadata": {}, 
                    "source": [
                        "Software is not made of bricks"
                    ]
                }, 
                {
                    "cell_type": "markdown", 
                    "metadata": {}, 
                    "source": [
                        "\n> Software is not the same 'stuff' as that from which physical systems are constructed.\nSoftware systems differ in material respects from physical systems.\nMuch of this has been rehearsed by Fred Brooks in his classic\n['No Silver Bullet'](http://ieeexplore.ieee.org/xpl/login.jsp?reload=true&tp=&arnumber=1663532&url=http%3A%2F%2Fieeexplore.ieee.org%2Fxpls%2Fabs_all.jsp%3Farnumber%3D1663532) paper.\nFirst, complexity and scale are different in the case of software systems: relatively functionally simple software systems comprise more independent parts, placed\nin relation to each other, than do physical systems of equivalent functional value.\nSecond, and clearly linked to this, we do not have well developed components and composition mechanisms from which to build\nsoftware systems (though clearly we are working hard on providing these) nor do we have a straightforward mathematical account that\npermits us to reason about the effects of composition.\n"
                    ]
                }, 
                {
                    "cell_type": "heading", 
                    "level": 3, 
                    "metadata": {}, 
                    "source": [
                        "Software is not made of bricks"
                    ]
                }, 
                {
                    "cell_type": "markdown", 
                    "metadata": {}, 
                    "source": [
                        "\n> Third, software systems operate in a domain determined principally by arbitrary rules about information and symbolic communication whilst the\noperation of physical systems is governed by the laws of physics.\nFinally, software is readily changeable and thus is changed, it is used in settings where our uncertainty leads us to anticipate the need to change.\n\n-- Prof. [Anthony Finkelstein](http://blog.prof.so/), UCL Dean of Engineering, and Professor of Software Systems Engineering\n"
                    ]
                }, 
                {
                    "cell_type": "heading", 
                    "level": 3, 
                    "metadata": {}, 
                    "source": [
                        "The Agile Manifesto"
                    ]
                }, 
                {
                    "cell_type": "markdown", 
                    "metadata": {}, 
                    "source": [
                        "\nIn 2001, authors including Martin Folwer, Ward Cunningham and Kent Beck met in a Utah ski resort, and published the following manifesto.\n\n [Manifesto for Agile Software Development](http://agilemanifesto.org/)\n\n We are uncovering better ways of developing\n software by doing it and helping others do it.\n Through this work we have come to value:\n\n * _Individuals and interactions_ over processes and tools\n * _Working software_ over comprehensive documentation\n * _Customer collaboration_ over contract negotiation\n *  _Responding to change_ over following a plan\n\n That is, while there is value in the items on\n the right, we value the items on the left more.\n"
                    ]
                }, 
                {
                    "cell_type": "heading", 
                    "level": 3, 
                    "metadata": {}, 
                    "source": [
                        "Agile is not absence of process"
                    ]
                }, 
                {
                    "cell_type": "markdown", 
                    "metadata": {}, 
                    "source": [
                        "\n> The Agile movement is not anti-methodology, in fact, many of us want to restore credibility to the word methodology.\n> We want to restore a balance. We embrace modeling, but not in order to file some diagram in a dusty corporate repository.\n> We embrace documentation, but not hundreds of pages of never-maintained and rarely-used tomes. We plan, but recognize the\n> limits of planning in a turbulent environment. Those who would brand proponents of XP or SCRUM or any of the other\n> Agile Methodologies as \"hackers\" are ignorant of both the methodologies and the original definition of the term hacker\n\n-- Jim Highsmith.\n"
                    ]
                }, 
                {
                    "cell_type": "heading", 
                    "level": 3, 
                    "metadata": {}, 
                    "source": [
                        "Elements of an Agile Process"
                    ]
                }, 
                {
                    "cell_type": "markdown", 
                    "metadata": {}, 
                    "source": [
                        "\n* Continuous delivery\n* Self-organising teams\n* Iterative development\n* Ongoing design\n"
                    ]
                }, 
                {
                    "cell_type": "heading", 
                    "level": 3, 
                    "metadata": {}, 
                    "source": [
                        "Ongoing Design"
                    ]
                }, 
                {
                    "cell_type": "markdown", 
                    "metadata": {}, 
                    "source": [
                        "\nAgile development doesn't eschew design. Design documents should still be written, but treated as living documents,\nupdated as more insight is gained into the task, as work is done, and as requirements change.\n\nUse of a Wiki or version control repository to store design documents thus works much better than using Word documents!\n\nTest-driven design and refactoring are essential techniques to ensure that lack of \"Big Design Up Front\" doesn't produce\nbadly constructed spaghetti software which doesn't meet requirements. By continously scouring our code for smells, and\nstopping to refactor, we evolve towards a well-structured design with weakly interacting units. By starting with tests\nwhich describe how our code should behave, we create executable specifications, giving us confidence that the code does\nwhat it is supposed to.\n"
                    ]
                }, 
                {
                    "cell_type": "heading", 
                    "level": 3, 
                    "metadata": {}, 
                    "source": [
                        "Iterative Development"
                    ]
                }, 
                {
                    "cell_type": "markdown", 
                    "metadata": {}, 
                    "source": [
                        "\nAgile development maintains a backlog of features to be completed and bugs to be fixed. In each iteration, we start with a meeting where\nwe decide which backlog tasks will be attempted during the development cycle, estimating how long each will take,\nand selecting an achievable set of goals for the \"sprint\". At the end of each cycle, we review the goals completed and missed,\nand consider what went well, what went badly, and what could be improved.\n\nWe try not to add work to a cycle mid-sprint. New tasks that emerge are added to the backlog, and considered in the next planning meeting.\nThis reduces stress and distraction.\n"
                    ]
                }, 
                {
                    "cell_type": "heading", 
                    "level": 3, 
                    "metadata": {}, 
                    "source": [
                        "Continuous Delivery"
                    ]
                }, 
                {
                    "cell_type": "markdown", 
                    "metadata": {}, 
                    "source": [
                        "\nIn agile development, we try to get as quickly as possible to code that can be *demonstrated* to clients. A regular demo of progress\nto clients at the end of each development iteration says so much more than sharing a design document. \"Release early, release often\"\nis a common slogan. Most bugs are found by people *using* code -- so exposing code to users as early as possible will help find bugs quickly.\n"
                    ]
                }, 
                {
                    "cell_type": "heading", 
                    "level": 3, 
                    "metadata": {}, 
                    "source": [
                        "Self-organising teams"
                    ]
                }, 
                {
                    "cell_type": "markdown", 
                    "metadata": {}, 
                    "source": [
                        "\nCode is created by people. People work best when they feel ownership and pride in their work. Division of responsiblities into designers\nand programmers results in a [\"Code Monkey\"](http://open.spotify.com/track/1rIFZk9tTUtHP3vULR5wXe) role, where the craftspersonship and \nsense of responsibility for code quality is lost. Agile approaches encourage programmers, designers, clients, and businesspeople to see\nthemselves as one team, working together, with fluid roles. Programmers grab issues from the backlog according to interest, aptitude,\nand community spirit.\n"
                    ]
                }, 
                {
                    "cell_type": "heading", 
                    "level": 3, 
                    "metadata": {}, 
                    "source": [
                        "Agile in Research"
                    ]
                }, 
                {
                    "cell_type": "markdown", 
                    "metadata": {}, 
                    "source": [
                        "\nAgile approaches, where we try to turn the instincts and practices which emerge naturally when smart programmers get together into\nwell-formulated best practices, have emerged as antidotes to both the chaotic free-form typing in of code, and the rigid\npaperwork-driven approaches of Waterfall.\n\nIf these approaches have turned out to be better even in industrial contexts, where requirements for code can be well understood,\nthey are even more appropriate in a research context, where we are working in poorly understood fields with even less well captured\nrequirements.\n"
                    ]
                }, 
                {
                    "cell_type": "heading", 
                    "level": 3, 
                    "metadata": {}, 
                    "source": [
                        "Conclusion"
                    ]
                }, 
                {
                    "cell_type": "markdown", 
                    "metadata": {}, 
                    "source": [
                        "\n* Don't ignore design\n* See if there's a known design pattern that will help\n* Do try to think about how your code will work before you start typing\n* Do use design tools like UML to think about your design without coding straight away\n* Do try to write down some user stories\n* Do maintain design documents.\n\nBUT\n\n* Do change your design as you work, updating the documents if you have them\n* Don't go dark -- never do more than a couple of weeks programming without showing what you've done to colleagues\n* Don't get isolated from the reasons for your code's existence, stay involved in the research, don't be a Code Monkey.\n* Do keep a list of all the things your code needs, estimate and prioritise tasks carefully.\n\n"
                    ]
                }, 
                {
                    "cell_type": "heading", 
                    "level": 2, 
                    "metadata": {}, 
                    "source": [
                        "Exercises"
                    ]
                }, 
                {
                    "cell_type": "markdown", 
                    "metadata": {}, 
                    "source": [
                        ""
                    ]
                }, 
                {
                    "cell_type": "heading", 
                    "level": 3, 
                    "metadata": {}, 
                    "source": [
                        "Refactoring to classes"
                    ]
                }, 
                {
                    "cell_type": "markdown", 
                    "metadata": {}, 
                    "source": [
                        "\nComplete the exercise on Boids from last week, as far as creating a class for a Boid, if you haven't already.\n"
                    ]
                }, 
                {
                    "cell_type": "heading", 
                    "level": 3, 
                    "metadata": {}, 
                    "source": [
                        "Refactoring to Inheritance and Polymorphism"
                    ]
                }, 
                {
                    "cell_type": "markdown", 
                    "metadata": {}, 
                    "source": [
                        "\nIn the Eagle branch in my Boids repository you will find an extension of Boids to support multiple kinds of Bird.\nYou will see that this suffers from the use of an `if (type)` statement which would be\nbetter implemented with inheritance and polymorphism.\n\nTo access the Eagle branch:\n"
                    ]
                }, 
                {
                    "cell_type": "raw", 
                    "metadata": {}, 
                    "source": [
                        "cd <repository>\ngit checkout eagle"
                    ]
                }, 
                {
                    "cell_type": "markdown", 
                    "metadata": {}, 
                    "source": [
                        ""
                    ]
                }, 
                {
                    "cell_type": "heading", 
                    "level": 3, 
                    "metadata": {}, 
                    "source": [
                        "Refactoring to Patterns: Builder"
                    ]
                }, 
                {
                    "cell_type": "markdown", 
                    "metadata": {}, 
                    "source": [
                        "\nThe way in which we construct our Boids model's bird content, specifying each of the\nmodel parameters as a constructor, and add birds using `initialise_random`\nand `initialise_from_data` is rather clunky.\n\nCreate a `ModelBuilder` class with methods to define model parameters and to\nadd a random boid and boid or boids from data, using the Builder pattern.\n\nYou could even create two subclasses of `ModelBuilder` to build either random boids\nor boids from a dataset.\n"
                    ]
                }, 
                {
                    "cell_type": "heading", 
                    "level": 3, 
                    "metadata": {}, 
                    "source": [
                        "Refactoring to Patterns: Model/View"
                    ]
                }, 
                {
                    "cell_type": "markdown", 
                    "metadata": {}, 
                    "source": [
                        "\nYou can apply Model/View to create a separate class to visualise boid models using Matplotlib,\nand even perhaps write another viewer to visualise the boids in a different way: perhaps as graphs over time\nof dispersal, distance from flock to eagle and average velocity.\n"
                    ]
                }, 
                {
                    "cell_type": "heading", 
                    "level": 3, 
                    "metadata": {}, 
                    "source": [
                        "Using UML"
                    ]
                }, 
                {
                    "cell_type": "markdown", 
                    "metadata": {}, 
                    "source": [
                        "\nYou should also use [YUML](http://yuml.me) or another UML tool to visualise your class structure.\n\nYou don't have to do all these things to pass the assignment: any minimally object-oriented implementation of the boids\nwill pass."
                    ]
                }
            ]
        }
    ]
}