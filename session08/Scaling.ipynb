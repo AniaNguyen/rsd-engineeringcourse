{
 "metadata": {
  "name": "",
  "signature": "sha256:7a55063244b13c79775f7d6e1e0abd04a19ac2e0705966450b3d82203dfa5053"
 },
 "nbformat": 3,
 "nbformat_minor": 0,
 "worksheets": [
  {
   "cells": [
    {
     "cell_type": "heading",
     "level": 1,
     "metadata": {},
     "source": [
      "Scaling for containers and algorithms"
     ]
    },
    {
     "cell_type": "markdown",
     "metadata": {},
     "source": [
      "We've seen that NumPy arrays are really useful. Why wouldn't we always want to use them for data which is all the same type?"
     ]
    },
    {
     "cell_type": "code",
     "collapsed": false,
     "input": [
      "import numpy as np\n",
      "from timeit import repeat\n",
      "from matplotlib import pyplot as plt\n",
      "%matplotlib inline"
     ],
     "language": "python",
     "metadata": {},
     "outputs": [],
     "prompt_number": ""
    },
    {
     "cell_type": "code",
     "collapsed": false,
     "input": [
      "def time_append_to_ndarray(count):\n",
      "    return repeat('np.append(before,[0])',\n",
      "                  'import numpy as np; before=np.ndarray('+str(count)+')',\n",
      "                  number=10000)"
     ],
     "language": "python",
     "metadata": {},
     "outputs": [],
     "prompt_number": ""
    },
    {
     "cell_type": "code",
     "collapsed": false,
     "input": [
      "def time_append_to_list(count):\n",
      "    return repeat('before.append(0)',\n",
      "                  'before=[0]*'+str(count),\n",
      "                  number=10000)"
     ],
     "language": "python",
     "metadata": {},
     "outputs": [],
     "prompt_number": ""
    },
    {
     "cell_type": "code",
     "collapsed": false,
     "input": [
      "counts=np.arange(1,100000,10000)"
     ],
     "language": "python",
     "metadata": {},
     "outputs": [],
     "prompt_number": ""
    },
    {
     "cell_type": "code",
     "collapsed": false,
     "input": [
      "plt.plot(counts,map(time_append_to_list,counts))\n",
      "plt.ylim(ymin=0)"
     ],
     "language": "python",
     "metadata": {},
     "outputs": [],
     "prompt_number": ""
    },
    {
     "cell_type": "code",
     "collapsed": false,
     "input": [
      "plt.plot(counts,map(time_append_to_ndarray,counts))\n",
      "plt.ylim(ymin=0)"
     ],
     "language": "python",
     "metadata": {},
     "outputs": [],
     "prompt_number": ""
    },
    {
     "cell_type": "markdown",
     "metadata": {},
     "source": [
      "Both scale well for accessing the middle element:"
     ]
    },
    {
     "cell_type": "code",
     "collapsed": false,
     "input": [
      "def time_lookup_middle_element_in_list(count):\n",
      "    before=[0]*count\n",
      "    def totime():\n",
      "        x=before[count/2]\n",
      "    return repeat(totime,number=10000)"
     ],
     "language": "python",
     "metadata": {},
     "outputs": [],
     "prompt_number": ""
    },
    {
     "cell_type": "code",
     "collapsed": false,
     "input": [
      "def time_lookup_middle_element_in_ndarray(count):\n",
      "    before=np.ndarray(count)\n",
      "    def totime():\n",
      "        x=before[count/2]\n",
      "    return repeat(totime,number=10000)\n"
     ],
     "language": "python",
     "metadata": {},
     "outputs": [],
     "prompt_number": ""
    },
    {
     "cell_type": "code",
     "collapsed": false,
     "input": [
      "plt.plot(counts,map(time_lookup_middle_element_in_list,counts))\n",
      "plt.ylim(ymin=0)\n"
     ],
     "language": "python",
     "metadata": {},
     "outputs": [],
     "prompt_number": ""
    },
    {
     "cell_type": "code",
     "collapsed": false,
     "input": [
      "plt.plot(counts,map(time_lookup_middle_element_in_ndarray,counts))\n",
      "plt.ylim(ymin=0)"
     ],
     "language": "python",
     "metadata": {},
     "outputs": [],
     "prompt_number": ""
    },
    {
     "cell_type": "markdown",
     "metadata": {},
     "source": [
      "But a list performs badly for insertions at the beginning:"
     ]
    },
    {
     "cell_type": "code",
     "collapsed": false,
     "input": [
      "x=range(5)"
     ],
     "language": "python",
     "metadata": {},
     "outputs": [],
     "prompt_number": ""
    },
    {
     "cell_type": "code",
     "collapsed": false,
     "input": [
      "x"
     ],
     "language": "python",
     "metadata": {},
     "outputs": [],
     "prompt_number": ""
    },
    {
     "cell_type": "code",
     "collapsed": false,
     "input": [
      "x[0:0]=[-1]"
     ],
     "language": "python",
     "metadata": {},
     "outputs": [],
     "prompt_number": ""
    },
    {
     "cell_type": "code",
     "collapsed": false,
     "input": [
      "x"
     ],
     "language": "python",
     "metadata": {},
     "outputs": [],
     "prompt_number": ""
    },
    {
     "cell_type": "code",
     "collapsed": false,
     "input": [
      "def time_insert_to_list(count):\n",
      "    return repeat('before[0:0]=[0]','before=[0]*'+str(count),number=10000)"
     ],
     "language": "python",
     "metadata": {},
     "outputs": [],
     "prompt_number": ""
    },
    {
     "cell_type": "code",
     "collapsed": false,
     "input": [
      "plt.plot(counts,map(time_insert_to_list,counts))\n",
      "plt.ylim(ymin=0)"
     ],
     "language": "python",
     "metadata": {},
     "outputs": [],
     "prompt_number": ""
    },
    {
     "cell_type": "markdown",
     "metadata": {},
     "source": [
      "There are containers in Python that work well for insertion at the start:"
     ]
    },
    {
     "cell_type": "code",
     "collapsed": false,
     "input": [
      "from collections import deque"
     ],
     "language": "python",
     "metadata": {},
     "outputs": [],
     "prompt_number": ""
    },
    {
     "cell_type": "code",
     "collapsed": false,
     "input": [
      "def time_insert_to_deque(count):\n",
      "    return repeat('before.appendleft(0)','from collections import deque; before=deque([0]*'+str(count)+')',number=10000)"
     ],
     "language": "python",
     "metadata": {},
     "outputs": [],
     "prompt_number": ""
    },
    {
     "cell_type": "code",
     "collapsed": false,
     "input": [
      "plt.plot(counts,map(time_insert_to_deque,counts))\n",
      "plt.ylim(ymin=0)"
     ],
     "language": "python",
     "metadata": {},
     "outputs": [],
     "prompt_number": ""
    },
    {
     "cell_type": "markdown",
     "metadata": {},
     "source": [
      "But looking up in the middle scales badly:"
     ]
    },
    {
     "cell_type": "code",
     "collapsed": false,
     "input": [
      "def time_lookup_middle_element_in_deque(count):\n",
      "    before=deque([0]*count)\n",
      "    def totime():\n",
      "        x=before[count/2]\n",
      "    return repeat(totime,number=10000)"
     ],
     "language": "python",
     "metadata": {},
     "outputs": [],
     "prompt_number": ""
    },
    {
     "cell_type": "code",
     "collapsed": false,
     "input": [
      "plt.plot(counts,map(time_lookup_middle_element_in_deque,counts))\n",
      "plt.ylim(ymin=0)"
     ],
     "language": "python",
     "metadata": {},
     "outputs": [],
     "prompt_number": ""
    },
    {
     "cell_type": "markdown",
     "metadata": {},
     "source": [
      "What is going on here?"
     ]
    },
    {
     "cell_type": "markdown",
     "metadata": {},
     "source": [
      "Arrays are stored as contiguous memory. Anything which changes the length of the array requires the whole array to be copied elsewhere in memory."
     ]
    },
    {
     "cell_type": "markdown",
     "metadata": {},
     "source": [
      "This copy takes time proportional to the array size."
     ]
    },
    {
     "cell_type": "markdown",
     "metadata": {},
     "source": [
      "The Python `list` type is **also** an array, but it is allocated with **extra memory**. Only when that memory is exhausted is a copy needed."
     ]
    },
    {
     "cell_type": "markdown",
     "metadata": {},
     "source": [
      "If the extra memory is typically the size of the current array, a copy is needed every 1/N appends, and costs N to make, so **on average** copies are cheap. We call this **amortized constant time**. "
     ]
    },
    {
     "cell_type": "markdown",
     "metadata": {},
     "source": [
      "The deque type works differently: each element contains a pointer to the next. Inserting elements is therefore very cheap, but looking up the Nth element requires traversing N such pointers."
     ]
    },
    {
     "cell_type": "heading",
     "level": 1,
     "metadata": {},
     "source": [
      "Dictionary performance"
     ]
    },
    {
     "cell_type": "markdown",
     "metadata": {},
     "source": [
      "For another example, let's consider the performance of a dictionary versus a couple of other ways in which we could implement an associative array."
     ]
    },
    {
     "cell_type": "code",
     "collapsed": false,
     "input": [
      "class evildict(object):\n",
      "    def __init__(self,data):\n",
      "        self.data=data\n",
      "    def __getitem__(self,akey):\n",
      "        for key,value in self.data:\n",
      "            if key==akey:\n",
      "                return value\n",
      "        raise KeyError()"
     ],
     "language": "python",
     "metadata": {},
     "outputs": [],
     "prompt_number": ""
    },
    {
     "cell_type": "code",
     "collapsed": false,
     "input": [
      "me=[[\"Name\",\"James\"],[\"Job\",\"Programmer\"],[\"Home\",\"London\"]]"
     ],
     "language": "python",
     "metadata": {},
     "outputs": [],
     "prompt_number": ""
    },
    {
     "cell_type": "code",
     "collapsed": false,
     "input": [
      "me_evil=evildict(me)"
     ],
     "language": "python",
     "metadata": {},
     "outputs": [],
     "prompt_number": ""
    },
    {
     "cell_type": "code",
     "collapsed": false,
     "input": [
      "me_evil[\"Job\"]"
     ],
     "language": "python",
     "metadata": {},
     "outputs": [],
     "prompt_number": ""
    },
    {
     "cell_type": "code",
     "collapsed": false,
     "input": [
      "me_dict=dict(me)"
     ],
     "language": "python",
     "metadata": {},
     "outputs": [],
     "prompt_number": ""
    },
    {
     "cell_type": "code",
     "collapsed": false,
     "input": [
      "me_evil[\"Job\"]"
     ],
     "language": "python",
     "metadata": {},
     "outputs": [],
     "prompt_number": ""
    },
    {
     "cell_type": "code",
     "collapsed": false,
     "input": [
      "class sorteddict(object):\n",
      "    def __init__(self,data):\n",
      "        self.data=sorted(data,key=lambda x:x[0])\n",
      "        self.keys=map(lambda x:x[0],self.data)\n",
      "    def __getitem__(self,akey):\n",
      "        from bisect import bisect_left\n",
      "        loc=bisect_left(self.keys,akey)\n",
      "        if loc!=len(self.data):\n",
      "            return self.data[loc][1]\n",
      "        raise KeyError()"
     ],
     "language": "python",
     "metadata": {},
     "outputs": [],
     "prompt_number": ""
    },
    {
     "cell_type": "code",
     "collapsed": false,
     "input": [
      "me_sorted=sorteddict(me)"
     ],
     "language": "python",
     "metadata": {},
     "outputs": [],
     "prompt_number": ""
    },
    {
     "cell_type": "code",
     "collapsed": false,
     "input": [
      "me_sorted[\"Job\"]"
     ],
     "language": "python",
     "metadata": {},
     "outputs": [],
     "prompt_number": ""
    },
    {
     "cell_type": "code",
     "collapsed": false,
     "input": [
      "def time_dict_generic(ttype,count,number=10000):\n",
      "    from random import randrange\n",
      "    keys=range(count)\n",
      "    values=[0]*count\n",
      "    data=ttype(zip(keys,values))\n",
      "    def totime():\n",
      "        x=data[keys[count/2]]\n",
      "    return repeat(totime,number=10000)"
     ],
     "language": "python",
     "metadata": {},
     "outputs": [],
     "prompt_number": ""
    },
    {
     "cell_type": "code",
     "collapsed": false,
     "input": [
      "time_dict=lambda count: time_dict_generic(dict,count)\n",
      "time_sorted=lambda count: time_dict_generic(sorteddict,count)\n",
      "time_evil=lambda count: time_dict_generic(evildict,count)"
     ],
     "language": "python",
     "metadata": {},
     "outputs": [],
     "prompt_number": ""
    },
    {
     "cell_type": "code",
     "collapsed": false,
     "input": [
      "counts=np.arange(1,1000,100)\n",
      "plt.plot(counts,map(time_dict,counts))\n",
      "plt.ylim(ymin=0)"
     ],
     "language": "python",
     "metadata": {},
     "outputs": [],
     "prompt_number": ""
    },
    {
     "cell_type": "code",
     "collapsed": false,
     "input": [
      "plt.plot(counts,map(time_sorted,counts))\n",
      "plt.ylim(ymin=0)"
     ],
     "language": "python",
     "metadata": {},
     "outputs": [],
     "prompt_number": ""
    },
    {
     "cell_type": "code",
     "collapsed": false,
     "input": [
      "plt.plot(counts,map(time_evil,counts))\n",
      "plt.ylim(ymin=0)"
     ],
     "language": "python",
     "metadata": {},
     "outputs": [],
     "prompt_number": ""
    },
    {
     "cell_type": "markdown",
     "metadata": {},
     "source": [
      "We can't really see what's going on here for the sorted example as there's too much noise, but theoretically we should get **logarithmic** asymptotic performance."
     ]
    },
    {
     "cell_type": "markdown",
     "metadata": {},
     "source": [
      "We write this down as $O(\\ln N)$. This doesn't mean there isn't also a constant term, or a term proportional to something that grows slower (such as $\\ln(\\ln N)$): we always write down just the term that is dominant for large $N$. Similarly, the hash-table based solution used by `dict` is $O(1)$ and the simple check-each-in-turn solution is $O(N)$. We saw before that `list` is $O(1)$ for appends, $O(N)$ for inserts. Numpy's `array` is $O(N)$ for appends."
     ]
    },
    {
     "cell_type": "markdown",
     "metadata": {},
     "source": [
      "Exercise: determine what the asymptotic peformance for the Boids model in terms of the number of Boids. Make graphs to support this. Bonus: how would the performance scale with the number of dimensions?"
     ]
    },
    {
     "cell_type": "code",
     "collapsed": false,
     "input": [],
     "language": "python",
     "metadata": {},
     "outputs": []
    }
   ],
   "metadata": {}
  }
 ]
}