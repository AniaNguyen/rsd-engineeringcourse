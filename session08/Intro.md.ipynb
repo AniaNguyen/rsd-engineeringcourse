{
 "metadata": {
  "name": "",
  "signature": "sha256:e87f90df8d13a3dd1ab34e35c1ebf129ea0f675ee7d0b07011f750f97315db7d"
 },
 "nbformat": 3,
 "nbformat_minor": 0,
 "worksheets": [
  {
   "cells": [
    {
     "cell_type": "heading",
     "level": 1,
     "metadata": {},
     "source": [
      "Performance programming"
     ]
    },
    {
     "cell_type": "markdown",
     "metadata": {},
     "source": [
      "We've spent most of this course looking at how to make code readable and reliable. For research work, it is often also important that code is efficient: that it does what it needs to do *quickly*."
     ]
    },
    {
     "cell_type": "markdown",
     "metadata": {},
     "source": [
      "It is very hard to work out beforehand whether code will be efficient or not: it is essential to *Profile* code, to measure its performance, to determine what aspects of it are slow."
     ]
    },
    {
     "cell_type": "markdown",
     "metadata": {},
     "source": [
      "When we looked at Functional programming, we claimed that code which is conceptualised in terms of actions on whole data-sets rather than individual elements is more efficient. Let's measure the performance of some different ways of implementing some code and see how they perform."
     ]
    },
    {
     "cell_type": "heading",
     "level": 2,
     "metadata": {},
     "source": [
      "Two Mandelbrots"
     ]
    },
    {
     "cell_type": "markdown",
     "metadata": {},
     "source": [
      "You're probably familiar with a famous fractal called the [Mandelbrot Set](https://www.youtube.com/watch?v=AGUlJus5kpY)."
     ]
    },
    {
     "cell_type": "markdown",
     "metadata": {},
     "source": [
      "For a complex number $c$, $c$ is in the Mandelbrot set if the series $z_{i+1}=z_{i}^2+c$ (With $z_0=c$) stays close to $0$.\n",
      "Traditionally, we plot a color showing how many steps are needed for $\\left|z_i\\right|>2$, whereupon we are sure the series will diverge."
     ]
    },
    {
     "cell_type": "markdown",
     "metadata": {},
     "source": [
      "Here's a trivial python implementation:"
     ]
    },
    {
     "cell_type": "code",
     "collapsed": false,
     "input": [
      "def mandel1(position,limit=50):\n",
      "    value=position\n",
      "    while abs(value)<2:\n",
      "        limit-=1\n",
      "        value=value**2+position\n",
      "        if limit<0:\n",
      "            return 0\n",
      "    return limit"
     ],
     "language": "python",
     "metadata": {},
     "outputs": [],
     "prompt_number": ""
    },
    {
     "cell_type": "code",
     "collapsed": false,
     "input": [
      "xmin=-1.5\n",
      "ymin=-1.0\n",
      "xmax=0.5\n",
      "ymax=1.0\n",
      "resolution=300\n",
      "xstep=(xmax-xmin)/resolution\n",
      "ystep=(ymax-ymin)/resolution\n",
      "xs=[(xmin+(xmax-xmin)*i/resolution) for i in range(resolution)]\n",
      "ys=[(ymin+(ymax-ymin)*i/resolution) for i in range(resolution)]"
     ],
     "language": "python",
     "metadata": {},
     "outputs": [],
     "prompt_number": ""
    },
    {
     "cell_type": "code",
     "collapsed": false,
     "input": [
      "%%timeit\n",
      "data=[[mandel1(complex(x,y)) for x in xs] for y in ys]"
     ],
     "language": "python",
     "metadata": {},
     "outputs": [],
     "prompt_number": ""
    },
    {
     "cell_type": "code",
     "collapsed": false,
     "input": [
      "data1=[[mandel1(complex(x,y)) for x in xs] for y in ys]"
     ],
     "language": "python",
     "metadata": {},
     "outputs": [],
     "prompt_number": ""
    },
    {
     "cell_type": "code",
     "collapsed": false,
     "input": [
      "%matplotlib inline\n",
      "import matplotlib.pyplot as plt\n",
      "plt.imshow(data1,interpolation='none')"
     ],
     "language": "python",
     "metadata": {},
     "outputs": [],
     "prompt_number": ""
    },
    {
     "cell_type": "markdown",
     "metadata": {},
     "source": [
      "We will learn this lesson how to make a version of this code which works Ten Times faster:"
     ]
    },
    {
     "cell_type": "code",
     "collapsed": false,
     "input": [
      "def mandel_numpy(position,limit=50):\n",
      "    value=position\n",
      "    diverged_at_count=np.zeros(position.shape)\n",
      "    while limit>0:\n",
      "        limit-=1\n",
      "        value=value**2+position\n",
      "        diverging=value*np.conj(value)>4\n",
      "        first_diverged_this_time=np.logical_and(diverging, diverged_at_count==0)\n",
      "        diverged_at_count[first_diverged_this_time]=limit\n",
      "        value[diverging]=2\n",
      "        \n",
      "    return diverged_at_count"
     ],
     "language": "python",
     "metadata": {},
     "outputs": [],
     "prompt_number": ""
    },
    {
     "cell_type": "code",
     "collapsed": false,
     "input": [
      "ymatrix,xmatrix=np.mgrid[ymin:ymax:ystep,xmin:xmax:xstep]\n",
      "values=xmatrix+1j*ymatrix\n",
      "data_numpy=mandel_numpy(values)"
     ],
     "language": "python",
     "metadata": {},
     "outputs": [],
     "prompt_number": ""
    },
    {
     "cell_type": "code",
     "collapsed": false,
     "input": [
      "%matplotlib inline\n",
      "import matplotlib.pyplot as plt\n",
      "plt.imshow(data_numpy,interpolation='none')"
     ],
     "language": "python",
     "metadata": {},
     "outputs": [],
     "prompt_number": ""
    },
    {
     "cell_type": "code",
     "collapsed": false,
     "input": [
      "%%timeit\n",
      "data_numpy=mandel_numpy(values)"
     ],
     "language": "python",
     "metadata": {},
     "outputs": [],
     "prompt_number": ""
    },
    {
     "cell_type": "markdown",
     "metadata": {},
     "source": [
      "Note we get the same answer:"
     ]
    },
    {
     "cell_type": "code",
     "collapsed": false,
     "input": [
      "sum(sum(abs(data_numpy-data1)))"
     ],
     "language": "python",
     "metadata": {},
     "outputs": [],
     "prompt_number": ""
    }
   ],
   "metadata": {}
  }
 ]
}