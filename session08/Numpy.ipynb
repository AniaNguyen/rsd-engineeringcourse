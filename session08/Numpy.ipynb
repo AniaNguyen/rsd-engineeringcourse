{
 "metadata": {
  "name": "",
  "signature": "sha256:ee2038232963b60bdd378133370a5f81074a13641db9b922d3963e6390e25309"
 },
 "nbformat": 3,
 "nbformat_minor": 0,
 "worksheets": [
  {
   "cells": [
    {
     "cell_type": "code",
     "collapsed": false,
     "input": [
      "xmin=-1.5\n",
      "ymin=-1.0\n",
      "xmax=0.5\n",
      "ymax=1.0\n",
      "resolution=300\n",
      "xstep=(xmax-xmin)/resolution\n",
      "ystep=(ymax-ymin)/resolution\n",
      "xs=[(xmin+(xmax-xmin)*i/resolution) for i in range(resolution)]\n",
      "ys=[(ymin+(ymax-ymin)*i/resolution) for i in range(resolution)]"
     ],
     "language": "python",
     "metadata": {},
     "outputs": [],
     "prompt_number": ""
    },
    {
     "cell_type": "markdown",
     "metadata": {},
     "source": [
      "Let's try using **numpy**"
     ]
    },
    {
     "cell_type": "heading",
     "level": 1,
     "metadata": {},
     "source": [
      "NumPy"
     ]
    },
    {
     "cell_type": "markdown",
     "metadata": {},
     "source": [
      "Numerical Python, NumPy, is a library that enables us to do much faster work with floating point data than ordinary python."
     ]
    },
    {
     "cell_type": "code",
     "collapsed": false,
     "input": [
      "import numpy as np"
     ],
     "language": "python",
     "metadata": {},
     "outputs": [],
     "prompt_number": ""
    },
    {
     "cell_type": "heading",
     "level": 2,
     "metadata": {},
     "source": [
      "NumPy constructors"
     ]
    },
    {
     "cell_type": "markdown",
     "metadata": {},
     "source": [
      "NumPy's core type is the `ndarray`, or N-Dimensional Array:"
     ]
    },
    {
     "cell_type": "code",
     "collapsed": false,
     "input": [],
     "language": "python",
     "metadata": {},
     "outputs": [],
     "prompt_number": ""
    },
    {
     "cell_type": "code",
     "collapsed": false,
     "input": [
      "np.zeros([3,4,2])"
     ],
     "language": "python",
     "metadata": {},
     "outputs": [],
     "prompt_number": ""
    },
    {
     "cell_type": "markdown",
     "metadata": {},
     "source": [
      "We rarely construct an ndarray directly:"
     ]
    },
    {
     "cell_type": "code",
     "collapsed": false,
     "input": [
      "np.ndarray([2,2,2],dtype='int')"
     ],
     "language": "python",
     "metadata": {},
     "outputs": [],
     "prompt_number": ""
    },
    {
     "cell_type": "markdown",
     "metadata": {},
     "source": [
      "We can convert any Python iterable into an `ndarray` with the `array` magic constructor:"
     ]
    },
    {
     "cell_type": "code",
     "collapsed": false,
     "input": [
      "x=np.array(xrange(5))\n",
      "print x"
     ],
     "language": "python",
     "metadata": {},
     "outputs": [],
     "prompt_number": ""
    },
    {
     "cell_type": "markdown",
     "metadata": {},
     "source": [
      "But NumPy arrays can only contain one type of data, unlike Python lists, which is one source of their speed:"
     ]
    },
    {
     "cell_type": "code",
     "collapsed": false,
     "input": [
      "np.array([1,1.0,'one'])"
     ],
     "language": "python",
     "metadata": {},
     "outputs": [],
     "prompt_number": ""
    },
    {
     "cell_type": "markdown",
     "metadata": {},
     "source": [
      "NumPy decided to make them all strings."
     ]
    },
    {
     "cell_type": "markdown",
     "metadata": {},
     "source": [
      "The real magic of numpy arrays is that most python operations are applied, quickly, on an elementwise basis:"
     ]
    },
    {
     "cell_type": "code",
     "collapsed": false,
     "input": [
      "x*2"
     ],
     "language": "python",
     "metadata": {},
     "outputs": [],
     "prompt_number": ""
    },
    {
     "cell_type": "markdown",
     "metadata": {},
     "source": [
      "Ndarray multiplication is element wise, not matrix multiplication or vector dot product:"
     ]
    },
    {
     "cell_type": "code",
     "collapsed": false,
     "input": [
      "x*x"
     ],
     "language": "python",
     "metadata": {},
     "outputs": [],
     "prompt_number": ""
    },
    {
     "cell_type": "markdown",
     "metadata": {},
     "source": [
      "Numpy's mathematical functions also happen this way, and are said to be \"vectorized\" functions."
     ]
    },
    {
     "cell_type": "code",
     "collapsed": false,
     "input": [
      "np.sqrt(x)"
     ],
     "language": "python",
     "metadata": {},
     "outputs": [],
     "prompt_number": ""
    },
    {
     "cell_type": "markdown",
     "metadata": {},
     "source": [
      "Numpy contains many useful functions for creating matrices. In our earlier lectures we've seen `linspace` and `arange` for evenly spaced numbers."
     ]
    },
    {
     "cell_type": "code",
     "collapsed": false,
     "input": [
      "np.linspace(0,10,21)"
     ],
     "language": "python",
     "metadata": {},
     "outputs": [],
     "prompt_number": ""
    },
    {
     "cell_type": "code",
     "collapsed": false,
     "input": [
      "np.arange(0,10,0.5)"
     ],
     "language": "python",
     "metadata": {},
     "outputs": [],
     "prompt_number": ""
    },
    {
     "cell_type": "markdown",
     "metadata": {},
     "source": [
      " Here's one for creating matrices like coordinates in a grid:"
     ]
    },
    {
     "cell_type": "code",
     "collapsed": false,
     "input": [
      "xmin=-1.5\n",
      "ymin=-1.0\n",
      "xmax=0.5\n",
      "ymax=1.0\n",
      "resolution=300\n",
      "xstep=(xmax-xmin)/resolution\n",
      "ystep=(ymax-ymin)/resolution\n",
      "\n",
      "ymatrix,xmatrix=np.mgrid[ymin:ymax:ystep,xmin:xmax:xstep]"
     ],
     "language": "python",
     "metadata": {},
     "outputs": [],
     "prompt_number": ""
    },
    {
     "cell_type": "code",
     "collapsed": false,
     "input": [
      "print xmatrix"
     ],
     "language": "python",
     "metadata": {},
     "outputs": [],
     "prompt_number": ""
    },
    {
     "cell_type": "code",
     "collapsed": false,
     "input": [
      "print ymatrix"
     ],
     "language": "python",
     "metadata": {},
     "outputs": [],
     "prompt_number": ""
    },
    {
     "cell_type": "markdown",
     "metadata": {},
     "source": [
      "We can add these together to make a grid containing the complex numbers we want to test for membership in the Mandelbrot set."
     ]
    },
    {
     "cell_type": "code",
     "collapsed": false,
     "input": [
      "values=xmatrix+1j*ymatrix"
     ],
     "language": "python",
     "metadata": {},
     "outputs": [],
     "prompt_number": ""
    },
    {
     "cell_type": "code",
     "collapsed": false,
     "input": [
      "print values"
     ],
     "language": "python",
     "metadata": {},
     "outputs": [],
     "prompt_number": ""
    },
    {
     "cell_type": "heading",
     "level": 2,
     "metadata": {},
     "source": [
      "Arraywise Algorithms"
     ]
    },
    {
     "cell_type": "markdown",
     "metadata": {},
     "source": [
      "We can use this to apply the mandelbrot algorithm to whole *ARRAYS*"
     ]
    },
    {
     "cell_type": "code",
     "collapsed": false,
     "input": [
      "z0=values\n",
      "z1=z0*z0+values\n",
      "z2=z1*z1+values\n",
      "z3=z2*z2+values"
     ],
     "language": "python",
     "metadata": {},
     "outputs": [],
     "prompt_number": ""
    },
    {
     "cell_type": "code",
     "collapsed": false,
     "input": [
      "print z3"
     ],
     "language": "python",
     "metadata": {},
     "outputs": [],
     "prompt_number": ""
    },
    {
     "cell_type": "markdown",
     "metadata": {},
     "source": [
      "So can we just apply our `mandel1` function to the whole matrix?"
     ]
    },
    {
     "cell_type": "code",
     "collapsed": false,
     "input": [
      "def mandel1(position,limit=50):\n",
      "    value=position\n",
      "    while abs(value)<2:\n",
      "        limit-=1\n",
      "        value=value**2+position\n",
      "        if limit<0:\n",
      "            return 0\n",
      "    return limit"
     ],
     "language": "python",
     "metadata": {},
     "outputs": [],
     "prompt_number": ""
    },
    {
     "cell_type": "code",
     "collapsed": false,
     "input": [
      "mandel1(values)"
     ],
     "language": "python",
     "metadata": {},
     "outputs": [],
     "prompt_number": ""
    },
    {
     "cell_type": "markdown",
     "metadata": {},
     "source": [
      "No. The *logic* of our current routine would require stopping for some elements and not for others. "
     ]
    },
    {
     "cell_type": "markdown",
     "metadata": {},
     "source": [
      "We can ask numpy to **vectorise** our method for us:"
     ]
    },
    {
     "cell_type": "code",
     "collapsed": false,
     "input": [
      "mandel2=np.vectorize(mandel1)"
     ],
     "language": "python",
     "metadata": {},
     "outputs": [],
     "prompt_number": ""
    },
    {
     "cell_type": "code",
     "collapsed": false,
     "input": [
      "data5=mandel2(values)"
     ],
     "language": "python",
     "metadata": {},
     "outputs": [],
     "prompt_number": ""
    },
    {
     "cell_type": "code",
     "collapsed": false,
     "input": [
      "plt.imshow(data5,interpolation='none')"
     ],
     "language": "python",
     "metadata": {},
     "outputs": [],
     "prompt_number": ""
    },
    {
     "cell_type": "markdown",
     "metadata": {},
     "source": [
      "Is that any faster?"
     ]
    },
    {
     "cell_type": "code",
     "collapsed": false,
     "input": [
      "%%timeit\n",
      "data5=mandel2(values)"
     ],
     "language": "python",
     "metadata": {},
     "outputs": []
    },
    {
     "cell_type": "markdown",
     "metadata": {},
     "source": [
      "This is not significantly faster. When we use *vectorize* it's just hiding an plain old python for loop under the hood. We want to make the loop over matrix elements take place in the \"**C Layer**\"."
     ]
    },
    {
     "cell_type": "markdown",
     "metadata": {},
     "source": [
      "What if we just apply the Mandelbrot algorithm without checking for divergence until the end:"
     ]
    },
    {
     "cell_type": "code",
     "collapsed": false,
     "input": [
      "def mandel_numpy_explode(position,limit=50):\n",
      "    value=position\n",
      "    while limit>0:\n",
      "        limit-=1\n",
      "        value=value**2+position\n",
      "        diverging=abs(value)>2\n",
      "\n",
      "        \n",
      "    return abs(value)<2"
     ],
     "language": "python",
     "metadata": {},
     "outputs": [],
     "prompt_number": ""
    },
    {
     "cell_type": "code",
     "collapsed": false,
     "input": [
      "data6=mandel_numpy_explode(values)"
     ],
     "language": "python",
     "metadata": {},
     "outputs": [],
     "prompt_number": ""
    },
    {
     "cell_type": "markdown",
     "metadata": {},
     "source": [
      "OK, we need to prevent it from running off to $\\infty$"
     ]
    },
    {
     "cell_type": "code",
     "collapsed": false,
     "input": [
      "def mandel_numpy(position,limit=50):\n",
      "    value=position\n",
      "    while limit>0:\n",
      "        limit-=1\n",
      "        value=value**2+position\n",
      "        diverging=abs(value)>2\n",
      "        # Avoid overflow\n",
      "        value[diverging]=2\n",
      "        \n",
      "    return abs(value)<2"
     ],
     "language": "python",
     "metadata": {},
     "outputs": [],
     "prompt_number": ""
    },
    {
     "cell_type": "code",
     "collapsed": false,
     "input": [
      "data6=mandel_numpy(values)"
     ],
     "language": "python",
     "metadata": {},
     "outputs": [],
     "prompt_number": ""
    },
    {
     "cell_type": "code",
     "collapsed": false,
     "input": [
      "%%timeit\n",
      "\n",
      "data6=mandel_numpy(values)"
     ],
     "language": "python",
     "metadata": {},
     "outputs": [],
     "prompt_number": ""
    },
    {
     "cell_type": "code",
     "collapsed": false,
     "input": [
      "from matplotlib import pyplot as plt\n",
      "%matplotlib inline\n",
      "plt.imshow(data6,interpolation='none')"
     ],
     "language": "python",
     "metadata": {},
     "outputs": [],
     "prompt_number": ""
    },
    {
     "cell_type": "markdown",
     "metadata": {},
     "source": [
      "Wow, that was TEN TIMES faster."
     ]
    },
    {
     "cell_type": "markdown",
     "metadata": {},
     "source": [
      "There's quite a few NumPy trmicks there, let's look at them:"
     ]
    },
    {
     "cell_type": "heading",
     "level": 1,
     "metadata": {},
     "source": [
      "Logical Arrays"
     ]
    },
    {
     "cell_type": "code",
     "collapsed": false,
     "input": [
      "diverging=abs(z3)>2\n",
      "print diverging[30]"
     ],
     "language": "python",
     "metadata": {},
     "outputs": [],
     "prompt_number": ""
    },
    {
     "cell_type": "markdown",
     "metadata": {},
     "source": [
      "When we apply a logical condition to a NumPy array, we get a logical array."
     ]
    },
    {
     "cell_type": "code",
     "collapsed": false,
     "input": [
      "x=np.arange(10)\n",
      "y=np.ones([10])*5\n",
      "z=x>y\n",
      "print z"
     ],
     "language": "python",
     "metadata": {},
     "outputs": [],
     "prompt_number": ""
    },
    {
     "cell_type": "markdown",
     "metadata": {},
     "source": [
      "Logical arrays can be used to index into arrays:"
     ]
    },
    {
     "cell_type": "code",
     "collapsed": false,
     "input": [
      "x[z]"
     ],
     "language": "python",
     "metadata": {},
     "outputs": [],
     "prompt_number": ""
    },
    {
     "cell_type": "code",
     "collapsed": false,
     "input": [
      "x[np.logical_not(z)]"
     ],
     "language": "python",
     "metadata": {},
     "outputs": [],
     "prompt_number": ""
    },
    {
     "cell_type": "markdown",
     "metadata": {},
     "source": [
      "And you can use such an index as the target of an assignment:"
     ]
    },
    {
     "cell_type": "code",
     "collapsed": false,
     "input": [
      "x[z]=5\n",
      "print x"
     ],
     "language": "python",
     "metadata": {},
     "outputs": [],
     "prompt_number": ""
    },
    {
     "cell_type": "heading",
     "level": 2,
     "metadata": {},
     "source": [
      "Broadcasting"
     ]
    },
    {
     "cell_type": "markdown",
     "metadata": {},
     "source": [
      "In our example above, we didn't compare two arrays to get our logical array, but an array to a scalar integer."
     ]
    },
    {
     "cell_type": "markdown",
     "metadata": {},
     "source": [
      "When we apply an operation to things of different shapes, NumPy will **broadcast** the smaller index:"
     ]
    },
    {
     "cell_type": "code",
     "collapsed": false,
     "input": [
      "print x>5"
     ],
     "language": "python",
     "metadata": {},
     "outputs": [],
     "prompt_number": ""
    },
    {
     "cell_type": "markdown",
     "metadata": {},
     "source": [
      "This can be used quite creatively:"
     ]
    },
    {
     "cell_type": "code",
     "collapsed": false,
     "input": [
      "row=np.array([[1,2,3]])\n",
      "column=np.array([[0],[2],[4]])\n",
      "print row.shape"
     ],
     "language": "python",
     "metadata": {},
     "outputs": [],
     "prompt_number": ""
    },
    {
     "cell_type": "code",
     "collapsed": false,
     "input": [
      "print column.shape"
     ],
     "language": "python",
     "metadata": {},
     "outputs": [],
     "prompt_number": ""
    },
    {
     "cell_type": "code",
     "collapsed": false,
     "input": [
      "row*column"
     ],
     "language": "python",
     "metadata": {},
     "outputs": [],
     "prompt_number": ""
    },
    {
     "cell_type": "heading",
     "level": 2,
     "metadata": {},
     "source": [
      "More Mandelbrot"
     ]
    },
    {
     "cell_type": "markdown",
     "metadata": {},
     "source": [
      "Of course, we didn't calculate the number-of-iterations-to-diverge, just whether the point was in the set."
     ]
    },
    {
     "cell_type": "markdown",
     "metadata": {},
     "source": [
      "Let's correct our code to do that:\n"
     ]
    },
    {
     "cell_type": "code",
     "collapsed": false,
     "input": [
      "def mandel4(position,limit=50):\n",
      "    value=position\n",
      "    diverged_at_count=np.zeros(position.shape)\n",
      "    while limit>0:\n",
      "        limit-=1\n",
      "        value=value**2+position\n",
      "        diverging=abs(value)>2\n",
      "        first_diverged_this_time=np.logical_and(diverging, diverged_at_count==0)\n",
      "        diverged_at_count[first_diverged_this_time]=limit\n",
      "        value[diverging]=2\n",
      "        \n",
      "    return diverged_at_count"
     ],
     "language": "python",
     "metadata": {},
     "outputs": [],
     "prompt_number": ""
    },
    {
     "cell_type": "code",
     "collapsed": false,
     "input": [
      "data7=mandel4(values)"
     ],
     "language": "python",
     "metadata": {},
     "outputs": [],
     "prompt_number": ""
    },
    {
     "cell_type": "code",
     "collapsed": false,
     "input": [
      "plt.imshow(data7,interpolation='none')"
     ],
     "language": "python",
     "metadata": {},
     "outputs": [],
     "prompt_number": ""
    },
    {
     "cell_type": "code",
     "collapsed": false,
     "input": [
      "%%timeit\n",
      "\n",
      "data7=mandel4(values)"
     ],
     "language": "python",
     "metadata": {},
     "outputs": [],
     "prompt_number": ""
    },
    {
     "cell_type": "markdown",
     "metadata": {},
     "source": [
      "Note that here, all the looping over mandelbrot steps was in Python, but everything below the loop-over-positions happened in C. The code was amazingly quick compared to pure Python."
     ]
    },
    {
     "cell_type": "markdown",
     "metadata": {},
     "source": [
      "Can we do better by avoiding a square root?"
     ]
    },
    {
     "cell_type": "code",
     "collapsed": false,
     "input": [
      "def mandel5(position,limit=50):\n",
      "    value=position\n",
      "    diverged_at_count=np.zeros(position.shape)\n",
      "    while limit>0:\n",
      "        limit-=1\n",
      "        value=value**2+position\n",
      "        diverging=value*np.conj(value)>4\n",
      "        first_diverged_this_time=np.logical_and(diverging, diverged_at_count==0)\n",
      "        diverged_at_count[first_diverged_this_time]=limit\n",
      "        value[diverging]=2\n",
      "        \n",
      "    return diverged_at_count"
     ],
     "language": "python",
     "metadata": {},
     "outputs": [],
     "prompt_number": ""
    },
    {
     "cell_type": "code",
     "collapsed": false,
     "input": [
      "%%timeit\n",
      "\n",
      "data8=mandel5(values)"
     ],
     "language": "python",
     "metadata": {},
     "outputs": [],
     "prompt_number": ""
    },
    {
     "cell_type": "markdown",
     "metadata": {},
     "source": [
      "Probably not worth the time I spent thinking about it!"
     ]
    },
    {
     "cell_type": "heading",
     "level": 1,
     "metadata": {},
     "source": [
      "NumPy Testing"
     ]
    },
    {
     "cell_type": "markdown",
     "metadata": {},
     "source": [
      "Now, let's look at calculating those residuals, the differences between the different datasets."
     ]
    },
    {
     "cell_type": "code",
     "collapsed": false,
     "input": [
      "data8=mandel5(values)\n",
      "data5=mandel2(values)"
     ],
     "language": "python",
     "metadata": {},
     "outputs": [],
     "prompt_number": ""
    },
    {
     "cell_type": "code",
     "collapsed": false,
     "input": [
      "sum(sum((data8-data5)**2))"
     ],
     "language": "python",
     "metadata": {},
     "outputs": [],
     "prompt_number": ""
    },
    {
     "cell_type": "raw",
     "metadata": {},
     "source": [
      "For our non-numpy datasets, numpy knows to turn them into arrays:"
     ]
    },
    {
     "cell_type": "code",
     "collapsed": false,
     "input": [
      "data1=[[mandel1(complex(x,y)) for x in xs] for y in ys]\n",
      "sum(sum((data7-data1)**2))"
     ],
     "language": "python",
     "metadata": {},
     "outputs": [],
     "prompt_number": ""
    },
    {
     "cell_type": "markdown",
     "metadata": {},
     "source": [
      "But this doesn't work for pure non-numpy arrays"
     ]
    },
    {
     "cell_type": "code",
     "collapsed": false,
     "input": [
      "data2=[]\n",
      "for y in ys:\n",
      "    row=[]\n",
      "    for x in xs:\n",
      "        row.append(mandel1(complex(x,y)))\n",
      "    data2.append(row)"
     ],
     "language": "python",
     "metadata": {},
     "outputs": [],
     "prompt_number": ""
    },
    {
     "cell_type": "code",
     "collapsed": false,
     "input": [
      "data2-data1"
     ],
     "language": "python",
     "metadata": {},
     "outputs": [],
     "prompt_number": ""
    },
    {
     "cell_type": "markdown",
     "metadata": {},
     "source": [
      "So we have to convert to NumPy arrays explicitly:"
     ]
    },
    {
     "cell_type": "code",
     "collapsed": false,
     "input": [
      "sum(sum((np.array(data2)-np.array(data1))**2))"
     ],
     "language": "python",
     "metadata": {},
     "outputs": [],
     "prompt_number": ""
    },
    {
     "cell_type": "markdown",
     "metadata": {},
     "source": [
      "NumPy provides some convenient assertions to help us write unit tests with NumPy arrays:"
     ]
    },
    {
     "cell_type": "code",
     "collapsed": false,
     "input": [
      "x = [1e-5, 1e-3, 1e-1]\n",
      "y = np.arccos(np.cos(x))\n",
      "np.testing.assert_allclose(x, y, rtol=1e-5, atol=0)"
     ],
     "language": "python",
     "metadata": {},
     "outputs": [],
     "prompt_number": ""
    },
    {
     "cell_type": "code",
     "collapsed": false,
     "input": [
      "np.testing.assert_allclose(data7, data1)"
     ],
     "language": "python",
     "metadata": {},
     "outputs": [],
     "prompt_number": ""
    },
    {
     "cell_type": "heading",
     "level": 1,
     "metadata": {},
     "source": [
      "Arraywise operations are fast"
     ]
    },
    {
     "cell_type": "markdown",
     "metadata": {},
     "source": [
      "Note that we might worry that we carry on calculating the mandelbrot values for points that have already diverged."
     ]
    },
    {
     "cell_type": "code",
     "collapsed": false,
     "input": [
      "def mandel6(position,limit=50):\n",
      "    value=np.zeros(position.shape)+position\n",
      "    calculating=np.ones(position.shape,dtype='bool')\n",
      "    diverged_at_count=np.zeros(position.shape)\n",
      "    while limit>0:\n",
      "        limit-=1\n",
      "        value[calculating]=value[calculating]**2+position[calculating]\n",
      "        diverging_now=np.zeros(position.shape,dtype='bool')\n",
      "        diverging_now[calculating]=value[calculating]*np.conj(value[calculating])>4\n",
      "        calculating=np.logical_and(calculating, np.logical_not(diverging_now))\n",
      "        diverged_at_count[diverging_now]=limit\n",
      "\n",
      "        \n",
      "    return diverged_at_count"
     ],
     "language": "python",
     "metadata": {},
     "outputs": [],
     "prompt_number": ""
    },
    {
     "cell_type": "code",
     "collapsed": false,
     "input": [
      "data8=mandel6(values)"
     ],
     "language": "python",
     "metadata": {},
     "outputs": [],
     "prompt_number": ""
    },
    {
     "cell_type": "code",
     "collapsed": false,
     "input": [
      "%%timeit\n",
      "\n",
      "data8=mandel6(values)"
     ],
     "language": "python",
     "metadata": {},
     "outputs": [],
     "prompt_number": ""
    },
    {
     "cell_type": "code",
     "collapsed": false,
     "input": [
      "plt.imshow(data8,interpolation='none')"
     ],
     "language": "python",
     "metadata": {},
     "outputs": [],
     "prompt_number": ""
    },
    {
     "cell_type": "markdown",
     "metadata": {},
     "source": [
      "This was **not faster** even though it was **doing less work**"
     ]
    },
    {
     "cell_type": "markdown",
     "metadata": {},
     "source": [
      "This often happens: on modern computers, **branches** (if statements, function calls) and **memory access** is usually the rate-determining step, not maths."
     ]
    },
    {
     "cell_type": "markdown",
     "metadata": {},
     "source": [
      "Complicating your logic to avoid calculations sometimes therefore slows you down. The only way to know is to **measure**"
     ]
    },
    {
     "cell_type": "heading",
     "level": 1,
     "metadata": {},
     "source": [
      "Indexing with arrays"
     ]
    },
    {
     "cell_type": "markdown",
     "metadata": {},
     "source": [
      "We've been using Boolean arrays a lot to get access to some elements of an array. We can also do this with integers:"
     ]
    },
    {
     "cell_type": "code",
     "collapsed": false,
     "input": [
      "x=np.arange(64)\n",
      "y=x.reshape([8,8])\n",
      "y"
     ],
     "language": "python",
     "metadata": {},
     "outputs": [],
     "prompt_number": ""
    },
    {
     "cell_type": "code",
     "collapsed": false,
     "input": [
      "y[[0,2]]"
     ],
     "language": "python",
     "metadata": {},
     "outputs": [],
     "prompt_number": ""
    },
    {
     "cell_type": "code",
     "collapsed": false,
     "input": [
      "y[[0,2],[1,2]]"
     ],
     "language": "python",
     "metadata": {},
     "outputs": [],
     "prompt_number": ""
    },
    {
     "cell_type": "markdown",
     "metadata": {},
     "source": [
      "We can use a : to indicate we want all the values from a particular axis:"
     ]
    },
    {
     "cell_type": "code",
     "collapsed": false,
     "input": [
      "y[:,[0,2]]"
     ],
     "language": "python",
     "metadata": {},
     "outputs": [],
     "prompt_number": ""
    },
    {
     "cell_type": "markdown",
     "metadata": {},
     "source": [
      "We can mix array selectors, boolean selectors, :s and ordinary array seqeuencers:"
     ]
    },
    {
     "cell_type": "code",
     "collapsed": false,
     "input": [
      "z=x.reshape([4,4,4])\n",
      "print z"
     ],
     "language": "python",
     "metadata": {},
     "outputs": [],
     "prompt_number": ""
    },
    {
     "cell_type": "code",
     "collapsed": false,
     "input": [
      "z[:,[1,3],0:3]"
     ],
     "language": "python",
     "metadata": {},
     "outputs": [],
     "prompt_number": ""
    },
    {
     "cell_type": "markdown",
     "metadata": {},
     "source": [
      "We can manipulate shapes by adding new indices in selectors with np.newaxis:"
     ]
    },
    {
     "cell_type": "code",
     "collapsed": false,
     "input": [
      "z[:,np.newaxis,[1,3],0].shape"
     ],
     "language": "python",
     "metadata": {},
     "outputs": [],
     "prompt_number": ""
    },
    {
     "cell_type": "markdown",
     "metadata": {},
     "source": [
      "When we use basic indexing with integers and : expressions, we get a **view** on the matrix so a copy is avoided:"
     ]
    },
    {
     "cell_type": "code",
     "collapsed": false,
     "input": [
      "a=z[:,1:3,2]\n",
      "a[0,0]=-100\n",
      "z"
     ],
     "language": "python",
     "metadata": {},
     "outputs": [],
     "prompt_number": ""
    },
    {
     "cell_type": "markdown",
     "metadata": {},
     "source": [
      "We can also use ... to specify \": for as many as possible intervening axes\":"
     ]
    },
    {
     "cell_type": "code",
     "collapsed": false,
     "input": [
      "z[1]"
     ],
     "language": "python",
     "metadata": {},
     "outputs": [],
     "prompt_number": ""
    },
    {
     "cell_type": "code",
     "collapsed": false,
     "input": [
      "z[...,1]"
     ],
     "language": "python",
     "metadata": {},
     "outputs": [],
     "prompt_number": ""
    },
    {
     "cell_type": "markdown",
     "metadata": {},
     "source": [
      "However, boolean mask indexing and array filter indexing always causes a copy."
     ]
    },
    {
     "cell_type": "markdown",
     "metadata": {},
     "source": [
      "Let's try again at avoiding doing unnecessary work by using new arrays containing the reduced data instead of a mask:"
     ]
    },
    {
     "cell_type": "code",
     "collapsed": false,
     "input": [
      "def mandel7(position,limit=50):\n",
      "    positions=np.zeros(position.shape)+position\n",
      "    value=np.zeros(position.shape)+position\n",
      "    indices=np.mgrid[0:values.shape[0],0:values.shape[1]]\n",
      "    diverged_at_count=np.zeros(position.shape)\n",
      "    while limit>0:\n",
      "        limit-=1\n",
      "        value=value**2+positions\n",
      "        diverging_now=value*np.conj(value)>4\n",
      "        diverging_now_indices=indices[:,diverging_now]\n",
      "        carry_on=np.logical_not(diverging_now)\n",
      "\n",
      "        value=value[carry_on]\n",
      "        indices=indices[:,carry_on]\n",
      "        positions=positions[carry_on]\n",
      "        diverged_at_count[diverging_now_indices[0,:],diverging_now_indices[1,:]]=limit\n",
      "\n",
      "    return diverged_at_count"
     ],
     "language": "python",
     "metadata": {},
     "outputs": [],
     "prompt_number": ""
    },
    {
     "cell_type": "code",
     "collapsed": false,
     "input": [
      "data9=mandel7(values)"
     ],
     "language": "python",
     "metadata": {},
     "outputs": [],
     "prompt_number": ""
    },
    {
     "cell_type": "code",
     "collapsed": false,
     "input": [
      "plt.imshow(data9,interpolation='none')"
     ],
     "language": "python",
     "metadata": {},
     "outputs": [],
     "prompt_number": ""
    },
    {
     "cell_type": "code",
     "collapsed": false,
     "input": [
      "%%timeit\n",
      "\n",
      "data9=mandel7(values)"
     ],
     "language": "python",
     "metadata": {},
     "outputs": [],
     "prompt_number": ""
    },
    {
     "cell_type": "markdown",
     "metadata": {},
     "source": [
      "Still slower. Probably due to lots of copies."
     ]
    }
   ],
   "metadata": {}
  }
 ]
}