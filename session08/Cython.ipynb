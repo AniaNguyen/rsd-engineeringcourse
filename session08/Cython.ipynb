{
 "metadata": {
  "name": "",
  "signature": "sha256:a4003e28aa6d0cd5c284caa895edb2c1ad1636d4d35317dfeec6858bd481081c"
 },
 "nbformat": 3,
 "nbformat_minor": 0,
 "worksheets": [
  {
   "cells": [
    {
     "cell_type": "code",
     "collapsed": false,
     "input": [
      "xmin=-1.5\n",
      "ymin=-1.0\n",
      "xmax=0.5\n",
      "ymax=1.0\n",
      "resolution=300\n",
      "xstep=(xmax-xmin)/resolution\n",
      "ystep=(ymax-ymin)/resolution\n",
      "xs=[(xmin+(xmax-xmin)*i/resolution) for i in range(resolution)]\n",
      "ys=[(ymin+(ymax-ymin)*i/resolution) for i in range(resolution)]"
     ],
     "language": "python",
     "metadata": {},
     "outputs": [],
     "prompt_number": ""
    },
    {
     "cell_type": "code",
     "collapsed": false,
     "input": [
      "%load_ext cythonmagic\n"
     ],
     "language": "python",
     "metadata": {},
     "outputs": [],
     "prompt_number": ""
    },
    {
     "cell_type": "code",
     "collapsed": false,
     "input": [
      "def mandel(position,limit=50):\n",
      "    value=position\n",
      "    while abs(value)<2:\n",
      "        limit-=1\n",
      "        value=value**2+position\n",
      "        if limit<0:\n",
      "            return 0\n",
      "    return limit"
     ],
     "language": "python",
     "metadata": {},
     "outputs": [],
     "prompt_number": ""
    },
    {
     "cell_type": "code",
     "collapsed": false,
     "input": [
      "%%cython\n",
      "def mandel_cython(position,limit=50):\n",
      "    value=position\n",
      "    while abs(value)<2:\n",
      "        limit-=1\n",
      "        value=value**2+position\n",
      "        if limit<0:\n",
      "            return 0\n",
      "    return limit"
     ],
     "language": "python",
     "metadata": {},
     "outputs": [],
     "prompt_number": ""
    },
    {
     "cell_type": "code",
     "collapsed": false,
     "input": [
      "data_cy=[[mandel_cython(complex(x,y)) for x in xs] for y in ys]"
     ],
     "language": "python",
     "metadata": {},
     "outputs": [],
     "prompt_number": ""
    },
    {
     "cell_type": "code",
     "collapsed": false,
     "input": [
      "%%timeit\n",
      "data_cy=[[mandel_cython(complex(x,y)) for x in xs] for y in ys]"
     ],
     "language": "python",
     "metadata": {},
     "outputs": [],
     "prompt_number": ""
    },
    {
     "cell_type": "markdown",
     "metadata": {},
     "source": [
      "This is about a factor of 2 faster than the pure python."
     ]
    },
    {
     "cell_type": "markdown",
     "metadata": {},
     "source": [
      "But we can do much better, by telling Cython what C types we would use for the code:"
     ]
    },
    {
     "cell_type": "code",
     "collapsed": false,
     "input": [
      "%%cython\n",
      "def typed_mandel_cython(position,limit=50):\n",
      "    cdef double complex value\n",
      "    value=position\n",
      "    while abs(value)<2:\n",
      "        limit-=1\n",
      "        value=value**2+position\n",
      "        if limit<0:\n",
      "            return 0\n",
      "    return limit"
     ],
     "language": "python",
     "metadata": {},
     "outputs": [],
     "prompt_number": ""
    },
    {
     "cell_type": "code",
     "collapsed": false,
     "input": [
      "%%timeit\n",
      "data_cy=[[typed_mandel_cython(complex(x,y)) for x in xs] for y in ys]"
     ],
     "language": "python",
     "metadata": {},
     "outputs": [],
     "prompt_number": ""
    },
    {
     "cell_type": "markdown",
     "metadata": {},
     "source": [
      "We might not really seeing how well Cython is really doing, as our loop could now be the limit:"
     ]
    },
    {
     "cell_type": "code",
     "collapsed": false,
     "input": [
      "%%timeit\n",
      "mandel(0)"
     ],
     "language": "python",
     "metadata": {},
     "outputs": [],
     "prompt_number": ""
    },
    {
     "cell_type": "code",
     "collapsed": false,
     "input": [
      "%%timeit\n",
      "mandel_cython(0)"
     ],
     "language": "python",
     "metadata": {},
     "outputs": [],
     "prompt_number": ""
    },
    {
     "cell_type": "code",
     "collapsed": false,
     "input": [
      "%%timeit\n",
      "typed_mandel_cython(0)"
     ],
     "language": "python",
     "metadata": {},
     "outputs": [],
     "prompt_number": ""
    },
    {
     "cell_type": "code",
     "collapsed": false,
     "input": [
      "%%cython\n",
      "cpdef call_typed_mandel_cython(double complex position,int limit=50):\n",
      "    cdef double complex value\n",
      "    value=position\n",
      "    while abs(value)<2:\n",
      "        limit-=1\n",
      "        value=value**2+position\n",
      "        if limit<0:\n",
      "            return 0\n",
      "    return limit"
     ],
     "language": "python",
     "metadata": {},
     "outputs": [],
     "prompt_number": ""
    },
    {
     "cell_type": "code",
     "collapsed": false,
     "input": [
      "%%timeit\n",
      "call_typed_mandel_cython(0)"
     ],
     "language": "python",
     "metadata": {},
     "outputs": [],
     "prompt_number": ""
    },
    {
     "cell_type": "markdown",
     "metadata": {},
     "source": [
      "Note we're not actually writing C, we're writing Python with C types."
     ]
    },
    {
     "cell_type": "markdown",
     "metadata": {},
     "source": [
      "We can call C functions instead of Python functions with appropriate imports. E.g., let's get complex abs from the C standard library."
     ]
    },
    {
     "cell_type": "code",
     "collapsed": false,
     "input": [
      "%%cython\n",
      "from libc.math cimport abs as cabs\n",
      "cpdef mandel_cython_2(double complex position,int limit=50):\n",
      "    cdef double complex value\n",
      "    value=position\n",
      "    while cabs(value)<2:\n",
      "        limit-=1\n",
      "        value=value**2+position\n",
      "        if limit<0:\n",
      "            return 0\n",
      "    return limit"
     ],
     "language": "python",
     "metadata": {},
     "outputs": [],
     "prompt_number": ""
    },
    {
     "cell_type": "code",
     "collapsed": false,
     "input": [
      "%%timeit\n",
      "mandel_cython_2(0)"
     ],
     "language": "python",
     "metadata": {},
     "outputs": [],
     "prompt_number": ""
    },
    {
     "cell_type": "markdown",
     "metadata": {},
     "source": [
      "Cython integrates nicely with NumPy:"
     ]
    },
    {
     "cell_type": "code",
     "collapsed": false,
     "input": [
      "import numpy as np\n",
      "ymatrix,xmatrix=np.mgrid[ymin:ymax:ystep,xmin:xmax:xstep]\n",
      "values=xmatrix+1j*ymatrix"
     ],
     "language": "python",
     "metadata": {},
     "outputs": [],
     "prompt_number": ""
    },
    {
     "cell_type": "code",
     "collapsed": false,
     "input": [
      "numpy_cython_1=np.vectorize(mandel_cython_2)"
     ],
     "language": "python",
     "metadata": {},
     "outputs": [],
     "prompt_number": ""
    },
    {
     "cell_type": "code",
     "collapsed": false,
     "input": [
      "%%timeit \n",
      "numpy_cython_1(values)"
     ],
     "language": "python",
     "metadata": {},
     "outputs": [],
     "prompt_number": ""
    },
    {
     "cell_type": "code",
     "collapsed": false,
     "input": [
      "from matplotlib import pyplot as plt\n",
      "%matplotlib inline\n",
      "plt.imshow(numpy_cython_1(values),interpolation='none')"
     ],
     "language": "python",
     "metadata": {},
     "outputs": [],
     "prompt_number": ""
    },
    {
     "cell_type": "markdown",
     "metadata": {},
     "source": [
      "Fast, but slower than our pure NumPy. Maybe explicit C-style looping is faster?"
     ]
    },
    {
     "cell_type": "code",
     "collapsed": false,
     "input": [
      "%%cython\n",
      "import numpy as np\n",
      "cimport numpy as np\n",
      "cpdef numpy_cython_2(np.ndarray[double complex,ndim=2] position, int limit=50):\n",
      "    cdef np.ndarray[long,ndim=2] diverged_at\n",
      "    cdef double complex value\n",
      "    cdef int xlim\n",
      "    cdef int ylim\n",
      "    cdef double complex pos\n",
      "    cdef steps\n",
      "\n",
      "    \n",
      "    xlim=position.shape[1]\n",
      "    ylim=position.shape[0]\n",
      "    diverged_at=np.zeros([ylim, xlim], dtype=int)\n",
      "    for y in range(ylim):\n",
      "        for x in range(xlim):\n",
      "             steps=limit\n",
      "             value=position[y,x]\n",
      "             pos=position[y,x]\n",
      "             while abs(value)<2 and steps>=0:\n",
      "                steps-=1\n",
      "                value=value**2+pos\n",
      "             diverged_at[y,x]=steps\n",
      "  \n",
      "    return diverged_at"
     ],
     "language": "python",
     "metadata": {},
     "outputs": [],
     "prompt_number": ""
    },
    {
     "cell_type": "code",
     "collapsed": false,
     "input": [
      "%%timeit\n",
      "numpy_cython_2(values)"
     ],
     "language": "python",
     "metadata": {},
     "outputs": [],
     "prompt_number": ""
    },
    {
     "cell_type": "code",
     "collapsed": false,
     "input": [
      "from matplotlib import pyplot as plt\n",
      "%matplotlib inline\n",
      "plt.imshow(numpy_cython_2(values),interpolation='none')"
     ],
     "language": "python",
     "metadata": {},
     "outputs": [],
     "prompt_number": ""
    },
    {
     "cell_type": "code",
     "collapsed": false,
     "input": [
      "%%cython\n",
      "import numpy as np\n",
      "cimport numpy as np\n",
      "cpdef numpy_cython_3(np.ndarray[double complex,ndim=2] position, int limit=50):\n",
      "    cdef np.ndarray[long,ndim=2] diverged_at_count\n",
      "    cdef np.ndarray[double complex,ndim=2] value\n",
      "\n",
      "    cdef np.ndarray[long, ndim=2] diverging\n",
      "    \n",
      "    value=position\n",
      "    diverged_at_count=np.zeros([position.shape[0], position.shape[1]], dtype=int)\n",
      "    while limit>0:\n",
      "        limit-=1\n",
      "        value=value**2+position\n",
      "        diverging=np.abs(value)>4\n",
      "        \n",
      "\n",
      "        value[diverging]=2\n",
      "        \n",
      "    return diverged_at_count"
     ],
     "language": "python",
     "metadata": {},
     "outputs": [],
     "prompt_number": ""
    },
    {
     "cell_type": "code",
     "collapsed": false,
     "input": [
      "%%cython\n",
      "from libc.math cimport abs as cabs\n",
      "cpdef wrap_c_abs(double x):\n",
      "    ertur"
     ],
     "language": "python",
     "metadata": {},
     "outputs": []
    }
   ],
   "metadata": {}
  }
 ]
}