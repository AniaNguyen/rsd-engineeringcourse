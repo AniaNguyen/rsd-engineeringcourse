{
 "cells": [
  {
   "cell_type": "markdown",
   "metadata": {},
   "source": [
    "##Testing\n",
    "\n",
    "###A few reasons not to do testing\n",
    "\n",
    "\n",
    "Sensibility                               | Sense\n",
    "  ------------------------------------    |  -------------------------------------\n",
    "  **It's boring**                         |  *Maybe*\n",
    "  **Code is just a one off throwaway**    |  *As with most research codes*\n",
    "  **No time for it**                      |  *A bit more code, a lot less debugging*\n",
    "  **Tests can be buggy too**              |  *See above*\n",
    "  **Not a professional programmer**       |  *See above*\n",
    "  **Will do it later**                    | *See above*"
   ]
  },
  {
   "cell_type": "markdown",
   "metadata": {},
   "source": [
    "###A few reasons to do testing\n",
    "\n",
    "* **lazyness** *testing saves time*\n",
    "* **peace of mind** *tests (should) ensure code is correct*\n",
    "* **runnable specification** *best way to let others know what a function should do and\n",
    "    not do*\n",
    "* **reproducible debugging** *debugging that happened and is saved for later reuse*\n",
    "* code structure / **modularity** *since the code is designed for at least two situations*\n",
    "* easier to modify *since results can be tested*"
   ]
  },
  {
   "cell_type": "markdown",
   "metadata": {},
   "source": [
    "###Not a panacea\n",
    "\n",
    "> Trying to improve the quality of software by doing more testing is like trying to lose weight by\n",
    "> weighting yourself more often.\n",
    "    - Steve McConnell"
   ]
  },
  {
   "cell_type": "markdown",
   "metadata": {},
   "source": [
    " * Testing won't corrrect a buggy code\n",
    " * Testing will tell you were the bugs are...\n",
    " * ... if the test cases *cover* the bugs"
   ]
  },
  {
   "cell_type": "markdown",
   "metadata": {},
   "source": [
    "##Testing primer\n",
    "\n",
    "###Tests at different scales\n",
    "\n",
    "Level of test               |Area covered by test\n",
    "--------------------------  |----------------------\n",
    "**Unit testing**            |smallest logical block of work (often < 10 lines of code)\n",
    "**Component testing**       |several logical blocks of work together\n",
    "**Integration testing**     |all components together / whole program\n",
    "\n",
    "\n",
    "<br>\n",
    "<div class=\"fragment fade-in\">\n",
    "Always start at the smallest scale! \n",
    "\n",
    "<div class=\"fragment grow\">\n",
    "If a unit test is too complicated, go smaller.\n",
    "</div>\n",
    "</div>"
   ]
  },
  {
   "cell_type": "markdown",
   "metadata": {},
   "source": [
    "</div>\n",
    "</div>\n",
    "\n",
    "###Legacy code hardening\n",
    "\n",
    "* Very difficult to create unit-tests for existing code\n",
    "* Instead we make a **regression test**\n",
    "* Run program as a black box:\n",
    "\n",
    "```\n",
    "setup input\n",
    "run program\n",
    "read output\n",
    "check output against expected result\n",
    "```\n",
    "\n",
    "* Does not test correctness of code\n",
    "* Checks code is a similarly wrong on day N as day 0"
   ]
  },
  {
   "cell_type": "markdown",
   "metadata": {},
   "source": [
    "###Testing vocabulary\n",
    "\n",
    "* **fixture**: input data\n",
    "* **action**: function that is being tested\n",
    "* **expected result**: the output that should be obtained\n",
    "* **actual result**: the output that is obtained\n",
    "* **coverage**: proportion of all possible paths in the code that the tests take"
   ]
  },
  {
   "cell_type": "markdown",
   "metadata": {},
   "source": [
    "### Branch coverage:"
   ]
  },
  {
   "cell_type": "markdown",
   "metadata": {
    "attributes": {
     "classes": [
      " python"
     ],
     "id": ""
    }
   },
   "source": [
    "```python\n",
    "if energy > 0:\n",
    "    ! Do this \n",
    "else:\n",
    "    ! Do that\n",
    "```"
   ]
  },
  {
   "cell_type": "markdown",
   "metadata": {},
   "source": [
    "Is there a test for both `energy > 0` and `energy <= 0`?"
   ]
  },
  {
   "cell_type": "markdown",
   "metadata": {},
   "source": [
    "##How to Test"
   ]
  },
  {
   "cell_type": "markdown",
   "metadata": {},
   "source": [
    "###Equivalence partitioning"
   ]
  },
  {
   "cell_type": "markdown",
   "metadata": {},
   "source": [
    "Think hard about the different cases the code will run under: this is science, not coding!"
   ]
  },
  {
   "cell_type": "markdown",
   "metadata": {},
   "source": [
    "We can't write a test for every possible input: this is an infinite amount of work."
   ]
  },
  {
   "cell_type": "markdown",
   "metadata": {},
   "source": [
    "We need to write tests to rule out different bugs. There's no need to separately test *equivalent* inputs. "
   ]
  },
  {
   "cell_type": "markdown",
   "metadata": {},
   "source": [
    "Let's look at an example of this question outside of coding:"
   ]
  },
  {
   "cell_type": "markdown",
   "metadata": {},
   "source": [
    "* Research Project : Evolution of agricultural fields in Saskatchewan from aerial photography\n",
    "* In silico translation  : Compute overlap of two rectangles"
   ]
  },
  {
   "cell_type": "code",
   "execution_count": null,
   "metadata": {
    "collapsed": true
   },
   "outputs": [],
   "source": [
    "import matplotlib.pyplot as plt\n",
    "from matplotlib.path import Path\n",
    "import matplotlib.patches as patches\n",
    "%matplotlib inline"
   ]
  },
  {
   "cell_type": "markdown",
   "metadata": {},
   "source": [
    "Let's make a little fragment of matplotlib code to visualise a pair of fields."
   ]
  },
  {
   "cell_type": "code",
   "execution_count": 4,
   "metadata": {
    "collapsed": false
   },
   "outputs": [
    {
     "data": {
      "image/png": "[encoded data removed]",
      "text/plain": [
       "<matplotlib.figure.Figure at 0x10b0f2f10>"
      ]
     },
     "metadata": {},
     "output_type": "display_data"
    }
   ],
   "source": [
    "def show_fields(field1, field2):\n",
    "    def vertices(left, bottom, right, top):\n",
    "        verts = [(left, bottom),\n",
    "                 (left, top),\n",
    "                 (right, top),\n",
    "                 (right, bottom),\n",
    "                 (left, bottom)]\n",
    "        return verts\n",
    "    \n",
    "    codes = [Path.MOVETO,\n",
    "             Path.LINETO,\n",
    "             Path.LINETO,\n",
    "             Path.LINETO,\n",
    "             Path.CLOSEPOLY]\n",
    "    path1 = Path(vertices(*field1), codes)\n",
    "    path2 = Path(vertices(*field2), codes)         \n",
    "    fig = plt.figure()\n",
    "    ax = fig.add_subplot(111)\n",
    "    patch1 = patches.PathPatch(path1, facecolor='orange', lw=2)\n",
    "    patch2 = patches.PathPatch(path2, facecolor='blue', lw=2)         \n",
    "    ax.add_patch(patch1)\n",
    "    ax.add_patch(patch2)       \n",
    "    ax.set_xlim(0,5)\n",
    "    ax.set_ylim(0,5)\n",
    "\n",
    "show_fields((1.,1.,4.,4.),(2.,2.,3.,3.))"
   ]
  },
  {
   "cell_type": "markdown",
   "metadata": {},
   "source": [
    "Here, we can see that the area of overlap, is the same as the smaller field, with area 1."
   ]
  },
  {
   "cell_type": "markdown",
   "metadata": {},
   "source": [
    "We could now go ahead and write a subroutine to calculate that, and also write some test cases for our answer."
   ]
  },
  {
   "cell_type": "markdown",
   "metadata": {},
   "source": [
    "But first, let's just consider that question abstractly, what other cases, *not equivalent to this* might there be?"
   ]
  },
  {
   "cell_type": "markdown",
   "metadata": {},
   "source": [
    "For example, this case, is still just a full overlap, and is sufficiently equivalent that it's not worth another test:"
   ]
  },
  {
   "cell_type": "code",
   "execution_count": 7,
   "metadata": {
    "collapsed": false
   },
   "outputs": [
    {
     "data": {
      "image/png": "[encoded data removed]",
      "text/plain": [
       "<matplotlib.figure.Figure at 0x10b1462d0>"
      ]
     },
     "metadata": {},
     "output_type": "display_data"
    }
   ],
   "source": [
    "show_fields((1.,1.,4.,4.),(2.5,1.7,3.2,3.4))"
   ]
  },
  {
   "cell_type": "markdown",
   "metadata": {},
   "source": [
    "But this case is no longer a full overlap, and should be tested separately:"
   ]
  },
  {
   "cell_type": "code",
   "execution_count": 20,
   "metadata": {
    "collapsed": false
   },
   "outputs": [
    {
     "data": {
      "image/png": "[encoded data removed]",
      "text/plain": [
       "<matplotlib.figure.Figure at 0x10aea6a10>"
      ]
     },
     "metadata": {},
     "output_type": "display_data"
    }
   ],
   "source": [
    "show_fields((1.,1.,4.,4.),(2.,2.,3.,4.5))"
   ]
  },
  {
   "cell_type": "markdown",
   "metadata": {},
   "source": [
    "On a piece of paper, sketch now the other cases you think should be treated as non-equivalent. The answers are in a separate\n",
    "notebook."
   ]
  },
  {
   "cell_type": "code",
   "execution_count": 21,
   "metadata": {
    "collapsed": false
   },
   "outputs": [
    {
     "data": {
      "image/png": "[encoded data removed]",
      "text/plain": [
       "<matplotlib.figure.Figure at 0x10afce150>"
      ]
     },
     "metadata": {},
     "output_type": "display_data"
    }
   ],
   "source": [
    "show_fields((1.,1.,4.,4.),(2,2,4.5,4.5)) # Overlap corner"
   ]
  },
  {
   "cell_type": "code",
   "execution_count": 23,
   "metadata": {
    "collapsed": false
   },
   "outputs": [
    {
     "data": {
      "image/png": "[encoded data removed]",
      "text/plain": [
       "<matplotlib.figure.Figure at 0x10b13ce50>"
      ]
     },
     "metadata": {},
     "output_type": "display_data"
    }
   ],
   "source": [
    "show_fields((1.,1.,4.,4.),(2.,2.,3.,4.)) # Just touching"
   ]
  },
  {
   "cell_type": "code",
   "execution_count": 27,
   "metadata": {
    "collapsed": false
   },
   "outputs": [
    {
     "data": {
      "image/png": "[encoded data removed]",
      "text/plain": [
       "<matplotlib.figure.Figure at 0x1094b0b50>"
      ]
     },
     "metadata": {},
     "output_type": "display_data"
    }
   ],
   "source": [
    "show_fields((1.,1.,4.,4.),(4.5,4.5,5,5)) # No overlap"
   ]
  },
  {
   "cell_type": "code",
   "execution_count": 10,
   "metadata": {
    "collapsed": false
   },
   "outputs": [
    {
     "data": {
      "image/png": "[encoded data removed]",
      "text/plain": [
       "<matplotlib.figure.Figure at 0x10aed55d0>"
      ]
     },
     "metadata": {},
     "output_type": "display_data"
    }
   ],
   "source": [
    "show_fields((1.,1.,4.,4.),(2.5,4,3.5,4.5)) # Just touching from outside"
   ]
  },
  {
   "cell_type": "code",
   "execution_count": 14,
   "metadata": {
    "collapsed": false
   },
   "outputs": [
    {
     "data": {
      "image/png": "[encoded data removed]",
      "text/plain": [
       "<matplotlib.figure.Figure at 0x10b0dc790>"
      ]
     },
     "metadata": {},
     "output_type": "display_data"
    }
   ],
   "source": [
    "show_fields((1.,1.,4.,4.),(4,4,4.5,4.5)) # Touching corner"
   ]
  },
  {
   "cell_type": "markdown",
   "metadata": {},
   "source": [
    "## Using our tests"
   ]
  },
  {
   "cell_type": "markdown",
   "metadata": {},
   "source": [
    "OK, so how might our tests be useful?"
   ]
  },
  {
   "cell_type": "markdown",
   "metadata": {},
   "source": [
    "Here's some code that **might** correctly calculate the area of overlap:"
   ]
  },
  {
   "cell_type": "code",
   "execution_count": 28,
   "metadata": {
    "collapsed": true
   },
   "outputs": [],
   "source": [
    "def overlap(field1, field2):\n",
    "    left1, bottom1, top1, right1 = field1\n",
    "    left2, bottom2, top2, right2 = field2\n",
    "    overlap_left=max(left1, left2)\n",
    "    overlap_bottom=max(bottom1, bottom2)\n",
    "    overlap_right=min(right1, right2)\n",
    "    overlap_top=min(top1, top2)\n",
    "    overlap_height=(overlap_top-overlap_bottom)\n",
    "    overlap_width=(overlap_right-overlap_left)\n",
    "    return overlap_height*overlap_width"
   ]
  },
  {
   "cell_type": "markdown",
   "metadata": {},
   "source": [
    "So how do we check our code?"
   ]
  },
  {
   "cell_type": "markdown",
   "metadata": {},
   "source": [
    "The manual approach would be to look at some cases, and, once, run it and check:"
   ]
  },
  {
   "cell_type": "code",
   "execution_count": 29,
   "metadata": {
    "collapsed": false
   },
   "outputs": [
    {
     "data": {
      "text/plain": [
       "1.0"
      ]
     },
     "execution_count": 29,
     "metadata": {},
     "output_type": "execute_result"
    }
   ],
   "source": [
    "overlap((1.,1.,4.,4.),(2.,2.,3.,3.))"
   ]
  },
  {
   "cell_type": "markdown",
   "metadata": {},
   "source": [
    "That looks OK."
   ]
  },
  {
   "cell_type": "markdown",
   "metadata": {},
   "source": [
    "But we can do better, we can write code which **raises an error** if it gets an unexpected answer:"
   ]
  },
  {
   "cell_type": "code",
   "execution_count": 30,
   "metadata": {
    "collapsed": true
   },
   "outputs": [],
   "source": [
    "assert overlap((1.,1.,4.,4.),(2.,2.,3.,3.)) == 1.0"
   ]
  },
  {
   "cell_type": "code",
   "execution_count": 31,
   "metadata": {
    "collapsed": true
   },
   "outputs": [],
   "source": [
    "assert overlap((1.,1.,4.,4.),(2.,2.,3.,4.5)) == 2.0 "
   ]
  },
  {
   "cell_type": "code",
   "execution_count": 32,
   "metadata": {
    "collapsed": true
   },
   "outputs": [],
   "source": [
    "assert overlap((1.,1.,4.,4.),(2.,2.,4.5,4.5)) == 4.0 "
   ]
  },
  {
   "cell_type": "code",
   "execution_count": 33,
   "metadata": {
    "collapsed": false
   },
   "outputs": [
    {
     "ename": "AssertionError",
     "evalue": "",
     "output_type": "error",
     "traceback": [
      "\u001b[0;31m---------------------------------------------------------------------------\u001b[0m",
      "\u001b[0;31mAssertionError\u001b[0m                            Traceback (most recent call last)",
      "\u001b[0;32m<ipython-input-33-9b6bffd116ce>\u001b[0m in \u001b[0;36m<module>\u001b[0;34m()\u001b[0m\n\u001b[0;32m----> 1\u001b[0;31m \u001b[0;32massert\u001b[0m \u001b[0moverlap\u001b[0m\u001b[0;34m(\u001b[0m\u001b[0;34m(\u001b[0m\u001b[0;36m1.\u001b[0m\u001b[0;34m,\u001b[0m\u001b[0;36m1.\u001b[0m\u001b[0;34m,\u001b[0m\u001b[0;36m4.\u001b[0m\u001b[0;34m,\u001b[0m\u001b[0;36m4.\u001b[0m\u001b[0;34m)\u001b[0m\u001b[0;34m,\u001b[0m\u001b[0;34m(\u001b[0m\u001b[0;36m4.5\u001b[0m\u001b[0;34m,\u001b[0m\u001b[0;36m4.5\u001b[0m\u001b[0;34m,\u001b[0m\u001b[0;36m5\u001b[0m\u001b[0;34m,\u001b[0m\u001b[0;36m5\u001b[0m\u001b[0;34m)\u001b[0m\u001b[0;34m)\u001b[0m \u001b[0;34m==\u001b[0m \u001b[0;36m0.0\u001b[0m\u001b[0;34m\u001b[0m\u001b[0m\n\u001b[0m",
      "\u001b[0;31mAssertionError\u001b[0m: "
     ]
    }
   ],
   "source": [
    "assert overlap((1.,1.,4.,4.),(4.5,4.5,5,5)) == 0.0 "
   ]
  },
  {
   "cell_type": "code",
   "execution_count": 34,
   "metadata": {
    "collapsed": false
   },
   "outputs": [
    {
     "name": "stdout",
     "output_type": "stream",
     "text": [
      "0.25\n"
     ]
    }
   ],
   "source": [
    "print overlap((1.,1.,4.,4.),(4.5,4.5,5,5))"
   ]
  },
  {
   "cell_type": "markdown",
   "metadata": {},
   "source": [
    "What? Why is this wrong?"
   ]
  },
  {
   "cell_type": "markdown",
   "metadata": {},
   "source": [
    "In our calculation, we are actually getting:"
   ]
  },
  {
   "cell_type": "code",
   "execution_count": 36,
   "metadata": {
    "collapsed": true
   },
   "outputs": [],
   "source": [
    "overlap_left=4.5\n",
    "overlap_right=4\n",
    "overlap_width=-0.5\n",
    "overlap_height=-0.5"
   ]
  },
  {
   "cell_type": "markdown",
   "metadata": {},
   "source": [
    "Both width and height are negative, resulting in a positive area.\n",
    "The above code didn't take into account the non-overlap correctly."
   ]
  },
  {
   "cell_type": "markdown",
   "metadata": {},
   "source": [
    "It should be:\n",
    "    "
   ]
  },
  {
   "cell_type": "code",
   "execution_count": 43,
   "metadata": {
    "collapsed": true
   },
   "outputs": [],
   "source": [
    "def overlap(field1, field2):\n",
    "    left1, bottom1, top1, right1 = field1\n",
    "    left2, bottom2, top2, right2 = field2\n",
    "    \n",
    "    overlap_left=max(left1, left2)\n",
    "    overlap_bottom=max(bottom1, bottom2)\n",
    "    overlap_right=min(right1, right2)\n",
    "    overlap_top=min(top1, top2)\n",
    "    \n",
    "    overlap_height=max(0, (overlap_top-overlap_bottom))\n",
    "    overlap_width=max(0, (overlap_right-overlap_left))\n",
    "    \n",
    "    return overlap_height*overlap_width"
   ]
  },
  {
   "cell_type": "code",
   "execution_count": 45,
   "metadata": {
    "collapsed": true
   },
   "outputs": [],
   "source": [
    "assert overlap((1,1,4,4),(2,2,3,3)) == 1.0\n",
    "assert overlap((1,1,4,4),(2,2,3,4.5)) == 2.0 \n",
    "assert overlap((1,1,4,4),(2,2,4.5,4.5)) == 4.0 \n",
    "assert overlap((1,1,4,4),(4.5,4.5,5,5)) == 0.0 \n",
    "assert overlap((1,1,4,4),(2.5,4,3.5,4.5)) == 0.0 \n",
    "assert overlap((1,1,4,4),(4,4,4.5,4.5)) == 0.0 "
   ]
  },
  {
   "cell_type": "markdown",
   "metadata": {},
   "source": [
    "Note, we reran our other tests, to check our fix didn't break something else. (We call that \"fallout\")"
   ]
  },
  {
   "cell_type": "markdown",
   "metadata": {},
   "source": [
    "###Boundary cases\n",
    "\n",
    "\"Boundary cases\" are an important area to test:\n",
    "\n",
    "* Limit between two equivalence classes: edge and corner sharing fields\n",
    "* Wherever indices appear, check values at ``0``, ``N``, ``N+1``\n",
    "* Empty arrays:"
   ]
  },
  {
   "cell_type": "markdown",
   "metadata": {
    "attributes": {
     "classes": [
      " python"
     ],
     "id": ""
    }
   },
   "source": [
    "``` python\n",
    "    atoms = [read_input_atom(input_atom) for input_atom in input_file]\n",
    "    energy = force_field(atoms)\n",
    "```"
   ]
  },
  {
   "cell_type": "markdown",
   "metadata": {},
   "source": [
    "* What happens if ``atoms`` is an empty list?\n",
    "* What happens when a matrix/data-frame reaches one row, or one column?"
   ]
  },
  {
   "cell_type": "markdown",
   "metadata": {},
   "source": [
    "##Positive *and* negative tests\n",
    "\n",
    "* **Positive tests**: code should give correct answer with various inputs\n",
    "* **Negative tests**: code should crash as expected given invalid inputs, rather than lying\n",
    "\n",
    "<div align=\"left\">\n",
    "Bad input should be expected and should fail early and explicitly.\n",
    "\n",
    "<div class=\"fragment roll-in\">\n",
    "Testing should ensure that explicit failures do indeed happen."
   ]
  },
  {
   "cell_type": "markdown",
   "metadata": {},
   "source": [
    "## Raising exceptions"
   ]
  },
  {
   "cell_type": "markdown",
   "metadata": {},
   "source": [
    "In Python, we can signal an error state by raising an error:"
   ]
  },
  {
   "cell_type": "code",
   "execution_count": 48,
   "metadata": {
    "attributes": {
     "classes": [
      " python"
     ],
     "id": ""
    },
    "collapsed": true
   },
   "outputs": [],
   "source": [
    "def I_only_accept_positive_numbers(number):\n",
    "    # Check input\n",
    "    if number < 0: \n",
    "        raise ValueError(\"Input \"+ str(number)+\" is negative\")\n",
    "\n",
    "    # Do something"
   ]
  },
  {
   "cell_type": "code",
   "execution_count": 49,
   "metadata": {
    "collapsed": true
   },
   "outputs": [],
   "source": [
    "I_only_accept_positive_numbers(5)"
   ]
  },
  {
   "cell_type": "code",
   "execution_count": 50,
   "metadata": {
    "collapsed": false
   },
   "outputs": [
    {
     "ename": "ValueError",
     "evalue": "Input -5 is negative",
     "output_type": "error",
     "traceback": [
      "\u001b[0;31m---------------------------------------------------------------------------\u001b[0m",
      "\u001b[0;31mValueError\u001b[0m                                Traceback (most recent call last)",
      "\u001b[0;32m<ipython-input-50-e283d4657e88>\u001b[0m in \u001b[0;36m<module>\u001b[0;34m()\u001b[0m\n\u001b[0;32m----> 1\u001b[0;31m \u001b[0mI_only_accept_positive_numbers\u001b[0m\u001b[0;34m(\u001b[0m\u001b[0;34m-\u001b[0m\u001b[0;36m5\u001b[0m\u001b[0;34m)\u001b[0m\u001b[0;34m\u001b[0m\u001b[0m\n\u001b[0m",
      "\u001b[0;32m<ipython-input-48-6e472e931020>\u001b[0m in \u001b[0;36mI_only_accept_positive_numbers\u001b[0;34m(number)\u001b[0m\n\u001b[1;32m      2\u001b[0m     \u001b[0;31m# Check input\u001b[0m\u001b[0;34m\u001b[0m\u001b[0;34m\u001b[0m\u001b[0m\n\u001b[1;32m      3\u001b[0m     \u001b[0;32mif\u001b[0m \u001b[0mnumber\u001b[0m \u001b[0;34m<\u001b[0m \u001b[0;36m0\u001b[0m\u001b[0;34m:\u001b[0m\u001b[0;34m\u001b[0m\u001b[0m\n\u001b[0;32m----> 4\u001b[0;31m         \u001b[0;32mraise\u001b[0m \u001b[0mValueError\u001b[0m\u001b[0;34m(\u001b[0m\u001b[0;34m\"Input \"\u001b[0m\u001b[0;34m+\u001b[0m \u001b[0mstr\u001b[0m\u001b[0;34m(\u001b[0m\u001b[0mnumber\u001b[0m\u001b[0;34m)\u001b[0m\u001b[0;34m+\u001b[0m\u001b[0;34m\" is negative\"\u001b[0m\u001b[0;34m)\u001b[0m\u001b[0;34m\u001b[0m\u001b[0m\n\u001b[0m\u001b[1;32m      5\u001b[0m \u001b[0;34m\u001b[0m\u001b[0m\n\u001b[1;32m      6\u001b[0m     \u001b[0;31m# Do something\u001b[0m\u001b[0;34m\u001b[0m\u001b[0;34m\u001b[0m\u001b[0m\n",
      "\u001b[0;31mValueError\u001b[0m: Input -5 is negative"
     ]
    }
   ],
   "source": [
    "I_only_accept_positive_numbers(-5)"
   ]
  },
  {
   "cell_type": "markdown",
   "metadata": {},
   "source": [
    "There are standard \"Exception\" types, like `ValueError` we can `raise`"
   ]
  },
  {
   "cell_type": "markdown",
   "metadata": {},
   "source": [
    "We would like to be able to write tests like this:"
   ]
  },
  {
   "cell_type": "code",
   "execution_count": 52,
   "metadata": {
    "collapsed": false
   },
   "outputs": [
    {
     "ename": "SyntaxError",
     "evalue": "invalid syntax (<ipython-input-52-af84655f8e47>, line 1)",
     "output_type": "error",
     "traceback": [
      "\u001b[0;36m  File \u001b[0;32m\"<ipython-input-52-af84655f8e47>\"\u001b[0;36m, line \u001b[0;32m1\u001b[0m\n\u001b[0;31m    assert I_only_accept_positive_numbers(-5) == # Gives a value error\u001b[0m\n\u001b[0m                                                                      ^\u001b[0m\n\u001b[0;31mSyntaxError\u001b[0m\u001b[0;31m:\u001b[0m invalid syntax\n"
     ]
    }
   ],
   "source": [
    "assert I_only_accept_positive_numbers(-5) == # Gives a value error"
   ]
  },
  {
   "cell_type": "markdown",
   "metadata": {},
   "source": [
    "But to do that, we need to learn about more sophisticated testing tools, called \"test frameworks\"."
   ]
  },
  {
   "cell_type": "markdown",
   "metadata": {},
   "source": [
    "##Testing frameworks\n",
    "\n",
    "###Why use testing frameworks?"
   ]
  },
  {
   "cell_type": "markdown",
   "metadata": {},
   "source": [
    "Frameworks should simplify our lives:\n",
    "\n",
    "* Should be easy to add simple test\n",
    "* Should be possible to create complex test:\n",
    "    * Fixtures\n",
    "    * Setup/Tear down\n",
    "    * Parameterized tests (same test, mostly same input)\n",
    "* Find all our tests in a complicated code-base \n",
    "* Run all our tests with a quick command\n",
    "* Run only some tests, e.g. ``test --only \"tests about fields``\n",
    "* **Report failing tests**\n",
    "* Additional goodies, such as code coverage"
   ]
  },
  {
   "cell_type": "markdown",
   "metadata": {},
   "source": [
    "###Common testing frameworks"
   ]
  },
  {
   "cell_type": "markdown",
   "metadata": {},
   "source": [
    "* Language agnostic: [CTest](http://www.cmake.org/cmake/help/v2.8.12/ctest.html)\n",
    "  * Test runner for executables, bash scripts, etc...\n",
    "  * Great for legacy code hardening\n",
    "    \n",
    "* C unit-tests:\n",
    "    * all c++ frameworks,\n",
    "    * [Check](http://check.sourceforge.net/),\n",
    "    * [CUnit](http://cunit.sourceforge.net)\n",
    "\n",
    "* C++ unit-tests:\n",
    "    * [CppTest](http://cpptest.sourceforge.net/),\n",
    "    * [Boost::Test](http://www.boost.org/doc/libs/1_55_0/libs/test/doc/html/index.html),\n",
    "    * [google-test](https://code.google.com/p/googletest/),\n",
    "    * [Catch](https://github.com/philsquared/Catch) (best)\n",
    "\n",
    "* Python unit-tests:\n",
    "    * [nose](https://nose.readthedocs.org/en/latest/) includes test discovery, coverage, etc\n",
    "    * [unittest](http://docs.python.org/2/library/unittest.html) comes with standard python library\n",
    "    * [py.test](http://pytest.org/latest/), branched off of nose\n",
    "\n",
    "* R unit-tests:\n",
    "    * [RUnit](http://cran.r-project.org/web/packages/RUnit/index.html),\n",
    "    * [svUnit](http://cran.r-project.org/web/packages/svUnit/index.html)\n",
    "    * (works with [SciViews](http://www.sciviews.org/) GUI)\n",
    "\n",
    "* Fortran unit-tests:\n",
    "    * [funit](http://nasarb.rubyforge.org/funit/),\n",
    "    * [pfunit](http://sourceforge.net/projects/pfunit/)(works with MPI)"
   ]
  },
  {
   "cell_type": "markdown",
   "metadata": {},
   "source": [
    "###Nose framework: usage\n",
    "\n",
    "[nose](https://nose.readthedocs.org/en/latest/) is a python testing framework."
   ]
  },
  {
   "cell_type": "markdown",
   "metadata": {},
   "source": [
    "We can use its tools in the notebook for on-the-fly tests:"
   ]
  },
  {
   "cell_type": "code",
   "execution_count": 55,
   "metadata": {
    "collapsed": true
   },
   "outputs": [],
   "source": [
    "from nose.tools import assert_raises"
   ]
  },
  {
   "cell_type": "code",
   "execution_count": 57,
   "metadata": {
    "collapsed": false
   },
   "outputs": [],
   "source": [
    "with assert_raises(ValueError):\n",
    "    assert I_only_accept_positive_numbers(-5)"
   ]
  },
  {
   "cell_type": "markdown",
   "metadata": {},
   "source": [
    "but the real power comes when we write a test file alongside our code files in our homemade packages:"
   ]
  },
  {
   "cell_type": "code",
   "execution_count": 59,
   "metadata": {
    "collapsed": true
   },
   "outputs": [],
   "source": [
    "%%bash\n",
    "mkdir -p saskatchewan\n",
    "touch saskatchewan/__init__.py"
   ]
  },
  {
   "cell_type": "code",
   "execution_count": 64,
   "metadata": {
    "collapsed": false
   },
   "outputs": [
    {
     "name": "stdout",
     "output_type": "stream",
     "text": [
      "Overwriting saskatchewan/overlap.py\n"
     ]
    }
   ],
   "source": [
    "%%writefile saskatchewan/overlap.py\n",
    "def overlap(field1, field2):\n",
    "    left1, bottom1, top1, right1 = field1\n",
    "    left2, bottom2, top2, right2 = field2\n",
    "    \n",
    "    overlap_left=max(left1, left2)\n",
    "    overlap_bottom=max(bottom1, bottom2)\n",
    "    overlap_right=min(right1, right2)\n",
    "    overlap_top=min(top1, top2)\n",
    "    # Here's our wrong code again\n",
    "    overlap_height=(overlap_top-overlap_bottom)\n",
    "    overlap_width=(overlap_right-overlap_left)\n",
    "    \n",
    "    return overlap_height*overlap_width"
   ]
  },
  {
   "cell_type": "code",
   "execution_count": 66,
   "metadata": {
    "collapsed": false
   },
   "outputs": [
    {
     "name": "stdout",
     "output_type": "stream",
     "text": [
      "Overwriting saskatchewan/test_overlap.py\n"
     ]
    }
   ],
   "source": [
    "%%writefile saskatchewan/test_overlap.py\n",
    "from overlap import overlap\n",
    "from nose.tools import assert_equal\n",
    "\n",
    "def test_full_overlap():\n",
    "    assert_equal(overlap((1.,1.,4.,4.),(2.,2.,3.,3.)), 1.0)\n",
    "\n",
    "def test_partial_overlap():\n",
    "    assert_equal(overlap((1,1,4,4),(2,2,3,4.5)), 2.0)\n",
    "                 \n",
    "def test_no_overlap():\n",
    "    assert_equal(overlap((1,1,4,4),(4.5,4.5,5,5)), 0.0)"
   ]
  },
  {
   "cell_type": "code",
   "execution_count": 67,
   "metadata": {
    "attributes": {
     "classes": [
      " bash"
     ],
     "id": ""
    },
    "collapsed": false
   },
   "outputs": [
    {
     "name": "stderr",
     "output_type": "stream",
     "text": [
      "..F\n",
      "======================================================================\n",
      "FAIL: saskatchewan.test_overlap.test_no_overlap\n",
      "----------------------------------------------------------------------\n",
      "Traceback (most recent call last):\n",
      "  File \"/usr/local/lib/python2.7/site-packages/nose/case.py\", line 197, in runTest\n",
      "    self.test(*self.arg)\n",
      "  File \"/Users/jamespjh/devel/rsdt/training/rsd-engineeringcourse/session03/saskatchewan/test_overlap.py\", line 11, in test_no_overlap\n",
      "    assert_equal(overlap((1,1,4,4),(4.5,4.5,5,5)), 0.0)\n",
      "AssertionError: 0.25 != 0.0\n",
      "\n",
      "----------------------------------------------------------------------\n",
      "Ran 3 tests in 0.001s\n",
      "\n",
      "FAILED (failures=1)\n"
     ]
    }
   ],
   "source": [
    "%%bash\n",
    "cd saskatchewan\n",
    "nosetests"
   ]
  },
  {
   "cell_type": "markdown",
   "metadata": {},
   "source": [
    "Note that it reported **which** test had failed, how many tests ran, and how many failed."
   ]
  },
  {
   "cell_type": "markdown",
   "metadata": {},
   "source": [
    "The symbol `..F` means there were three tests, of which the third one failed."
   ]
  },
  {
   "cell_type": "markdown",
   "metadata": {},
   "source": [
    "Nose will:\n",
    "\n",
    "* automagically finds files ``test_*.py``\n",
    "* collects all subroutines called ``test_*``\n",
    "* runs tests and reports results"
   ]
  },
  {
   "cell_type": "markdown",
   "metadata": {},
   "source": [
    "Some options:\n",
    "\n",
    "* help: `nosetests --help`\n",
    "* test only a given file: `nosetests test_file.py`\n",
    "* compute coverage: `nosetests --with-coverage`"
   ]
  },
  {
   "cell_type": "markdown",
   "metadata": {},
   "source": [
    "##Testing with floating points\n",
    "\n",
    "###Floating points are not reals\n",
    "\n",
    "\n",
    "Floating points are inaccurate representations of real numbers:\n",
    "\n",
    "`1.0 == 0.99999999999999999` is true to the last bit."
   ]
  },
  {
   "cell_type": "markdown",
   "metadata": {},
   "source": [
    "This can lead to numerical errors during calculations: $1000 (a - b) \\neq 1000a - 1000b$"
   ]
  },
  {
   "cell_type": "code",
   "execution_count": 69,
   "metadata": {
    "attributes": {
     "classes": [
      " python"
     ],
     "id": ""
    },
    "collapsed": false
   },
   "outputs": [
    {
     "data": {
      "text/plain": [
       "2.220446049250313e-13"
      ]
     },
     "execution_count": 69,
     "metadata": {},
     "output_type": "execute_result"
    }
   ],
   "source": [
    ">>> 1000.0 * 1.0 - 1000.0 * 0.9999999999999998\n",
    "2.2737367544323206e-13\n",
    "\n",
    ">>> 1000.0 * (1.0 - 0.9999999999999998)\n",
    "2.220446049250313e-13"
   ]
  },
  {
   "cell_type": "markdown",
   "metadata": {},
   "source": [
    "*Both* results are wrong: `2e-13` is the correct answer.\n",
    "\n",
    "The size of the error will depend on the magnitude of the floating points:"
   ]
  },
  {
   "cell_type": "code",
   "execution_count": 71,
   "metadata": {
    "attributes": {
     "classes": [
      " python"
     ],
     "id": ""
    },
    "collapsed": false
   },
   "outputs": [
    {
     "data": {
      "text/plain": [
       "1.4901161193847656e-08"
      ]
     },
     "execution_count": 71,
     "metadata": {},
     "output_type": "execute_result"
    }
   ],
   "source": [
    ">>> 1000.0 * 1e5 - 1000.0 * 0.9999999999999998e5\n",
    "1.4901161193847656e-08"
   ]
  },
  {
   "cell_type": "markdown",
   "metadata": {},
   "source": [
    "The result should be `2e-8`."
   ]
  },
  {
   "cell_type": "markdown",
   "metadata": {},
   "source": [
    "###Comparing floating points\n",
    "\n",
    "Comparison can be absolute:"
   ]
  },
  {
   "cell_type": "code",
   "execution_count": 74,
   "metadata": {
    "attributes": {
     "classes": [
      " python"
     ],
     "id": ""
    },
    "collapsed": true
   },
   "outputs": [],
   "source": [
    "from nose.tools import assert_almost_equal\n",
    "assert_almost_equal( 0.7, 0.7 + 1e-6, delta = 1e-5)"
   ]
  },
  {
   "cell_type": "markdown",
   "metadata": {},
   "source": [
    "<div class=\"fragment roll-in\">\n",
    "Or relative:"
   ]
  },
  {
   "cell_type": "code",
   "execution_count": 75,
   "metadata": {
    "attributes": {
     "classes": [
      " python"
     ],
     "id": ""
    },
    "collapsed": false
   },
   "outputs": [
    {
     "ename": "AssertionError",
     "evalue": "0.7 != 0.7000099999999999 within 7e-06 delta",
     "output_type": "error",
     "traceback": [
      "\u001b[0;31m---------------------------------------------------------------------------\u001b[0m",
      "\u001b[0;31mAssertionError\u001b[0m                            Traceback (most recent call last)",
      "\u001b[0;32m<ipython-input-75-192d51bb43fc>\u001b[0m in \u001b[0;36m<module>\u001b[0;34m()\u001b[0m\n\u001b[1;32m      1\u001b[0m \u001b[0;32mfrom\u001b[0m \u001b[0mnose\u001b[0m\u001b[0;34m.\u001b[0m\u001b[0mtools\u001b[0m \u001b[0;32mimport\u001b[0m \u001b[0massert_almost_equal\u001b[0m\u001b[0;34m\u001b[0m\u001b[0m\n\u001b[1;32m      2\u001b[0m \u001b[0mmagnitude\u001b[0m \u001b[0;34m=\u001b[0m \u001b[0;36m0.7\u001b[0m\u001b[0;34m\u001b[0m\u001b[0m\n\u001b[0;32m----> 3\u001b[0;31m \u001b[0massert_almost_equal\u001b[0m\u001b[0;34m(\u001b[0m\u001b[0;36m0.7\u001b[0m\u001b[0;34m,\u001b[0m \u001b[0;36m0.7\u001b[0m \u001b[0;34m+\u001b[0m \u001b[0;36m1e-5\u001b[0m\u001b[0;34m,\u001b[0m \u001b[0mdelta\u001b[0m \u001b[0;34m=\u001b[0m \u001b[0mmagnitude\u001b[0m \u001b[0;34m*\u001b[0m \u001b[0;36m1e-5\u001b[0m\u001b[0;34m)\u001b[0m\u001b[0;34m\u001b[0m\u001b[0m\n\u001b[0m",
      "\u001b[0;32m/usr/local/Cellar/python/2.7.9/Frameworks/Python.framework/Versions/2.7/lib/python2.7/unittest/case.pyc\u001b[0m in \u001b[0;36massertAlmostEqual\u001b[0;34m(self, first, second, places, msg, delta)\u001b[0m\n\u001b[1;32m    559\u001b[0m                                                           places)\n\u001b[1;32m    560\u001b[0m         \u001b[0mmsg\u001b[0m \u001b[0;34m=\u001b[0m \u001b[0mself\u001b[0m\u001b[0;34m.\u001b[0m\u001b[0m_formatMessage\u001b[0m\u001b[0;34m(\u001b[0m\u001b[0mmsg\u001b[0m\u001b[0;34m,\u001b[0m \u001b[0mstandardMsg\u001b[0m\u001b[0;34m)\u001b[0m\u001b[0;34m\u001b[0m\u001b[0m\n\u001b[0;32m--> 561\u001b[0;31m         \u001b[0;32mraise\u001b[0m \u001b[0mself\u001b[0m\u001b[0;34m.\u001b[0m\u001b[0mfailureException\u001b[0m\u001b[0;34m(\u001b[0m\u001b[0mmsg\u001b[0m\u001b[0;34m)\u001b[0m\u001b[0;34m\u001b[0m\u001b[0m\n\u001b[0m\u001b[1;32m    562\u001b[0m \u001b[0;34m\u001b[0m\u001b[0m\n\u001b[1;32m    563\u001b[0m     \u001b[0;32mdef\u001b[0m \u001b[0massertNotAlmostEqual\u001b[0m\u001b[0;34m(\u001b[0m\u001b[0mself\u001b[0m\u001b[0;34m,\u001b[0m \u001b[0mfirst\u001b[0m\u001b[0;34m,\u001b[0m \u001b[0msecond\u001b[0m\u001b[0;34m,\u001b[0m \u001b[0mplaces\u001b[0m\u001b[0;34m=\u001b[0m\u001b[0mNone\u001b[0m\u001b[0;34m,\u001b[0m \u001b[0mmsg\u001b[0m\u001b[0;34m=\u001b[0m\u001b[0mNone\u001b[0m\u001b[0;34m,\u001b[0m \u001b[0mdelta\u001b[0m\u001b[0;34m=\u001b[0m\u001b[0mNone\u001b[0m\u001b[0;34m)\u001b[0m\u001b[0;34m:\u001b[0m\u001b[0;34m\u001b[0m\u001b[0m\n",
      "\u001b[0;31mAssertionError\u001b[0m: 0.7 != 0.7000099999999999 within 7e-06 delta"
     ]
    }
   ],
   "source": [
    "from nose.tools import assert_almost_equal\n",
    "magnitude = 0.7\n",
    "assert_almost_equal(0.7, 0.7 + 1e-5, delta = magnitude * 1e-5)"
   ]
  },
  {
   "cell_type": "markdown",
   "metadata": {},
   "source": [
    "Where `magnitude` should be chosen based on the intrinsic scale of the calculations."
   ]
  },
  {
   "cell_type": "markdown",
   "metadata": {},
   "source": [
    "For instance, if calculations is a result of differences between large numbers:"
   ]
  },
  {
   "cell_type": "code",
   "execution_count": 77,
   "metadata": {
    "attributes": {
     "classes": [
      " python"
     ],
     "id": ""
    },
    "collapsed": false
   },
   "outputs": [
    {
     "data": {
      "text/plain": [
       "0.625"
      ]
     },
     "execution_count": 77,
     "metadata": {},
     "output_type": "execute_result"
    }
   ],
   "source": [
    "(1e15 + 1.4) - (1e15 + 0.7)\n"
   ]
  },
  {
   "cell_type": "markdown",
   "metadata": {},
   "source": [
    "then `magnitude = 1e15` is reasonable. "
   ]
  },
  {
   "cell_type": "markdown",
   "metadata": {},
   "source": [
    "However, the best choice of scale for comparison in scientific floating point testing is an active area of research."
   ]
  },
  {
   "cell_type": "markdown",
   "metadata": {},
   "source": [
    "###Comparing vectors of floating points\n",
    "\n",
    "Numerical vectors are best represented using [numpy](http://www.numpy.org/)."
   ]
  },
  {
   "cell_type": "code",
   "execution_count": 78,
   "metadata": {
    "attributes": {
     "classes": [
      " python"
     ],
     "id": ""
    },
    "collapsed": true
   },
   "outputs": [],
   "source": [
    "from numpy import array, pi\n",
    "\n",
    "vector_of_reals = array([0.1, 0.2, 0.3, 0.4]) * pi"
   ]
  },
  {
   "cell_type": "markdown",
   "metadata": {},
   "source": [
    "Numpy ships with a number of assertions (in ``numpy.testing``) to make\n",
    "comparison easy:"
   ]
  },
  {
   "cell_type": "code",
   "execution_count": 80,
   "metadata": {
    "attributes": {
     "classes": [
      " python"
     ],
     "id": ""
    },
    "collapsed": true
   },
   "outputs": [],
   "source": [
    "from numpy import array, pi\n",
    "from numpy.testing import assert_allclose\n",
    "expected = array([0.1, 0.2, 0.3, 0.4, 1e-12]) * pi\n",
    "actual = array([0.1, 0.2, 0.3, 0.4, 2e-12]) * pi\n",
    "actual[:-1] += 1e-6\n",
    "\n",
    "assert_allclose(actual, expected, rtol=1e-5, atol=1e-8)"
   ]
  },
  {
   "cell_type": "markdown",
   "metadata": {},
   "source": [
    "It compares the difference between `actual` and `expected` to ``atol + rtol * abs(expected)``."
   ]
  },
  {
   "cell_type": "markdown",
   "metadata": {},
   "source": [
    "##Classroom exercise: energy calculation\n",
    "\n",
    "###Diffusion model in 1D\n",
    "\n",
    "Description: simplistic 1-dimensional diffusion model\n",
    "\n",
    "- Particles are on a 1d axis\n",
    "- Particles do not want to be where there are other particles\n",
    "\n",
    "Implementation:\n",
    "\n",
    "- Given a vector $n$ of positive integers, and of arbitrary length\n",
    "- Compute the energy, $E(n) = \\frac{D}{2} \\sum_i n_i(n_i - 1),$ where $D$ is a scalar coefficient."
   ]
  },
  {
   "cell_type": "markdown",
   "metadata": {},
   "source": [
    "{% raw %}\n",
    "<svg id=\"model\" width=\"500\" height=\"150\" class=\"boundary\"></svg>\n",
    "<script src=\"http://d3js.org/d3.v3.min.js\" charset=\"utf-8\"></script>\n",
    "<script src=\"http://lab.hakim.se/reveal-js//lib/js/head.min.js\" ></script>\n",
    "<script src=\"http://lab.hakim.se/reveal-js//js/reveal.min.js\" ></script>\n",
    "<style>\n",
    ".axis path, .axis line {\n",
    "  fill: none;\n",
    "  stroke: white;\n",
    "  shape-rendering: crispEdges;\n",
    "}\n",
    ".axis text {\n",
    "  fill: white\n",
    "}\n",
    "</style>\n",
    "<script>\n",
    "  function externalDimensions(id) {\n",
    "    var svgElement = document.getElementById(\"model\");\n",
    "    var externalWidth = parseInt(svgElement.getAttribute(\"width\"));\n",
    "    var externalHeight = parseInt(svgElement.getAttribute(\"height\"));\n",
    "    return {width: externalWidth, height:externalHeight}\n",
    "  }\n",
    "  function model() {\n",
    "    var margin = {top: 20, right: 10, bottom: 35, left: 10};\n",
    "    var width=100, height=100\n",
    "    var externalDims = externalDimensions(\"model\");\n",
    "    externalDims.height -= margin.top + margin.bottom\n",
    "    externalDims.width -= margin.left + margin.right\n",
    "    var svg = d3.select(\"#model\").append(\"g\")\n",
    "                .attr(\"transform\", \"translate(\" + margin.left + \", \" + margin.top + \")\");\n",
    "    var numbers = Array.apply(null, Array(10)).map(function (_, i) {return i;});"
   ]
  },
  {
   "cell_type": "code",
   "execution_count": null,
   "metadata": {
    "collapsed": true
   },
   "outputs": [],
   "source": [
    "var yscale = d3.scale.linear().domain([0, height]).range([0, externalDims.height]);\n",
    "var xscale = d3.scale.ordinal().domain(numbers).rangePoints([0, externalDims.width])\n",
    "var xAxis = d3.svg.axis().orient(\"bottom\").scale(xscale);\n",
    "\n",
    "// svg.append(\"rect\").attr(\"x\", -margin.left).attr(\"y\", -margin.top)\n",
    "//         .attr(\"height\", externalDims.height + margin.bottom + margin.top)\n",
    "//         .attr(\"width\", externalDims.width + margin.right + margin.right)\n",
    "//         .style(\"fill\", \"rgb(100, 100, 100)\")\n",
    "\n",
    "var margingroup = svg.append(\"g\") .attr(\"transform\", \"translate(0, \" + externalDims.height + \")\");\n",
    "var axisgroup = margingroup.append(\"g\").attr(\"class\", \"x axis\").call(xAxis);\n",
    "\n",
    "var nbrects = [0, 0, 3, 5, 8, 4, 2, 1]\n",
    "var rectangles = []\n",
    "for(var j = 0; j < nbrects.length; ++j) {\n",
    "  for(var i = 0; i < nbrects[j]; ++i) rectangles.push([j, i])\n",
    "}\n",
    "\n",
    "function xPos(i) { return xscale(i) - 10; }\n",
    "function yPos(i) { return -yscale(i * 14 + 15); }\n",
    "var rectgroup = margingroup.append(\"g\")\n",
    "rectgroup.selectAll(\"rect\").data(rectangles, function(d, i) {return i;}).enter()\n",
    "        .append(\"rect\")\n",
    "        .attr(\"x\", function(d) { return xPos(d[0]); })\n",
    "        .attr(\"y\", function(d) { return yPos(d[1]); })\n",
    "        .attr(\"id\", function(d, i) { return \"rect\" + i; })\n",
    "        .attr(\"width\", 20).attr(\"height\", yscale(12)).style(\"fill\", \"blue\").style(\"stroke-width\", \"1px\");\n",
    "return {x: xPos, y: yPos, group: rectgroup}\n",
    "  }\n",
    "  particle_position = model();\n",
    "  particle_movements = [\n",
    "[7, 2, 1],\n",
    "[14, 5, 3],\n",
    "[1, 1, 0],\n",
    "[19, 6, 3],\n",
    "[7, 3, 4],\n",
    "[2, 0, 0],\n",
    "[7, 2, 2],\n",
    "[15, 6, 2],\n",
    "[15, 5, 4],\n",
    "[2, 1, 0]\n",
    "  ];\n",
    "  function update_particles() {\n",
    " if(particle_movements.length == 0) { clearInterval(); return; }\n",
    " newPosition = particle_movements.pop();\n",
    " particle_position.group.select(\"#rect\" + newPosition[0])\n",
    "   .transition()\n",
    "   .duration(750)\n",
    "   .attr(\"x\", particle_position.x(newPosition[1]))\n",
    "   .attr(\"y\", particle_position.y(newPosition[2]));\n",
    "  }\n",
    "  Reveal.addEventListener( 'slidechanged', function( event ) {\n",
    "  if(event.currentSlide.getAttribute(\"id\") != \"diffusion\") {\n",
    "    clearInterval();\n",
    "  } else { setInterval(update_particles, 1500); }\n",
    "  // event.previousSlide, event.currentSlide, event.indexh, event.indexv\n",
    "  } );\n",
    "</script>\n",
    "{% endraw %}"
   ]
  },
  {
   "cell_type": "markdown",
   "metadata": {},
   "source": [
    "###Starting point\n",
    "\n",
    "In a directory, create two files:\n",
    "\n",
    "* Implementation file: diffusion_model.py"
   ]
  },
  {
   "cell_type": "code",
   "execution_count": null,
   "metadata": {
    "attributes": {
     "classes": [
      " python"
     ],
     "id": ""
    },
    "collapsed": true
   },
   "outputs": [],
   "source": [
    "def energy(density, coeff=1.0):\n",
    "  \"\"\" Energy associated with the diffusion model\n",
    "\n",
    "      Parameters\n",
    "      ----------\n",
    "\n",
    "      density: array of positive integers\n",
    "          Number of particles at each position i in the array\n",
    "      coeff: float\n",
    "          Diffusion coefficient.\n",
    "  \"\"\"\n",
    "  # implementation goes here"
   ]
  },
  {
   "cell_type": "markdown",
   "metadata": {},
   "source": [
    "* Testing file: test_diffusion_model.py"
   ]
  },
  {
   "cell_type": "code",
   "execution_count": null,
   "metadata": {
    "attributes": {
     "classes": [
      " python"
     ],
     "id": ""
    },
    "collapsed": true
   },
   "outputs": [],
   "source": [
    "from diffusion_model import energy\n",
    "def test_energy():\n",
    "  \"\"\" Optional description for nose reporting \"\"\"\n",
    "  # Test something"
   ]
  },
  {
   "cell_type": "markdown",
   "metadata": {},
   "source": [
    "###Solution\n",
    "\n",
    "Don't look until after class! We have implemented sample solutions of the [functions](https://github.com/UCL/rsd-engineeringcourse/blob/staging/session03/solutions/diffusionmodel/diffusion_model.py) and [tests](https://github.com/UCL/rsd-engineeringcourse/blob/staging/session03/solutions/diffusionmodel/test_diffusion_model.py) for you to review."
   ]
  },
  {
   "cell_type": "markdown",
   "metadata": {},
   "source": [
    "\n",
    "###Coverage\n",
    "\n",
    "1. Comment out from exception tests in solution\n",
    "1. in solution directory, run\n",
    "    ``` bash\n",
    "    nosetests --with-coverage --cover-package=diffusion_model -v --cover-html\n",
    "    ```\n",
    "1. Open ``cover/index.html`` for coverage information\n",
    "\n",
    "\n",
    "![](session03/figures/coverage.png)\n",
    "---\n",
    "title: Mocking\n",
    "---"
   ]
  },
  {
   "cell_type": "markdown",
   "metadata": {},
   "source": [
    "##Mocking"
   ]
  },
  {
   "cell_type": "markdown",
   "metadata": {},
   "source": [
    "###Definition\n",
    "\n",
    "**Mock**: *verb*,\n",
    "\n",
    "1. to tease or laugh at in a scornful or contemptuous manner\n",
    "2. to make a replica or imitation of something\n",
    "\n"
   ]
  },
  {
   "cell_type": "markdown",
   "metadata": {},
   "source": [
    "**Mocking**\n",
    "\n",
    "- *computer science*, to simulate the behaviour of real objects in controlled ways.\n",
    "</div>"
   ]
  },
  {
   "cell_type": "markdown",
   "metadata": {},
   "source": [
    "**Stub routine**\n",
    "\n",
    "- A routine that a simulate a more computationally expensive routine, without actually performing any calculation. Strictly speaking, the term Mocking is reserved for object-oriented approaches\n",
    "</div>"
   ]
  },
  {
   "cell_type": "markdown",
   "metadata": {},
   "source": [
    "###Mocking frameworks\n",
    "\n",
    "* C: [CMocka](http://www.cmocka.org/)\n",
    "* C++: [googlemock](https://code.google.com/p/googlemock/)\n",
    "* Python: [Mock](http://www.voidspace.org.uk/python/mock/)\n",
    "  ([unittest.mock](http://docs.python.org/dev/library/unittest.mock) in python 3.3),\n",
    "  [doublex](https://pypi.python.org/pypi/doublex)"
   ]
  },
  {
   "cell_type": "markdown",
   "metadata": {},
   "source": [
    "###Recording calls with mock\n",
    "\n",
    "Mock objects record the calls made to them:"
   ]
  },
  {
   "cell_type": "code",
   "execution_count": null,
   "metadata": {
    "attributes": {
     "classes": [
      " python"
     ],
     "id": ""
    },
    "collapsed": true
   },
   "outputs": [],
   "source": [
    ">>> from mock import Mock\n",
    ">>> function = Mock(name=\"myroutine\", return_value=2)\n",
    ">>> function(1)\n",
    "2\n",
    ">>> function(5, \"hello\", a=True)\n",
    "2\n",
    ">>> function.mock_calls\n",
    "[call(1), call(5, 'hello', a=True)]"
   ]
  },
  {
   "cell_type": "markdown",
   "metadata": {},
   "source": [
    "The arguments of each call can be recovered"
   ]
  },
  {
   "cell_type": "code",
   "execution_count": null,
   "metadata": {
    "attributes": {
     "classes": [
      " python"
     ],
     "id": ""
    },
    "collapsed": true
   },
   "outputs": [],
   "source": [
    ">>> name, args, kwargs = function.mock_calls[1]\n",
    ">>> args, kwargs\n",
    "((1, 'hello'), {'a': True})"
   ]
  },
  {
   "cell_type": "markdown",
   "metadata": {},
   "source": [
    "Mock objects can return different values for each call"
   ]
  },
  {
   "cell_type": "code",
   "execution_count": null,
   "metadata": {
    "attributes": {
     "classes": [
      " python"
     ],
     "id": ""
    },
    "collapsed": true
   },
   "outputs": [],
   "source": [
    ">>> function = Mock(name=\"myroutine\", side_effect=[2, \"xyz\"])\n",
    ">>> function(1), function(1, \"hello\", {'a': True})\n",
    "(2, \"xyz\")\n",
    ">>> function() # No more values to return --> mock throws an exception\n",
    "StopIteration error thrown in ...."
   ]
  },
  {
   "cell_type": "markdown",
   "metadata": {},
   "source": [
    "###Testing functions that call other functions\n",
    "\n",
    "<div align=\"left\">"
   ]
  },
  {
   "cell_type": "code",
   "execution_count": null,
   "metadata": {
    "attributes": {
     "classes": [
      " python"
     ],
     "id": ""
    },
    "collapsed": true
   },
   "outputs": [],
   "source": [
    "def minimize(model, start_input):\n",
    "    start_value = model(start_input)\n",
    "    # ... more calls to model\n",
    "    return result"
   ]
  },
  {
   "cell_type": "markdown",
   "metadata": {},
   "source": [
    "**Black-box**\n",
    "\n",
    "`model` is a function for which we think we know the result: e.g. small analytical model, rather than big expensive calculation. \n",
    "\n",
    "Internals of `minimize` are irrelevant. Only the result matters.\n",
    "\n",
    "**Clear-box**\n",
    "\n",
    "`model` is a mock object. Sequence of calls to `model` is checked and is part of the test.\n",
    "\n",
    "<div class=\"fragment fade-in\">\n",
    "`minimize` must be tested in *isolation* from the rest of the code!\n",
    "</div>\n",
    "\n",
    "</div>\n",
    "\n",
    "###Exercise: derivative function\n",
    "\n",
    "**Goal**\n",
    "\n",
    "Compute the derivative of the diffusion model \n",
    "from [the previous exercise](#/diffusion).\n",
    "\n",
    "**Description**\n",
    "\n",
    "Create a function that takes a function, an integer density, and an index $i$, and returns the right-derivative   $f(n_i + 1) - f(n_i)$"
   ]
  },
  {
   "cell_type": "code",
   "execution_count": null,
   "metadata": {
    "attributes": {
     "classes": [
      " python"
     ],
     "id": ""
    },
    "collapsed": true
   },
   "outputs": [],
   "source": [
    "def partial_derivative(function, x, index):\n",
    "    \"\"\" Computes right derivative of function over integers\n",
    "\n",
    "    :param function: callable object for which to compute the derivative\n",
    "    :param x: array of integers at which to compute the right-derivative\n",
    "    :param index: Partial derivative direction.\n",
    "    \"\"\"\n",
    "    from numpy import array\n",
    "\n",
    "    x_right = array(x).copy()\n",
    "    x_right[index] += 1\n",
    "    return function(x) - function(x_right)"
   ]
  },
  {
   "cell_type": "markdown",
   "metadata": {},
   "source": [
    "---\n",
    "title: Debugging\n",
    "---\n",
    "\n",
    "##Using a debugger\n",
    "\n",
    "###Stepping through the code\n",
    "\n",
    "Debuggers are programs that can be used to test other programs. They allow programmers to suspend execution of the target program and inspect variables at that point.\n",
    "\n",
    "* Mac - compiled languages:\n",
    "  [Xcode](https://developer.apple.com/library/ios/documentation/ToolsLanguages/Conceptual/Xcode_Overview/DebugYourApp/DebugYourApp.html)\n",
    "* Windows - compiled languages:\n",
    "  [Visual Studio](http://msdn.microsoft.com/en-us/library/bb483011.aspx)\n",
    "* Linux: [DDD](https://www.gnu.org/software/ddd/)\n",
    "* all platforms: [eclipse](http://www.eclipse.org), [gdb](http://www.sourceware.org/gdb/) (DDD and\n",
    "  eclipse are GUIs for gdb)\n",
    "* python: [spyder](http://pythonhosted.org/spyder/index.html),\n",
    "          [pdb](http://docs.python.org/2/library/pdb.html)\n",
    "* R: [RStudio](http://www.rstudio.com/ide/docs/debugging/overview),\n",
    "  [debug](http://stat.ethz.ch/R-manual/R-devel/library/base/html/debug.html),\n",
    "  [browser](http://stat.ethz.ch/R-manual/R-devel/library/base/html/browser.html)\n",
    "\n",
    "###Using the python debugger\n",
    "\n",
    "Copy the following into a file:"
   ]
  },
  {
   "cell_type": "code",
   "execution_count": null,
   "metadata": {
    "attributes": {
     "classes": [
      " python"
     ],
     "id": ""
    },
    "collapsed": true
   },
   "outputs": [],
   "source": [
    "def energy(x):\n",
    "    from numpy import array, sum\n",
    "    x = array(x)\n",
    "    return sum(x * (x - 1))\n",
    "\n",
    "def partial_derivative(function, x, index):\n",
    "    \"\"\" Computes right derivative of function over integers\n",
    "\n",
    "    :Parameters:\n",
    "        function: callable object\n",
    "            The function for which to compute the delta/derivative\n",
    "        x: array of integers\n",
    "            The point at which to compute the right-derivative\n",
    "        index: integer\n",
    "            Partial derivative direction.\n",
    "    \"\"\"\n",
    "    from numpy import array\n",
    "    # Computes left value\n",
    "    left_value = function(x)\n",
    "\n",
    "    # Copies and modifies x. Could do it without copy, but that complicates mocking.\n",
    "    x = array(x)\n",
    "    x[index] += 1\n",
    "    right_value = function(x)\n",
    "\n",
    "    return right_value - left_value\n",
    "\n",
    "if __name__ == \"__main__\":\n",
    "    partial_derivative(energy, [5, 6, 7, 8, 0, 1], 5)"
   ]
  },
  {
   "cell_type": "markdown",
   "metadata": {},
   "source": [
    "###Basic navigation:\n",
    "\n",
    "Basic command to navigate the code and the python debugger:\n",
    "\n",
    "* `help`: prints the help\n",
    "* `help n`: prints help about command `n`\n",
    "* `n`(ext): executes one line of code. Executes and steps **over** functions.\n",
    "* `s`(tep): step into current function in line of code\n",
    "* `l`(ist): list program around current position\n",
    "* `w`(where): prints current stack (where we are in code)\n",
    "* `[enter]`: repeats last command\n",
    "\n",
    "The python debugger is a python shell: it can print and compute values, and even change the values\n",
    "of the variables at that point in the program.\n",
    "\n",
    "###Breakpoints\n",
    "\n",
    "Break points tell debugger where and when to stop"
   ]
  },
  {
   "cell_type": "code",
   "execution_count": null,
   "metadata": {
    "attributes": {
     "classes": [
      " python"
     ],
     "id": ""
    },
    "collapsed": true
   },
   "outputs": [],
   "source": [
    ">>> restart  # restart session\n",
    ">>> b energy # program will stop when entering energy\n",
    ">>> c        # continue program until break point is reached"
   ]
  },
  {
   "cell_type": "markdown",
   "metadata": {},
   "source": [
    "Alternatively, break-points can be set on files: `b file.py:20` will stop on line 20 of `file.py`.\n",
    "\n",
    "<div class=\"fragment roll-in\">\n",
    "Break-points can run subject  to a given condition evaluating to true"
   ]
  },
  {
   "cell_type": "code",
   "execution_count": null,
   "metadata": {
    "attributes": {
     "classes": [
      " python"
     ],
     "id": ""
    },
    "collapsed": true
   },
   "outputs": [],
   "source": [
    ">>> cl # clear all breakpoints\n",
    ">>> b energy, x[5] == 2\n",
    ">>> restart\n",
    ">>> c"
   ]
  },
  {
   "cell_type": "markdown",
   "metadata": {},
   "source": [
    "</div>\n",
    "\n",
    "###Post-mortem\n",
    "\n",
    "Debugging when something goes wrong:\n",
    "\n",
    "1. add `raise Exception(\"OMG!\")` somewhere in the code\n",
    "1. run `python -m pdb file.py`\n",
    "1. hit `c`\n",
    "\n",
    "The program should stop where the exception was raised\n",
    "\n",
    "1. use `w` and `l` for position in code and in call stack\n",
    "1. use `up` and `down` to navigate up and down the call stack\n",
    "1. inspect variables along the way to understand failure\n",
    "\n",
    "---\n",
    "title: Methodology\n",
    "---\n",
    "\n",
    "##Test driven development\n",
    "\n",
    "###Test-driven development\n",
    "\n",
    "![Developing with TDD: Write test, see it fail](session03/figures/tdd)\n",
    "\n",
    "###Behaviour driven development\n",
    "\n",
    "- Plain English description of scenario\n",
    "- Communicates behavior of code, rather than how code works\n",
    "- Simple enough for thesis director to understand\n",
    "- Translated to code internally by developer"
   ]
  },
  {
   "cell_type": "code",
   "execution_count": null,
   "metadata": {
    "attributes": {
     "classes": [
      " ruby"
     ],
     "id": ""
    },
    "collapsed": true
   },
   "outputs": [],
   "source": [
    "Scenario: eat 5 out of 12\n",
    "  Given there are 12 cucumbers\n",
    "  When I eat 5 cucumbers\n",
    "  Then I should have 7 cucumbers"
   ]
  },
  {
   "cell_type": "markdown",
   "metadata": {},
   "source": [
    "---\n",
    "title: Other Tools\n",
    "---\n",
    "\n",
    "##Jenkins\n",
    "\n",
    "###Test servers\n",
    "\n",
    "Goal: \n",
    "\n",
    "1. run tests nightly\n",
    "2. run tests after each commit to github (or other)\n",
    "3. run tests on different platforms\n",
    "\n",
    "![Now at a UCL near you!](session03/figures/jenkins)\n",
    "\n",
    "\n",
    "###Memory and profiling\n",
    "\n",
    "* Checking for memory leaks with [valgrind](http://valgrind.org/):\n",
    "  `valgrind --leak-check=full program`\n",
    "* Checking cache hits and cache misses with\n",
    "  [cachegrind](http://valgrind.org/docs/manual/cg-manual.html):\n",
    "  `valgrind --tool=cachegrind program`\n",
    "* Profiling the code with [callgrind](http://valgrind.org/docs/manual/cl-manual.html):\n",
    "  `valgrind --tool=callgrind program`"
   ]
  },
  {
   "cell_type": "code",
   "execution_count": null,
   "metadata": {
    "collapsed": true
   },
   "outputs": [],
   "source": [
    "![](session03/figures/callgrind)"
   ]
  },
  {
   "cell_type": "markdown",
   "metadata": {},
   "source": [
    "* Python: [profile](http://docs.python.org/2/library/profile.html)\n",
    "* R: [Rprof](http://stat.ethz.ch/R-manual/R-devel/library/utils/html/Rprof.html)\n",
    "\n",
    "---\n",
    "title: \"Exercise: Monte-Carlo\"\n",
    "---\n",
    "\n",
    "##Exercise: Monte-Carlo\n",
    "\n",
    "###Description: Implement and test a simple Monte-Carlo algorithm\n",
    "\n",
    "<div align=\"left\" style=\"position:relative;left:15px\">\n",
    "Given an input function (energy) and starting point (density) and a temperature $T$: \n",
    "\n",
    "1. Compute energy at current density.\n",
    "1. Move randomly chosen particle left or right.\n",
    "1. Compute second energy.\n",
    "1. Compare the two energies:"
   ]
  },
  {
   "cell_type": "code",
   "execution_count": null,
   "metadata": {
    "collapsed": true
   },
   "outputs": [],
   "source": [
    "1. If second energy is lower, accept move.\n",
    "1. Otherwise compute $P_0=e^{-\\frac{E_1 - E_0}{T}}$ and $P_1$ a random number,\n",
    "   accept move only if $P_0 > P_1$."
   ]
  },
  {
   "cell_type": "markdown",
   "metadata": {},
   "source": [
    "1. Repeat.\n",
    "</div>\n",
    "\n",
    "###Caveats\n",
    "\n",
    "* the algorithm should work for (m)any energy function(s).\n",
    "* there should be separate tests for separate steps! What constitute a step?\n",
    "* test should not depend on other parts of code.\n",
    "\n",
    "###Bonus\n",
    "\n",
    "* Use a debugger to stop code at each iteration.\n",
    "* Use [matplotlib](http://matplotlib.org/) to plot density at each iteration.\n",
    "\n",
    "###Assessment\n",
    "\n",
    "- You are not required to submit a full solution to pass.\n",
    "- This is a pass/fail exercise.\n",
    "- To pass, we are looking for:\n",
    "    + several relevant functions, in appropriate python modules.\n",
    "    + appropriate, sensibly structured unit tests.\n",
    "    + version control history showing tests being developed alongside code.\n",
    "\n",
    "Submit your code by emailing rc-softdev@ucl.ac.uk with a link to a repository on your GitHub account containing your solution.\n"
   ]
  },
  {
   "cell_type": "code",
   "execution_count": null,
   "metadata": {
    "collapsed": true
   },
   "outputs": [],
   "source": []
  }
 ],
 "metadata": {
  "kernelspec": {
   "display_name": "Python 2",
   "language": "python",
   "name": "python2"
  },
  "language_info": {
   "codemirror_mode": {
    "name": "ipython",
    "version": 2
   },
   "file_extension": ".py",
   "mimetype": "text/x-python",
   "name": "python",
   "nbconvert_exporter": "python",
   "pygments_lexer": "ipython2",
   "version": "2.7.9"
  }
 },
 "nbformat": 4,
 "nbformat_minor": 0
}
