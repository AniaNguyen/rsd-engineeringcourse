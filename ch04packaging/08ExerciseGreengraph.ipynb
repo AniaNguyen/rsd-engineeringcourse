{
 "cells": [
  {
   "cell_type": "markdown",
   "metadata": {},
   "source": [
    "### Exercises: Packaging Greengraph"
   ]
  },
  {
   "cell_type": "markdown",
   "metadata": {},
   "source": [
    "\n",
    "We previously looked at Greengraph.py, a script that enables us to explore how green space varies as we move from the city to the countryside:\n"
   ]
  },
  {
   "cell_type": "markdown",
   "metadata": {},
   "source": [
    "\n",
    "The Greengraph example was given earlier in the course as a simple python file.\n",
    "\n",
    "Your task is to transform this into a python package that can be pip installed directly from GitHub. Remember to include:\n",
    "\n",
    "- an \\__init\\__.py file\n",
    "- a setup.py file\n",
    "- tests\n",
    "- license and documentation\n",
    "- command entry point script\n",
    "\n",
    "You should, in the end, be able to pip install your code on a clean computer, and do something similar to\n",
    "\n",
    "``` bash\n",
    "greengraph --from London --to Oxford --steps 10 --out graph.png\n",
    "```"
   ]
  }
 ],
 "metadata": {
  "jekyll": {
   "display_name": "Exercise: Packaging Greengraph"
  },
  "kernelspec": {
   "display_name": "Python 2",
   "language": "python",
   "name": "python2"
  },
  "language_info": {
   "codemirror_mode": {
    "name": "ipython",
    "version": 2
   },
   "file_extension": ".py",
   "mimetype": "text/x-python",
   "name": "python",
   "nbconvert_exporter": "python",
   "pygments_lexer": "ipython2",
   "version": "2.7.10"
  }
 },
 "nbformat": 4,
 "nbformat_minor": 0
}
