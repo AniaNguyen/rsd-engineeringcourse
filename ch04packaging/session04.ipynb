{
 "cells": [
  {
   "cell_type": "markdown",
   "metadata": {},
   "source": [
    "## Libraries"
   ]
  },
  {
   "cell_type": "markdown",
   "metadata": {},
   "source": [
    "### Libraries are awesome"
   ]
  },
  {
   "cell_type": "markdown",
   "metadata": {},
   "source": [
    "\n",
    "The strength of a language lies as much in the set of libraries available, as it does\n",
    "in the language itself.\n",
    "\n",
    "A great set of libraries allows for a very powerful programming style:\n",
    "\n",
    "* Write minimal code yourself\n",
    "* Choose the right libraries\n",
    "* Plug them together\n",
    "* Create impressive results\n",
    "\n",
    "Not only is this efficient with your programming time, it's also more efficient with computer\n",
    "time.\n",
    "\n",
    "The chances are any algorithm you might want to use has already been programmed better by someone else.\n",
    "\n",
    "This lecture is available as an [IPython Notebook](http://nbviewer.ipython.org/url/development.rc.ucl.ac.uk/training/engineering/session04/../python/session04.ipynb)\n",
    "\n"
   ]
  },
  {
   "cell_type": "markdown",
   "metadata": {},
   "source": [
    "## Careful use of Libraries"
   ]
  },
  {
   "cell_type": "markdown",
   "metadata": {},
   "source": [
    "### Drawbacks of libraries."
   ]
  },
  {
   "cell_type": "markdown",
   "metadata": {},
   "source": [
    "\n",
    "* Sometimes, libraries are not looked after by their creator: code that is not maintained *rots*:\n",
    "    * It no longer works with later versions of *upstream* libraries.\n",
    "    * It doesn't work on newer platforms or systems.\n",
    "    * Features that are needed now, because the field has moved on, are not added\n",
    "\n",
    "* Sometimes, libraries are hard to get working:\n",
    "    * For libraries in pure python, this is almost never a problem\n",
    "    * But many libraries involve *compiled components*: these can be hard to install.\n"
   ]
  },
  {
   "cell_type": "markdown",
   "metadata": {},
   "source": [
    "### Contribute, don't duplicate"
   ]
  },
  {
   "cell_type": "markdown",
   "metadata": {},
   "source": [
    "\n",
    "* You have a duty to the ecosystem of scholarly software:\n",
    "    * If there's a tool or algorithm you need, find a project which provides it.\n",
    "    * If there are features missing, or problems with it, fix them, [don't create your own](http://xkcd.com/927/) library.\n"
   ]
  },
  {
   "cell_type": "markdown",
   "metadata": {},
   "source": [
    "### How to choose a library"
   ]
  },
  {
   "cell_type": "markdown",
   "metadata": {},
   "source": [
    "\n",
    "* When was the last commit?\n",
    "* How often are there commits?\n",
    "* Can you find the lead contributor on the internet?\n",
    "* Do they respond when approached:\n",
    "    * emails to developer list\n",
    "    * personal emails\n",
    "    * tweets\n",
    "    * [irc](https://freenode.net)\n",
    "    * issues raised on GitHub?\n",
    "* Are there contributors other than the lead contributor?\n",
    "* Is there discussion of the library on Stack Exchange?\n",
    "* Is the code on an open version control tool like GitHub?\n",
    "* Is it on standard package repositories. (PyPI, apt/yum/brew)\n",
    "* Are there any tests?\n",
    "* Download it. Can you build it? Do the tests pass?\n",
    "* Is there an open test dashboard? (Travis/Jenkins/CDash)\n",
    "* What dependencies does the library itself have? Do they pass this list?\n",
    "* Are different versions of the library clearly labeled with version numbers?\n",
    "* Is there a changelog?\n"
   ]
  },
  {
   "cell_type": "markdown",
   "metadata": {},
   "source": [
    "### Sensible Version Numbering"
   ]
  },
  {
   "cell_type": "markdown",
   "metadata": {},
   "source": [
    "\n",
    "The best approach to version numbers clearly distinguishes kinds of change:\n",
    "\n",
    "Given a version number MAJOR.MINOR.PATCH, e.g. 2.11.14 increment the:\n",
    "\n",
    "* MAJOR version when you make incompatible API changes,\n",
    "* MINOR version when you add functionality in a backwards-compatible manner, and\n",
    "* PATCH version when you make backwards-compatible bug fixes.\n",
    "\n",
    "This is called [Semantic Versioning](http://semver.org)\n"
   ]
  },
  {
   "cell_type": "markdown",
   "metadata": {},
   "source": [
    "## Python Libraries"
   ]
  },
  {
   "cell_type": "markdown",
   "metadata": {},
   "source": [
    "### The Python Standard Library"
   ]
  },
  {
   "cell_type": "markdown",
   "metadata": {},
   "source": [
    "\n",
    "Python comes with a powerful [standard library](https://docs.python.org/2/library/).\n",
    "\n",
    "Learning python is as much about learning this library as learning the language itself.\n",
    "\n",
    "You've already seen a few packages in this library: `math`, `pdb`, `pytest`, `datetime`.\n"
   ]
  },
  {
   "cell_type": "markdown",
   "metadata": {},
   "source": [
    "### The Python Package Index"
   ]
  },
  {
   "cell_type": "markdown",
   "metadata": {},
   "source": [
    "\n",
    "Python's real power, however, comes with the Python Package Index: [PyPI](https://pypi.python.org/pypi).\n",
    "This is a huge array of libraries, with all kinds of capabilities, all easily installable from the \n",
    "command line or through your Python distribution.\n"
   ]
  },
  {
   "cell_type": "markdown",
   "metadata": {},
   "source": [
    "### Pip"
   ]
  },
  {
   "cell_type": "markdown",
   "metadata": {},
   "source": [
    "\n",
    "Packages from PyPI are installed using Pip.\n"
   ]
  },
  {
   "cell_type": "markdown",
   "metadata": {},
   "source": [
    "```\n",
    "pip list # See what you have installed\n",
    "pip search geopy # Search PyPI for a package\n",
    "sudo pip install <package> # install a package\n",
    "sudo pip install <package> --upgrade # upgrade\n",
    "sudo pip uninstall <package>\n",
    "```"
   ]
  },
  {
   "cell_type": "markdown",
   "metadata": {},
   "source": [
    "## Some libraries"
   ]
  },
  {
   "cell_type": "markdown",
   "metadata": {},
   "source": [
    "### Argparse"
   ]
  },
  {
   "cell_type": "markdown",
   "metadata": {},
   "source": [
    "\n",
    "This is the standard library for building programs with a command-line interface.\n",
    "\n",
    "\n",
    "\n",
    "\n",
    "\n"
   ]
  },
  {
   "cell_type": "code",
   "execution_count": 1,
   "metadata": {
    "collapsed": false
   },
   "outputs": [
    {
     "name": "stdout",
     "output_type": "stream",
     "text": [
      "Overwriting greeter.py\n"
     ]
    }
   ],
   "source": [
    "%%writefile greeter.py\n",
    "#!/usr/bin/env python\n",
    "from argparse import ArgumentParser\n",
    "if __name__ == \"__main__\":\n",
    "    parser = ArgumentParser(description = \"Generate appropriate greetings\")\n",
    "    parser.add_argument('--title', '-t')\n",
    "    parser.add_argument('--polite','-p', action=\"store_true\")\n",
    "    parser.add_argument('personal')\n",
    "    parser.add_argument('family')\n",
    "    arguments= parser.parse_args()\n",
    "    greeting= \"How do you do, \" if arguments.polite else \"Hey, \"\n",
    "    if arguments.title:\n",
    "        greeting+=arguments.title+\" \"\n",
    "    greeting+= arguments.personal + \" \" + arguments.family +\".\"\n",
    "    print greeting\n"
   ]
  },
  {
   "cell_type": "markdown",
   "metadata": {},
   "source": [
    "\n",
    "\n",
    "\n",
    "\n"
   ]
  },
  {
   "cell_type": "code",
   "execution_count": 2,
   "metadata": {
    "collapsed": false
   },
   "outputs": [
    {
     "name": "stdout",
     "output_type": "stream",
     "text": [
      "usage: greeter.py [-h] [--title TITLE] [--polite] personal family\n",
      "\n",
      "Generate appropriate greetings\n",
      "\n",
      "positional arguments:\n",
      "  personal\n",
      "  family\n",
      "\n",
      "optional arguments:\n",
      "  -h, --help            show this help message and exit\n",
      "  --title TITLE, -t TITLE\n",
      "  --polite, -p\n",
      "Hey, James Hetherington.\n",
      "How do you do, James Hetherington.\n",
      "Hey, Dr James Hetherington.\n"
     ]
    }
   ],
   "source": [
    "%%bash\n",
    "#!/usr/bin/env bash\n",
    "chmod u+x greeter.py\n",
    "./greeter.py --help\n",
    "./greeter.py James Hetherington\n",
    "./greeter.py --polite James Hetherington\n",
    "./greeter.py James Hetherington --title Dr\n"
   ]
  },
  {
   "cell_type": "markdown",
   "metadata": {},
   "source": [
    "\n",
    "\n"
   ]
  },
  {
   "cell_type": "markdown",
   "metadata": {},
   "source": [
    "### Operating system paths and files"
   ]
  },
  {
   "cell_type": "markdown",
   "metadata": {},
   "source": [
    "\n",
    "When loading and saving files, standard libraries allow you to manage file names,\n",
    "in an operating-system independent way:\n",
    "\n"
   ]
  },
  {
   "cell_type": "code",
   "execution_count": 3,
   "metadata": {
    "collapsed": false
   },
   "outputs": [],
   "source": [
    "__file__ = \"session04.ipynb\" # No __file__ in notebook!"
   ]
  },
  {
   "cell_type": "markdown",
   "metadata": {},
   "source": [
    "\n",
    "\n",
    "\n",
    "\n"
   ]
  },
  {
   "cell_type": "code",
   "execution_count": 4,
   "metadata": {
    "collapsed": false
   },
   "outputs": [],
   "source": [
    "from os.path import join, dirname, abspath\n",
    "# Load the data file from session 1\n",
    "datapath=join(dirname(dirname(abspath(__file__))),\n",
    "              'session01', 'data', 'inflammation-01.csv')\n",
    "newpath=join(dirname(__file__), 'midvals.yaml')"
   ]
  },
  {
   "cell_type": "markdown",
   "metadata": {},
   "source": [
    "\n",
    "\n",
    "\n",
    "And you'll want to be able to read and write to files:\n",
    "\n",
    "\n"
   ]
  },
  {
   "cell_type": "code",
   "execution_count": 5,
   "metadata": {
    "collapsed": false
   },
   "outputs": [
    {
     "name": "stdout",
     "output_type": "stream",
     "text": [
      "['6', '18', '19', '17', '9', '12', '9', '20', '6', '18', '8', '9', '13', '15', '12', '9', '13', '13', '7', '9', '18', '12', '16', '14', '17', '7', '9', '15', '20', '14', '13', '19', '11', '10', '14', '15', '16', '15', '19', '15', '18', '19', '12', '18', '6', '14', '19', '10', '12', '16', '5', '20', '11', '15', '16', '16', '14', '9', '8', '6']\n"
     ]
    }
   ],
   "source": [
    "source = open(datapath)\n",
    "import csv\n",
    "reader = csv.reader(source)\n",
    "midvals = [row[len(row)/2] for row in reader]\n",
    "print midvals\n",
    "source.close()"
   ]
  },
  {
   "cell_type": "markdown",
   "metadata": {},
   "source": [
    "\n",
    "\n",
    "\n",
    "Note the use of the `csv` library to read csv files as well.\n"
   ]
  },
  {
   "cell_type": "markdown",
   "metadata": {},
   "source": [
    "### Context managers"
   ]
  },
  {
   "cell_type": "markdown",
   "metadata": {},
   "source": [
    "\n",
    "There's a better way to handle opening and closing files\n",
    "\n",
    "\n"
   ]
  },
  {
   "cell_type": "code",
   "execution_count": 6,
   "metadata": {
    "collapsed": false
   },
   "outputs": [],
   "source": [
    "import yaml\n",
    "with open(newpath, 'w') as yamlfile:\n",
    "    yaml.dump(midvals, yamlfile)"
   ]
  },
  {
   "cell_type": "markdown",
   "metadata": {},
   "source": [
    "\n",
    "\n",
    "\n",
    "This syntax using `with` is called a context manager.\n",
    "It is used when a library wants stuff to happen both before **and** after client code is called.\n",
    "\n",
    "Here, [`yaml`](http://www.yaml.org) is another standard file format for data files similar to XML or CSV.\n"
   ]
  },
  {
   "cell_type": "markdown",
   "metadata": {},
   "source": [
    "### Working with web resources"
   ]
  },
  {
   "cell_type": "markdown",
   "metadata": {},
   "source": [
    "\n",
    "To interact with resources on the web, you need a way to work with URLs: escaping characters that\n",
    "can't appear in URLs, composing ?foo=bar web argument strings and so on.\n",
    "\n",
    "We can use the [requests](http://docs.python-requests.org/en/latest/) library from PyPI for this.\n",
    "\n",
    "\n"
   ]
  },
  {
   "cell_type": "code",
   "execution_count": 7,
   "metadata": {
    "collapsed": false
   },
   "outputs": [
    {
     "name": "stdout",
     "output_type": "stream",
     "text": [
      "https://en.wikipedia.org/wiki/University_College_London\n",
      "http://maps.googleapis.com/maps/api/staticmap?size=400x400&zoom=10&center=51.5%2C+-0.1\n"
     ]
    }
   ],
   "source": [
    "\n",
    "import requests\n",
    "ucl=requests.get(\n",
    "    'http://en.wikipedia.org/wiki/University_College_London'\n",
    ")\n",
    "map_here=requests.get('http://maps.googleapis.com/maps/api/staticmap',\n",
    "        params={'center':\"51.5, -0.1\", 'size':\"400x400\", 'zoom':10})\n",
    "print ucl.url\n",
    "print map_here.url\n"
   ]
  },
  {
   "cell_type": "markdown",
   "metadata": {},
   "source": [
    "\n",
    "\n",
    "\n",
    "And you can download files from the web, accessing headers and the body of the response:\n",
    "\n",
    "\n"
   ]
  },
  {
   "cell_type": "code",
   "execution_count": 8,
   "metadata": {
    "collapsed": false
   },
   "outputs": [
    {
     "name": "stdout",
     "output_type": "stream",
     "text": [
      "Beginning of HTML file [u'<!DOCTYPE', u'html>']\n"
     ]
    }
   ],
   "source": [
    "\n",
    "print \"Beginning of HTML file\", ucl.text.split()[0:2]\n",
    "with open('map.png','w') as map_image:\n",
    "    map_image.write(map_here.content)\n"
   ]
  },
  {
   "cell_type": "markdown",
   "metadata": {},
   "source": [
    "\n",
    "\n",
    "\n",
    "Libraries even allow you to parse HTML content, to find the data you want within a page:\n",
    "\n",
    "\n"
   ]
  },
  {
   "cell_type": "code",
   "execution_count": 9,
   "metadata": {
    "collapsed": false
   },
   "outputs": [],
   "source": [
    "# pip install beautifulsoup4\n",
    "from bs4 import BeautifulSoup\n",
    "import re # Python regular expression library\n",
    "wikipage=BeautifulSoup(ucl.text)\n",
    "# HTML looks like <span class=\"latitude\">value</span>\n",
    "motto=wikipage.find(text=re.compile(\"Motto\"))\n",
    "\n",
    "#print 'Coordinates:', latitude, longitude"
   ]
  },
  {
   "cell_type": "markdown",
   "metadata": {},
   "source": [
    "\n",
    "\n",
    "\n"
   ]
  },
  {
   "cell_type": "code",
   "execution_count": 10,
   "metadata": {
    "collapsed": false
   },
   "outputs": [
    {
     "data": {
      "image/png": "[encoded data removed]",
      "text/plain": [
       "<IPython.core.display.Image object>"
      ]
     },
     "execution_count": 10,
     "metadata": {},
     "output_type": "execute_result"
    }
   ],
   "source": [
    "import IPython\n",
    "IPython.core.display.Image(map_here.content)"
   ]
  },
  {
   "cell_type": "markdown",
   "metadata": {},
   "source": [
    "## Graph of Green Spaces"
   ]
  },
  {
   "cell_type": "markdown",
   "metadata": {},
   "source": [
    "### The problem"
   ]
  },
  {
   "cell_type": "markdown",
   "metadata": {},
   "source": [
    "\n",
    "Let's look at an extended example of using libraries to work with Python to analyse data.\n",
    "\n",
    "We'd like to know how density of green space varies as we move from city centre to the countryside:\n",
    "\n",
    "* Find the location of two places by name\n",
    "* Obtain maps or satellite images of the geography at points between them\n",
    "    * In this toy example: just evenly divide the range\n",
    "* Determine the proportion of the images that are parkland\n",
    "    * In this toy example: bits that are green!\n",
    "* Plot a graph\n"
   ]
  },
  {
   "cell_type": "markdown",
   "metadata": {},
   "source": [
    "### Geolocation"
   ]
  },
  {
   "cell_type": "markdown",
   "metadata": {},
   "source": [
    "\n",
    "Google provides a service to go from \"London\" to 51.51N, 0.1275W. Fortunately, there's a very nice library\n",
    "on PyPI to access it: `pip install geopy`\n",
    "\n",
    "\n"
   ]
  },
  {
   "cell_type": "code",
   "execution_count": 11,
   "metadata": {
    "collapsed": false
   },
   "outputs": [
    {
     "name": "stderr",
     "output_type": "stream",
     "text": [
      "WARNING:geopy:BeautifulSoup was not found. The SemanticMediaWiki geocoder will not work.\n"
     ]
    },
    {
     "name": "stdout",
     "output_type": "stream",
     "text": [
      "(51.5073509, -0.1277583)\n"
     ]
    }
   ],
   "source": [
    "import geopy\n",
    "geocoder=geopy.geocoders.GoogleV3(domain=\"maps.google.co.uk\")\n",
    "def geolocate(place):\n",
    "  return geocoder.geocode(place,exactly_one=False)[0][1]\n",
    "\n",
    "london_location=geolocate(\"London\")\n",
    "print london_location"
   ]
  },
  {
   "cell_type": "markdown",
   "metadata": {},
   "source": [
    "\n",
    "\n"
   ]
  },
  {
   "cell_type": "markdown",
   "metadata": {},
   "source": [
    "### Addressing the google maps API"
   ]
  },
  {
   "cell_type": "markdown",
   "metadata": {},
   "source": [
    "\n",
    "Google maps has a static API to obtain satellite images with URLs like this:\n",
    "\n",
    "[http://maps.googleapis.com/maps/api/staticmap?size=400x400&sensor=false&zoom=10&center=51.5072,-0.1275](http://maps.googleapis.com/maps/api/staticmap?size=400x400&sensor=false&zoom=10&center=51.5072,-0.1275)\n",
    "\n",
    "We'll therefore need to use a library to build this URL, and fetch the result\n",
    "\n",
    "`sudo pip install pypng` will get you this library.\n",
    "\n",
    "\n"
   ]
  },
  {
   "cell_type": "code",
   "execution_count": 12,
   "metadata": {
    "collapsed": false
   },
   "outputs": [
    {
     "name": "stdout",
     "output_type": "stream",
     "text": [
      "http://maps.googleapis.com/maps/api/staticmap?style=feature%3Aall%7Celement%3Alabels%7Cvisibility%3Aoff&center=51.5072%2C-0.1275&sensor=false&zoom=10&size=400x400\n"
     ]
    }
   ],
   "source": [
    "import requests\n",
    "def map_at(lat,long, satellite=False, zoom=12, \n",
    "           size=(400,400), sensor=False):\n",
    "    base=\"http://maps.googleapis.com/maps/api/staticmap?\"\n",
    "    params=dict(\n",
    "        sensor= str(sensor).lower(),\n",
    "        zoom= zoom,\n",
    "        size= \"x\".join(map(str,size)),\n",
    "        center= \",\".join(map(str,(lat,long))),\n",
    "        style=\"feature:all|element:labels|visibility:off\"\n",
    "    )\n",
    "    if satellite:\n",
    "        params[\"maptype\"]=\"satellite\"\n",
    "    return requests.get(base,params=params)\n",
    "\n",
    "\n",
    "map_response=map_at(51.5072, -0.1275, zoom=10)\n",
    "url=map_response.url\n",
    "print url\n"
   ]
  },
  {
   "cell_type": "code",
   "execution_count": 13,
   "metadata": {
    "collapsed": false
   },
   "outputs": [
    {
     "data": {
      "image/png": "[encoded data removed]",
      "text/plain": [
       "<IPython.core.display.Image object>"
      ]
     },
     "execution_count": 13,
     "metadata": {},
     "output_type": "execute_result"
    }
   ],
   "source": [
    "import IPython\n",
    "map_png=map_at(*london_location)\n",
    "IPython.core.display.Image(map_png.content)"
   ]
  },
  {
   "cell_type": "markdown",
   "metadata": {},
   "source": [
    "### Finding the green bits"
   ]
  },
  {
   "cell_type": "markdown",
   "metadata": {},
   "source": [
    "\n",
    "We'll need a library to parse `.png` image files and determine which bits are green:\n",
    "\n",
    "\n"
   ]
  },
  {
   "cell_type": "code",
   "execution_count": 14,
   "metadata": {
    "collapsed": false
   },
   "outputs": [
    {
     "name": "stdout",
     "output_type": "stream",
     "text": [
      "12271\n"
     ]
    }
   ],
   "source": [
    "def is_green(r,g,b):\n",
    "  threshold=1.1\n",
    "  return g>r*threshold and g>b*threshold\n",
    "\n",
    "import png\n",
    "from itertools import izip\n",
    "\n",
    "def count_green_in_png(data):\n",
    "    image=png.Reader(file=StringIO(data.content)).asRGB()\n",
    "    count = 0\n",
    "    for row in image[2]:\n",
    "        pixels=izip(*[iter(row)]*3)\n",
    "        count+=sum(1 for pixel in pixels if is_green(*pixel))\n",
    "    return count\n",
    "\n",
    "from StringIO import StringIO\n",
    "print count_green_in_png(map_at(*london_location))"
   ]
  },
  {
   "cell_type": "markdown",
   "metadata": {},
   "source": [
    "### Checking our code"
   ]
  },
  {
   "cell_type": "markdown",
   "metadata": {},
   "source": [
    "\n",
    "We could write some unit tests, but for something like this, visualisation is the key to\n",
    "verification. Let's look which bits are green by building a new png.\n",
    "\n",
    "We could write the new png to disk, but we can use `StringIO` to get a string in memory which\n",
    "behaves like a file:\n",
    "\n",
    "\n"
   ]
  },
  {
   "cell_type": "code",
   "execution_count": 15,
   "metadata": {
    "collapsed": false
   },
   "outputs": [],
   "source": [
    "def show_green_in_png(data):\n",
    "    image=png.Reader(file=StringIO(data.content)).asRGB()\n",
    "    count = 0\n",
    "    out=[]\n",
    "    for row in image[2]:\n",
    "        outrow=[]\n",
    "        pixels=izip(*[iter(row)]*3)\n",
    "        for pixel in pixels:\n",
    "            outrow.append(0)\n",
    "            if is_green(*pixel):\n",
    "                outrow.append(255)\n",
    "            else:\n",
    "                outrow.append(0)\n",
    "            outrow.append(0)\n",
    "        out.append(outrow)\n",
    "    buffer=StringIO()\n",
    "    result = png.from_array(out,mode='RGB')\n",
    "    result.save(buffer)\n",
    "    return buffer.getvalue()"
   ]
  },
  {
   "cell_type": "code",
   "execution_count": 16,
   "metadata": {
    "collapsed": false
   },
   "outputs": [
    {
     "data": {
      "image/png": "[encoded data removed]",
      "text/plain": [
       "<IPython.core.display.Image object>"
      ]
     },
     "execution_count": 16,
     "metadata": {},
     "output_type": "execute_result"
    }
   ],
   "source": [
    "IPython.core.display.Image(show_green_in_png(map_at(*london_location,satellite=True)))"
   ]
  },
  {
   "cell_type": "markdown",
   "metadata": {},
   "source": [
    "### Points in between"
   ]
  },
  {
   "cell_type": "markdown",
   "metadata": {},
   "source": [
    "\n",
    "We need all the points equally spaced between two locations.\n",
    "Numpy has a routine for just this:\n",
    "\n",
    "\n"
   ]
  },
  {
   "cell_type": "code",
   "execution_count": 17,
   "metadata": {
    "collapsed": false
   },
   "outputs": [
    {
     "data": {
      "text/plain": [
       "[106806,\n",
       " 127985,\n",
       " 157091,\n",
       " 158679,\n",
       " 158033,\n",
       " 158833,\n",
       " 158561,\n",
       " 156501,\n",
       " 149482,\n",
       " 140037]"
      ]
     },
     "execution_count": 17,
     "metadata": {},
     "output_type": "execute_result"
    }
   ],
   "source": [
    "from numpy import linspace\n",
    "def location_sequence(start,end,steps):\n",
    "  # Would actually prefer this if steps\n",
    "  # were deduced from zoomlevel\n",
    "  # But need projection code for that\n",
    "  lats=linspace(start[0],end[0],steps)\n",
    "  longs=linspace(start[1],end[1],steps)\n",
    "  return zip(lats,longs)\n",
    "\n",
    "[count_green_in_png(map_at(*location,zoom=10,satellite=True))\n",
    "            for location in location_sequence(\n",
    "                geolocate(\"London\"),\n",
    "                geolocate(\"Birmingham\"),\n",
    "                10)]"
   ]
  },
  {
   "cell_type": "markdown",
   "metadata": {},
   "source": [
    "### The results"
   ]
  },
  {
   "cell_type": "markdown",
   "metadata": {},
   "source": [
    "\n"
   ]
  },
  {
   "cell_type": "code",
   "execution_count": 18,
   "metadata": {
    "collapsed": false
   },
   "outputs": [
    {
     "data": {
      "text/plain": [
       "[<matplotlib.lines.Line2D at 0x1076b2150>]"
      ]
     },
     "execution_count": 18,
     "metadata": {},
     "output_type": "execute_result"
    },
    {
     "data": {
      "image/png": "[encoded data removed]",
      "text/plain": [
       "<matplotlib.figure.Figure at 0x103422250>"
      ]
     },
     "metadata": {},
     "output_type": "display_data"
    }
   ],
   "source": [
    "import matplotlib.pyplot as plt\n",
    "%matplotlib inline\n",
    "plt.plot([count_green_in_png(map_at(*location,zoom=10,satellite=True))\n",
    "            for location in location_sequence(geolocate(\"London\"),geolocate(\"Birmingham\"),10)])"
   ]
  },
  {
   "cell_type": "markdown",
   "metadata": {},
   "source": [
    "## Packaging"
   ]
  },
  {
   "cell_type": "markdown",
   "metadata": {},
   "source": [
    "### Packaging"
   ]
  },
  {
   "cell_type": "markdown",
   "metadata": {},
   "source": [
    "\n",
    "Once we've made a working program, we'd like to be able to share it with others.\n",
    "\n",
    "A good cross-platform build tool is the most important thing: you can always\n",
    "have collaborators build from source.\n"
   ]
  },
  {
   "cell_type": "markdown",
   "metadata": {},
   "source": [
    "### Distribution tools"
   ]
  },
  {
   "cell_type": "markdown",
   "metadata": {},
   "source": [
    "\n",
    "Distribution tools allow one to obtain a working copy of someone else's package.\n",
    "\n",
    "Language-specific tools: PyPI, Ruby Gems, CPAN, CRAN\n",
    "Platform specific packagers e.g. brew, apt/yum\n",
    "\n",
    "Windows doesn't have anything like `brew install` or `apt-get`\n",
    "You have to build an 'installer'.\n"
   ]
  },
  {
   "cell_type": "markdown",
   "metadata": {},
   "source": [
    "### Laying out a project"
   ]
  },
  {
   "cell_type": "markdown",
   "metadata": {},
   "source": [
    "\n",
    "When planning to package a project for distribution, defining a suitable\n",
    "project layout is essential.\n",
    "\n",
    "\n"
   ]
  },
  {
   "cell_type": "code",
   "execution_count": 70,
   "metadata": {
    "collapsed": false
   },
   "outputs": [
    {
     "name": "stdout",
     "output_type": "stream",
     "text": [
      "greetings\n",
      "|-- CITATION.md\n",
      "|-- Greetings.egg-info\n",
      "|   |-- PKG-INFO\n",
      "|   |-- SOURCES.txt\n",
      "|   |-- dependency_links.txt\n",
      "|   |-- requires.txt\n",
      "|   `-- top_level.txt\n",
      "|-- LICENSE.md\n",
      "|-- README.md\n",
      "|-- conf.py\n",
      "|-- doc\n",
      "|   |-- _sources\n",
      "|   |   `-- index.txt\n",
      "|   |-- _static\n",
      "|   |   |-- ajax-loader.gif\n",
      "|   |   |-- basic.css\n",
      "|   |   |-- comment-bright.png\n",
      "|   |   |-- comment-close.png\n",
      "|   |   |-- comment.png\n",
      "|   |   |-- default.css\n",
      "|   |   |-- doctools.js\n",
      "|   |   |-- down-pressed.png\n",
      "|   |   |-- down.png\n",
      "|   |   |-- file.png\n",
      "|   |   |-- jquery.js\n",
      "|   |   |-- minus.png\n",
      "|   |   |-- plus.png\n",
      "|   |   |-- pygments.css\n",
      "|   |   |-- searchtools.js\n",
      "|   |   |-- sidebar.js\n",
      "|   |   |-- underscore.js\n",
      "|   |   |-- up-pressed.png\n",
      "|   |   |-- up.png\n",
      "|   |   `-- websupport.js\n",
      "|   |-- genindex.html\n",
      "|   |-- index.html\n",
      "|   |-- objects.inv\n",
      "|   |-- search.html\n",
      "|   `-- searchindex.js\n",
      "|-- greetings\n",
      "|   |-- __init__.py\n",
      "|   |-- __init__.pyc\n",
      "|   |-- command.py\n",
      "|   |-- command.pyc\n",
      "|   |-- greeter.py\n",
      "|   |-- greeter.pyc\n",
      "|   |-- scripts\n",
      "|   `-- test\n",
      "|       |-- __init__.py\n",
      "|       |-- fixtures\n",
      "|       |   `-- samples.yaml\n",
      "|       `-- test_greeter.py\n",
      "|-- index.rst\n",
      "|-- scripts\n",
      "|   `-- greet\n",
      "`-- setup.py\n",
      "\n",
      "9 directories, 47 files\n"
     ]
    }
   ],
   "source": [
    "%%bash\n",
    "tree --charset ascii greetings"
   ]
  },
  {
   "cell_type": "markdown",
   "metadata": {},
   "source": [
    "We can start by making our directory structure"
   ]
  },
  {
   "cell_type": "code",
   "execution_count": 71,
   "metadata": {
    "collapsed": true
   },
   "outputs": [],
   "source": [
    "%%bash\n",
    "mkdir -p greetings/greetings/test/fixtures\n",
    "mkdir -p greetings/scripts"
   ]
  },
  {
   "cell_type": "markdown",
   "metadata": {},
   "source": [
    "### Using setuptools"
   ]
  },
  {
   "cell_type": "markdown",
   "metadata": {},
   "source": [
    "\n",
    "To make python code into a package, we have to write a `setupfile`:\n",
    "\n",
    "\n",
    "\n",
    "\n",
    "\n"
   ]
  },
  {
   "cell_type": "code",
   "execution_count": 72,
   "metadata": {
    "collapsed": false
   },
   "outputs": [
    {
     "name": "stdout",
     "output_type": "stream",
     "text": [
      "Overwriting greetings/setup.py\n"
     ]
    }
   ],
   "source": [
    "%%writefile greetings/setup.py\n",
    "\n",
    "from setuptools import setup, find_packages\n",
    "\n",
    "setup(\n",
    "    name = \"Greetings\",\n",
    "    version = \"0.1\",\n",
    "    packages = find_packages(exclude=['*test']),\n",
    "    scripts = ['scripts/greet'],\n",
    "    install_requires = ['argparse']\n",
    ")"
   ]
  },
  {
   "cell_type": "markdown",
   "metadata": {},
   "source": [
    "\n",
    "\n",
    "\n",
    "We can now install this code with\n"
   ]
  },
  {
   "cell_type": "markdown",
   "metadata": {},
   "source": [
    "```\n",
    "sudo python setup.py install\n",
    "```"
   ]
  },
  {
   "cell_type": "markdown",
   "metadata": {},
   "source": [
    "\n",
    "And the package will be then available to use everywhere on the system:\n"
   ]
  },
  {
   "cell_type": "code",
   "execution_count": 73,
   "metadata": {
    "collapsed": false
   },
   "outputs": [
    {
     "name": "stdout",
     "output_type": "stream",
     "text": [
      "Hey, James Hetherington.\n"
     ]
    }
   ],
   "source": [
    "import greetings\n",
    "from greetings.greeter import greet\n",
    "print greetings.greeter.greet(\"James\",\"Hetherington\")"
   ]
  },
  {
   "cell_type": "markdown",
   "metadata": {},
   "source": [
    "\n",
    "And the scripts are now available as command line commands:\n",
    "\n",
    "\n"
   ]
  },
  {
   "cell_type": "code",
   "execution_count": 74,
   "metadata": {
    "collapsed": false
   },
   "outputs": [
    {
     "name": "stdout",
     "output_type": "stream",
     "text": [
      "usage: greet [-h] [--title TITLE] [--polite] personal family\n",
      "\n",
      "Generate appropriate greetings\n",
      "\n",
      "positional arguments:\n",
      "  personal\n",
      "  family\n",
      "\n",
      "optional arguments:\n",
      "  -h, --help            show this help message and exit\n",
      "  --title TITLE, -t TITLE\n",
      "  --polite, -p\n"
     ]
    }
   ],
   "source": [
    "%%bash\n",
    "#!/usr/bin/env bash\n",
    "greet --help"
   ]
  },
  {
   "cell_type": "code",
   "execution_count": 75,
   "metadata": {
    "collapsed": false
   },
   "outputs": [
    {
     "name": "stdout",
     "output_type": "stream",
     "text": [
      "Hey, James Hetherington.\n",
      "How do you do, James Hetherington.\n",
      "Hey, Dr James Hetherington.\n"
     ]
    }
   ],
   "source": [
    "%%bash\n",
    "greet James Hetherington\n",
    "greet --polite James Hetherington\n",
    "greet James Hetherington --title Dr"
   ]
  },
  {
   "cell_type": "markdown",
   "metadata": {},
   "source": [
    "### Installing from GitHub"
   ]
  },
  {
   "cell_type": "markdown",
   "metadata": {},
   "source": [
    "\n",
    "We could now submit \"greeter\" to PyPI for approval, so everyone could `pip install` it.\n",
    "\n",
    "However, when using git, we don't even need to do that: we can install directly from any git URL:\n"
   ]
  },
  {
   "cell_type": "markdown",
   "metadata": {},
   "source": [
    "```\n",
    "sudo pip install git+git://github.com/jamespjh/greeter\n",
    "```"
   ]
  },
  {
   "cell_type": "code",
   "execution_count": 67,
   "metadata": {
    "collapsed": false
   },
   "outputs": [
    {
     "name": "stdout",
     "output_type": "stream",
     "text": [
      "Hey, Sir Humphry Appleby.\n"
     ]
    }
   ],
   "source": [
    "%%bash\n",
    "greet Humphry Appleby --title Sir"
   ]
  },
  {
   "cell_type": "markdown",
   "metadata": {},
   "source": [
    "\n",
    "Try it!\n"
   ]
  },
  {
   "cell_type": "markdown",
   "metadata": {},
   "source": [
    "### Convert the script to a module"
   ]
  },
  {
   "cell_type": "markdown",
   "metadata": {},
   "source": [
    "\n",
    "Of course, there's more to do when taking code from a quick script and turning it into a proper module:\n",
    "\n",
    "\n",
    "\n",
    "\n",
    "\n"
   ]
  },
  {
   "cell_type": "code",
   "execution_count": 69,
   "metadata": {
    "collapsed": false
   },
   "outputs": [
    {
     "name": "stdout",
     "output_type": "stream",
     "text": [
      "Overwriting greetings/greetings/greeter.py\n"
     ]
    }
   ],
   "source": [
    "%%writefile greetings/greetings/greeter.py\n",
    "\n",
    "def greet(personal, family, title=\"\", polite=False):\n",
    "\n",
    "    \"\"\" Generate a greeting string for a person.\n",
    "\n",
    "    Parameters\n",
    "    ----------\n",
    "    personal: str\n",
    "        A given name, such as Will or Jean-Luc\n",
    "    family: str\n",
    "        A family name, such as Riker or Picard\n",
    "    title: str\n",
    "        An optional title, such as Captain or Reverend\n",
    "    polite: bool\n",
    "        True for a formal greeting, False for informal.\n",
    "\n",
    "    Returns\n",
    "    -------\n",
    "    string\n",
    "        An appropriate greeting\n",
    "    \"\"\"\n",
    "\n",
    "    greeting= \"How do you do, \" if polite else \"Hey, \"\n",
    "    if title:\n",
    "        greeting+=title+\" \"\n",
    "\n",
    "    greeting+= personal + \" \" + family +\".\"\n",
    "    return greeting"
   ]
  },
  {
   "cell_type": "markdown",
   "metadata": {},
   "source": [
    "\n",
    "\n",
    "\n",
    "The documentation string explains how to use the function; don't worry about this for now, we'll consider\n",
    "this next time.\n"
   ]
  },
  {
   "cell_type": "markdown",
   "metadata": {},
   "source": [
    "### Write an executable script"
   ]
  },
  {
   "cell_type": "markdown",
   "metadata": {},
   "source": [
    "\n",
    "\n",
    "\n",
    "\n",
    "\n"
   ]
  },
  {
   "cell_type": "code",
   "execution_count": 53,
   "metadata": {
    "collapsed": false
   },
   "outputs": [
    {
     "name": "stdout",
     "output_type": "stream",
     "text": [
      "Overwriting greetings/greetings/command.py\n"
     ]
    }
   ],
   "source": [
    "%%writefile greetings/greetings/command.py\n",
    "from argparse import ArgumentParser\n",
    "from greeter import greet\n",
    "\n",
    "def process():\n",
    "   parser = ArgumentParser(description = \"Generate appropriate greetings\")\n",
    "\n",
    "   parser.add_argument('--title', '-t')\n",
    "   parser.add_argument('--polite', '-p', action=\"store_true\")\n",
    "   parser.add_argument('personal')\n",
    "   parser.add_argument('family')\n",
    "\n",
    "   arguments= parser.parse_args()\n",
    "\n",
    "   print greet(arguments.personal, arguments.family, arguments.title, arguments.polite)\n",
    "\n",
    "if __name__ == \"__main__\":\n",
    "    process()"
   ]
  },
  {
   "cell_type": "markdown",
   "metadata": {},
   "source": [
    "\n",
    "\n"
   ]
  },
  {
   "cell_type": "markdown",
   "metadata": {},
   "source": [
    "### Write an entry point script stub"
   ]
  },
  {
   "cell_type": "markdown",
   "metadata": {},
   "source": [
    "\n"
   ]
  },
  {
   "cell_type": "code",
   "execution_count": 54,
   "metadata": {
    "collapsed": false
   },
   "outputs": [
    {
     "name": "stdout",
     "output_type": "stream",
     "text": [
      "Writing greetings/scripts/greet\n"
     ]
    }
   ],
   "source": [
    "%%writefile greetings/scripts/greet\n",
    "\n",
    "#!/usr/bin/env python\n",
    "from greetings.command import process\n",
    "process()"
   ]
  },
  {
   "cell_type": "markdown",
   "metadata": {},
   "source": [
    "\n"
   ]
  },
  {
   "cell_type": "markdown",
   "metadata": {},
   "source": [
    "### Write a readme file"
   ]
  },
  {
   "cell_type": "markdown",
   "metadata": {},
   "source": [
    "e.g.:"
   ]
  },
  {
   "cell_type": "code",
   "execution_count": 55,
   "metadata": {
    "collapsed": false
   },
   "outputs": [
    {
     "name": "stdout",
     "output_type": "stream",
     "text": [
      "Overwriting greetings/README.md\n"
     ]
    }
   ],
   "source": [
    "%%writefile greetings/README.md\n",
    "\n",
    "Greetings!\n",
    "==========\n",
    "\n",
    "This is a very simple example package used as part of the UCL\n",
    "[Research Software Engineering with Python](development.rc.ucl.ac.uk/training/engineering) course."
   ]
  },
  {
   "cell_type": "markdown",
   "metadata": {},
   "source": [
    "### Write a license file"
   ]
  },
  {
   "cell_type": "markdown",
   "metadata": {},
   "source": [
    "e.g.:"
   ]
  },
  {
   "cell_type": "code",
   "execution_count": 56,
   "metadata": {
    "collapsed": false
   },
   "outputs": [
    {
     "name": "stdout",
     "output_type": "stream",
     "text": [
      "Overwriting greetings/LICENSE.md\n"
     ]
    }
   ],
   "source": [
    "%%writefile greetings/LICENSE.md\n",
    "\n",
    "(C) University College London 2014\n",
    "\n",
    "This \"greetings\" example package is granted into the public domain.\n"
   ]
  },
  {
   "cell_type": "markdown",
   "metadata": {},
   "source": [
    "### Write a citation file"
   ]
  },
  {
   "cell_type": "markdown",
   "metadata": {},
   "source": [
    "e.g.:"
   ]
  },
  {
   "cell_type": "code",
   "execution_count": 57,
   "metadata": {
    "collapsed": false
   },
   "outputs": [
    {
     "name": "stdout",
     "output_type": "stream",
     "text": [
      "Overwriting greetings/CITATION.md\n"
     ]
    }
   ],
   "source": [
    "%%writefile greetings/CITATION.md\n",
    "\n",
    "If you wish to refer to this course, please cite the URL\n",
    "http://development.rc.ucl.ac.uk/training/engineering\n",
    "\n",
    "Portions of the material are taken from Software Carpentry\n",
    "http://swcarpentry.org\n"
   ]
  },
  {
   "cell_type": "markdown",
   "metadata": {},
   "source": [
    "### Define packages and executables"
   ]
  },
  {
   "cell_type": "code",
   "execution_count": 58,
   "metadata": {
    "collapsed": false
   },
   "outputs": [],
   "source": [
    "%%bash\n",
    "touch greetings/greetings/test/__init__.py\n",
    "touch greetings/greetings/__init__.py\n",
    "chmod u+x greetings/greetings/command.py\n",
    "# chmod u+x greetings/scripts/greet"
   ]
  },
  {
   "cell_type": "markdown",
   "metadata": {},
   "source": [
    "### Write some unit tests"
   ]
  },
  {
   "cell_type": "markdown",
   "metadata": {},
   "source": [
    "\n",
    "Separating the script from the logical module made this possible:\n",
    "\n",
    "\n",
    "\n",
    "\n",
    "\n"
   ]
  },
  {
   "cell_type": "code",
   "execution_count": 59,
   "metadata": {
    "collapsed": false
   },
   "outputs": [
    {
     "name": "stdout",
     "output_type": "stream",
     "text": [
      "Overwriting greetings/greetings/test/test_greeter.py\n"
     ]
    }
   ],
   "source": [
    "%%writefile greetings/greetings/test/test_greeter.py\n",
    "import yaml\n",
    "import os\n",
    "from ..greeter import greet\n",
    "from nose.tools import assert_equal\n",
    "def test_greeter():\n",
    "    with open(os.path.join(os.path.dirname(__file__),'fixtures','samples.yaml')) as fixtures_file:\n",
    "        fixtures=yaml.load(fixtures_file)\n",
    "        for fixture in fixtures:\n",
    "            answer=fixture.pop('answer')\n",
    "            assert_equal(greet(**fixture), answer)\n"
   ]
  },
  {
   "cell_type": "markdown",
   "metadata": {},
   "source": [
    "\n",
    "\n",
    "\n",
    "Add a fixtures file:\n",
    "\n",
    "\n",
    "\n",
    "\n",
    "\n"
   ]
  },
  {
   "cell_type": "code",
   "execution_count": 60,
   "metadata": {
    "collapsed": false
   },
   "outputs": [
    {
     "name": "stdout",
     "output_type": "stream",
     "text": [
      "Overwriting greetings/greetings/test/fixtures/samples.yaml\n"
     ]
    }
   ],
   "source": [
    "%%writefile greetings/greetings/test/fixtures/samples.yaml\n",
    "- personal: James\n",
    "  family: Hetherington\n",
    "  answer: \"Hey, James Hetherington.\"\n",
    "- personal: James\n",
    "  family: Hetherington\n",
    "  polite: True\n",
    "  answer: \"How do you do, James Hetherington.\"\n",
    "- personal: James\n",
    "  family: Hetherington\n",
    "  title: Dr\n",
    "  answer: \"Hey, Dr James Hetherington.\"\n"
   ]
  },
  {
   "cell_type": "markdown",
   "metadata": {},
   "source": [
    "### Developer Install"
   ]
  },
  {
   "cell_type": "markdown",
   "metadata": {},
   "source": [
    "\n",
    "If you modify your source files, you would now find it appeared as if the program doesn't change.\n",
    "\n",
    "That's because pip install **copies** the file.\n",
    "\n",
    "(On my system to /Library/Python/2.7/site-packages/: this is operating\n",
    "system dependent.)\n",
    "\n",
    "If you want to install a package, but keep working on it, you can do\n"
   ]
  },
  {
   "cell_type": "markdown",
   "metadata": {
    "collapsed": false
   },
   "source": [
    "```\n",
    "sudo python setup.py develop\n",
    "```"
   ]
  },
  {
   "cell_type": "markdown",
   "metadata": {},
   "source": [
    "### Distributing compiled code"
   ]
  },
  {
   "cell_type": "markdown",
   "metadata": {},
   "source": [
    "\n",
    "If you're working in C++ or Fortran, there is no language specific repository.\n",
    "You'll need to write platform installers for as many platforms as you want to\n",
    "support.\n",
    "\n",
    "Typically:\n",
    "\n",
    "* `dpkg` for `apt-get` on Ubuntu and Debian\n",
    "* `rpm` for `yum` on Redhat and Fedora\n",
    "* `homebrew` on OSX (Possibly `macports` as well)\n",
    "* An executable `msi` installer for Windows.\n"
   ]
  },
  {
   "cell_type": "markdown",
   "metadata": {},
   "source": [
    "### Homebrew"
   ]
  },
  {
   "cell_type": "markdown",
   "metadata": {},
   "source": [
    "\n",
    "Homebrew: A ruby DSL, you host off your own webpage\n",
    "\n",
    "See my [installer for the cppcourse example](http://github.com/jamespjh/homebrew-reactor)\n",
    "\n",
    "If you're on OSX, do:\n"
   ]
  },
  {
   "cell_type": "markdown",
   "metadata": {
    "collapsed": true
   },
   "source": [
    "```\n",
    "brew tap jamespjh/homebrew-reactor\n",
    "brew install reactor\n",
    "```"
   ]
  },
  {
   "cell_type": "markdown",
   "metadata": {},
   "source": [
    "### Exercises"
   ]
  },
  {
   "cell_type": "markdown",
   "metadata": {},
   "source": [
    "\n",
    "We previously looked at Greengraph.py, a script that enables us to explore how green space varies as we move from the city to the countryside:\n"
   ]
  },
  {
   "cell_type": "code",
   "execution_count": 33,
   "metadata": {
    "collapsed": false
   },
   "outputs": [
    {
     "name": "stdout",
     "output_type": "stream",
     "text": [
      "(51.5073509, -0.1277583)\n"
     ]
    }
   ],
   "source": [
    "### \"geolocation\"\n",
    "import geopy\n",
    "geocoder=geopy.geocoders.GoogleV3(domain=\"maps.google.co.uk\")\n",
    "\n",
    "def geolocate(place):\n",
    "    return geocoder.geocode(place,exactly_one=False)[0][1]\n",
    "\n",
    "london_location=geolocate(\"London\")\n",
    "print london_location"
   ]
  },
  {
   "cell_type": "markdown",
   "metadata": {},
   "source": [
    "\n",
    "The Greengraph example is only available as a single large [script](https://github.com/UCL/rsd-engineeringcourse/blob/master/../python/greengraph.py).\n",
    "\n",
    "Your task is to transform this into a python package that can be pip installed directly from GitHub. Remember to include:\n",
    "\n",
    "- an \\__init\\__.py file\n",
    "- a setup.py file\n",
    "- tests\n",
    "- license and documentation"
   ]
  }
 ],
 "metadata": {
  "jekyll": {
   "display_name": "Session 4"
  },
  "kernelspec": {
   "display_name": "Python 2",
   "language": "python",
   "name": "python2"
  },
  "language_info": {
   "codemirror_mode": {
    "name": "ipython",
    "version": 2
   },
   "file_extension": ".py",
   "mimetype": "text/x-python",
   "name": "python",
   "nbconvert_exporter": "python",
   "pygments_lexer": "ipython2",
   "version": "2.7.9"
  }
 },
 "nbformat": 4,
 "nbformat_minor": 0
}
