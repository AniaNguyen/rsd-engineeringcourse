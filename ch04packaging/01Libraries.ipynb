{
 "cells": [
  {
   "cell_type": "markdown",
   "metadata": {},
   "source": [
    "## Libraries"
   ]
  },
  {
   "cell_type": "markdown",
   "metadata": {},
   "source": [
    "### Libraries are awesome"
   ]
  },
  {
   "cell_type": "markdown",
   "metadata": {},
   "source": [
    "\n",
    "The strength of a language lies as much in the set of libraries available, as it does\n",
    "in the language itself.\n",
    "\n",
    "A great set of libraries allows for a very powerful programming style:\n",
    "\n",
    "* Write minimal code yourself\n",
    "* Choose the right libraries\n",
    "* Plug them together\n",
    "* Create impressive results\n",
    "\n",
    "Not only is this efficient with your programming time, it's also more efficient with computer\n",
    "time.\n",
    "\n",
    "The chances are any algorithm you might want to use has already been programmed better by someone else.\n",
    "\n",
    "This lecture is available as an [IPython Notebook](http://nbviewer.ipython.org/url/development.rc.ucl.ac.uk/training/engineering/session04/../python/session04.ipynb)\n",
    "\n"
   ]
  },
  {
   "cell_type": "markdown",
   "metadata": {},
   "source": [
    "## Careful use of Libraries"
   ]
  },
  {
   "cell_type": "markdown",
   "metadata": {},
   "source": [
    "### Drawbacks of libraries."
   ]
  },
  {
   "cell_type": "markdown",
   "metadata": {},
   "source": [
    "\n",
    "* Sometimes, libraries are not looked after by their creator: code that is not maintained *rots*:\n",
    "    * It no longer works with later versions of *upstream* libraries.\n",
    "    * It doesn't work on newer platforms or systems.\n",
    "    * Features that are needed now, because the field has moved on, are not added\n",
    "\n",
    "* Sometimes, libraries are hard to get working:\n",
    "    * For libraries in pure python, this is almost never a problem\n",
    "    * But many libraries involve *compiled components*: these can be hard to install.\n"
   ]
  },
  {
   "cell_type": "markdown",
   "metadata": {},
   "source": [
    "### Contribute, don't duplicate"
   ]
  },
  {
   "cell_type": "markdown",
   "metadata": {},
   "source": [
    "\n",
    "* You have a duty to the ecosystem of scholarly software:\n",
    "    * If there's a tool or algorithm you need, find a project which provides it.\n",
    "    * If there are features missing, or problems with it, fix them, [don't create your own](http://xkcd.com/927/) library.\n"
   ]
  },
  {
   "cell_type": "markdown",
   "metadata": {},
   "source": [
    "### How to choose a library"
   ]
  },
  {
   "cell_type": "markdown",
   "metadata": {},
   "source": [
    "\n",
    "* When was the last commit?\n",
    "* How often are there commits?\n",
    "* Can you find the lead contributor on the internet?\n",
    "* Do they respond when approached:\n",
    "    * emails to developer list\n",
    "    * personal emails\n",
    "    * tweets\n",
    "    * [irc](https://freenode.net)\n",
    "    * issues raised on GitHub?\n",
    "* Are there contributors other than the lead contributor?\n",
    "* Is there discussion of the library on Stack Exchange?\n",
    "* Is the code on an open version control tool like GitHub?\n",
    "* Is it on standard package repositories. (PyPI, apt/yum/brew)\n",
    "* Are there any tests?\n",
    "* Download it. Can you build it? Do the tests pass?\n",
    "* Is there an open test dashboard? (Travis/Jenkins/CDash)\n",
    "* What dependencies does the library itself have? Do they pass this list?\n",
    "* Are different versions of the library clearly labeled with version numbers?\n",
    "* Is there a changelog?\n"
   ]
  },
  {
   "cell_type": "markdown",
   "metadata": {},
   "source": [
    "### Sensible Version Numbering"
   ]
  },
  {
   "cell_type": "markdown",
   "metadata": {},
   "source": [
    "\n",
    "The best approach to version numbers clearly distinguishes kinds of change:\n",
    "\n",
    "Given a version number MAJOR.MINOR.PATCH, e.g. 2.11.14 increment the:\n",
    "\n",
    "* MAJOR version when you make incompatible API changes,\n",
    "* MINOR version when you add functionality in a backwards-compatible manner, and\n",
    "* PATCH version when you make backwards-compatible bug fixes.\n",
    "\n",
    "This is called [Semantic Versioning](http://semver.org)\n"
   ]
  },
  {
   "cell_type": "markdown",
   "metadata": {},
   "source": [
    "## Python Libraries"
   ]
  },
  {
   "cell_type": "markdown",
   "metadata": {},
   "source": [
    "### The Python Standard Library"
   ]
  },
  {
   "cell_type": "markdown",
   "metadata": {},
   "source": [
    "\n",
    "Python comes with a powerful [standard library](https://docs.python.org/2/library/).\n",
    "\n",
    "Learning python is as much about learning this library as learning the language itself.\n",
    "\n",
    "You've already seen a few packages in this library: `math`, `pdb`, `pytest`, `datetime`.\n"
   ]
  },
  {
   "cell_type": "markdown",
   "metadata": {},
   "source": [
    "### The Python Package Index"
   ]
  },
  {
   "cell_type": "markdown",
   "metadata": {},
   "source": [
    "\n",
    "Python's real power, however, comes with the Python Package Index: [PyPI](https://pypi.python.org/pypi).\n",
    "This is a huge array of libraries, with all kinds of capabilities, all easily installable from the \n",
    "command line or through your Python distribution.\n"
   ]
  },
  {
   "cell_type": "markdown",
   "metadata": {},
   "source": [
    "### Pip"
   ]
  },
  {
   "cell_type": "markdown",
   "metadata": {},
   "source": [
    "\n",
    "Packages from PyPI are installed using Pip.\n"
   ]
  },
  {
   "cell_type": "markdown",
   "metadata": {},
   "source": [
    "```\n",
    "pip list # See what you have installed\n",
    "pip search geopy # Search PyPI for a package\n",
    "sudo pip install <package> # install a package\n",
    "sudo pip install <package> --upgrade # upgrade\n",
    "sudo pip uninstall <package>\n",
    "```"
   ]
  },
  {
   "cell_type": "markdown",
   "metadata": {},
   "source": [
    "## Some libraries"
   ]
  },
  {
   "cell_type": "markdown",
   "metadata": {},
   "source": [
    "### Argparse"
   ]
  },
  {
   "cell_type": "markdown",
   "metadata": {},
   "source": [
    "\n",
    "This is the standard library for building programs with a command-line interface.\n",
    "\n",
    "\n",
    "\n",
    "\n",
    "\n"
   ]
  },
  {
   "cell_type": "code",
   "execution_count": 1,
   "metadata": {
    "collapsed": false
   },
   "outputs": [
    {
     "name": "stdout",
     "output_type": "stream",
     "text": [
      "Overwriting greeter.py\n"
     ]
    }
   ],
   "source": [
    "%%writefile greeter.py\n",
    "#!/usr/bin/env python\n",
    "from argparse import ArgumentParser\n",
    "if __name__ == \"__main__\":\n",
    "    parser = ArgumentParser(description = \"Generate appropriate greetings\")\n",
    "    parser.add_argument('--title', '-t')\n",
    "    parser.add_argument('--polite','-p', action=\"store_true\")\n",
    "    parser.add_argument('personal')\n",
    "    parser.add_argument('family')\n",
    "    arguments= parser.parse_args()\n",
    "    greeting= \"How do you do, \" if arguments.polite else \"Hey, \"\n",
    "    if arguments.title:\n",
    "        greeting+=arguments.title+\" \"\n",
    "    greeting+= arguments.personal + \" \" + arguments.family +\".\"\n",
    "    print greeting\n"
   ]
  },
  {
   "cell_type": "markdown",
   "metadata": {},
   "source": [
    "\n",
    "\n",
    "\n",
    "\n"
   ]
  },
  {
   "cell_type": "code",
   "execution_count": 2,
   "metadata": {
    "collapsed": false
   },
   "outputs": [
    {
     "name": "stdout",
     "output_type": "stream",
     "text": [
      "usage: greeter.py [-h] [--title TITLE] [--polite] personal family\n",
      "\n",
      "Generate appropriate greetings\n",
      "\n",
      "positional arguments:\n",
      "  personal\n",
      "  family\n",
      "\n",
      "optional arguments:\n",
      "  -h, --help            show this help message and exit\n",
      "  --title TITLE, -t TITLE\n",
      "  --polite, -p\n",
      "Hey, James Hetherington.\n",
      "How do you do, James Hetherington.\n",
      "Hey, Dr James Hetherington.\n"
     ]
    }
   ],
   "source": [
    "%%bash\n",
    "#!/usr/bin/env bash\n",
    "chmod u+x greeter.py\n",
    "./greeter.py --help\n",
    "./greeter.py James Hetherington\n",
    "./greeter.py --polite James Hetherington\n",
    "./greeter.py James Hetherington --title Dr\n"
   ]
  },
  {
   "cell_type": "markdown",
   "metadata": {},
   "source": [
    "\n",
    "\n"
   ]
  },
  {
   "cell_type": "markdown",
   "metadata": {},
   "source": [
    "### Operating system paths and files"
   ]
  },
  {
   "cell_type": "markdown",
   "metadata": {},
   "source": [
    "\n",
    "When loading and saving files, standard libraries allow you to manage file names,\n",
    "in an operating-system independent way:\n",
    "\n"
   ]
  },
  {
   "cell_type": "code",
   "execution_count": 3,
   "metadata": {
    "collapsed": false
   },
   "outputs": [],
   "source": [
    "__file__ = \"session04.ipynb\" # No __file__ in notebook!"
   ]
  },
  {
   "cell_type": "markdown",
   "metadata": {},
   "source": [
    "\n",
    "\n",
    "\n",
    "\n"
   ]
  },
  {
   "cell_type": "code",
   "execution_count": 4,
   "metadata": {
    "collapsed": false
   },
   "outputs": [],
   "source": [
    "from os.path import join, dirname, abspath\n",
    "# Load the data file from session 1\n",
    "datapath=join(dirname(dirname(abspath(__file__))),\n",
    "              'session01', 'data', 'inflammation-01.csv')\n",
    "newpath=join(dirname(__file__), 'midvals.yaml')"
   ]
  },
  {
   "cell_type": "markdown",
   "metadata": {},
   "source": [
    "\n",
    "\n",
    "\n",
    "And you'll want to be able to read and write to files:\n",
    "\n",
    "\n"
   ]
  },
  {
   "cell_type": "code",
   "execution_count": 5,
   "metadata": {
    "collapsed": false
   },
   "outputs": [
    {
     "name": "stdout",
     "output_type": "stream",
     "text": [
      "['6', '18', '19', '17', '9', '12', '9', '20', '6', '18', '8', '9', '13', '15', '12', '9', '13', '13', '7', '9', '18', '12', '16', '14', '17', '7', '9', '15', '20', '14', '13', '19', '11', '10', '14', '15', '16', '15', '19', '15', '18', '19', '12', '18', '6', '14', '19', '10', '12', '16', '5', '20', '11', '15', '16', '16', '14', '9', '8', '6']\n"
     ]
    }
   ],
   "source": [
    "source = open(datapath)\n",
    "import csv\n",
    "reader = csv.reader(source)\n",
    "midvals = [row[len(row)/2] for row in reader]\n",
    "print midvals\n",
    "source.close()"
   ]
  },
  {
   "cell_type": "markdown",
   "metadata": {},
   "source": [
    "\n",
    "\n",
    "\n",
    "Note the use of the `csv` library to read csv files as well.\n"
   ]
  },
  {
   "cell_type": "markdown",
   "metadata": {},
   "source": [
    "### Context managers"
   ]
  },
  {
   "cell_type": "markdown",
   "metadata": {},
   "source": [
    "\n",
    "There's a better way to handle opening and closing files\n",
    "\n",
    "\n"
   ]
  },
  {
   "cell_type": "code",
   "execution_count": 6,
   "metadata": {
    "collapsed": false
   },
   "outputs": [],
   "source": [
    "import yaml\n",
    "with open(newpath, 'w') as yamlfile:\n",
    "    yaml.dump(midvals, yamlfile)"
   ]
  },
  {
   "cell_type": "markdown",
   "metadata": {},
   "source": [
    "\n",
    "\n",
    "\n",
    "This syntax using `with` is called a context manager.\n",
    "It is used when a library wants stuff to happen both before **and** after client code is called.\n",
    "\n",
    "Here, [`yaml`](http://www.yaml.org) is another standard file format for data files similar to XML or CSV.\n"
   ]
  },
  {
   "cell_type": "markdown",
   "metadata": {},
   "source": [
    "### Working with web resources"
   ]
  },
  {
   "cell_type": "markdown",
   "metadata": {},
   "source": [
    "\n",
    "To interact with resources on the web, you need a way to work with URLs: escaping characters that\n",
    "can't appear in URLs, composing ?foo=bar web argument strings and so on.\n",
    "\n",
    "We can use the [requests](http://docs.python-requests.org/en/latest/) library from PyPI for this.\n",
    "\n",
    "\n"
   ]
  },
  {
   "cell_type": "code",
   "execution_count": 7,
   "metadata": {
    "collapsed": false
   },
   "outputs": [
    {
     "name": "stdout",
     "output_type": "stream",
     "text": [
      "https://en.wikipedia.org/wiki/University_College_London\n",
      "http://maps.googleapis.com/maps/api/staticmap?size=400x400&zoom=10&center=51.5%2C+-0.1\n"
     ]
    }
   ],
   "source": [
    "\n",
    "import requests\n",
    "ucl=requests.get(\n",
    "    'http://en.wikipedia.org/wiki/University_College_London'\n",
    ")\n",
    "map_here=requests.get('http://maps.googleapis.com/maps/api/staticmap',\n",
    "        params={'center':\"51.5, -0.1\", 'size':\"400x400\", 'zoom':10})\n",
    "print ucl.url\n",
    "print map_here.url\n"
   ]
  },
  {
   "cell_type": "markdown",
   "metadata": {},
   "source": [
    "\n",
    "\n",
    "\n",
    "And you can download files from the web, accessing headers and the body of the response:\n",
    "\n",
    "\n"
   ]
  },
  {
   "cell_type": "code",
   "execution_count": 8,
   "metadata": {
    "collapsed": false
   },
   "outputs": [
    {
     "name": "stdout",
     "output_type": "stream",
     "text": [
      "Beginning of HTML file [u'<!DOCTYPE', u'html>']\n"
     ]
    }
   ],
   "source": [
    "\n",
    "print \"Beginning of HTML file\", ucl.text.split()[0:2]\n",
    "with open('map.png','w') as map_image:\n",
    "    map_image.write(map_here.content)\n"
   ]
  },
  {
   "cell_type": "markdown",
   "metadata": {},
   "source": [
    "\n",
    "\n",
    "\n",
    "Libraries even allow you to parse HTML content, to find the data you want within a page:\n",
    "\n",
    "\n"
   ]
  },
  {
   "cell_type": "code",
   "execution_count": 9,
   "metadata": {
    "collapsed": false
   },
   "outputs": [],
   "source": [
    "# pip install beautifulsoup4\n",
    "from bs4 import BeautifulSoup\n",
    "import re # Python regular expression library\n",
    "wikipage=BeautifulSoup(ucl.text)\n",
    "# HTML looks like <span class=\"latitude\">value</span>\n",
    "motto=wikipage.find(text=re.compile(\"Motto\"))\n",
    "\n",
    "#print 'Coordinates:', latitude, longitude"
   ]
  },
  {
   "cell_type": "markdown",
   "metadata": {},
   "source": [
    "\n",
    "\n",
    "\n"
   ]
  },
  {
   "cell_type": "code",
   "execution_count": 10,
   "metadata": {
    "collapsed": false
   },
   "outputs": [
    {
     "data": {
      "image/png": "[encoded data removed]",
      "text/plain": [
       "<IPython.core.display.Image object>"
      ]
     },
     "execution_count": 10,
     "metadata": {},
     "output_type": "execute_result"
    }
   ],
   "source": [
    "import IPython\n",
    "IPython.core.display.Image(map_here.content)"
   ]
  }
 ],
 "metadata": {
  "jekyll": {
   "display_name": "Libraries"
  },
  "kernelspec": {
   "display_name": "Python 2",
   "language": "python",
   "name": "python2"
  },
  "language_info": {
   "codemirror_mode": {
    "name": "ipython",
    "version": 2
   },
   "file_extension": ".py",
   "mimetype": "text/x-python",
   "name": "python",
   "nbconvert_exporter": "python",
   "pygments_lexer": "ipython2",
   "version": "2.7.10"
  }
 },
 "nbformat": 4,
 "nbformat_minor": 0
}
