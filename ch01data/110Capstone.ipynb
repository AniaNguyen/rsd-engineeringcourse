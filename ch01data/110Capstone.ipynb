{
 "cells": [
  {
   "cell_type": "markdown",
   "metadata": {},
   "source": [
    "# Understanding the \"Greengraph\" Example"
   ]
  },
  {
   "cell_type": "markdown",
   "metadata": {},
   "source": [
    "We now know enough to understand everything we did in the initial example chapter on the \"Greengraph\". Go back to that part of the notes, and re-read the code. "
   ]
  },
  {
   "cell_type": "markdown",
   "metadata": {},
   "source": [
    "Now, we can even write it up into a class, and save it as a module."
   ]
  },
  {
   "cell_type": "markdown",
   "metadata": {},
   "source": [
    "## Classes for Greengraph"
   ]
  },
  {
   "cell_type": "code",
   "execution_count": 1,
   "metadata": {
    "collapsed": true
   },
   "outputs": [],
   "source": [
    "%%bash\n",
    "mkdir -p greengraph # Create the folder for the module (on mac or linux)"
   ]
  },
  {
   "cell_type": "code",
   "execution_count": 2,
   "metadata": {
    "collapsed": false
   },
   "outputs": [
    {
     "name": "stdout",
     "output_type": "stream",
     "text": [
      "Writing greengraph/graph.py\n"
     ]
    }
   ],
   "source": [
    "%%writefile greengraph/graph.py\n",
    "import numpy as np\n",
    "import geopy\n",
    "from map import Map\n",
    "\n",
    "class Greengraph(object):\n",
    "    def __init__(self, start, end):\n",
    "        self.start=start\n",
    "        self.end=end\n",
    "        self.geocoder=geopy.geocoders.GoogleV3(domain=\"maps.google.co.uk\")\n",
    "        \n",
    "    def geolocate(self, place):\n",
    "        return self.geocoder.geocode(place, exactly_one=False)[0][1]\n",
    "    \n",
    "    def location_sequence(self, start,end,steps):\n",
    "      lats = np.linspace(start[0], end[0], steps)\n",
    "      longs = np.linspace(start[1],end[1], steps)\n",
    "      return np.vstack([lats, longs]).transpose()\n",
    "\n",
    "    def green_between(self, steps):\n",
    "        return [Map(*location).count_green()\n",
    "                for location in self.location_sequence(\n",
    "                    self.geolocate(self.start), \n",
    "                    self.geolocate(self.end),\n",
    "                    steps)]"
   ]
  },
  {
   "cell_type": "code",
   "execution_count": 3,
   "metadata": {
    "collapsed": false
   },
   "outputs": [
    {
     "name": "stdout",
     "output_type": "stream",
     "text": [
      "Writing greengraph/map.py\n"
     ]
    }
   ],
   "source": [
    "%%writefile greengraph/map.py\n",
    "\n",
    "import numpy as np\n",
    "from StringIO import StringIO\n",
    "from matplotlib import image as img\n",
    "import requests\n",
    "\n",
    "class Map(object):\n",
    "    def __init__(self, lat, long, satellite=True, zoom=10, size=(400,400), sensor=False):\n",
    "        base=\"http://maps.googleapis.com/maps/api/staticmap?\"\n",
    "  \n",
    "        params=dict(\n",
    "            sensor= str(sensor).lower(),\n",
    "            zoom= zoom,\n",
    "            size= \"x\".join(map(str, size)),\n",
    "            center= \",\".join(map(str, (lat, long) )),\n",
    "            style=\"feature:all|element:labels|visibility:off\"\n",
    "          )\n",
    "    \n",
    "        if satellite:\n",
    "            params[\"maptype\"]=\"satellite\"\n",
    "            \n",
    "        self.image = requests.get(base, params=params).content # Fetch our PNG image data\n",
    "        self.pixels= img.imread(StringIO(self.image)) # Parse our PNG image as a numpy array\n",
    "        \n",
    "    def green(self, threshold):\n",
    "        # Use NumPy to build an element-by-element logical array\n",
    "        greener_than_red = self.pixels[:,:,1] > threshold* self.pixels[:,:,0]\n",
    "        greener_than_blue = self.pixels[:,:,1] > threshold*self.pixels[:,:,2]\n",
    "        green = np.logical_and(greener_than_red, greener_than_blue) \n",
    "        return green\n",
    "    \n",
    "    def count_green(self, threshold = 1.1):\n",
    "        return np.sum(self.green(threshold))\n",
    "    \n",
    "    def show_green(data, threshold = 1.1):\n",
    "        green = self.green(threshold)\n",
    "        out = green[:,:,np.newaxis]*array([0,1,0])[np.newaxis,np.newaxis,:]\n",
    "        buffer = StringIO()\n",
    "        result = img.imsave(buffer, out, format='png')\n",
    "        return buffer.getvalue()"
   ]
  },
  {
   "cell_type": "code",
   "execution_count": 4,
   "metadata": {
    "collapsed": false
   },
   "outputs": [
    {
     "name": "stdout",
     "output_type": "stream",
     "text": [
      "Writing greengraph/__init__.py\n"
     ]
    }
   ],
   "source": [
    "%%writefile greengraph/__init__.py\n",
    "from graph import Greengraph"
   ]
  },
  {
   "cell_type": "markdown",
   "metadata": {},
   "source": [
    "## Invoking our code and making a plot"
   ]
  },
  {
   "cell_type": "code",
   "execution_count": 5,
   "metadata": {
    "collapsed": false
   },
   "outputs": [],
   "source": [
    "from matplotlib import pyplot as plt\n",
    "from greengraph import Greengraph\n",
    "%matplotlib inline\n",
    "\n",
    "mygraph=Greengraph('New York','Chicago')\n",
    "data = mygraph.green_between(20)"
   ]
  },
  {
   "cell_type": "code",
   "execution_count": 6,
   "metadata": {
    "collapsed": false
   },
   "outputs": [
    {
     "data": {
      "text/plain": [
       "[<matplotlib.lines.Line2D at 0x10ad6aed0>]"
      ]
     },
     "execution_count": 6,
     "metadata": {},
     "output_type": "execute_result"
    },
    {
     "data": {
      "image/png": "[encoded data removed]",
      "text/plain": [
       "<matplotlib.figure.Figure at 0x108186450>"
      ]
     },
     "metadata": {},
     "output_type": "display_data"
    }
   ],
   "source": [
    "plt.plot(data)"
   ]
  }
 ],
 "metadata": {
  "jekyll": {
   "display_name": "Understanding the Exemplar"
  },
  "kernelspec": {
   "display_name": "Python 2",
   "language": "python",
   "name": "python2"
  },
  "language_info": {
   "codemirror_mode": {
    "name": "ipython",
    "version": 2
   },
   "file_extension": ".py",
   "mimetype": "text/x-python",
   "name": "python",
   "nbconvert_exporter": "python",
   "pygments_lexer": "ipython2",
   "version": "2.7.10"
  }
 },
 "nbformat": 4,
 "nbformat_minor": 0
}
