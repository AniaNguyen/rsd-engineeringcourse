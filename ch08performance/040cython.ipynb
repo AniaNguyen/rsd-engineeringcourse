{
 "cells": [
  {
   "cell_type": "code",
   "execution_count": 1,
   "metadata": {
    "collapsed": false
   },
   "outputs": [],
   "source": [
    "xmin=-1.5\n",
    "ymin=-1.0\n",
    "xmax=0.5\n",
    "ymax=1.0\n",
    "resolution=300\n",
    "xstep=(xmax-xmin)/resolution\n",
    "ystep=(ymax-ymin)/resolution\n",
    "xs=[(xmin+(xmax-xmin)*i/resolution) for i in range(resolution)]\n",
    "ys=[(ymin+(ymax-ymin)*i/resolution) for i in range(resolution)]"
   ]
  },
  {
   "cell_type": "code",
   "execution_count": 26,
   "metadata": {
    "collapsed": false
   },
   "outputs": [
    {
     "name": "stdout",
     "output_type": "stream",
     "text": [
      "The Cython extension is already loaded. To reload it, use:\n",
      "  %reload_ext Cython\n"
     ]
    }
   ],
   "source": [
    "%load_ext Cython"
   ]
  },
  {
   "cell_type": "code",
   "execution_count": 3,
   "metadata": {
    "collapsed": false
   },
   "outputs": [],
   "source": [
    "def mandel(position,limit=50):\n",
    "    value=position\n",
    "    while abs(value)<2:\n",
    "        limit-=1\n",
    "        value=value**2+position\n",
    "        if limit<0:\n",
    "            return 0\n",
    "    return limit"
   ]
  },
  {
   "cell_type": "code",
   "execution_count": 4,
   "metadata": {
    "collapsed": false
   },
   "outputs": [],
   "source": [
    "%%cython\n",
    "def mandel_cython(position,limit=50):\n",
    "    value=position\n",
    "    while abs(value)<2:\n",
    "        limit-=1\n",
    "        value=value**2+position\n",
    "        if limit<0:\n",
    "            return 0\n",
    "    return limit"
   ]
  },
  {
   "cell_type": "code",
   "execution_count": 5,
   "metadata": {
    "collapsed": false
   },
   "outputs": [],
   "source": [
    "data_cy=[[mandel_cython(complex(x,y)) for x in xs] for y in ys]"
   ]
  },
  {
   "cell_type": "code",
   "execution_count": 6,
   "metadata": {
    "collapsed": false
   },
   "outputs": [
    {
     "name": "stdout",
     "output_type": "stream",
     "text": [
      "1 loops, best of 3: 414 ms per loop\n"
     ]
    }
   ],
   "source": [
    "%%timeit\n",
    "data_cy=[[mandel_cython(complex(x,y)) for x in xs] for y in ys]"
   ]
  },
  {
   "cell_type": "markdown",
   "metadata": {},
   "source": [
    "This is about a factor of 2 faster than the pure python."
   ]
  },
  {
   "cell_type": "markdown",
   "metadata": {},
   "source": [
    "But we can do much better, by telling Cython what C types we would use for the code:"
   ]
  },
  {
   "cell_type": "code",
   "execution_count": 7,
   "metadata": {
    "collapsed": false
   },
   "outputs": [],
   "source": [
    "%%cython\n",
    "def typed_mandel_cython(position,limit=50):\n",
    "    cdef double complex value\n",
    "    value=position\n",
    "    while abs(value)<2:\n",
    "        limit-=1\n",
    "        value=value**2+position\n",
    "        if limit<0:\n",
    "            return 0\n",
    "    return limit"
   ]
  },
  {
   "cell_type": "code",
   "execution_count": 8,
   "metadata": {
    "collapsed": false
   },
   "outputs": [
    {
     "name": "stdout",
     "output_type": "stream",
     "text": [
      "1 loops, best of 3: 350 ms per loop\n"
     ]
    }
   ],
   "source": [
    "%%timeit\n",
    "data_cy=[[typed_mandel_cython(complex(x,y)) for x in xs] for y in ys]"
   ]
  },
  {
   "cell_type": "markdown",
   "metadata": {},
   "source": [
    "We might not really seeing how well Cython is really doing, as our loop could now be the limit:"
   ]
  },
  {
   "cell_type": "code",
   "execution_count": 9,
   "metadata": {
    "collapsed": false
   },
   "outputs": [
    {
     "name": "stdout",
     "output_type": "stream",
     "text": [
      "100000 loops, best of 3: 9.22 µs per loop\n"
     ]
    }
   ],
   "source": [
    "%%timeit\n",
    "mandel(0)"
   ]
  },
  {
   "cell_type": "code",
   "execution_count": 10,
   "metadata": {
    "collapsed": false
   },
   "outputs": [
    {
     "name": "stdout",
     "output_type": "stream",
     "text": [
      "100000 loops, best of 3: 4.19 µs per loop\n"
     ]
    }
   ],
   "source": [
    "%%timeit\n",
    "mandel_cython(0)"
   ]
  },
  {
   "cell_type": "code",
   "execution_count": 11,
   "metadata": {
    "collapsed": false
   },
   "outputs": [
    {
     "name": "stdout",
     "output_type": "stream",
     "text": [
      "100000 loops, best of 3: 7.88 µs per loop\n"
     ]
    }
   ],
   "source": [
    "%%timeit\n",
    "typed_mandel_cython(0)"
   ]
  },
  {
   "cell_type": "code",
   "execution_count": 12,
   "metadata": {
    "collapsed": false
   },
   "outputs": [],
   "source": [
    "%%cython\n",
    "cpdef call_typed_mandel_cython(double complex position,int limit=50):\n",
    "    cdef double complex value\n",
    "    value=position\n",
    "    while abs(value)<2:\n",
    "        limit-=1\n",
    "        value=value**2+position\n",
    "        if limit<0:\n",
    "            return 0\n",
    "    return limit"
   ]
  },
  {
   "cell_type": "code",
   "execution_count": 13,
   "metadata": {
    "collapsed": false
   },
   "outputs": [
    {
     "name": "stdout",
     "output_type": "stream",
     "text": [
      "100000 loops, best of 3: 2.94 µs per loop\n"
     ]
    }
   ],
   "source": [
    "%%timeit\n",
    "call_typed_mandel_cython(0)"
   ]
  },
  {
   "cell_type": "markdown",
   "metadata": {},
   "source": [
    "Note we're not actually writing C, we're writing Python with C types."
   ]
  },
  {
   "cell_type": "markdown",
   "metadata": {},
   "source": [
    "We can call C functions instead of Python functions with appropriate imports. E.g., let's get complex abs from the C standard library."
   ]
  },
  {
   "cell_type": "code",
   "execution_count": 14,
   "metadata": {
    "collapsed": false
   },
   "outputs": [],
   "source": [
    "%%cython\n",
    "from libc.math cimport abs as cabs\n",
    "cpdef mandel_cython_2(double complex position,int limit=50):\n",
    "    cdef double complex value\n",
    "    value=position\n",
    "    while cabs(value)<2:\n",
    "        limit-=1\n",
    "        value=value**2+position\n",
    "        if limit<0:\n",
    "            return 0\n",
    "    return limit"
   ]
  },
  {
   "cell_type": "code",
   "execution_count": 15,
   "metadata": {
    "collapsed": false
   },
   "outputs": [
    {
     "name": "stdout",
     "output_type": "stream",
     "text": [
      "100000 loops, best of 3: 3.02 µs per loop\n"
     ]
    }
   ],
   "source": [
    "%%timeit\n",
    "mandel_cython_2(0)"
   ]
  },
  {
   "cell_type": "markdown",
   "metadata": {},
   "source": [
    "Cython integrates nicely with NumPy:"
   ]
  },
  {
   "cell_type": "code",
   "execution_count": 16,
   "metadata": {
    "collapsed": false
   },
   "outputs": [],
   "source": [
    "import numpy as np\n",
    "ymatrix,xmatrix=np.mgrid[ymin:ymax:ystep,xmin:xmax:xstep]\n",
    "values=xmatrix+1j*ymatrix"
   ]
  },
  {
   "cell_type": "code",
   "execution_count": 17,
   "metadata": {
    "collapsed": false
   },
   "outputs": [],
   "source": [
    "numpy_cython_1=np.vectorize(mandel_cython_2)"
   ]
  },
  {
   "cell_type": "code",
   "execution_count": 18,
   "metadata": {
    "collapsed": false
   },
   "outputs": [
    {
     "name": "stdout",
     "output_type": "stream",
     "text": [
      "10 loops, best of 3: 135 ms per loop\n"
     ]
    }
   ],
   "source": [
    "%%timeit \n",
    "numpy_cython_1(values)"
   ]
  },
  {
   "cell_type": "code",
   "execution_count": 19,
   "metadata": {
    "collapsed": false
   },
   "outputs": [
    {
     "data": {
      "text/plain": [
       "<matplotlib.image.AxesImage at 0x10de1c710>"
      ]
     },
     "execution_count": 19,
     "metadata": {},
     "output_type": "execute_result"
    },
    {
     "data": {
      "image/png": "[encoded data removed]",
      "text/plain": [
       "<matplotlib.figure.Figure at 0x10db7d090>"
      ]
     },
     "metadata": {},
     "output_type": "display_data"
    }
   ],
   "source": [
    "from matplotlib import pyplot as plt\n",
    "%matplotlib inline\n",
    "plt.imshow(numpy_cython_1(values),interpolation='none')"
   ]
  },
  {
   "cell_type": "markdown",
   "metadata": {},
   "source": [
    "Fast, but slower than our pure NumPy. Maybe explicit C-style looping is faster?"
   ]
  },
  {
   "cell_type": "code",
   "execution_count": 20,
   "metadata": {
    "collapsed": false
   },
   "outputs": [],
   "source": [
    "%%cython\n",
    "import numpy as np\n",
    "cimport numpy as np\n",
    "cpdef numpy_cython_2(np.ndarray[double complex,ndim=2] position, int limit=50):\n",
    "    cdef np.ndarray[long,ndim=2] diverged_at\n",
    "    cdef double complex value\n",
    "    cdef int xlim\n",
    "    cdef int ylim\n",
    "    cdef double complex pos\n",
    "    cdef steps\n",
    "\n",
    "    \n",
    "    xlim=position.shape[1]\n",
    "    ylim=position.shape[0]\n",
    "    diverged_at=np.zeros([ylim, xlim], dtype=int)\n",
    "    for y in range(ylim):\n",
    "        for x in range(xlim):\n",
    "             steps=limit\n",
    "             value=position[y,x]\n",
    "             pos=position[y,x]\n",
    "             while abs(value)<2 and steps>=0:\n",
    "                steps-=1\n",
    "                value=value**2+pos\n",
    "             diverged_at[y,x]=steps\n",
    "  \n",
    "    return diverged_at"
   ]
  },
  {
   "cell_type": "code",
   "execution_count": 21,
   "metadata": {
    "collapsed": false
   },
   "outputs": [
    {
     "name": "stdout",
     "output_type": "stream",
     "text": [
      "1 loops, best of 3: 219 ms per loop\n"
     ]
    }
   ],
   "source": [
    "%%timeit\n",
    "numpy_cython_2(values)"
   ]
  },
  {
   "cell_type": "code",
   "execution_count": 22,
   "metadata": {
    "collapsed": false
   },
   "outputs": [
    {
     "data": {
      "text/plain": [
       "<matplotlib.image.AxesImage at 0x10dd1cb50>"
      ]
     },
     "execution_count": 22,
     "metadata": {},
     "output_type": "execute_result"
    },
    {
     "data": {
      "image/png": "[encoded data removed]",
      "text/plain": [
       "<matplotlib.figure.Figure at 0x10de4e690>"
      ]
     },
     "metadata": {},
     "output_type": "display_data"
    }
   ],
   "source": [
    "from matplotlib import pyplot as plt\n",
    "%matplotlib inline\n",
    "plt.imshow(numpy_cython_2(values),interpolation='none')"
   ]
  },
  {
   "cell_type": "markdown",
   "metadata": {},
   "source": [
    "Not yet faster."
   ]
  }
 ],
 "metadata": {
  "jekyll": {
   "display_name": "Cython"
  },
  "kernelspec": {
   "display_name": "Python 2",
   "language": "python",
   "name": "python2"
  },
  "language_info": {
   "codemirror_mode": {
    "name": "ipython",
    "version": 2
   },
   "file_extension": ".py",
   "mimetype": "text/x-python",
   "name": "python",
   "nbconvert_exporter": "python",
   "pygments_lexer": "ipython2",
   "version": "2.7.9"
  }
 },
 "nbformat": 4,
 "nbformat_minor": 0
}
