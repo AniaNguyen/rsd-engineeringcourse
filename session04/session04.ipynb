{
    "metadata": {
        "name": null
    }, 
    "nbformat": 3, 
    "nbformat_minor": 0, 
    "worksheets": [
        {
            "cells": [
                {
                    "cell_type": "markdown", 
                    "metadata": {}, 
                    "source": [
                        "\n\n---\ntitle: Research Software Engineering with Python\nauthor: James Hetherington and Matt Clarkson\n---\n\n"
                    ]
                }, 
                {
                    "cell_type": "heading", 
                    "level": 2, 
                    "metadata": {}, 
                    "source": [
                        "Libraries"
                    ]
                }, 
                {
                    "cell_type": "markdown", 
                    "metadata": {}, 
                    "source": [
                        ""
                    ]
                }, 
                {
                    "cell_type": "heading", 
                    "level": 3, 
                    "metadata": {}, 
                    "source": [
                        "Libraries are awesome"
                    ]
                }, 
                {
                    "cell_type": "markdown", 
                    "metadata": {}, 
                    "source": [
                        "\nThe strength of a language lies as much in the set of libraries available, as it does\nin the language itself.\n\nA great set of libraries allows for a very powerful programming style:\n\n* Write minimal code yourself\n* Choose the right libraries\n* Plug them together\n* Create impressive results\n\nNot only is this efficient with your programming time, it's also more efficient with computer\ntime.\n\nThe chances are any algorithm you might want to use has already been programmed better by someone else.\n\nThis lecture is available as an [IPython Notebook](http://nbviewer.ipython.org/url/development.rc.ucl.ac.uk/training/engineering/session04/../python/session04.ipynb)\n\n"
                    ]
                }, 
                {
                    "cell_type": "heading", 
                    "level": 2, 
                    "metadata": {}, 
                    "source": [
                        "Careful use of Libraries"
                    ]
                }, 
                {
                    "cell_type": "markdown", 
                    "metadata": {}, 
                    "source": [
                        ""
                    ]
                }, 
                {
                    "cell_type": "heading", 
                    "level": 3, 
                    "metadata": {}, 
                    "source": [
                        "Drawbacks of libraries."
                    ]
                }, 
                {
                    "cell_type": "markdown", 
                    "metadata": {}, 
                    "source": [
                        "\n* Sometimes, libraries are not looked after by their creator: code that is not maintained *rots*:\n    * It no longer works with later versions of *upstream* libraries.\n    * It doesn't work on newer platforms or systems.\n    * Features that are needed now, because the field has moved on, are not added\n\n* Sometimes, libraries are hard to get working:\n    * For libraries in pure python, this is almost never a problem\n    * But many libraries involve *compiled components*: these can be hard to install.\n"
                    ]
                }, 
                {
                    "cell_type": "heading", 
                    "level": 3, 
                    "metadata": {}, 
                    "source": [
                        "Contribute, don't duplicate"
                    ]
                }, 
                {
                    "cell_type": "markdown", 
                    "metadata": {}, 
                    "source": [
                        "\n* You have a duty to the ecosystem of scholarly software:\n    * If there's a tool or algorithm you need, find a project which provides it.\n    * If there are features missing, or problems with it, fix them, [don't create your own](http://xkcd.com/927/) library.\n"
                    ]
                }, 
                {
                    "cell_type": "heading", 
                    "level": 3, 
                    "metadata": {}, 
                    "source": [
                        "How to choose a library"
                    ]
                }, 
                {
                    "cell_type": "markdown", 
                    "metadata": {}, 
                    "source": [
                        "\n* When was the last commit?\n* How often are there commits?\n* Can you find the lead contributor on the internet?\n* Do they respond when approached:\n    * emails to developer list\n    * personal emails\n    * tweets\n    * [irc](https://freenode.net)\n    * issues raised on GitHub?\n* Are there contributors other than the lead contributor?\n* Is there discussion of the library on Stack Exchange?\n* Is the code on an open version control tool like GitHub?\n* Is it on standard package repositories. (PyPI, apt/yum/brew)\n* Are there any tests?\n* Download it. Can you build it? Do the tests pass?\n* Is there an open test dashboard? (Travis/Jenkins/CDash)\n* What dependencies does the library itself have? Do they pass this list?\n* Are different versions of the library clearly labeled with version numbers?\n* Is there a changelog?\n"
                    ]
                }, 
                {
                    "cell_type": "heading", 
                    "level": 3, 
                    "metadata": {}, 
                    "source": [
                        "Sensible Version Numbering"
                    ]
                }, 
                {
                    "cell_type": "markdown", 
                    "metadata": {}, 
                    "source": [
                        "\nThe best approach to version numbers clearly distinguishes kinds of change:\n\nGiven a version number MAJOR.MINOR.PATCH, e.g. 2.11.14 increment the:\n\n* MAJOR version when you make incompatible API changes,\n* MINOR version when you add functionality in a backwards-compatible manner, and\n* PATCH version when you make backwards-compatible bug fixes.\n\nThis is called [Semantic Versioning](http://semver.org)\n"
                    ]
                }, 
                {
                    "cell_type": "heading", 
                    "level": 2, 
                    "metadata": {}, 
                    "source": [
                        "Python Libraries"
                    ]
                }, 
                {
                    "cell_type": "markdown", 
                    "metadata": {}, 
                    "source": [
                        ""
                    ]
                }, 
                {
                    "cell_type": "heading", 
                    "level": 3, 
                    "metadata": {}, 
                    "source": [
                        "The Python Standard Library"
                    ]
                }, 
                {
                    "cell_type": "markdown", 
                    "metadata": {}, 
                    "source": [
                        "\nPython comes with a powerful [standard library](https://docs.python.org/2/library/).\n\nLearning python is as much about learning this library as learning the language itself.\n\nYou've already seen a few packages in this library: `math`, `pdb`, `pytest`, `datetime`.\n"
                    ]
                }, 
                {
                    "cell_type": "heading", 
                    "level": 3, 
                    "metadata": {}, 
                    "source": [
                        "The Python Package Index"
                    ]
                }, 
                {
                    "cell_type": "markdown", 
                    "metadata": {}, 
                    "source": [
                        "\nPython's real power, however, comes with the Python Package Index: [PyPI](https://pypi.python.org/pypi).\nThis is a huge array of libraries, with all kinds of capabilities, all easily installable from the \ncommand line or through your Python distribution.\n"
                    ]
                }, 
                {
                    "cell_type": "heading", 
                    "level": 3, 
                    "metadata": {}, 
                    "source": [
                        "Pip"
                    ]
                }, 
                {
                    "cell_type": "markdown", 
                    "metadata": {}, 
                    "source": [
                        "\nPackages from PyPI are installed using Pip.\n"
                    ]
                }, 
                {
                    "cell_type": "raw", 
                    "metadata": {}, 
                    "source": [
                        "pip list # See what you have installed\npip search <term> # Search PyPI for a package\nsudo pip install <package> # install a package\nsudo pip install <package> --upgrade # upgrade\nsudo pip uninstall <package>"
                    ]
                }, 
                {
                    "cell_type": "markdown", 
                    "metadata": {}, 
                    "source": [
                        ""
                    ]
                }, 
                {
                    "cell_type": "heading", 
                    "level": 2, 
                    "metadata": {}, 
                    "source": [
                        "Some libraries"
                    ]
                }, 
                {
                    "cell_type": "markdown", 
                    "metadata": {}, 
                    "source": [
                        ""
                    ]
                }, 
                {
                    "cell_type": "heading", 
                    "level": 3, 
                    "metadata": {}, 
                    "source": [
                        "Argparse"
                    ]
                }, 
                {
                    "cell_type": "markdown", 
                    "metadata": {}, 
                    "source": [
                        "\nThis is the standard library for building programs with a command-line interface.\n\n\n\n\n\n"
                    ]
                }, 
                {
                    "cell_type": "code", 
                    "collapsed": false, 
                    "input": [
                        "%%writefile greeter.py", 
                        "#!/usr/bin/env python", 
                        "from argparse import ArgumentParser", 
                        "if __name__ == \"__main__\":", 
                        "    parser = ArgumentParser(description = \"Generate appropriate greetings\")", 
                        "    parser.add_argument('--title', '-t')", 
                        "    parser.add_argument('--polite','-p', action=\"store_true\")", 
                        "    parser.add_argument('personal')", 
                        "    parser.add_argument('family')", 
                        "    arguments= parser.parse_args()", 
                        "    greeting= \"How do you do, \" if arguments.polite else \"Hey, \"", 
                        "    if arguments.title:", 
                        "        greeting+=arguments.title+\" \"", 
                        "    greeting+= arguments.personal + \" \" + arguments.family +\".\"", 
                        "    print greeting", 
                        ""
                    ], 
                    "language": "python", 
                    "metadata": {}, 
                    "outputs": [], 
                    "prompt_number": null
                }, 
                {
                    "cell_type": "markdown", 
                    "metadata": {}, 
                    "source": [
                        "\n\n\n\n"
                    ]
                }, 
                {
                    "cell_type": "code", 
                    "collapsed": false, 
                    "input": [
                        "%%bash", 
                        "#!/usr/bin/env bash", 
                        "chmod u+x greeter.py", 
                        "./greeter.py --help", 
                        "./greeter.py James Hetherington", 
                        "./greeter.py --polite James Hetherington", 
                        "./greeter.py James Hetherington --title Dr", 
                        ""
                    ], 
                    "language": "python", 
                    "metadata": {}, 
                    "outputs": [], 
                    "prompt_number": null
                }, 
                {
                    "cell_type": "markdown", 
                    "metadata": {}, 
                    "source": [
                        "\n\n"
                    ]
                }, 
                {
                    "cell_type": "heading", 
                    "level": 3, 
                    "metadata": {}, 
                    "source": [
                        "Operating system paths and files"
                    ]
                }, 
                {
                    "cell_type": "markdown", 
                    "metadata": {}, 
                    "source": [
                        "\nWhen loading and saving files, standard libraries allow you to manage file names,\nin an operating-system independent way:\n\n"
                    ]
                }, 
                {
                    "cell_type": "code", 
                    "collapsed": false, 
                    "input": [
                        "__file__ = \"session04.ipynb\" # No __file__ in notebook!"
                    ], 
                    "language": "python", 
                    "metadata": {}, 
                    "outputs": [], 
                    "prompt_number": null
                }, 
                {
                    "cell_type": "markdown", 
                    "metadata": {}, 
                    "source": [
                        "\n\n\n\n"
                    ]
                }, 
                {
                    "cell_type": "code", 
                    "collapsed": false, 
                    "input": [
                        "", 
                        "from os.path import join, dirname, abspath", 
                        "# Load the data file from session 1", 
                        "datapath=join(dirname(dirname(dirname(abspath(__file__)))),", 
                        "              'session01', 'data', 'inflammation-01.csv')", 
                        "newpath=join(dirname(__file__), 'midvals.yaml')", 
                        ""
                    ], 
                    "language": "python", 
                    "metadata": {}, 
                    "outputs": [], 
                    "prompt_number": null
                }, 
                {
                    "cell_type": "markdown", 
                    "metadata": {}, 
                    "source": [
                        "\n\n\nAnd you'll want to be able to read and write to files:\n\n\n"
                    ]
                }, 
                {
                    "cell_type": "code", 
                    "collapsed": false, 
                    "input": [
                        "", 
                        "source = open(datapath)", 
                        "import csv", 
                        "reader = csv.reader(source)", 
                        "midvals = [row[len(row)/2] for row in reader]", 
                        "print midvals", 
                        "source.close()", 
                        ""
                    ], 
                    "language": "python", 
                    "metadata": {}, 
                    "outputs": [], 
                    "prompt_number": null
                }, 
                {
                    "cell_type": "markdown", 
                    "metadata": {}, 
                    "source": [
                        "\n\n\nNote the use of the `csv` library to read csv files as well.\n"
                    ]
                }, 
                {
                    "cell_type": "heading", 
                    "level": 3, 
                    "metadata": {}, 
                    "source": [
                        "Context managers"
                    ]
                }, 
                {
                    "cell_type": "markdown", 
                    "metadata": {}, 
                    "source": [
                        "\nThere's a better way to handle opening and closing files\n\n\n"
                    ]
                }, 
                {
                    "cell_type": "code", 
                    "collapsed": false, 
                    "input": [
                        "", 
                        "import yaml", 
                        "with open(newpath, 'w') as yamlfile:", 
                        "    yaml.dump(midvals, yamlfile)", 
                        ""
                    ], 
                    "language": "python", 
                    "metadata": {}, 
                    "outputs": [], 
                    "prompt_number": null
                }, 
                {
                    "cell_type": "markdown", 
                    "metadata": {}, 
                    "source": [
                        "\n\n\nThis syntax using `with` is called a context manager.\nIt is used when a library wants stuff to happen both before **and** after client code is called.\n\nHere, [`yaml`](http://www.yaml.org) is another standard file format for data files similar to XML or CSV.\n"
                    ]
                }, 
                {
                    "cell_type": "heading", 
                    "level": 3, 
                    "metadata": {}, 
                    "source": [
                        "Working with web resources"
                    ]
                }, 
                {
                    "cell_type": "markdown", 
                    "metadata": {}, 
                    "source": [
                        "\nTo interact with resources on the web, you need a way to work with URLs: escaping characters that\ncan't appear in URLs, composing ?foo=bar web argument strings and so on.\n\nWe can use the [requests](http://docs.python-requests.org/en/latest/) library from PyPI for this.\n\n\n"
                    ]
                }, 
                {
                    "cell_type": "code", 
                    "collapsed": false, 
                    "input": [
                        "", 
                        "import requests", 
                        "ucl=requests.get(", 
                        "    'http://en.wikipedia.org/wiki/University_College_London'", 
                        ")", 
                        "map_here=requests.get('http://maps.googleapis.com/maps/api/staticmap',", 
                        "        params={'center':\"51.5, -0.1\", 'size':\"400x400\", 'zoom':10})", 
                        "print ucl.url", 
                        "print map_here.url", 
                        ""
                    ], 
                    "language": "python", 
                    "metadata": {}, 
                    "outputs": [], 
                    "prompt_number": null
                }, 
                {
                    "cell_type": "markdown", 
                    "metadata": {}, 
                    "source": [
                        "\n\n\nAnd you can download files from the web, accessing headers and the body of the response:\n\n\n"
                    ]
                }, 
                {
                    "cell_type": "code", 
                    "collapsed": false, 
                    "input": [
                        "", 
                        "print \"Beginning of HTML file\", ucl.text.split()[0:2]", 
                        "with open('map.png','w') as map_image:", 
                        "    map_image.write(map_here.content)", 
                        ""
                    ], 
                    "language": "python", 
                    "metadata": {}, 
                    "outputs": [], 
                    "prompt_number": null
                }, 
                {
                    "cell_type": "markdown", 
                    "metadata": {}, 
                    "source": [
                        "\n\n\nLibraries even allow you to parse HTML content, to find the data you want within a page:\n\n\n"
                    ]
                }, 
                {
                    "cell_type": "code", 
                    "collapsed": false, 
                    "input": [
                        "", 
                        "# pip install beautifulsoup4", 
                        "from bs4 import BeautifulSoup", 
                        "import re # Python regular expression library", 
                        "wikipage=BeautifulSoup(ucl.text)", 
                        "# HTML looks like <span class=\"latitude\">value</span>", 
                        "motto=wikipage.find(text=re.compile(\"Motto\"))", 
                        "", 
                        "#print 'Coordinates:', latitude, longitude", 
                        ""
                    ], 
                    "language": "python", 
                    "metadata": {}, 
                    "outputs": [], 
                    "prompt_number": null
                }, 
                {
                    "cell_type": "markdown", 
                    "metadata": {}, 
                    "source": [
                        "\n\n\n"
                    ]
                }, 
                {
                    "cell_type": "code", 
                    "collapsed": false, 
                    "input": [
                        "import IPython", 
                        "IPython.core.display.Image(map_here.content)"
                    ], 
                    "language": "python", 
                    "metadata": {}, 
                    "outputs": [], 
                    "prompt_number": null
                }, 
                {
                    "cell_type": "markdown", 
                    "metadata": {}, 
                    "source": [
                        "\n\n"
                    ]
                }, 
                {
                    "cell_type": "heading", 
                    "level": 2, 
                    "metadata": {}, 
                    "source": [
                        "Graph of Green Spaces"
                    ]
                }, 
                {
                    "cell_type": "markdown", 
                    "metadata": {}, 
                    "source": [
                        ""
                    ]
                }, 
                {
                    "cell_type": "heading", 
                    "level": 3, 
                    "metadata": {}, 
                    "source": [
                        "The problem"
                    ]
                }, 
                {
                    "cell_type": "markdown", 
                    "metadata": {}, 
                    "source": [
                        "\nLet's look at an extended example of using libraries to work with Python to analyse data.\n\nWe'd like to know how density of green space varies as we move from city centre to the countryside:\n\n* Find the location of two places by name\n* Obtain maps or satellite images of the geography at points between them\n    * In this toy example: just evenly divide the range\n* Determine the proportion of the images that are parkland\n    * In this toy example: bits that are green!\n* Plot a graph\n"
                    ]
                }, 
                {
                    "cell_type": "heading", 
                    "level": 3, 
                    "metadata": {}, 
                    "source": [
                        "Geolocation"
                    ]
                }, 
                {
                    "cell_type": "markdown", 
                    "metadata": {}, 
                    "source": [
                        "\nGoogle provides a service to go from \"London\" to 51.51N, 0.1275W. Fortunately, there's a very nice library\non PyPI to access it: `pip install geopy`\n\n\n"
                    ]
                }, 
                {
                    "cell_type": "code", 
                    "collapsed": false, 
                    "input": [
                        "", 
                        "import geopy", 
                        "geocoder=geopy.geocoders.GoogleV3(domain=\"maps.google.co.uk\")", 
                        "def geolocate(place):", 
                        "  return geocoder.geocode(place,exactly_one=False)[0][1]", 
                        "", 
                        "london_location=geolocate(\"London\")", 
                        "print london_location", 
                        ""
                    ], 
                    "language": "python", 
                    "metadata": {}, 
                    "outputs": [], 
                    "prompt_number": null
                }, 
                {
                    "cell_type": "markdown", 
                    "metadata": {}, 
                    "source": [
                        "\n\n"
                    ]
                }, 
                {
                    "cell_type": "heading", 
                    "level": 3, 
                    "metadata": {}, 
                    "source": [
                        "Addressing the google maps API"
                    ]
                }, 
                {
                    "cell_type": "markdown", 
                    "metadata": {}, 
                    "source": [
                        "\nGoogle maps has a static API to obtain satellite images with URLs like this:\n\n[http://maps.googleapis.com/maps/api/staticmap?style=feature:all|element:labels|visibility:off&size=400x400&sensor=false&zoom=10&center=51.5072,-0.1275](http://maps.googleapis.com/maps/api/staticmap?style=feature:all|element:labels|visibility:off&size=400x400&sensor=false&zoom=10&center=51.5072,-0.1275)\n\nWe'll therefore need to use a library to build this URL, and fetch the result\n\n`sudo pip install pypng` will get you this library.\n\n\n"
                    ]
                }, 
                {
                    "cell_type": "code", 
                    "collapsed": false, 
                    "input": [
                        "", 
                        "import requests", 
                        "def map_at(lat,long, satellite=False, zoom=12, ", 
                        "           size=(400,400), sensor=False):", 
                        "    base=\"http://maps.googleapis.com/maps/api/staticmap?\"", 
                        "    params=dict(", 
                        "        sensor= str(sensor).lower(),", 
                        "        zoom= zoom,", 
                        "        size= \"x\".join(map(str,size)),", 
                        "        center= \",\".join(map(str,(lat,long))),", 
                        "        style=\"feature:all|element:labels|visibility:off\"", 
                        "    )", 
                        "    if satellite:", 
                        "        params[\"maptype\"]=\"satellite\"", 
                        "    return requests.get(base,params=params)", 
                        "", 
                        "", 
                        "map_response=map_at(51.5072, -0.1275, zoom=10)", 
                        "url=map_response.url", 
                        "print url", 
                        ""
                    ], 
                    "language": "python", 
                    "metadata": {}, 
                    "outputs": [], 
                    "prompt_number": null
                }, 
                {
                    "cell_type": "markdown", 
                    "metadata": {}, 
                    "source": [
                        "\n\n\n"
                    ]
                }, 
                {
                    "cell_type": "code", 
                    "collapsed": false, 
                    "input": [
                        "import IPython", 
                        "map_png=map_at(*london_location)", 
                        "IPython.core.display.Image(map_png.content)"
                    ], 
                    "language": "python", 
                    "metadata": {}, 
                    "outputs": [], 
                    "prompt_number": null
                }, 
                {
                    "cell_type": "markdown", 
                    "metadata": {}, 
                    "source": [
                        "\n"
                    ]
                }, 
                {
                    "cell_type": "heading", 
                    "level": 3, 
                    "metadata": {}, 
                    "source": [
                        "Finding the green bits"
                    ]
                }, 
                {
                    "cell_type": "markdown", 
                    "metadata": {}, 
                    "source": [
                        "\nWe'll need a library to parse `.png` image files and determine which bits are green:\n\n\n"
                    ]
                }, 
                {
                    "cell_type": "code", 
                    "collapsed": false, 
                    "input": [
                        "", 
                        "def is_green(r,g,b):", 
                        "  threshold=1.1", 
                        "  return g>r*threshold and g>b*threshold", 
                        "", 
                        "import png", 
                        "from itertools import izip", 
                        "", 
                        "def count_green_in_png(data):", 
                        "    image=png.Reader(file=StringIO(data.content)).asRGB()", 
                        "    count = 0", 
                        "    for row in image[2]:", 
                        "        pixels=izip(*[iter(row)]*3)", 
                        "        count+=sum(1 for pixel in pixels if is_green(*pixel))", 
                        "    return count", 
                        "", 
                        "from StringIO import StringIO", 
                        "print count_green_in_png(map_at(*london_location))", 
                        ""
                    ], 
                    "language": "python", 
                    "metadata": {}, 
                    "outputs": [], 
                    "prompt_number": null
                }, 
                {
                    "cell_type": "markdown", 
                    "metadata": {}, 
                    "source": [
                        "\n\n"
                    ]
                }, 
                {
                    "cell_type": "heading", 
                    "level": 3, 
                    "metadata": {}, 
                    "source": [
                        "Checking our code"
                    ]
                }, 
                {
                    "cell_type": "markdown", 
                    "metadata": {}, 
                    "source": [
                        "\nWe could write some unit tests, but for something like this, visualisation is the key to\nverification. Let's look which bits are green by building a new png.\n\nWe could write the new png to disk, but we can use `StringIO` to get a string in memory which\nbehaves like a file:\n\n\n"
                    ]
                }, 
                {
                    "cell_type": "code", 
                    "collapsed": false, 
                    "input": [
                        "", 
                        "def show_green_in_png(data):", 
                        "    image=png.Reader(file=StringIO(data.content)).asRGB()", 
                        "    count = 0", 
                        "    out=[]", 
                        "    for row in image[2]:", 
                        "        outrow=[]", 
                        "        pixels=izip(*[iter(row)]*3)", 
                        "        for pixel in pixels:", 
                        "            outrow.append(0)", 
                        "            if is_green(*pixel):", 
                        "                outrow.append(255)", 
                        "            else:", 
                        "                outrow.append(0)", 
                        "            outrow.append(0)", 
                        "        out.append(outrow)", 
                        "    buffer=StringIO()", 
                        "    result = png.from_array(out,mode='RGB')", 
                        "    result.save(buffer)", 
                        "    return buffer.getvalue()", 
                        ""
                    ], 
                    "language": "python", 
                    "metadata": {}, 
                    "outputs": [], 
                    "prompt_number": null
                }, 
                {
                    "cell_type": "markdown", 
                    "metadata": {}, 
                    "source": [
                        "\n\n\n"
                    ]
                }, 
                {
                    "cell_type": "code", 
                    "collapsed": false, 
                    "input": [
                        "IPython.core.display.Image(show_green_in_png(map_at(*london_location,satellite=True)))"
                    ], 
                    "language": "python", 
                    "metadata": {}, 
                    "outputs": [], 
                    "prompt_number": null
                }, 
                {
                    "cell_type": "markdown", 
                    "metadata": {}, 
                    "source": [
                        "\n"
                    ]
                }, 
                {
                    "cell_type": "heading", 
                    "level": 3, 
                    "metadata": {}, 
                    "source": [
                        "Points in between"
                    ]
                }, 
                {
                    "cell_type": "markdown", 
                    "metadata": {}, 
                    "source": [
                        "\nWe need all the points equally spaced between two locations.\nNumpy has a routine for just this:\n\n\n"
                    ]
                }, 
                {
                    "cell_type": "code", 
                    "collapsed": false, 
                    "input": [
                        "", 
                        "from numpy import linspace", 
                        "def location_sequence(start,end,steps):", 
                        "  # Would actually prefer this if steps", 
                        "  # were deduced from zoomlevel", 
                        "  # But need projection code for that", 
                        "  lats=linspace(start[0],end[0],steps)", 
                        "  longs=linspace(start[1],end[1],steps)", 
                        "  return zip(lats,longs)", 
                        "", 
                        "[count_green_in_png(map_at(*location,zoom=10,satellite=True))", 
                        "            for location in location_sequence(", 
                        "                geolocate(\"London\"),", 
                        "                geolocate(\"Birmingham\"),", 
                        "                10)]", 
                        ""
                    ], 
                    "language": "python", 
                    "metadata": {}, 
                    "outputs": [], 
                    "prompt_number": null
                }, 
                {
                    "cell_type": "markdown", 
                    "metadata": {}, 
                    "source": [
                        "\n\n"
                    ]
                }, 
                {
                    "cell_type": "heading", 
                    "level": 3, 
                    "metadata": {}, 
                    "source": [
                        "The results"
                    ]
                }, 
                {
                    "cell_type": "markdown", 
                    "metadata": {}, 
                    "source": [
                        "\n"
                    ]
                }, 
                {
                    "cell_type": "code", 
                    "collapsed": false, 
                    "input": [
                        "import matplotlib.pyplot as plt", 
                        "%matplotlib inline", 
                        "plt.plot([count_green_in_png(get_map(*location,zoom=10,satellite=True))", 
                        "            for location in location_sequence(geolocate(\"London\"),geolocate(\"Birmingham\"),10)])"
                    ], 
                    "language": "python", 
                    "metadata": {}, 
                    "outputs": [], 
                    "prompt_number": null
                }, 
                {
                    "cell_type": "markdown", 
                    "metadata": {}, 
                    "source": [
                        "\n\n\n\n"
                    ]
                }, 
                {
                    "cell_type": "heading", 
                    "level": 2, 
                    "metadata": {}, 
                    "source": [
                        "Packaging"
                    ]
                }, 
                {
                    "cell_type": "markdown", 
                    "metadata": {}, 
                    "source": [
                        ""
                    ]
                }, 
                {
                    "cell_type": "heading", 
                    "level": 3, 
                    "metadata": {}, 
                    "source": [
                        "Packaging"
                    ]
                }, 
                {
                    "cell_type": "markdown", 
                    "metadata": {}, 
                    "source": [
                        "\nOnce we've made a working program, we'd like to be able to share it with others.\n\nA good cross-platform build tool is the most important thing: you can always\nhave collaborators build from source.\n"
                    ]
                }, 
                {
                    "cell_type": "heading", 
                    "level": 3, 
                    "metadata": {}, 
                    "source": [
                        "Distribution tools"
                    ]
                }, 
                {
                    "cell_type": "markdown", 
                    "metadata": {}, 
                    "source": [
                        "\nDistribution tools allow one to obtain a working copy of someone else's package.\n\nLanguage-specific tools: PyPI, Ruby Gems, CPAN, CRAN\nPlatform specific packagers e.g. brew, apt/yum\n\nWindows doesn't have anything like `brew install` or `apt-get`\nYou have to build an 'installer'.\n"
                    ]
                }, 
                {
                    "cell_type": "heading", 
                    "level": 3, 
                    "metadata": {}, 
                    "source": [
                        "Laying out a project"
                    ]
                }, 
                {
                    "cell_type": "markdown", 
                    "metadata": {}, 
                    "source": [
                        "\nWhen planning to package a project for distribution, defining a suitable\nproject layout is essential.\n\n\n"
                    ]
                }, 
                {
                    "cell_type": "code", 
                    "collapsed": false, 
                    "input": [
                        "%%bash", 
                        "tree --charset ascii greetings", 
                        ""
                    ], 
                    "language": "python", 
                    "metadata": {}, 
                    "outputs": [], 
                    "prompt_number": null
                }, 
                {
                    "cell_type": "markdown", 
                    "metadata": {}, 
                    "source": [
                        "\n\n"
                    ]
                }, 
                {
                    "cell_type": "heading", 
                    "level": 3, 
                    "metadata": {}, 
                    "source": [
                        "Using setuptools"
                    ]
                }, 
                {
                    "cell_type": "markdown", 
                    "metadata": {}, 
                    "source": [
                        "\nTo make python code into a package, we have to write a `setupfile`:\n\n\n\n\n\n"
                    ]
                }, 
                {
                    "cell_type": "code", 
                    "collapsed": false, 
                    "input": [
                        "%%writefile greetings/setup.py", 
                        "", 
                        "", 
                        "from setuptools import setup, find_packages", 
                        "", 
                        "setup(", 
                        "    name = \"Greetings\",", 
                        "    version = \"0.1\",", 
                        "    packages = find_packages(exclude=['*test']),", 
                        "    scripts = ['scripts/greet'],", 
                        "    install_requires = ['argparse']", 
                        ")", 
                        ""
                    ], 
                    "language": "python", 
                    "metadata": {}, 
                    "outputs": [], 
                    "prompt_number": null
                }, 
                {
                    "cell_type": "markdown", 
                    "metadata": {}, 
                    "source": [
                        "\n\n\nWe can now install this code with\n"
                    ]
                }, 
                {
                    "cell_type": "raw", 
                    "metadata": {}, 
                    "source": [
                        "sudo python setup.py install"
                    ]
                }, 
                {
                    "cell_type": "markdown", 
                    "metadata": {}, 
                    "source": [
                        "\nAnd the package will be then available to use everywhere on the system:\n"
                    ]
                }, 
                {
                    "cell_type": "code", 
                    "collapsed": false, 
                    "input": [
                        "import greetings", 
                        "from greetings.greeter import greet", 
                        "print greetings.greeter.greet(\"James\",\"Hetherington\")"
                    ], 
                    "language": "python", 
                    "metadata": {}, 
                    "outputs": [], 
                    "prompt_number": null
                }, 
                {
                    "cell_type": "markdown", 
                    "metadata": {}, 
                    "source": [
                        "\nAnd the scripts are now available as command line commands:\n\n\n"
                    ]
                }, 
                {
                    "cell_type": "code", 
                    "collapsed": false, 
                    "input": [
                        "%%bash", 
                        "#!/usr/bin/env bash", 
                        "greet --help", 
                        "greet James Hetherington", 
                        "greet --polite James Hetherington", 
                        "greet James Hetherington --title Dr", 
                        ""
                    ], 
                    "language": "python", 
                    "metadata": {}, 
                    "outputs": [], 
                    "prompt_number": null
                }, 
                {
                    "cell_type": "markdown", 
                    "metadata": {}, 
                    "source": [
                        "\n\n\n"
                    ]
                }, 
                {
                    "cell_type": "heading", 
                    "level": 3, 
                    "metadata": {}, 
                    "source": [
                        "Installing from GitHub"
                    ]
                }, 
                {
                    "cell_type": "markdown", 
                    "metadata": {}, 
                    "source": [
                        "\nWe could now submit \"greeter\" to PyPI for approval, so everyone could `pip install` it.\n\nHowever, when using git, we don't even need to do that: we can install directly from any git URL:\n"
                    ]
                }, 
                {
                    "cell_type": "raw", 
                    "metadata": {}, 
                    "source": [
                        "sudo pip install git+git://github.com/jamespjh/greeter\ngreet Humphry Appleby --title Sir"
                    ]
                }, 
                {
                    "cell_type": "markdown", 
                    "metadata": {}, 
                    "source": [
                        "\nTry it!\n"
                    ]
                }, 
                {
                    "cell_type": "heading", 
                    "level": 3, 
                    "metadata": {}, 
                    "source": [
                        "Convert the script to a module"
                    ]
                }, 
                {
                    "cell_type": "markdown", 
                    "metadata": {}, 
                    "source": [
                        "\nOf course, there's more to do when taking code from a quick script and turning it into a proper module:\n\n\n\n\n\n"
                    ]
                }, 
                {
                    "cell_type": "code", 
                    "collapsed": false, 
                    "input": [
                        "%%writefile greetings/greetings/greeter.py", 
                        "", 
                        "", 
                        "def greet(personal, family, title=\"\", polite=False):", 
                        "", 
                        "    \"\"\" Generate a greeting string for a person.", 
                        "", 
                        "    Parameters", 
                        "    ----------", 
                        "    personal: str", 
                        "        A given name, such as Will or Jean-Luc", 
                        "    family: str", 
                        "        A family name, such as Riker or Picard", 
                        "    title: str", 
                        "        An optional title, such as Captain or Reverend", 
                        "    polite: bool", 
                        "        True for a formal greeting, False for informal.", 
                        "", 
                        "    Returns", 
                        "    -------", 
                        "    string", 
                        "        An appropriate greeting", 
                        "    \"\"\"", 
                        "", 
                        "    greeting= \"How do you do, \" if polite else \"Hey, \"", 
                        "    if title:", 
                        "        greeting+=title+\" \"", 
                        "", 
                        "    greeting+= personal + \" \" + family +\".\"", 
                        "    return greeting", 
                        ""
                    ], 
                    "language": "python", 
                    "metadata": {}, 
                    "outputs": [], 
                    "prompt_number": null
                }, 
                {
                    "cell_type": "markdown", 
                    "metadata": {}, 
                    "source": [
                        "\n\n\nThe documentation string explains how to use the function; don't worry about this for now, we'll consider\nthis next time.\n"
                    ]
                }, 
                {
                    "cell_type": "heading", 
                    "level": 3, 
                    "metadata": {}, 
                    "source": [
                        "Write an executable script"
                    ]
                }, 
                {
                    "cell_type": "markdown", 
                    "metadata": {}, 
                    "source": [
                        "\n\n\n\n\n"
                    ]
                }, 
                {
                    "cell_type": "code", 
                    "collapsed": false, 
                    "input": [
                        "%%writefile greetings/greetings/command.py", 
                        "from argparse import ArgumentParser", 
                        "from greeter import greet", 
                        "", 
                        "def process():", 
                        "   parser = ArgumentParser(description = \"Generate appropriate greetings\")", 
                        "", 
                        "   parser.add_argument('--title', '-t')", 
                        "   parser.add_argument('--polite', '-p', action=\"store_true\")", 
                        "   parser.add_argument('personal')", 
                        "   parser.add_argument('family')", 
                        "", 
                        "   arguments= parser.parse_args()", 
                        "", 
                        "   print greet(arguments.personal, arguments.family, arguments.title, arguments.polite)", 
                        "", 
                        "if __name__ == \"__main__\":", 
                        "    process()", 
                        ""
                    ], 
                    "language": "python", 
                    "metadata": {}, 
                    "outputs": [], 
                    "prompt_number": null
                }, 
                {
                    "cell_type": "markdown", 
                    "metadata": {}, 
                    "source": [
                        "\n\n"
                    ]
                }, 
                {
                    "cell_type": "heading", 
                    "level": 3, 
                    "metadata": {}, 
                    "source": [
                        "Write an entry point script stub"
                    ]
                }, 
                {
                    "cell_type": "markdown", 
                    "metadata": {}, 
                    "source": [
                        "\n"
                    ]
                }, 
                {
                    "cell_type": "code", 
                    "collapsed": false, 
                    "input": [
                        "%%writefile greetings/greetings/greet", 
                        "", 
                        "#!/usr/bin/env python", 
                        "from greetings.command import process", 
                        "process()", 
                        "", 
                        ""
                    ], 
                    "language": "python", 
                    "metadata": {}, 
                    "outputs": [], 
                    "prompt_number": null
                }, 
                {
                    "cell_type": "markdown", 
                    "metadata": {}, 
                    "source": [
                        "\n"
                    ]
                }, 
                {
                    "cell_type": "heading", 
                    "level": 3, 
                    "metadata": {}, 
                    "source": [
                        "Write a readme file"
                    ]
                }, 
                {
                    "cell_type": "markdown", 
                    "metadata": {}, 
                    "source": [
                        "e.g.:"
                    ]
                }, 
                {
                    "cell_type": "raw", 
                    "metadata": {}, 
                    "source": [
                        "Greetings!\n==========\n\nThis is a very simple example package used as part of the UCL\n[Research Software Engineering with Python](development.rc.ucl.ac.uk/training/engineering) course.\n"
                    ]
                }, 
                {
                    "cell_type": "heading", 
                    "level": 3, 
                    "metadata": {}, 
                    "source": [
                        "Write a license file"
                    ]
                }, 
                {
                    "cell_type": "markdown", 
                    "metadata": {}, 
                    "source": [
                        "e.g.:"
                    ]
                }, 
                {
                    "cell_type": "raw", 
                    "metadata": {}, 
                    "source": [
                        "(C) University College London 2014\n\nThis \"greetings\" example package is granted into the public domain.\n"
                    ]
                }, 
                {
                    "cell_type": "markdown", 
                    "metadata": {}, 
                    "source": [
                        ""
                    ]
                }, 
                {
                    "cell_type": "heading", 
                    "level": 3, 
                    "metadata": {}, 
                    "source": [
                        "Write a citation file"
                    ]
                }, 
                {
                    "cell_type": "markdown", 
                    "metadata": {}, 
                    "source": [
                        "e.g.:"
                    ]
                }, 
                {
                    "cell_type": "raw", 
                    "metadata": {}, 
                    "source": [
                        "If you wish to refer to this course, please cite the URL\nhttp://development.rc.ucl.ac.uk/training/engineering\n\nPortions of the material are taken from Software Carpentry\nhttp://swcarpentry.org\n"
                    ]
                }, 
                {
                    "cell_type": "markdown", 
                    "metadata": {}, 
                    "source": [
                        ""
                    ]
                }, 
                {
                    "cell_type": "heading", 
                    "level": 3, 
                    "metadata": {}, 
                    "source": [
                        "Define packages and executables"
                    ]
                }, 
                {
                    "cell_type": "markdown", 
                    "metadata": {}, 
                    "source": [
                        "\n\n"
                    ]
                }, 
                {
                    "cell_type": "code", 
                    "collapsed": false, 
                    "input": [
                        "%%bash", 
                        "touch greetings/greetings/test/__init__.py", 
                        "touch greetings/greetings/__init__.py", 
                        "chmod u+x greetings/greetings/command.py", 
                        "# chmod u+x greetings/scripts/greet", 
                        ""
                    ], 
                    "language": "python", 
                    "metadata": {}, 
                    "outputs": [], 
                    "prompt_number": null
                }, 
                {
                    "cell_type": "markdown", 
                    "metadata": {}, 
                    "source": [
                        "\n\n"
                    ]
                }, 
                {
                    "cell_type": "heading", 
                    "level": 3, 
                    "metadata": {}, 
                    "source": [
                        "Write some unit tests"
                    ]
                }, 
                {
                    "cell_type": "markdown", 
                    "metadata": {}, 
                    "source": [
                        "\nSeparating the script from the logical module made this possible:\n\n\n\n\n\n"
                    ]
                }, 
                {
                    "cell_type": "code", 
                    "collapsed": false, 
                    "input": [
                        "%%writefile greetings/greetings/test/test_greeter.py", 
                        "import yaml", 
                        "import os", 
                        "from ..greeter import greet", 
                        "from nose.tools import assert_equal", 
                        "def test_greeter():", 
                        "    with open(os.path.join(os.path.dirname(__file__),'fixtures','samples.yaml')) as fixtures_file:", 
                        "        fixtures=yaml.load(fixtures_file)", 
                        "        for fixture in fixtures:", 
                        "            answer=fixture.pop('answer')", 
                        "            assert_equal(greet(**fixture), answer)", 
                        ""
                    ], 
                    "language": "python", 
                    "metadata": {}, 
                    "outputs": [], 
                    "prompt_number": null
                }, 
                {
                    "cell_type": "markdown", 
                    "metadata": {}, 
                    "source": [
                        "\n\n\nAdd a fixtures file:\n\n\n\n\n\n"
                    ]
                }, 
                {
                    "cell_type": "code", 
                    "collapsed": false, 
                    "input": [
                        "%%writefile greetings/greetings/test/fixtures/samples.yaml", 
                        "- personal: James", 
                        "  family: Hetherington", 
                        "  answer: \"Hey, James Hetherington.\"", 
                        "- personal: James", 
                        "  family: Hetherington", 
                        "  polite: True", 
                        "  answer: \"How do you do, James Hetherington.\"", 
                        "- personal: James", 
                        "  family: Hetherington", 
                        "  title: Dr", 
                        "  answer: \"Hey, Dr James Hetherington.\"", 
                        ""
                    ], 
                    "language": "python", 
                    "metadata": {}, 
                    "outputs": [], 
                    "prompt_number": null
                }, 
                {
                    "cell_type": "markdown", 
                    "metadata": {}, 
                    "source": [
                        "\n\n"
                    ]
                }, 
                {
                    "cell_type": "heading", 
                    "level": 3, 
                    "metadata": {}, 
                    "source": [
                        "Developer Install"
                    ]
                }, 
                {
                    "cell_type": "markdown", 
                    "metadata": {}, 
                    "source": [
                        "\nIf you modify your source files, you would now find it appeared as if the program doesn't change.\n\nThat's because pip install **copies** the file.\n\n(On my system to /Library/Python/2.7/site-packages/: this is operating\nsystem dependent.)\n\nIf you want to install a package, but keep working on it, you can do\n"
                    ]
                }, 
                {
                    "cell_type": "code", 
                    "collapsed": false, 
                    "input": [
                        "sudo python setup.py develop"
                    ], 
                    "language": "python", 
                    "metadata": {}, 
                    "outputs": [], 
                    "prompt_number": null
                }, 
                {
                    "cell_type": "markdown", 
                    "metadata": {}, 
                    "source": [
                        ""
                    ]
                }, 
                {
                    "cell_type": "heading", 
                    "level": 3, 
                    "metadata": {}, 
                    "source": [
                        "Distributing compiled code"
                    ]
                }, 
                {
                    "cell_type": "markdown", 
                    "metadata": {}, 
                    "source": [
                        "\nIf you're working in C++ or Fortran, there is no language specific repository.\nYou'll need to write platform installers for as many platforms as you want to\nsupport.\n\nTypically:\n\n* `dpkg` for `apt-get` on Ubuntu and Debian\n* `rpm` for `yum` on Redhat and Fedora\n* `homebrew` on OSX (Possibly `macports` as well)\n* An executable `msi` installer for Windows.\n"
                    ]
                }, 
                {
                    "cell_type": "heading", 
                    "level": 3, 
                    "metadata": {}, 
                    "source": [
                        "Homebrew"
                    ]
                }, 
                {
                    "cell_type": "markdown", 
                    "metadata": {}, 
                    "source": [
                        "\nHomebrew: A ruby DSL, you host off your own webpage\n\nSee my [installer for the cppcourse example](http://github.com/jamespjh/homebrew-reactor)\n\nIf you're on OSX, do:\n"
                    ]
                }, 
                {
                    "cell_type": "raw", 
                    "metadata": {}, 
                    "source": [
                        "brew tap jamespjh/homebrew-reactor\nbrew install reactor"
                    ]
                }, 
                {
                    "cell_type": "markdown", 
                    "metadata": {}, 
                    "source": [
                        "\n\n"
                    ]
                }, 
                {
                    "cell_type": "heading", 
                    "level": 3, 
                    "metadata": {}, 
                    "source": [
                        "Exercises"
                    ]
                }, 
                {
                    "cell_type": "markdown", 
                    "metadata": {}, 
                    "source": [
                        "\nWe previously looked at Greengraph.py, a script that enables us to explore how green space varies as we move from the city to the countryside:\n"
                    ]
                }, 
                {
                    "cell_type": "code", 
                    "collapsed": false, 
                    "input": [
                        "### \"geolocation\"", 
                        "import geopy", 
                        "geocoder=geopy.geocoders.GoogleV3(domain=\"maps.google.co.uk\")", 
                        "", 
                        "def geolocate(place):", 
                        "    return geocoder.geocode(place,exactly_one=False)[0][1]", 
                        "", 
                        "london_location=geolocate(\"London\")", 
                        "print london_location", 
                        "", 
                        "..."
                    ], 
                    "language": "python", 
                    "metadata": {}, 
                    "outputs": [], 
                    "prompt_number": null
                }, 
                {
                    "cell_type": "markdown", 
                    "metadata": {}, 
                    "source": [
                        "\nThe Greengraph example is only available as a single large [script](https://github.com/UCL/rsd-engineeringcourse/blob/master/../python/greengraph.py).\n\nYour task is to transform this into a python package that can be pip installed directly from GitHub. Remember to include:\n\n- an \\__init\\__.py file\n- a setup.py file\n- tests\n- license and documentation"
                    ]
                }
            ]
        }
    ]
}