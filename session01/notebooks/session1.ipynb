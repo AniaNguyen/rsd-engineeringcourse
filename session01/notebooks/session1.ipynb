{
 "metadata": {
  "name": "",
  "signature": "sha256:2d5d9038ca55c3870f9b576ace15f022bbc9284c5298b5c0e120b7aea5e1ab05"
 },
 "nbformat": 3,
 "nbformat_minor": 0,
 "worksheets": [
  {
   "cells": [
    {
     "cell_type": "heading",
     "level": 1,
     "metadata": {},
     "source": [
      "Research Software Development With Python: Session 1"
     ]
    },
    {
     "cell_type": "heading",
     "level": 1,
     "metadata": {},
     "source": [
      "Working with and visualising data"
     ]
    },
    {
     "cell_type": "markdown",
     "metadata": {},
     "source": [
      "Why write software to manage your data and plots?\n",
      "* We should use programs for our entire research pipeline.\n",
      "* Not just main simulation or numerical code, but also the small scripts which we use to tidy up data and produce plots.\n",
      "* This should be code, so that the whole research pipeline is recorded for reproducibility. Data manipulation in spreadsheets cannot be shared or checked.\n",
      "* It should be good code, because research conclusions are just as wrong if the plotting script is wrong as if the code that generates the data is wrong."
     ]
    },
    {
     "cell_type": "heading",
     "level": 1,
     "metadata": {},
     "source": [
      "Analysing patient data"
     ]
    },
    {
     "cell_type": "markdown",
     "metadata": {},
     "source": [
      "(The next few slides are taken from Software Carpentry materials and are (CC-BY) the contributors at https://github.com/swcarpentry/bc/blob/master/team.md)"
     ]
    },
    {
     "cell_type": "markdown",
     "metadata": {},
     "source": [
      "Imagine you are studying inflammation in patients who have been given a new treatment for arthritis, and need to analyze the first dozen data sets. The data sets are stored in comma-separated values (CSV) format: each row holds information for a single patient, and the columns represent successive days. The first few rows of our first file look like this:"
     ]
    },
    {
     "cell_type": "raw",
     "metadata": {},
     "source": [
      "0,0,1,3,1,2,4,7,8,3,3,3,10,5,7,4,7,7,12,18,6,13,11,11,7,7,4,6,8,8,4,4,5,7,3,4,2,3,0,0\n",
      "0,1,2,1,2,1,3,2,2,6,10,11,5,9,4,4,7,16,8,6,18,4,12,5,12,7,11,5,11,3,3,5,4,4,5,5,1,1,0,1\n",
      "0,1,1,3,3,2,6,2,5,9,5,7,4,5,4,15,5,11,9,10,19,14,12,17,7,12,11,7,4,2,10,5,4,2,2,3,2,2,1,1\n",
      "0,0,2,0,4,2,2,1,6,7,10,7,9,13,8,8,15,10,10,7,17,4,4,7,6,15,6,4,9,11,3,5,6,3,3,4,2,3,2,1\n",
      "0,1,1,3,3,1,3,5,2,4,4,7,6,5,3,10,8,10,6,17,9,14,9,7,13,9,12,6,7,7,9,6,3,2,2,4,2,0,1,1\n",
      "0,0,1,2,2,4,2,1,6,4,7,6,6,9,9,15,4,16,18,12,12,5,18,9,5,3,10,3..."
     ]
    },
    {
     "cell_type": "heading",
     "level": 3,
     "metadata": {},
     "source": [
      "The task"
     ]
    },
    {
     "cell_type": "markdown",
     "metadata": {},
     "source": [
      "We want to:\n",
      "* load that data into memory,\n",
      "* calculate the average inflammation per day across all patients, and\n",
      "plot the result.\n",
      "* This will give us a good overview of various concepts in Python, which we'll return to some of after this initial survey."
     ]
    },
    {
     "cell_type": "markdown",
     "metadata": {},
     "source": [
      "##\u00a0Loading data\n",
      "\n",
      "It's almost always wrong to do things yourself.\n",
      "\n",
      "Someone's probably written a program already. \n",
      "Python makes it easy to find and use other people's libraries.\n",
      "\n",
      "In this case, we want to use a python library to load and parse the csv data, and manipulate it as \n",
      "a matrix."
     ]
    },
    {
     "cell_type": "code",
     "collapsed": false,
     "input": [
      "import numpy\n",
      "data=numpy.loadtxt(fname='../data/inflammation-01.csv', delimiter=',')\n",
      "print data"
     ],
     "language": "python",
     "metadata": {},
     "outputs": [],
     "prompt_number": ""
    },
    {
     "cell_type": "markdown",
     "metadata": {},
     "source": [
      "Here we've called a **function** `loadtxt` from a **module** `numpy`, and\n",
      "assigned it to a **variable** data. This course assumes you're happy with very basic\n",
      "programming concepts like function and variable. The IPython notebook contains more detail.\n",
      "\n",
      "## Types"
     ]
    },
    {
     "cell_type": "code",
     "collapsed": false,
     "input": [
      "print type(data)\n",
      "print data.shape"
     ],
     "language": "python",
     "metadata": {},
     "outputs": [],
     "prompt_number": ""
    },
    {
     "cell_type": "markdown",
     "metadata": {},
     "source": [
      "We've jumped straight in and used a `numpy.ndarray` (numerical python) matrix type for our data.\n",
      "It's similar to a basic python `Array` type; we'll talk more about the differences later.\n",
      "\n",
      "For now, it's important to know that Python variables have a type, that different types behave differently,\n",
      "but that, unlike C++ or Fortran, you don't need to say what type of variable something is before you use it."
     ]
    },
    {
     "cell_type": "code",
     "collapsed": false,
     "input": [
      "print [type(\"Hello\"),type(1), type([1,2,3])]\n"
     ],
     "language": "python",
     "metadata": {},
     "outputs": [],
     "prompt_number": ""
    },
    {
     "cell_type": "markdown",
     "metadata": {},
     "source": [
      "## Slicing\n",
      "\n",
      "We can **slice** elements from arrays and matrices:\n"
     ]
    },
    {
     "cell_type": "code",
     "collapsed": false,
     "input": [
      "print 'first value in data:', data[0, 0] #Top left element"
     ],
     "language": "python",
     "metadata": {},
     "outputs": [],
     "prompt_number": ""
    },
    {
     "cell_type": "code",
     "collapsed": false,
     "input": [
      "print data[0:4, 0:10] # Top left few elements"
     ],
     "language": "python",
     "metadata": {},
     "outputs": [],
     "prompt_number": ""
    },
    {
     "cell_type": "code",
     "collapsed": false,
     "input": [
      "print data[:3, 36:] #First three lines, last few columns"
     ],
     "language": "python",
     "metadata": {},
     "outputs": [],
     "prompt_number": ""
    },
    {
     "cell_type": "code",
     "collapsed": false,
     "input": [
      "print data[:-1,:] #All but the last line, all columns"
     ],
     "language": "python",
     "metadata": {},
     "outputs": [],
     "prompt_number": ""
    },
    {
     "cell_type": "markdown",
     "metadata": {},
     "source": [
      "## Methods\n",
      "\n",
      "We can apply **methods** to objects. Which methods are available depend on the object's type:"
     ]
    },
    {
     "cell_type": "code",
     "collapsed": false,
     "input": [
      "print data.mean() # 6.14875"
     ],
     "language": "python",
     "metadata": {},
     "outputs": [],
     "prompt_number": ""
    },
    {
     "cell_type": "code",
     "collapsed": false,
     "input": [
      "print data.std() # 4.613"
     ],
     "language": "python",
     "metadata": {},
     "outputs": [],
     "prompt_number": ""
    },
    {
     "cell_type": "code",
     "collapsed": false,
     "input": [
      "patient_zero=data[0, :]\n",
      "print 'maximum inflammation for patient 0:', patient_zero.max()"
     ],
     "language": "python",
     "metadata": {},
     "outputs": [],
     "prompt_number": ""
    },
    {
     "cell_type": "code",
     "collapsed": false,
     "input": [
      "print 'maximum inflammation for patient 2:', data[2, :].max()"
     ],
     "language": "python",
     "metadata": {},
     "outputs": [],
     "prompt_number": ""
    },
    {
     "cell_type": "markdown",
     "metadata": {},
     "source": [
      "## Numpy Tools\n",
      "\n",
      "Numpy provides cool tools like:"
     ]
    },
    {
     "cell_type": "code",
     "collapsed": false,
     "input": [
      "print data.mean(axis=1) # Average over days, per patient"
     ],
     "language": "python",
     "metadata": {},
     "outputs": [],
     "prompt_number": ""
    },
    {
     "cell_type": "markdown",
     "metadata": {},
     "source": [
      "## Plotting\n",
      "\n",
      "> The purpose of computing is insight, not numbers\n",
      "--- Richard Hamming"
     ]
    },
    {
     "cell_type": "code",
     "collapsed": false,
     "input": [
      "%matplotlib inline"
     ],
     "language": "python",
     "metadata": {},
     "outputs": [],
     "prompt_number": ""
    },
    {
     "cell_type": "code",
     "collapsed": false,
     "input": [
      "from matplotlib import pyplot as plt\n",
      "plt.imshow(data)\n",
      "plt.show()"
     ],
     "language": "python",
     "metadata": {},
     "outputs": [],
     "prompt_number": ""
    },
    {
     "cell_type": "markdown",
     "metadata": {},
     "source": [
      "## Something isn't right here"
     ]
    },
    {
     "cell_type": "code",
     "collapsed": false,
     "input": [
      "\n",
      "plt.plot(data.min(axis=0))\n",
      "plt.show()"
     ],
     "language": "python",
     "metadata": {},
     "outputs": [],
     "prompt_number": ""
    },
    {
     "cell_type": "markdown",
     "metadata": {},
     "source": [
      "## Make it a function\n",
      "\n",
      "So we've built some figures which help us analyse these data sets.\n",
      "\n",
      "We know we're going to have lots of similar experiments, so we'll want to wrap the code up into a **function**\n",
      "which can be used repeatedly:"
     ]
    },
    {
     "cell_type": "code",
     "collapsed": false,
     "input": [
      "import numpy as np\n",
      "from matplotlib import pyplot as plt\n",
      "def analyze(filename):\n",
      "    data = np.loadtxt(fname=filename, delimiter=',')\n",
      "    figure = plt.figure(figsize=(10.0, 3.0))\n",
      "\n",
      "    subplot_average=figure.add_subplot(1, 3, 1)\n",
      "    subplot_average.set_ylabel('average')\n",
      "    subplot_average.plot(data.mean(0))\n",
      "\n",
      "    subplot_max=figure.add_subplot(1, 3, 2)\n",
      "    subplot_max.set_ylabel('max')\n",
      "    subplot_max.plot(data.max(0))\n",
      "\n",
      "    subplot_min=figure.add_subplot(1, 3, 3)\n",
      "    subplot_min.set_ylabel('min')\n",
      "    subplot_min.plot(data.min(0))\n",
      "\n",
      "    figure.tight_layout()\n",
      "    return figure"
     ],
     "language": "python",
     "metadata": {},
     "outputs": [],
     "prompt_number": ""
    },
    {
     "cell_type": "markdown",
     "metadata": {},
     "source": [
      "Note that the only way Python knows that we're done with our function block is by unindenting!\n",
      "\n",
      "Note that the result of type(image) is `matplotlib.figure.Figure`: the `matplotlib` library defines\n",
      "its own new type, called a `class`, with its own methods, like `add_subplot`.\n",
      "\n",
      "## Make it a module\n",
      "\n",
      "We'd like our function to be usable by other people. So we'll wrap it up as it's own module.\n",
      "We copy it out of the notebook into a file, and add a wrapper function to make it easy to call it to\n",
      "produce an output on disk instead of in a notebook:"
     ]
    },
    {
     "cell_type": "code",
     "collapsed": false,
     "input": [
      "import os\n",
      "def generate(filename, output=False):\n",
      "    if not output:\n",
      "        output = os.path.splitext(filename)[0] + '.png'\n",
      "    analyze(filename).savefig(output)"
     ],
     "language": "python",
     "metadata": {},
     "outputs": [],
     "prompt_number": ""
    },
    {
     "cell_type": "markdown",
     "metadata": {},
     "source": [
      "Here we see a conditional, a default argument value, and use of a library function to remove a file extension.\n",
      "\n",
      "We can use this in other code, with, for example `import analyzer` and analyzer.generate('inflammation-01.csv', 'dest.png')\n",
      "\n",
      "## Loop over many files\n",
      "\n",
      "We'd like to be able to analyse many files at once."
     ]
    },
    {
     "cell_type": "code",
     "collapsed": false,
     "input": [
      "def bulk_generate(sources):\n",
      "    for source in sources:\n",
      "       generate(source)"
     ],
     "language": "python",
     "metadata": {},
     "outputs": [],
     "prompt_number": ""
    },
    {
     "cell_type": "markdown",
     "metadata": {},
     "source": [
      "## Call from the command line\n",
      "\n",
      "We'll also add some magic to make it work as a command line tool:"
     ]
    },
    {
     "cell_type": "markdown",
     "metadata": {},
     "source": [
      "```python\n",
      "#!/usr/bin/env python\n",
      "...\n",
      "import sys\n",
      "if __name__ == \"__main__\":\n",
      "    bulk_generate(sys.argv[1:])\n",
      "\n",
      "```"
     ]
    },
    {
     "cell_type": "markdown",
     "metadata": {},
     "source": [
      "Here we use %%writefile to write the content of the cell to the file analyzer.py"
     ]
    },
    {
     "cell_type": "code",
     "collapsed": false,
     "input": [
      "%%writefile analyzer.py\n",
      "#!/usr/bin/env python\n",
      "import os\n",
      "\n",
      "import numpy as np\n",
      "from matplotlib import pyplot as plt\n",
      "def analyze(filename):\n",
      "    data = np.loadtxt(fname=filename, delimiter=',')\n",
      "    figure = plt.figure(figsize=(10.0, 3.0))\n",
      "\n",
      "    subplot_average=figure.add_subplot(1, 3, 1)\n",
      "    subplot_average.set_ylabel('average')\n",
      "    subplot_average.plot(data.mean(0))\n",
      "\n",
      "    subplot_max=figure.add_subplot(1, 3, 2)\n",
      "    subplot_max.set_ylabel('max')\n",
      "    subplot_max.plot(data.max(0))\n",
      "\n",
      "    subplot_min=figure.add_subplot(1, 3, 3)\n",
      "    subplot_min.set_ylabel('min')\n",
      "    subplot_min.plot(data.min(0))\n",
      "\n",
      "    figure.tight_layout()\n",
      "    return figure\n",
      "\n",
      "def generate(filename, output=False):\n",
      "    if not output:\n",
      "        output = os.path.splitext(filename)[0] + '.png'\n",
      "    analyze(filename).savefig(output)\n",
      "    \n",
      "def bulk_generate(sources):\n",
      "    for source in sources:\n",
      "       generate(source)\n",
      "        \n",
      "import sys\n",
      "\n",
      "if __name__ == \"__main__\":\n",
      "    bulk_generate(sys.argv[1:])"
     ],
     "language": "python",
     "metadata": {},
     "outputs": [],
     "prompt_number": ""
    },
    {
     "cell_type": "markdown",
     "metadata": {},
     "source": [
      "So now we can do:"
     ]
    },
    {
     "cell_type": "code",
     "collapsed": false,
     "input": [
      "%%bash\n",
      "chmod u+x analyzer.py\n",
      "./analysis.py ../data/*.csv\n",
      "open ../data/inflammation-01.png"
     ],
     "language": "python",
     "metadata": {},
     "outputs": [],
     "prompt_number": ""
    },
    {
     "cell_type": "markdown",
     "metadata": {},
     "source": [
      "# Data in Python\n",
      "\n",
      "##\u00a0Floats and integers\n",
      "\n",
      "Python has two core numeric types:"
     ]
    },
    {
     "cell_type": "code",
     "collapsed": false,
     "input": [
      "one=1\n",
      "ten=10\n",
      "one_float=1.\n",
      "ten_float=10.\n",
      "print one/ten\n",
      "tenth= one_float/ten_float\n",
      "print tenth\n",
      "print type(one), type(one_float)\n",
      "print type(one/ten), type(tenth)"
     ],
     "language": "python",
     "metadata": {},
     "outputs": [],
     "prompt_number": ""
    },
    {
     "cell_type": "markdown",
     "metadata": {},
     "source": [
      "## Strings\n",
      "\n",
      "Python has a built in `string` type, supporting many\n",
      "useful operations."
     ]
    },
    {
     "cell_type": "code",
     "collapsed": false,
     "input": [
      "given = \"James\"\n",
      "family = \"Hetherington\"\n",
      "full = given+\" \"+family\n",
      "print full.upper()\n"
     ],
     "language": "python",
     "metadata": {},
     "outputs": [],
     "prompt_number": ""
    },
    {
     "cell_type": "markdown",
     "metadata": {},
     "source": [
      "##\u00a0Coersion\n",
      "\n",
      "The name of a type can be used to convert between types:"
     ]
    },
    {
     "cell_type": "code",
     "collapsed": false,
     "input": [
      "print float(str(ten)+str(one))\n"
     ],
     "language": "python",
     "metadata": {},
     "outputs": [],
     "prompt_number": ""
    },
    {
     "cell_type": "markdown",
     "metadata": {},
     "source": [
      "## Arrays\n",
      "\n",
      "Python's basic **container** type is the `array`"
     ]
    },
    {
     "cell_type": "code",
     "collapsed": false,
     "input": [
      "count_to_five = range(5)\n",
      "print count_to_five"
     ],
     "language": "python",
     "metadata": {},
     "outputs": [],
     "prompt_number": ""
    },
    {
     "cell_type": "code",
     "collapsed": false,
     "input": [
      "various_things = [1, 2, \"banana\", 3.4, [1,2] ]\n",
      "print various_things\n",
      "for thing in various_things:\n",
      "    print type(thing)"
     ],
     "language": "python",
     "metadata": {},
     "outputs": [],
     "prompt_number": ""
    },
    {
     "cell_type": "code",
     "collapsed": false,
     "input": [
      "name = [\"James\", \"Philip\", \"John\", \"Hetherington\"]\n",
      "print \" \".join(name)"
     ],
     "language": "python",
     "metadata": {},
     "outputs": [],
     "prompt_number": ""
    },
    {
     "cell_type": "markdown",
     "metadata": {},
     "source": [
      "## Sequences\n",
      "\n",
      "Many things can be treated like arrays, supporting slicing,\n",
      "a `len` operator and so on:"
     ]
    },
    {
     "cell_type": "code",
     "collapsed": false,
     "input": [
      "print count_to_five[1]"
     ],
     "language": "python",
     "metadata": {},
     "outputs": [],
     "prompt_number": ""
    },
    {
     "cell_type": "code",
     "collapsed": false,
     "input": [
      "print full[3:-4]"
     ],
     "language": "python",
     "metadata": {},
     "outputs": [],
     "prompt_number": ""
    },
    {
     "cell_type": "code",
     "collapsed": false,
     "input": [
      "print len(various_things)"
     ],
     "language": "python",
     "metadata": {},
     "outputs": [],
     "prompt_number": ""
    },
    {
     "cell_type": "code",
     "collapsed": false,
     "input": [
      "\"James\".lower() == \"james\".lower()"
     ],
     "language": "python",
     "metadata": {},
     "outputs": [],
     "prompt_number": ""
    },
    {
     "cell_type": "code",
     "collapsed": false,
     "input": [
      "print count_to_five[0:2]*3"
     ],
     "language": "python",
     "metadata": {},
     "outputs": [],
     "prompt_number": ""
    },
    {
     "cell_type": "markdown",
     "metadata": {},
     "source": [
      "##\u00a0Unpacking\n",
      "\n",
      "Sequences can be **unpacked** from sequences:"
     ]
    },
    {
     "cell_type": "code",
     "collapsed": false,
     "input": [
      "zero, one, two = range(3)\n",
      "print one"
     ],
     "language": "python",
     "metadata": {},
     "outputs": [],
     "prompt_number": ""
    },
    {
     "cell_type": "markdown",
     "metadata": {},
     "source": [
      "## Concepts and Duck Typing\n",
      "\n",
      "We call the set of things that behave like arrays from the point of\n",
      "view of slicing \"sequences\". \n",
      "\n",
      "This is an example of \"Duck Typing\": anything that behaves like a\n",
      "sequence can be used as a sequence.\n",
      "\n",
      "> If it looks like a duck, and it quacks like a duck, then\n",
      "> it must be a duck\n",
      "\n",
      "## Mutability\n",
      "\n",
      "An array can be modified:"
     ]
    },
    {
     "cell_type": "code",
     "collapsed": false,
     "input": [
      "name[0] = \"Dr\"\n",
      "name[2:3] = [\"Griffiths-\"]\n",
      "name.append(\"PhD\")\n",
      "print \" \".join(name)"
     ],
     "language": "python",
     "metadata": {},
     "outputs": [],
     "prompt_number": ""
    },
    {
     "cell_type": "markdown",
     "metadata": {},
     "source": [
      "## Tuples\n",
      "A `tuple` is an immutable sequence:"
     ]
    },
    {
     "cell_type": "code",
     "collapsed": false,
     "input": [
      "my_tuple = (\"Hello\", \"World\")\n",
      "my_tuple[0]=\"Goodbye\""
     ],
     "language": "python",
     "metadata": {},
     "outputs": [],
     "prompt_number": ""
    },
    {
     "cell_type": "markdown",
     "metadata": {},
     "source": [
      "`str`, `int` and `float` are all immutable too.\n",
      "\n",
      "## Identity vs Equality\n",
      "\n",
      "Having the same data is different from being the same actual object\n",
      "in memory:"
     ]
    },
    {
     "cell_type": "code",
     "collapsed": false,
     "input": [
      "print \"Hello\" == \"Hello\""
     ],
     "language": "python",
     "metadata": {},
     "outputs": [],
     "prompt_number": ""
    },
    {
     "cell_type": "code",
     "collapsed": false,
     "input": [
      "print \"Hello\" is \"Hello\""
     ],
     "language": "python",
     "metadata": {},
     "outputs": [],
     "prompt_number": ""
    },
    {
     "cell_type": "code",
     "collapsed": false,
     "input": [
      "x=\"James\"\n",
      "x[3]='f'"
     ],
     "language": "python",
     "metadata": {},
     "outputs": [],
     "prompt_number": ""
    },
    {
     "cell_type": "code",
     "collapsed": false,
     "input": [
      "print [1] == [1]"
     ],
     "language": "python",
     "metadata": {},
     "outputs": [],
     "prompt_number": ""
    },
    {
     "cell_type": "code",
     "collapsed": false,
     "input": [
      "print [1] is [1]"
     ],
     "language": "python",
     "metadata": {},
     "outputs": [],
     "prompt_number": ""
    },
    {
     "cell_type": "markdown",
     "metadata": {},
     "source": [
      "## Memory and containers\n",
      "\n",
      "The way memory works with containers can be important:"
     ]
    },
    {
     "cell_type": "code",
     "collapsed": false,
     "input": [
      "x = range(3)\n",
      "y = x\n",
      "z = x[:]\n",
      "y[1] = \"Gotcha!\"\n",
      "z[2] = \"Really?\"\n",
      "print x, y, z"
     ],
     "language": "python",
     "metadata": {},
     "outputs": [],
     "prompt_number": ""
    },
    {
     "cell_type": "markdown",
     "metadata": {},
     "source": [
      "## Dictionaries\n",
      "\n",
      "Python supports an \"associative array\":"
     ]
    },
    {
     "cell_type": "code",
     "collapsed": false,
     "input": [
      "ages = {\"James\": 37, \"Bilbo\": 111, \"Universe\": 14e9}\n",
      "print \"James is \"+ str(ages[\"James\"]) + \" years old\""
     ],
     "language": "python",
     "metadata": {},
     "outputs": [],
     "prompt_number": ""
    },
    {
     "cell_type": "code",
     "collapsed": false,
     "input": [
      "print ages.values()"
     ],
     "language": "python",
     "metadata": {},
     "outputs": [],
     "prompt_number": ""
    },
    {
     "cell_type": "code",
     "collapsed": false,
     "input": [
      "print ages.keys()"
     ],
     "language": "python",
     "metadata": {},
     "outputs": [],
     "prompt_number": ""
    },
    {
     "cell_type": "code",
     "collapsed": false,
     "input": [
      "ages.items()"
     ],
     "language": "python",
     "metadata": {},
     "outputs": [],
     "prompt_number": ""
    },
    {
     "cell_type": "code",
     "collapsed": false,
     "input": [
      "print \"Bilbo\" in ages"
     ],
     "language": "python",
     "metadata": {},
     "outputs": [],
     "prompt_number": ""
    },
    {
     "cell_type": "code",
     "collapsed": false,
     "input": [
      "print \"photon\" in ages"
     ],
     "language": "python",
     "metadata": {},
     "outputs": [],
     "prompt_number": ""
    },
    {
     "cell_type": "markdown",
     "metadata": {},
     "source": [
      "## Immutable Keys Only\n",
      "\n",
      "The way in which dictionaries work is one of the coolest things in computer science:\n",
      "the \"hash table\". We'll look more into this later, but the consequence of this is\n",
      "that things would totally break if you changed a key in a dictionary.\n",
      "\n",
      "So, you can only use **immutable** things as keys."
     ]
    },
    {
     "cell_type": "code",
     "collapsed": false,
     "input": [
      "good_match = {(\"Lamb\", \"Mint\"): True, \n",
      "              (\"Bacon\", \"Chocolate\"): False}\n",
      "illegal = {[1,2]: 3}"
     ],
     "language": "python",
     "metadata": {},
     "outputs": [],
     "prompt_number": ""
    },
    {
     "cell_type": "markdown",
     "metadata": {},
     "source": [
      "## No guarantee of order\n",
      "\n",
      "Another consequence of the way dictionaries work is that there's no guaranteed order among the\n",
      "elements:"
     ]
    },
    {
     "cell_type": "code",
     "collapsed": false,
     "input": [
      "from collections import OrderedDict\n",
      "my_dict = OrderedDict()\n",
      "for x in range(5):\n",
      "    my_dict[str(x)] = x\n",
      "print my_dict"
     ],
     "language": "python",
     "metadata": {},
     "outputs": [],
     "prompt_number": ""
    },
    {
     "cell_type": "markdown",
     "metadata": {},
     "source": [
      "## Sets\n",
      "\n",
      "A set works like a dictionary, but with just keys.\n",
      "\n",
      "There's no guaranteed order, elements cannot occur twice."
     ]
    },
    {
     "cell_type": "code",
     "collapsed": false,
     "input": [
      "unique_letters = set(\"\".join(name))\n",
      "print unique_letters"
     ],
     "language": "python",
     "metadata": {},
     "outputs": [],
     "prompt_number": ""
    },
    {
     "cell_type": "code",
     "collapsed": false,
     "input": [
      "print \"\".join(sorted(unique_letters))"
     ],
     "language": "python",
     "metadata": {},
     "outputs": [],
     "prompt_number": ""
    },
    {
     "cell_type": "markdown",
     "metadata": {},
     "source": [
      "# Control and flow\n",
      "\n",
      "## If, Elif, Else\n",
      "\n",
      "Python's if statement has optional if and elif clauses.\n",
      "Use of elif means there is no separate `case` statement."
     ]
    },
    {
     "cell_type": "code",
     "collapsed": false,
     "input": [
      "x = 5\n",
      "if x < 0:\n",
      "    print \"x is negative\"\n",
      "elif x == 0:\n",
      "    print \"x is zero\"\n",
      "else:\n",
      "    print \"x is positive\""
     ],
     "language": "python",
     "metadata": {},
     "outputs": [],
     "prompt_number": ""
    },
    {
     "cell_type": "markdown",
     "metadata": {},
     "source": [
      "## Comparison\n",
      "\n",
      "`True` and `False` are used to represent **boolean** values.\n",
      "Comparison on strings is alphabetical."
     ]
    },
    {
     "cell_type": "code",
     "collapsed": false,
     "input": [
      "1 > 2"
     ],
     "language": "python",
     "metadata": {},
     "outputs": [],
     "prompt_number": ""
    },
    {
     "cell_type": "code",
     "collapsed": false,
     "input": [
      "\"UCL\" > \"KCL\""
     ],
     "language": "python",
     "metadata": {},
     "outputs": [],
     "prompt_number": ""
    },
    {
     "cell_type": "code",
     "collapsed": false,
     "input": [
      "True == \"True\""
     ],
     "language": "python",
     "metadata": {},
     "outputs": [],
     "prompt_number": ""
    },
    {
     "cell_type": "code",
     "collapsed": false,
     "input": [
      "False == 0"
     ],
     "language": "python",
     "metadata": {},
     "outputs": [],
     "prompt_number": ""
    },
    {
     "cell_type": "code",
     "collapsed": false,
     "input": [
      "'3' < 1"
     ],
     "language": "python",
     "metadata": {},
     "outputs": [],
     "prompt_number": ""
    },
    {
     "cell_type": "markdown",
     "metadata": {},
     "source": [
      "## Indentation\n",
      "\n",
      "In Python, indentation is semantically significant.\n",
      "You can choose how much indentation to use, so long as you\n",
      "are consistent, but four spaces is\n",
      "conventional. Please do not use tabs."
     ]
    },
    {
     "cell_type": "code",
     "collapsed": false,
     "input": [
      "if x>0:\n",
      "print x"
     ],
     "language": "python",
     "metadata": {},
     "outputs": [],
     "prompt_number": ""
    },
    {
     "cell_type": "markdown",
     "metadata": {},
     "source": [
      "##\u00a0Pass\n",
      "\n",
      "A statement expecting identation must have some indented code.\n",
      "This can be annoying when commenting things out. (With `#`)"
     ]
    },
    {
     "cell_type": "code",
     "collapsed": false,
     "input": [
      "if x>0:\n",
      "    print x\n",
      "  print \"Hello\""
     ],
     "language": "python",
     "metadata": {},
     "outputs": [],
     "prompt_number": ""
    },
    {
     "cell_type": "markdown",
     "metadata": {},
     "source": [
      "So the `pass` statement is used to do nothing."
     ]
    },
    {
     "cell_type": "code",
     "collapsed": false,
     "input": [
      "if x>0:\n",
      "    pass\n",
      "print \"Hello\""
     ],
     "language": "python",
     "metadata": {},
     "outputs": [],
     "prompt_number": ""
    },
    {
     "cell_type": "markdown",
     "metadata": {},
     "source": [
      "## Iteration\n",
      "\n",
      "Use `for` ... `in` to iterate over **iterables**:"
     ]
    },
    {
     "cell_type": "code",
     "collapsed": false,
     "input": [
      "uptofive = range(5)\n",
      "for value in uptofive:\n",
      "    print value**2"
     ],
     "language": "python",
     "metadata": {},
     "outputs": []
    },
    {
     "cell_type": "markdown",
     "metadata": {},
     "source": [
      "## Iterables\n",
      "\n",
      "Any sequence type is iterable:"
     ]
    },
    {
     "cell_type": "code",
     "collapsed": false,
     "input": [
      "vowels=\"aeiou\"\n",
      "\n",
      "def sarcasm_repeat(letter):\n",
      "    if letter.lower() in vowels:\n",
      "        repetition = 3\n",
      "    else:\n",
      "        repetition = 1\n",
      "    return letter*repetition\n",
      "\n",
      "\"\".join([sarcasm_repeat(letter) for letter in \"Okay\"])\n",
      "\n"
     ],
     "language": "python",
     "metadata": {},
     "outputs": [],
     "prompt_number": ""
    },
    {
     "cell_type": "markdown",
     "metadata": {},
     "source": [
      "##\u00a0Dictionaries are Iterables\n",
      "\n",
      "All sequences are iterables. Some iterables are not sequences,\n",
      "including sets and dictionaries."
     ]
    },
    {
     "cell_type": "code",
     "collapsed": false,
     "input": [
      "import datetime\n",
      "now = datetime.datetime.now()\n",
      "founded = {\"James\": 1976, \"UCL\": 1826, \"Cambridge\": 1209}\n",
      "current_year = now.year\n",
      "for thing in founded:\n",
      "    print thing, \" is \", current_year -  founded[thing], \"years old.\""
     ],
     "language": "python",
     "metadata": {},
     "outputs": [],
     "prompt_number": ""
    },
    {
     "cell_type": "markdown",
     "metadata": {},
     "source": [
      "## Unpacking and Iteration\n",
      "\n",
      "Unpacking can be useful with iteration:"
     ]
    },
    {
     "cell_type": "code",
     "collapsed": false,
     "input": [
      "triples=[[1,2,3], [3,4,5]]\n",
      "for triple in triples:\n",
      "    print triple"
     ],
     "language": "python",
     "metadata": {},
     "outputs": [],
     "prompt_number": ""
    },
    {
     "cell_type": "code",
     "collapsed": false,
     "input": [
      "for first, second, third in triples:\n",
      "    print second, first, third"
     ],
     "language": "python",
     "metadata": {},
     "outputs": [],
     "prompt_number": ""
    },
    {
     "cell_type": "markdown",
     "metadata": {},
     "source": [
      "for example, to iterate over the items in a dictionary as pairs:"
     ]
    },
    {
     "cell_type": "code",
     "collapsed": false,
     "input": [
      "print founded.items()"
     ],
     "language": "python",
     "metadata": {},
     "outputs": [],
     "prompt_number": ""
    },
    {
     "cell_type": "code",
     "collapsed": false,
     "input": [
      "for thing, year in founded.items():\n",
      "    print thing, \" is \", current_year - year, \"years old.\""
     ],
     "language": "python",
     "metadata": {},
     "outputs": [],
     "prompt_number": ""
    },
    {
     "cell_type": "markdown",
     "metadata": {},
     "source": [
      "## Break, Continue, and Else\n",
      "\n",
      "* Continue skips to the next turn of a loop\n",
      "* Break stops the loop early"
     ]
    },
    {
     "cell_type": "code",
     "collapsed": false,
     "input": [
      "for n in range(50):\n",
      "    if n==20: break\n",
      "    if n % 2 == 0:\n",
      "        continue\n",
      "    print n"
     ],
     "language": "python",
     "metadata": {},
     "outputs": [],
     "prompt_number": ""
    },
    {
     "cell_type": "markdown",
     "metadata": {},
     "source": [
      "* An else clause on a loop is executed iff the end of the loop is reached"
     ]
    },
    {
     "cell_type": "code",
     "collapsed": false,
     "input": [
      "search_in=[3,4,5,-6,5,-9]\n",
      "for x in search_in:\n",
      "    if x<0:\n",
      "        first_negative = x\n",
      "        break\n",
      "else:\n",
      "    first_negative = False\n",
      "print first_negative"
     ],
     "language": "python",
     "metadata": {},
     "outputs": [],
     "prompt_number": ""
    },
    {
     "cell_type": "markdown",
     "metadata": {},
     "source": [
      "## List and Dictionary Comprehensions\n",
      "\n",
      "If you write a for loop inside a list or dict constructor, you magic up a list.\n",
      "This can make for concise but hard to read code, so be careful."
     ]
    },
    {
     "cell_type": "code",
     "collapsed": false,
     "input": [
      "[2**something for something in range(10)]"
     ],
     "language": "python",
     "metadata": {},
     "outputs": [],
     "prompt_number": ""
    },
    {
     "cell_type": "code",
     "collapsed": false,
     "input": [
      "\"\".join([x.upper() for x in \"Whatever\" if (x in vowels)])"
     ],
     "language": "python",
     "metadata": {},
     "outputs": [],
     "prompt_number": ""
    },
    {
     "cell_type": "code",
     "collapsed": false,
     "input": [
      "{ (str(x))*3: x for x in range(3) }"
     ],
     "language": "python",
     "metadata": {},
     "outputs": [],
     "prompt_number": ""
    },
    {
     "cell_type": "markdown",
     "metadata": {},
     "source": [
      "## Zip and dictionary construction\n",
      "\n",
      "You can use \"zip\" to zip two iterables together.\n",
      "An iterable of pairs can be used to construct a dictionary"
     ]
    },
    {
     "cell_type": "code",
     "collapsed": false,
     "input": [
      "negatives = zip(range(10), [-1.0*x for x in range(10)])\n",
      "print negatives"
     ],
     "language": "python",
     "metadata": {},
     "outputs": [],
     "prompt_number": ""
    },
    {
     "cell_type": "code",
     "collapsed": false,
     "input": [
      "neg_dict=dict(negatives)\n",
      "print neg_dict\n",
      "print neg_dict[5]"
     ],
     "language": "python",
     "metadata": {},
     "outputs": [],
     "prompt_number": ""
    },
    {
     "cell_type": "markdown",
     "metadata": {},
     "source": [
      "# Functions \n",
      "\n",
      "## Definition\n",
      "\n",
      "We use `def` to define a function, and `return` to pass back a value:"
     ]
    },
    {
     "cell_type": "code",
     "collapsed": false,
     "input": [
      "def double(x):\n",
      "    return x*2"
     ],
     "language": "python",
     "metadata": {},
     "outputs": [],
     "prompt_number": ""
    },
    {
     "cell_type": "code",
     "collapsed": false,
     "input": [
      "print double(5), double([5]), double('five')"
     ],
     "language": "python",
     "metadata": {},
     "outputs": [],
     "prompt_number": ""
    },
    {
     "cell_type": "markdown",
     "metadata": {},
     "source": [
      "## Side effects\n",
      "\n",
      "Functions can do things to change their **mutable** arguments,\n",
      "so `return` is optional."
     ]
    },
    {
     "cell_type": "code",
     "collapsed": false,
     "input": [
      "def double_inplace(vec):\n",
      "    vec[:]=[element*2 for element in vec]\n",
      "\n",
      "z=range(4)\n",
      "double_inplace(z)\n",
      "print z"
     ],
     "language": "python",
     "metadata": {},
     "outputs": [],
     "prompt_number": ""
    },
    {
     "cell_type": "markdown",
     "metadata": {},
     "source": [
      "## Early Return\n",
      "\n",
      "Return without arguments can be used to exit early from a function"
     ]
    },
    {
     "cell_type": "code",
     "collapsed": false,
     "input": [
      "def extend(to,vec,pad):\n",
      "    if len(vec)>=to:\n",
      "        return\n",
      "    else:\n",
      "        vec[:]=vec+[pad]*(to-len(vec))\n",
      "        \n",
      "x=range(3)\n",
      "extend(6,x,'a')\n",
      "print x"
     ],
     "language": "python",
     "metadata": {},
     "outputs": [],
     "prompt_number": ""
    },
    {
     "cell_type": "code",
     "collapsed": false,
     "input": [
      "def something(arg):\n",
      "    if arg<0:\n",
      "        return\n",
      "    else:\n",
      "        return arg*2\n",
      "    \n",
      "print something(-5)\n",
      "None"
     ],
     "language": "python",
     "metadata": {},
     "outputs": [],
     "prompt_number": ""
    },
    {
     "cell_type": "markdown",
     "metadata": {},
     "source": [
      "## Unpacking arguments\n",
      "\n",
      "If a vector is supplied to a function with a '*', its elements\n",
      "are used to fill each of a function's arguments. "
     ]
    },
    {
     "cell_type": "code",
     "collapsed": false,
     "input": [
      "def arrow(before, after):\n",
      "    return str(before)+\" -> \"+str(after)\n",
      "\n",
      "x=[1,-1]\n",
      "print arrow(*x)"
     ],
     "language": "python",
     "metadata": {},
     "outputs": [],
     "prompt_number": ""
    },
    {
     "cell_type": "markdown",
     "metadata": {},
     "source": [
      "This can be quite powerful:"
     ]
    },
    {
     "cell_type": "code",
     "collapsed": false,
     "input": [
      "charges={\"neutron\": 0, \"proton\": 1, \"electron\": -1}\n",
      "for particle in charges.items():\n",
      "    print arrow(*particle)"
     ],
     "language": "python",
     "metadata": {},
     "outputs": [],
     "prompt_number": ""
    },
    {
     "cell_type": "markdown",
     "metadata": {},
     "source": [
      "## Sequence Arguments\n",
      "\n",
      "Similiarly, if a `*` is used in the definition of a function, multiple\n",
      "arguments are absorbed into a tuple:"
     ]
    },
    {
     "cell_type": "code",
     "collapsed": false,
     "input": [
      "def doubler(*sequence):\n",
      "    return [x*2 for x in sequence]\n",
      "\n",
      "print doubler(1,2,3,4,6,8)"
     ],
     "language": "python",
     "metadata": {},
     "outputs": [],
     "prompt_number": ""
    },
    {
     "cell_type": "markdown",
     "metadata": {},
     "source": [
      "## Keyword Arguments\n",
      "\n",
      "If two asterisks are used, named arguments are supplied as a dictionary:"
     ]
    },
    {
     "cell_type": "code",
     "collapsed": false,
     "input": [
      "def arrowify(**args):\n",
      "    \n",
      "    for key, value in args.items():\n",
      "        print key+\"->\"+value\n",
      "\n",
      "arrowify(neutron=\"n\",proton=\"p\",electron=\"e\")"
     ],
     "language": "python",
     "metadata": {},
     "outputs": [],
     "prompt_number": ""
    },
    {
     "cell_type": "markdown",
     "metadata": {},
     "source": [
      "# Modules\n",
      "\n",
      "## File Modules\n",
      "Each python file defines a module, which can be imported from with import:\n",
      "\n",
      "File pretty.py:"
     ]
    },
    {
     "cell_type": "code",
     "collapsed": false,
     "input": [],
     "language": "python",
     "metadata": {},
     "outputs": [],
     "prompt_number": ""
    },
    {
     "cell_type": "markdown",
     "metadata": {},
     "source": [
      "Another file:"
     ]
    },
    {
     "cell_type": "code",
     "collapsed": false,
     "input": [
      "import pretty\n",
      "\n",
      "pretty.arrowify(james=\"RITS\", matt=\"CMIC\")"
     ],
     "language": "python",
     "metadata": {},
     "outputs": [],
     "prompt_number": ""
    },
    {
     "cell_type": "markdown",
     "metadata": {},
     "source": [
      "## Module Variables\n",
      "\n",
      "Modules can contain variables as well as functions, and these can be changed."
     ]
    },
    {
     "cell_type": "code",
     "collapsed": false,
     "input": [
      "pretty.arrow=\"=>\"\n",
      "pretty.arrowify(beauty=True, cause=\"consequence\")"
     ],
     "language": "python",
     "metadata": {},
     "outputs": [],
     "prompt_number": ""
    },
    {
     "cell_type": "markdown",
     "metadata": {},
     "source": [
      "## Importing from modules\n",
      "\n",
      "Things can be imported from modules to become part of the current module"
     ]
    },
    {
     "cell_type": "code",
     "collapsed": false,
     "input": [
      "import math\n",
      "math.sin(math.pi)"
     ],
     "language": "python",
     "metadata": {},
     "outputs": [],
     "prompt_number": ""
    },
    {
     "cell_type": "code",
     "collapsed": false,
     "input": [
      "power=1\n",
      "factor=10^power\n",
      "x=[1.0/factor]*factor\n",
      "sum(x)\n"
     ],
     "language": "python",
     "metadata": {},
     "outputs": [],
     "prompt_number": ""
    },
    {
     "cell_type": "code",
     "collapsed": false,
     "input": [
      "from math import sin\n",
      "sin(math.pi)"
     ],
     "language": "python",
     "metadata": {},
     "outputs": [],
     "prompt_number": ""
    },
    {
     "cell_type": "code",
     "collapsed": false,
     "input": [
      "from math import *\n",
      "sin(pi)"
     ],
     "language": "python",
     "metadata": {},
     "outputs": [],
     "prompt_number": ""
    },
    {
     "cell_type": "markdown",
     "metadata": {},
     "source": [
      "##\u00a0Import and rename\n",
      "\n",
      "You can rename things as you import them to avoid clashes or for convenience"
     ]
    },
    {
     "cell_type": "code",
     "collapsed": false,
     "input": [
      "import math as m\n",
      "print m.cos(0)\n",
      "\n",
      "mypi=3\n",
      "from math import pi as realpi\n",
      "print sin(mypi)\n",
      "sin(realpi)"
     ],
     "language": "python",
     "metadata": {},
     "outputs": [],
     "prompt_number": ""
    },
    {
     "cell_type": "code",
     "collapsed": false,
     "input": [
      "sin(realpi)"
     ],
     "language": "python",
     "metadata": {},
     "outputs": []
    },
    {
     "cell_type": "markdown",
     "metadata": {},
     "source": [
      "## Folders as modules\n",
      "\n",
      "If you make a folder with a special file called __init__.py in, the *folder* becomes\n",
      "a module, and can contain other modules. It is referred to as a package:"
     ]
    },
    {
     "cell_type": "markdown",
     "metadata": {},
     "source": [
      "``` tree\n",
      "module1\n",
      "|-- __init__.py\n",
      "|-- module2.py\n",
      "`-- module3\n",
      "    `-- __init__.py\n",
      "```"
     ]
    },
    {
     "cell_type": "markdown",
     "metadata": {},
     "source": [
      "```python\n",
      "\n",
      ">>> import module1\n",
      ">>> module1.hello\n",
      "'Hello James.'\n",
      ">>>\n",
      ">>> import module1.module2\n",
      ">>> module1.module2.hello\n",
      "'Greetings, Dr Hetherington'\n",
      "```"
     ]
    },
    {
     "cell_type": "markdown",
     "metadata": {},
     "source": [
      "`module1/__init__.py`:\n",
      "\n",
      "```python\n",
      "hello = \"Hello James.\"\n",
      "\n",
      "```"
     ]
    },
    {
     "cell_type": "markdown",
     "metadata": {},
     "source": [
      "`module1/module2.py`:\n",
      "\n",
      "```python\n",
      "hello = \"Greetings, Dr Hetherington\"\n",
      "\n",
      "```"
     ]
    },
    {
     "cell_type": "markdown",
     "metadata": {},
     "source": [
      "## Relative Import\n",
      "\n",
      "Inside packages, you can use `..` to refer to the parent module"
     ]
    },
    {
     "cell_type": "markdown",
     "metadata": {},
     "source": [
      "`module1/module3/__init__.py`:\n",
      "\n",
      "```python\n",
      "from .. import hello as formal\n",
      "hello = formal.replace(\"Hello\",\"Hi\")\n",
      "\n",
      "```"
     ]
    },
    {
     "cell_type": "markdown",
     "metadata": {},
     "source": [
      "```python\n",
      "import module1.module3\n",
      "module1.module3.hello\n",
      "```"
     ]
    }
   ],
   "metadata": {}
  }
 ]
}