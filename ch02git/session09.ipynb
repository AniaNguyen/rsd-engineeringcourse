{
 "cells": [
  {
   "cell_type": "markdown",
   "metadata": {},
   "source": [
    "## Git Theory\n",
    "\n",
    "### The revision Graph\n",
    "\n",
    "Revisions form a **GRAPH**"
   ]
  },
  {
   "cell_type": "code",
   "execution_count": 1,
   "metadata": {
    "collapsed": false
   },
   "outputs": [],
   "source": [
    "import os\n",
    "top_dir = os.getcwd()\n",
    "git_dir = os.path.join(top_dir, 'learning_git')\n",
    "working_dir=os.path.join(git_dir, 'git_example')\n",
    "os.chdir(working_dir)"
   ]
  },
  {
   "cell_type": "code",
   "execution_count": 3,
   "metadata": {
    "collapsed": false
   },
   "outputs": [
    {
     "name": "stdout",
     "output_type": "stream",
     "text": [
      "*   c8ab86a Merge branch 'master' of github.com:UCL/github-example\n",
      "|\\  \n",
      "| * 6049543 Add another Beacon\n",
      "* | 42f4945 Add Glyder\n",
      "|/  \n",
      "*   8e3a6b5 Merge branch 'master' of github.com:UCL/github-example\n",
      "|\\  \n",
      "| * 76f8c93 Add a beacon\n",
      "* | e19b456 Translating from the Welsh\n",
      "|/  \n",
      "*   39cdf96 Merge branch 'master' of github.com:UCL/github-example\n",
      "|\\  \n",
      "| * fea6f2c Add Scotland\n",
      "* | 740c880 Add wales\n",
      "|/  \n",
      "* ee4fef3 Add Helvellyn\n",
      "* 1dc2b88 Include lakes in the scope\n",
      "* de6bec9 Add lakeland\n",
      "* 4712e37 Revert \"Add a lie about a mountain\"\n",
      "* a98be01 Change title\n",
      "* faa14cf Add a lie about a mountain\n",
      "* 75d400d First commit of discourse on UK topography\n"
     ]
    }
   ],
   "source": [
    "%%bash\n",
    "git log --graph --oneline"
   ]
  },
  {
   "cell_type": "markdown",
   "metadata": {},
   "source": [
    "### Git concepts\n",
    "\n",
    "* Each revision has a parent that it is based on\n",
    "* These revisions form a graph\n",
    "* Each revision has a unique hash code\n",
    "  * In Sue's copy, revision 43 is ab3578d6\n",
    "  * Jim might think that is revision 38, but it's still ab3579d6\n",
    "* Branches, tags, and HEAD are *labels* pointing at revisions\n",
    "* Some operations (like fast forward merges) just move labels."
   ]
  },
  {
   "cell_type": "markdown",
   "metadata": {},
   "source": [
    "### The levels of Git"
   ]
  },
  {
   "cell_type": "markdown",
   "metadata": {},
   "source": [
    "There are four **Separate** levels a change can reach in git:"
   ]
  },
  {
   "cell_type": "markdown",
   "metadata": {},
   "source": [
    "* The Working Copy\n",
    "* The **index** (aka **staging area**)\n",
    "* The local repository\n",
    "* The remote repository"
   ]
  },
  {
   "cell_type": "markdown",
   "metadata": {},
   "source": [
    "Understanding all the things `git reset` can do requires a good\n",
    "grasp of git theory."
   ]
  },
  {
   "cell_type": "markdown",
   "metadata": {
    "collapsed": true
   },
   "source": [
    "* `git reset <commit> <filename>` : Reset index and working version of that file to the version in a given commit\n",
    "* `git reset --soft <commit>`: Move local repository branch label to that commit, leave working dir and index unchanged\n",
    "* `git reset <commit>`: Move local repository and index to commit (\"--mixed\")\n",
    "* `git reset --hard <commit>`: Move local repostiory, index, and working directory copy to that state"
   ]
  },
  {
   "cell_type": "code",
   "execution_count": 6,
   "metadata": {
    "collapsed": true
   },
   "outputs": [],
   "source": [
    "## Git Stash"
   ]
  },
  {
   "cell_type": "markdown",
   "metadata": {},
   "source": [
    "If you find you want to pull, but you're not ready to commit,\n",
    "you can use"
   ]
  },
  {
   "cell_type": "code",
   "execution_count": 10,
   "metadata": {
    "collapsed": false
   },
   "outputs": [
    {
     "name": "stdout",
     "output_type": "stream",
     "text": [
      "Overwriting Wales.md\n"
     ]
    }
   ],
   "source": [
    "%%writefile Wales.md\n",
    "Mountains In Wales\n",
    "==================\n",
    "\n",
    "* Pen y Fan\n",
    "* Tryfan\n",
    "* Snowdon\n",
    "* Glyder Fawr\n",
    "* Fan y Big\n",
    "* Cadair Idris"
   ]
  },
  {
   "cell_type": "code",
   "execution_count": 14,
   "metadata": {
    "collapsed": false
   },
   "outputs": [
    {
     "name": "stdout",
     "output_type": "stream",
     "text": [
      "No local changes to save\n",
      "Already up-to-date.\n"
     ]
    }
   ],
   "source": [
    "%%bash\n",
    "git stash\n",
    "git pull"
   ]
  },
  {
   "cell_type": "code",
   "execution_count": 15,
   "metadata": {
    "collapsed": false
   },
   "outputs": [
    {
     "name": "stdout",
     "output_type": "stream",
     "text": [
      "On branch master\n",
      "Your branch is up-to-date with 'origin/master'.\n",
      "Changes not staged for commit:\n",
      "  (use \"git add <file>...\" to update what will be committed)\n",
      "  (use \"git checkout -- <file>...\" to discard changes in working directory)\n",
      "\n",
      "\tmodified:   Wales.md\n",
      "\n",
      "no changes added to commit (use \"git add\" and/or \"git commit -a\")\n"
     ]
    }
   ],
   "source": [
    "%%bash\n",
    "git stash apply"
   ]
  },
  {
   "cell_type": "markdown",
   "metadata": {},
   "source": [
    "The \"Stash\" is a way of temporarily saving your working area, and can help out in a pinch."
   ]
  },
  {
   "cell_type": "markdown",
   "metadata": {},
   "source": [
    "## Branches\n",
    "\n",
    "Branches are increadibly important to why `git` is cool and powerful.\n",
    "\n",
    "They are an easy and cheap way of making a second version of your software, which you work on in parallel,\n",
    "and pull in your changes when you are ready."
   ]
  },
  {
   "cell_type": "code",
   "execution_count": 16,
   "metadata": {
    "attributes": {
     "classes": [
      " Bash"
     ],
     "id": ""
    },
    "collapsed": false
   },
   "outputs": [
    {
     "name": "stdout",
     "output_type": "stream",
     "text": [
      "* master\n"
     ]
    }
   ],
   "source": [
    "%%bash\n",
    "git branch # Tell me what branches exist"
   ]
  },
  {
   "cell_type": "code",
   "execution_count": 17,
   "metadata": {
    "collapsed": false
   },
   "outputs": [
    {
     "name": "stdout",
     "output_type": "stream",
     "text": [
      "M\tWales.md\n"
     ]
    },
    {
     "name": "stderr",
     "output_type": "stream",
     "text": [
      "Switched to a new branch 'experiment'\n"
     ]
    }
   ],
   "source": [
    "%%bash\n",
    "git checkout -b experiment # Make a new branch"
   ]
  },
  {
   "cell_type": "code",
   "execution_count": 18,
   "metadata": {
    "collapsed": false
   },
   "outputs": [
    {
     "name": "stdout",
     "output_type": "stream",
     "text": [
      "* experiment\n",
      "  master\n"
     ]
    }
   ],
   "source": [
    "%%bash\n",
    "git branch"
   ]
  },
  {
   "cell_type": "code",
   "execution_count": 19,
   "metadata": {
    "collapsed": false
   },
   "outputs": [
    {
     "name": "stdout",
     "output_type": "stream",
     "text": [
      "[experiment d80ba89] Add Cadair Idris\n",
      " 1 file changed, 2 insertions(+), 1 deletion(-)\n"
     ]
    }
   ],
   "source": [
    "%%bash\n",
    "git commit -am \"Add Cadair Idris\""
   ]
  },
  {
   "cell_type": "code",
   "execution_count": 20,
   "metadata": {
    "attributes": {
     "classes": [
      " Bash"
     ],
     "id": ""
    },
    "collapsed": false
   },
   "outputs": [
    {
     "name": "stdout",
     "output_type": "stream",
     "text": [
      "Your branch is up-to-date with 'origin/master'.\n"
     ]
    },
    {
     "name": "stderr",
     "output_type": "stream",
     "text": [
      "Switched to branch 'master'\n"
     ]
    }
   ],
   "source": [
    "%%bash\n",
    "git checkout master # Switch to an existing branch"
   ]
  },
  {
   "cell_type": "code",
   "execution_count": 21,
   "metadata": {
    "collapsed": false
   },
   "outputs": [
    {
     "name": "stdout",
     "output_type": "stream",
     "text": [
      "Mountains In Wales\n",
      "==================\n",
      "\n",
      "* Pen y Fan\n",
      "* Tryfan\n",
      "* Snowdon\n",
      "* Glyder Fawr\n",
      "* Fan y Big"
     ]
    }
   ],
   "source": [
    "%%bash\n",
    "cat Wales.md"
   ]
  },
  {
   "cell_type": "code",
   "execution_count": 23,
   "metadata": {
    "collapsed": false
   },
   "outputs": [
    {
     "name": "stderr",
     "output_type": "stream",
     "text": [
      "Already on 'experiment'\n"
     ]
    }
   ],
   "source": [
    "%%bash\n",
    "git checkout experiment"
   ]
  },
  {
   "cell_type": "code",
   "execution_count": 24,
   "metadata": {
    "collapsed": false
   },
   "outputs": [
    {
     "name": "stdout",
     "output_type": "stream",
     "text": [
      "Mountains In Wales\r\n",
      "==================\r\n",
      "\r\n",
      "* Pen y Fan\r\n",
      "* Tryfan\r\n",
      "* Snowdon\r\n",
      "* Glyder Fawr\r\n",
      "* Fan y Big\r\n",
      "* Cadair Idris"
     ]
    }
   ],
   "source": [
    "cat Wales.md"
   ]
  },
  {
   "cell_type": "markdown",
   "metadata": {},
   "source": [
    "### Publishing branches\n",
    "\n",
    "To let the server know there's a new branch use:"
   ]
  },
  {
   "cell_type": "code",
   "execution_count": 27,
   "metadata": {
    "collapsed": false
   },
   "outputs": [
    {
     "name": "stdout",
     "output_type": "stream",
     "text": [
      "Branch experiment set up to track remote branch experiment from origin.\n"
     ]
    },
    {
     "name": "stderr",
     "output_type": "stream",
     "text": [
      "To git@github.com:UCL/github-example.git\n",
      " * [new branch]      experiment -> experiment\n"
     ]
    }
   ],
   "source": [
    "%%bash\n",
    "git push -u origin experiment"
   ]
  },
  {
   "cell_type": "markdown",
   "metadata": {},
   "source": [
    "We use `--set-upstream origin` (Abbreviation `-u`) to tell git that this branch should be pushed to and pulled from origin per default.\n",
    "\n",
    "If you are following along, you should be able to see your branch in the list of branches in GitHub."
   ]
  },
  {
   "cell_type": "markdown",
   "metadata": {},
   "source": [
    "Once you've used `git push -u` once, you can push new changes to the branch with just a git push."
   ]
  },
  {
   "cell_type": "markdown",
   "metadata": {},
   "source": [
    "If others checkout your repository, they will be able to do `git checkout experiment` to see your branch content,\n",
    "and collaborate with you **in the branch**."
   ]
  },
  {
   "cell_type": "code",
   "execution_count": 28,
   "metadata": {
    "collapsed": false
   },
   "outputs": [
    {
     "name": "stdout",
     "output_type": "stream",
     "text": [
      "  origin/experiment\n",
      "  origin/master\n"
     ]
    }
   ],
   "source": [
    "%%bash\n",
    "git branch -r"
   ]
  },
  {
   "cell_type": "markdown",
   "metadata": {},
   "source": [
    "Local branches can be, but do not have to be, connected to remote branches\n",
    "They are said to \"track\" remote branches. `push -u` sets up the tracking relationship."
   ]
  },
  {
   "cell_type": "code",
   "execution_count": 29,
   "metadata": {
    "collapsed": false
   },
   "outputs": [
    {
     "name": "stdout",
     "output_type": "stream",
     "text": [
      "* experiment d80ba89 [origin/experiment] Add Cadair Idris\n",
      "  master     c8ab86a [origin/master] Merge branch 'master' of github.com:UCL/github-example\n"
     ]
    }
   ],
   "source": [
    "%%bash\n",
    "git branch -vv"
   ]
  },
  {
   "cell_type": "markdown",
   "metadata": {},
   "source": [
    "### Find out what is on a branch\n",
    "\n",
    "In addition to using `git diff` to compare to the state of a branch,\n",
    "you can use `git log` to look at lists of commits which are in a branch\n",
    "and haven't been merged yet."
   ]
  },
  {
   "cell_type": "code",
   "execution_count": 32,
   "metadata": {
    "collapsed": false
   },
   "outputs": [
    {
     "name": "stdout",
     "output_type": "stream",
     "text": [
      "commit d80ba892687b33b2b01a91cca7b72c18ff0c4107\n",
      "Author: James Hetherington <jamespjh@gmail.com>\n",
      "Date:   Wed Sep 2 18:15:56 2015 +0100\n",
      "\n",
      "    Add Cadair Idris\n"
     ]
    }
   ],
   "source": [
    "%%bash\n",
    "git log master..experiment"
   ]
  },
  {
   "cell_type": "markdown",
   "metadata": {},
   "source": [
    "Git uses various symbols to refer to sets of commits.\n",
    "The double dot `A..B` means \"ancestor of B and not ancestor of A\"\n",
    "\n",
    "So in a purely linear sequence, it does what you'd expect."
   ]
  },
  {
   "cell_type": "code",
   "execution_count": 89,
   "metadata": {
    "collapsed": false
   },
   "outputs": [
    {
     "name": "stdout",
     "output_type": "stream",
     "text": [
      "* 740c880 Add wales\n",
      "* ee4fef3 Add Helvellyn\n",
      "* 1dc2b88 Include lakes in the scope\n",
      "* de6bec9 Add lakeland\n"
     ]
    }
   ],
   "source": [
    "%%bash\n",
    "git log --graph --oneline HEAD~9..HEAD~5"
   ]
  },
  {
   "cell_type": "markdown",
   "metadata": {},
   "source": [
    "But in cases where a history has branches,\n",
    "the definition in terms of ancestors is important."
   ]
  },
  {
   "cell_type": "code",
   "execution_count": 86,
   "metadata": {
    "collapsed": false
   },
   "outputs": [
    {
     "name": "stdout",
     "output_type": "stream",
     "text": [
      "*   c8ab86a Merge branch 'master' of github.com:UCL/github-example\n",
      "|\\  \n",
      "| * 6049543 Add another Beacon\n",
      "* | 42f4945 Add Glyder\n",
      "|/  \n",
      "*   8e3a6b5 Merge branch 'master' of github.com:UCL/github-example\n",
      "|\\  \n",
      "| * 76f8c93 Add a beacon\n",
      "* | e19b456 Translating from the Welsh\n",
      "|/  \n",
      "* 39cdf96 Merge branch 'master' of github.com:UCL/github-example\n",
      "* fea6f2c Add Scotland\n"
     ]
    }
   ],
   "source": [
    "%%bash\n",
    "git log --graph --oneline HEAD~5..HEAD"
   ]
  },
  {
   "cell_type": "markdown",
   "metadata": {},
   "source": [
    "If there are changes on both sides, like this:"
   ]
  },
  {
   "cell_type": "code",
   "execution_count": null,
   "metadata": {
    "collapsed": true
   },
   "outputs": [],
   "source": [
    "%%bash\n",
    "git checkout master"
   ]
  },
  {
   "cell_type": "code",
   "execution_count": 63,
   "metadata": {
    "collapsed": false
   },
   "outputs": [
    {
     "name": "stdout",
     "output_type": "stream",
     "text": [
      "Overwriting Scotland.md\n"
     ]
    }
   ],
   "source": [
    "%%writefile Scotland.md\n",
    "Mountains In Scotland\n",
    "==================\n",
    "\n",
    "* Ben Eighe\n",
    "* Cairngorm\n",
    "* Aonach Eagach\n"
   ]
  },
  {
   "cell_type": "code",
   "execution_count": 64,
   "metadata": {
    "collapsed": false
   },
   "outputs": [
    {
     "name": "stdout",
     "output_type": "stream",
     "text": [
      "diff --git a/Scotland.md b/Scotland.md\n",
      "index 36f83a1..44eb7ea 100644\n",
      "--- a/Scotland.md\n",
      "+++ b/Scotland.md\n",
      "@@ -2,4 +2,5 @@ Mountains In Scotland\n",
      " ==================\n",
      " \n",
      " * Ben Eighe\n",
      "-* Cairngorm\n",
      "\\ No newline at end of file\n",
      "+* Cairngorm\n",
      "+* Aonach Eagach\n",
      "\\ No newline at end of file\n"
     ]
    }
   ],
   "source": [
    "%%bash\n",
    "git diff Scotland.md"
   ]
  },
  {
   "cell_type": "code",
   "execution_count": 93,
   "metadata": {
    "collapsed": false
   },
   "outputs": [
    {
     "name": "stdout",
     "output_type": "stream",
     "text": [
      "[master d92c3d6] Commit Aonach onto master branch\n",
      " 1 file changed, 2 insertions(+), 1 deletion(-)\n"
     ]
    }
   ],
   "source": [
    "%%bash\n",
    "git commit -am \"Commit Aonach onto master branch\""
   ]
  },
  {
   "cell_type": "markdown",
   "metadata": {},
   "source": [
    "Then this notation is useful to show the content of what's on what branch:"
   ]
  },
  {
   "cell_type": "code",
   "execution_count": 94,
   "metadata": {
    "collapsed": false
   },
   "outputs": [
    {
     "name": "stdout",
     "output_type": "stream",
     "text": [
      "< d92c3d6 Commit Aonach onto master branch\n",
      "> d80ba89 Add Cadair Idris\n"
     ]
    }
   ],
   "source": [
    "%%bash\n",
    "git log --left-right --oneline master...experiment"
   ]
  },
  {
   "cell_type": "markdown",
   "metadata": {},
   "source": [
    "Three dots means \"everything which is not a common ancestor\" of the two commits, i.e. the differences between them."
   ]
  },
  {
   "cell_type": "markdown",
   "metadata": {},
   "source": [
    "### Merging branches"
   ]
  },
  {
   "cell_type": "markdown",
   "metadata": {},
   "source": [
    "We can merge branches, and just as we would pull in remote changes, there may or may not be conflicts."
   ]
  },
  {
   "cell_type": "code",
   "execution_count": 100,
   "metadata": {
    "collapsed": false
   },
   "outputs": [
    {
     "name": "stdout",
     "output_type": "stream",
     "text": [
      "  experiment\n",
      "* master\n",
      "Already up-to-date.\n"
     ]
    }
   ],
   "source": [
    "%%bash\n",
    "git branch\n",
    "git merge experiment"
   ]
  },
  {
   "cell_type": "code",
   "execution_count": 104,
   "metadata": {
    "collapsed": false
   },
   "outputs": [
    {
     "name": "stdout",
     "output_type": "stream",
     "text": [
      "*   762040e Merge branch 'experiment'\n",
      "|\\  \n",
      "| * d80ba89 Add Cadair Idris\n",
      "* | d92c3d6 Commit Aonach onto master branch\n",
      "|/  \n",
      "* c8ab86a Merge branch 'master' of github.com:UCL/github-example\n",
      "* 6049543 Add another Beacon\n"
     ]
    }
   ],
   "source": [
    "%%bash\n",
    "git log --graph --oneline HEAD~3..HEAD"
   ]
  },
  {
   "cell_type": "markdown",
   "metadata": {},
   "source": [
    "### Cleaning up after a branch"
   ]
  },
  {
   "cell_type": "code",
   "execution_count": 105,
   "metadata": {
    "collapsed": false
   },
   "outputs": [
    {
     "name": "stdout",
     "output_type": "stream",
     "text": [
      "  experiment\n",
      "* master\n"
     ]
    }
   ],
   "source": [
    "%%bash\n",
    "git branch"
   ]
  },
  {
   "cell_type": "code",
   "execution_count": 106,
   "metadata": {
    "collapsed": false
   },
   "outputs": [
    {
     "name": "stdout",
     "output_type": "stream",
     "text": [
      "Deleted branch experiment (was d80ba89).\n"
     ]
    }
   ],
   "source": [
    "%%bash\n",
    "git branch -d experiment"
   ]
  },
  {
   "cell_type": "code",
   "execution_count": 107,
   "metadata": {
    "collapsed": false
   },
   "outputs": [
    {
     "name": "stdout",
     "output_type": "stream",
     "text": [
      "* master\n"
     ]
    }
   ],
   "source": [
    "%%bash\n",
    "git branch"
   ]
  },
  {
   "cell_type": "code",
   "execution_count": 110,
   "metadata": {
    "collapsed": false
   },
   "outputs": [
    {
     "name": "stdout",
     "output_type": "stream",
     "text": [
      "  origin/experiment\n",
      "  origin/master\n"
     ]
    }
   ],
   "source": [
    "%%bash\n",
    "git branch --remote"
   ]
  },
  {
   "cell_type": "code",
   "execution_count": 115,
   "metadata": {
    "collapsed": false
   },
   "outputs": [
    {
     "name": "stderr",
     "output_type": "stream",
     "text": [
      "To git@github.com:UCL/github-example.git\n",
      " - [deleted]         experiment\n"
     ]
    }
   ],
   "source": [
    "%%bash\n",
    "git push --delete origin experiment # Remove remote branch - also can use github interface"
   ]
  },
  {
   "cell_type": "code",
   "execution_count": 117,
   "metadata": {
    "collapsed": false
   },
   "outputs": [
    {
     "name": "stdout",
     "output_type": "stream",
     "text": [
      "  origin/master\n"
     ]
    }
   ],
   "source": [
    "%%bash\n",
    "git branch --remote"
   ]
  },
  {
   "cell_type": "markdown",
   "metadata": {},
   "source": [
    "### A good branch strategy\n",
    "\n",
    "* A `production` branch: code used for active work\n",
    "* A `develop` branch: for general new code\n",
    "* `feature` branches: for specific new ideas\n",
    "* `release` branches: when you share code with others\n",
    "  * Useful for isolated bug fixes"
   ]
  },
  {
   "cell_type": "markdown",
   "metadata": {},
   "source": [
    "### Grab changes from a branch\n",
    "\n",
    "Make some changes on one branch, switch back to another, and use:"
   ]
  },
  {
   "cell_type": "markdown",
   "metadata": {
    "attributes": {
     "classes": [
      " bash"
     ],
     "id": ""
    },
    "collapsed": true
   },
   "source": [
    "```bash\n",
    "git checkout <branch> <path>\n",
    "```"
   ]
  },
  {
   "cell_type": "markdown",
   "metadata": {},
   "source": [
    "To quickly grab a file from one branch into another.\n",
    "\n",
    "Using `git checkout` with a path takes the content of files.\n",
    "To grab the content of a specific *commit* from another branch,\n",
    "and apply it as a patch to your branch, use:"
   ]
  },
  {
   "cell_type": "markdown",
   "metadata": {
    "collapsed": true
   },
   "source": [
    "``` bash\n",
    "git cherry-pick <commit>\n",
    "```"
   ]
  },
  {
   "cell_type": "markdown",
   "metadata": {},
   "source": [
    "## Tagging\n",
    "\n",
    "Tags are easy to read labels for revisions, and can be used anywhere we would name a commit.\n",
    "\n",
    "Produce real results *only* with tagged revisions"
   ]
  },
  {
   "cell_type": "code",
   "execution_count": 120,
   "metadata": {
    "attributes": {
     "classes": [
      " Bash"
     ],
     "id": ""
    },
    "collapsed": false
   },
   "outputs": [
    {
     "name": "stderr",
     "output_type": "stream",
     "text": [
      "To git@github.com:UCL/github-example.git\n",
      " * [new tag]         v1.0 -> v1.0\n"
     ]
    }
   ],
   "source": [
    "%%bash\n",
    "git tag -a v1.0 -m \"Release 1.0\"\n",
    "git push --tags"
   ]
  },
  {
   "cell_type": "code",
   "execution_count": 126,
   "metadata": {
    "collapsed": false
   },
   "outputs": [
    {
     "name": "stdout",
     "output_type": "stream",
     "text": [
      "Writing Pennines.md\n"
     ]
    }
   ],
   "source": [
    "%%writefile Pennines.md\n",
    "\n",
    "Mountains In the Pennines\n",
    "========================\n",
    "\n",
    "* Cross Fell"
   ]
  },
  {
   "cell_type": "code",
   "execution_count": 127,
   "metadata": {
    "collapsed": false
   },
   "outputs": [
    {
     "name": "stdout",
     "output_type": "stream",
     "text": [
      "[master d155c63] Add Pennines\n",
      " 1 file changed, 5 insertions(+)\n",
      " create mode 100644 Pennines.md\n"
     ]
    }
   ],
   "source": [
    "%%bash\n",
    "git add Pennines.md\n",
    "git commit -am \"Add Pennines\""
   ]
  },
  {
   "cell_type": "code",
   "execution_count": 129,
   "metadata": {
    "collapsed": false
   },
   "outputs": [
    {
     "name": "stdout",
     "output_type": "stream",
     "text": [
      "* d155c63 Add Pennines\n"
     ]
    }
   ],
   "source": [
    "%%bash\n",
    "git log v1.0.. --graph --oneline"
   ]
  },
  {
   "cell_type": "markdown",
   "metadata": {},
   "source": [
    "If .. is used without a following commit name, HEAD is assumed."
   ]
  },
  {
   "cell_type": "markdown",
   "metadata": {},
   "source": [
    "## Working with generated files"
   ]
  },
  {
   "cell_type": "markdown",
   "metadata": {},
   "source": [
    "We often end up with files that are generated by our program. It is bad practice to keep these in Git; just keep the sources."
   ]
  },
  {
   "cell_type": "markdown",
   "metadata": {},
   "source": [
    "Examples include `.o` and `.x` files for compiled languages, `.pyc` files in Python."
   ]
  },
  {
   "cell_type": "markdown",
   "metadata": {},
   "source": [
    "In our example, we might want to make our .md files into a PDF with pandoc:"
   ]
  },
  {
   "cell_type": "code",
   "execution_count": 158,
   "metadata": {
    "collapsed": false
   },
   "outputs": [
    {
     "name": "stdout",
     "output_type": "stream",
     "text": [
      "Overwriting Makefile\n"
     ]
    }
   ],
   "source": [
    "%%writefile Makefile\n",
    "\n",
    "MDS=$(wildcard *.md)\n",
    "PDFS=$(MDS:.md=.pdf)\n",
    "\n",
    "default: $(PDFS)\n",
    "\n",
    "%.pdf: %.md\n",
    "\tpandoc $< -o $@"
   ]
  },
  {
   "cell_type": "code",
   "execution_count": 159,
   "metadata": {
    "collapsed": false
   },
   "outputs": [
    {
     "name": "stdout",
     "output_type": "stream",
     "text": [
      "make: Nothing to be done for `default'.\n"
     ]
    }
   ],
   "source": [
    "%%bash\n",
    "make"
   ]
  },
  {
   "cell_type": "markdown",
   "metadata": {},
   "source": [
    "We now have a bunch of output .pdf files corresponding to each Markdown file."
   ]
  },
  {
   "cell_type": "markdown",
   "metadata": {},
   "source": [
    "But we don't want those to show up in git:"
   ]
  },
  {
   "cell_type": "code",
   "execution_count": 160,
   "metadata": {
    "collapsed": false
   },
   "outputs": [
    {
     "name": "stdout",
     "output_type": "stream",
     "text": [
      "On branch master\n",
      "Your branch is ahead of 'origin/master' by 1 commit.\n",
      "  (use \"git push\" to publish your local commits)\n",
      "Untracked files:\n",
      "  (use \"git add <file>...\" to include in what will be committed)\n",
      "\n",
      "\tMakefile\n",
      "\tPennines.pdf\n",
      "\tScotland.pdf\n",
      "\tWales.pdf\n",
      "\tindex.pdf\n",
      "\tlakeland.pdf\n",
      "\n",
      "nothing added to commit but untracked files present (use \"git add\" to track)\n"
     ]
    }
   ],
   "source": [
    "%%bash\n",
    "git status"
   ]
  },
  {
   "cell_type": "markdown",
   "metadata": {},
   "source": [
    "### Gitignore\n",
    "\n",
    "Use .gitignore files to tell Git not to pay attention to files with certain paths:"
   ]
  },
  {
   "cell_type": "code",
   "execution_count": 163,
   "metadata": {
    "collapsed": false
   },
   "outputs": [
    {
     "name": "stdout",
     "output_type": "stream",
     "text": [
      "Overwriting .gitignore\n"
     ]
    }
   ],
   "source": [
    "%%writefile .gitignore\n",
    "*.pdf"
   ]
  },
  {
   "cell_type": "code",
   "execution_count": 164,
   "metadata": {
    "collapsed": false
   },
   "outputs": [
    {
     "name": "stdout",
     "output_type": "stream",
     "text": [
      "On branch master\n",
      "Your branch is ahead of 'origin/master' by 1 commit.\n",
      "  (use \"git push\" to publish your local commits)\n",
      "Untracked files:\n",
      "  (use \"git add <file>...\" to include in what will be committed)\n",
      "\n",
      "\t.gitignore\n",
      "\tMakefile\n",
      "\n",
      "nothing added to commit but untracked files present (use \"git add\" to track)\n"
     ]
    }
   ],
   "source": [
    "%%bash\n",
    "git status"
   ]
  },
  {
   "cell_type": "code",
   "execution_count": 167,
   "metadata": {
    "collapsed": false
   },
   "outputs": [
    {
     "name": "stdout",
     "output_type": "stream",
     "text": [
      "[master 296f14c] Add a makefile and ignore generated files\n",
      " 2 files changed, 9 insertions(+)\n",
      " create mode 100644 .gitignore\n",
      " create mode 100644 Makefile\n"
     ]
    }
   ],
   "source": [
    "%%bash\n",
    "git add Makefile\n",
    "git add .gitignore\n",
    "git commit -am \"Add a makefile and ignore generated files\"\n",
    "git push"
   ]
  },
  {
   "cell_type": "markdown",
   "metadata": {},
   "source": [
    "### Git clean"
   ]
  },
  {
   "cell_type": "code",
   "execution_count": 173,
   "metadata": {
    "collapsed": true
   },
   "outputs": [],
   "source": [
    "%%bash\n",
    "git clean -fX"
   ]
  },
  {
   "cell_type": "code",
   "execution_count": 174,
   "metadata": {
    "collapsed": false
   },
   "outputs": [
    {
     "name": "stdout",
     "output_type": "stream",
     "text": [
      "Makefile\n",
      "Pennines.md\n",
      "Scotland.md\n",
      "Wales.md\n",
      "index.md\n",
      "lakeland.md\n"
     ]
    }
   ],
   "source": [
    "%%bash\n",
    "ls"
   ]
  },
  {
   "cell_type": "markdown",
   "metadata": {},
   "source": [
    "* With -f: don't prompt\n",
    "* with -d: remove directories\n",
    "* with -x: Also remote .gitignored files\n",
    "* with -X: Only remove .gitignore files"
   ]
  },
  {
   "cell_type": "markdown",
   "metadata": {},
   "source": [
    "## Working with multiple remotes\n",
    "\n",
    "### Distributed versus centralised\n",
    "\n",
    "Older version control systems (cvs, svn) were \"centralised\"; the history was kept only on a server,\n",
    "and all commits required an internet.\n",
    "\n",
    "Centralised                    |  Distributed\n",
    "-------------------------------|--------------------------\n",
    "Server has history             |Every user has full history\n",
    "Your computer has one snapshot |  Many local branches\n",
    "To access history, need internet| History always available\n",
    "You commit to remote server     | Users synchronise histories\n",
    "cvs, subversion(svn)            | git, mercurial (hg), bazaar (bzr)"
   ]
  },
  {
   "cell_type": "markdown",
   "metadata": {},
   "source": [
    "With modern distributed systems, we can add a second remote. This might be a personal *fork* on github:"
   ]
  },
  {
   "cell_type": "code",
   "execution_count": 179,
   "metadata": {
    "attributes": {
     "classes": [
      " Bash"
     ],
     "id": ""
    },
    "collapsed": false
   },
   "outputs": [
    {
     "name": "stdout",
     "output_type": "stream",
     "text": [
      "jamespjh\tgit@github.com:jamespjh/github-example.git (fetch)\n",
      "jamespjh\tgit@github.com:jamespjh/github-example.git (push)\n",
      "origin\tgit@github.com:UCL/github-example.git (fetch)\n",
      "origin\tgit@github.com:UCL/github-example.git (push)\n"
     ]
    },
    {
     "name": "stderr",
     "output_type": "stream",
     "text": [
      "fatal: remote jamespjh already exists.\n"
     ]
    }
   ],
   "source": [
    "%%bash\n",
    "git remote add jamespjh git@github.com:jamespjh/github-example.git\n",
    "git remote -v"
   ]
  },
  {
   "cell_type": "markdown",
   "metadata": {},
   "source": [
    "We can push to a named remote:"
   ]
  },
  {
   "cell_type": "code",
   "execution_count": 180,
   "metadata": {
    "collapsed": false
   },
   "outputs": [
    {
     "name": "stdout",
     "output_type": "stream",
     "text": [
      "Overwriting Pennines.md\n"
     ]
    }
   ],
   "source": [
    "%%writefile Pennines.md\n",
    "\n",
    "Mountains In the Pennines\n",
    "========================\n",
    "\n",
    "* Cross Fell\n",
    "* Whernside"
   ]
  },
  {
   "cell_type": "code",
   "execution_count": 181,
   "metadata": {
    "collapsed": false
   },
   "outputs": [
    {
     "name": "stdout",
     "output_type": "stream",
     "text": [
      "[master 5e25fe8] Add Whernside\n",
      " 1 file changed, 2 insertions(+), 1 deletion(-)\n"
     ]
    }
   ],
   "source": [
    "%%bash\n",
    "git commit -am \"Add Whernside\""
   ]
  },
  {
   "cell_type": "code",
   "execution_count": 182,
   "metadata": {
    "collapsed": false
   },
   "outputs": [
    {
     "name": "stderr",
     "output_type": "stream",
     "text": [
      "To git@github.com:jamespjh/github-example.git\n",
      "   762040e..5e25fe8  master -> master\n"
     ]
    }
   ],
   "source": [
    "%%bash\n",
    "git push jamespjh"
   ]
  },
  {
   "cell_type": "markdown",
   "metadata": {},
   "source": [
    "### Referencing remotes\n",
    "\n",
    "You can always refer to commits on a remote like this:"
   ]
  },
  {
   "cell_type": "code",
   "execution_count": 187,
   "metadata": {
    "collapsed": false
   },
   "outputs": [
    {
     "name": "stdout",
     "output_type": "stream",
     "text": [
      "< 5e25fe8 Add Whernside\n",
      "< 296f14c Add a makefile and ignore generated files\n",
      "< d155c63 Add Pennines\n"
     ]
    }
   ],
   "source": [
    "%%bash\n",
    "git fetch\n",
    "git log --oneline --left-right jamespjh/master...origin/master"
   ]
  },
  {
   "cell_type": "markdown",
   "metadata": {},
   "source": [
    "To see the differences between remotes, for example.\n",
    "\n",
    "To see what files you have changed that aren't updated on a particular remote, for example:"
   ]
  },
  {
   "cell_type": "code",
   "execution_count": 190,
   "metadata": {
    "collapsed": false
   },
   "outputs": [
    {
     "name": "stdout",
     "output_type": "stream",
     "text": [
      ".gitignore\n",
      "Makefile\n",
      "Pennines.md\n"
     ]
    }
   ],
   "source": [
    "%%bash\n",
    "git diff --name-only origin/master"
   ]
  },
  {
   "cell_type": "markdown",
   "metadata": {},
   "source": [
    "When you reference remotes like this, you're working with a cached copy of the last time you interacted with the remote. You can do `git fetch` to update local data with the remotes without actually pulling. You can also get useful information about whether tracking branches are ahead or behind the remote breanches they track:"
   ]
  },
  {
   "cell_type": "code",
   "execution_count": 193,
   "metadata": {
    "collapsed": false
   },
   "outputs": [
    {
     "name": "stdout",
     "output_type": "stream",
     "text": [
      "* master 5e25fe8 [origin/master: ahead 3] Add Whernside\n"
     ]
    }
   ],
   "source": [
    "%%bash\n",
    "git branch -vv"
   ]
  },
  {
   "cell_type": "markdown",
   "metadata": {},
   "source": [
    "## Hosting Servers\n",
    "\n",
    "### Hosting a local server\n",
    "\n",
    "* Any repository can be a remote for pulls\n",
    "* Can pull/push over shared folders or ssh\n",
    "* Pushing to someone's working copy is dangerous\n",
    "* Use `git init --bare` to make a copy for pushing\n",
    "* You don't need to create a \"server\" as such, any 'bare' git repo will do."
   ]
  },
  {
   "cell_type": "code",
   "execution_count": 197,
   "metadata": {
    "collapsed": false
   },
   "outputs": [],
   "source": [
    "bare_dir=os.path.join(git_dir, 'bare_repo')\n",
    "os.chdir(git_dir)"
   ]
  },
  {
   "cell_type": "code",
   "execution_count": 198,
   "metadata": {
    "collapsed": false
   },
   "outputs": [
    {
     "name": "stdout",
     "output_type": "stream",
     "text": [
      "Initialized empty Git repository in /Users/jamespjh/devel/rsdt/rsd-engineeringcourse/ch02git/learning_git/bare_repo/\n"
     ]
    }
   ],
   "source": [
    "%%bash\n",
    "mkdir -p bare_repo\n",
    "cd bare_repo\n",
    "git init --bare"
   ]
  },
  {
   "cell_type": "code",
   "execution_count": 199,
   "metadata": {
    "collapsed": true
   },
   "outputs": [],
   "source": [
    "os.chdir(working_dir)"
   ]
  },
  {
   "cell_type": "code",
   "execution_count": 201,
   "metadata": {
    "collapsed": false
   },
   "outputs": [
    {
     "name": "stderr",
     "output_type": "stream",
     "text": [
      "fatal: remote local_bare already exists.\n",
      "To ../bare_repo\n",
      " * [new branch]      master -> master\n"
     ]
    }
   ],
   "source": [
    "%%bash\n",
    "git remote add local_bare ../bare_repo\n",
    "git push local_bare"
   ]
  },
  {
   "cell_type": "code",
   "execution_count": 205,
   "metadata": {
    "collapsed": false
   },
   "outputs": [
    {
     "name": "stdout",
     "output_type": "stream",
     "text": [
      "jamespjh\tgit@github.com:jamespjh/github-example.git (fetch)\n",
      "jamespjh\tgit@github.com:jamespjh/github-example.git (push)\n",
      "local_bare\t../bare_repo (fetch)\n",
      "local_bare\t../bare_repo (push)\n",
      "origin\tgit@github.com:UCL/github-example.git (fetch)\n",
      "origin\tgit@github.com:UCL/github-example.git (push)\n"
     ]
    }
   ],
   "source": [
    "%%bash\n",
    "git remote -v"
   ]
  },
  {
   "cell_type": "markdown",
   "metadata": {},
   "source": [
    "You can now work with this local repository, just as with any other git server.\n",
    "If you have a colleague on a shared file system, you can use this approach to collaborate through that file system."
   ]
  },
  {
   "cell_type": "markdown",
   "metadata": {},
   "source": [
    "### Home-made SSH servers\n",
    "\n",
    "Classroom exercise: Try creating a server for yourself using a machine you can SSH to:"
   ]
  },
  {
   "cell_type": "markdown",
   "metadata": {
    "collapsed": true
   },
   "source": [
    "``` bash\n",
    "ssh <mymachine>\n",
    "mkdir mygitserver\n",
    "cd mygitserver\n",
    "git init --bare\n",
    "exit\n",
    "git remote add <somename> ssh://user@host/mygitserver\n",
    "git push -u <somename> master\n",
    "```"
   ]
  },
  {
   "cell_type": "markdown",
   "metadata": {},
   "source": [
    "## Hunks\n",
    "\n",
    "### Git Hunks\n",
    "\n",
    "A \"Hunk\" is one git change. This changeset has three hunks:"
   ]
  },
  {
   "cell_type": "markdown",
   "metadata": {
    "attributes": {
     "classes": [
      " diff"
     ],
     "id": ""
    },
    "collapsed": true
   },
   "source": [
    "```python\n",
    "+import matplotlib\n",
    "+import numpy as np\n",
    "\n",
    " from matplotlib import pylab\n",
    " from matplotlib.backends.backend_pdf import PdfPages\n",
    "\n",
    "+def increment_or_add(key,hash,weight=1):\n",
    "+       if key not in hash:\n",
    "+               hash[key]=0\n",
    "+       hash[key]+=weight\n",
    "+\n",
    " data_path=os.path.join(os.path.dirname(\n",
    "                        os.path.abspath(__file__)),\n",
    "-regenerate=False\n",
    "+regenerate=True\n",
    "```"
   ]
  },
  {
   "cell_type": "markdown",
   "metadata": {},
   "source": [
    "### Interactive add\n",
    "\n",
    "`git add` and `git reset` can be used to stage/unstage a whole file,\n",
    "but you can use interactive mode to stage by hunk, choosing\n",
    "yes or no for each hunk."
   ]
  },
  {
   "cell_type": "markdown",
   "metadata": {
    "collapsed": true
   },
   "source": [
    "``` bash\n",
    "git add -p myfile.py\n",
    "```"
   ]
  },
  {
   "cell_type": "markdown",
   "metadata": {
    "attributes": {
     "classes": [
      " diff"
     ],
     "id": ""
    },
    "collapsed": true
   },
   "source": [
    "``` python\n",
    "+import matplotlib\n",
    "+import numpy as np\n",
    "#Stage this hunk [y,n,a,d,/,j,J,g,e,?]?\n",
    "```"
   ]
  },
  {
   "cell_type": "markdown",
   "metadata": {},
   "source": [
    "## SSH keys and GitHub\n",
    "\n",
    "Classroom exercise: If you haven't already, you should set things up so that you don't have to keep typing in your\n",
    "password whenever you interact with GitHub via the command line.\n",
    "\n",
    "You can do this with an \"ssh keypair\". You may have created a keypair in the\n",
    "Software Carpentry shell training. Go to the [ssh settings\n",
    "page](https://github.com/settings/ssh) on GitHub and upload your public key by\n",
    "copying the content from your computer. (Probably at .ssh/id_rsa.pub)\n",
    "\n",
    "If you have difficulties, the instructions for this are [on the GitHub\n",
    "website](https://help.github.com/articles/generating-ssh-keys). \n",
    "\n",
    "## Rebasing\n",
    "\n",
    "### Rebase vs merge\n",
    "\n",
    "A git *merge* is only one of two ways to get someone else's work into yours.\n",
    "The other is called a rebase.\n",
    "\n",
    "In a merge, a revision is added, which brings the branches together. Both histories are retained.\n",
    "In a rebase, git tries to work out\n",
    "\n",
    "> What would you need to have done, to make your changes, if your colleague had already made theirs?\n",
    "\n",
    "Git will invent some new revisions, and the result will be a repository with an apparently linear history.\n",
    "\n",
    "### An example rebase\n",
    "\n",
    "We've built a repository to help visualise the difference between a merge and a rebase, at https://github.com/UCL-RITS/wocky_rebase/blob/master/wocky.md ."
   ]
  },
  {
   "cell_type": "markdown",
   "metadata": {},
   "source": [
    "The initial state of both collaborators is a text file, wocky.md:\n",
    "\n",
    "```\n",
    "It was clear and cold,\n",
    "and the slimy monsters\n",
    "```"
   ]
  },
  {
   "cell_type": "markdown",
   "metadata": {
    "collapsed": true
   },
   "source": [
    "On the master branch, a second commit ('Dancing') has been added:"
   ]
  },
  {
   "cell_type": "markdown",
   "metadata": {},
   "source": [
    "```\n",
    "It was clear and cold,\n",
    "and the slimy monsters\n",
    "danced and spun in the waves\n",
    "```"
   ]
  },
  {
   "cell_type": "markdown",
   "metadata": {},
   "source": [
    "On the \"Carollian\" branch, a commit has been added translating the initial state into Lewis Caroll's language:\n",
    "\n",
    "```\n",
    "'Twas brillig,\n",
    "and the slithy toves\n",
    "```"
   ]
  },
  {
   "cell_type": "markdown",
   "metadata": {
    "collapsed": true
   },
   "source": [
    "So the logs look like this:"
   ]
  },
  {
   "cell_type": "markdown",
   "metadata": {},
   "source": [
    "```bash\n",
    "git log --oneline --graph master\n",
    "```\n",
    "\n",
    "```\n",
    "* 2a74d89 Dancing\n",
    "* 6a4834d Initial state\n",
    "```\n",
    "\n",
    "```bash\n",
    "git log --oneline --graph carollian\n",
    "```\n",
    "\n",
    "```\n",
    "* 2232bf3 Translate into Caroll's language\n",
    "* 6a4834d Initial state\n",
    "```"
   ]
  },
  {
   "cell_type": "markdown",
   "metadata": {},
   "source": [
    "If we now **merge** carollian into master, the final state will include both changes:"
   ]
  },
  {
   "cell_type": "markdown",
   "metadata": {
    "collapsed": true
   },
   "source": [
    "```\n",
    "'Twas brillig,\n",
    "and the slithy toves\n",
    "danced and spun in the waves\n",
    "```\n"
   ]
  },
  {
   "cell_type": "markdown",
   "metadata": {},
   "source": [
    "But the graph shows a divergence and then a convergence:"
   ]
  },
  {
   "cell_type": "markdown",
   "metadata": {
    "collapsed": true
   },
   "source": [
    "```\n",
    "git log --oneline --graph\n",
    "```\n",
    "\n",
    "```\n",
    "*   b41f869 Merge branch 'carollian' into master_merge_carollian\n",
    "|\\\n",
    "| * 2232bf3 Translate into Caroll's language\n",
    "* | 2a74d89 Dancing\n",
    "|/\n",
    "* 6a4834d Initial state\n",
    "```"
   ]
  },
  {
   "cell_type": "markdown",
   "metadata": {},
   "source": [
    "But if we **rebase**, the final content of the file is still the same, but the graph is different:"
   ]
  },
  {
   "cell_type": "markdown",
   "metadata": {},
   "source": [
    "``` bash\n",
    "git log --oneline --graph master_rebase_carollian\n",
    "```\n",
    "\n",
    "```\n",
    "* df618e0 Dancing\n",
    "* 2232bf3 Translate into Caroll's language\n",
    "* 6a4834d Initial state\n",
    "```"
   ]
  },
  {
   "cell_type": "markdown",
   "metadata": {},
   "source": [
    "To trigger the rebase, we did:\n",
    "    \n",
    "``` bash\n",
    "git checkout master\n",
    "git rebase carollian\n",
    "```\n",
    "\n",
    "If this had been a remote, we would merge it with:\n",
    "    \n",
    "``` bash\n",
    "git pull --rebase\n",
    "```"
   ]
  },
  {
   "cell_type": "markdown",
   "metadata": {},
   "source": [
    "### Fast Forwards\n",
    "\n",
    "If we want to continue with the translation, and now want to merge the rebased branch into the carollian branch, \n",
    "we get:\n",
    "\n",
    "``` bash\n",
    "Updating 2232bf3..df618e0\n",
    "Fast-forward\n",
    " wocky.md | 1 +\n",
    " 1 file changed, 1 insertion(+)\n",
    "```\n",
    "\n",
    "The rebased branch was **rebased on** the carollian branch, so this merge was just a question of updating *metadata*\n",
    "to redefine the branch label: a \"fast forward\".\n",
    "\n",
    "### Rebasing pros and cons\n",
    "\n",
    "Some people like the clean, apparently linear history that rebase provides.\n",
    "\n",
    "But *rebase rewrites history*.\n",
    "\n",
    "If you've already pushed, or anyone else has got your changes, things will get screwed up.\n",
    "\n",
    "If you know your changes are still secret, it might be better to rebase to keep the history clean.\n",
    "If in doubt, just merge.\n",
    "\n",
    "## Squashing\n",
    "\n",
    "A second use of the `git rebase` command, is to rebase your work on top of one of *your own* earlier commits,\n",
    "in interactive mode, to \"squash\" several commits that should really be one:"
   ]
  },
  {
   "cell_type": "markdown",
   "metadata": {
    "attributes": {
     "classes": [
      " bash"
     ],
     "id": ""
    },
    "collapsed": true
   },
   "source": [
    "``` bash\n",
    "git log\n",
    "```\n",
    "\n",
    "```\n",
    "ea15 Some good work\n",
    "ll54 Fix another typo\n",
    "de73 Fix a typo\n",
    "ab11 A great piece of work\n",
    "cd27 Initial commit\n",
    "```"
   ]
  },
  {
   "cell_type": "markdown",
   "metadata": {},
   "source": [
    "### Using rebase to squash"
   ]
  },
  {
   "cell_type": "markdown",
   "metadata": {
    "attributes": {
     "classes": [
      " bash"
     ],
     "id": ""
    },
    "collapsed": true
   },
   "source": [
    "If we type \n",
    "\n",
    "``` bash\n",
    "git rebase -i ab11 #OR HEAD^^\n",
    "```\n",
    "\n",
    "an edit window pops up with:"
   ]
  },
  {
   "cell_type": "markdown",
   "metadata": {
    "collapsed": true
   },
   "source": [
    "```\n",
    "pick cd27 Initial commit\n",
    "pick ab11 A great piece of work\n",
    "pick de73 Fix a typo\n",
    "pick ll54 Fix another typo\n",
    "pick ea15 Some good work\n",
    "\n",
    "# Rebase 60709da..30e0ccb onto 60709da\n",
    "#\n",
    "# Commands:\n",
    "#  p, pick = use commit\n",
    "#  e, edit = use commit, but stop for amending\n",
    "#  s, squash = use commit, but meld into previous commit\n",
    "```"
   ]
  },
  {
   "cell_type": "markdown",
   "metadata": {},
   "source": [
    "We can rewrite select commits to be merged, so that the history is neater before we push.\n",
    "This is a great idea if you have lots of trivial typo commits."
   ]
  },
  {
   "cell_type": "markdown",
   "metadata": {},
   "source": [
    "```\n",
    "pick cd27 Initial commit\n",
    "pick ab11 A great piece of work\n",
    "squash de73 Fix a typo\n",
    "squash ll54 Fix another typo\n",
    "pick ea15 Some good work\n",
    "```\n",
    "\n",
    "save the interactive rebase config file, and rebase will build a new history:\n",
    "\n",
    "``` bash\n",
    "git log\n",
    "```\n",
    "\n",
    "```\n",
    "de82 Some good work\n",
    "fc52 A great piece of work\n",
    "cd27 Initial commit\n",
    "```"
   ]
  },
  {
   "cell_type": "markdown",
   "metadata": {},
   "source": [
    "Note the commit hash codes for 'Some good work' and 'A great piece of work' have changed, \n",
    "as the change they represent has changed."
   ]
  },
  {
   "cell_type": "markdown",
   "metadata": {},
   "source": [
    "## Debugging\n",
    "\n",
    "### Debugging With Git Bisect\n",
    "\n",
    "You can use\n",
    "\n",
    "``` bash\n",
    "git bisect\n",
    "```\n",
    "\n",
    "to find out which commit caused a bug."
   ]
  },
  {
   "cell_type": "markdown",
   "metadata": {},
   "source": [
    "Automated Bisect"
   ]
  },
  {
   "cell_type": "code",
   "execution_count": null,
   "metadata": {
    "collapsed": true
   },
   "outputs": [],
   "source": [
    "git bisect run py.test"
   ]
  },
  {
   "cell_type": "markdown",
   "metadata": {},
   "source": [
    "### An example repository\n",
    "\n",
    "In a nice open source example, I found an arbitrary exemplar on github"
   ]
  },
  {
   "cell_type": "code",
   "execution_count": 231,
   "metadata": {
    "collapsed": true
   },
   "outputs": [],
   "source": [
    "os.chdir(git_dir)"
   ]
  },
  {
   "cell_type": "code",
   "execution_count": 232,
   "metadata": {
    "collapsed": false
   },
   "outputs": [
    {
     "name": "stderr",
     "output_type": "stream",
     "text": [
      "Cloning into 'bisectdemo'...\n"
     ]
    }
   ],
   "source": [
    "%%bash\n",
    "rm -rf bisectdemo\n",
    "git clone git@github.com:shawnsi/bisectdemo.git"
   ]
  },
  {
   "cell_type": "code",
   "execution_count": 233,
   "metadata": {
    "collapsed": true
   },
   "outputs": [],
   "source": [
    "bisect_dir=os.path.join(git_dir,'bisectdemo')\n",
    "os.chdir(bisect_dir)"
   ]
  },
  {
   "cell_type": "code",
   "execution_count": 234,
   "metadata": {
    "attributes": {
     "classes": [
      " bash"
     ],
     "id": ""
    },
    "collapsed": false
   },
   "outputs": [
    {
     "name": "stdout",
     "output_type": "stream",
     "text": [
      "4\n"
     ]
    }
   ],
   "source": [
    "%%bash\n",
    "python squares.py 2 # 4"
   ]
  },
  {
   "cell_type": "markdown",
   "metadata": {},
   "source": [
    "This has been set up to break itself at a random commit, and leave you to use\n",
    "bisect to work out where it has broken:"
   ]
  },
  {
   "cell_type": "code",
   "execution_count": 235,
   "metadata": {
    "attributes": {
     "classes": [
      " bash"
     ],
     "id": ""
    },
    "collapsed": false
   },
   "outputs": [
    {
     "name": "stderr",
     "output_type": "stream",
     "text": [
      "error: branch 'buggy' not found.\n",
      "Switched to a new branch 'buggy'\n"
     ]
    }
   ],
   "source": [
    "%%bash \n",
    "./breakme.sh > break_output"
   ]
  },
  {
   "cell_type": "markdown",
   "metadata": {},
   "source": [
    "Which will make a bunch of commits, of which one is broken, and leave you in the broken final state"
   ]
  },
  {
   "cell_type": "code",
   "execution_count": 236,
   "metadata": {
    "collapsed": false
   },
   "outputs": [
    {
     "ename": "SyntaxError",
     "evalue": "invalid syntax (<ipython-input-236-69f578907137>, line 1)",
     "output_type": "error",
     "traceback": [
      "\u001b[0;36m  File \u001b[0;32m\"<ipython-input-236-69f578907137>\"\u001b[0;36m, line \u001b[0;32m1\u001b[0m\n\u001b[0;31m    python squares.py 2 # Error message\u001b[0m\n\u001b[0m                 ^\u001b[0m\n\u001b[0;31mSyntaxError\u001b[0m\u001b[0;31m:\u001b[0m invalid syntax\n"
     ]
    }
   ],
   "source": [
    "python squares.py 2 # Error message"
   ]
  },
  {
   "cell_type": "code",
   "execution_count": 241,
   "metadata": {
    "collapsed": true
   },
   "outputs": [],
   "source": [
    "### Bisecting manually"
   ]
  },
  {
   "cell_type": "code",
   "execution_count": 237,
   "metadata": {
    "attributes": {
     "classes": [
      " bash"
     ],
     "id": ""
    },
    "collapsed": false
   },
   "outputs": [
    {
     "name": "stdout",
     "output_type": "stream",
     "text": [
      "Your branch is up-to-date with 'origin/master'.\n",
      "Bisecting: 500 revisions left to test after this (roughly 9 steps)\n",
      "[97b8922da658f4adbe0e8d1262062d171e2f1683] Comment 500\n"
     ]
    },
    {
     "name": "stderr",
     "output_type": "stream",
     "text": [
      "Switched to branch 'master'\n"
     ]
    }
   ],
   "source": [
    "%%bash\n",
    "git bisect start\n",
    "git bisect bad # We know the current state is broken\n",
    "git checkout master\n",
    "git bisect good # We know the master branch state is OK"
   ]
  },
  {
   "cell_type": "markdown",
   "metadata": {},
   "source": [
    "Bisect needs one known good and one known bad commit to get started"
   ]
  },
  {
   "cell_type": "markdown",
   "metadata": {},
   "source": [
    "### Solving Manually"
   ]
  },
  {
   "cell_type": "markdown",
   "metadata": {
    "attributes": {
     "classes": [
      " bash"
     ],
     "id": ""
    },
    "collapsed": true
   },
   "source": [
    "``` bash\n",
    "python squares.py 2 # 4\n",
    "git bisect good\n",
    "python squares.py 2 # 4\n",
    "git bisect good\n",
    "python squares.py 2 # 4\n",
    "git bisect good\n",
    "python squares.py 2 # Crash\n",
    "git bisect bad\n",
    "python squares.py 2 # Crash\n",
    "git bisect bad\n",
    "python squares.py 2 # Crash\n",
    "git bisect bad\n",
    "python squares.py 2 #Crash\n",
    "git bisect bad\n",
    "python squares.py 2 # 4\n",
    "git bisect good\n",
    "python squares.py 2 # 4\n",
    "git bisect good\n",
    "python squares.py 2 # 4\n",
    "git bisect good\n",
    "```\n"
   ]
  },
  {
   "cell_type": "markdown",
   "metadata": {},
   "source": [
    "And eventually:"
   ]
  },
  {
   "cell_type": "markdown",
   "metadata": {
    "attributes": {
     "classes": [
      " bash"
     ],
     "id": ""
    },
    "collapsed": true
   },
   "source": [
    "``` bash\n",
    "git bisect good\n",
    "    Bisecting: 0 revisions left to test after this (roughly 0 steps)\n",
    "\n",
    "python squares.py 2\n",
    "    4\n",
    "\n",
    "git bisect good\n",
    "2777975a2334c2396ccb9faf98ab149824ec465b is the first bad commit\n",
    "commit 2777975a2334c2396ccb9faf98ab149824ec465b\n",
    "Author: Shawn Siefkas <shawn.siefkas@meredith.com>\n",
    "Date:   Thu Nov 14 09:23:55 2013 -0600\n",
    "\n",
    "    Breaking argument type\n",
    "\n",
    "```"
   ]
  },
  {
   "cell_type": "markdown",
   "metadata": {},
   "source": [
    "``` bash\n",
    "git bisect end\n",
    "```"
   ]
  },
  {
   "cell_type": "markdown",
   "metadata": {},
   "source": [
    "### Solving automatically\n",
    "\n",
    "If we have an appropriate unit test, we can do all this automatically:"
   ]
  },
  {
   "cell_type": "code",
   "execution_count": 242,
   "metadata": {
    "attributes": {
     "classes": [
      " bash"
     ],
     "id": ""
    },
    "collapsed": false
   },
   "outputs": [
    {
     "name": "stdout",
     "output_type": "stream",
     "text": [
      "Bisecting: 500 revisions left to test after this (roughly 9 steps)\n",
      "[97b8922da658f4adbe0e8d1262062d171e2f1683] Comment 500\n",
      "running python squares.py 2\n",
      "4\n",
      "Bisecting: 250 revisions left to test after this (roughly 8 steps)\n",
      "[f10ce756d4cce15135566ecfc2c5d85004ab191f] Comment 750\n",
      "running python squares.py 2\n",
      "4\n",
      "Bisecting: 125 revisions left to test after this (roughly 7 steps)\n",
      "[ec9e48e76383217dc2dd5dd8bb11ac3825e473f5] Comment 875\n",
      "running python squares.py 2\n",
      "4\n",
      "Bisecting: 62 revisions left to test after this (roughly 6 steps)\n",
      "[3c1afca389c1cbb2cf7bfea3afc04accf17265e5] Comment 937\n",
      "running python squares.py 2\n",
      "Bisecting: 31 revisions left to test after this (roughly 5 steps)\n",
      "[13dae55a5d37c6bbe477f555e7c829607e1dbbe9] Comment 905\n",
      "running python squares.py 2\n",
      "Bisecting: 15 revisions left to test after this (roughly 4 steps)\n",
      "[76dd89679d416901181e1c70dcf8b674f3c72f2e] Comment 889\n",
      "running python squares.py 2\n",
      "Bisecting: 7 revisions left to test after this (roughly 3 steps)\n",
      "[2777975a2334c2396ccb9faf98ab149824ec465b] Breaking argument type\n",
      "running python squares.py 2\n",
      "Bisecting: 3 revisions left to test after this (roughly 2 steps)\n",
      "[def28971d6869493b7ec852fdc46a489f9143c79] Comment 878\n",
      "running python squares.py 2\n",
      "4\n",
      "Bisecting: 1 revision left to test after this (roughly 1 step)\n",
      "[2c1ff770d780244b592cbf8f785c217b6bc72f10] Comment 880\n",
      "running python squares.py 2\n",
      "4\n",
      "Bisecting: 0 revisions left to test after this (roughly 0 steps)\n",
      "[6f8bb2c1bb9380e56913e4b228d937187c143ee0] Comment 881\n",
      "running python squares.py 2\n",
      "4\n",
      "2777975a2334c2396ccb9faf98ab149824ec465b is the first bad commit\n",
      "commit 2777975a2334c2396ccb9faf98ab149824ec465b\n",
      "Author: Shawn Siefkas <shawn.siefkas@meredith.com>\n",
      "Date:   Thu Nov 14 09:23:55 2013 -0600\n",
      "\n",
      "    Breaking argument type\n",
      "\n",
      ":100644 100644 e34d51ffe9990230f689944bc812e31f9853d992 3ddd627b9b62f95f80ba18701f4c69d6a7f50e43 M\tsquares.py\n",
      "bisect run success\n"
     ]
    },
    {
     "name": "stderr",
     "output_type": "stream",
     "text": [
      "Traceback (most recent call last):\n",
      "  File \"squares.py\", line 9, in <module>\n",
      "    print(integer**2)\n",
      "TypeError: unsupported operand type(s) for ** or pow(): 'str' and 'int'\n",
      "Traceback (most recent call last):\n",
      "  File \"squares.py\", line 9, in <module>\n",
      "    print(integer**2)\n",
      "TypeError: unsupported operand type(s) for ** or pow(): 'str' and 'int'\n",
      "Traceback (most recent call last):\n",
      "  File \"squares.py\", line 9, in <module>\n",
      "    print(integer**2)\n",
      "TypeError: unsupported operand type(s) for ** or pow(): 'str' and 'int'\n",
      "Traceback (most recent call last):\n",
      "  File \"squares.py\", line 9, in <module>\n",
      "    print(integer**2)\n",
      "TypeError: unsupported operand type(s) for ** or pow(): 'str' and 'int'\n"
     ]
    }
   ],
   "source": [
    "%%bash\n",
    "git bisect start\n",
    "git bisect bad HEAD # We know the current state is broken\n",
    "git bisect good master # We know master is good\n",
    "git bisect run python squares.py 2"
   ]
  },
  {
   "cell_type": "markdown",
   "metadata": {},
   "source": [
    "Boom!"
   ]
  },
  {
   "cell_type": "markdown",
   "metadata": {},
   "source": [
    "## GitHub pages\n",
    "\n",
    "### Yaml Frontmatter\n",
    "\n",
    "GitHub will publish repositories containing markdown as web pages, automatically. \n",
    "\n",
    "You'll need to add this content:\n",
    "\n",
    "> ```\n",
    ">    ---\n",
    ">    ---\n",
    "> ```\n",
    "\n",
    "A pair of lines with three dashes, to the top of each markdown file. This is how GitHub knows which markdown files to make into web pages.\n",
    "[Here's why](https://github.com/mojombo/jekyll/wiki/YAML-Front-Matter) for the curious. "
   ]
  },
  {
   "cell_type": "code",
   "execution_count": 247,
   "metadata": {
    "collapsed": false
   },
   "outputs": [
    {
     "name": "stdout",
     "output_type": "stream",
     "text": [
      "Overwriting index.md\n"
     ]
    }
   ],
   "source": [
    "%%writefile index.md\n",
    "---\n",
    "title: Github Pages Example\n",
    "---\n",
    "Mountains and Lakes in the UK\n",
    "===================\n",
    "\n",
    "Engerland is not very mountainous.\n",
    "But has some tall hills, and maybe a mountain or two depending on your definition."
   ]
  },
  {
   "cell_type": "code",
   "execution_count": 248,
   "metadata": {
    "collapsed": false
   },
   "outputs": [
    {
     "name": "stdout",
     "output_type": "stream",
     "text": [
      "[gh-pages a37f445] Add github pages YAML frontmatter\n",
      " 1 file changed, 6 insertions(+), 2 deletions(-)\n"
     ]
    }
   ],
   "source": [
    "%%bash\n",
    "git commit -am \"Add github pages YAML frontmatter\""
   ]
  },
  {
   "cell_type": "markdown",
   "metadata": {},
   "source": [
    "### The gh-pages branch\n",
    "\n",
    "GitHub creates github pages when you use a special named branch.\n",
    "\n",
    "This is best used to create documentation for a program you write, but you can use it for anything."
   ]
  },
  {
   "cell_type": "code",
   "execution_count": 249,
   "metadata": {
    "collapsed": false
   },
   "outputs": [],
   "source": [
    "os.chdir(working_dir)"
   ]
  },
  {
   "cell_type": "code",
   "execution_count": 250,
   "metadata": {
    "attributes": {
     "classes": [
      " Bash"
     ],
     "id": ""
    },
    "collapsed": false
   },
   "outputs": [
    {
     "name": "stdout",
     "output_type": "stream",
     "text": [
      "Branch gh-pages set up to track remote branch gh-pages from origin.\n"
     ]
    },
    {
     "name": "stderr",
     "output_type": "stream",
     "text": [
      "fatal: A branch named 'gh-pages' already exists.\n",
      "To git@github.com:UCL/github-example.git\n",
      "   5e25fe8..a37f445  gh-pages -> gh-pages\n"
     ]
    }
   ],
   "source": [
    "%%bash\n",
    "\n",
    "git checkout -b gh-pages\n",
    "git push -u origin gh-pages"
   ]
  },
  {
   "cell_type": "markdown",
   "metadata": {},
   "source": [
    "The first time you do this, GitHub takes a few minutes to generate your pages. \n",
    "\n",
    "The website will appear at `http://username.github.io/repositoryname`, for example:\n",
    "\n",
    "http://UCL.github.io/github-example/"
   ]
  },
  {
   "cell_type": "markdown",
   "metadata": {},
   "source": [
    "### UCL layout for GitHub pages\n",
    "\n",
    "You can use GitHub pages to make HTML layouts, here's an [example of how to do it](http://github.com/UCL/ucl-github-pages-example), \n",
    "and [how it looks](http://ucl.github.com/ucl-github-pages-example). We won't go into the detail of this now, \n",
    "but after the class, you might want to try this."
   ]
  }
 ],
 "metadata": {
  "kernelspec": {
   "display_name": "Python 2",
   "language": "python",
   "name": "python2"
  },
  "language_info": {
   "codemirror_mode": {
    "name": "ipython",
    "version": 2
   },
   "file_extension": ".py",
   "mimetype": "text/x-python",
   "name": "python",
   "nbconvert_exporter": "python",
   "pygments_lexer": "ipython2",
   "version": "2.7.10"
  }
 },
 "nbformat": 4,
 "nbformat_minor": 0
}
