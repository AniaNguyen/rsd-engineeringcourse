{
 "cells": [
  {
   "cell_type": "markdown",
   "metadata": {},
   "source": [
    "---\n",
    "title: Further Git\n",
    "---\n",
    "\n",
    "##Git Theory\n",
    "\n",
    "###A revision Graph\n",
    "\n",
    "![Revisions form a graph](session02/figures/revisions)\n",
    "\n",
    "###Git concepts\n",
    "\n",
    "* Each revision has a parent that it is based on\n",
    "* These revisions form a graph\n",
    "* Each revision has a unique hash code\n",
    "  * In Sue's copy, revision 43 is ab3578d6\n",
    "  * Jim might think that is revision 38, but it's still ab3579d6\n",
    "* Branches, tags, and HEAD are labels pointing at revisions\n",
    "* Some operations (like fast forward merges) just move labels.\n",
    "\n",
    "###The Levels of Git\n",
    "\n",
    "![The relationship between the staging area, working directory, and\n",
    "repositories in git.](session02/figures/distributed_concepts)\n",
    "\n",
    "##Git Reset\n",
    "\n",
    "###Reset for understanding\n",
    "\n",
    "Understanding all the things `git reset` can do requires a good\n",
    "grasp of git theory."
   ]
  },
  {
   "cell_type": "code",
   "execution_count": null,
   "metadata": {},
   "outputs": [],
   "source": [
    "git reset <commit> . #reset index of that path to commit\n",
    "git reset --soft <commit> #Move branch label to commit\n",
    "git reset <commit> #Move branch label, and reset index to commit (\"--mixed\")\n",
    "git reset --hard <commit> #Move branch label, and reset staging area and index to commit"
   ]
  },
  {
   "cell_type": "markdown",
   "metadata": {},
   "source": [
    "###Stash\n",
    "\n",
    "If you find you want to switch branch, or pull, but you're not ready to commit,\n",
    "you can use"
   ]
  },
  {
   "cell_type": "code",
   "execution_count": null,
   "metadata": {},
   "outputs": [],
   "source": [
    "%%bash\n",
    "git stash\n",
    "git checkout master\n",
    "...\n",
    "git checkout mybranch\n",
    "git stash apply"
   ]
  },
  {
   "cell_type": "markdown",
   "metadata": {},
   "source": [
    "The \"Stash\" is a way of temporarily saving your working area, and can help out in a pinch.\n",
    "\n",
    "##Branches\n",
    "\n",
    "###Working with branches\n",
    "\n",
    "![Using branches](session02/figures/branching)\n",
    "\n",
    "###Working with branches in git"
   ]
  },
  {
   "cell_type": "code",
   "execution_count": null,
   "metadata": {
    "attributes": {
     "classes": [
      " Bash"
     ],
     "id": ""
    }
   },
   "outputs": [],
   "source": [
    "git branch # Tell me what branches exist"
   ]
  },
  {
   "cell_type": "code",
   "execution_count": null,
   "metadata": {},
   "outputs": [],
   "source": [
    "   * master # Asterisk tells me which one\n",
    "     experiment # I am currently on"
   ]
  },
  {
   "cell_type": "code",
   "execution_count": null,
   "metadata": {
    "attributes": {
     "classes": [
      " Bash"
     ],
     "id": ""
    }
   },
   "outputs": [],
   "source": [
    "git checkout -b somebranch # Make a new branch\n",
    "git checkout master # Switch to an existing branch"
   ]
  },
  {
   "cell_type": "markdown",
   "metadata": {},
   "source": [
    "###Merging branches"
   ]
  },
  {
   "cell_type": "code",
   "execution_count": null,
   "metadata": {
    "attributes": {
     "classes": [
      " Bash"
     ],
     "id": ""
    }
   },
   "outputs": [],
   "source": [
    "git checkout master # Switch to master branch\n",
    "git checkout mybranch somefolder # Grab code from a branch\n",
    "git merge experiment # Merge the branch in\n",
    "git branch -d experiment # Delete branch locally\n"
   ]
  },
  {
   "cell_type": "markdown",
   "metadata": {},
   "source": [
    "###A good branch strategy\n",
    "\n",
    "* A `production` branch: code used for active work\n",
    "* A `develop` branch: for general new code\n",
    "* `feature` branches: for specific new ideas\n",
    "* `release` branches: when you share code with others\n",
    "  * Useful for isolated bug fixes\n",
    "\n",
    "###Find out what is on a branch\n",
    "\n",
    "In addition to using `git diff` to compare to the state of a branch,\n",
    "you can use `git log` to look at lists of commits which are in a branch\n",
    "and haven't been merged yet."
   ]
  },
  {
   "cell_type": "code",
   "execution_count": null,
   "metadata": {},
   "outputs": [],
   "source": [
    "%%bash\n",
    "git log master..experiment"
   ]
  },
  {
   "cell_type": "markdown",
   "metadata": {},
   "source": [
    "###Referencing multiple commits\n",
    "\n",
    "Git uses various symbols to refer to sets of commits.\n",
    "The double dot `A..B` means \"ancestor of B and not ancestor of A\"\n",
    "\n",
    "So in a linear sequence, it does what you'd expect.\n",
    "\n",
    "But in cases where a history has branches, like `master..experiment`\n",
    "It ends up refering to the unmerged content from the experiment branch.\n",
    "\n",
    "###Log of differences"
   ]
  },
  {
   "cell_type": "code",
   "execution_count": null,
   "metadata": {
    "attributes": {
     "classes": [
      " bash"
     ],
     "id": ""
    }
   },
   "outputs": [],
   "source": [
    "git log --left-right master...experiment"
   ]
  },
  {
   "cell_type": "code",
   "execution_count": null,
   "metadata": {},
   "outputs": [],
   "source": [
    "< ab34 A commit on master but not experiment\n",
    "< d63e ditto\n",
    "> l6mn A commit on experiment but not on master"
   ]
  },
  {
   "cell_type": "markdown",
   "metadata": {},
   "source": [
    "Three dots means \"everything which is not a common ancestor\".\n",
    "\n",
    "It therefore will show the differences between branches.\n",
    "\n",
    "###Grab changes from a branch\n",
    "\n",
    "Make some changes on one branch, switch back to another, and use:"
   ]
  },
  {
   "cell_type": "code",
   "execution_count": null,
   "metadata": {
    "attributes": {
     "classes": [
      " bash"
     ],
     "id": ""
    }
   },
   "outputs": [],
   "source": [
    "git checkout <branch> <path>"
   ]
  },
  {
   "cell_type": "markdown",
   "metadata": {},
   "source": [
    "To grab a file from one branch into another.\n",
    "\n",
    "###Cherry-picking\n",
    "\n",
    "Using `git checkout` with a path takes the content of files.\n",
    "To grab the content of a specific *commit* from another branch,\n",
    "and apply it as a patch to your branch, use:"
   ]
  },
  {
   "cell_type": "code",
   "execution_count": null,
   "metadata": {},
   "outputs": [],
   "source": [
    "%%bash\n",
    "git cherry-pick <commit>\n",
    "git cherry-pick somebranch^^^"
   ]
  },
  {
   "cell_type": "markdown",
   "metadata": {},
   "source": [
    "###Tagging\n",
    "\n",
    "Easy to read labels for revisions\n",
    "Produce real results *only* with tagged revisions"
   ]
  },
  {
   "cell_type": "code",
   "execution_count": null,
   "metadata": {
    "attributes": {
     "classes": [
      " Bash"
     ],
     "id": ""
    }
   },
   "outputs": [],
   "source": [
    "git tag -a v1.3\n",
    "git push --tags"
   ]
  },
  {
   "cell_type": "markdown",
   "metadata": {},
   "source": [
    "##Working with generated files\n",
    "\n",
    "###Gitignore\n",
    "\n",
    "Use .gitignore files to tell Git not to pay attention to files with certain paths:"
   ]
  },
  {
   "cell_type": "code",
   "execution_count": null,
   "metadata": {},
   "outputs": [],
   "source": [
    "*.o\n",
    "*.exe\n",
    "*.tmp"
   ]
  },
  {
   "cell_type": "markdown",
   "metadata": {},
   "source": [
    "###Git clean"
   ]
  },
  {
   "cell_type": "code",
   "execution_count": null,
   "metadata": {},
   "outputs": [],
   "source": [
    "git clean"
   ]
  },
  {
   "cell_type": "markdown",
   "metadata": {},
   "source": [
    "With -f: don't prompt\n",
    "with -d: remove directories\n",
    "with -x: Also remote .gitignored files\n",
    "with -X: Only remove .gitignore files\n",
    "\n",
    "##Working with multiple remotes\n",
    "\n",
    "###Distributed versus centralised\n",
    "\n",
    "Centralised                      Distributed\n",
    "------------------               --------------\n",
    "Server has history               Every user has full history\n",
    "Your computer has one snapshot   Many local branches\n",
    "To access history, need internet History always available\n",
    "You commit to remote server      Users synchronise histories\n",
    "cvs, subversion(svn)             git, mercurial (hg), bazaar (bzr)\n",
    "\n",
    "###Centralised VCS concepts\n",
    "\n",
    "* There is one, linear history of changes on the server or **repository**\n",
    "* Each revision has a unique, sequential identifier (1,2,3,4...)\n",
    "* You have a **working copy**\n",
    "* You **update** the working copy to match the state of the repository\n",
    "* If someone else has changed the repository while you were working:\n",
    "  * You update to get their changes\n",
    "  * You have to **resolve conflicts**\n",
    "  * Then you commit\n",
    "\n",
    "###Centralised VCS diagram\n",
    "\n",
    "![A centralised server with three clients](session02/figures/centralised)\n",
    "\n",
    "###Distributed VCS in principle\n",
    "\n",
    "![How distributed VCS works in principle](session02/figures/distributed_principle)\n",
    "\n",
    "###Distributed VCS in practice\n",
    "\n",
    "![How distributed VCS works in practice](session02/figures/distributed_practice)"
   ]
  },
  {
   "cell_type": "code",
   "execution_count": null,
   "metadata": {
    "attributes": {
     "classes": [
      " Bash"
     ],
     "id": ""
    }
   },
   "outputs": [],
   "source": [
    "git remote add sue ssh://sue.ucl.ac.uk/somerepo\n",
    "   # Add a second remote\n",
    "git remote\n",
    "   # List available remotes\n",
    "git push sue\n",
    "   # Push to a specific remote\n",
    "   # Default is origin"
   ]
  },
  {
   "cell_type": "markdown",
   "metadata": {},
   "source": [
    "###Referencing remotes\n",
    "\n",
    "You can always refer to commits on a remote like this:"
   ]
  },
  {
   "cell_type": "code",
   "execution_count": null,
   "metadata": {},
   "outputs": [],
   "source": [
    "git fetch\n",
    "git log origin.. #abbreviates origin/master..HEAD"
   ]
  },
  {
   "cell_type": "markdown",
   "metadata": {},
   "source": [
    "Which will show you what you've done that's not in the remote's master.\n",
    "\n",
    "You need to fetch, to update the local copy of what's happening remotely.\n",
    "\n",
    "###Remotes and tracking branches"
   ]
  },
  {
   "cell_type": "code",
   "execution_count": null,
   "metadata": {},
   "outputs": [],
   "source": [
    "git branch -vv\n",
    "* develop 583fd97 [origin/develop: ahead 1] More git tips and tricks\n",
    "  master  5732041 [origin/master: behind 2] Add generated pdf\n",
    "  staging 502fa7b [origin/staging] Copy in notes from old rits training repository"
   ]
  },
  {
   "cell_type": "markdown",
   "metadata": {},
   "source": [
    "Local branches can be, but do not have to be, connected to remote branches\n",
    "They are said to \"track\" remote branches\n",
    "\n",
    "###Publishing branches\n",
    "\n",
    "To let the server know there's a new branch use:"
   ]
  },
  {
   "cell_type": "code",
   "execution_count": null,
   "metadata": {},
   "outputs": [],
   "source": [
    "git push --set-upstream origin experiment"
   ]
  },
  {
   "cell_type": "markdown",
   "metadata": {},
   "source": [
    "We use `--set-upstream origin` (Abbreviation `-u`) to tell git that this branch should be pushed to and pulled from origin per default.\n",
    "\n",
    "You should be able to see your branch in the list of branches in GitHub.\n",
    "\n",
    "###Sharing branches"
   ]
  },
  {
   "cell_type": "code",
   "execution_count": null,
   "metadata": {
    "attributes": {
     "classes": [
      " Bash"
     ],
     "id": ""
    }
   },
   "outputs": [],
   "source": [
    "git push -u origin experiment # Share a recently\n",
    "                              # made branch\n",
    "git push origin experiment #Republish a branch\n",
    "git branch -r #Discover remote branches\n",
    "git checkout origin/some_branch #Get a branch\n",
    "                                #from a remote"
   ]
  },
  {
   "cell_type": "markdown",
   "metadata": {},
   "source": [
    "###Pruning branches\n",
    "\n",
    "Once you get good at branches, you'll end up with loads.\n",
    "\n",
    "Some will be on the remote, and tracked locally.\n",
    "Some will be local only.\n",
    "Some might be deleted locally, but still on the remote\n",
    "\n",
    "Deleting local branches is easy:\n",
    "\n",
    "###Pruning locally\n",
    "\n",
    "Which local branches are merged?"
   ]
  },
  {
   "cell_type": "code",
   "execution_count": null,
   "metadata": {
    "attributes": {
     "classes": [
      " bash"
     ],
     "id": ""
    }
   },
   "outputs": [],
   "source": [
    "git branch --merged\n",
    "> deadbranch\n",
    "> * master\n",
    "git branch -d deadbranch\n",
    "  # -D to force removal if not merged\n",
    "git fetch --prune\n",
    "  # Remove local branches deleted remotely"
   ]
  },
  {
   "cell_type": "markdown",
   "metadata": {},
   "source": [
    "###Pruning remote branches"
   ]
  },
  {
   "cell_type": "code",
   "execution_count": null,
   "metadata": {
    "attributes": {
     "classes": [
      " bash"
     ],
     "id": ""
    }
   },
   "outputs": [],
   "source": [
    "git push --delete experiment # Delete published branch\n",
    "git push --prune # Dangerous, remove remote branches deleted locally"
   ]
  },
  {
   "cell_type": "markdown",
   "metadata": {},
   "source": [
    "If using github, I recommend removing branches using the\n",
    "GitHub gui (click branches, then click \"view merged branches\")\n",
    "\n",
    "##Hosting Servers\n",
    "\n",
    "###Hosting a local server\n",
    "\n",
    "* Any repository can be a remote for pulls\n",
    "* Can pull/push over shared folders or ssh\n",
    "* Pushing to someone's working copy is dangerous\n",
    "* Use `git init --bare` to make a copy for pushing\n",
    "* You don't need to create a \"server\"\n",
    "\n",
    "###Hosting a server in the cloud\n",
    "\n",
    "GitHub and Bitbucket can be used to create repositories in the cloud.\n",
    "\n",
    "The materials for this course are [on the web](https://github.com/UCL/rsd-engineeringcourse): you can modify them to build your own course!\n",
    "\n",
    "You can clone the materials for this course:"
   ]
  },
  {
   "cell_type": "code",
   "execution_count": null,
   "metadata": {
    "attributes": {
     "classes": [
      " bash"
     ],
     "id": ""
    }
   },
   "outputs": [],
   "source": [
    "git clone git@github.com:UCL/rsd-engineeringcourse.git"
   ]
  },
  {
   "cell_type": "markdown",
   "metadata": {},
   "source": [
    "###File system servers\n",
    "\n",
    "Classroom exercise: Try working with multiple remotes by making another server for yourself on your local computer."
   ]
  },
  {
   "cell_type": "code",
   "execution_count": null,
   "metadata": {
    "attributes": {
     "classes": [
      " bash"
     ],
     "id": ""
    }
   },
   "outputs": [],
   "source": [
    "cd <somewhere else>\n",
    "mkdir myotherrepo\n",
    "cd myotherrepo\n",
    "git init --bare\n",
    "cd <back to my main repository>\n",
    "git remote add localbackup /full/path/to/local/repository\n",
    "git push -u localbackup master"
   ]
  },
  {
   "cell_type": "markdown",
   "metadata": {},
   "source": [
    "You can now work with this local repository, just as with any other git server.\n",
    "If you have a colleague on a shared file system, you can use this approach to collaborate through that file system.\n",
    "\n",
    "###SSH servers\n",
    "\n",
    "Classroom exercise: Try creating a server for yourself using a machine you can SSH to:"
   ]
  },
  {
   "cell_type": "code",
   "execution_count": null,
   "metadata": {},
   "outputs": [],
   "source": [
    "ssh <mymachine>\n",
    "mkdir mygitserver\n",
    "cd mygitserver\n",
    "git init --bare\n",
    "exit\n",
    "git remote add <somename> ssh://user@host/mygitserver\n",
    "git push -u <somename> master"
   ]
  },
  {
   "cell_type": "markdown",
   "metadata": {},
   "source": [
    "##Hunks\n",
    "\n",
    "###Git Hunks\n",
    "\n",
    "A \"Hunk\" is one git change. This changeset has three hunks:"
   ]
  },
  {
   "cell_type": "code",
   "execution_count": null,
   "metadata": {
    "attributes": {
     "classes": [
      " diff"
     ],
     "id": ""
    }
   },
   "outputs": [],
   "source": [
    "+import matplotlib\n",
    "+import numpy as np\n",
    "\n",
    " from matplotlib import pylab\n",
    " from matplotlib.backends.backend_pdf import PdfPages\n",
    "\n",
    "+def increment_or_add(key,hash,weight=1):\n",
    "+       if key not in hash:\n",
    "+               hash[key]=0\n",
    "+       hash[key]+=weight\n",
    "+\n",
    " data_path=os.path.join(os.path.dirname(\n",
    "                        os.path.abspath(__file__)),\n",
    "-regenerate=False\n",
    "+regenerate=True"
   ]
  },
  {
   "cell_type": "markdown",
   "metadata": {},
   "source": [
    "###Interactive add\n",
    "\n",
    "`git add` and `git reset` can be used to stage/unstage a whole file,\n",
    "but you can use interactive mode to stage by hunk, choosing\n",
    "yes or no for each hunk."
   ]
  },
  {
   "cell_type": "code",
   "execution_count": null,
   "metadata": {},
   "outputs": [],
   "source": [
    "git add -p myfile.py\n"
   ]
  },
  {
   "cell_type": "code",
   "execution_count": null,
   "metadata": {
    "attributes": {
     "classes": [
      " diff"
     ],
     "id": ""
    }
   },
   "outputs": [],
   "source": [
    "+import matplotlib\n",
    "+import numpy as np\n",
    "#Stage this hunk [y,n,a,d,/,j,J,g,e,?]?"
   ]
  },
  {
   "cell_type": "markdown",
   "metadata": {},
   "source": [
    "###SSH keys and GitHub\n",
    "\n",
    "Classroom exercise: If you haven't already, you should set things up so that you don't have to keep typing in your\n",
    "password whenever you interact with GitHub via the command line.\n",
    "\n",
    "You can do this with an \"ssh keypair\". You may have created a keypair in the\n",
    "Software Carpentry shell training. Go to the [ssh settings\n",
    "page](https://github.com/settings/ssh) on GitHub and upload your public key by\n",
    "copying the content from your computer. (Probably at .ssh/id_rsa.pub)\n",
    "\n",
    "If you have difficulties, the instructions for this are [on the GitHub\n",
    "website](https://help.github.com/articles/generating-ssh-keys). \n",
    "\n",
    "##Rebasing\n",
    "\n",
    "###Rebase vs merge\n",
    "\n",
    "A git *merge* is only one of two ways to get someone else's work into yours.\n",
    "The other is called a rebase.\n",
    "\n",
    "In a merge, a revision is added, which brings the branches together. Both histories are retained.\n",
    "In a rebase, git tries to work out\n",
    "\n",
    "> What would you need to have done, to make your changes, if your colleague had already made theirs?\n",
    "\n",
    "Git will invent some new revisions, and the result will be a repository with an apparently linear history.\n",
    "\n",
    "###An example rebase (Jim)\n",
    "\n",
    "Initial state:\n",
    "\n",
    "Revision ab34:"
   ]
  },
  {
   "cell_type": "code",
   "execution_count": null,
   "metadata": {},
   "outputs": [],
   "source": [
    "It was clear and cold,\n",
    "and the slimy monsters"
   ]
  },
  {
   "cell_type": "markdown",
   "metadata": {},
   "source": [
    "Revision de56, child of ab34:"
   ]
  },
  {
   "cell_type": "code",
   "execution_count": null,
   "metadata": {},
   "outputs": [],
   "source": [
    "It was clear and cold,\n",
    "and the slimy monsters\n",
    "danced and spun in the waves"
   ]
  },
  {
   "cell_type": "markdown",
   "metadata": {},
   "source": [
    "###An example rebase (Sue)\n",
    "\n",
    "Revision ab34:"
   ]
  },
  {
   "cell_type": "code",
   "execution_count": null,
   "metadata": {},
   "outputs": [],
   "source": [
    "It was clear and cold,\n",
    "and the slimy monsters"
   ]
  },
  {
   "cell_type": "markdown",
   "metadata": {},
   "source": [
    "Revision aj72, child of ab34:"
   ]
  },
  {
   "cell_type": "code",
   "execution_count": null,
   "metadata": {},
   "outputs": [],
   "source": [
    "'Twas brillig,\n",
    "and the slithy toves"
   ]
  },
  {
   "cell_type": "markdown",
   "metadata": {},
   "source": [
    "###An example rebase (Jim merges)"
   ]
  },
  {
   "cell_type": "code",
   "execution_count": null,
   "metadata": {},
   "outputs": [],
   "source": [
    "%%bash\n",
    "git pull sue"
   ]
  },
  {
   "cell_type": "markdown",
   "metadata": {},
   "source": [
    "Revision ab34:"
   ]
  },
  {
   "cell_type": "code",
   "execution_count": null,
   "metadata": {},
   "outputs": [],
   "source": [
    "It was clear and cold,\n",
    "and the slimy monsters"
   ]
  },
  {
   "cell_type": "markdown",
   "metadata": {},
   "source": [
    "Revision de56, child of ab34:"
   ]
  },
  {
   "cell_type": "code",
   "execution_count": null,
   "metadata": {},
   "outputs": [],
   "source": [
    "It was clear and cold,\n",
    "and the slimy monsters\n",
    "danced and span in the waves"
   ]
  },
  {
   "cell_type": "markdown",
   "metadata": {},
   "source": [
    "Revision kp42, child of de56 and of aj72:"
   ]
  },
  {
   "cell_type": "code",
   "execution_count": null,
   "metadata": {},
   "outputs": [],
   "source": [
    "'Twas brillig,\n",
    "and the slithy toves\n",
    "danced and span in the waves"
   ]
  },
  {
   "cell_type": "markdown",
   "metadata": {},
   "source": [
    "###An example rebase (Jim rebases)"
   ]
  },
  {
   "cell_type": "code",
   "execution_count": null,
   "metadata": {},
   "outputs": [],
   "source": [
    "%%bash\n",
    "git pull sue --rebase\n",
    "# or git rebase mybranch"
   ]
  },
  {
   "cell_type": "markdown",
   "metadata": {},
   "source": [
    "Revision ab34:"
   ]
  },
  {
   "cell_type": "code",
   "execution_count": null,
   "metadata": {},
   "outputs": [],
   "source": [
    "It was clear and cold,\n",
    "and the slimy monsters"
   ]
  },
  {
   "cell_type": "markdown",
   "metadata": {},
   "source": [
    "Revision aj72, child of ab34:"
   ]
  },
  {
   "cell_type": "code",
   "execution_count": null,
   "metadata": {},
   "outputs": [],
   "source": [
    "'Twas brillig,\n",
    "and the slithy toves"
   ]
  },
  {
   "cell_type": "markdown",
   "metadata": {},
   "source": [
    "Revision lz46, child of aj72:"
   ]
  },
  {
   "cell_type": "code",
   "execution_count": null,
   "metadata": {},
   "outputs": [],
   "source": [
    "'Twas brillig,\n",
    "and the slithy toves\n",
    "danced and span in the waves"
   ]
  },
  {
   "cell_type": "markdown",
   "metadata": {},
   "source": [
    "###Fast Forwards\n",
    "\n",
    "When Sue now tries to pull Jim's work, the merge will be a *fast forward*:\n",
    "\n",
    "Jim's work is now based on Sue's, so moving Sue's repository to be in sync with Jim is\n",
    "just a question of moving Sue's HEAD label.\n",
    "\n",
    "###Rebasing pros and cons\n",
    "\n",
    "Some people like the clean, apparently linear history.\n",
    "But *rebase rewrites history*.\n",
    "If you've already pushed, or anyone else has got your changes, things will get screwed up.\n",
    "\n",
    "If you know your changes are still secret, it might be better to rebase to keep the history clean.\n",
    "If in doubt, just merge.\n",
    "\n",
    "###Thousands of tiny commits\n",
    "\n",
    "A common use of rebase is to rebase your work on top of one of your earlier commits,\n",
    "in interactive mode, to \"squash\" several commits that should really be one:"
   ]
  },
  {
   "cell_type": "code",
   "execution_count": null,
   "metadata": {
    "attributes": {
     "classes": [
      " bash"
     ],
     "id": ""
    }
   },
   "outputs": [],
   "source": [
    "git log"
   ]
  },
  {
   "cell_type": "code",
   "execution_count": null,
   "metadata": {},
   "outputs": [],
   "source": [
    "ab11 A great piece of work\n",
    "de73 Fix a typo\n",
    "ll54 Fix another typo"
   ]
  },
  {
   "cell_type": "markdown",
   "metadata": {},
   "source": [
    "###Using rebase to squash"
   ]
  },
  {
   "cell_type": "code",
   "execution_count": null,
   "metadata": {
    "attributes": {
     "classes": [
      " bash"
     ],
     "id": ""
    }
   },
   "outputs": [],
   "source": [
    "git rebase -i ab11 #OR HEAD^^"
   ]
  },
  {
   "cell_type": "code",
   "execution_count": null,
   "metadata": {},
   "outputs": [],
   "source": [
    "pick ab11 A great piece of work\n",
    "pick de73 Fix a typo\n",
    "pick ll54 Fix another typo\n",
    "\n",
    "# Rebase 60709da..30e0ccb onto 60709da\n",
    "#\n",
    "# Commands:\n",
    "#  p, pick = use commit\n",
    "#  e, edit = use commit, but stop for amending\n",
    "#  s, squash = use commit, but meld into previous commit"
   ]
  },
  {
   "cell_type": "markdown",
   "metadata": {},
   "source": [
    "###Rebasing\n",
    "\n",
    "Classroom exercise: Get together with a partner, or use a branch or a remote of your own, and set yourself up a\n",
    "situation where you'd be about to merge. Instead, use a rebase.\n",
    "\n",
    "Use `git log --graph --oneline` to see how the changes have been applied as a linear sequence.\n",
    "\n",
    "###Squashing\n",
    "\n",
    "Classrooom exercise: Make several commits which should really be one, then use"
   ]
  },
  {
   "cell_type": "code",
   "execution_count": null,
   "metadata": {},
   "outputs": [],
   "source": [
    "%%bash\n",
    "git rebase -i <commit>"
   ]
  },
  {
   "cell_type": "markdown",
   "metadata": {},
   "source": [
    "to squash them.\n",
    "\n",
    "\n",
    "##Debugging\n",
    "\n",
    "###Debugging With Git Bisect\n",
    "\n",
    "You can use"
   ]
  },
  {
   "cell_type": "code",
   "execution_count": null,
   "metadata": {
    "attributes": {
     "classes": [
      " bash"
     ],
     "id": ""
    }
   },
   "outputs": [],
   "source": [
    "git bisect"
   ]
  },
  {
   "cell_type": "markdown",
   "metadata": {},
   "source": [
    "to find out which commit caused a bug.\n",
    "\n",
    "###Git Bisect Details"
   ]
  },
  {
   "cell_type": "code",
   "execution_count": null,
   "metadata": {
    "attributes": {
     "classes": [
      " bash"
     ],
     "id": ""
    }
   },
   "outputs": [],
   "source": [
    "git bisect start\n",
    "git bisect good\n",
    "git bisect bad\n",
    "git bisect good\n",
    "git bisect reset"
   ]
  },
  {
   "cell_type": "markdown",
   "metadata": {},
   "source": [
    "Automated Bisect"
   ]
  },
  {
   "cell_type": "code",
   "execution_count": null,
   "metadata": {},
   "outputs": [],
   "source": [
    "git bisect run py.test"
   ]
  },
  {
   "cell_type": "markdown",
   "metadata": {},
   "source": [
    "###An example repository\n",
    "\n",
    "In a nice open source example, I found an arbitrary exemplar on github"
   ]
  },
  {
   "cell_type": "code",
   "execution_count": null,
   "metadata": {
    "attributes": {
     "classes": [
      " bash"
     ],
     "id": ""
    }
   },
   "outputs": [],
   "source": [
    "git clone git@github.com:shawnsi/bisectdemo.git\n",
    "cd bisectdemo\n",
    "python squares.py 2 # 4"
   ]
  },
  {
   "cell_type": "markdown",
   "metadata": {},
   "source": [
    "This has been set up to break itself at a random commit, and leave you to use\n",
    "bisect to work out where it has broken:"
   ]
  },
  {
   "cell_type": "code",
   "execution_count": null,
   "metadata": {
    "attributes": {
     "classes": [
      " bash"
     ],
     "id": ""
    }
   },
   "outputs": [],
   "source": [
    "./breakme.sh"
   ]
  },
  {
   "cell_type": "markdown",
   "metadata": {},
   "source": [
    "Which will make a bunch of commits, of which one is broken, and leave you in the broken one"
   ]
  },
  {
   "cell_type": "code",
   "execution_count": null,
   "metadata": {
    "attributes": {
     "classes": [
      " bash"
     ],
     "id": ""
    }
   },
   "outputs": [],
   "source": [
    "python squares.py 2 # Error message\n",
    "\n",
    "###Getting started with your bisect\n",
    "\n",
    "``` bash\n",
    "git bisect start\n",
    "git bisect bad # We know the current state is broken\n",
    "git checkout master\n",
    "git bisect good # Or just git bisect good master"
   ]
  },
  {
   "cell_type": "markdown",
   "metadata": {},
   "source": [
    "Note it needs one known good and one known bad commit to get started\n",
    "\n",
    "###Solving Manually"
   ]
  },
  {
   "cell_type": "code",
   "execution_count": null,
   "metadata": {
    "attributes": {
     "classes": [
      " bash"
     ],
     "id": ""
    }
   },
   "outputs": [],
   "source": [
    "python squares.py 2\n",
    "git bisect good #OR bad\n",
    "python squares.py\n",
    "git bisect good #OR bad"
   ]
  },
  {
   "cell_type": "markdown",
   "metadata": {},
   "source": [
    "And eventually:"
   ]
  },
  {
   "cell_type": "code",
   "execution_count": null,
   "metadata": {
    "attributes": {
     "classes": [
      " bash"
     ],
     "id": ""
    }
   },
   "outputs": [],
   "source": [
    "git bisect good\n",
    "> Bisecting: 0 revisions left to test after this (roughly 0 steps)\n",
    "python squares.py 9\n",
    "> TypeError: unsupported operand type(s) for ** or pow(): 'str' and 'int'\n",
    "git bisect bad\n",
    "> 13cfff692c8c9b9ec3564140c94eb371328cef52 is the first bad commit\n",
    "> Author: Shawn Siefkas <shawn.siefkas@meredith.com>\n",
    "> Date:   Thu Nov 14 09:23:55 2013 -0600\n",
    "> Breaking argument type\n",
    "git bisect reset"
   ]
  },
  {
   "cell_type": "markdown",
   "metadata": {},
   "source": [
    "###Solving automatically"
   ]
  },
  {
   "cell_type": "code",
   "execution_count": null,
   "metadata": {
    "attributes": {
     "classes": [
      " bash"
     ],
     "id": ""
    }
   },
   "outputs": [],
   "source": [
    "git bisect bad HEAD # We know the current state is broken\n",
    "git bisect good master\n",
    "git bisect run python squares.py 2\n",
    "> 13cfff692c8c9b9ec3564140c94eb371328cef52 is the first bad commit"
   ]
  },
  {
   "cell_type": "markdown",
   "metadata": {},
   "source": [
    "##GitHub pages\n",
    "\n",
    "###Yaml Frontmatter\n",
    "\n",
    "GitHub will publish repositories containing markdown as web pages, automatically. \n",
    "\n",
    "You'll need to add this content:\n",
    "\n",
    "> ```\n",
    ">    ---\n",
    ">    ---\n",
    "> ```\n",
    "\n",
    "A pair of lines with three dashes, to the top of each markdown file. This is how GitHub knows which markdown files to make into web pages.\n",
    "[Here's why](https://github.com/mojombo/jekyll/wiki/YAML-Front-Matter) for the curious. \n",
    "\n",
    "###The gh-pages branch\n",
    "\n",
    "GitHub creates github pages when you use a special named branch.\n",
    "\n",
    "This is best used to create documentation for a program you write, but you can use it for anything."
   ]
  },
  {
   "cell_type": "code",
   "execution_count": null,
   "metadata": {
    "attributes": {
     "classes": [
      " Bash"
     ],
     "id": ""
    }
   },
   "outputs": [],
   "source": [
    "git checkout -b gh-pages\n",
    "git push -u origin gh-pages"
   ]
  },
  {
   "cell_type": "markdown",
   "metadata": {},
   "source": [
    "The first time you do this, GitHub takes a few minutes to generate your pages. \n",
    "\n",
    "The website will appear at `http://username.github.com/repositoryname`, for example, here's [mine](http://jamespjh.github.com/jh-ucl-swcarpentry-answers/)\n",
    "\n",
    "###Markdown Hyperlinks\n",
    "\n",
    "You can use this syntax"
   ]
  },
  {
   "cell_type": "code",
   "execution_count": null,
   "metadata": {},
   "outputs": [],
   "source": [
    "[link text](URL)"
   ]
  },
  {
   "cell_type": "markdown",
   "metadata": {},
   "source": [
    "To create hyperlinks in your pages, so you can link between your documents. Try it! \n",
    "\n",
    "###UCL layout for GitHub pages\n",
    "\n",
    "You can use GitHub pages to make HTML layouts, here's an [example of how to do it](http://github.com/UCL/ucl-github-pages-example), \n",
    "and [how it looks](http://ucl.github.com/ucl-github-pages-example). We won't go into the detail of this now, \n",
    "but after the class, you might want to try this.\n",
    "\n",
    "\n",
    "---\n",
    "title: Further Git\n",
    "---\n",
    "\n",
    "## Further Git\n",
    "### More complex codes require more careful management.\n",
    "\n",
    "We're now starting to work with more complicated projects, with work running on several strands.\n",
    "\n",
    "Mistakes are becoming more common. We need to take our understanding of Git up a notch.\n",
    "\n",
    "First, a recap:\n",
    "\n",
    "###Distributed VCS concepts\n",
    "\n",
    "* You have a *working copy*\n",
    "* You pick a subset of the changes in your working copy\n",
    "  to add to the next commit\n",
    "* Changes to be included in the next commit are kept in a\n",
    "  **staging area** (a.k.a. **index**)\n",
    "* When you commit you commit:\n",
    "  * From the staging area\n",
    "  * To the local repository\n",
    "* You **push** to **remote** repositories to share or publish\n",
    "* You **pull** (or fetch) to bring in changes from a remote\n",
    "\n",
    "###Solo Workflow\n",
    "\n",
    "![Working alone with git](session02/figures/distributed_solo)\n",
    "\n",
    "###Publishing\n",
    "\n",
    "![Publishing with git](session02/figures/distributed_solo_publishing)\n",
    "\n",
    "###Teams without conflicts\n",
    "\n",
    "![Teamworking in git](session02/figures/distributed_shared_noconflict)\n",
    "\n",
    "###Teams with conflicts\n",
    "\n",
    "![Teamworking in git with conflicts](session02/figures/distributed_shared_conflicted)"
   ]
  }
 ],
 "metadata": {},
 "nbformat": 4,
 "nbformat_minor": 0
}
